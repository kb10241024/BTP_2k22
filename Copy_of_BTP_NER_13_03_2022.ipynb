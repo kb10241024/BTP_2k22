{
  "nbformat": 4,
  "nbformat_minor": 0,
  "metadata": {
    "colab": {
      "name": "Copy of BTP-NER-13/03/2022.ipynb",
      "provenance": [],
      "collapsed_sections": [
        "d31gnG_dtQDO",
        "GgZv10IAzvBE",
        "xN0qYtQtAG_h",
        "3mQo6bEbBmtv",
        "KANYDc0h74u5"
      ],
      "include_colab_link": true
    },
    "kernelspec": {
      "name": "python3",
      "display_name": "Python 3"
    },
    "language_info": {
      "name": "python"
    },
    "accelerator": "GPU",
    "widgets": {
      "application/vnd.jupyter.widget-state+json": {
        "77ca3b80bb88443eb43c4210e3ede9dd": {
          "model_module": "@jupyter-widgets/controls",
          "model_name": "HBoxModel",
          "model_module_version": "1.5.0",
          "state": {
            "_dom_classes": [],
            "_model_module": "@jupyter-widgets/controls",
            "_model_module_version": "1.5.0",
            "_model_name": "HBoxModel",
            "_view_count": null,
            "_view_module": "@jupyter-widgets/controls",
            "_view_module_version": "1.5.0",
            "_view_name": "HBoxView",
            "box_style": "",
            "children": [
              "IPY_MODEL_a9ec9c55f1a54b80a624a29692443432",
              "IPY_MODEL_994e9cf69e9f48f3b0d3fe47498b6006",
              "IPY_MODEL_5ccf6b4492f140db8fe03c66d08e1ca3"
            ],
            "layout": "IPY_MODEL_8bc70de1f1cf4831b69221843b3e4718"
          }
        },
        "a9ec9c55f1a54b80a624a29692443432": {
          "model_module": "@jupyter-widgets/controls",
          "model_name": "HTMLModel",
          "model_module_version": "1.5.0",
          "state": {
            "_dom_classes": [],
            "_model_module": "@jupyter-widgets/controls",
            "_model_module_version": "1.5.0",
            "_model_name": "HTMLModel",
            "_view_count": null,
            "_view_module": "@jupyter-widgets/controls",
            "_view_module_version": "1.5.0",
            "_view_name": "HTMLView",
            "description": "",
            "description_tooltip": null,
            "layout": "IPY_MODEL_443304dec1314c09ab1cda63a9dc208b",
            "placeholder": "​",
            "style": "IPY_MODEL_56207026e7644fb6969d70d8be22a1e8",
            "value": "Downloading: 100%"
          }
        },
        "994e9cf69e9f48f3b0d3fe47498b6006": {
          "model_module": "@jupyter-widgets/controls",
          "model_name": "FloatProgressModel",
          "model_module_version": "1.5.0",
          "state": {
            "_dom_classes": [],
            "_model_module": "@jupyter-widgets/controls",
            "_model_module_version": "1.5.0",
            "_model_name": "FloatProgressModel",
            "_view_count": null,
            "_view_module": "@jupyter-widgets/controls",
            "_view_module_version": "1.5.0",
            "_view_name": "ProgressView",
            "bar_style": "success",
            "description": "",
            "description_tooltip": null,
            "layout": "IPY_MODEL_f2557fd3aa4144ea9183f7b1645fb8d6",
            "max": 871891,
            "min": 0,
            "orientation": "horizontal",
            "style": "IPY_MODEL_4420cb732a0140aca96e3fbddafabc25",
            "value": 871891
          }
        },
        "5ccf6b4492f140db8fe03c66d08e1ca3": {
          "model_module": "@jupyter-widgets/controls",
          "model_name": "HTMLModel",
          "model_module_version": "1.5.0",
          "state": {
            "_dom_classes": [],
            "_model_module": "@jupyter-widgets/controls",
            "_model_module_version": "1.5.0",
            "_model_name": "HTMLModel",
            "_view_count": null,
            "_view_module": "@jupyter-widgets/controls",
            "_view_module_version": "1.5.0",
            "_view_name": "HTMLView",
            "description": "",
            "description_tooltip": null,
            "layout": "IPY_MODEL_c8496318240c41c8a03bcc7b0dd1b3b1",
            "placeholder": "​",
            "style": "IPY_MODEL_bdaf275511c94b6d9c51dd58223d16fe",
            "value": " 851k/851k [00:00&lt;00:00, 8.45MB/s]"
          }
        },
        "8bc70de1f1cf4831b69221843b3e4718": {
          "model_module": "@jupyter-widgets/base",
          "model_name": "LayoutModel",
          "model_module_version": "1.2.0",
          "state": {
            "_model_module": "@jupyter-widgets/base",
            "_model_module_version": "1.2.0",
            "_model_name": "LayoutModel",
            "_view_count": null,
            "_view_module": "@jupyter-widgets/base",
            "_view_module_version": "1.2.0",
            "_view_name": "LayoutView",
            "align_content": null,
            "align_items": null,
            "align_self": null,
            "border": null,
            "bottom": null,
            "display": null,
            "flex": null,
            "flex_flow": null,
            "grid_area": null,
            "grid_auto_columns": null,
            "grid_auto_flow": null,
            "grid_auto_rows": null,
            "grid_column": null,
            "grid_gap": null,
            "grid_row": null,
            "grid_template_areas": null,
            "grid_template_columns": null,
            "grid_template_rows": null,
            "height": null,
            "justify_content": null,
            "justify_items": null,
            "left": null,
            "margin": null,
            "max_height": null,
            "max_width": null,
            "min_height": null,
            "min_width": null,
            "object_fit": null,
            "object_position": null,
            "order": null,
            "overflow": null,
            "overflow_x": null,
            "overflow_y": null,
            "padding": null,
            "right": null,
            "top": null,
            "visibility": null,
            "width": null
          }
        },
        "443304dec1314c09ab1cda63a9dc208b": {
          "model_module": "@jupyter-widgets/base",
          "model_name": "LayoutModel",
          "model_module_version": "1.2.0",
          "state": {
            "_model_module": "@jupyter-widgets/base",
            "_model_module_version": "1.2.0",
            "_model_name": "LayoutModel",
            "_view_count": null,
            "_view_module": "@jupyter-widgets/base",
            "_view_module_version": "1.2.0",
            "_view_name": "LayoutView",
            "align_content": null,
            "align_items": null,
            "align_self": null,
            "border": null,
            "bottom": null,
            "display": null,
            "flex": null,
            "flex_flow": null,
            "grid_area": null,
            "grid_auto_columns": null,
            "grid_auto_flow": null,
            "grid_auto_rows": null,
            "grid_column": null,
            "grid_gap": null,
            "grid_row": null,
            "grid_template_areas": null,
            "grid_template_columns": null,
            "grid_template_rows": null,
            "height": null,
            "justify_content": null,
            "justify_items": null,
            "left": null,
            "margin": null,
            "max_height": null,
            "max_width": null,
            "min_height": null,
            "min_width": null,
            "object_fit": null,
            "object_position": null,
            "order": null,
            "overflow": null,
            "overflow_x": null,
            "overflow_y": null,
            "padding": null,
            "right": null,
            "top": null,
            "visibility": null,
            "width": null
          }
        },
        "56207026e7644fb6969d70d8be22a1e8": {
          "model_module": "@jupyter-widgets/controls",
          "model_name": "DescriptionStyleModel",
          "model_module_version": "1.5.0",
          "state": {
            "_model_module": "@jupyter-widgets/controls",
            "_model_module_version": "1.5.0",
            "_model_name": "DescriptionStyleModel",
            "_view_count": null,
            "_view_module": "@jupyter-widgets/base",
            "_view_module_version": "1.2.0",
            "_view_name": "StyleView",
            "description_width": ""
          }
        },
        "f2557fd3aa4144ea9183f7b1645fb8d6": {
          "model_module": "@jupyter-widgets/base",
          "model_name": "LayoutModel",
          "model_module_version": "1.2.0",
          "state": {
            "_model_module": "@jupyter-widgets/base",
            "_model_module_version": "1.2.0",
            "_model_name": "LayoutModel",
            "_view_count": null,
            "_view_module": "@jupyter-widgets/base",
            "_view_module_version": "1.2.0",
            "_view_name": "LayoutView",
            "align_content": null,
            "align_items": null,
            "align_self": null,
            "border": null,
            "bottom": null,
            "display": null,
            "flex": null,
            "flex_flow": null,
            "grid_area": null,
            "grid_auto_columns": null,
            "grid_auto_flow": null,
            "grid_auto_rows": null,
            "grid_column": null,
            "grid_gap": null,
            "grid_row": null,
            "grid_template_areas": null,
            "grid_template_columns": null,
            "grid_template_rows": null,
            "height": null,
            "justify_content": null,
            "justify_items": null,
            "left": null,
            "margin": null,
            "max_height": null,
            "max_width": null,
            "min_height": null,
            "min_width": null,
            "object_fit": null,
            "object_position": null,
            "order": null,
            "overflow": null,
            "overflow_x": null,
            "overflow_y": null,
            "padding": null,
            "right": null,
            "top": null,
            "visibility": null,
            "width": null
          }
        },
        "4420cb732a0140aca96e3fbddafabc25": {
          "model_module": "@jupyter-widgets/controls",
          "model_name": "ProgressStyleModel",
          "model_module_version": "1.5.0",
          "state": {
            "_model_module": "@jupyter-widgets/controls",
            "_model_module_version": "1.5.0",
            "_model_name": "ProgressStyleModel",
            "_view_count": null,
            "_view_module": "@jupyter-widgets/base",
            "_view_module_version": "1.2.0",
            "_view_name": "StyleView",
            "bar_color": null,
            "description_width": ""
          }
        },
        "c8496318240c41c8a03bcc7b0dd1b3b1": {
          "model_module": "@jupyter-widgets/base",
          "model_name": "LayoutModel",
          "model_module_version": "1.2.0",
          "state": {
            "_model_module": "@jupyter-widgets/base",
            "_model_module_version": "1.2.0",
            "_model_name": "LayoutModel",
            "_view_count": null,
            "_view_module": "@jupyter-widgets/base",
            "_view_module_version": "1.2.0",
            "_view_name": "LayoutView",
            "align_content": null,
            "align_items": null,
            "align_self": null,
            "border": null,
            "bottom": null,
            "display": null,
            "flex": null,
            "flex_flow": null,
            "grid_area": null,
            "grid_auto_columns": null,
            "grid_auto_flow": null,
            "grid_auto_rows": null,
            "grid_column": null,
            "grid_gap": null,
            "grid_row": null,
            "grid_template_areas": null,
            "grid_template_columns": null,
            "grid_template_rows": null,
            "height": null,
            "justify_content": null,
            "justify_items": null,
            "left": null,
            "margin": null,
            "max_height": null,
            "max_width": null,
            "min_height": null,
            "min_width": null,
            "object_fit": null,
            "object_position": null,
            "order": null,
            "overflow": null,
            "overflow_x": null,
            "overflow_y": null,
            "padding": null,
            "right": null,
            "top": null,
            "visibility": null,
            "width": null
          }
        },
        "bdaf275511c94b6d9c51dd58223d16fe": {
          "model_module": "@jupyter-widgets/controls",
          "model_name": "DescriptionStyleModel",
          "model_module_version": "1.5.0",
          "state": {
            "_model_module": "@jupyter-widgets/controls",
            "_model_module_version": "1.5.0",
            "_model_name": "DescriptionStyleModel",
            "_view_count": null,
            "_view_module": "@jupyter-widgets/base",
            "_view_module_version": "1.2.0",
            "_view_name": "StyleView",
            "description_width": ""
          }
        },
        "57f91016bf0444b197579fcf890a1f2a": {
          "model_module": "@jupyter-widgets/controls",
          "model_name": "HBoxModel",
          "model_module_version": "1.5.0",
          "state": {
            "_dom_classes": [],
            "_model_module": "@jupyter-widgets/controls",
            "_model_module_version": "1.5.0",
            "_model_name": "HBoxModel",
            "_view_count": null,
            "_view_module": "@jupyter-widgets/controls",
            "_view_module_version": "1.5.0",
            "_view_name": "HBoxView",
            "box_style": "",
            "children": [
              "IPY_MODEL_85a532f9824d44e9bf9ddebf0cb39411",
              "IPY_MODEL_c10dbf786861431783072e8244bfbd55",
              "IPY_MODEL_8f8349aba4eb45e092e12efdd9022080"
            ],
            "layout": "IPY_MODEL_c9e1b82d6d894e87893d5f8154529341"
          }
        },
        "85a532f9824d44e9bf9ddebf0cb39411": {
          "model_module": "@jupyter-widgets/controls",
          "model_name": "HTMLModel",
          "model_module_version": "1.5.0",
          "state": {
            "_dom_classes": [],
            "_model_module": "@jupyter-widgets/controls",
            "_model_module_version": "1.5.0",
            "_model_name": "HTMLModel",
            "_view_count": null,
            "_view_module": "@jupyter-widgets/controls",
            "_view_module_version": "1.5.0",
            "_view_name": "HTMLView",
            "description": "",
            "description_tooltip": null,
            "layout": "IPY_MODEL_d3288b76f026414388ddf549415f369b",
            "placeholder": "​",
            "style": "IPY_MODEL_e62a0cce09934d899c819595574fcbe4",
            "value": "Downloading: 100%"
          }
        },
        "c10dbf786861431783072e8244bfbd55": {
          "model_module": "@jupyter-widgets/controls",
          "model_name": "FloatProgressModel",
          "model_module_version": "1.5.0",
          "state": {
            "_dom_classes": [],
            "_model_module": "@jupyter-widgets/controls",
            "_model_module_version": "1.5.0",
            "_model_name": "FloatProgressModel",
            "_view_count": null,
            "_view_module": "@jupyter-widgets/controls",
            "_view_module_version": "1.5.0",
            "_view_name": "ProgressView",
            "bar_style": "success",
            "description": "",
            "description_tooltip": null,
            "layout": "IPY_MODEL_941b69533de54e97ad6e368aac613b84",
            "max": 28,
            "min": 0,
            "orientation": "horizontal",
            "style": "IPY_MODEL_56f47a12ea7243d7a2c74d6a166af2e7",
            "value": 28
          }
        },
        "8f8349aba4eb45e092e12efdd9022080": {
          "model_module": "@jupyter-widgets/controls",
          "model_name": "HTMLModel",
          "model_module_version": "1.5.0",
          "state": {
            "_dom_classes": [],
            "_model_module": "@jupyter-widgets/controls",
            "_model_module_version": "1.5.0",
            "_model_name": "HTMLModel",
            "_view_count": null,
            "_view_module": "@jupyter-widgets/controls",
            "_view_module_version": "1.5.0",
            "_view_name": "HTMLView",
            "description": "",
            "description_tooltip": null,
            "layout": "IPY_MODEL_535557a877ea41468b7d9eec55dfd17e",
            "placeholder": "​",
            "style": "IPY_MODEL_306fb3f1d67c44ff8d33ad338e0964c2",
            "value": " 28.0/28.0 [00:00&lt;00:00, 622B/s]"
          }
        },
        "c9e1b82d6d894e87893d5f8154529341": {
          "model_module": "@jupyter-widgets/base",
          "model_name": "LayoutModel",
          "model_module_version": "1.2.0",
          "state": {
            "_model_module": "@jupyter-widgets/base",
            "_model_module_version": "1.2.0",
            "_model_name": "LayoutModel",
            "_view_count": null,
            "_view_module": "@jupyter-widgets/base",
            "_view_module_version": "1.2.0",
            "_view_name": "LayoutView",
            "align_content": null,
            "align_items": null,
            "align_self": null,
            "border": null,
            "bottom": null,
            "display": null,
            "flex": null,
            "flex_flow": null,
            "grid_area": null,
            "grid_auto_columns": null,
            "grid_auto_flow": null,
            "grid_auto_rows": null,
            "grid_column": null,
            "grid_gap": null,
            "grid_row": null,
            "grid_template_areas": null,
            "grid_template_columns": null,
            "grid_template_rows": null,
            "height": null,
            "justify_content": null,
            "justify_items": null,
            "left": null,
            "margin": null,
            "max_height": null,
            "max_width": null,
            "min_height": null,
            "min_width": null,
            "object_fit": null,
            "object_position": null,
            "order": null,
            "overflow": null,
            "overflow_x": null,
            "overflow_y": null,
            "padding": null,
            "right": null,
            "top": null,
            "visibility": null,
            "width": null
          }
        },
        "d3288b76f026414388ddf549415f369b": {
          "model_module": "@jupyter-widgets/base",
          "model_name": "LayoutModel",
          "model_module_version": "1.2.0",
          "state": {
            "_model_module": "@jupyter-widgets/base",
            "_model_module_version": "1.2.0",
            "_model_name": "LayoutModel",
            "_view_count": null,
            "_view_module": "@jupyter-widgets/base",
            "_view_module_version": "1.2.0",
            "_view_name": "LayoutView",
            "align_content": null,
            "align_items": null,
            "align_self": null,
            "border": null,
            "bottom": null,
            "display": null,
            "flex": null,
            "flex_flow": null,
            "grid_area": null,
            "grid_auto_columns": null,
            "grid_auto_flow": null,
            "grid_auto_rows": null,
            "grid_column": null,
            "grid_gap": null,
            "grid_row": null,
            "grid_template_areas": null,
            "grid_template_columns": null,
            "grid_template_rows": null,
            "height": null,
            "justify_content": null,
            "justify_items": null,
            "left": null,
            "margin": null,
            "max_height": null,
            "max_width": null,
            "min_height": null,
            "min_width": null,
            "object_fit": null,
            "object_position": null,
            "order": null,
            "overflow": null,
            "overflow_x": null,
            "overflow_y": null,
            "padding": null,
            "right": null,
            "top": null,
            "visibility": null,
            "width": null
          }
        },
        "e62a0cce09934d899c819595574fcbe4": {
          "model_module": "@jupyter-widgets/controls",
          "model_name": "DescriptionStyleModel",
          "model_module_version": "1.5.0",
          "state": {
            "_model_module": "@jupyter-widgets/controls",
            "_model_module_version": "1.5.0",
            "_model_name": "DescriptionStyleModel",
            "_view_count": null,
            "_view_module": "@jupyter-widgets/base",
            "_view_module_version": "1.2.0",
            "_view_name": "StyleView",
            "description_width": ""
          }
        },
        "941b69533de54e97ad6e368aac613b84": {
          "model_module": "@jupyter-widgets/base",
          "model_name": "LayoutModel",
          "model_module_version": "1.2.0",
          "state": {
            "_model_module": "@jupyter-widgets/base",
            "_model_module_version": "1.2.0",
            "_model_name": "LayoutModel",
            "_view_count": null,
            "_view_module": "@jupyter-widgets/base",
            "_view_module_version": "1.2.0",
            "_view_name": "LayoutView",
            "align_content": null,
            "align_items": null,
            "align_self": null,
            "border": null,
            "bottom": null,
            "display": null,
            "flex": null,
            "flex_flow": null,
            "grid_area": null,
            "grid_auto_columns": null,
            "grid_auto_flow": null,
            "grid_auto_rows": null,
            "grid_column": null,
            "grid_gap": null,
            "grid_row": null,
            "grid_template_areas": null,
            "grid_template_columns": null,
            "grid_template_rows": null,
            "height": null,
            "justify_content": null,
            "justify_items": null,
            "left": null,
            "margin": null,
            "max_height": null,
            "max_width": null,
            "min_height": null,
            "min_width": null,
            "object_fit": null,
            "object_position": null,
            "order": null,
            "overflow": null,
            "overflow_x": null,
            "overflow_y": null,
            "padding": null,
            "right": null,
            "top": null,
            "visibility": null,
            "width": null
          }
        },
        "56f47a12ea7243d7a2c74d6a166af2e7": {
          "model_module": "@jupyter-widgets/controls",
          "model_name": "ProgressStyleModel",
          "model_module_version": "1.5.0",
          "state": {
            "_model_module": "@jupyter-widgets/controls",
            "_model_module_version": "1.5.0",
            "_model_name": "ProgressStyleModel",
            "_view_count": null,
            "_view_module": "@jupyter-widgets/base",
            "_view_module_version": "1.2.0",
            "_view_name": "StyleView",
            "bar_color": null,
            "description_width": ""
          }
        },
        "535557a877ea41468b7d9eec55dfd17e": {
          "model_module": "@jupyter-widgets/base",
          "model_name": "LayoutModel",
          "model_module_version": "1.2.0",
          "state": {
            "_model_module": "@jupyter-widgets/base",
            "_model_module_version": "1.2.0",
            "_model_name": "LayoutModel",
            "_view_count": null,
            "_view_module": "@jupyter-widgets/base",
            "_view_module_version": "1.2.0",
            "_view_name": "LayoutView",
            "align_content": null,
            "align_items": null,
            "align_self": null,
            "border": null,
            "bottom": null,
            "display": null,
            "flex": null,
            "flex_flow": null,
            "grid_area": null,
            "grid_auto_columns": null,
            "grid_auto_flow": null,
            "grid_auto_rows": null,
            "grid_column": null,
            "grid_gap": null,
            "grid_row": null,
            "grid_template_areas": null,
            "grid_template_columns": null,
            "grid_template_rows": null,
            "height": null,
            "justify_content": null,
            "justify_items": null,
            "left": null,
            "margin": null,
            "max_height": null,
            "max_width": null,
            "min_height": null,
            "min_width": null,
            "object_fit": null,
            "object_position": null,
            "order": null,
            "overflow": null,
            "overflow_x": null,
            "overflow_y": null,
            "padding": null,
            "right": null,
            "top": null,
            "visibility": null,
            "width": null
          }
        },
        "306fb3f1d67c44ff8d33ad338e0964c2": {
          "model_module": "@jupyter-widgets/controls",
          "model_name": "DescriptionStyleModel",
          "model_module_version": "1.5.0",
          "state": {
            "_model_module": "@jupyter-widgets/controls",
            "_model_module_version": "1.5.0",
            "_model_name": "DescriptionStyleModel",
            "_view_count": null,
            "_view_module": "@jupyter-widgets/base",
            "_view_module_version": "1.2.0",
            "_view_name": "StyleView",
            "description_width": ""
          }
        },
        "02db655ba7144d35aff5518b4ad0eef3": {
          "model_module": "@jupyter-widgets/controls",
          "model_name": "HBoxModel",
          "model_module_version": "1.5.0",
          "state": {
            "_dom_classes": [],
            "_model_module": "@jupyter-widgets/controls",
            "_model_module_version": "1.5.0",
            "_model_name": "HBoxModel",
            "_view_count": null,
            "_view_module": "@jupyter-widgets/controls",
            "_view_module_version": "1.5.0",
            "_view_name": "HBoxView",
            "box_style": "",
            "children": [
              "IPY_MODEL_a3d3e573d4b24e4ab54513f895c75765",
              "IPY_MODEL_76d159601e914e2381b628227cf2b768",
              "IPY_MODEL_3fd4425fa976466b9ad84098c3ca8b8a"
            ],
            "layout": "IPY_MODEL_adfb737cface404ab59ef8621326dc84"
          }
        },
        "a3d3e573d4b24e4ab54513f895c75765": {
          "model_module": "@jupyter-widgets/controls",
          "model_name": "HTMLModel",
          "model_module_version": "1.5.0",
          "state": {
            "_dom_classes": [],
            "_model_module": "@jupyter-widgets/controls",
            "_model_module_version": "1.5.0",
            "_model_name": "HTMLModel",
            "_view_count": null,
            "_view_module": "@jupyter-widgets/controls",
            "_view_module_version": "1.5.0",
            "_view_name": "HTMLView",
            "description": "",
            "description_tooltip": null,
            "layout": "IPY_MODEL_1ef27f87513f4e9b8b53198077f73839",
            "placeholder": "​",
            "style": "IPY_MODEL_0502f0e1a23d457e9da8a3ec7e333ea9",
            "value": "Downloading: 100%"
          }
        },
        "76d159601e914e2381b628227cf2b768": {
          "model_module": "@jupyter-widgets/controls",
          "model_name": "FloatProgressModel",
          "model_module_version": "1.5.0",
          "state": {
            "_dom_classes": [],
            "_model_module": "@jupyter-widgets/controls",
            "_model_module_version": "1.5.0",
            "_model_name": "FloatProgressModel",
            "_view_count": null,
            "_view_module": "@jupyter-widgets/controls",
            "_view_module_version": "1.5.0",
            "_view_name": "ProgressView",
            "bar_style": "success",
            "description": "",
            "description_tooltip": null,
            "layout": "IPY_MODEL_30ec4b6a75d24fa1bd992cba3c722e36",
            "max": 625,
            "min": 0,
            "orientation": "horizontal",
            "style": "IPY_MODEL_084ce566cee64a2ab93a78a4c203afe6",
            "value": 625
          }
        },
        "3fd4425fa976466b9ad84098c3ca8b8a": {
          "model_module": "@jupyter-widgets/controls",
          "model_name": "HTMLModel",
          "model_module_version": "1.5.0",
          "state": {
            "_dom_classes": [],
            "_model_module": "@jupyter-widgets/controls",
            "_model_module_version": "1.5.0",
            "_model_name": "HTMLModel",
            "_view_count": null,
            "_view_module": "@jupyter-widgets/controls",
            "_view_module_version": "1.5.0",
            "_view_name": "HTMLView",
            "description": "",
            "description_tooltip": null,
            "layout": "IPY_MODEL_28dba2ec221d45a49412a61aeea7e87a",
            "placeholder": "​",
            "style": "IPY_MODEL_c603afd668f0483988ee21949b748392",
            "value": " 625/625 [00:00&lt;00:00, 16.8kB/s]"
          }
        },
        "adfb737cface404ab59ef8621326dc84": {
          "model_module": "@jupyter-widgets/base",
          "model_name": "LayoutModel",
          "model_module_version": "1.2.0",
          "state": {
            "_model_module": "@jupyter-widgets/base",
            "_model_module_version": "1.2.0",
            "_model_name": "LayoutModel",
            "_view_count": null,
            "_view_module": "@jupyter-widgets/base",
            "_view_module_version": "1.2.0",
            "_view_name": "LayoutView",
            "align_content": null,
            "align_items": null,
            "align_self": null,
            "border": null,
            "bottom": null,
            "display": null,
            "flex": null,
            "flex_flow": null,
            "grid_area": null,
            "grid_auto_columns": null,
            "grid_auto_flow": null,
            "grid_auto_rows": null,
            "grid_column": null,
            "grid_gap": null,
            "grid_row": null,
            "grid_template_areas": null,
            "grid_template_columns": null,
            "grid_template_rows": null,
            "height": null,
            "justify_content": null,
            "justify_items": null,
            "left": null,
            "margin": null,
            "max_height": null,
            "max_width": null,
            "min_height": null,
            "min_width": null,
            "object_fit": null,
            "object_position": null,
            "order": null,
            "overflow": null,
            "overflow_x": null,
            "overflow_y": null,
            "padding": null,
            "right": null,
            "top": null,
            "visibility": null,
            "width": null
          }
        },
        "1ef27f87513f4e9b8b53198077f73839": {
          "model_module": "@jupyter-widgets/base",
          "model_name": "LayoutModel",
          "model_module_version": "1.2.0",
          "state": {
            "_model_module": "@jupyter-widgets/base",
            "_model_module_version": "1.2.0",
            "_model_name": "LayoutModel",
            "_view_count": null,
            "_view_module": "@jupyter-widgets/base",
            "_view_module_version": "1.2.0",
            "_view_name": "LayoutView",
            "align_content": null,
            "align_items": null,
            "align_self": null,
            "border": null,
            "bottom": null,
            "display": null,
            "flex": null,
            "flex_flow": null,
            "grid_area": null,
            "grid_auto_columns": null,
            "grid_auto_flow": null,
            "grid_auto_rows": null,
            "grid_column": null,
            "grid_gap": null,
            "grid_row": null,
            "grid_template_areas": null,
            "grid_template_columns": null,
            "grid_template_rows": null,
            "height": null,
            "justify_content": null,
            "justify_items": null,
            "left": null,
            "margin": null,
            "max_height": null,
            "max_width": null,
            "min_height": null,
            "min_width": null,
            "object_fit": null,
            "object_position": null,
            "order": null,
            "overflow": null,
            "overflow_x": null,
            "overflow_y": null,
            "padding": null,
            "right": null,
            "top": null,
            "visibility": null,
            "width": null
          }
        },
        "0502f0e1a23d457e9da8a3ec7e333ea9": {
          "model_module": "@jupyter-widgets/controls",
          "model_name": "DescriptionStyleModel",
          "model_module_version": "1.5.0",
          "state": {
            "_model_module": "@jupyter-widgets/controls",
            "_model_module_version": "1.5.0",
            "_model_name": "DescriptionStyleModel",
            "_view_count": null,
            "_view_module": "@jupyter-widgets/base",
            "_view_module_version": "1.2.0",
            "_view_name": "StyleView",
            "description_width": ""
          }
        },
        "30ec4b6a75d24fa1bd992cba3c722e36": {
          "model_module": "@jupyter-widgets/base",
          "model_name": "LayoutModel",
          "model_module_version": "1.2.0",
          "state": {
            "_model_module": "@jupyter-widgets/base",
            "_model_module_version": "1.2.0",
            "_model_name": "LayoutModel",
            "_view_count": null,
            "_view_module": "@jupyter-widgets/base",
            "_view_module_version": "1.2.0",
            "_view_name": "LayoutView",
            "align_content": null,
            "align_items": null,
            "align_self": null,
            "border": null,
            "bottom": null,
            "display": null,
            "flex": null,
            "flex_flow": null,
            "grid_area": null,
            "grid_auto_columns": null,
            "grid_auto_flow": null,
            "grid_auto_rows": null,
            "grid_column": null,
            "grid_gap": null,
            "grid_row": null,
            "grid_template_areas": null,
            "grid_template_columns": null,
            "grid_template_rows": null,
            "height": null,
            "justify_content": null,
            "justify_items": null,
            "left": null,
            "margin": null,
            "max_height": null,
            "max_width": null,
            "min_height": null,
            "min_width": null,
            "object_fit": null,
            "object_position": null,
            "order": null,
            "overflow": null,
            "overflow_x": null,
            "overflow_y": null,
            "padding": null,
            "right": null,
            "top": null,
            "visibility": null,
            "width": null
          }
        },
        "084ce566cee64a2ab93a78a4c203afe6": {
          "model_module": "@jupyter-widgets/controls",
          "model_name": "ProgressStyleModel",
          "model_module_version": "1.5.0",
          "state": {
            "_model_module": "@jupyter-widgets/controls",
            "_model_module_version": "1.5.0",
            "_model_name": "ProgressStyleModel",
            "_view_count": null,
            "_view_module": "@jupyter-widgets/base",
            "_view_module_version": "1.2.0",
            "_view_name": "StyleView",
            "bar_color": null,
            "description_width": ""
          }
        },
        "28dba2ec221d45a49412a61aeea7e87a": {
          "model_module": "@jupyter-widgets/base",
          "model_name": "LayoutModel",
          "model_module_version": "1.2.0",
          "state": {
            "_model_module": "@jupyter-widgets/base",
            "_model_module_version": "1.2.0",
            "_model_name": "LayoutModel",
            "_view_count": null,
            "_view_module": "@jupyter-widgets/base",
            "_view_module_version": "1.2.0",
            "_view_name": "LayoutView",
            "align_content": null,
            "align_items": null,
            "align_self": null,
            "border": null,
            "bottom": null,
            "display": null,
            "flex": null,
            "flex_flow": null,
            "grid_area": null,
            "grid_auto_columns": null,
            "grid_auto_flow": null,
            "grid_auto_rows": null,
            "grid_column": null,
            "grid_gap": null,
            "grid_row": null,
            "grid_template_areas": null,
            "grid_template_columns": null,
            "grid_template_rows": null,
            "height": null,
            "justify_content": null,
            "justify_items": null,
            "left": null,
            "margin": null,
            "max_height": null,
            "max_width": null,
            "min_height": null,
            "min_width": null,
            "object_fit": null,
            "object_position": null,
            "order": null,
            "overflow": null,
            "overflow_x": null,
            "overflow_y": null,
            "padding": null,
            "right": null,
            "top": null,
            "visibility": null,
            "width": null
          }
        },
        "c603afd668f0483988ee21949b748392": {
          "model_module": "@jupyter-widgets/controls",
          "model_name": "DescriptionStyleModel",
          "model_module_version": "1.5.0",
          "state": {
            "_model_module": "@jupyter-widgets/controls",
            "_model_module_version": "1.5.0",
            "_model_name": "DescriptionStyleModel",
            "_view_count": null,
            "_view_module": "@jupyter-widgets/base",
            "_view_module_version": "1.2.0",
            "_view_name": "StyleView",
            "description_width": ""
          }
        },
        "689fa761a0a7419d9315937cfa7a9930": {
          "model_module": "@jupyter-widgets/controls",
          "model_name": "HBoxModel",
          "model_module_version": "1.5.0",
          "state": {
            "_dom_classes": [],
            "_model_module": "@jupyter-widgets/controls",
            "_model_module_version": "1.5.0",
            "_model_name": "HBoxModel",
            "_view_count": null,
            "_view_module": "@jupyter-widgets/controls",
            "_view_module_version": "1.5.0",
            "_view_name": "HBoxView",
            "box_style": "",
            "children": [
              "IPY_MODEL_69743b42aa95477bac993cf8a1e97500",
              "IPY_MODEL_d569f16e210e45da8d1c3c9d57d81e83",
              "IPY_MODEL_7b8041d782e042f0b820b4a5e043cc0d"
            ],
            "layout": "IPY_MODEL_02a76de7444e4234b8516a5b39e583dd"
          }
        },
        "69743b42aa95477bac993cf8a1e97500": {
          "model_module": "@jupyter-widgets/controls",
          "model_name": "HTMLModel",
          "model_module_version": "1.5.0",
          "state": {
            "_dom_classes": [],
            "_model_module": "@jupyter-widgets/controls",
            "_model_module_version": "1.5.0",
            "_model_name": "HTMLModel",
            "_view_count": null,
            "_view_module": "@jupyter-widgets/controls",
            "_view_module_version": "1.5.0",
            "_view_name": "HTMLView",
            "description": "",
            "description_tooltip": null,
            "layout": "IPY_MODEL_42a7ff608c844fe988f6bc3f074eb667",
            "placeholder": "​",
            "style": "IPY_MODEL_5e6609aaf9714e39a13bb48554f1621f",
            "value": "Downloading: 100%"
          }
        },
        "d569f16e210e45da8d1c3c9d57d81e83": {
          "model_module": "@jupyter-widgets/controls",
          "model_name": "FloatProgressModel",
          "model_module_version": "1.5.0",
          "state": {
            "_dom_classes": [],
            "_model_module": "@jupyter-widgets/controls",
            "_model_module_version": "1.5.0",
            "_model_name": "FloatProgressModel",
            "_view_count": null,
            "_view_module": "@jupyter-widgets/controls",
            "_view_module_version": "1.5.0",
            "_view_name": "ProgressView",
            "bar_style": "success",
            "description": "",
            "description_tooltip": null,
            "layout": "IPY_MODEL_5b41e201e3b94fa383c424de0b1aa11e",
            "max": 999358484,
            "min": 0,
            "orientation": "horizontal",
            "style": "IPY_MODEL_7de5b088d1084fceab1346a1341605dd",
            "value": 999358484
          }
        },
        "7b8041d782e042f0b820b4a5e043cc0d": {
          "model_module": "@jupyter-widgets/controls",
          "model_name": "HTMLModel",
          "model_module_version": "1.5.0",
          "state": {
            "_dom_classes": [],
            "_model_module": "@jupyter-widgets/controls",
            "_model_module_version": "1.5.0",
            "_model_name": "HTMLModel",
            "_view_count": null,
            "_view_module": "@jupyter-widgets/controls",
            "_view_module_version": "1.5.0",
            "_view_name": "HTMLView",
            "description": "",
            "description_tooltip": null,
            "layout": "IPY_MODEL_4e4dbb3700fb49bda19e98dfe8718a3a",
            "placeholder": "​",
            "style": "IPY_MODEL_80cef1d970eb4832a1b3b14bd2859f1a",
            "value": " 953M/953M [00:24&lt;00:00, 42.3MB/s]"
          }
        },
        "02a76de7444e4234b8516a5b39e583dd": {
          "model_module": "@jupyter-widgets/base",
          "model_name": "LayoutModel",
          "model_module_version": "1.2.0",
          "state": {
            "_model_module": "@jupyter-widgets/base",
            "_model_module_version": "1.2.0",
            "_model_name": "LayoutModel",
            "_view_count": null,
            "_view_module": "@jupyter-widgets/base",
            "_view_module_version": "1.2.0",
            "_view_name": "LayoutView",
            "align_content": null,
            "align_items": null,
            "align_self": null,
            "border": null,
            "bottom": null,
            "display": null,
            "flex": null,
            "flex_flow": null,
            "grid_area": null,
            "grid_auto_columns": null,
            "grid_auto_flow": null,
            "grid_auto_rows": null,
            "grid_column": null,
            "grid_gap": null,
            "grid_row": null,
            "grid_template_areas": null,
            "grid_template_columns": null,
            "grid_template_rows": null,
            "height": null,
            "justify_content": null,
            "justify_items": null,
            "left": null,
            "margin": null,
            "max_height": null,
            "max_width": null,
            "min_height": null,
            "min_width": null,
            "object_fit": null,
            "object_position": null,
            "order": null,
            "overflow": null,
            "overflow_x": null,
            "overflow_y": null,
            "padding": null,
            "right": null,
            "top": null,
            "visibility": null,
            "width": null
          }
        },
        "42a7ff608c844fe988f6bc3f074eb667": {
          "model_module": "@jupyter-widgets/base",
          "model_name": "LayoutModel",
          "model_module_version": "1.2.0",
          "state": {
            "_model_module": "@jupyter-widgets/base",
            "_model_module_version": "1.2.0",
            "_model_name": "LayoutModel",
            "_view_count": null,
            "_view_module": "@jupyter-widgets/base",
            "_view_module_version": "1.2.0",
            "_view_name": "LayoutView",
            "align_content": null,
            "align_items": null,
            "align_self": null,
            "border": null,
            "bottom": null,
            "display": null,
            "flex": null,
            "flex_flow": null,
            "grid_area": null,
            "grid_auto_columns": null,
            "grid_auto_flow": null,
            "grid_auto_rows": null,
            "grid_column": null,
            "grid_gap": null,
            "grid_row": null,
            "grid_template_areas": null,
            "grid_template_columns": null,
            "grid_template_rows": null,
            "height": null,
            "justify_content": null,
            "justify_items": null,
            "left": null,
            "margin": null,
            "max_height": null,
            "max_width": null,
            "min_height": null,
            "min_width": null,
            "object_fit": null,
            "object_position": null,
            "order": null,
            "overflow": null,
            "overflow_x": null,
            "overflow_y": null,
            "padding": null,
            "right": null,
            "top": null,
            "visibility": null,
            "width": null
          }
        },
        "5e6609aaf9714e39a13bb48554f1621f": {
          "model_module": "@jupyter-widgets/controls",
          "model_name": "DescriptionStyleModel",
          "model_module_version": "1.5.0",
          "state": {
            "_model_module": "@jupyter-widgets/controls",
            "_model_module_version": "1.5.0",
            "_model_name": "DescriptionStyleModel",
            "_view_count": null,
            "_view_module": "@jupyter-widgets/base",
            "_view_module_version": "1.2.0",
            "_view_name": "StyleView",
            "description_width": ""
          }
        },
        "5b41e201e3b94fa383c424de0b1aa11e": {
          "model_module": "@jupyter-widgets/base",
          "model_name": "LayoutModel",
          "model_module_version": "1.2.0",
          "state": {
            "_model_module": "@jupyter-widgets/base",
            "_model_module_version": "1.2.0",
            "_model_name": "LayoutModel",
            "_view_count": null,
            "_view_module": "@jupyter-widgets/base",
            "_view_module_version": "1.2.0",
            "_view_name": "LayoutView",
            "align_content": null,
            "align_items": null,
            "align_self": null,
            "border": null,
            "bottom": null,
            "display": null,
            "flex": null,
            "flex_flow": null,
            "grid_area": null,
            "grid_auto_columns": null,
            "grid_auto_flow": null,
            "grid_auto_rows": null,
            "grid_column": null,
            "grid_gap": null,
            "grid_row": null,
            "grid_template_areas": null,
            "grid_template_columns": null,
            "grid_template_rows": null,
            "height": null,
            "justify_content": null,
            "justify_items": null,
            "left": null,
            "margin": null,
            "max_height": null,
            "max_width": null,
            "min_height": null,
            "min_width": null,
            "object_fit": null,
            "object_position": null,
            "order": null,
            "overflow": null,
            "overflow_x": null,
            "overflow_y": null,
            "padding": null,
            "right": null,
            "top": null,
            "visibility": null,
            "width": null
          }
        },
        "7de5b088d1084fceab1346a1341605dd": {
          "model_module": "@jupyter-widgets/controls",
          "model_name": "ProgressStyleModel",
          "model_module_version": "1.5.0",
          "state": {
            "_model_module": "@jupyter-widgets/controls",
            "_model_module_version": "1.5.0",
            "_model_name": "ProgressStyleModel",
            "_view_count": null,
            "_view_module": "@jupyter-widgets/base",
            "_view_module_version": "1.2.0",
            "_view_name": "StyleView",
            "bar_color": null,
            "description_width": ""
          }
        },
        "4e4dbb3700fb49bda19e98dfe8718a3a": {
          "model_module": "@jupyter-widgets/base",
          "model_name": "LayoutModel",
          "model_module_version": "1.2.0",
          "state": {
            "_model_module": "@jupyter-widgets/base",
            "_model_module_version": "1.2.0",
            "_model_name": "LayoutModel",
            "_view_count": null,
            "_view_module": "@jupyter-widgets/base",
            "_view_module_version": "1.2.0",
            "_view_name": "LayoutView",
            "align_content": null,
            "align_items": null,
            "align_self": null,
            "border": null,
            "bottom": null,
            "display": null,
            "flex": null,
            "flex_flow": null,
            "grid_area": null,
            "grid_auto_columns": null,
            "grid_auto_flow": null,
            "grid_auto_rows": null,
            "grid_column": null,
            "grid_gap": null,
            "grid_row": null,
            "grid_template_areas": null,
            "grid_template_columns": null,
            "grid_template_rows": null,
            "height": null,
            "justify_content": null,
            "justify_items": null,
            "left": null,
            "margin": null,
            "max_height": null,
            "max_width": null,
            "min_height": null,
            "min_width": null,
            "object_fit": null,
            "object_position": null,
            "order": null,
            "overflow": null,
            "overflow_x": null,
            "overflow_y": null,
            "padding": null,
            "right": null,
            "top": null,
            "visibility": null,
            "width": null
          }
        },
        "80cef1d970eb4832a1b3b14bd2859f1a": {
          "model_module": "@jupyter-widgets/controls",
          "model_name": "DescriptionStyleModel",
          "model_module_version": "1.5.0",
          "state": {
            "_model_module": "@jupyter-widgets/controls",
            "_model_module_version": "1.5.0",
            "_model_name": "DescriptionStyleModel",
            "_view_count": null,
            "_view_module": "@jupyter-widgets/base",
            "_view_module_version": "1.2.0",
            "_view_name": "StyleView",
            "description_width": ""
          }
        }
      }
    }
  },
  "cells": [
    {
      "cell_type": "markdown",
      "metadata": {
        "id": "view-in-github",
        "colab_type": "text"
      },
      "source": [
        "<a href=\"https://colab.research.google.com/github/kb10241024/BTP_2k22/blob/main/Copy_of_BTP_NER_13_03_2022.ipynb\" target=\"_parent\"><img src=\"https://colab.research.google.com/assets/colab-badge.svg\" alt=\"Open In Colab\"/></a>"
      ]
    },
    {
      "cell_type": "markdown",
      "source": [
        "### Installing req packages"
      ],
      "metadata": {
        "id": "vnQgX_ijs1BM"
      }
    },
    {
      "cell_type": "code",
      "metadata": {
        "id": "ZnrDJSU1g2j9",
        "colab": {
          "base_uri": "https://localhost:8080/"
        },
        "outputId": "93b21787-e966-4d45-e933-e3d64c6ceb63"
      },
      "source": [
        "!pip install conllu"
      ],
      "execution_count": 1,
      "outputs": [
        {
          "output_type": "stream",
          "name": "stdout",
          "text": [
            "Collecting conllu\n",
            "  Downloading conllu-4.4.1-py2.py3-none-any.whl (15 kB)\n",
            "Installing collected packages: conllu\n",
            "Successfully installed conllu-4.4.1\n"
          ]
        }
      ]
    },
    {
      "cell_type": "code",
      "source": [
        "!pip install indic-transliteration"
      ],
      "metadata": {
        "id": "IcxIn3sO14Yq"
      },
      "execution_count": null,
      "outputs": []
    },
    {
      "cell_type": "code",
      "source": [
        "!pip install transformers"
      ],
      "metadata": {
        "id": "z2S7Ieif1xvC",
        "colab": {
          "base_uri": "https://localhost:8080/"
        },
        "outputId": "507ec232-5932-454c-e1d9-5e24592babea"
      },
      "execution_count": 3,
      "outputs": [
        {
          "output_type": "stream",
          "name": "stdout",
          "text": [
            "Collecting transformers\n",
            "  Downloading transformers-4.17.0-py3-none-any.whl (3.8 MB)\n",
            "\u001b[K     |████████████████████████████████| 3.8 MB 5.3 MB/s \n",
            "\u001b[?25hRequirement already satisfied: regex!=2019.12.17 in /usr/local/lib/python3.7/dist-packages (from transformers) (2019.12.20)\n",
            "Collecting tokenizers!=0.11.3,>=0.11.1\n",
            "  Downloading tokenizers-0.11.6-cp37-cp37m-manylinux_2_12_x86_64.manylinux2010_x86_64.whl (6.5 MB)\n",
            "\u001b[K     |████████████████████████████████| 6.5 MB 31.9 MB/s \n",
            "\u001b[?25hRequirement already satisfied: packaging>=20.0 in /usr/local/lib/python3.7/dist-packages (from transformers) (21.3)\n",
            "Collecting sacremoses\n",
            "  Downloading sacremoses-0.0.49-py3-none-any.whl (895 kB)\n",
            "\u001b[K     |████████████████████████████████| 895 kB 46.9 MB/s \n",
            "\u001b[?25hRequirement already satisfied: numpy>=1.17 in /usr/local/lib/python3.7/dist-packages (from transformers) (1.21.5)\n",
            "Requirement already satisfied: importlib-metadata in /usr/local/lib/python3.7/dist-packages (from transformers) (4.11.2)\n",
            "Requirement already satisfied: requests in /usr/local/lib/python3.7/dist-packages (from transformers) (2.23.0)\n",
            "Requirement already satisfied: filelock in /usr/local/lib/python3.7/dist-packages (from transformers) (3.6.0)\n",
            "Collecting huggingface-hub<1.0,>=0.1.0\n",
            "  Downloading huggingface_hub-0.4.0-py3-none-any.whl (67 kB)\n",
            "\u001b[K     |████████████████████████████████| 67 kB 5.1 MB/s \n",
            "\u001b[?25hRequirement already satisfied: tqdm>=4.27 in /usr/local/lib/python3.7/dist-packages (from transformers) (4.63.0)\n",
            "Collecting pyyaml>=5.1\n",
            "  Downloading PyYAML-6.0-cp37-cp37m-manylinux_2_5_x86_64.manylinux1_x86_64.manylinux_2_12_x86_64.manylinux2010_x86_64.whl (596 kB)\n",
            "\u001b[K     |████████████████████████████████| 596 kB 43.8 MB/s \n",
            "\u001b[?25hRequirement already satisfied: typing-extensions>=3.7.4.3 in /usr/local/lib/python3.7/dist-packages (from huggingface-hub<1.0,>=0.1.0->transformers) (3.10.0.2)\n",
            "Requirement already satisfied: pyparsing!=3.0.5,>=2.0.2 in /usr/local/lib/python3.7/dist-packages (from packaging>=20.0->transformers) (3.0.7)\n",
            "Requirement already satisfied: zipp>=0.5 in /usr/local/lib/python3.7/dist-packages (from importlib-metadata->transformers) (3.7.0)\n",
            "Requirement already satisfied: chardet<4,>=3.0.2 in /usr/local/lib/python3.7/dist-packages (from requests->transformers) (3.0.4)\n",
            "Collecting urllib3!=1.25.0,!=1.25.1,<1.26,>=1.21.1\n",
            "  Downloading urllib3-1.25.11-py2.py3-none-any.whl (127 kB)\n",
            "\u001b[K     |████████████████████████████████| 127 kB 44.1 MB/s \n",
            "\u001b[?25hRequirement already satisfied: certifi>=2017.4.17 in /usr/local/lib/python3.7/dist-packages (from requests->transformers) (2021.10.8)\n",
            "Requirement already satisfied: idna<3,>=2.5 in /usr/local/lib/python3.7/dist-packages (from requests->transformers) (2.10)\n",
            "Requirement already satisfied: click in /usr/local/lib/python3.7/dist-packages (from sacremoses->transformers) (7.1.2)\n",
            "Requirement already satisfied: joblib in /usr/local/lib/python3.7/dist-packages (from sacremoses->transformers) (1.1.0)\n",
            "Requirement already satisfied: six in /usr/local/lib/python3.7/dist-packages (from sacremoses->transformers) (1.15.0)\n",
            "Installing collected packages: urllib3, pyyaml, tokenizers, sacremoses, huggingface-hub, transformers\n",
            "  Attempting uninstall: urllib3\n",
            "    Found existing installation: urllib3 1.26.9\n",
            "    Uninstalling urllib3-1.26.9:\n",
            "      Successfully uninstalled urllib3-1.26.9\n",
            "  Attempting uninstall: pyyaml\n",
            "    Found existing installation: PyYAML 3.13\n",
            "    Uninstalling PyYAML-3.13:\n",
            "      Successfully uninstalled PyYAML-3.13\n",
            "\u001b[31mERROR: pip's dependency resolver does not currently take into account all the packages that are installed. This behaviour is the source of the following dependency conflicts.\n",
            "selenium 4.1.3 requires urllib3[secure,socks]~=1.26, but you have urllib3 1.25.11 which is incompatible.\n",
            "datascience 0.10.6 requires folium==0.2.1, but you have folium 0.8.3 which is incompatible.\u001b[0m\n",
            "Successfully installed huggingface-hub-0.4.0 pyyaml-6.0 sacremoses-0.0.49 tokenizers-0.11.6 transformers-4.17.0 urllib3-1.25.11\n"
          ]
        }
      ]
    },
    {
      "cell_type": "markdown",
      "source": [
        "### Importing Libraries"
      ],
      "metadata": {
        "id": "3s_rsWltQlF9"
      }
    },
    {
      "cell_type": "code",
      "source": [
        "from collections import Counter\n",
        "import conllu\n",
        "import pandas as pd\n",
        "import numpy as np\n",
        "from tqdm import tqdm, trange\n",
        "import unicodedata\n",
        " \n",
        "from keras.preprocessing.sequence import pad_sequences\n",
        "from tensorflow.keras.utils import to_categorical\n",
        "from keras.models import Model, Input\n",
        "from keras.layers import LSTM, Embedding, Dense\n",
        "from keras.layers import TimeDistributed, Dropout, Bidirectional"
      ],
      "metadata": {
        "id": "PfKviqQoQtRT"
      },
      "execution_count": 4,
      "outputs": []
    },
    {
      "cell_type": "code",
      "source": [
        "# import the module\n",
        "from indic_transliteration import sanscript\n",
        "from indic_transliteration.sanscript import transliterate"
      ],
      "metadata": {
        "id": "Ql-fhWFUQynU"
      },
      "execution_count": 5,
      "outputs": []
    },
    {
      "cell_type": "code",
      "source": [
        "import tensorflow as tf\n",
        "from tensorflow.keras.layers import Dense, Input, Bidirectional, LSTM, Dropout, TimeDistributed\n",
        "from tensorflow.keras.optimizers import Adam,Adagrad\n",
        "from tensorflow.keras.models import Model\n",
        "# from tensorflow.keras.callbacks import ModelCheckpoint\n",
        "\n",
        "import transformers\n",
        "from transformers import TFAutoModel, AutoTokenizer,BertTokenizer,TFBertModel\n",
        "from sklearn.metrics import confusion_matrix,f1_score"
      ],
      "metadata": {
        "id": "X4wPC5AhQkhC"
      },
      "execution_count": 6,
      "outputs": []
    },
    {
      "cell_type": "markdown",
      "metadata": {
        "id": "CcZyyl3aIFPp"
      },
      "source": [
        "## Attatching Drive"
      ]
    },
    {
      "cell_type": "code",
      "metadata": {
        "id": "VpYzhR6uIinA",
        "colab": {
          "base_uri": "https://localhost:8080/"
        },
        "outputId": "2427192e-9421-40df-e1d4-ecef1912a6a3"
      },
      "source": [
        "from google.colab import drive\n",
        "drive.mount('/content/drive')"
      ],
      "execution_count": 7,
      "outputs": [
        {
          "output_type": "stream",
          "name": "stdout",
          "text": [
            "Mounted at /content/drive\n"
          ]
        }
      ]
    },
    {
      "cell_type": "code",
      "metadata": {
        "id": "a7XyENK0IEuK"
      },
      "source": [
        "path_to_dataset='/content/drive/MyDrive/Acads/4-1/BTP/DATASET'\n",
        "path_to_ner_hineng='/content/drive/MyDrive/Acads/4-1/BTP/DATASET/ner_hineng'"
      ],
      "execution_count": 8,
      "outputs": []
    },
    {
      "cell_type": "markdown",
      "metadata": {
        "id": "YZY-880jVUbQ"
      },
      "source": [
        "## Dataset Preparation"
      ]
    },
    {
      "cell_type": "code",
      "metadata": {
        "id": "bpPWVd2td5wj"
      },
      "source": [
        "# !pip install pyconll\n",
        "# import pyconll\n",
        "# train = pyconll.load.iter_from_file('/content/test.conll')\n",
        "# # print(train)\n",
        "# for sentence in train:\n",
        "#   print(sentence.id)\n",
        "#   for token in sentence:\n",
        "#     print(token)\n",
        "# #   print(sentence)"
      ],
      "execution_count": null,
      "outputs": []
    },
    {
      "cell_type": "code",
      "metadata": {
        "id": "3goC7slM6VYH"
      },
      "source": [
        "data=open('/content/drive/MyDrive/Acads/4-1/BTP/DATASET/ner_hineng/train.conll',mode='r',encoding='utf-8')\n",
        "annotations=data.read()\n",
        "# print(type(annotations))\n",
        "# print(annotations[:100])"
      ],
      "execution_count": 9,
      "outputs": []
    },
    {
      "cell_type": "markdown",
      "source": [
        "### Another DS"
      ],
      "metadata": {
        "id": "d31gnG_dtQDO"
      }
    },
    {
      "cell_type": "code",
      "source": [
        "df=pd.read_csv('https://raw.githubusercontent.com/SilentFlame/Named-Entity-Recognition/master/Twitterdata/annotatedData.csv')\n",
        "print(df.shape)\n",
        "df.head(20)"
      ],
      "metadata": {
        "colab": {
          "base_uri": "https://localhost:8080/",
          "height": 694
        },
        "id": "4NS8BjxOX2X8",
        "outputId": "7ab61b6d-b269-474c-d41f-31f29640aae6"
      },
      "execution_count": null,
      "outputs": [
        {
          "output_type": "stream",
          "name": "stdout",
          "text": [
            "(72143, 3)\n"
          ]
        },
        {
          "output_type": "execute_result",
          "data": {
            "text/plain": [
              "       Sent        Word    Tag\n",
              "0   sent: 0    Bahubali  B-Per\n",
              "1   sent: 0           2  Other\n",
              "2   sent: 0          ke  Other\n",
              "3   sent: 0        liye  Other\n",
              "4   sent: 0        line  Other\n",
              "5   sent: 0         lag  Other\n",
              "6   sent: 0       sakte  Other\n",
              "7   sent: 0         hai  Other\n",
              "8   sent: 0        desh  B-Org\n",
              "9   sent: 0          ke  Other\n",
              "10  sent: 0        liye  Other\n",
              "11  sent: 0        kyun  Other\n",
              "12  sent: 0        lage  Other\n",
              "13  sent: 0        line  Other\n",
              "14  sent: 0          me  Other\n",
              "15  sent: 0         ...  Other\n",
              "16  sent: 0  #notebandi  Other\n",
              "17  sent: 0  #Bahubali2  B-Per\n",
              "18      NaN         NaN    NaN\n",
              "19  sent: 1        agar  Other"
            ],
            "text/html": [
              "\n",
              "  <div id=\"df-245eccbd-b910-4ca3-a94f-5d1ca878e6fb\">\n",
              "    <div class=\"colab-df-container\">\n",
              "      <div>\n",
              "<style scoped>\n",
              "    .dataframe tbody tr th:only-of-type {\n",
              "        vertical-align: middle;\n",
              "    }\n",
              "\n",
              "    .dataframe tbody tr th {\n",
              "        vertical-align: top;\n",
              "    }\n",
              "\n",
              "    .dataframe thead th {\n",
              "        text-align: right;\n",
              "    }\n",
              "</style>\n",
              "<table border=\"1\" class=\"dataframe\">\n",
              "  <thead>\n",
              "    <tr style=\"text-align: right;\">\n",
              "      <th></th>\n",
              "      <th>Sent</th>\n",
              "      <th>Word</th>\n",
              "      <th>Tag</th>\n",
              "    </tr>\n",
              "  </thead>\n",
              "  <tbody>\n",
              "    <tr>\n",
              "      <th>0</th>\n",
              "      <td>sent: 0</td>\n",
              "      <td>Bahubali</td>\n",
              "      <td>B-Per</td>\n",
              "    </tr>\n",
              "    <tr>\n",
              "      <th>1</th>\n",
              "      <td>sent: 0</td>\n",
              "      <td>2</td>\n",
              "      <td>Other</td>\n",
              "    </tr>\n",
              "    <tr>\n",
              "      <th>2</th>\n",
              "      <td>sent: 0</td>\n",
              "      <td>ke</td>\n",
              "      <td>Other</td>\n",
              "    </tr>\n",
              "    <tr>\n",
              "      <th>3</th>\n",
              "      <td>sent: 0</td>\n",
              "      <td>liye</td>\n",
              "      <td>Other</td>\n",
              "    </tr>\n",
              "    <tr>\n",
              "      <th>4</th>\n",
              "      <td>sent: 0</td>\n",
              "      <td>line</td>\n",
              "      <td>Other</td>\n",
              "    </tr>\n",
              "    <tr>\n",
              "      <th>5</th>\n",
              "      <td>sent: 0</td>\n",
              "      <td>lag</td>\n",
              "      <td>Other</td>\n",
              "    </tr>\n",
              "    <tr>\n",
              "      <th>6</th>\n",
              "      <td>sent: 0</td>\n",
              "      <td>sakte</td>\n",
              "      <td>Other</td>\n",
              "    </tr>\n",
              "    <tr>\n",
              "      <th>7</th>\n",
              "      <td>sent: 0</td>\n",
              "      <td>hai</td>\n",
              "      <td>Other</td>\n",
              "    </tr>\n",
              "    <tr>\n",
              "      <th>8</th>\n",
              "      <td>sent: 0</td>\n",
              "      <td>desh</td>\n",
              "      <td>B-Org</td>\n",
              "    </tr>\n",
              "    <tr>\n",
              "      <th>9</th>\n",
              "      <td>sent: 0</td>\n",
              "      <td>ke</td>\n",
              "      <td>Other</td>\n",
              "    </tr>\n",
              "    <tr>\n",
              "      <th>10</th>\n",
              "      <td>sent: 0</td>\n",
              "      <td>liye</td>\n",
              "      <td>Other</td>\n",
              "    </tr>\n",
              "    <tr>\n",
              "      <th>11</th>\n",
              "      <td>sent: 0</td>\n",
              "      <td>kyun</td>\n",
              "      <td>Other</td>\n",
              "    </tr>\n",
              "    <tr>\n",
              "      <th>12</th>\n",
              "      <td>sent: 0</td>\n",
              "      <td>lage</td>\n",
              "      <td>Other</td>\n",
              "    </tr>\n",
              "    <tr>\n",
              "      <th>13</th>\n",
              "      <td>sent: 0</td>\n",
              "      <td>line</td>\n",
              "      <td>Other</td>\n",
              "    </tr>\n",
              "    <tr>\n",
              "      <th>14</th>\n",
              "      <td>sent: 0</td>\n",
              "      <td>me</td>\n",
              "      <td>Other</td>\n",
              "    </tr>\n",
              "    <tr>\n",
              "      <th>15</th>\n",
              "      <td>sent: 0</td>\n",
              "      <td>...</td>\n",
              "      <td>Other</td>\n",
              "    </tr>\n",
              "    <tr>\n",
              "      <th>16</th>\n",
              "      <td>sent: 0</td>\n",
              "      <td>#notebandi</td>\n",
              "      <td>Other</td>\n",
              "    </tr>\n",
              "    <tr>\n",
              "      <th>17</th>\n",
              "      <td>sent: 0</td>\n",
              "      <td>#Bahubali2</td>\n",
              "      <td>B-Per</td>\n",
              "    </tr>\n",
              "    <tr>\n",
              "      <th>18</th>\n",
              "      <td>NaN</td>\n",
              "      <td>NaN</td>\n",
              "      <td>NaN</td>\n",
              "    </tr>\n",
              "    <tr>\n",
              "      <th>19</th>\n",
              "      <td>sent: 1</td>\n",
              "      <td>agar</td>\n",
              "      <td>Other</td>\n",
              "    </tr>\n",
              "  </tbody>\n",
              "</table>\n",
              "</div>\n",
              "      <button class=\"colab-df-convert\" onclick=\"convertToInteractive('df-245eccbd-b910-4ca3-a94f-5d1ca878e6fb')\"\n",
              "              title=\"Convert this dataframe to an interactive table.\"\n",
              "              style=\"display:none;\">\n",
              "        \n",
              "  <svg xmlns=\"http://www.w3.org/2000/svg\" height=\"24px\"viewBox=\"0 0 24 24\"\n",
              "       width=\"24px\">\n",
              "    <path d=\"M0 0h24v24H0V0z\" fill=\"none\"/>\n",
              "    <path d=\"M18.56 5.44l.94 2.06.94-2.06 2.06-.94-2.06-.94-.94-2.06-.94 2.06-2.06.94zm-11 1L8.5 8.5l.94-2.06 2.06-.94-2.06-.94L8.5 2.5l-.94 2.06-2.06.94zm10 10l.94 2.06.94-2.06 2.06-.94-2.06-.94-.94-2.06-.94 2.06-2.06.94z\"/><path d=\"M17.41 7.96l-1.37-1.37c-.4-.4-.92-.59-1.43-.59-.52 0-1.04.2-1.43.59L10.3 9.45l-7.72 7.72c-.78.78-.78 2.05 0 2.83L4 21.41c.39.39.9.59 1.41.59.51 0 1.02-.2 1.41-.59l7.78-7.78 2.81-2.81c.8-.78.8-2.07 0-2.86zM5.41 20L4 18.59l7.72-7.72 1.47 1.35L5.41 20z\"/>\n",
              "  </svg>\n",
              "      </button>\n",
              "      \n",
              "  <style>\n",
              "    .colab-df-container {\n",
              "      display:flex;\n",
              "      flex-wrap:wrap;\n",
              "      gap: 12px;\n",
              "    }\n",
              "\n",
              "    .colab-df-convert {\n",
              "      background-color: #E8F0FE;\n",
              "      border: none;\n",
              "      border-radius: 50%;\n",
              "      cursor: pointer;\n",
              "      display: none;\n",
              "      fill: #1967D2;\n",
              "      height: 32px;\n",
              "      padding: 0 0 0 0;\n",
              "      width: 32px;\n",
              "    }\n",
              "\n",
              "    .colab-df-convert:hover {\n",
              "      background-color: #E2EBFA;\n",
              "      box-shadow: 0px 1px 2px rgba(60, 64, 67, 0.3), 0px 1px 3px 1px rgba(60, 64, 67, 0.15);\n",
              "      fill: #174EA6;\n",
              "    }\n",
              "\n",
              "    [theme=dark] .colab-df-convert {\n",
              "      background-color: #3B4455;\n",
              "      fill: #D2E3FC;\n",
              "    }\n",
              "\n",
              "    [theme=dark] .colab-df-convert:hover {\n",
              "      background-color: #434B5C;\n",
              "      box-shadow: 0px 1px 3px 1px rgba(0, 0, 0, 0.15);\n",
              "      filter: drop-shadow(0px 1px 2px rgba(0, 0, 0, 0.3));\n",
              "      fill: #FFFFFF;\n",
              "    }\n",
              "  </style>\n",
              "\n",
              "      <script>\n",
              "        const buttonEl =\n",
              "          document.querySelector('#df-245eccbd-b910-4ca3-a94f-5d1ca878e6fb button.colab-df-convert');\n",
              "        buttonEl.style.display =\n",
              "          google.colab.kernel.accessAllowed ? 'block' : 'none';\n",
              "\n",
              "        async function convertToInteractive(key) {\n",
              "          const element = document.querySelector('#df-245eccbd-b910-4ca3-a94f-5d1ca878e6fb');\n",
              "          const dataTable =\n",
              "            await google.colab.kernel.invokeFunction('convertToInteractive',\n",
              "                                                     [key], {});\n",
              "          if (!dataTable) return;\n",
              "\n",
              "          const docLinkHtml = 'Like what you see? Visit the ' +\n",
              "            '<a target=\"_blank\" href=https://colab.research.google.com/notebooks/data_table.ipynb>data table notebook</a>'\n",
              "            + ' to learn more about interactive tables.';\n",
              "          element.innerHTML = '';\n",
              "          dataTable['output_type'] = 'display_data';\n",
              "          await google.colab.output.renderOutput(dataTable, element);\n",
              "          const docLink = document.createElement('div');\n",
              "          docLink.innerHTML = docLinkHtml;\n",
              "          element.appendChild(docLink);\n",
              "        }\n",
              "      </script>\n",
              "    </div>\n",
              "  </div>\n",
              "  "
            ]
          },
          "metadata": {},
          "execution_count": 9
        }
      ]
    },
    {
      "cell_type": "markdown",
      "source": [
        "### Data Cleaning"
      ],
      "metadata": {
        "id": "KOH9Pge1QYmb"
      }
    },
    {
      "cell_type": "code",
      "source": [
        "import re\n",
        "\n",
        "text = \"hey amazon - my package never   arrived https://www.amazon.com/gp/css/order-history?ref_=nav_orders_first please fix asap! @amazonhelp\"\n",
        "# text = re.sub(r\"(@\\[A-Za-z0-9]+)|([^0-9A-Za-z \\t])|(\\w+:\\/\\/\\S+)|^rt|http.+?\", \"\", text)"
      ],
      "metadata": {
        "id": "lwTSL2O6vx87"
      },
      "execution_count": 10,
      "outputs": []
    },
    {
      "cell_type": "code",
      "source": [
        "def remove_links(text):\n",
        "    \"\"\"\n",
        "    This function will remove all the occurrences of links.\n",
        "    \n",
        "    arguments:\n",
        "        input_text: \"text\" of type \"String\". \n",
        "                    \n",
        "    return:\n",
        "        value: \"text\" after removal of all types of links.\n",
        "        \n",
        "    Example:\n",
        "    Input : To know more about this website: kajalyadav.com  visit: https://kajalyadav.com//Blogs\n",
        "    Output : To know more about this website: visit: <URL>    \n",
        "    \n",
        "    \"\"\"\n",
        "    \n",
        "    # Removing all the occurrences of links that starts with https\n",
        "    remove_https = re.sub(r'http\\S+', \"<URL>\", text)\n",
        "    # Remove all the occurrences of text that ends with .com\n",
        "    remove_com = re.sub(r\"\\ [A-Za-z]*\\.com\", \"<URL>\", remove_https)\n",
        "    return remove_com\n",
        "  \n",
        "print(remove_links(text))"
      ],
      "metadata": {
        "colab": {
          "base_uri": "https://localhost:8080/"
        },
        "id": "1stwGIZtyR6-",
        "outputId": "635f869b-5d4e-4435-a53b-359f54a1a907"
      },
      "execution_count": 12,
      "outputs": [
        {
          "output_type": "stream",
          "name": "stdout",
          "text": [
            "hey amazon - my package never   arrived <URL> please fix asap! @amazonhelp\n"
          ]
        }
      ]
    },
    {
      "cell_type": "code",
      "source": [
        "# from bs4 import BeautifulSoup\n",
        "\n",
        "# def strip_html_tags(text):\n",
        "#     \"\"\" \n",
        "#     This function will remove all the occurrences of html tags from the text.\n",
        "    \n",
        "#     arguments:\n",
        "#         input_text: \"text\" of type \"String\". \n",
        "                    \n",
        "#     return:\n",
        "#         value: \"text\" after removal of html tags.\n",
        "        \n",
        "#     Example:\n",
        "#     Input : This is a nice place to live. <IMG>\n",
        "#     Output : This is a nice place to live.  \n",
        "#     \"\"\"\n",
        "#     # Initiating BeautifulSoup object soup.\n",
        "#     soup = BeautifulSoup(text, \"html.parser\")\n",
        "#     # Get all the text other than html tags.\n",
        "#     stripped_text = soup.get_text(separator=\" \")\n",
        "#     return stripped_text\n",
        "\n",
        "# txt=\"This is a nice place to live. <IMG>\"  \n",
        "# print(strip_html_tags(txt))"
      ],
      "metadata": {
        "id": "YaXGuZewyxt2"
      },
      "execution_count": null,
      "outputs": []
    },
    {
      "cell_type": "code",
      "source": [
        "def remove_newlines_tabs(text):\n",
        "    \"\"\"\n",
        "    This function will remove all the occurrences of newlines, tabs, and combinations like: \\\\n, \\\\.\n",
        "    \n",
        "    arguments:\n",
        "        input_text: \"text\" of type \"String\". \n",
        "                    \n",
        "    return:\n",
        "        value: \"text\" after removal of newlines, tabs, \\\\n, \\\\ characters.\n",
        "        \n",
        "    Example:\n",
        "    Input : This is her \\\\ first day at this place.\\n Please,\\t Be nice to her.\\\\n\n",
        "    Output : This is her first day at this place. Please, Be nice to her. \n",
        "    \n",
        "    \"\"\"\n",
        "    \n",
        "    # Replacing all the occurrences of \\n,\\\\n,\\t,\\\\ with a space.\n",
        "    Formatted_text = text.replace('\\\\n', ' ').replace('\\n', ' ').replace('\\t',' ').replace('\\\\', ' ').replace('. com', '.com')\n",
        "    return Formatted_text\n",
        "  \n",
        "txt=\"This is her \\\\ first day at this place.\\n Please,\\t Be nice to her.\\\\n\"\n",
        "print(remove_newlines_tabs(txt))"
      ],
      "metadata": {
        "colab": {
          "base_uri": "https://localhost:8080/"
        },
        "id": "QvjTGkUxzZ8f",
        "outputId": "fa50ddcb-458b-48aa-a6a4-74fb01e6ce94"
      },
      "execution_count": 13,
      "outputs": [
        {
          "output_type": "stream",
          "name": "stdout",
          "text": [
            "This is her   first day at this place.  Please,  Be nice to her. \n"
          ]
        }
      ]
    },
    {
      "cell_type": "code",
      "source": [
        "def remove_whitespace(text):\n",
        "    \"\"\" This function will remove extra whitespaces from the text\n",
        "    arguments:\n",
        "        input_text: \"text\" of type \"String\". \n",
        "    return:\n",
        "        value: \"text\" after extra whitespaces removed .\n",
        "        \n",
        "    Example:\n",
        "    Input : How   are   you   doing   ?\n",
        "    Output : How are you doing ?     \n",
        "    \"\"\"\n",
        "    pattern = re.compile(r'\\s+') \n",
        "    Without_whitespace = re.sub(pattern, ' ', text)\n",
        "    # There are some instances where there is no space after '?' & ')', \n",
        "    # So I am replacing these with one space so that It will not consider two words as one token.\n",
        "    text = Without_whitespace.replace('?', ' ? ').replace(')', ') ')\n",
        "    return text\n",
        "\n",
        "print(remove_whitespace(text))"
      ],
      "metadata": {
        "colab": {
          "base_uri": "https://localhost:8080/"
        },
        "id": "JOrIP_6zwWuU",
        "outputId": "e41642b7-b257-4484-c134-4298c37bfbf9"
      },
      "execution_count": 14,
      "outputs": [
        {
          "output_type": "stream",
          "name": "stdout",
          "text": [
            "hey amazon - my package never arrived https://www.amazon.com/gp/css/order-history ? ref_=nav_orders_first please fix asap! @amazonhelp\n"
          ]
        }
      ]
    },
    {
      "cell_type": "code",
      "source": [
        "def reducing_incorrect_character_repeatation(text):\n",
        "    \"\"\"\n",
        "    This Function will reduce repeatition to two characters \n",
        "    for alphabets and to one character for punctuations.\n",
        "    \n",
        "    arguments:\n",
        "         input_text: \"text\" of type \"String\".\n",
        "         \n",
        "    return:\n",
        "        value: Finally formatted text with alphabets repeating to \n",
        "        two characters & punctuations limited to one repeatition \n",
        "        \n",
        "    Example:\n",
        "    Input : Realllllllllyyyyy,        Greeeeaaaatttt   !!!!?....;;;;:)\n",
        "    Output : Reallyy, Greeaatt !?.;:)\n",
        "    \n",
        "    \"\"\"\n",
        "    # Pattern matching for all case alphabets\n",
        "    Pattern_alpha = re.compile(r\"([A-Za-z])\\1{1,}\", re.DOTALL)\n",
        "    \n",
        "    # Limiting all the  repeatation to two characters.\n",
        "    Formatted_text = Pattern_alpha.sub(r\"\\1\\1\", text) \n",
        "    \n",
        "    # Pattern matching for all the punctuations that can occur\n",
        "    Pattern_Punct = re.compile(r'([.,/#!$%^&*?;:{}=_`~()+-])\\1{1,}')\n",
        "    \n",
        "    # Limiting punctuations in previously formatted string to only one.\n",
        "    Combined_Formatted = Pattern_Punct.sub(r'\\1', Formatted_text)\n",
        "    \n",
        "    # The below statement is replacing repeatation of spaces that occur more than two times with that of one occurrence.\n",
        "    Final_Formatted = re.sub(' {2,}',' ', Combined_Formatted)\n",
        "    return Final_Formatted\n",
        "  \n",
        "txt=\"Realllllllllyyyyy\"#,   #AAP  @modi   Greeeeaaaatttt   !!!!?....;;;;:)\"\n",
        "print(reducing_incorrect_character_repeatation(txt))"
      ],
      "metadata": {
        "colab": {
          "base_uri": "https://localhost:8080/"
        },
        "id": "c5bm26Ndzwaf",
        "outputId": "41e41888-e45c-43ae-ac6c-e424be986282"
      },
      "execution_count": 15,
      "outputs": [
        {
          "output_type": "stream",
          "name": "stdout",
          "text": [
            "Reallyy\n"
          ]
        }
      ]
    },
    {
      "cell_type": "code",
      "source": [
        "# The code for removing special characters\n",
        "def removing_special_characters(text):\n",
        "    \"\"\"Removing all the special characters except the one that is passed within \n",
        "       the regex to match, as they have imp meaning in the text provided.\n",
        "       \n",
        "    arguments:\n",
        "         input_text: \"text\" of type \"String\".\n",
        "    return:\n",
        "        value: Text with removed special characters that don't require.\n",
        "        \n",
        "    Example: \n",
        "    Input : Hello, K-a-j-a-l. Thi*s is $100.05 : the payment that you will recieve! (Is this okay?) \n",
        "    Output :  Hello, Kajal. This is $100.05 : the payment that you will recieve! Is this okay?\n",
        "    \n",
        "   \"\"\"\n",
        "    # The formatted text after removing not necessary punctuations.\n",
        "    Formatted_Text = re.sub(r\"[^a-zA-Z0-9:#@$-,%.?!]+\", ' ', text) \n",
        "    # In the above regex expression,I am providing necessary set of punctuations that are frequent in this particular dataset.\n",
        "    return Formatted_Text\n",
        "\n",
        "txt=\"Hello, K-a-j-a-l. Thi*s is $100.05 : the #payment @that you will recieve! (Is this okay?)\"  \n",
        "print(removing_special_characters(txt))"
      ],
      "metadata": {
        "colab": {
          "base_uri": "https://localhost:8080/"
        },
        "id": "x9FVp38jzwP_",
        "outputId": "822c9573-33f1-42bb-efdf-fbc57f40386b"
      },
      "execution_count": 16,
      "outputs": [
        {
          "output_type": "stream",
          "name": "stdout",
          "text": [
            "Hello, K a j a l. Thi*s is $100.05 : the #payment @that you will recieve! (Is this okay?)\n"
          ]
        }
      ]
    },
    {
      "cell_type": "code",
      "source": [
        "text = \"hey amazon - my package never   #arrived https://www.amazon.com/gp/css/order-history?ref_=nav_orders_first please fix asap! @amazonhelp\"\n",
        "print(removing_special_characters(text))"
      ],
      "metadata": {
        "colab": {
          "base_uri": "https://localhost:8080/"
        },
        "id": "OK-qJVpv0tlg",
        "outputId": "32f86fe5-5654-43a0-fb2d-ff9270ddbf0e"
      },
      "execution_count": 17,
      "outputs": [
        {
          "output_type": "stream",
          "name": "stdout",
          "text": [
            "hey amazon my package never #arrived https: www.amazon.com gp css order history?ref nav orders first please fix asap! @amazonhelp\n"
          ]
        }
      ]
    },
    {
      "cell_type": "code",
      "source": [
        "!pip install autocorrect"
      ],
      "metadata": {
        "colab": {
          "base_uri": "https://localhost:8080/"
        },
        "id": "9Fi7Moqk1i_Z",
        "outputId": "1d399da5-33a6-40c6-eefd-19aa27c5d75c"
      },
      "execution_count": 18,
      "outputs": [
        {
          "output_type": "stream",
          "name": "stdout",
          "text": [
            "Collecting autocorrect\n",
            "  Downloading autocorrect-2.6.1.tar.gz (622 kB)\n",
            "\u001b[?25l\r\u001b[K     |▌                               | 10 kB 19.8 MB/s eta 0:00:01\r\u001b[K     |█                               | 20 kB 12.1 MB/s eta 0:00:01\r\u001b[K     |█▋                              | 30 kB 9.5 MB/s eta 0:00:01\r\u001b[K     |██                              | 40 kB 8.7 MB/s eta 0:00:01\r\u001b[K     |██▋                             | 51 kB 4.6 MB/s eta 0:00:01\r\u001b[K     |███▏                            | 61 kB 5.4 MB/s eta 0:00:01\r\u001b[K     |███▊                            | 71 kB 5.6 MB/s eta 0:00:01\r\u001b[K     |████▏                           | 81 kB 4.3 MB/s eta 0:00:01\r\u001b[K     |████▊                           | 92 kB 4.8 MB/s eta 0:00:01\r\u001b[K     |█████▎                          | 102 kB 5.2 MB/s eta 0:00:01\r\u001b[K     |█████▉                          | 112 kB 5.2 MB/s eta 0:00:01\r\u001b[K     |██████▎                         | 122 kB 5.2 MB/s eta 0:00:01\r\u001b[K     |██████▉                         | 133 kB 5.2 MB/s eta 0:00:01\r\u001b[K     |███████▍                        | 143 kB 5.2 MB/s eta 0:00:01\r\u001b[K     |████████                        | 153 kB 5.2 MB/s eta 0:00:01\r\u001b[K     |████████▍                       | 163 kB 5.2 MB/s eta 0:00:01\r\u001b[K     |█████████                       | 174 kB 5.2 MB/s eta 0:00:01\r\u001b[K     |█████████▌                      | 184 kB 5.2 MB/s eta 0:00:01\r\u001b[K     |██████████                      | 194 kB 5.2 MB/s eta 0:00:01\r\u001b[K     |██████████▌                     | 204 kB 5.2 MB/s eta 0:00:01\r\u001b[K     |███████████                     | 215 kB 5.2 MB/s eta 0:00:01\r\u001b[K     |███████████▋                    | 225 kB 5.2 MB/s eta 0:00:01\r\u001b[K     |████████████                    | 235 kB 5.2 MB/s eta 0:00:01\r\u001b[K     |████████████▋                   | 245 kB 5.2 MB/s eta 0:00:01\r\u001b[K     |█████████████▏                  | 256 kB 5.2 MB/s eta 0:00:01\r\u001b[K     |█████████████▊                  | 266 kB 5.2 MB/s eta 0:00:01\r\u001b[K     |██████████████▏                 | 276 kB 5.2 MB/s eta 0:00:01\r\u001b[K     |██████████████▊                 | 286 kB 5.2 MB/s eta 0:00:01\r\u001b[K     |███████████████▎                | 296 kB 5.2 MB/s eta 0:00:01\r\u001b[K     |███████████████▉                | 307 kB 5.2 MB/s eta 0:00:01\r\u001b[K     |████████████████▎               | 317 kB 5.2 MB/s eta 0:00:01\r\u001b[K     |████████████████▉               | 327 kB 5.2 MB/s eta 0:00:01\r\u001b[K     |█████████████████▍              | 337 kB 5.2 MB/s eta 0:00:01\r\u001b[K     |██████████████████              | 348 kB 5.2 MB/s eta 0:00:01\r\u001b[K     |██████████████████▍             | 358 kB 5.2 MB/s eta 0:00:01\r\u001b[K     |███████████████████             | 368 kB 5.2 MB/s eta 0:00:01\r\u001b[K     |███████████████████▌            | 378 kB 5.2 MB/s eta 0:00:01\r\u001b[K     |████████████████████            | 389 kB 5.2 MB/s eta 0:00:01\r\u001b[K     |████████████████████▌           | 399 kB 5.2 MB/s eta 0:00:01\r\u001b[K     |█████████████████████           | 409 kB 5.2 MB/s eta 0:00:01\r\u001b[K     |█████████████████████▋          | 419 kB 5.2 MB/s eta 0:00:01\r\u001b[K     |██████████████████████          | 430 kB 5.2 MB/s eta 0:00:01\r\u001b[K     |██████████████████████▋         | 440 kB 5.2 MB/s eta 0:00:01\r\u001b[K     |███████████████████████▏        | 450 kB 5.2 MB/s eta 0:00:01\r\u001b[K     |███████████████████████▊        | 460 kB 5.2 MB/s eta 0:00:01\r\u001b[K     |████████████████████████▏       | 471 kB 5.2 MB/s eta 0:00:01\r\u001b[K     |████████████████████████▊       | 481 kB 5.2 MB/s eta 0:00:01\r\u001b[K     |█████████████████████████▎      | 491 kB 5.2 MB/s eta 0:00:01\r\u001b[K     |█████████████████████████▉      | 501 kB 5.2 MB/s eta 0:00:01\r\u001b[K     |██████████████████████████▎     | 512 kB 5.2 MB/s eta 0:00:01\r\u001b[K     |██████████████████████████▉     | 522 kB 5.2 MB/s eta 0:00:01\r\u001b[K     |███████████████████████████▍    | 532 kB 5.2 MB/s eta 0:00:01\r\u001b[K     |███████████████████████████▉    | 542 kB 5.2 MB/s eta 0:00:01\r\u001b[K     |████████████████████████████▍   | 552 kB 5.2 MB/s eta 0:00:01\r\u001b[K     |█████████████████████████████   | 563 kB 5.2 MB/s eta 0:00:01\r\u001b[K     |█████████████████████████████▌  | 573 kB 5.2 MB/s eta 0:00:01\r\u001b[K     |██████████████████████████████  | 583 kB 5.2 MB/s eta 0:00:01\r\u001b[K     |██████████████████████████████▌ | 593 kB 5.2 MB/s eta 0:00:01\r\u001b[K     |███████████████████████████████ | 604 kB 5.2 MB/s eta 0:00:01\r\u001b[K     |███████████████████████████████▋| 614 kB 5.2 MB/s eta 0:00:01\r\u001b[K     |████████████████████████████████| 622 kB 5.2 MB/s \n",
            "\u001b[?25hBuilding wheels for collected packages: autocorrect\n",
            "  Building wheel for autocorrect (setup.py) ... \u001b[?25l\u001b[?25hdone\n",
            "  Created wheel for autocorrect: filename=autocorrect-2.6.1-py3-none-any.whl size=622382 sha256=18f08a7b2569f8b6a38e3dea117339c44acfc5d93196b9479cb3ed90847e9232\n",
            "  Stored in directory: /root/.cache/pip/wheels/54/d4/37/8244101ad50b0f7d9bffd93ce58ed7991ee1753b290923934b\n",
            "Successfully built autocorrect\n",
            "Installing collected packages: autocorrect\n",
            "Successfully installed autocorrect-2.6.1\n"
          ]
        }
      ]
    },
    {
      "cell_type": "code",
      "source": [
        "# The code for spelling corrections\n",
        "from autocorrect import Speller\n",
        "\n",
        "def spelling_correction(text):\n",
        "    ''' \n",
        "    This function will correct spellings.\n",
        "    \n",
        "    arguments:\n",
        "         input_text: \"text\" of type \"String\".\n",
        "         \n",
        "    return:\n",
        "        value: Text after corrected spellings.\n",
        "        \n",
        "    Example: \n",
        "    Input : This is Oberois from Dlhi who came heree to studdy.\n",
        "    Output : This is Oberoi from Delhi who came here to study.     \n",
        "    \n",
        "    '''\n",
        "    # Check for spellings in English language\n",
        "    spell = Speller(lang='en')\n",
        "    Corrected_text = spell(text)\n",
        "    return Corrected_text\n",
        "\n",
        "txt=\"This is Oberois from Dlhi who came heree to studdy.\"\n",
        "print(spelling_correction(txt))"
      ],
      "metadata": {
        "colab": {
          "base_uri": "https://localhost:8080/"
        },
        "id": "OeV1rbIf0tdf",
        "outputId": "9e2be56a-a51e-4550-9cda-d50c31f4d63b"
      },
      "execution_count": 19,
      "outputs": [
        {
          "output_type": "stream",
          "name": "stdout",
          "text": [
            "This is Oberoi from Delhi who came here to study.\n"
          ]
        }
      ]
    },
    {
      "cell_type": "code",
      "source": [
        "def text_cleaning(t,do_spell_correction=False):\n",
        "  t=remove_links(t)\n",
        "  t=removing_special_characters(t)\n",
        "  t=remove_newlines_tabs(t)\n",
        "  t=remove_whitespace(t)\n",
        "  t=reducing_incorrect_character_repeatation(t)\n",
        "  if(do_spell_correction):\n",
        "    t=spelling_correction(t)\n",
        "  return t"
      ],
      "metadata": {
        "id": "J8AnbfVt5FcN"
      },
      "execution_count": 21,
      "outputs": []
    },
    {
      "cell_type": "code",
      "source": [
        "text = \"hey amazon - my package never   #arrived https://www.amazon.com/gp/css/order-history?ref_=nav_orders_first please fix asap! @amazonhelp\"\n",
        "print(text_cleaning(text))"
      ],
      "metadata": {
        "colab": {
          "base_uri": "https://localhost:8080/"
        },
        "id": "H9nuXGR9cdBo",
        "outputId": "147edcc2-d32a-41f2-af50-f585f5460816"
      },
      "execution_count": 22,
      "outputs": [
        {
          "output_type": "stream",
          "name": "stdout",
          "text": [
            "hey amazon my package never #arrived URL please fix asap! @amazonhelp\n"
          ]
        }
      ]
    },
    {
      "cell_type": "markdown",
      "source": [
        "### Transliteration"
      ],
      "metadata": {
        "id": "xIbC2AYptbwR"
      }
    },
    {
      "cell_type": "code",
      "source": [
        "# the text to be transliterated\n",
        "text = \"Aapa sabhii kaa yahaan svaagat hai.\"\n",
        "# text=\"chalo\"\n",
        "# printing the transliterated text\n",
        "print(text)\n",
        "print(transliterate(text, sanscript.ITRANS, sanscript.DEVANAGARI))"
      ],
      "metadata": {
        "colab": {
          "base_uri": "https://localhost:8080/"
        },
        "id": "Qx9q7K1evKWS",
        "outputId": "19e06a27-d524-4bf6-ec07-bb8803691ec7"
      },
      "execution_count": 23,
      "outputs": [
        {
          "output_type": "stream",
          "name": "stdout",
          "text": [
            "Aapa sabhii kaa yahaan svaagat hai.\n",
            "आअप सभी का यहान् स्वागत् है।\n"
          ]
        }
      ]
    },
    {
      "cell_type": "code",
      "metadata": {
        "colab": {
          "base_uri": "https://localhost:8080/"
        },
        "id": "nj4tWmWlM3j2",
        "outputId": "7962d9e4-1dc0-4ef2-d8e5-08227d5bbeab"
      },
      "source": [
        "count=0\n",
        "sen_id=[]\n",
        "sentences=[]\n",
        "for sen in annotations.strip().split(\"# sent_enum = \"):\n",
        "  if(len(sen)>0):\n",
        "    count+=1\n",
        "    idx=sen.find(\"\\n\")\n",
        "    sen_id.append(sen[:idx])\n",
        "    txt=[]\n",
        "    for token in sen[idx+1:].strip().split('\\n'):\n",
        "      tok=token.split()\n",
        "      # Text-Cleaning\n",
        "      tok[0]=text_cleaning(tok[0])\n",
        "      if(tok[1]=='hi'):\n",
        "        tok[0]=transliterate(tok[0], sanscript.ITRANS, sanscript.DEVANAGARI)\n",
        "      # else:\n",
        "      #   tok[0]=spelling_correction(tok[0])\n",
        "      txt.append(tok)\n",
        "    sentences.append(txt)\n",
        "\n",
        "print(count)"
      ],
      "execution_count": 28,
      "outputs": [
        {
          "output_type": "stream",
          "name": "stdout",
          "text": [
            "1243\n"
          ]
        }
      ]
    },
    {
      "cell_type": "code",
      "metadata": {
        "colab": {
          "base_uri": "https://localhost:8080/"
        },
        "id": "wYuVR9aIeYHe",
        "outputId": "a578f67e-fc0b-4c4c-ff63-a92abf5833eb"
      },
      "source": [
        "print(sentences[1])"
      ],
      "execution_count": 27,
      "outputs": [
        {
          "output_type": "stream",
          "name": "stdout",
          "text": [
            "[['I', 'en', 'O'], ['liked', 'en', 'O'], ['a', 'en', 'O'], ['@YouTube', 'en', 'O'], ['video', 'en', 'O'], [' URL ', 'en', 'O'], ['ख़भि', 'hi', 'O'], ['Pअल्कोन्', 'hi', 'O'], ['Pए', 'hi', 'O'], ['आअसून्', 'hi', 'O'], ['ःऐ ', 'hi', 'O'], ['ख़िशोरे', 'hi', 'B-PERSON'], ['ख़ुमर्', 'hi', 'I-PERSON'], [' Vocal', 'en', 'O'], ['Cover', 'en', 'O'], ['By', 'en', 'O'], ['Stephen', 'en', 'B-PERSON'], ['Qadir', 'rest', 'I-PERSON']]\n"
          ]
        }
      ]
    },
    {
      "cell_type": "code",
      "metadata": {
        "colab": {
          "base_uri": "https://localhost:8080/"
        },
        "id": "kjKgxL6KQLRU",
        "outputId": "a2891c3f-058d-43b4-e929-fc4eddced854"
      },
      "source": [
        "tags=[]\n",
        "words=[]\n",
        "lang=[]\n",
        "for id,sen in zip(sen_id,sentences):\n",
        "  for tok in sen:\n",
        "    lang.append(tok[1])\n",
        "    words.append(tok[0])\n",
        "    tags.append(tok[2])\n",
        "words.append(\"<OOV>\")\n",
        "print(len(set(words)),len(words))\n",
        "print(len(set(tags)))\n",
        "print(Counter(tags))\n",
        "print(len(set(lang)))\n",
        "print(Counter(lang))"
      ],
      "execution_count": null,
      "outputs": [
        {
          "output_type": "stream",
          "name": "stdout",
          "text": [
            "7947 21066\n",
            "7\n",
            "Counter({'O': 18843, 'B-PERSON': 963, 'B-PLACE': 455, 'I-PERSON': 411, 'B-ORGANISATION': 218, 'I-PLACE': 108, 'I-ORGANISATION': 67})\n",
            "3\n",
            "Counter({'en': 8198, 'hi': 6905, 'rest': 5962})\n"
          ]
        }
      ]
    },
    {
      "cell_type": "markdown",
      "source": [
        "### EDA"
      ],
      "metadata": {
        "id": "GgZv10IAzvBE"
      }
    },
    {
      "cell_type": "code",
      "metadata": {
        "colab": {
          "base_uri": "https://localhost:8080/",
          "height": 607
        },
        "id": "zMZRQMJWlLSH",
        "outputId": "322d4968-035d-46ad-f791-05959891f761"
      },
      "source": [
        "# Wordcloud\n",
        "\n",
        "# importing all necessary modules\n",
        "from wordcloud import WordCloud, STOPWORDS\n",
        "import matplotlib.pyplot as plt\n",
        "import pandas as pd\n",
        "\n",
        "dataset = ' '.join(words)\n",
        "wordcloud = WordCloud(width = 800, height = 800,\n",
        "                background_color ='white',\n",
        "                min_font_size = 10).generate(dataset)\n",
        " \n",
        "# plot the WordCloud image                      \n",
        "plt.figure(figsize = (8, 8), facecolor = None)\n",
        "plt.imshow(wordcloud)\n",
        "plt.axis(\"off\")\n",
        "plt.tight_layout(pad = 0)\n",
        "\n",
        "# def create_word_cloud(string):\n",
        "#    maskArray = npy.array(Image.open(\"cloud.png\"))\n",
        "#    cloud = WordCloud(background_color = \"white\", max_words = 200, mask = maskArray, stopwords = set(STOPWORDS))\n",
        "#    cloud.generate(string)\n",
        "#    cloud.to_file(\"wordCloud.png\")\n",
        "# dataset = dataset.lower()\n",
        "# create_word_cloud(dataset)"
      ],
      "execution_count": null,
      "outputs": [
        {
          "output_type": "display_data",
          "data": {
            "text/plain": [
              "<Figure size 576x576 with 1 Axes>"
            ],
            "image/png": "[encoded data removed]"
          },
          "metadata": {
            "needs_background": "light"
          }
        }
      ]
    },
    {
      "cell_type": "code",
      "metadata": {
        "id": "ihp7_KinU2tx"
      },
      "source": [
        "d={'O': 18843, 'B-PERSON': 963, 'B-PLACE': 455, 'I-PERSON': 411, 'B-ORGANISATION': 218, 'I-PLACE': 108, 'I-ORGANISATION': 67}\n",
        "d2={'B-PERSON': 963, 'B-PLACE': 455, 'I-PERSON': 411, 'B-ORGANISATION': 218, 'I-PLACE': 108, 'I-ORGANISATION': 67}"
      ],
      "execution_count": null,
      "outputs": []
    },
    {
      "cell_type": "code",
      "metadata": {
        "id": "sjsw6sCcVEvG"
      },
      "source": [
        "# Import library\n",
        "import pandas as pd\n",
        " \n",
        "# Create Dataset {'en': 8198, 'hi': 6905, 'rest': 5962}\n",
        "# df = pd.DataFrame([963,455,411,218,108,67], index=['B-PERSON', 'B-PLACE', 'I-PERSON','B-ORGANISATION','I-PLACE','I-ORGANISATION'], columns=['Values']) \n",
        "df = pd.DataFrame([8198,6905,5962], index=['en', 'hi','rest'], columns=['Values']) "
      ],
      "execution_count": null,
      "outputs": []
    },
    {
      "cell_type": "code",
      "metadata": {
        "colab": {
          "base_uri": "https://localhost:8080/",
          "height": 143
        },
        "id": "_-v8mwfDVTYS",
        "outputId": "74900369-0f1d-4d76-d113-c0597bcd0ef1"
      },
      "source": [
        "# df=pd.DataFrame(d)\n",
        "df"
      ],
      "execution_count": null,
      "outputs": [
        {
          "output_type": "execute_result",
          "data": {
            "text/plain": [
              "      Values\n",
              "en      8198\n",
              "hi      6905\n",
              "rest    5962"
            ],
            "text/html": [
              "\n",
              "  <div id=\"df-4fd754d2-0762-4055-a025-ca4afc079df2\">\n",
              "    <div class=\"colab-df-container\">\n",
              "      <div>\n",
              "<style scoped>\n",
              "    .dataframe tbody tr th:only-of-type {\n",
              "        vertical-align: middle;\n",
              "    }\n",
              "\n",
              "    .dataframe tbody tr th {\n",
              "        vertical-align: top;\n",
              "    }\n",
              "\n",
              "    .dataframe thead th {\n",
              "        text-align: right;\n",
              "    }\n",
              "</style>\n",
              "<table border=\"1\" class=\"dataframe\">\n",
              "  <thead>\n",
              "    <tr style=\"text-align: right;\">\n",
              "      <th></th>\n",
              "      <th>Values</th>\n",
              "    </tr>\n",
              "  </thead>\n",
              "  <tbody>\n",
              "    <tr>\n",
              "      <th>en</th>\n",
              "      <td>8198</td>\n",
              "    </tr>\n",
              "    <tr>\n",
              "      <th>hi</th>\n",
              "      <td>6905</td>\n",
              "    </tr>\n",
              "    <tr>\n",
              "      <th>rest</th>\n",
              "      <td>5962</td>\n",
              "    </tr>\n",
              "  </tbody>\n",
              "</table>\n",
              "</div>\n",
              "      <button class=\"colab-df-convert\" onclick=\"convertToInteractive('df-4fd754d2-0762-4055-a025-ca4afc079df2')\"\n",
              "              title=\"Convert this dataframe to an interactive table.\"\n",
              "              style=\"display:none;\">\n",
              "        \n",
              "  <svg xmlns=\"http://www.w3.org/2000/svg\" height=\"24px\"viewBox=\"0 0 24 24\"\n",
              "       width=\"24px\">\n",
              "    <path d=\"M0 0h24v24H0V0z\" fill=\"none\"/>\n",
              "    <path d=\"M18.56 5.44l.94 2.06.94-2.06 2.06-.94-2.06-.94-.94-2.06-.94 2.06-2.06.94zm-11 1L8.5 8.5l.94-2.06 2.06-.94-2.06-.94L8.5 2.5l-.94 2.06-2.06.94zm10 10l.94 2.06.94-2.06 2.06-.94-2.06-.94-.94-2.06-.94 2.06-2.06.94z\"/><path d=\"M17.41 7.96l-1.37-1.37c-.4-.4-.92-.59-1.43-.59-.52 0-1.04.2-1.43.59L10.3 9.45l-7.72 7.72c-.78.78-.78 2.05 0 2.83L4 21.41c.39.39.9.59 1.41.59.51 0 1.02-.2 1.41-.59l7.78-7.78 2.81-2.81c.8-.78.8-2.07 0-2.86zM5.41 20L4 18.59l7.72-7.72 1.47 1.35L5.41 20z\"/>\n",
              "  </svg>\n",
              "      </button>\n",
              "      \n",
              "  <style>\n",
              "    .colab-df-container {\n",
              "      display:flex;\n",
              "      flex-wrap:wrap;\n",
              "      gap: 12px;\n",
              "    }\n",
              "\n",
              "    .colab-df-convert {\n",
              "      background-color: #E8F0FE;\n",
              "      border: none;\n",
              "      border-radius: 50%;\n",
              "      cursor: pointer;\n",
              "      display: none;\n",
              "      fill: #1967D2;\n",
              "      height: 32px;\n",
              "      padding: 0 0 0 0;\n",
              "      width: 32px;\n",
              "    }\n",
              "\n",
              "    .colab-df-convert:hover {\n",
              "      background-color: #E2EBFA;\n",
              "      box-shadow: 0px 1px 2px rgba(60, 64, 67, 0.3), 0px 1px 3px 1px rgba(60, 64, 67, 0.15);\n",
              "      fill: #174EA6;\n",
              "    }\n",
              "\n",
              "    [theme=dark] .colab-df-convert {\n",
              "      background-color: #3B4455;\n",
              "      fill: #D2E3FC;\n",
              "    }\n",
              "\n",
              "    [theme=dark] .colab-df-convert:hover {\n",
              "      background-color: #434B5C;\n",
              "      box-shadow: 0px 1px 3px 1px rgba(0, 0, 0, 0.15);\n",
              "      filter: drop-shadow(0px 1px 2px rgba(0, 0, 0, 0.3));\n",
              "      fill: #FFFFFF;\n",
              "    }\n",
              "  </style>\n",
              "\n",
              "      <script>\n",
              "        const buttonEl =\n",
              "          document.querySelector('#df-4fd754d2-0762-4055-a025-ca4afc079df2 button.colab-df-convert');\n",
              "        buttonEl.style.display =\n",
              "          google.colab.kernel.accessAllowed ? 'block' : 'none';\n",
              "\n",
              "        async function convertToInteractive(key) {\n",
              "          const element = document.querySelector('#df-4fd754d2-0762-4055-a025-ca4afc079df2');\n",
              "          const dataTable =\n",
              "            await google.colab.kernel.invokeFunction('convertToInteractive',\n",
              "                                                     [key], {});\n",
              "          if (!dataTable) return;\n",
              "\n",
              "          const docLinkHtml = 'Like what you see? Visit the ' +\n",
              "            '<a target=\"_blank\" href=https://colab.research.google.com/notebooks/data_table.ipynb>data table notebook</a>'\n",
              "            + ' to learn more about interactive tables.';\n",
              "          element.innerHTML = '';\n",
              "          dataTable['output_type'] = 'display_data';\n",
              "          await google.colab.output.renderOutput(dataTable, element);\n",
              "          const docLink = document.createElement('div');\n",
              "          docLink.innerHTML = docLinkHtml;\n",
              "          element.appendChild(docLink);\n",
              "        }\n",
              "      </script>\n",
              "    </div>\n",
              "  </div>\n",
              "  "
            ]
          },
          "metadata": {},
          "execution_count": 176
        }
      ]
    },
    {
      "cell_type": "code",
      "metadata": {
        "colab": {
          "base_uri": "https://localhost:8080/",
          "height": 501
        },
        "id": "6aLn4GJsVP_z",
        "outputId": "a0283765-2645-4e5c-faaf-b2fadb3b2003"
      },
      "source": [
        "# Make the Pie plot\n",
        "df.plot(kind='pie', subplots=True, figsize=(8, 8))"
      ],
      "execution_count": null,
      "outputs": [
        {
          "output_type": "execute_result",
          "data": {
            "text/plain": [
              "array([<matplotlib.axes._subplots.AxesSubplot object at 0x7f5237ecca50>],\n",
              "      dtype=object)"
            ]
          },
          "metadata": {},
          "execution_count": 177
        },
        {
          "output_type": "display_data",
          "data": {
            "text/plain": [
              "<Figure size 576x576 with 1 Axes>"
            ],
            "image/png": "[encoded data removed]"
          },
          "metadata": {}
        }
      ]
    },
    {
      "cell_type": "code",
      "source": [
        "import pandas as pd\n",
        "\n",
        "t2i={'B-ORGANISATION': 0, 'B-PERSON': 1, 'O': 2, 'I-PERSON': 3, 'B-PLACE': 4, 'I-PLACE': 5, 'I-ORGANISATION': 6}\n",
        "d3={'O': 39617, 'B-PERSON': 254, 'I-PERSON': 112, 'B-PLACE': 105, 'B-ORGANISATION': 61, 'I-PLACE': 24, 'I-ORGANISATION': 19}\n",
        "df = pd.DataFrame([39617,254,112,105,61,24,19], index=['O','B-PERSON', 'I-PERSON', 'B-PLACE', 'B-ORGANISATION', 'I-PLACE', 'I-ORGANISATION'], columns=['Values']) \n",
        "df2 = pd.DataFrame([254,112,105,61,24,19], index=['B-PERSON', 'I-PERSON', 'B-PLACE', 'B-ORGANISATION', 'I-PLACE', 'I-ORGANISATION'], columns=['Values']) \n",
        "\n",
        "df.plot(kind='pie', subplots=True, figsize=(8, 8))"
      ],
      "metadata": {
        "colab": {
          "base_uri": "https://localhost:8080/",
          "height": 501
        },
        "id": "mBeTDilvFFVC",
        "outputId": "dbf5711d-17aa-4a7a-d16d-01df1e87f9d9"
      },
      "execution_count": null,
      "outputs": [
        {
          "output_type": "execute_result",
          "data": {
            "text/plain": [
              "array([<matplotlib.axes._subplots.AxesSubplot object at 0x7fd435014490>],\n",
              "      dtype=object)"
            ]
          },
          "metadata": {},
          "execution_count": 1
        },
        {
          "output_type": "display_data",
          "data": {
            "text/plain": [
              "<Figure size 576x576 with 1 Axes>"
            ],
            "image/png": "[encoded data removed]"
          },
          "metadata": {}
        }
      ]
    },
    {
      "cell_type": "code",
      "metadata": {
        "id": "GbI-st3BVLXr"
      },
      "source": [
        ""
      ],
      "execution_count": null,
      "outputs": []
    },
    {
      "cell_type": "code",
      "metadata": {
        "id": "91mmTDkmVLUq"
      },
      "source": [
        ""
      ],
      "execution_count": null,
      "outputs": []
    },
    {
      "cell_type": "code",
      "metadata": {
        "colab": {
          "base_uri": "https://localhost:8080/"
        },
        "id": "dG7nO4-YXt5v",
        "outputId": "6611adbc-10f8-4cb2-eba5-086f6832bef8"
      },
      "source": [
        "max_len=0\n",
        "min_len=0\n",
        "avg_len=0\n",
        "for sen in sentences:\n",
        "  l=len(sen)\n",
        "  if(l>max_len):\n",
        "    max_len=l\n",
        "  if(l<min_len):\n",
        "    min_len=l\n",
        "  avg_len+=l\n",
        "avg_len/=len(sentences)\n",
        "\n",
        "print(\"MIN Length of sentences is\",min_len)\n",
        "print(\"MAX Length of sentences is\",max_len)\n",
        "print(\"AVG Length of sentences is\",avg_len)"
      ],
      "execution_count": null,
      "outputs": [
        {
          "output_type": "stream",
          "name": "stdout",
          "text": [
            "MIN Length of sentences is 0\n",
            "MAX Length of sentences is 36\n",
            "AVG Length of sentences is 16.946902654867255\n"
          ]
        }
      ]
    },
    {
      "cell_type": "markdown",
      "metadata": {
        "id": "HXO927PRWKEl"
      },
      "source": [
        "### Creating Word & Tag dictionary"
      ]
    },
    {
      "cell_type": "code",
      "metadata": {
        "colab": {
          "base_uri": "https://localhost:8080/"
        },
        "id": "J_ZGiGW4WHhl",
        "outputId": "90ee1f96-24ab-43be-b7aa-35f352e8af1d"
      },
      "source": [
        "# Creating a vocabulary\n",
        "un_words = list(set(words))\n",
        "un_words.append(\"<PAD>\")\n",
        "n_words = len(un_words)\n",
        "print(\"Length of vocabulary = \",n_words)\n",
        " \n",
        "un_tags = list(set(tags))\n",
        "# Adding tag for <PAD>\n",
        "# un_tags.append(\"<PAD>\")\n",
        "n_tags = len(un_tags)\n",
        "print(\"\\nnumber of tags = \",n_tags)\n",
        "# print(un_tags)\n",
        " \n",
        "# Creating words to indices dictionary.\n",
        "word2idx = {w: i for i, w in enumerate(un_words)}\n",
        "# Creating tags to indices dictionary.\n",
        "tag2idx = {t: i for i, t in enumerate(un_tags)}\n",
        "print(tag2idx)"
      ],
      "execution_count": null,
      "outputs": [
        {
          "output_type": "stream",
          "name": "stdout",
          "text": [
            "Length of vocabulary =  7948\n",
            "\n",
            "number of tags =  7\n",
            "{'I-PERSON': 0, 'O': 1, 'B-ORGANISATION': 2, 'B-PLACE': 3, 'B-PERSON': 4, 'I-PLACE': 5, 'I-ORGANISATION': 6}\n"
          ]
        }
      ]
    },
    {
      "cell_type": "code",
      "source": [
        "print(un_words)"
      ],
      "metadata": {
        "colab": {
          "base_uri": "https://localhost:8080/"
        },
        "id": "06bJsh2CylgM",
        "outputId": "5afb467e-8da9-4098-f21c-bd84611296e6"
      },
      "execution_count": null,
      "outputs": [
        {
          "output_type": "stream",
          "name": "stdout",
          "text": [
            "['Particular', 'Zee', 'दूब्त', 'BilliMora', 'हरने', 'अब्', 'तेरि', 'डेख', 'करदेन्', '#DevonKeDevMahadev', 'CNN', 'ख़मरि', 'men', 'चुतिय', 'waiting', 'Does', '@CaptAbhimanyu', 'बोल्', 'नय', 'BSK', 'ग़ाट्E', 'षिव', 'peasant', '5 5', 'Journalist', 'Sign', 'Hindustani', 'against', ':) ', 'HY', 'mileage', '@ःउस्न्ख़ःअथियर्', 'ंअस्तिज़ादे', 'Girodhpuri', 'Model', 'Education', 'ministry', '#AMA', 'मुल्क्', '@rvmoorthyhindu', 'ण', 'policies', 'Uttarakhand', 'Bअम्', 'Vastraadi', 'Ryan', 'मैन्', 'Glossary', '@तथगत२', 'ब्च्', 'तुम्हार', 'handsome', 'लल्', 'कत्', 'Shivaji', 'cleaned', '#ंअहकलेश्वर्', '@एये नक्शिरन्', 'घुमके', 'ग्ग्यी', '@NDTVProfit', 'Nova', '#02Feb15', 'Charm', 'तुने', 'all', '@NeelakshiGswm', 'plans', 'pls', 'produce', '#आयुथEऴुथु', 'BI', 'Sosa', 'Chennai', '11:00', 'Haryana', '@MTVRoadies', 'Shakira ', 'अन्खोन्', 'व्जह्', 'traitors', 'heavens', 'fb', '33', 'केने', 'देय्', 'parcel', 'Facts', 'पे', '@RailMinIndia', 'बदओ', 'कत्न', '@BhagwanUvach', 'ties', 'पुरि', 'परदे', 'Biopic', 'income', 'before', 'रे', 'Choice', 'सब्ने', 'want', 'एह्', 'PA', 'Zअर्दरि', 'drum', '@kenanmalik', 'lowered', 'Bअलेस्वर्', '@AnjuNagarajan', 'react', 'करे', 'डिमग्', 'wherever', 'तक्षेस्', 'बरे', '#DelhiPolice', 'स्व्', 'रम्', 'Yeah', '@InshaMalik 1', 'अब्कि', 'किर्ति', 'hit', 'गा', 'Ya', '@BeingSalmanKhan', '#MahaShivRatri', 'chairman', 'm', 'कम्नये', 'why', '@king ranjhna', '@bharat builder', 'roman', 'मिन्', 'know', 'Rai', 'Oम्कार', 'विचर्', \"Shah's\", 'कर्', 'आनुश्थन्', '#JavedAkhtar', 'C', 'Gupta', 'long', 'ऐसे', 'retirement', 'तबाहि', 'इज़्ज़त्', 'Mr.', '@madhukishwar', 'ग़ाय़्', 'keep', 'इस्स्ने', 'paradise', 'आर्रे', 'X', 'विद्य', 'anthro', 'सह्', 'MUN', 'Join', 'धन्', 'Rajasthan', 'Buck', 'session', '@nitinmahalwal', 'about', 'Part', 'Superb', 'Mahamrityunjay', 'boiling', '@123telugu', 'उद', 'किस्को', 'art', 'Fast', '@TheRajKundra', 'Astrologer', 'स्ब्को', 'अय्', 'luv', 'And', 'INDIA', 'shows', 'HAA', '@gillraman705', 'Major', 'Moscow', '@द्र्धीरज्जैन्', 'china', 'Sidonia', '@shrishtimona', 'press', 'भक्त्', 'TweetsNow', 'कुब्', 'ज़ाहिल्', 'उन्हि', 'लेग', 'पेय्', 'Boat', 'हौले', ':', '#SG', 'Welcoming', '@feminamissindia', 'सब्के', 'Standard', \"chirajeevi's\", 'अकेले', 'Knowing', 'कर्ति', 'cameron', '@A Ali714', 'opposition', 'traditional', '@akshaysonal', 'शोत्', 'Nautanki', 'mimicking', 'गुन्ज्', 'locations', 'Lov', 'praise', '#food', 'Raymond', 'णहय', '@आर्नब्ग़ोस्वमि', 'षह्', 'lodge', 'Censor', 'आइर्वय्स्', 'Khitan', '#Kids', 'Fईय', 'फ़्य्द', 'Indiana', '@MahaMahadev', 'आलम्', 'club', 'Watches', 'Nandamuri', 'Second', 'immoral', 'षब्क', 'people', 'sector', 'Jet', 'Bहरत्', 'absurd', 'आज़ादि', 'ख़र्के', '#hanumanjayanti', 'inauguration', 'Rapid', 'वोहि', 'कह्', 'मनते', 'वर्', 'hours', 'दीश्', 'Professor', 'he', 'ग़ब्बर्', 'बि', 'आगर्', 'theatres', 'उत्तर्', '@pacificleo', 'have', 'Dance', '#MahaShivratri', 'Eman', 'ज़यद', '@firstpost', '@blogger26', 'w ', 'जायेइन्', '@Banja', '@nag1406', 'पर्व्', 'Actor', 'Everything', 'salute', '@ग़र्गिऱवत्', '#mumbairains', '@gurmeetramrahim', '@ChaitraSalian', 'तव', 'smiling', 'Christmas', '@ChouhanShivraj', 'Pos', '@TheMusicLegends', \"fan's\", 'बनय्', 'ग़न्ग', 'एत्न', 'देन्गे', 'Vishwanath', 'blow', 'दिल्लि', 'Damn', 'लि', '#भत्कल्', 'पियरि', 'Ganesha', '@Being Humor', 'Immediately', 'taught', 'Crying', '@IALalika', 'IT', 'सलर्य्', 'Anderson', 'रत्', '#Dearth', 'बलय्य', 'करो', 'Cos', 'जय्', '@ऱितुऱथौर्', 'prominent', 'Pऊज', 'Dhenkanal', 'UT', 'Bहेन्चोद्', '@Raina', 'Pअरम्', 'Double', 'cooling', 'G', 'लेकपोते', '@Abhinav India', 'priority', '. ? ? ', 'मिलेय्', 'Full', '#IndvsSA', 'medical', '@Anne k', 'होउ', 'normal', 'पस्', 'America', 'आजओ', 'dont', '@rameshsrivats', 'इन्पे', 'Landing', 'षाफ़्', 'लौदे', 'ईस्क', 'Panels', 'Burns', 'तोपि', 'belongs', 'rohitsaini2100', '@arunvipra', 'raj n ish', 'वज्से', '@VishalDadlani', 'hilltop', 'copied', 'आह', 'Three', '@चेतन् भगत्', 'दोबर', '@षहिडिश', 'fruit', 'आए', ':D', 'Procedure', 'hope', 'हमारेय्', 'ंएध', 'षिवय', 'their', 'Vannarapettai', '#MSGsaysEqualityToAll', 'सुच्चे', 'Pretty', 'join', 'अम्मि', 'implementing', 'special', 'selfie', 'फ्र्', 'rail', 'Ladakh', 'सके', '51', 'ष्रि', 'irritating', 'द्', 'दिखयि', 'Jailed', 'य़े', 'villagers', 'Mandate', 'Hit', 'cut', ': D', 'बधै', '@TajendraRajora', 'violently', 'Gurukul', 'देन', '#Hinduism', 'ज़म', '@LiteraryBadass', 'लगत', 'you', 'खेल्रहहे', 'गाने', '#wt20', '#RCBvRPS', '@mrsfunnybones', 'hang', '@iamlakshmirai', 'लग्', 'आआड्ंई', 'nets', 'tumor', 'छुतिय', 'खा', 'Showed', 'Millions', '@AbhinandanSekhr', '#greatBattle', '#FarziDegreeModiKi', 'indiaforums', '@Pउजाग़्होश्', 'brought', 'णारे', '#MIvsCSK', 'कभु', 'mandir', 'exposes', 'ःउज़ूरि', 'CHIRKUT', 'अन्दाज़्', 'rare', 'EMUs', 'sec', 'कर्मून्', '@1', 'Epic', 'ख़पूर्', '@road555', '#SHIVAAY', 'film', 'current', 'इन्को', 'डो', '@@@', 'Senate', 'मोहे इ है', 'plagiarism', '#HinduismAbroad', 'पूचो', 'green', 'Rathotsava', 'Biriyani', 'original', 'farmers', 'महशिव्रत्रि', '@Bअक्वस्ऱदिओ', 'Roster', '#mustwatchmsg', 'बनि', 'Anti Hindu', 'करते', 'ख़्य्', 'hhrm', '@SS4India', 'gold', 'boot', ': ) ', 'Tulsa', ' A', '@gala semi', '@MUFCNewsUK', 'Zइम्बब्वे', 'ख़ल्पित्', 'Pरकश्', 'Villages', '@rohitawasthi', 'ministries', 'जौ', 'ख़शि', '@RanaAyyub', 'ख़िय', 'अस्नुश्क', 'मर्ग्', '@smitaprakash', 'Pएह्लि', 'आएवम्', 'Other', 'लर्कि', 'Bहग्वन्जि', 'cases', '#Shivratri', '@Javedakhtarjadu', '@Zeenews', '5', 'Robbinsville', 'ःएय्', 'Boost', 'regime', 'alma', 'जमते', '#Join', 'करोगे', 'तरीफ़्', 'propaganda', 'knows', '@Alexandru4', 'Reception', 'business', 'board', 'Fइरत', '@Madan China', 'suffered', 'UMPIRE', '@kapil20012001', 'catch', 'Bहोलेशन्कर्', 'कल', 'divine', 'Fly', '@abpmajhatv', 'विस', 'य', 'मच', 'd', 'फतने', 'अजये', 'Chicken', 'रखो', 'चलु', 'Upadhyay', 'BःOळ्Eणाट्ः', 'self', 'solution', '@आनिरुध्छौध्र्य्', 'exited', 'Bअलोच्', 'फ़िल्म्', 'ख़ोन्', 'चरनो', '@taslimanasreen', 'commentator', 'जन्य्', 'ख़हिन्', '#StillMSG2Everywhere', 'खूब्', 'humanitarian', 'Meet', 'सभि', 'FAS', '@सुधिर्चौधर्य्', 'Tamara', 'Batman', '@MhtRajeev', 'कल्', 'bless', 'Gurdwara', '@kun desa', '@piersmorgan', 'contractual', 'dinner', 'Madam', 'velocity', '1 8', '69th', 'Afterwards', 'खुशि', 'loving', 'profit', 'र्ह', '@अरीब्खुरफ़ति', 'दर्बर्', 'PS', 'आनुश्क', 'drink', 'response', 'जरूरत्', '@kritisanon', '@machine rt', \"national'!\", 'धोते', 'चैह्ये', 'ख़ुमर्', 'Team', 'Edge', '@ष्र्Bअच्चन्', '@sanjaybafna', '@VaishnavDevta', '#RiseAboveRacism', 'षत्नम्', 'plz', 'cooker', 'ऱज्', 'आअदत्', 'शन्ति', 'Hmm', 'Kalindee', 'डोस्तो', 'गन्ग', 'Anthem', 'आज्', 'store', 'loves', 'Bowling', 'urgently', 'बिचदो', '#टहेर्षह्', 'proclaimed', 'Zebra', 'C April', '#SR', 'मेने', '@the master logo', 'Weed', 'fare', 'जात्', 'जायेग', '@SankalpSharan', '#AB', 'river', 'odd', 'डरिया', 'ग़य्ले', 'Larson', '@edit tag', '#ंऔकंऔक', 'पएग', 'मन्ज़िल्', 'जा', 'entertainment', 'त्म्हय्', 'CONGRATS', 'Panchalingeswar', 'Riots', 'यहि', 'guards', '#Africa', 'cylinder', '@sardesairajdeep', '@ShazooQureshi', '#madhuridixit', 'discussions', 'देश्', 'Lahore', ':P', 'like', 'मीथ', '@Stupendousaf', 'South', 'बल्ल्', '@scotchism', '@rishibagree', 'Olympic', 'launched', 'Puducherry', 'षोभ', 'अनुश्क', 'airnewsalerts', 'N', 'paper', 'Baku', 'टमम्', 'सहब्', 'धम्', '.', 'fruits', 'Bulgaria', '#CWCFantasy', 'वाल', 'performing', 'lavish', '@ImAkanksha26', '@LALETTAN OS', '@KalaYadav3', 'डीय़ाआ', 'आअस्थ', 'sure', 'steps', 'ग्ये', '@ajaydevgn', 'Attended', 'लगे', 'scheduled', 'Gandhi', 'unmatchable', 'Pradesh', 'always', 'ब्स्', 'roasted', 'hurled', 'दिअ', '@smart mumbaikar', 'भेजो', 'प्रिय', 'ग़य', 'Urban', 'मार्', 'ख़ि', 'attack', 'ft', \"@घुलम्नज़द्'स्\", 'Animal', 'workers', 'वल्', '#BestFakeJournalists', 'gurgoan', 'infant', 'इत्नि', 'om', 'किसि', 'near', 'नैन्', 'Babu', '@दीस्पेअक्', 'Trend', 'rural', '@Bachchan', 'दा', 'षिवाल', 'Samsung', '@TheSynergy5', 'सब्क', 'सफ़र्', '@ParineetiChopra', 'rules', 'horror', 'पुरे', 'Pics', 'Soo', 'Devon', 'क़ौम्', 'Santos', '@BishanBedi', \"#DMS's\", '@ManalKhan07', 'RAJESH', 'Rough', 'Nikhil', 'जात', 'mahatma', \"modi's\", 'Pilgrims', '@MildlyClassic', '@Filmbuff100', '5yrs', 'हैइ', '@षरह्Zअकि११', 'brisk', 'inhabitants', 'यर्', 'surrender', 'sureshprabhu', 'ऊन्के', 'name', 'मुल्को', 'प्रनम्', 'Taiwan', 'the', 'Papa', 'Forum', 'link', 'ंअज्बुर्', 'Tamil', 'ashram', 'Mw', 'ऱस', 'products', 'where', 'चोर्', 'Bऔरहब', 'Budgetary', 'hahahah', 'सोच्', 'डेख्ते', '#SuperstarInBurripalem', 'ईश्क़्', 'TB', 'caste', 'इ', 'minutes', 'ःअवन्', 'Sharing', 'Angolan', '@nalinisinghtv', 'ःऐ ', 'Commentary', 'os', '@AAPInNews', 'Ram', 'शुरु', 'MahaShivRatri', 'ख़रून्', 'dmy', 'Bangladesh', 'गै', 'दाल्', 'ग़ुनाहो', 'विक्रेत', 'devices', 'मान्ग्', 'rejects', 'षुनबेश', 'Goal', 'tea', 'पेल्', 'Up Bihar', '#RajnigandhaSixWordsStory', 'did', 'principal', 'Bआते', 'घेर्', 'fake ', '@mishkoo90', 'hear', 'देते', '@Pyaar Riau ', '@BajpayeeManoj', 'thanks', 'relief', 'success', 'Institute', '@JasumatiPatel', 'Bअजिरओ', 'Bएवफ़', 'Thx', 'setup', 'Toro', 'दिनो', '$5', 'Bअहुत्', 'win', 'Live', 'Even', 'USF', 'गुनह्', 'ःअसिन', 'Himalayas', '@J0shear0jet', '@yesiamsaffron', 'But', '#ShameOnKejriwal', 'Whatsapp', 'आश्वसन्', 'बध्', 'Raid', 'madam', 'Tweet', 'serial', '@SimplyChanakya', 'ग़ुलाल्', '@ट्ःEद्सहेर्', 'आन', 'which', '#RahulgramTaparian', 'Bअजे', 'लिय', 'मरथोन्', 'डि', 'आन्न', 'शस्त्रि', 'Bahai', 'Hospital', 'they', 'पेद', 'waste', '@Eta555', 'arrest', \"Singh's\", 'arrested', 'Mahashivrathiri', 'षिवजि', '@RahulReply', '#Jai Mahakaal', 'ज़न', 'Pअल्कोन्', 'Pअकि', '#Meth', 'from', 'Bang Kok', 'Dark', 'OR', 'ग़द्दि', 'ModiBharosa', 'आचे', '@DivineSoulAmit', 'अन', 'मुझे', 'Our', 'begairato', 'पकद्', 'मौके', 'देख्ति', '@jecrcharish', 'Bहोग्ले', 'मुलक्', 'वद', 'तरिक', 'ख़्हैर्', 'तुमर', 'Anna', 'Brother', 'ंइल्', 'Crashed', '#OmNamahShivay', '@IndoriGaurav', 'when', 'Anu ', ' ? ', 'Aboutus', 'ड्ःआण्', 'lying', '@Anita ', 'Camera', 'हर्यन', '@DOCTORATLARGE', 'World', 'Patwaris', 'Viral', 'कर्व', 'rate', 'irregularities', 'P', 'missile', 'controlling', 'City', 'आनुस्ख', 'षिकर्', '@Picks103', 'swarm', 'का', '#Cricket', '@mangeshkarlata', 'रहत्', 'हत', 'Hindi', 'ऱज्यसभ', 'भीम्', 'Min', 'test', 'होग', '@डरेटोZलातान्', '@Calcutta Times', 'night', 'कहिन्', '#AamirKhan', '#direngeziparkigeliyoruz', 'listening', 'Famous', '@Rishi', 'नर', 'Use', 'Vअन्धले', 'Plaza', 'All', 'good', 'Image', 'गरिबो', 'hahahaha', 'Sometimes', 'Without', 'open', 'जाउन्', 'चह्ने', '@ईम्तियज़ाऴर्', 'तोरे', 'Adheres', ') ', '#आब्किBआर्Bएदिषर्कार्', 'Malaya', 'Speech', '#आचकिय', 'MerryXmas', \"You're\", 'चल्', 'आयेगि', '@VadodaraHistory', 'shiny', '@Narendra IRST', 'कर्लो', 'ख़्E', '@Barbiedawra', 'न', 'Mustafa', 'colours', 'ख़बि', 'itself', '@mar96kamal', 'म्न्दिर्', 'अवज़्', '@sonalSalmanK', 'Goa', 'tweet', 'route', 'god', '@InternetHinduz', '@aashish81us', 'Governor', 'omm', 'नै', 'जवब्', 'Award', 'बरिश्', 'यो', 'णाट्ः', 'Wहताय्', 'head', ':) ) ) ', 'पदेगि', 'Jyotirlinga', 'MG', 'Train', 'conspiracy', 'Name', 'गि', 'ग्य', 'mini', 'Vadb', 'El', 'ख़ाPOOऱ्', 'मुबरक्', '@ClubSporium', \"Prabhu's\", 'miss', 'ख़ल्व', 'गव', 'आग्र्', 'Uri', 'रुक्त', 'Update', 'presenting', 'Zअर्दरे', 'cross', 'Amazing', 'क्य्', 'Mishra', 'रहेग', 'domain', '#baytahminizliyoruz', 'outcry', 'Bedi', 'Similarity', '@abpnewshindi', 'confusing', '@sankalparkapoor', 'Us', 'नुतन्कि', 'temples', '@Bihar JP', 'love', 'Bहीम्', ' ) ', '@arena ', 'Status', 'Py', 'सयिन्ग् ख़्य', 'actual', 'filed', 'णयनगर्', 'करुन्', '@boogerworm', 'Downtown', '@डारुBआज़्ंएह्त', 'Acting', 'police', 'ख़ाश्', '@OdishaReporter', '#Baroda', '#RailwayBudget', 'there', 'Fares', 'भसद्', 'review', 'canada', 'लो', 'mining', 'Feb', 'quits', 'Radhika', 'Apartments', 'Chat', 'रैसे', 'Afa', 'Alive', 'Sankirtan', 'टुम्ने', 'understand', 'we', 'Rail', 'Shivdasani', 'De2', 'ख़ल्लूरि', 'Election', '#AskRaina', 'शिव्', 'flop', 'आन्तो', '#Fun', 'Photos', '#IfModiBecomesPM', '@ःअश्षिधु', 'wrongly', '#CantBeatIndia', 'आल्लह्', 'babugiri ', 'cracks', 'लर्ने', 'दाल्नि', 'History', 'होगै', 'क्र्नि', '@APJAbdulKalam', \"Baba's\", 'Foundation', 'क्गन्', 'punjab', 'Ais', 'legal', 'Waiting', '#MSGsuccessCelebration', 'bowl', 'षरोवर्', 'Pअत्कर्', 'He Pic', 'Movie', 'gym', '#Worldcup2015', 'ःअमे', 'ःअम्ल', 'RBI', 'father', 'लगने', 'ग़्हर्', 'eye', 'unemployed', 'delhi', '@harakhpadudo', 'Ravindra', 'During', '#MSGappeals', 'ंअश', 'ख़एव्', '#RailBudget2', 'means', 'dash', 'militants', '24xx', 'SHIVAI', 'BहैBहै', 'Why', 'Los', 'य्हि', 'पधिये', 'आये', 'ज़ीतए', '@bscamishra', 'Kudo', 'Telangana', 'case', 'Bye', 'ख़ोम्', 'Superstar', 'बनन', 'safe', 'exact', 'अच', 'Ltd', 'ःउ', 'अप्', 'great', 'Pयर्', 'Morning', 'sala 2', 'म्ल', 'cheapest', 'षेइख्', 'reflection', '@zeenews', 'Rithvik', 'trending', 'Romeo', 'Pital', 'city', '@1ost ', ' Vocal', 'तोउ', 'meets', 'tag', \"Baranya's\", 'जब्र', 'Gurmeetramrahim', 'son', 'वले', 'Albani', 'ShatyUvma', 'Citizen', 'ष्रिश्ति', 'Gangadhar', 'strategy', '#Narayan', 'how', 'ंअह', 'छैनि', '#TheWhiteRevolution', 'max', \"Kejriwal's\", 'त्म्से', '2002', '@MohsinAfridi ', 'two', 'officer', 'helps', '@AjEeTj 20', 'Rajesh', 'जाओ', 'challakutty', '#TanuWedsManuReturns', 'eat', '@तल्हआलिआख्तर्', 'किनरे', 'Seek', 'Demo', 'Cheek', 'दव', '@Zoom', 'Avu', 'Tv', 'ASHFAQUE', 'सुरेश्प्प्रभ्', 'इस्', 'Yusuf', 'campus', 'tides', 'gangraped', 'मिलवति', 'Rudraksh', 'झुत्', '३ग़्', 'थेकेदरि', 'ग़्हुत्नो', 'ंएर', 'बैथ्त', 'charming', 'place', '@hungary com', 'Kathmandu', 'अज्', 'Alan', 'ख़ाऱ्Eण्ग़्E', 'Evidence', 'षरन्', '@anuragkashyap72', 'morale', 'sweetheart', 'Fate', 'democracy', 'ज़ीतेग', 'कुमर्', 'Pअवन्', '@diving', '@रिय९सोब्ति', 'Sathya', '@billimehoncutec', 'Bहक्ति', 'ंआ', 'मोहे', 'panorama', 'शोर्', 'इन्', 'pool', 'डीवनि', 'Keeping', 'Bहग्वान्', 'Shiva', 'कहनि', 'Program', '@Kumar7', 'better', 'Borja', 'Rainy', 'japans', ' 3', '@DJNoreenKhan', 'Troll', 'grossed', 'खेल', 'escape', 'मत्', 'Star', 'Video', 'Top', 'ज़ि', 'congo', '@alumnae', 'आम्बेद्कर्', 'humour', 'सम्झने', 'ळहोरे', 'ःअर्', 'Ladubaba', 'roads', 'nan', 'फ़ैल्', 'गालियन्', '@foninjaTW', '@GoutamRishi', 'Support', \"whistle's\", 'reach', '#Bउर्नोल्ळगओळिब्तर्द्स्Bअचओ', 'votes', 'षज्दे', 'रेह्नेदो', 'Go', '@PadmajaJoshi', '#I', 'walk', 'age', 'picture', 'निकल्', '#MSGinCinemas', 'कर', 'Bहुबनेस्वर्', 'girls', 'आइये', 'खुश्', 'ंइल्क्', 'Kumar President', 'वैसे', 'comes', 'Cambodia', 'Took', 'select', 'Srisailam', '#MaggiBan', 'ज़्ब्', 'Pहिर्', 'Ok', 'plays', 'Subhas', 'य़ाध्', 'हुमेश', 'funeral', 'resident', 'Pए', 'भेन्छ्', 'chance', 'पलन्हर्', '@priyankachopra', 'कदा', 'तरह्', 'Kapil', 'guess', 'उस्', 'fuss', '@jyotipunjabi2', 'Critics', 'ख़्', '#FA', 'ऱम्', 'बुस्', 'Jyotirlingas', 'a', 'As', 'Premier', 'ंअहशिव्रथ्रि', 'क्रे', 'षुवमि', 'has', 'Morandi', 'दर्र्', '@SirJadeja', 'तकेर्', 'आअओ', 'bot', 'timing', 'Pollution', '180', 'AshramSewaTeam', '@LifeOKTV', 'thought', 'proving', 'क्र्न्', 'बतय', '#IndVsSA', 'ट्ःOख़्', 'dies', '#IndvsBan', 'रह', 'players', 'श्री', '@zeemusiccompany', 'Tribune', '@manoharparrikar', 'Albania', 'ज़िद्द्', 'Aaa', '@chetannarula', 'autograph', '@friendscongress', 'till', '@Bहिम्Bअस्सि', 'facebook', 'बैथ्', 'ख़न्गन', 'tech', 'करेगे', 'possum', '@ksushma140', 'critics', 'Muslim', 'गान', 'आआ', 'णज़ेर्', 'Tripura', '#ModiSlapsChina', 'जीते', 'ला', 'after', 'Vishnuvardhan', 'ंएरे', 'अन्स्', 'ऱज़', 'षिवल', 'Ball', '@bhattkaran83', '@smritiirani', 'टुम्हरे', 'अए', 'आदमि', 'देदो', '#MSGrequest', '#ठन्क्य़ोउषचिन्', 'Sidaway', '@gauravindoriya', 'fans', 'poor', 'आर्बाज़्', 'raymond', 'Independence', 'along', '#dessert', 'wishes', 'stations', 'cup', '@Rp 89', 'घ्र्', 'Afghanistan', '#PakArmy', 'आईEE', \"Shanghai La's\", 'Bhailog', 'Chaplin', 'ओ', 'बब', 'organised', 'उस्से', '@अजय्देव्ग्न्', 'Yo', 'Mom', '@TOIIndiaNews', '@Racing rao63', 'Sony', 'Goswami', 'Murderous', 'speed', \"Vअज्पयी'स्\", '@205HiDeeps', 'हम्को', 'मोहित्', 'देख्ने', 'ALL', 'देत', '#RahulGandhi', 'आअप्', 'डौर्', '500', '1Cr', 'मैनेज़िन्दगि', 'lol', 'वहि', 'B', 'षिरि', 'degrees', '#Congress', 'automatic', 'disqualification', 'ख़्ब्', '@उत्कर्श्नैथनि', 'Tango', 'David', '@Ravi JP', 'morning', 'Thailand', 'Bachchan', '@', '#MustWatchMSG', 'बात्', 'mothers', 'ज़वानि', 'क्र्के', 'audience', 'poonchu', 'topic', 'रहिये', '#MumbaiTaughtMe', 'camera', 'षाल्', 'आआP', 'छोला', 'लये', 'mam', 'दन्द्', 'हमर', 'Question ', 'Nano mere', 'कि', 'government', 'Love', 'Hey', 'auspicious', 'षश्वत्', 'praised', 'लऊ', 'हु', 'fr', 'BP', '1 10', 'yyyy', '#AnnaReturns', '#ST762', 'an', 'IndiaHistorypic', 'on', 'अभि', 'policy', 'Magnus', 'hindu', 'Chauhan', 'Bhutan', 'DeshGujarat', 'रखि', 'proof', 'बल्', 'यहन्', 'ख़माल्', '@Nana0806', '#Pakistan', 'हाथोन्', 'higher', 'cant', 'hung', 'ख़ी', '@Sheer S', 'चुर', 'MulayamSingh', '#Baywatch', 'एसि', 'derailed', 'foster', 'वन्न', 'छान्द्', 'wow', 'रहन', 'ordered', 'RailMinIndia', 'Pardesiaa', 'hindi', 'बधैय', '@DelhiPolice', 'होजए', 'Tank', '@Erik7', 'experience', 'Haha', 'ख़िश्वर्', 'ShivRatri', 'गुरु', 'Bravo', 'centrestage', 'Far', 'न्', 'खुसिय', ': ', '#Gujaratlions', 'My', 'raid', '@anilkapur ', 'withheld', 'ंउझ्', 'controversy', 'feelings', 'Vandal', 'ष्य्', 'cal', 'Pआजि', 'ख', 'ndash', 'Root', '#बेशर्मिसे', '@cricBC', '@AnwerNaqvi', 'जयेगे', 'छाप्', 'routine', 'ADVOCATE', '#WomensDay', 'Gt', 'quadrapling', 'Injured', 'Jade', 'Manga', 'at', 'appointed', 'Bridal', 'lifts', 's', 'ंEईण्', 'Mukherjee', 'ज़ये', 'stars', '#Delhi6', 'Sonia', 'Bओल्', '#शह्रुख्खन्', 'Shahid', '#AgustaWestlandScam', 'states', 'woman', 'say', 'TI', 'sonia', \":') \", 'Mahashivratri', 'Report', 'ख़े', 'जनाब् ए आलि', 'औकात्', 'म्य्', 'shoot', 'vs', 'खने', 'bday', '#excited', 'teachings', 'greater', '@vichupedia', 'Indianfans', 'follower', '#RespectResea', 'ळग्', 'सोचो', 'Rest', '@कमाल्र्खन्', '#chemin', 'अरेय्', '@ndpaatil', 'Charge', 'ensure', '@rani77777', 'propagating', 'ष्ःऊBःख़ांणाय़्E', '@rajeevnayak1985', '@hennaav', 'ळ्', 'fund', 'Floor', 'Para', '@TarkeebiMe', 'षुभ', 'उन्ग्लि', 'TOI', 'Pआऱ्', 'जिस्', 'mother', 'तेरे', 'खिच्ते', 'dismisses', '@german33526309', 'Sivalpuri', 'played', 'षिव्रति', 'Than', 'more', 'मय्', 'agenda', 'मे', 'करेग', 'Respect', 'irrelevant', '@Sand In Deed', 'जत', 'ऊस्के', 'Shimane', 'stings', 'Srilanka', '25', 'Bहि', 'development', 'जएग', 'Total', 'छल', 'Autism', 'ऱखो', 'bleach', 'New', '@NationalistNaMo', '#ठेरि', 'Hindutva', \"Caesar's\", 'बन्न', '@vickynanjappa', 'sedition', 'ःअय्', 'Jaipur', 'brother', '#DhanyaManikyaDebbarma', '@Abdullahbaltit', 'डेबज्योति', 'wash', 'ब्धै', 'ळक्श्मि', 'Awards', '#IndiaVsPak', 'Museum', 'can', 'suffer', 'Way', 'ष्रुतिसगर्', 'Do', \"'\", 'फ़िर्', 'र्हे', 'return', 'Nine', 'number', 'upon', 'डेह्', 'गुज़रिश्', 'कित्ने', 'टक्', 'Banerjee', 'bio', 'computing', 'Rapperiya', 'famous', 'ensuring', \"tomorrow's\", 'It', 'Seems', 'पय ', 'Pर्', 'खक्', '#RahulOnLeave', 'p', 'किरन्बेदि', 'मिले', 'तुम्ने', '@jan9999', 'worldwide', 'ज़य्', 'births', '@रमेश्चहल्', '#LahoreQalandars', 'increase', 'जग', 'pistol', 'रख', 'मैने', '#seafood', 'take', 'Said', 'ज', 'n', 'nkajshuklabjp', 'Zइन्दगि', '100', 'क्य', 'needs', 'We', ' 18', 'Pरत्युश', 'डेश्ख़षुत्रधर्', 'He Pic1', 'ऱनि', 'अधर्म्', '#KiskiDilli', 'तिन्क', 'MahaShivratri', 'मा', 'warns', 'EE', 'Bआद्', '#AfterTakingTwoPegs', 'णमाज़्', 'Opening', 'thrust', 'Long', 'मोदिजि', 'Patrika', 'Deals', 'मर्त', 'Talented', 'Pअहुन्चो', 'PUR', 'CTV', 'आएक्', 'Nepal', '#HappyMahaShivratri', 'ंए', ') :', '@amitsultania11', 'Khandelwal', 'medicines', 'this', 'think', '#Bristol', 'Title', 'worked', 'diff', 'सक्ते', 'दबि', '@aapkipreeti', 'kindly', '@ETNOWlive', '#BlessingsOfMSG', 'तुम्हर', '6', 'पहिले', '@krishanvraj', 'मजाक', '#Indians', 'Five', 'Bइहने', 'rink', '#HopeOfPunjabKejriwal', 'maria', 'Bअन्द्', '#DSSFoundationDay', '@आल्ल्टिमेBअक्चोद्', '@JP4India', 'ह्त्त्', '@sure720', 'Ivarkum', 'crying', 'र्ख्त', '#SaveFarmers', 'panel', '@digvijaya 28', 'डहि', '#MyDishcovery', '#PL20', 'चलओ', '@ShoaibDaniyal', '#reservation', 'crore', 'दय', 'Zएहेर्', 'ज़न्त', 'ModiSarkar', 'displaying', 'षलो', 'Ravi', 'नगर्', 'see', 'PAPAJI', 'struck', 'SHIVAYA', 'लत्तू', 'followers', 'दिलिप्', 'Night', 'blessed', 'colonies', 'बनने', 'babugiri', 'षिर्फ़्', 'bharat', '@sarcasm', 'चवल्', 'radical', 'होति', 'Jasumati', 'Pancho', 'actress', 'अफ़्वहो', 'ंऐक', 'Now', 'चवल', ' ) ) ', 'Footer', 'gonna', 'Bअस्', 'eliminated', 'आयेग', 'ग़न्धि', '@abpnewstv', 'बर्', 'अछे', 'बहर्', 'Terminus', 'केह्त', 'dislodge', 'Slogans', 'Hope', 'would', '@iRobinArora', '#banphantom', 'समर्थक्', 'Kovi', 'अक', 'इस्नन्', '#गनेश्छतुर्थि', 'inform', 'again', 'पद्तेय्', 'Been', 'दोस', \"sarah's\", 'bodybuilder', 'shot', '#ःअप्प्य्Bइर्थ्दय्ःइत्मन्', 'Away', 'Bहक्त्', 'Pair', '#IndianizedKingdoms', 'leaders', 'Virawani', 'Visual', '4m', 'she', '@kitAnurag', 'Suit', 'Until', 'बैथ्ते', 'petty', 'Whats', 'Lokhande', 'man', 'गो', 'Bअचोन्', 'Teacher', 'गुद्निघ्', 'ry', '@MuhammadHasanAz', 'हर्', 'Economy', 'TSV', 'जल्दि', 'कर्ते', 'Smith', '@doi mania', 'Site', 'residence', 'Gamma', \"Avant's\", 'WइFइ', 'तभि', 'sivakarthikeyan', 'Cleopatra', 'बाहिजन्', '@saloniradhainsa', 'नाल्', 'ख़ुछ्', 'कुन्', 'Koraput', 'ष्वमि', 'बत', 'ballad insane', 'णिखिल्', '@greet0987', 'फोद्', 'retire', 'तमन्न', 'sand', 'बुर', '@rj janakarajan', '#IPLAuction', 'गर्', 'शहिद्', 'RAILWAY', 'maybe', '#UHF', \"you're\", 'जति', 'Sasha', '67%', 'ःअयी', \"Don't\", 'कप्तन्', 'ball', 'पतके', '@ Sunny ', \"Mushfiqur's\", 'अभिशेक्', 'Pअह्ले', 'Bहक्त्स्', 'छोप्र', 'Urdu', 'चल्त', 'मू', '@rajveerinsan9', 'सारे', 'देख्न', 'बैथोगे', '#missileman', 'दूध्', '@Sadafawanvk', '@doi ab', 'क्योन्', 'Java', '195', 'शरब्', 'ज़िन्के', 'ंउजि', '#SelfieKing', 'ज़्यद', 'ख़ाल', 'Bआं', 'धर्ति', 'SHANKAR', 'Played', '#12YearsOfMainHoonNa', '@RajeevSrinivasa', 'IND', 'पताखे', 'वदी', 'manga', 'ंअमत', '@abhijix', 'pela', 'इच', 'Cricketer', 'SOHBAT', 'होन', 'माम्', 'YuvaiTV', 'superhero', 'Court', '@sandhiriansgrp', 'Oम्', 'पुन्जबि', 'should', 'आप', 'Ms', '@india saved', 'पदेन्गे', 'य़ेअह्', 'hell', 'educated', 'In', 'surveillance', 'sciences', 'here', 'msg', 'town', 'shines', 'बन्दे', 'Celebrated', 'empower', '#Ns', '112', 'hhuurraayy', \"A's\", 'भुलय्', 'sadomasochism', 'Progeria', 'remarks', 'हतेगे', '#छोतिषिख़्हवैश्', '@IndiaBTL', 'seems', 'Govt', 'JAMAANAA', '#Hindus', 'Tense', 'Family', 'छधल्', 'ऊन्होने', 'villain', 'तुम्से', 'Singh', 'Amitabh', '#ATKvMUM', 'आअर्ति', '1year', '@raggedtag', 'wood', 'ष', 'Katrina', '@Romania', 'आच', 'task', 'पद्त', '#ःओइ ःऐ', 'quot', '@conic wall', 'Congress', 'Teravaas', 'दुअ', '@ kanwardhillon', 'ख़्हवज', 'J&K', '@SaranshGoila', 'ंअहकाल्', 'ःउन्', 'Its Rafter', 'ऱुख्', 'LLA', 'yadav', 'चोद्ते', '#JaameInsanDivas', 'doesnt', 'Boycott', 'आस्र', 'Jersey', 'Idea', '#MughaleAzam', 'justrichpro', 'launches', 'हहह्हा', '@Themangofellow', 'plants', 'bribe', 'र्हि', '#Ken', 'ma', 'ख़भि', 'तुम्हे', 'सब्को', 'ंअर्च्', '#AP', 'मोहल्ल', 'needed', 'बज्रन्गि', 'respect', 'buy', 'ंअज्बुरि', '#PakvSA', 'Bएत', 'condemn', 'criticize', 'Deny', 'halls', '#Photowalks', 'Trivia', '@Nica ntr', 'बोह्त्', 'pregnant', 'Saint', 'छन्द्रम', 'Prof', 'Yoga', 'festival', 'Shobaban', '@AfsanaMeet', '@pg27693', 'हव', 'आदियोगि', '#Australia', 'for', 'पूरि', 'Gully', 'li', 'ghinona', 'खरिद्', 'specification', '@FBkaBaap', 'Pइय', 'ष्रुति', 'ग़र्भग्रिह', 'Catch', 'Been*d', 'पाइ', '#wc2015', '#Sarrainodu', 'revered', 'Gateway', '@shivangireviews', 'हलत्', 'talented', 'षक्तिमन्', 'लिख्', '#LahoreRisesAgainstCorruption', 'Looking', 'ंअर्जावान्ना', 'अगर्', 'षुभ्', 'Going', 'षुब्', 'RAKHEIN', 'Om', 'Should', 'Bहव्नगर्', 'InsanDua', 'cinema', 'अखिर्', 'आलि', 'ढर्न', 'missing', 'maxwell', 'Zअफ़र्', 'violence', '@टोन्य्ख़क्कर्', 'hv', 'नौ', 'सेवदर्', 'month', 'हुओ', 'color', 'ढो', 'Hotel', 'आयेन्गे', 'such', 'र्खो', 'जीत्नय्', 'fast', 'Yes', 'ईमन्', 'same', 'Remember', 'contest', 'ष्BB', 'gives', '17', 'बुलय', 'Say', 'Half', '@Dev Raj', 'Caudal', 'Women', '@SRKsWarrior2 ', 'ह्त्', 'BLESSED', 'षाद्गि', 'गये', '@officialsukhbir', 'wings', 'पक्द', 'आभियन्', 'usa', 'ब्ले', 'Red faced', 'नज़रे', 'customer', '#MSGsalutes', 'Pउने', '#MSGdedicatesAwardToAllFans', 'been', 'खास्', 'prayer', 'आभि', 'owner', 'साहिल्', '@iamsrk', 'Vida', 'गयि', 'mosquito', '@narendramodi', 'बुलये', 'र्ख्', 'अच्च', 'Rockstar', 'Changed', 'MLBANSAL', 'ंअहदेवये', 'षवरि', 'इस्रत्', 'faster', 'कहन्', 'हून्', 'rise', 'time', '#Shivaratri', 'password', 'Boulevard', 'Audience', '@अत्लेतिदेकोल्कत', 'HTML5', 'ंअहिवल्', 'डिमाग्', '28th', 'जान्च्', '#mahanadi', 'De', 'Odisha', 'parts', 'अप्को', 'ड्Eख़्ः', 'Low', 'director', '@WeAreMumbai', 'उखद्', 'Ironman', 'recall', 'Chhatrapati', '@GurmeetramrahimGin', 'न्हि', '@imsatyam15', 'ख़रन्', '3cr', 'Nana', '@IndianPrism', '@HumHainNaa Sony', '@amazon', 'ty', 'पन्रध', 'increasingly', 'native', 'पितजि', 'country', '@अत्तोमेय्भर्ति', 'Proven', 'portal', 'Alma', 'पाय', 'षुर्सगर्', 'बेत', 'share', '@saileshvora55', 'Navi', '@आमिर् खन्', 'Copy', '#PiousBhandara', 'अन्कित', 'Booking', 'AM', 'Pअतखे', 'itemid', '#SabkaBudget', 'ग़्हूम्शुद', '@षध्गुरुज़्V', 'posters', 'मिलि', 'Deepika', 'ray', 'ऱन्ग्', 'ओर्१', 'TV', 'ज़येग', 'पर्', 'जुर्म्', 'ऱक्श', 'Cinemas', '#INDvsPAK', '#IndVsAus', 'मेइन्', 'जुन्ग्ले', 'ःआWआण्', 'Siva', 'nd', '3X', 'Parents', 'railways', 'ho(nxt', 'Vyapam', 'guarantees', 'बाकि', '#boycottraees', 'लग्त', 'End', 'ःउमे', '@ईम्शोना', 'तक्ष्', 'Karate', 'Crafts', 'दरू', '@TheVijayMallya', 'Super', 'wicket', 'चोअद्', 'पस्स्', '@Fअल्गुनिऱन्पिसे', 'Deaths', 'आअन्ख्', 'जो', 'dialogue', 'chase', 'लेय्', 'Putnam', 'Tumakuru', 'डेते', 'योयो', 'tour', 'fails', 'face', 'ंअर्जाव', '2nd', '#Zero', 'Career', '@rss org', 'Bहोले', 'मिलो', 'Where', '9', 'मिल्त', 'ऱम', 'गद्बद', 'अबि', 'lead', 'november', '#Jain', '@Justice RNA', 'Drumlanrig', 'make', 'waka', 'Their', 'डत', 'Threat', 'वत्', 'every1', 'सद्को', '#Awakening', 'us', 'जेसे', 'uptappa', 'टेर', 'Me', 'ऊद्धर्', 'Span', 'Mantra', 'never', 'Everybody', 'Salty', '@Kiran', 'छलि', '#BigHeroes', 'जुद्न', 'awards', '#JatReservation', 'minds', 'Bring', 'presented', 'signals', 'portrayal', 'Book', '@BollyMention', 'hello', '@NotSoSweetGirl ', '#KKRvDD', 'लिख', 'आतन्क्वदि', '#Sunshine', 'होत', 'reconsider', 'ख़ैसे', 'Leg', 'despite', 'टुम्', '06 05 2015', 'षमि', '@itsmyturn bali', 'This', '#C', 'खान्सिवाल्', 'live', 'डिकहो', 'ज़्ह', 'dal', 'ill', 'talking', '#Beach', 'षुल्तनि', 'Bअज़्मि', 'ंअहलक्श्मि', 'बाद्', '#आज्फोदेन्गे', 'Nanasaheb', 'मर्व', '@ankitlal', 'हुम्से', 'welcome', 'Get', 'SHIVSHANKAR', '#Later', 'felix', 'product', 'u', 'pretending', 'resign', 'stripe', '#ShivaShiva', 'झेल्', 'लर्कय्', 'Bअदमि', 'पकर्', 'blame', '#अमितभ्बच्चन्', 'ले', '@broker', '#Equal', 'baja', 'ND', 'Ghatlodia', 'line', 'Anne', 'getting', 'effective', '@ankstweet', 'वलोन्', '#special', 'inspired', 'धर्म्', 'dragon', 'ह्मेस', 'Katasraj', 'ठन्थि', 'शम्', 'Let', 'मिल्', '@Vibration05', '#ModiScaredOfSonia', 'लद्किय', 'Menon', '@UbcanilGupta', 'Adam', 'Personality', 'टुने', 'cheer', '@TCNLive', 'Muktesvara', '५०क्', '@Bएइन्ग्षल्मन्ख़्हन्', '#IndvsPak', 'खयल्', '@ssoniisshh1', 'चूहे', 'strong', '#CB', 'Chinese', 'Carbon', 'दे', '#LattooRepublic', 'रुन्', 'चोत', 'ईस्सि', 'stopping', '@rajeshminocha', 'पियू', '@sureshpprabhu', 'ईत्न', 'dress', 'returned', '#PanamaLeaks', 'whose', 'Patanjali', '@payalinsan15', 'हरेग', 'major', 'misled', '@इत्स् अयेशा', 'ख़हन्', 'Ganganpatey', 'खुल', '@uma sprang', 'Picture', 'benchmark', 'hall', 'Radar', 'inter linking', 'research', 'Stay', 'शमि', '@ManishaFan', 'his', 'created', 'कर्न', 'नहिन्', 'Mr', 'बार्', 'Pअल्', 'Station', 'ढुन्', '1Hard', 'कैस', 'IP', 'imagine', '#SmritiIrani', \"Women's\", 'ख़्युन्कि', '#LandBillWar', 'ख़ा', '@anandpassion', 'षौरभ्राज्', 'dual', '@sanjaynirupam', 'पेह्ले', '@insane honey', 'च', '#Instapic', 'शुभ्कम्नय्य्', 'Pअशुपति', '@jalanpurvi', 'Style', 'Core', 'पर्त', 'Qanun', 'heritage', '@newslaundry', 'मुझ्से', 'Bहग्वन्', 'Shankara', 'धज्जियान्', 'Force', 'बच्चन्', 'team', 'semifinal', 'दिये', 'others', 'non', '@Parish25173278', '#ind', 'harp', 'Rique', 'Contest', '#KingfisherAirlines', 'back', 'UL', 'क्यो', 'chain', 'Indeed', 'ग', 'genuine', 'Yuval', 'साम्ने', 'Free', 'Clean', 'Learn', 'Business', '4000', 'णस्सेब्', 'आदि', 'Stage', 'teasers', '@hardback1954', 'इन्सान्', '#PhotoWok', '@ricky99564', 'Delhi Rubra', 'You', 'बेते', 'Bएन्गल्', 'Happy', 'मन्ग्व', 'ःउम्', 'AnkitaInsa', 'ryan', 'tragedy', 'please', 'Him', 'बोम्बय्', 'yepiee', 'क्ब्', '#WIvIRE', 'ंए कौन्', '#drortho', 'ming', 'ग़यि', '#Indvspak', 'postcard', 'खाक्', 'Lovely', 'IRA', 'Vइधि', 'ललि', '@meta shahid19', 'industrial', 'kitchen', 'garden', '@confused ', 'बनते', '@TheRock', '@AmitShahOffice', 'मिल', '2', 'sant', 'forward', 'Please', '@PujaaVarma', '@pksrivastava6', 'fishermen', 'RareHistorical', 'Aurangzeb', 'तुम्हारे', 'बुरे', 'डिल्वले', '@ fragrantica ', 'ंइय', 'rss', 'दाने', 'pl', 'Andhra', 'हुइ', 'apologize', 'बाहुबलि', 'Vision', 'huh', '#icc', 'Wओ', 'ष्वाच्', 'look', 'डिल्लि', 'At', 'ंअहकल्', '1 0', 'ंऔके', 'took', '#Visionary', 'छौक', 'village', '@षदफ़वन्व्क्', 'तेह्र', 'Goddess', 'Lets', 'आउन्ग', 'liked', 'हश्तग्स्', 'अग्य', 'टुम्से', 'Pउरि', 'Sir', '@Most C', 'मुहा', 'षदि', 'poster', 'ज़ेथलल्', 'during', 'am', 'mud', 'तरू', 'आर्पन्', 'Which', 'every', 'JP', 'अप्ने', 'हुमेस', '3Is', 'Silchar', '@HINDUSANGATJCD', 'ज़्र', 'आप्ने', 'आजिन्किय', 'Last', '@spanikkal', '#vadodara', '@Vइशल्Bहर्दिय', '@Shah Khan', 'जश्न्न्', 'Sigh', '10lakh', 'बन्द्', 'ज़न्', 'TR', 'Bangladeshi', 'Date', 'षच', 'semi', '#RaisingDay', 'Bhandari', 'IAS', 'ज़ाई', 'Nursing', '#AsiaCupT20', 'मान्', '@Samanthaprabhu2', 'out', 'क्र्', 'सिर्', 'ऱज्य', 'डाने', 'issue', '@BharatMataFirst', 'चुप्', 'taking', 'lord', '#MaukaMauka', 'गरीबोन्', 'Raj', 'Angel', '* ', '#JaiHind', 'Lord', 'tips', 'Anyone', 'kept', 'Michel', 'setting', '@asst', 'birthday', 'no', 'APP', '@Riteishd', '@dash', '#DilliAAPki', 'tend', 'Insane', 'Admin', '@mehtahansal', 'छोते', 'basketball', 'commitment', '#docview', 'ध्यन्', 'HR', 'य़', 'short', 'Ramsey', 'Hornets', 'ch', 'summons', 'After', 'जिने', 'ए', 'व्हत्सप्प्', 'end', '@sureshnakhua', 'चोते', 'rockstar', 'आप्', 'ladies', '1995', 'लिखे', 'Honey', 'ंइत्', 'Ashutosh', '@onlibuffness', '@bdnews org', 'इस्लिये', 'Attackers', 'Spectacular', 'pretend', 'sweet', 'AnmolVachans', 'कह्ते', 'जदेजा', '@Muzammil Says', 'now', 'able', ') Sankirtan', 'Championship', 'funny', 'बेह्क', 'ढोनि', 'Small', '#MakeIndiaProud', '#disgusting', '@अघोशल्', '#KPonRise', 'travel', 'Andhakasura', '#TwistedBollywoodDialogues', 'Russia', 'Rabbi', '#railway', 'TW', 'ख़मल्', 'REA', 'Castle', 'Trending', 'candidate', 'Pरग्यपद्जि', 'muktimohanWeb', 'तुम्', '#MyTeamMyWorldCup', 'Shortest', 'कै', 'what', 'Route', 'bank', 'uz', 'कम्न', 'दिवन', 'आबीर्', 'ये', '@ग्गीत्तीक्का', 'राहि', 'Kejriwal', 'USA', 'लन', 'तोद', 'ऱ', 'विकिपेदिअ', 'ऱहुल्', 'देगि', 'सीधे', 'SC', '#idontwantit', 'समय्', 'दौद्', '@StarSportsIndia', 'railway', '@ArifeenIbad', 'दिल्जित्दोसन्झ्', 'दिख', 'nos', 'Latin', 'अज्दहो', 'contribution', 'Anita', 'मेय्', 'ह्क्', 'हो', 'More', 'assault', 'THE', 'शुभ्', 'सकुन्', 'डेर', 'ःअर्यन', '12', 'आगर्तल', 'uma', 'tales', 'Tech', \"there's\", '@वैदेहिसचिन्', 'Morocco', 'Rain', 'चुत्ति', 'Math', 'षुन', 'namo', 'षथ्', 'तुम्हरि', 'ग्यि', 'BःOळ्E', '@SachinTheFilm', 'जन्म्', 'Manu', 'Technology', 'Bअपुजि', 'Tanaka', 'कल्पन', 'Bइन', '#Hero1RR', 'Lonely', 'कनैह्य', '2800', 'Fan', 'Waking', '@Raja Sw', '#Oscars2015', '#WIvIND', 'sti', '#AgustaScam', 'Islamic', 'ब', 'खयि', '@ तौरुस्३०', 'थ्ले', 'मनो', 'Eक्', 'Supreme', 'Eve', 'blackbucks', 'कुछ्', 'स्म्झ्', 'pressure', 'कर्त', 'Ft', '@Colors', 'acquired', 'करिये', 'Tenfor', 'डिवलि', '#Budget2015', 'nitrate', '123%', 'Rat', '@iambmane', 'crime', 'कर्ने', '!', 'सूख्', 'filters', 'जब्', 'फ्ले', '#AAPSweep', 'णाम्', '#cooking', '@Ach Balakrishna', 'पेचय्', 'virus', 'several', '#PL', 'were', 'Za', 'Arvind', 'हैन्', '. ? ? !', 'मम्ले', 'षहि', 'लिख्ने', 'Hence', '1749', 'direct', '@DilliAajtaktv', 'English', 'remark', 'Media', 'apology', 'अप्क', 'ज़ने', 'ख़न्हैय', 'Ancient', '1800s', 'ःओग', '@harikiranroyal', 'Pअरियोन्', '@IamSaiDharamTej', '@Shukla ', '@mylifeasadesi1', 'browne', 'delete', 'Only', '@ashutosh83B', '#WC2015', 'dead', 'कुच्', 'Irony', 'rehearsed', 'Write', 'जिद्', ': (', 'मिल्ने', 'है ', '#AugustaWestland', 'soap', 'Within', 'Pइतजि', 'अल्लह्', \"Won't\", '@MrsGandhi', 'Maharaja', 'hate', 'How', 'Seed', 'चौक', 'वाले', '#cwc15', 'Mataram', 'Utpatti', '@PakistanArmy4u', 'Surgeon', 'Trailer', '5sec', '@PeeliHaldi', 'parody', 'ख़्हैनि', 'णय', 'arts', '#MSGmissionHumanity', 'whole', 'Clipping', '@ Rash ', '@India com', 'टोमर्', '@Atheist Krishna', 'Shivaratri', 'turnout', 'सालि', 'Radio', 'ग़्यन्', '9618313276', '#CSKvsDD', 'Reports', 'vegetables', '@ImVKohlisAngel', 'ख़हानि', 'energy', '@अदितिरओह्य्दरि', '#MSGdedicatesAwardToGuruji', 'Nokia', '11', '#twistedbollywoddialogues', 'disgraced', 'supports', 'falling', 'ख़ल्कि', 'Director', 'अग्र्', 'Mansarovar', 'वे', 'Iran', 'त्य्रे', 'गरूर्', 'षनम्', 'Pरभु', 'Tourism', 'Wआह्', 'Mass', 'Varanasi', 'Sarfaraz', 'डिन्ग', 'बैथ', 'महिल', 'farm', 'ग़ुल्ज़र्', 'ंईन', 'Versa', 'Details', 'ticket', 'येह', 'ंअयवति', 'organiser', '@Share Boy', 'Engineering', 'French', 'photoshoot', 'Need', 'Nazi', 'decoded', 'hail', 'passing', 'ऱजेश्वर्', 'ंआडाऱ्छ्ःOड्', 'ःआथो', 'षन्त्षलोने', \"Shankara's\", 'ख़ुच्', 'batsman', 'Bओले', 'हि', 'ऱुन्', '#RIPEnglish', 'Unethical', 'footage', 'million', 'withstood', '@manojsirsa', 'Bअलोचि', '15th', 'Richard', '@6', '2014', 'Bहुबनेश्वर्', '#CelebTrains', 'Consolation', 'Brands', 'पवन्', '3000 ', 'language', 'Thank', 'role', 'terrorists', 'VE', 'बन्त्ने', 'BBC', 'video', 'trend', 'footy', 'स्', 'म्', '@YuvaiTV', 'Ramadan', 'आं', 'rajniti', 'Shiva ', 'shouts', 'young', 'Sun', 'Ibnlive', 'Duty', 'कर्मन्', 'Eत्ने', 'आस्क्', 'nutshell', 'थोरि', 'belong', 'Bआलम्', 'Start', '#priyankachopra', 'Constructed', 'hmm', 'Gavaskar', '@ंअद्द्य् षहेब्', 'ख़रचि', '@gauravgarg1903', '@Tendulkar', '30', 'adopted', '@mustikhan', 'धो', '#pharmaceuticals', '@hindustanse', 'षुइ', 'div', 'बत्', 'pain', '@DrunkVinodMehta', \"#Modi's\", 'डेन्', 'क्रुगि', 'Received', 'exam', 'पगल्', 'Win', '#He', '@TeamChak', 'सय्', '@arjun 92', 'घन्ते', '@UmeSalmaa', 'ल्ग', '@CC', '@Zइर्घम्Bउखरि', 'Who', 'नाम्', 'अच्चि', 'Africa', 'looks', 'Photography', 'Rangers', 'Action', 'Entry', 'astronaut', 'कोह्लि', 'Non Leg', 'बकर्', 'हमैन्', 'genus', 'Bअद्नस्सेब्', 'crayon', 'Oये', 'रेह्मत्', 'rajdeepsinhjadeja75', 'धर्न', 'especially', 'Shivratri', 'Peace', '#GLvsDD', 'MOVE', '@ash3page', '@DarrKeAage', 'sees', 'blessings', '25%', 'last', '#gibbs', 'बहूत्', 'ख़र्', 'Lyrics', 'ंअत्', 'Pउन्जबि', 'उस्ने', ' URL ', 'ख़रोर् पति', 'Chhatarpur', 'यार्', 'णेइघ्बोउर्', 'cleopatra', 'नलयक्', '#MSGSocialWelfare', 'Cooking', 'खेल्ने', '#ConfusionKaEnd', 'parvatis', 'दर्द्', 'तोह्', 'करहि', 'सर्कर्', 'Pakistani', 'सत्', 'लोव्', 'Co', 'यह', '#MSGsocialWelfare', 'Races', '@Christian', 'fastest growing', 'अचे', 'Ignore', 'वपसि', '@Stiri', 'Bअदे', '1437', 'land', 'कनून्', '@TR Discovery', ' ? !', 'हुस्बन्द्', 'Janakpuri', '@makeinindia', '@तुब्ऴोनेय्', 'चहिये', 'Sunny', 'named', '@ग़ौतम्ग़म्भिर्', 'Bajirao', '@dnaindia', 'younger', 'descendants', 'Dahn', 'Board', 'meditation', 'solving', 'play', 'GNS', 'move', 'थि', 'Gupteshwar', 'Shin', 'क्रिश्न', 'षकिब्', 'Lz', 'himself', 'Bहोलेणथ्', 'Brilliant', '@iHrithik', 'Airtel', 'mit', 'ritual', 'ळन्क', 'अक्', 'कमेन्य्', 'फ़ल्तु', 'निश्कसित्', '@LoveableNancy', 'Venue', 'डान्त्', 'grid', 'Saxon', 'High', 'पै', 'Follower', 'ंऐ', 'Sultanahmet', 'do', '@NabeelFaryal', 'watch', 'giftyinsan', ' 3 3', 'लेन', '@lksinsa', '#Of', '#SwamyInRS', 'भेज्ते', 'Fअछोच्स्चुले', 'तत्ति', 'ंए ख़ित्नि', 'ambassador', 'aashirvad', 'JAN', \"Bहर्द्वज्'स्\", 'Great', '@riteshsinhar', '#SRKDonates1crToChennai', 'तुम्हेइन्', '@sarvjot19972', 'होगय', 'nephew', 'deactivated', 'Names', 'पनि', 'ंआलुम्', 'Norman', 'पर्वति', 'AamAadmiParty', 'देग्री', '#occupygezi', 'ग़लि', 'बोले', 'mantra', 'Raghuram', 'Environment ', 'article', 'कर्देन्गे', 'Canada', 'तब्', 'and', 'आछ्B', 'story', 'बद्दुअ', 'ऐसि', '@waglenikhil', 'noone', '#Progressive', 'version', 'Express', 'majority', 'UNIVERSITY', 'दर्वजे', 'य़ेह्', 'ने', 'सुन्', 'Dalla', 'सुन्न्', '#IndvsAus', 'Umashankar', '#YandasMedyaLimonSatOnurluYasa', 'तेर', 'वप्सि', 'show', 'backup', 'बह्', 'क्ल्', 'कहे', '#PremRatanDhanPayo', 'षिख्', 'वस्त', 'हिन्', 'potentialpathin', 'Krishnan', 'Tamilnadu', '@away caravan', 'निक्ले', 'Lalettan', 'opener', 'हरमि', 'Bअच्चन्', 'कोन्', '@Manila07', 'Italian', 'षाB', 'En', 'consistent', 'चुक', '@21century want', 'GAA', 'कमते', 'आबि', 'बलन्चे', 'अल्विद', '#KKRvsRCB', 'rule', 'सम्', 'infected', 'kind', 'carry', '@gracefulkiru', 'बिस्', 'het', '@thisisysr', 'अन्थ', 'आर्चन', 'slogans', '12.07', 'PraveenraoU', '8527745669 01242570669', 'Supporting', \"won't\", 'कहु', '#KejriwalSaySorry', 'आअप्को', '4 ', 'cuteinsan', 'comedian', '@Rowdy Nik', 'दर्शन्', '1am', 'LA', 'US', 'आलिअ', 'implement', 'Machine', 'Lol', 'य़्E', 'ख़रे', 'alla', 'shropshirestar', 'dama', 'Maid', 'षमझ्', 'हरम्ज़द', 'Fantasy', 'Bहुशन्', 'य़श्', '#Lyrics', '@ANIMESHSONI 09', 'ज़य', 'मसीह', 'Renault', 'caring', '@YyoungDesi', '&', 'Share', 'top', '#IndvsNZ', 'once', '#RainaKiShaadi', 'your', 'PR', '#EhsaanFaramos', 'नैर', 'months', 'सम्झओ', 'ऱख्न', 'new', '@TanuInsan', 'धय्न्', 'Official', 'ऱहने', 'ष्रिनगर्', 'series', 'Blessed', 'चह्ते', 'तेज़्', 'Pअर्व्', 'फ़ुर्सत्', 'छ्हूत्', 'Master', 'T6', 'him', '@diyainsan', 'shoulder', 'Mandir', '@alluarjun', '2019', 'partnerships', '@AadhiOfficial', 'Healthcare', 'Sad', 'Shut', 'life', 'Cool', 'On', 'तेकेग', 'govt', 'जय्दिप्जर्सनिय', 'विकल्प्', 'Degradation', '#FuckYouPak', 'Wअप्सि', 'Communist', '@bars97', 'छल्', '@आज्तक्कि', 'डदसहेब्', 'SuyashInsan', 'Bछ्गिरि', 'PARVATI', '@chanson9438', 'स्वस्थ्ये', 'alibi', 'Want', '@aloketikku', 'लर्किय', 'protesting', 'Basal', 'committed', 'षब्से', 'charts', 'ILL', 'Gujarat', 'R', 'AP', 'बन्वाइ', '@amir jan', '#commentary', 'loss', '@ishavru', 'bed', '@surrealzakir', 'crowned', 'wool', 'Approx', 'Bअसह', '@tag40', 'उनब्ले', 'fil', 'मसल', 'शह्', 'षभ', 'ळतुर्', 'if', '#MakeInIndia', 'trailer', 'पदेग', 'use', 'court', 'आर्जुन्', 'CCI', 'आB', '1st', 'international', 'Yee', 'आर्ति', 'होइ', '@hariomji5', 'sewage', 'Sent', 'अल्', '#WIvsAFG', 'anti India', 'ंइल', 'पाप्', '@SemperFiUnited', 'समज्', '@Muzammalafzal', '#PakistanCup', 'comTelford', 'Bअज़ार्', '1880s', 'ंअहशिवत्रि', 'need', 'Wअला', '67%more', 'permanent', 'सोन', 'Food', 'ज़ात्', '@Value don', 'room', 'Most', 'Arjun', 'superb', 'मरेन्गे', '@indoor tweets', 'घन्ति', '2012', 'change', 'Modi ', 'summing', 'ग़र्मि', 'बवल पन्ति', 'BअBअ', 'minute', '@NimratOfficial', 'पतये', 'Planning', '2 ', '@msisodia', '@OYERJALOK', 'InshAllah', 'म्ब्', 'सिर्फ़्', 'ज़देज', 'Rock', 'Mma', 'ambitious', 'drunk', '@ANI news', 'Auto', 'global', 'Greater', 'college', 'station', 'Murray', 'only', 'announces', 'घास्', 'एसे', '@SachinmOfficial', '#ग़्हर्वप्सि', 'available', 'league', 'pic', 'runs', '@A Uo', 'जित', 'Guys', 'guru', 'चार्सोबिसि', '#PVPPictures', 'du', 'उस्सेय्', 'शुभ्काम्नये', 'मिलके', 'PIC', 'house', 'update', 'कन्पुर्', 'Party', 'Spa', '@missionbihar', 'Planet', 'Feeling', '@sonusachdeva07', 'Modes', 'Talreja', 'Here', 'आअन्खेन्', 'Them', 'z', 'आश', 'किये', 'victories', 'Swim', 'अग्ले', '300+', 'षेर्नि', 'Attaboy', 'लेके', '#Practical', 'हिस', 'खुशियो', 'Test', 'Chain', 'टेन्दुल्कर्', 'गोरि', 'आबे', 'Greet', 'आरे', 'लेकिन्', 'could', \"Today's\", 'बदल्', 'Congo', 'साल्', 'रेहे', 'Performing', 'मुज्र', 'digital', 'sambandh', 'SUBSIDIARIES', '#RestInPeace', 'Did', 'Pandharpur', '@iam str', 'Col', 'Pअक्', 'sringaar', 'SurekhaInsan', 'Players', 'ख़्यनत्', \"Sonia's\", 'Feel', 'चीनि', 'द', 'sick', 'Ali malaria', '14th', '@ReporterVikrant', 'लख्', '#MSGlovesHumanity', 'healthy', 'Enemy', 'funds', '@SrkSaroz', 'ख़म्न', 'social', 'Trek', 'क्युन्', 'ISIS', 'bretheraan', 'without', 'Baron', '#flipkart', 'listen', 'से', 'gunfire', 'पधै', 'लिये', 'expect', 'Thou', '@anilvijmantri', 'Open', 'ndtv', 'buffalo', 'मुक़द्दर्', 'ask', 'CPC', 'moral', 'सुभ्कमनयेइन्', 'य़ह', '@VirasatPune', 'ज़ुस्तुजु', 'NG Diesel', 'motive', 'Solar', 'says', 'Narendra', 'wifi', 'bad', '@BSonarika', 'tv', '.,', '.!', 'दिन्', '@KejriTrolls', 'obsolete', 'रहे', '#NihalBitla', 'करेब्', 'थलि', '@11AshokaRoad', 'Superman', '@reddyvpr', '#bapuji', ':(', '#WomenInIndia', 'मेर', 'सेथ्', 'किजिये', '#षलुतेटोषत्नम्ज़ि', 'य़ार्', 'Mahoney', '@prashanth Kovi', 'interact', 'शेर्नि', '@arkiv', 'Strange', 'get', 'डेखेगि', 'rites', 'Death', 'गर्मि', 'खौफ़्', 'हैण्', '@६५थकुर्सहब्', 'Prem', '@Nana67708743', 'आप्रम्पर्', 'Siddhuji', 'Time', 'noon', 'ख़्हुर्द', 'circulating', '@MukulKMishra', 'hopefully', 'D', 'Perfect', 'university', 'SF', '#', 'Tear', 'Of', 'fan', '3R', 'nama', '#Canada', '05 05 2015', 'slow', 'Dollar', 'पयेग', 'Oवैसि', '@dheeruinsan', 'wife', 'मप्', 'आअन्सु', 'guy', '@MahikaInfra', 'Renowned', 'हाल्', 'match', '@tonne263', 'frm', '@samidsiddiqi91', '@OfficeOfRG', 'आख़्', 'य़र्', 'working', 'ग़्होतलोन्', 'MCH', 'Jumping', 'सोने', 'ELE', 'ळहोरिएस्', '@ummeaiman07', 'days', 'पक्', 'Associa', 'Different', 'Behenchod', 'so', 'आम्', 'आकेले', 'CBC', 'नौकर्', 'ज़रूरत्', 'Rajan', 'herman', 'National', 'कोए', 'ंओतभै', 'are', 'bottles', 'आअप्के', 'OmNamaShivaya', 'करह', 'meters', 'ख़्हय्यम्', 'फ़र्हन्', 'off', 'eating', '26', '#MannKiBaat', 'ख़र्थिक्', 'ज़िवन्', 'Lucky', \"Aren't\", 'आआज़्', 'ढोति', 'आर्नब्', 'ANDHAPAN', 'देर्', '@sri50', 'षूण्O', 'Drawn', 'PPA', 'Sinha', 'दी', 'सुन्ते', 'skyline', 'hyderabad', 'Pl', 'शादि', 'देख्कर्', 'targeted', 'son ', 'Beautiful', 'base', 'दूर्', 'ओहू', 'डर्वज', 'टो', 'आनर्कलि', 'Bइहरि', 'just', 'pension', 'ःअमेइन्', '@pankajshuklabjp', 'चहे', 'four', 'जल्', 'गब्बर्', '#BJPManifesto', 'Bअन्गलि', 'continued', 'Srinagar', '@ claimed', 'Islamabad', 'आर्फ़', 'explained', 'Masjid', 'Bhaijaan', 'directly', 'लोगु', 'Bहोलेनथ्', 'क्', 'bevkuf', 'Mosquito', '#Vara', 'champion', 'Score', 'SUBSIDIES', 'क्रैन्', '@अभिलश् जग्तप्', '@सगर्चस्म्', '@midwestmoviesus', '1200', 'syrup', 'ल', '@NautankiNinja', 'track', 'fellow', 'gaza', 'अरध्य', 'चै', 'Dear', '@Oयेंअरिअ', 'So', 'support', 'कौशम्बि', 'लेन्', '100 150', 'got', 'Rank', 'मेरि', 'Name ', 'gun', 'Bआकि', 'चह्त', 'Number', 'पूचे', '@TheDeccanHerald', 'sister in law', 'Chennai Tamilnadu', 'biscuits', 'डिल्ल्', 'demand', 'veterans', 'oft', 'devils', 'TamilTwin', '@ScorpiusMaximus', 'Pअर्', '2,800', 'ब्त', 'wd', ' ) ) ) ', 'जुति', 'challenging', 'Nataraja', 'आय', '#ःअप्प्य्Bइर्थ्दय्ष्रुतिहस्सन्', 'चलो', '* *', 'ओये', 'her', '@TUTULSOTWE', '@in Butt', '@टजिन्देर्Bअग्ग', '@TandonRaveena', 'कर्वते', 'पहुन्चे', 'Sail', 'हात्', '@RoflGandhi ', 'mate', '#mai', '@santana mai9', 'collect', 'wid', 'timeline', 'TeamShivaay', 'send', 'forces', 'up', '@shall sk', 'Calatayud', 'एस्', 'irukku', '@Insane1Pretty', 'pin', '@insane nea', 'Acceptance', 'today', 'ल्गने', 'Pह्र', 'Citizens', 'णदि', '#Bastard', 'Krishna', 'career', 'will', 'works', 'Code ', 'षल्वि', 'illiteracy', 'दो', '#PakvInd', 'ळल्को', 'hav', \"@देरसचसौद'स्\", 'Public', '@जतनचर्य', 'soft', '@vinayak games', 'ईस्', 'पये', 'जाप्', 'into', '@Varsharoy5', 'ऊमर्', 'सुब्', '#षुमित्षम्भल्ळेग', 'Maharani', 'S', 'ख़वित', 'Wished', 'भग्वन्', 'these', 'ब्तओ', '@Rajan put', 'Sarankul', 'Market', '@madhurahnaikHappyMahaShivratriCuteMadhura', 'DAY', 'UNCENSORED', 'कोति', \"Mumbai's\", 'devotion', 'anything', 'जन्त', 'network', '#SLvsInd', 'Film', 'terrorism', '@DiljotInsan', 'भिगो', 'vacations', '@karan009wai', \"Gandhi's\", '37', 'implemented', 'ड्ं', ':O', 'Railways', '#Vishnu', 'दल', 'चलेगि', 'धाम्', '#CarFreeDay', 'craze', 'अम्रह्', 'save', 'नवि', 'भैअयोन्', 'becomes', 'sets', '#Make', '@PMOIndia', 'Bहत्कल्', '#SaveWaterSaveLives', 'Silent', 'hats', '@poorbitour', 'देखो', 'नयि', 'sums', '@AamAadmiParty', 'rollout', '8am', 'ळगओ', 'rice', 'sanvidhaan', 'Outrage', 'visit', 'rocks', 'Darkness', '@timeslot', 'Bहूतो', '#AFGvSCO', 'Choriyan', 'kamal', 'वह्', 'बन्', 'tuned', 'पन्चो', 'सदक्', 'खेले', 'शुभकन्क्शलु', 'contrast', 'recovery', 'Hazard', 'shape', '#५षाल्ख़ेज्रिवल्', 'ळो', 'Recap', 'कोइ', '@आउम् षक्ति', 'feeling', ',', 'safest', '@boxofficeindia', '@Sama Gautam', 'Cleanliness', '@देरसचसौद', '#KXIPvDD', 'begin', 'Taradeep', 'निरल', 'Swamp', 'Girlfriend', 'आस्', 'थेर', 'echoed', 'blindly', '@meet1973vibe', '50', 'Akhandalamani', 'MB India', 'Birthday', 'ख़रिमि', 'women', '@आर्विन्द्ख़ेज्रिवल्', '@Sonia777', 'posts', 'www', 'Students', '@NayakDeep', 'baby', 'ज़ै', 'ख़श्मिर्', 'ग़ुरुस्', 'than', '#CelebMiddleNames', 'प्य्', 'utmost', 'ऱज', 'minister', 'खरीदो', 'ख़र्खन', ' m ', 'one', '@हुशर् मुल्ग', '#photos', 'ळोक्', 'labelled', 'आक्थर्', 'indomitable', 'J', 'ख़्ःOPEख़ाऱ्', 'Tuesday', 'feed', '#ker1Offer', 'हवै', 'raise', 'ंआट्', 'to', \"Roger's\", 'word', 'हद्द्', 'chiraginsan77', 'through', '#pakvsind', 'रहि', 'blasts', 'veteran', 'डीवन', 'लोखन्दे', 'Koechlin', 'ऱ्Eःण्E', '#Lord', 'षर्प्', 'With', '@janimynk', 'Bank', '@AdityaRajKaul', 'Spam', 'spoke', 'Paul', 'छुतिये', 'Pअत', 'बधो', 'Ship', '@cricketnext', 'celebrations', 'Gazelle', '@Secular', 'trade', '@imdb007', '@ठेज़ग्गि', 'CR', 'ऱात्', '#India', 'Check', 'रिस्क्', 'ht', 'ख्ल्न', '@SANDEEPCOL', 'Dr.', 'car', 'ःउए', 'होके', 'enjoyed', 'गम्', 'Indian', '@rsshukla62', 'धवन्', '@toi Dasgupta', 'सहि', 'Parole', 'इस्क', 'silent', 'मरो', 'ंअन्दिर्', 'ambassadors', 'Gun', 'Banana', 'local', '(', 'B+ve', 'chanting', 'Separately', 'ख़ुत्त', '@iamsharmi7', 'year', 'graces', 'touches', 'solidarity', 'go', 'section', 'Pअप', 'wish', 'साल', 'as', 'tip', 'टिवरि', 'सवाल्', \"Drawn's\", 'AMA', 'हा', 'बध्ये', 'Divine', '@radar rica', 'बोलिये', 'Pअत्न', 'आख्तर्', 'fortress', 'षत्गुरु', 'ख़्हम्कर्', 'भले', 'ढवन्', 'ति', 'Punjab', '@AskAnshul', 'ज़िन्द', 'हिलने', 'सन्धिय्', 'भला', 'call', 'IPA', 'dhabi', 'षकिर ', 'षन्कर्', 'भिम्', 'para', 'गोलि', 'American', 'natural', '@krsnakhandelwal', 'hahahhahaahaha', 'ःअरिद्वर्', 'vision', 'rich', 'ज़र', 'mobile', '@सगरिकघोसे', '#Aoki', 'व्हताय्', 'sk', 'family', 'चुद्ने', 'account', 'hearts', 'degree', 'Nbdobariya', '@any1912', 'Supporter', 'उन्ने', 'cheers', 'apply', 'Wish', 'चक्कर्', '#indvspak', 'Economictimes', '@Integrated me', 'ASA', 'अब्ब्दुल्ह', '#Mukhtar', 'धन्ग्', ',.', '191', '@indiatvnews', 'Fil', 'ws', 'Bहै', 'Passenger', 'सवल्', '@vijay63', 'aurora', 'हेन्', 'द्रजयम् अजय्', 'ह्न्', 'डेन', '@ंएह्र्टरर्', \"Doesn't\", 'died', 'ब्', 'Stuart', 'भीतर्', 'Malik', '#drorthooil', 'news', 'Singer', 'Black', 'AND', 'Stars', 'confirm', '#bangladesh', 'Sharaliev', 'soon', 'babies', '@णितिश्ख़ुमर्', 'गन्गधर्', '@AnushkaSharma', 'चलेग', 'Simon', 'णिशिद्धो', 'Bओलो', 'Naranbhai', 'patriotism', '@Dharanishanthi', 'वजसे', 'ष्वेत', '@itsyaboyladin', 'well', 'juice', 'internal', 'expose', '@PRATIKatron', '#Vallavan', 'aunt', 'irrefutable', 'whos', 'sibling', '@अस्कुबुस्क्', '#Sadguru', 'Warriors', 'ख़ोन्य', 'इसि', '@BUT', 'For', '@prasoonjoshi ', 'won', 'निकल्ति', '#FD', 'Gold', 'सुरुर्', '. ? ', 'head on', '@Joshi28', 'Centre', 'Ranger', 'may', '@Clawalpha', 'Geelong', 'DF', 'जाने', 'सोच', 'continues', 'आच्चि', 'उस्को', 'Exemplary', 'के', 'being', '@IB India', '@msteckchandani', 'Today', 'मारि', '@IndianRailMedia', 'भेन्चोद्', '@MahnooriAhmed', 'thisIsMukti', 'पित', 'initiated', 'broad', 'Eight', 'Bअहोत्', 'marriage', 'phone', '@BhayanakPuppy', 'बधाइ', '#KXIPvMI', 'converted', 'faridabad', '3310', 'Jason', 'ंएरि', 'Iss', 'occasion', 'किस्', '#BANvsAFG', '#ShrutisagarAshram', '@giniromet', 'जनि', '#BudgetForAchheDin', 'Deserve', 'Nagpur', 'ःअस्', 'काम्', 'ःए', 'नेहि', 'built', 'होगि', '@tweets', '@Sha Del', 'facial', 'Eli', '@firstpostin', 'ख़ोइ', 'सम्झ्', 'yung', 'announcement', '@eastwoodmcfly', 'षोऐब्', 'writer', 'Qअबर्', 'some', 'target', '#NU', ': p', 'कन्तिलो', 'Police', 'णाक्', 'Awesome', 'गुस्स', 'lets', 'turn', 'Finishes', '@jan yer', 'polite', 'गए', 'flood', '#RespectResearcher', 'interview', '#ंअग्गिख़िग़्हर्Wअप्सि', '@RealHistoryPic', 'opportunity', 'die', 'tm', 'तरफ़्', 'About', 'होते', 'शयद्', 'क्र्व', 'realised', 'ळल', '@vaibbhavt', 'She', 'ड्EV', 'ळोग्', 'आजय्', 'Sierra', 'singing', '#DalitRights', 'tense', 'broken', 'Very', 'Massa', \"eye's\", '@ःअफ़िज़्षईद्ज़ूड्०१', 'become', 'expressly', '@thekiranbedi', 'लेहेर्', 'Hindustan', '@Am Arena', 'पैद', '@मश्कूर् ज़ैदि', 'person', 'लेत्स्', '1', 're situation', \"didn't\", '@ख़ैलश्खेर्', '@वैब्य्सय्स्', 'Splitting', 'breakup', 'ठकुर्', 'ःअर', 'शुब्कम्नये', 'अन्दर्', 'min', '#AgustaWestland', 'Quill', '#tribune', 'अये', 'BHAGORE', 'व्हत्त', 'player', 'garland', '@CambiarNews', 'fodenge', 'troops', 'भोत्', 'ख़य्', 'नजर्', 'Tri', 'Big', 'Celebrations', 'षा', 'Janardan', 'Nayanthara', 'Rajendra', 'From', 'रो', '@Typodhish', 'कथ', 'follow', '@aajtak', '#IREvUAE', 'making', '#festival', 'ready', 'Celebrating', 'even', 'कुज्लिवल्', 'hy', '@shuvankr', 'गिर्ते', 'muslim', 'leading', 'टुझे', 'लाल्', '@TheGujaratLions', 'RamCharan', 'blood', 'Maharaj', 'आउर्', 'Railway', 'Mandarin', 'आअयत्', 'ईज़त्', 'Malagasy', 'kitchens', 'execute', 'Utf', 'Fastest', 'ख़थ', 'collier', \"doi's\", '@JasdeepInsan', 'भ्त्', 'pomendi', 'आPणी', 'होने', 'कुदि', 'AF', 'sina', '@LungFakeer', 'शन्कर्', 'rd', 'Nice', 'आग्ये', 'upper', 'gas', 'akkians', 'Minister', 'bashing', 'Girls', 'कसार्', 'सद', 'व्', 'RailwayMinister', 'Writer', 'Bhadrappa', 'बेच्', '@DarshanBangera', 'लेत', 'Roy', '@ShirishKunder', 'वलो', 'मै', 'क्र्ते', '#DelhiDaredevils', 'Sankranthi', 'packs', '@MODIsWarrior', 'हमे', 'Ireland', '@Rinkkyy', 'rumours', '20', 'घुस्ने', 'हाथ्', 'giving', 'आरचकम्म्', 'ंइलि', 'ंएनु', 'ख़र्ते', 'बेखबर्', 'षद्को', 'ख़ोथि', 'clean', 'Watching', '#AwardWinningExcuses', '@VivekMMisra', 'रुकिये', '@तक्शक् स्पेअक्स्', 'Stephen', 'मौल', 'यद्', 'exams', 'शदि', 'jokes', 'law', 'mails', 'देख्', '#hungary', 'bodies', 'पाति', 'accused', 'षभि', 'song', ' ? ? ? ', 'क्र्ति', '@Gurmeetramrahim', 'Putting', 'Celebration', 'ख़्य', \"Who's\", 'बन्द', 'Texaco', 'Charts', 'कीत', 'California', 'कमिनेय्', 'Lahti', 'Voice', 'includes', '@alias08', '#Loop', 'Bअबु', 'ग़ुरु', 'parliament', 'free', '@Actor Krishna', 'shame', 'Contrast', 'दुस्र', 'citizens', '#TweetsNow', 'इन्क', 'Vaaimai', 'mind', 'acc', 'रहुल्', 'ब्जते', 'facility', 'devotee', 'vicious', 'Temples', 'languages', 'be', 'Analysts', 'foundation', 'वल', 'स', 'finds', 'आअ', 'complex', 'Aura', '@armaankohli', 'RI', 'अच्चे', '#Ramnavmi', '@mailtosamip', 'Address', 'spoken', 'zombie', '@rajnikanttiwa10', 'These', 'Alia ', 'ऊस्स्कि', '#IndVsBan', 'Mahadev ', 'innings', '@StarMoviesIndia', 'charger', '@Dervishious', 'narration', 'बेइथ्के', 'आगे', 'ंउबरक्', 'थोखो', 'Columns', 'चोति', '#GodseWe', 'Temple', 'Lollipop', '#WassupMusicVideo', 'Meanwhile', 'लोगो', 'चर्निरोअद्', 'क्यु', 'ह्मेश', 'Listen', 'papa', 'Patel', 'brand', 'तोर', '@itsSSR', 'style', 'जाये', 'See', 'Bhavan', 'फ़र्याद्', 'called', 'Finish', 'Portfolio', 'ख़िशोरे', 'expectations', 'Prabhu', 'Right', 'Maithili', 'Rs', 'नन्', 'reports', '@CCI', '#Intolerance', 'euphoria', '#OR', 'डारु', 'celebration', 'खेल्', 'Will', 'ंअहिम', 'षर्', 'king', 'Amritsar', 'ल्ग्य्', 'चद्दि', 'ंएइन्', '@TrendsPune', 'panjwani', '#JusticeForJisha', 'channel', '#experience', 'Its', 'Gambia', 'हेइन्', 'behold', 'सज़ा', 'उन्हे', 'Bangalore', '@Fataxaleem', 'indians', 'slam', 'Less', 'Its Star', '@rajneeshjindal', '@krishnabgowda', 'ok', 'Reconsider', 'ross', 'रख्', 'षर्दर्', 'IB India', 'Match', '@Unit Tag01', 'Hot', 'ela', 'भेज्के', 'टु', '1950', 'music', '#Vadodara', 'टेरे', 'budget', '#किस्किदिल्लि', 'पगल', 'religion', 'them', 'Bउस्', 'game', 'manage', 'ख़लयन्', 'काल्', '@jainansh0201', 'Lal', 'ग़न्गाजल्', 'ज्यद', 'singh', 'in', 'commentary', 'most', 'Modi Sharif', 'congress', 'ख़िस्को', 'आबी', '161', 'सत्गुरु', 'The', 'already', '#SachinTeaser', '@Mohsen1963', '#ST2016', 'approval', 'Pitcher', 'Tripathi', 'छुम्म', '@AmitShah', 'groups', 'ंओदि', '#KXIPvGL', '@Indiatoday', 'Mahesh', 'Zindabad', '2924 545', 'decrease', '#ण्हये', 'launching', 'AI HIV SHANKAR', 'हिबसल्', 'actually', 'Pआयेग', 'ArvindAnnaBack', 'जयेग', 'away vora', '@ndtv', 'रेख्त', '@CricketNDTV', 'आअसून्', '@Shetty84', 'ष्वछ्', 'dance', 'Bअग्ग', 'adventure', '@sharma11assist1', 'ख़ोय्ल', 'Remembered', 'Siddharth', 'Washington', 'delivers', 'कु', '#wt20final', 'Reason', 'forcefully', 'Law', 'नमह्', '@aditispeaks ', 'Trust', 'Clicked', 'य्र्', 'बधये', '@Priyanshi ', 'rang e haat', '#Congratulations', '@Navi Away', 'हत्य', 'CC', 'photo', '@CricBellz', '@iamrana', 'bravery', 'copying', 'Babar', 'speak', 'post', 'छौधर्य्', 'old', 'गयब्', '@ipathak25', 'males', 'MahashivRatri', 'Hallelujah', 'zarorat', 'धीरोन्', 'ग़द', 'कब्', 'बेति', 'Ramachandra', 'lucknow', 'बोल्त', 'murder', 'Pइत', 'Men', 'टेधि', 'Maggio', 'mercilessly', '@Gen Singh', 'ऊस्क', '@ibnlive', \"isn't\", '@साद्बिन्नईम्', 'Doi', 'May', 'York', 'षे', 'ऐस', 'Vइश्', 'piece', '#harharmahadev', 'someone', '@mohituraina', 'ःओत', 'vega', 'date', '#SreejaKalyanam', '70', 'ःओ', 'Pअन्दित्', 'abolished', 'हुन्', 'बातेइन्', 'arena', 'टुम्हे', 'swim', '@bint sweet', 'calendar', 'enjoying', 'BआBआ', \"That's\", 'जए', '@VinitaXerxis', 'णा', '#IndVsPak', 'Sachs', 'गय', 'खत्त्र्', 'रही', 'आउम्', 'Visit', 'ःअर्नय्', 'Crab', '#MumbaiLocal', 'Doi(1957', 'आअत्त्', 'param', '@jashandeep697', 'ख़्रन्तिकरि', 'Sha', 'fingers', '! ? !', 'Post', 'करेइन्', 'modi', 'डारुBआज़्ंएह्त', 'ंओहन्षक्ति', 'हस्', '#railbudget2015', 'ऱोअदिए', 'उससे', 'जाति', 'training', '#RSSQuestionsTeresa', 'India', 'Victory', 'stayed', 'regarding', 'किय', '1980s', 'Cant', 'आतल्जि', 'Strongly', 'taken', 'ExRoomie', 'given', 'booking', '#vote', 'Latina', 'Main', 'Admission', 'Cat', 'समझ्', '#GratitudeToAllMothers', 'via', 'सुन', 'ST', 'रेह्ते', 'undated', 'Peschke', 'between', 'Lions', 'happy', 't', 'सय् ', 'vandal', 'पुब्स्', 'आन्जलि', 'Meta', 'सुभ्कमनये', 'below', 'sides', 'met', 'ahead', 'पूर', 'Drayton', 'actor', 'जओ', 'Jabalpur', '@Bluemagicboxes', 'offers', 'Ankurgee', 'Kondagattu', 'come', 'थोदि', '15', '@mrbhavinvyas', 'Saturday', '@P2makodo', 'Shit', 'ad', 'ःऊद्नय्', 'Instagram', '@1AhamSharma', 'तु', 'together', 'टेवर्', 'छले', 'ःअस्च्के', 'bt', 'Pआ', 'co', 'Pअन्चयति', 'धप्लि', 'Reminds', 'century', 'ःआथ्', '#MoukaMouka', 'नैनो', 'अस्लि', 'o.O', '#bigontop', 'Story', 'लूत', 'Mother', '#Railways', 'Twitter', '1 ', 'Sadanandan', 'Gov', 'Leave', 'lovers', '@ravishndtv', 'around', 'Papua', 'टेजश्वि', 'killed', 'Cover', 'व्स्', 'hanging', 'own', 'Future', 'Next', 'ह्मरे', 'schedule', 'ख़्या', 'watching', 'BAT', 'खुशिय', 'सेरे', '@कलकार्', 'K.K', 'military', '#Artman', 'Young', 'आ', 'प्', 'pm', 'ज़ोह्न्', 'inspire', 'पन्', 'bringing', '@rahman', 'Bःआई', 'फ़र्जिवाल्', 'NU', 'told', 'ur', '#PL2016', 'Serlingampally', '2R', 'Haven', 'excited', 'नए', '@salinity 6', 'marry', 'बारे', '@Finelychopped', 'Manorama', 'इन्न्', 'anni', 'half', \"London's\", 'corruption', 'literature', 'chutiyapa', 'ंऐन्', 'SwissAcc', '@भख्त्', 'डर्बरि', 'तान्ग्', 'Teaser', 'र', 'कर्वओ', 'बदन्', '#AsiaCup', 'किसन्', 'Shine', 'starts', 'Via', 'Empowerment', 'डेव्', 'ऊन्क', '@noon San', 'कर्दुन्ग', 'Havana', 'GoodMorning', 'Rookie', 'langushing', 'पेहेन्', 'Fans', 'त्म्', 'sting', 'अछ', '#chilikadhaba', 'दिय', 'psychopath', 'overnight', '#अमेथि', 'टुस्शर्', 'Arm', '#PathankotAttack', 'कुम्', 'जयेगि', 'दिवलि', 'Img', 'ज़मीन्', 'क्र्न', 'decisions', 'खोल्दिय', 'system', 'needlessly', 'एक्', 'य़मुन', 'Boulanger', '03:51', 'Pत', 'Is', 'बहोत्', 'वर्न', '@chintanmistry4', 'अप्के', 'standards', 'मज़', '@Tapes333', ' mismanagement nonsensical', 'Pradhanmantri', '@Imo45', 'rite', 'Final', 'Utah', 'बने', 'tomorrow', 'Padukone', '@only fo r you', 'Abdul', 'ज़ग्दिश्', 'वपिस्', 'हर्दिक्', 'Poor', '@ख़्हबेर्गरम्है', 'personalized', 'AAA', 'ChandniGodara', 'script', 'superman', 'पुकर्ने', 'जन्गल्', '10th', '@said23', 'image', 'Best', 'Narendra7', 'Just', 'shots', 'Pआटी', 'mean', 'establishes', 'ंअनोहर्', '@justbeauty18', 'attire', 'बाप्', '#BongFoodPorn', 'said', '@Sadiatistic', 'पह्न', '@RoflSinghSaab ', '31.25', 'ख़ो', 'gumsuda', 'Yashpal', 'counter', 'मिलेग', 'temple', 'promise', 'PPP', 'sd', 'खतर्नाक्', 'tried', '#गुनाह्', '#Tamilnadu', 'आप्के', 'Army', 'Neemrana', 'ppl', 'right', 'ह्य्', 'स्री', 'ःऐन्', '@SChotepur', 'Kurduwadi', 'hereIsRahul', '#JP', '#Manga Manga', 'शनेश्चराये', '@Dishasatra', \"#AP's\", 'Control', 'participate', 'reaction', '#PAKvsIND', '#Modi', 'मित्र', ' ? ? ', 'Exposed', 'chants', 'अव्सर्', 'Tribunal', 'sacrifice', 'मिक्ष्', 'Pअक्कि', 'block', \"ऱिश्त'\", 'brain', 'Unilever', 'Preparations', 'विश्वस्', 'talk', '#IndvsWI', 'pakistani', 'renamed', 'asafoetida', 'शिवये', 'लगये', 'साथ्', 'लोग्', 'persons', 'granted', '18', 'economic', 'theater', '#ChennaiFloods', 'Mahadeva', 'जनेमन्', '@nishrana', 'NewsxEight', 'Majithia', 'ःअसन्', 'NDTVProfit', 'Lady', 'छेन्नै', 'screening', 'Kara', 'LEAD', 'सक्त', 'पय', 'त्वीत्ने', 'Hubbell', '#whereisrahul', 'r', 'Pअ', 'Subramaniam', 'Mallikarjuna', 'देव्', 'Last Vijay', 'आखिलेश्', 'Hall', 'mortality', 'announced', 'with', 'ख़', 'wishing', 'षर्मजि', 'ग़लेय्', 'Better', 'वहन्', 'अप्कि', 'Digit', 'सरि', '#Graham', 'hike', '#ArtOfLiving', 'चह्ये', 'आP', 'light', '@LawmanPg3', 'टूत्', 'lovely', '@YouTube', 'घुत्ने', '@sharethis', 'म', 'हान्', 'reply', 'जलेबि', 'चोर्न', 'Ujjwala', 'टलाश्', '@TamalDas8', 'दुनिय', 'षुन्दरि', 'yes', 'passenger', 'ignited', 'Sufi', 'Lola', 'sitting', 'February', 'batting', '@कबिर्खन्क्क्', 'Bएह्क', 'Shivayah', 'Verdana', '@ंअर्याम्षकील्', 'लेह्ते', 'ripped', 'Yesterday', 'Colombo', '#Hyderabad', 'Rata', 'sureshpprabhu', 'Set', '#BREAKING', 'hp', 'beat', 'luxury', '@ImVeeDee', 'टुम्हि', 'णै', 'bring', 'मौक', '108', 'Boston', 'space', 'ःइमलय्', 'धून्ध्', '@natashajain6', 'बोहोत्', 'ख़रीन', 'ह्म्', 'Ramasundram', 'Symbol', 'lucha', '@सतेन्देर्हूद१', '@NaturesDoodle', 'ष्ःईV', 'Krista', 'high', 'jyotish', 'MAHASHIVRATRI SHIVRATI', '27Apr', 'ज़ीत्', 'ळक्ख', 'पुम्', 'सत्केलि', 'Shameful', 'ख़िस्', 'Eत्', 'वप्स्', '@mehulgohil', 'Stir', 'mode', 'नि', '#Moral', '@MANISHAINSAN2', 'Higher', 'Sonora', 'भूखे', ' 52', 'Saffron', 'ख़ेज्रिवल्', '@Sarcasm', '@sejaljobanputra', '@TheVoiceOfGaia', 'हुम्', 'षार', 'Magazine', 'achieve', 'those', 'IL', 'Tool', 'Borisov', 'Having', 'Logo', 'cc', 'quantum', 'बिन', '@Umarkarim89', 'count', '#ModiFearsKejriwal', 'आओ', 'tweets', 'compartments', 'shivaya', 'water', 'holding', 'mandal', '#Bossa', 'खुद्', 'floor', 'kiss', 'Sudan', 'engaged', 'Early', 'गज़ब्', '#ंअन्न्ख़िBआत्', '@HinduRajyam', 'जनमज़्', 'Cigarette', '@change532', '#AllezRoger', 'बोलो', 'March', '#WIvZIM', 'bill', 'ta', 'ज़ैस', 'movie', 'बह्नो', 'politics politics', 'कौर्', 'डेखो', 'parmarth', ' ', 'Roast', 'Such', 'slammed', 'explain', 'Pic', 'पेल्ते', 'seminar', 'चलै', 'देख', '#Special26', 'Harishankar', 'sy', 'आमर्', 'धर्नस्', 'जित्ने', 'Sec', 'ख़ेह्ते', 'MP', 'avg', 'knowledge', 'प्रुथपर्थ', 'Thankyouu', 'Rudrapujas', '#BOLBUM', 'डिय', 'षिव्', 'YD', 'घर्', '2.30', 'applied', 'Y', 'driving', 'आपिये', 'क्रिप', '@mynamerahul007', '@JP Brigade', 'recently', 'trap', 'Highlights', '#RailBudget2015', 'text', '@Economictimes', 'ख़्P', 'षब्', '@santravendor', 'areas', 'everything', 'shortly', 'sr', 'अद्वन्जि', '#river', '#Worldcup', '@its', 'षह्ज़द्', 'late', 'defend', 'sarah', 'Ready', 'Modern', 'Megastar', 'quote', '#UFC', 'प्रचोदयत्', 'आआत्त्', 'everyone', '#MSGHonorToHumanity', 'answers', '#AAPtards', 'Watch', '@RabiaAnumm', 'Puja', 'Ramayana', '#JagjitSingh', 'Another', 'खुग', '#Police', 'कर्वने', 'ज्ब्', 'बर्बादि', 'Hrithik', 'Bहोल', \"don't\", 'नरियल्', '#Turns', 'ख़धल्', 'चह्य्', 'इन्सानो', 'Waist', 'णयगर्ह्', 'recording', 'Hoop', 'खिल', 'जगह्', \"India's\", 'खोर्', 'ah', 'abuse', 'लेकर्', 'ऱत्नै', 'http', 'Plze', 'पल', 'intro', '@tara ndash', 'Australia', '@amitava258', 'Braille', 'दीवर्', '#ख़िकुषर्द', 'rivers', '@TheIntlHerald', 'हय्', 'wants', '@NottThatRavish', 'सालिस्', 'soo', 'used', 'शै', 'Bengal', 'Years', \"can't\", 'किशोर्', 'कोन्सि', 'सर', 'बचो', 'mummy', 'leader', 'lost', 'ंअहेश्', '2thr', 'Search', 'does', 'Launch', 'खेल्त', '@shubhansh1504', '@AnokhiVerma', 'media&v', 'procession', 'Cheuk', 'औम्', 'within', 'अर्', 'sense', 'ginunga', 'Radiant', 'Greetings', '@mukteshchander', 'दादि', 'ख़हून्', 'ठोद', 'batsmen', 'षे ख़बूतर्', 'ambushed', 'बदे', '#AAPkaCM', 'click', 'Special', 'Nama', 'words', 'जेसि', 'शुब्कम्नयेइन्', '3000', 'नेगि', 'president', 'हारे', 'suicide', 'Parliament', '#EndVVIPRaj', 'That', '@GIRISHlht1978', 'पह्ले', '@Indianexpress', '#CastePolitics', 'ःओये', 'प्रभु', 'canton', 'wat', 'Fatal', '#Spider', 'AST', 'Agenda', 'थीक्', 'Dude', 'first', 'Palmyra', 'हद्', 'left', '#InsafianTheLosers', 'discuss', 'षतकम्', 'classy', 'प', '@That Rain', 'जमन', 'ज़्त', 'होन्गे', '#UPAChopperScam', 'League', 'pan', '@shindekar', 'tender', 'Can', '@bcc', 'षहेब् ए', 'ख़्होज्ने', 'TripuraSundariTemple', 'खोल्न', 'banking', 'ग़ये', 'speech', 'आआदमि', '@Soul Kai', 'Caught', 'रज', 'Sharma', 'महत्व', 'depend', 'कश्', 'politics', 'Mutualfundsaresubjecttomarketriskspleasereadtheofferdo', 'रय्', 'reward', 'allowed', 'trust', '@baywatchmovie', 'Panda', 'Gas', '@sonaliranade', '@ऱेख्त', '32xx 28xx', 'इन्हे', 'Aditya', '@srabantismile', 'Goodwill', 'Villagers', '+', '@DKhantastic', 'secrets', 'Jayapura', 'आबेय्', 'Bowler', 'Pavia', 'sin', 'भुमि', 'पीत', 'क्र्स्क्त', 'Benny', 'षुर्य', '#winterstart', 'शह्जदे', 'अद्', 'saving', '@SomeGoanGuy', 'Radu', 'class', 'कह', 'णथ्', '(@', 'Jammu', 'chief', 'title', '@rooms', 'pital', 'कदम्', '@कन्हैयज्नुसु', 'ख़्हलि', 'Sultan', 'सम्झय', 'पाथ', 'मेह्न्त्', 'posted', 'celebrate', 'ShivShabhu', '@shikhakotak', '#MSGmission', 'नश्', 'mahadev', 'Console', 'Kshipra', 'दरे', '@AnkitFearless', 'सनम्', \"chief's\", 'questions', '#LandAcquisitionBill', 'लगेग', 'Sofia', 'Google', 'pass', '@Hindi Liverpool', 'रुम्', '#Odisha', 'Games', 'वी', 'त्योहार्', 'छन्दिगर्ह्', 'मनिश', 'सर्कार्', 'तक्दीर्', 'puja', 'देख्ते', 'library', '@Judaism', 'आरुनचल्', 'कशि', 'Parti', 'anu', 'ढर्ति', '#Positive', 'pigeons', 'W', 'Wअल', '#SultanKiJaan', 'awesome', 'Nirvana', 'bronze', 'v2406', '#आप्किदिल्लि', '#Jump', '@subhendujee', 'any', 'ःआन्', 'seed', 'आप्जि', 'नेइ', 'planning', 'ख़्हलिद्', 'Mubarak', 'probably', 'Dewan Deepika', 'party', 'Max', \"Radio's\", 'बचाने', 'ऊनि', 'ड्Eट्E', 'Drivers', 'Leone', 'केज्रिवल्', \"I'm\", 'things', 'गज़ल्', 'Px', 'हेरो', 'thank', 'Bट्', '@AltruisticPooja', 'छुदिय', 'मौह्तज्', 'ःऐ', 'SG', 'ब्रह्मचरि', '@DesiObsession ', 'Madrid', 'आप्को', 'behaving', 'वालो', '#beautifulview', 'Valentine', 'ःआऱ्', 'militant', 'मुरख्', 'तौ', 'berojgaron', '@amsobittyagi', '#SportsTweets', 'आअमिर्', '#Srilanka', 'job', '#Ind', 'नज़्म्', '1100', 'मर', 'Along', 'कित्न', 'give', 'mix', 'ईन्सान्', 'य़ोजन', 'मन्ग्', 'जल्द्', 'dear', 'केजरु', 'A49', 'मह', '#Sonia', 'drought', 'offence', 'ढेरोन्', '#WCFfever', 'Wat', 'Takshila', '@By India', 'प्क्', 'janardan', '@fateema ', '#धवन्', 'Semifinal', '@TheRahulMehra', 'fool', 'Volunteers', 'shoes', '#IPLOpeningCeremony', 'बनुन्ग', 'ili', 'निक्लि', 'vuntaru', 'Tiny', \"Birth's\", 'replace', '#WhereIsRahul', 'then', 'णिचे', '@ClassicallyWild', 'ir', 'siddhu', '@medhanarmada', '@ImranKhanPTI', 'DCA', 'india', 'ग़्', 'market', 'Spread', 'O', '@tehseenp', 'ऱोशन्', 'लेते', '@Utah Are', 'scene', 'ग्या', 'done', 'Ashram', 'judicial', 'guide', 'certificate', 'Getting', 'Illegal', 'मन', 'भत्त्', 'ष्', 'डर्द्', 'There', 'आज', 'using', 'Child', 'wi fi', 'Finally', '#CivilWarTrailer', 'ऱहून्', 'ंइले', 'Heath', 'Marramay', '@ashramindia', ':) ) ', 'also', 'If', 'ऱेह्न', 'dirty', 'AN', 'st', 'आउस्त्रलिअ', 'मन्गल्कम्नयेन्', \"Delhi's\", 'ID', 'held', 'care', 'Courtesy', '#षन्स्कारिछन्दिगर्ह्', 'Hahhahaha', 'bipasha', 'सेहेर्', 'हार्', '@Imdb1d', 'Salute', '#Rajkumar', 'मेइण्', 'carrot', 'claim', '@LOLendraSingh', 'successful', 'अति', 'tickets', 'Budget', 'People', 'Bअघ्', 'K', '50Cent', 'Www', 'लग', '#mumbai', '@Haider514', '@Timeslot', 'ज़वब्', 'Resort', '@S1NH', 'क्म्', 'Makes', 'parents', 'बुस्य्', 'Balakrishna', 'puts', '@TOIEntertain', 'सच्', 'Bअधै', '@Chili', 'University', '@पग्लपुर्', 'applaud', 'Ocean', 'Once', 'onion', '#Periscope', 'Pune', 'Mythdon', 'फोदेन्के', '#motivationalquote', 'firecrackers', 'कित', 'Panel', '#T20', '@Fallen18', '#NowPlaying', 'बद्ल', \"Jade's\", 'Oval', 'उपर्', 'ज़ी', '#AyirathilIrruvar', '@भक् सल', \"Takraw's\", 'Felt', 'C2', 'remember', '@DuttYogi', '#WC15Final', 'Lanka', 'compromise', 'Pउज्ये', '@Thakurpops', 'Istanbul', 'जम्हूरियत्', 'DocVatsa', 'सेय्', 'had', 'घुम्न', '@virendersehwag', 'T', 'पेर्', 'Must', '@Yamininisha30', 'promises', 'activist', '@trivial aus', 'Power', \"Dev's\", '#bdnews', 'ज़प', 'आअज्', 'चुत्य', 'provided', 'तो', '#IndvSL', '#AxisBankAd', 'student', 'सह', 'नमशिवय', '@ट्वीत्Zआदे', '@Bali Booth', '#VIVOIPL', 'fail', 'Jokes', '#ग़्हर्वपसि', 'gandhi', 'super', '@AAPlogical', 'Starring', 'नज़र्', 'pet', 'ख़बूतर् टेरे', 'सहिदो', '#SoniaRahulHazirHo', 'MakeInIndia', 'By', 'Param', 'Kai', 'Sailing', 'जलन्दर्', 'षच्', 'यहिन्', 'परम्', '90', 'Adana', 'managed', 'targeting', 'बोहत्', '@MANJULtoons', 'Having&Japan', '@Abhinav Sri', 'becoming', '#WontGiveItBack', 'Trimbakeshwar', 'killer', 'गदि', 'षह्रुख्', '@सैकरुन्', 'ख़रिश्म', 'valid', 'र्ख्न', 'g', 'Dont', 'Res', 'L O', 'फ़क्रि', 'or', '@अक्शय्कुमर्', '#At', 'suitcase', '#MSGRevolution', 'ळाख़्ः', 'वन्नरपेत्तै', 'ह्र्', 'अ', 'भिखरि', 'broke', 'Pहल्के', 'Farah', '@neural rature', 'Bअज्', 'आअप्कि', 'ख़ेज्रि', '@MB India', 'मेह्', 'विदेशि', 'doubling', 'sites', 'Advice', 'Achilles', 'read', \"Chopra's\", 'beauty', '#Nano', 'personalities', '#BajiraoMastani', 'आग्ल', 'Teresa', 'score', 'ज़', 'Oops', 'Arab', '@सुनिल्द्देसै', 'Nash', 'ंएह्नत्', '@gautamverma23', 'Augusta', 'MahaShivaratri', '#ठै', '#RioOlympics2016', 'shift', 'BEAMER', 'षुभ्कम्नयेइन्', \"Near's\", 'To', '#nz', 'झादू', 'lunch', 'दहि', 'project', 'that', 'स्ब्से', 'iamsameeranwar', '#winners', '#mahashivratri', 'Gambit', 'बेथ्', 'Simple', 'Jp', 'ज़रुर्', 'liquor', 'tunnel', 'petition', 'terror', 'Nan', '#Kejriwal', 'transactions', 'Sanjay', 'clinics', 'Won', 'journalists', 'Trip', 'Before', 'virgins', 'डे', 'येअह्', '@MaheishGirri', '@ख़्यऊखाद्ळेग', 'really', 'ऊन्को', 'डी', 'Vइर्', 'सथ्', 'Bआर्', 'Poster', 'ETA', 'Mahadev', 'revolution', '@arvindkejriwal', 'ःअमरे', 'feels', 'Has Tag', 'living', 'feud', '#Railway', 'Hahahahaha', 'Sure', 'real', '3 ', 'let', 'ViralsDaily', 'टे', 'serve', 'उन्', 'ex', 'false', 'born', 'importance', 'ख़र्तर्', 'scared', '#Railbudget2015', 'patriotic', 'दिप्', 'When', '@sud tag', 'बोल्ते', 'ज़ाये', 'Bस्', 'BB', 'ढोयेन्गे', 'ख़्यु', 'Voodoo', '@Obnoxious Raven', 'label', 'Criticize', '#Republican', '<OOV>', 'credit', 'Zuckerberg', 'summed', 'हिस्स', '@aryakanika2', 'Lawlor', 'Cautious', '@JoinAAP', 'क़्', 'future', 'षदोलि', 'ह', 'भे', 'YouTube', 'आआं', '@SukeshReddyRmur', 'Government', 'Mm', 'अओन', 'helped', 'छलो', 'मैय्य', 'Guess', 'ख़ौन्से', '*', 'तुम्पे', 'daily', 'सि', '@narendra1602', 'Wअर्न', 'पाओगे', 'Message', 'सुभ्कम्नए', '13', 'दि', 'तू', '#DDvKKR', 'bc', 'कर्गिल्', 'Ballad', 'rahul', '#WC15', 'P.C', 'आभिजीत्', 'Asia', '@Vivek Stalin', '#bleedblue', 'comedy', 'ंएहक्', 'because', 'Indie', 'performances', 'Pandiarajan', '@maria this5', 'ःई', 'haha', '#HeroISL', 'अज़ब्', 'Khurram', 'युन्', 'सध्कोन्', 'I', \"Let's\", 'AT', '@realmadrid', 'ईन्षआल्लह्', '#tofu', '@षाक्शिष्ऱवत्', 'Handle', 'पतखे', 'Bयह्', 'खतम्', 'Serena', 'eng', 'ःउम्ःऐन्णा षोन्य्', 'हुमरे', ' s', 'Anandan', \"Khan's\", 'birth', 'His', 'त्व्त्', '2016', 'षदिक़्', 'nothing', 'sister', '19th', '@Puja C', 'mohamed', 'बव', 'षर्दार्', 'narendramodi', '@justicearnab', '@meet', 'ऊन्हो', 'ंअस्तनि', 'हुमे', 'ख़पिलश्', ': P', '@faiezakhan', '@एम्रान्हश्मि', 'Near', 'ट्यगि', 'डेश्भक्त्', 'Jabardust', 'yesterday', 'MegaStar', 'जीत्', 'आऴर्', 'ध्यान्', 'फोतो', 'supplied', 'चुति', '@Cesar ', 'शुभ्कम्नये', 'याद्', 'dance action', '@rites sid', \"Modi's\", 'देये', 'Impossible', 'inches', 'RUS', 'कबूल्', '@IAmSudhirMishra', 'Distriparks', 'milie', 'जिस्के', 'Fungal', 'friends', '#sky', 'Deep', 'ख़्O', 'वि', 'Kishore', 'dreams', '#HaryanaResults', '@samachar plus', 'pakistan', 'बदि', 'airtel', 'Like', '@Ashishtics', 'Bहगने', 'ज्र', 'enjoy', '@2806anu', 'ख़पुर्', 'technology', 'पैस', 'Rehearse', 'believed', '@DhuanDhari', '@sunnysingh nw3', 'Pअर्वति', 'मुअ', 'इस्स्', 'Lt', 'media', '#JaiShiv', 'fatal', 'students', 'ज़ए', 'answer', 'Titagarh', 'MR', \"Modi's:\", 'Manor', 'तुझ्से', \"#India's\", 'Bअन्ग्कोक्', 'वक़्त्', 'Youth', 'hymn', 'Non', '17th', 'grace', 'holy', 'ःआर्', '#turnout', 'हथोन्', 'ंऔक', 'कर्दे', 'second', 'Mark', '#ख़र्नतक', 'बचन', 'spread', '#णोतूसिन्ग्ःअश्तग्', '@ImLeslieChow', \"''''\", 'Loves', 'Republic', 'jade', 'नाश्त', 'folks', 'question', '@MyCMKejariwal', '#Gain', 'Taken', 'Steel', 'Nepalese', '#MenInBlue', '250', '@sulabhpandey ', 'Bangla', 'SS', 'थे', 'mst', 'Congratulations', 'Pak', '#Fever104', '@kchowdhury9', 'आअलु', 'few', 'mAlaikA', 'road', ' टुझे', '@GujaratLions', 'CB', 'Bhagyaraj', 'One', 'carrying', 'sandy', '@ScoopWhoop', '@aaprohit', 'ज़ैपुर्', 'जवानि', 'of', 'hides', 'Garment', 'Change', 'Mahotsav', 'बन्ने', 'finally', 'Was', ' kanwardhillon', 'Akshay', '(Alkali Congress JP) of', 'Mouth', 'teams', 'Purely', 'its', '@DrGPradhan', 'tay', 'Mukerji', 'friend', 'Mast', 'Song', 'Bहुव्नेश्वर्', 'africa', 'baku', 'प्रसद्', 'amazing', 'वलय्', 'airlifted', 'ब्चओ', 'sentiment', 'To9', 'Believe', 'er', 'Annual', 'fuel', '@दीप्क्बुद्कि', 'जि', 'आत', 'twitter', 'UND', 'Munimji', 'अजीब्', 'diffused', 'bn', 'many', 'android', 'domestic', 'लियी', 'देखियेग', 'आआP णजफ़्गर्ह्', 'अन्श्', 'Rule', 'Pratyusha', 'Shorta', 'Chopra', '@ITwingDSS', 'Vila', 'RahulBaba', 'viral', 'reason', 'चोद्', 'षल्मन्', 'gram', 'matter', 'खुवब्', 'Says', 'sent', 'wide ranging', '@Tahir63178397', 'While', '55', 'Cricket', 'Show', '#GoldenGlobes', 'Opposition', 'खन', '#MSGHumanityCamps', '@रेख्त', 'republic', 'सम्भ्ल', 'सियू', '@AnjanaVJ', 'Graduate', 'क्रुन्गि', 'performance', 'governments', 'apart', 'omg', 'मेरे', 'Maduro', 'इस्कि', 'Place', 'TeamIndia', '#200DaysMSG2', '@shailesh', 'institute', 'बनलो', '130', 'holiday', 'छोल', '#Budget', 'Distant', 'तुझे', 'Bहिखरि', 'स्भि', 'Incredible', 'medalist', 'ळौघ्तेर्', '@imVkohli', '@NakuulMehta', 'षिकयत्', 'SB', 'Sundaram', 'hey', 'किधर्', 'released', 'टांआं', 'क्युन्कि', '@ATS', '05', 'सम्जे', '@Bईलाल्टरिक़्', \"Shiva's\", 'Sonia Sidonia Sanjay', 'शेर्', 'चेतन्', 'छरे', 'ंओहे', 'Pअथार्', 'nation', '@KirronKherBJP', '#Civilwar', 'sadly', 'charges', '@ suhasidhami', 'fake', 'Are', 'Intellectual', '@nickhunterr', 'Ludhiana', 'JACOBABAD', 'ज़िस्कि', 'Modi', 'रहो', 'देवो', 'Its B', 'णहि', 'cou', 'CORRECT', 'tricks', '#ज़ल्दूत्', 'rebel', \"doesn't\", 'हेअदचे', \"#JP's\", 'vote', '#Selfie', '#आअचेडिन्', 'ट्Eऱा', 'billion', 'खोल्के', 'allotted', 'papal', '92.7', 'बैज़्ति', 'dropped', '4', 'Debate', 'ळद्किय', 'कत्रिन', 'PK', 'C7', 'Prasad', 'too', 'Zunaid', '@BrokenCricket', 'rangle', 'छ्हुत्ति', 'शर्मिन्द', 'Stone', 'कोउन्स', '#Asked', 'Shyam', 'Mitsubishi', 'उस्कि', \"सर्हदेइ'न्\", 'किअ', 'Lingaraj', '#railcars', 'आयि', 'Hudhud', 'डिल्', 'पिच्ले', '@Dev Fadnavis', 'TALREJA', 'मन्दिर्', 'भारि', '#TheBlissfulPeace', '@mehrishisumati', 'chested', 'जलओ', '#AmiKKR', 'BBःई', '@Drama queen', 'Her', '@ShankarNaresh1', 'ऱहुल् आच्च', 'ळतजि', 'Beach', 'believe', 'ग़', 'bullet', 'prime ministerial', 'Bउन्द्', 'Kamadeva', 'rights', 'Increasing', 'was', 'दफ़्ना', 'फिर्', 'Ambassador', 'कमनये', 'आहब्', 'Pradhan', 'ज़ल्दि', 'Approximately', 'Email', 'वालोन्', 'भर्ति', 'inspiration', '@GareebGuy', 'थोद', 'छोध्', '@Quota', 'मिल्क्', 'षुब्काम्नयिएन्', 'uspenfilm', '#gizelethakral', 'fares', '@poothegr8', 'अयी', 'आअप्क', '@nitibnsl', '#SG2In505can200that', 'Killed', 'बर', 'बन्दि', 'अफ़्घन्', 'ना', '@realmadriden', 'Raasipalan', '@Anita Shah8', 'jindabad', 'Chair', '1000', 'रज्निगन्ध', 'Purnima', 'Man', 'Discussions', 'DeviSharadambika', 'different', 'mall', 'Hasakah', 'A6', 'Sonakshi', 'मर्', 'remarkable', 'touch', 'Eक़्', '19', 'हेइ', 'IX', 'towards', 'losing', '@nigra307', '@AgentSaffron', 'goodness', 'ःउस्सेय्', 'आतल्', 'politicians', 'प्यर्', 'evi', 'scam', '४०', '#Mahadev', 'Nora', '@SRKsDrishh', 'by', '@pagan1230', 'BRODRY', 'छ्हत्तिस्गर्ह्', '#StalkTheStars', 'दद', 'Khan', 'उन्को', '@AnupamPkher', '#TheIrfanism', 'Liberal', '#AUSvIND', 'lot', 'brahim', 'च्लेन्गे', 'मेदिअ', 'Van', '#AbdulKalam', 'Muhajirs', '@balliawalebaba', 'षकल्', 'asked', '@NA Ian', 'disrupt', '#pak', 'हर्धिक्', 'ViswaKarma', 'ःआईण्', 'जम', 'छोत', 'undo', '@coolfunnytshirt', 'basis', 'possibly', 'help', 'पधाइ', 'relationships', 'Gavin', 'Kolhapur', 'other', 'Url', 'Telugu', 'षोनिय', 'Sanskrit', 'lives', 'PMOIndia', 'Eid', 'ख़िसि', '#Maggio', 'कुदियोन्', 'आप्नि', 'patel', 'ख़र्तिकेय्', 'दिम्प्ले', 'Nilgiri', '@ख़्हन्ंओबीन', '@Sheila22', 'आइसे', 'को', '@Zenit Main', 'Bah Mahadevan', '#rahulonleave', \"Rain's\", 'उस्क', 'Breaking', 'Raja', 'षलुते', 'दिल्', 'eid', 'beef', 'BआआP', 'Beta', 'tells', 'खन्', 'ihsavru ', 'बुल', 'ख़ल्पेश्', 'षर्दश्रम्', 'youngest', 'धेर्', 'looted', 'रात्', 'पिय', 'मिल्वत', 'Rahim', 'खओ', 'Servant ', 'अद्मि', '#NonDualism', 'Mall', 'sleep', '#DelhiDecides', '@डैनिक्Bहस्कर्', 'panda', '@seal gandhi', 'gn', '@MaskedSRKFan', 'plate', 'rung', 'आब्बेय्', 'वोह्', 'daughter', 'ळी', 'quietly', '@NewIndianXpress', 'sports', 'होजये', 'banjo', 'नच्ने', 'Surveillance', '#AsiaCupT20Final', 'fielding', 'Namashivaya', 'णिहन्गे', 'unauthorized', 'final', 'side', 'परिवर्', 'वेख्', '#FanReview', 'Pएह्ले', 'थ्', 'देन्', 'Pakistan', '@choriketweet', 'छप्', 'Profit', '@vindugoel', 'Back', 'Yadav', \"Maharashtra's\", 'sea', 'Side', '@म्स्धोनि', 'भै', 'ends', 'doc', 'Forget', 'षेर्', 'जैस', '@dkbansalin', 'Both', 'lucky', 'आरोप्', '@RobertVadra2016', '#mattcutts', 'patparganj', 'Lakhbir', '#CongTerrorInRajyaSabha', 'Pरियन्क', 'duck', 'films', '#YouthIconMSG', '@Babu Bhaiyaa', 'ंअहदेव्', 'Driver', 'rapist', 'enquiry', 'NID', 'येह्', 'ःअरयेन्गे', 'ते', 'टहिर्', 'सो', 'Sweet', 'martial', '@DrKumarVishwas', 'नफ़्रत्', 'ArvindKejriwal', 'August', 'fed', 'Wआळी', '@इअम् Bहव्य', '@smitabuch', 'mainline', 'जयेन्गे', 'First', 'e', 'stay', '@zoomphatak', 'डेश्', 'ख़ल्यन्', 'Vara', 'चले', 'adding', 'single', '@sasha28', 'सुभ्कम्नयेइन्', 'ख़यकल्प्', 'iran', 'Q4', 'way', 'छ्हत्रपति', 'Bangkok', 'Anuradha', 'reporting', 'महिम', 'Asaramji', 'ंआआ', 'भुलो', 'mumbai', 'ख़र्त', 'रक्श', 'FIA', '@ंईनय् ', 'l', 'भूल्', 'best', 'doing', 'ग़ान्द्', 'ब्ने', '@abhisar sharma', 'Imposition', '#BlockBusterMSG', 'Zअकि', 'BAHANCHOD', 'proved', 'थोक्', '#trees', 'gif', '@GVLNRAO', 'sharma', 'Pअर्च्य्', 'Hindus', 'Chance', 'Elderly Senior', 'जहन्', 'whats', 'IndianCinema', 'he17', 'Lolita', '#ScamQueenOnRoad', '754gmail', 'आजीब्', 'डिन्', 'Anniversary', 'टर', 'Coverage', 'AUS2Ni', 'counting', '@Retribution', 'होन्थ्', '#BleedBlue', '#HikeFellowship', 'षोन', 'Marathwada', 'day', 'Revamp', 'Delicious', 'is', 'rename', '#AAPStorm', 'ख़न्ग्न', 'amenities', '@ndia 760', 'roles', 'डर्ज', 'आआPके', 'btw', 'आप्कि', 'Modify', 'ंउखि', 'cr', 'रेह्', 'आन्वर्', '#१०ख़ेBआद्ख़रेन्गे', 'comments', 'MAHASHIVRATRI', 'एर', '31.3.2014', '@Sony', 'hashtag', 'recognize', 'Vओ', 'जान्', '#PicsArt', 'commission', '@SRKsCombatant', 'congratulations', 'noodles', 'PL', 'AnimeshBandyo', 'school', '@Sharma rani29', 'Vehicle', 'ःइ', 'but', 'षहर', '#INDvIRE', 'systematically', 'pollution', 'यत्र', 'JasvirSjasvir', '@mushfiqur15', 'Landowners', 'Bहोउत्', 'celeb', 'He', '#Mahashivratri', 'Bअत्', 'NIGHT', 'successfully', '@SalmanzShona', 'राह्', 'savanna', 'गल्ति', 'gudmorning', 'बेगानि', '@अर्पित्दुर्योधन्', 'होसक्त', 'Two', 'Bअब', 'छिनेसे', '@Zअहेनसीब्', 'ख़श्मिरि', 'तक्', 'तुस्सि', '#Tagore', 'Simply', 'Any', 'Phanie', 'आय्', 'मारो', 'डोख', 'खयेन्गे', '@hbparmar211', 'षक्ति', 'षिर्', 'y', 'tyre', 'Bihar', 'जित्', 'Bअन्', 'whenever', '@षौरभ् ंळाग्क्', '@madihajihan', 'Blood', 'दुस्रे', 'सुनने', 'कर्वएन्गेय्', 'Eश', 'Shares', 'triangle', 'reacting', 'युहि', 'षिवयए', 'songs', 'पास्', 'Worth', 'और्', 'speeches', '@bjpnational', 'Wऐसे', 'ळख्', 'deeds', '@सैलोर्सौरभ्', 'ख़ैलश्', 'शुब्काम्नये', 'कैसे', 'ख़ित्नि', 'आमितभ्', '@PerennialCold', ' :', 'Advani', 'गिर्', '@prasad', 'वजह्', 'Supp', 'interpreters', 'insane paul', 'Rang', 'MAHADEV', '@ष्वधषन्कर्', 'big', 'Ringtone', 'not', 'Good', '@muzikman 07', 'Naidu', 'gets', 'मर्ते', 'ललच्', 'Pअलक्', 'लगन', 'Kumar', 'Bermuda', 'पुर', '@prev rk', 'अग्गर्', 'it', 'Zआ', 'inlay', 'ख़्रियय़ोग', 'Marina', 'ज़ग्ग', 'लोगोन्', 'health', 'Have', 'IV', 'HAHAHHA', 'sung', '3', 'statement', 'धर', 'pratibha', 'based', 'जम्', 'Qasmain', 'sweep', 'भर्', '@NtvteluguHD', 'Tax', 'obama', 'Mangeshkar', 'ः', 'wrong', 'three', 'damage', 'चल', 'छक्वल्', 'revenge', '11111111111111111111111111111', 'ज़ओ', 'sonakshi', 'दोशोन्', 'whether', 'ज़ब्', 'Shankar', 'work', 'ख़ेदर्नथ्', 'सीख्ने', 'Pअऴय', '@उश खोखर्', 'कद', 'सदैव्', 'अख्रि', 'Common', 'ऱह', 'centuries', 'कम्', 'दान्', 'कहि', 'park', 'Tanya', 'Thanks', '@Mumbai', '#PrabhukiRail', '300', '#SwachhDelhi', 'नहि', '@richaanirudh', '#Metric', '@insaankomal', '125', 'Terms', 'एह्सान्', 'डुनिय', 'तलेन्त्द्', 'order', '@cm qaimalishah', '#SalmanForRio', 'happiest', 'followed', 'much', 'Brute', 'Comedy', 'another', '18+) ', '#blockbustermsg', 'souls', \"couldn't\", 'खूब्सुरत्', '@KPonRise', 'historic', 'bro', 'Goth', 'IT HU', '@gouravgg1993', 'twt', 'आअस्र', 'य़दि', '#communal', 'tou', 'अप्नि', '@LambaAlka', 'करेन्', 'Fइज़', 'हश्तग्', 'भैया', 'singh341', 'gesture', '@IndiaHistorypic', 'i', '@सुचेतदलल्', 'therichirukku', '#Sideman', 'dream', 'Hahahaha', '#Indianmedia', 'guys', 'Alike', 'बोल', 'decide', 'F', '#णहिPअत', 'डेख्', 'जै', 'आउदि', 'Listening', 'लूत्', 'Delhi ', 'mahashivratri', 'passion', 'receives', 'पहुच्ति', 'happened', '#matchpoint', 'वलि', 'Bless', 'im', 'level', 'प्रेन्न', 'पिशब्', '@TrafflineMUM', 'बेह्ति', 'citizen', 'Valid', 'true', 'HU', 'बस्', 'header', 'stays', 'Sisters', '#CAGExposedGadkari', 'OT', '#parvatians', 'porn', 'Headline', 'पग्ले', 'suit', 'truth', '@RainaKiGudia', 'killing', 'Day', 'suddenly', '#KnowPune', 'बे', 'simple', 'since', '#ZalmiRocks', 'अप्न', 'सच्खन्द्', 'outside', 'आचर्', 'नर्', 'र्ह्य्', 'preparing', 'अक़ल्', 'started', 'happening', 'modify', 'RCH', 'gauge', '#unionbudget2015', 'जये', '#ःअप्प्य्', 'सेव', 'जी', '@1gupta', 'ठै', 'ज़ैसे', 'April', 'पत', '@INCIndia', 'marines', 'घी', 'girlfriend', 'Biggest', 'कोसिस्', \"Zuckerberg's\", 'बोल्न्', 'प्लन्', 'Harper', 'Kingfisher', 'protection', 'over', 'हवल', '@कतमुल्गि', '@indiantweeter', 'दोनो', 'Tournament', 'ट्र्किये', 'U', 'Manmohan', 'Under', 'Timelapse', 'act', 'भि', 'Too', 'डेवो', '412', 'trustworthy', '@आदिअचर्य', 'षुशोभित्', '@nadu maharaj', 'Wओह्', 'टके', 'laptop', '@deepikapadukone', 'China', 'V', 'OpenBook', 'Selfie', 'कमल्', 'program', '@AAPMagic', 'next', 'Music', 'Gulbarga', '@rehaankmr', 'sunday', 'our', 'Tendulkar', 'punarjanma', 'ंअज्दूर्', 'Telegraph', 'भोले', 'put', 'ंउझे', '#Alok', 'केह्ते', 'ःअमेश', 'Earliest', 'cameras', 'spirit', '@ArvindKejriwal', 'directed', 'Brief', 'strength', 'पकि', 'Ghost', '#Golden', 'Ini', 'visual', 'राज्', 'Visas', 'बक्वस्', '@bint e seem', 'Journal', 'णमो', '@Harysforu', 'आप्क', '#umpire', 'ळल्', 'पिते', 'Usually', 'पताके', '#believe', 'अलव', 'छ्होत', 'Sarah', 'Zअमीन्', '@anal 18 rank', 'साब्', 'Jain', 'षारि', 'Human', 'OSHA', 'प्र्', 'देव', 'Pak Austria', 'menu', 'april', 'Nik', 'semi nudedotcom', 'ख़ोह्लि', 'ga', 'णे', '#कोह्लि', 'Kerala', 'पुचिये', 'सरय्', 'Up', '2015', 'Bहूल्', 'Ns', 'Redefined', '@Agenda Sharma ', 'Courtesy ', '@CMofKarnataka', 'M', 'disqualified', 'Srabanti', 'Keralites', 'Perez', 'एखि', 'low', 'जन', 'ख़हि', 'मके', 'Chalk', \"D'souza\", 'रेह्न', 'गयी', 'Enough', '@aortic02', 'आरुन्', '@BSNLCorporate', 'dekhnge', '#Realistic', 'Mumbai', '#SoniaBribedMedia', '@अखोपेकर्', '#SG100CroreClub', 'trying', '@ana swamp', 'इत्न', 'जिस्ने', 'devil', 'ष्य्ल्लबुस्', 'while', 'full', '#पतखे', 'brings', 'Mon', 'Bअर्ख', 'Patar', 'जते', '@praveenpandram', 'ख़्ऱ्', 'ट्ःई', '@@', '#BecauseOfBabri', 'threat', 'कभि', 'ःआथोन्', 'देने', 'dumb', '@MosesSapir', 'Mushfiqur', 'अह्म्', 'Canvas', '@wokthiswayindia', 'Buffalo', '@HaramiParindey', 'Bहयिअन्', 'food', 'Game', 'ग़यी', 'Individual', 'Wअलय्', '#dillikiski', 'Parma', 'OL', 'Hosts', 'रहोगे', '#ग़मेंआरिछ्हे', 'आब्', 'Vijay', 'fix', '68', 'ship', 'ice', 'yrs', 'Hindu', '#SummerInTheCity', 'षद', 'Adding', 'Guru', 'going', '1R', 'spiritual', '@amir khan', 'Sridevi', 'Ultimate', '#fan', 'HINDHU', '@SitaramYechury', '72', '+917838021969', 'Obama', 'पध्', '#AIADMK', 'सकेन्गे', 'हे', 'स्रि', '@TrollKejri', 'णाःई', 'conference', '#BecauseOfTwitter', 'member', 'षदर्', 'ढ्यन्', 'Bआरे', 'सारि', '#SG2RocksPunjab', 'हाये', 'planned', 'Range', 'public', 'करम्', 'उस्नय्', '@raonabeel', '@nea822', 'my', 'gods', 'लेप्', 'foreign', '#ISupportDelhiOddEven', 'weakest', 'starring', '@tiara123', '@timesofindia', 'केह्', 'रह्य्', 'व्ह', '#Vandal', 'ओर्', 'Growth', 'ष्बि', 'अय्से', 'alleging', 'बेत्वन', 'lines', 'School', 'Rajneeti', 'लगम्', 'immense', 'Bउदि', 'ज़िन्दगि', 'comeback', '@ShivAroor', 'state', 'gujarat', 'Mapping', 'No', 'Download', 'सल्', 'notch', '#races', 'बक़ि', '@BloodDonorsIn', '@Kumar Ke5hav', 'मत्ल्ब्', \"Kumar's\", 'षोचो', '#SuperBudget', 'Art', 'Maharudrabhishek', 'must', 'ओन्', 'Professional', 'Around', 'Value', 'service', 'plea', 'Degrees', 'ख़शिर्', 'है', \"Scheme's\", 'चलिगेयि', 'ल्गन', 'Pअरेशन्', 'ऊस्कि', '#SureshPrabhu', '@exasperating ', 'ख़्हन्', ':p', 'भाग्', 'ऊम्र्', 'होगे', 'Anjaneya', 'छुत्ति', 'God', 'होग्य', 'Rahul', 'जुद', 'childhood', '#Supreme', 'shima', 'hostile', '@join2vanish', 'इत्ने', 'AAPInNews', '@ZeeNewsSports', 'Bहाद्', 'डस्', 'कैसि', 'away', 'Camping', 'नौक्रि', '#आमितभ्Bअच्चन्', 'क', 'बिल्कुल्', 'खेलिये', '@श्यम्क्कुमर्', 'ःअश्मि', 'injured', 'They', 'Bathing', 'मुफ़हिमत्', '@AOLSwamiji', 'pradesh', 'कौन्', '@AashishKhetan', 'demanding', '#DelhiPolls', 'Location', 'ख़ाले', '#Mani', 'Chidambaram', 'Pratap', 'भेज', '@करचिखत्मल्', 'अर्रे', 'अध', '@MohitParmarr', 'देख्लो', 'size', 'hearing', 'Marriage', 'षाट्ग़ूऱू', 'world', 'pramaan', 'ह्', 'Chandramoulishwara 1st', 'Well', 'dust', 'fair', 'era', 'चरिस्म', '@Said Doom', 'Vedhalam', 'West', '@vbvinsa', 'मन्', 'politician', 'Mann', '7', 'consider', 'पैसे', 'santa', 'भान्ग्', '@सौरभ्राज्जैन्', '@vivekagnihotri', 'आक्शर्धम्', 'hungry', 'headquarters', 'Flake', 'खस्', 'आप्से', 'Pयार्', 'Ding', '@ऊज़् ख़्हवज', 'shankar', '@Quran Delhi', 'joke', 'showing', 'path', 'सब्', 'rain', 'स्य्', 'घोतलेबज़ोन्', 'mayor', 'ग्यो', 'A', 'गलत्', 'Pokemon', 'महिने', 'सन्त्', 'ःअर्श', 'पध्ते', 'क्च्', 'लौन्द', 'Tips Guidance', 'sandra', 'परथ', '@PoohBear Goa', 'Saves', 'Comma Lord', 'बुन्द', 'रुबरु', 'मेउन्', 'port', 'बहुत्', 'णयि', 'google', 'App', 'केह्न', 'होसल', '@FarOutAkhtar', '@arch basin', 'Sri', 'अन्ति', 'abusive', 'elections', '@सत्यविजयि', 'panoramas', '#ComedianInParliament', 'Bअतये', 'chickens', 'सोह्नि', 'hatch', 'celebrating', 'Some', 'पीकर्', 'हमेश', 'Inyathi', 'toilets', 'investment', 'ंअत्लब्', '@BigPrintKarthik', 'Padmashree', 'ज़पनेसे', 'train', 'ंअहकलेश्वर्', '#WhereIsRahulGandhi', 'णीट्', 'RUDRABHISHEK', 'दुन्ग', 'overboard', 'fire', 'ऱज्दीप् षगरिक', '@TajinderBagga', 'malik', 'ंअहरश्त्र', 'might', 'Bआज़्', '@PL', \"बलय्य'स्\", 'जैसे', 'ज़ो', '@Atheist Club', '@drshraddha16', 'Shekhar', '#PrabhuKiRail', '@keetliwado', 'Much', '#डिल्लिख़िस्कि', 'who', 'हम्', '#KorboLorboJeetbo', '#Collage', 'किस्ने', 'तोद्', '#RailBudget20', 'Not', 'एग', 'बकेर्य्', '100%', 'examples', 'Parish', 'ळ्म्बि', 'Brothers', 'Wagons', 'दिखयेन्', '#Inclusive', 'Captain', 'Bएह्ति', '400', 'benevolent', 'Cordial', 'lips', 'Savior', 'थ', 'Priyanka', 'ंअत', '#YoSoniaSoPoor', 'Paper', 'किद्नि', '@japan 04', '@bav2406', 'Airfoil', '@इआरुषिने', 'CandyBar', 'Shell', 'very', 'Sousa', 'twisted', 'Made', '1984', 'Drama', 'गोले', 'य़ेआह्ह्', 'issues', 'ever', 'कोन्स', 'ख़ाऱाछ्ःई', 'Irish', 'Arrest', 'Bअनय', 'hospitals', 'anniversary', 'bra', 'वो', 'कर्रि', 'काम्चोरि', 'दारु', 'Bःआडाई', 'refusing', 'पहुन्च्', 'षैमन्', 'Cong', '@cricketwallah', 'नसीब्', '४ग़्', 'agitation', 'Rajya', 'Audio', 'body', 'Deeply', 'cricket', 'Oम्करेश्वर्', 'Barbara', 'Chandrababu', 'Has', 'Wishes', '#IndianRailways', 'भग्', 'Ayurveda', 'Mom ', 'डेवर्', 'ढन्', 'Between', 'poetry', 'ठल', 'मत्लब्', 'anyone', \"Marvel's\", 'communism', 'हुम्ने', 'मीत्स्', 'Priority', 'षन्घि', 'ज़मिन्', 'आग्', '@pkorules', 'check', 'innocence', 'बधय', 'Online', '@helloanand', '#MSGthoughts', '#AFGvWI', 'heart', 'Akbarabadi', 'षौद', 'Invitation', 'under', '#INDvAUS', 'बह्नै', 'sir', 'wait', 'mama', 'Julius', 'Shoot', '@SultanTheMovie', 'आउस्', 'MS', '@buzzindelhi', 'ज़यललिथ', 'hurts', 'सुरज्', 'षिव्जि', 'इस्सि', 'Delhi', 'हुअ', 'आम्बस्सदोर्', 'देख्तय्', 'bail', '@runways', 'report', 'पा', 'रोति', 'bidder', 'billions', '@rajivmishra', 'greetings', 'दल्ने', 'Srisrimangeshda', 'known', '#AwesomeLogic', '@sirjadeja', 'हुए', '@sheshnath99', '<PAD>']\n"
          ]
        }
      ]
    },
    {
      "cell_type": "code",
      "metadata": {
        "id": "Nh91WB-sWvon",
        "colab": {
          "base_uri": "https://localhost:8080/",
          "height": 182,
          "referenced_widgets": [
            "77ca3b80bb88443eb43c4210e3ede9dd",
            "a9ec9c55f1a54b80a624a29692443432",
            "994e9cf69e9f48f3b0d3fe47498b6006",
            "5ccf6b4492f140db8fe03c66d08e1ca3",
            "8bc70de1f1cf4831b69221843b3e4718",
            "443304dec1314c09ab1cda63a9dc208b",
            "56207026e7644fb6969d70d8be22a1e8",
            "f2557fd3aa4144ea9183f7b1645fb8d6",
            "4420cb732a0140aca96e3fbddafabc25",
            "c8496318240c41c8a03bcc7b0dd1b3b1",
            "bdaf275511c94b6d9c51dd58223d16fe",
            "57f91016bf0444b197579fcf890a1f2a",
            "85a532f9824d44e9bf9ddebf0cb39411",
            "c10dbf786861431783072e8244bfbd55",
            "8f8349aba4eb45e092e12efdd9022080",
            "c9e1b82d6d894e87893d5f8154529341",
            "d3288b76f026414388ddf549415f369b",
            "e62a0cce09934d899c819595574fcbe4",
            "941b69533de54e97ad6e368aac613b84",
            "56f47a12ea7243d7a2c74d6a166af2e7",
            "535557a877ea41468b7d9eec55dfd17e",
            "306fb3f1d67c44ff8d33ad338e0964c2",
            "02db655ba7144d35aff5518b4ad0eef3",
            "a3d3e573d4b24e4ab54513f895c75765",
            "76d159601e914e2381b628227cf2b768",
            "3fd4425fa976466b9ad84098c3ca8b8a",
            "adfb737cface404ab59ef8621326dc84",
            "1ef27f87513f4e9b8b53198077f73839",
            "0502f0e1a23d457e9da8a3ec7e333ea9",
            "30ec4b6a75d24fa1bd992cba3c722e36",
            "084ce566cee64a2ab93a78a4c203afe6",
            "28dba2ec221d45a49412a61aeea7e87a",
            "c603afd668f0483988ee21949b748392"
          ]
        },
        "outputId": "9e99da3a-fb22-4fbe-aac2-79c4430e88c0"
      },
      "source": [
        "# Converting words to indices for test sentences (Features)\n",
        "MAXLEN=128 #36\n",
        "\n",
        "# X = [[word2idx[w[0]] for w in s] for s in sentences]\n",
        "X = [' '.join([w[0] for w in s]) for s in sentences]\n",
        "\n",
        "'''\n",
        "Padding train and test sentences to 32 words.\n",
        "Sentences of length greater than 32 words are truncated.\n",
        "Sentences of length less than 32 words are padded with a high value.\n",
        "'''\n",
        "# X = pad_sequences(maxlen=MAXLEN, sequences=X, padding=\"post\", truncating=\"post\", value=n_words - 1)\n",
        "print(type(X),len(X))\n",
        "print(X[:2])\n",
        "\n",
        "tokenizer = BertTokenizer.from_pretrained('bert-base-multilingual-uncased')\n",
        "encoded_X = tokenizer(X, padding='max_length', truncation=True, max_length=MAXLEN, return_tensors='tf').input_ids\n",
        "print(type(encoded_X))\n",
        "print(encoded_X.shape)"
      ],
      "execution_count": null,
      "outputs": [
        {
          "output_type": "stream",
          "name": "stdout",
          "text": [
            "<class 'list'> 1243\n",
            "['Gully cricket चल् रह हैन् यह   ( Sonia )  Gandhi  ', 'I liked a @YouTube video  URL  ख़भि Pअल्कोन् Pए आअसून् ःऐ  ख़िशोरे ख़ुमर्  Vocal Cover By Stephen Radio']\n"
          ]
        },
        {
          "output_type": "display_data",
          "data": {
            "text/plain": [
              "Downloading:   0%|          | 0.00/851k [00:00<?, ?B/s]"
            ],
            "application/vnd.jupyter.widget-view+json": {
              "version_major": 2,
              "version_minor": 0,
              "model_id": "77ca3b80bb88443eb43c4210e3ede9dd"
            }
          },
          "metadata": {}
        },
        {
          "output_type": "display_data",
          "data": {
            "text/plain": [
              "Downloading:   0%|          | 0.00/28.0 [00:00<?, ?B/s]"
            ],
            "application/vnd.jupyter.widget-view+json": {
              "version_major": 2,
              "version_minor": 0,
              "model_id": "57f91016bf0444b197579fcf890a1f2a"
            }
          },
          "metadata": {}
        },
        {
          "output_type": "display_data",
          "data": {
            "text/plain": [
              "Downloading:   0%|          | 0.00/625 [00:00<?, ?B/s]"
            ],
            "application/vnd.jupyter.widget-view+json": {
              "version_major": 2,
              "version_minor": 0,
              "model_id": "02db655ba7144d35aff5518b4ad0eef3"
            }
          },
          "metadata": {}
        },
        {
          "output_type": "stream",
          "name": "stdout",
          "text": [
            "<class 'tensorflow.python.framework.ops.EagerTensor'>\n",
            "(1243, 128)\n"
          ]
        }
      ]
    },
    {
      "cell_type": "code",
      "source": [
        "# ### Checking what should be max_length while encoding\n",
        "# from statistics import mean\n",
        "\n",
        "# text_lens=[]\n",
        "# enc_lens=[]\n",
        "# for s in X:\n",
        "#   text_lens.append(len(s.split()))\n",
        "#   enc=tokenizer(s, return_tensors='tf').input_ids\n",
        "#   enc_lens.append(enc.shape[1])\n",
        "#   # print(s)\n",
        "#   # print(enc)\n",
        "#   # print(len(s.split()))\n",
        "#   # print(enc.shape[1])\n",
        "#   # enc_lens.append(enc.shape)\n",
        "\n",
        "\n",
        "# print(min(text_lens),min(enc_lens))\n",
        "# print(max(text_lens),max(enc_lens))\n",
        "# print(mean(text_lens),mean(enc_lens))"
      ],
      "metadata": {
        "id": "KAV3CzWU_bu5"
      },
      "execution_count": null,
      "outputs": []
    },
    {
      "cell_type": "code",
      "source": [
        "# print(encoded_X[:5])\n",
        "# print(encoded_X.shape)"
      ],
      "metadata": {
        "id": "WLf1we90-nkw"
      },
      "execution_count": null,
      "outputs": []
    },
    {
      "cell_type": "code",
      "metadata": {
        "id": "4qCwfSOFWvvq",
        "colab": {
          "base_uri": "https://localhost:8080/"
        },
        "outputId": "7ba6c0fa-b8a8-49ec-90f4-a588a57b965c"
      },
      "source": [
        "y = [[tag2idx[w[2]] for w in s] for s in sentences]\n",
        "# Padding tag labels to 180 words.\n",
        "y = pad_sequences(maxlen=MAXLEN, sequences=y, padding=\"post\", truncating=\"post\", value=tag2idx[\"O\"])\n",
        "\n",
        "print(tag2idx)\n",
        "print(Counter(list(np.array(y).flatten())))\n",
        "\n",
        "# Making labels in one hot encoded form for DL model\n",
        "y = [to_categorical(i, num_classes=n_tags) for i in y]"
      ],
      "execution_count": null,
      "outputs": [
        {
          "output_type": "stream",
          "name": "stdout",
          "text": [
            "{'I-PERSON': 0, 'O': 1, 'B-ORGANISATION': 2, 'B-PLACE': 3, 'B-PERSON': 4, 'I-PLACE': 5, 'I-ORGANISATION': 6}\n",
            "Counter({1: 156882, 4: 963, 3: 455, 0: 411, 2: 218, 5: 108, 6: 67})\n"
          ]
        }
      ]
    },
    {
      "cell_type": "code",
      "metadata": {
        "colab": {
          "base_uri": "https://localhost:8080/"
        },
        "id": "H6U4sGyVatxb",
        "outputId": "1dff2c94-6d54-4377-c0bc-62cbd8dc3bd1"
      },
      "source": [
        "# print(X.shape)\n",
        "print(len(y))\n",
        "print(y[0].shape)\n",
        "print(np.array(y).shape)\n",
        "# print(y[0])"
      ],
      "execution_count": null,
      "outputs": [
        {
          "output_type": "stream",
          "name": "stdout",
          "text": [
            "1243\n",
            "(128, 7)\n",
            "(1243, 128, 7)\n"
          ]
        }
      ]
    },
    {
      "cell_type": "markdown",
      "source": [
        "### Model"
      ],
      "metadata": {
        "id": "Bi1wVfdZ-rDC"
      }
    },
    {
      "cell_type": "code",
      "source": [
        "# from transformers import pipeline\n",
        "# unmasker = pipeline('fill-mask', model='bert-base-multilingual-uncased')\n",
        "# sen='I am [MASK] की आज खेलने चल सकते हे क्या?'\n",
        "# # sen='I am [MASK] ki aaj khelne chal sakte he kya?'\n",
        "# # unmasker(\"Hello I'm a [MASK] model.\")\n",
        "# unmasker(sen)\n",
        "\n",
        "# tokenizer = BertTokenizer.from_pretrained('bert-base-multilingual-uncased')\n",
        "# model = TFBertModel.from_pretrained(\"bert-base-multilingual-uncased\")\n",
        "# text = [\"Replace me by any text you'd like.\"]\n",
        "# encoded_input = tokenizer(text,padding=True,truncation=True,max_length=36, return_tensors='tf')\n",
        "# print(encoded_input)"
      ],
      "metadata": {
        "id": "4hJLXUYDixz7"
      },
      "execution_count": null,
      "outputs": []
    },
    {
      "cell_type": "code",
      "source": [
        "LSTM_N=256\n",
        "BS=32\n",
        "\n",
        "transformer_name = 'bert-base-multilingual-uncased' # 'bert-base-multilingual-cased'\n",
        "# First load the transformer layer\n",
        "transformer_encoder = TFBertModel.from_pretrained(transformer_name)\n",
        "# This will be the input tokens \n",
        "input_ids = Input(shape=(MAXLEN,), dtype=tf.int32, name=\"input_ids\")\n",
        "# token_type_ids = tf.keras.layers.Input(shape=(MAXLEN,), dtype=tf.int32)\n",
        "# attention_mask = tf.keras.layers.Input(shape=(MAXLEN,), dtype=tf.int32)\n",
        "\n",
        "# Now, we encode the text using the transformers we just loaded\n",
        "model = transformer_encoder(input_ids)[0]\n",
        "\n",
        "# model = Bidirectional(LSTM(units=LSTM_N, recurrent_activation='relu', return_sequences=True, dropout=0.5, recurrent_dropout=0.5))(model)\n",
        "# model = Bidirectional(LSTM(units=LSTM_N, recurrent_activation='relu', return_sequences=True, dropout=0.5, recurrent_dropout=0.5))(model)\n",
        "\n",
        "# # Adding a TimeDistributedDense, to applying a Dense layer on each 180 timesteps\n",
        "# model = Dropout(0.5)(model)\n",
        "out = TimeDistributed(Dense(n_tags, activation=\"softmax\"))(model) # softmax output layer\n",
        "\n",
        "# It's time to build and compile the model\n",
        "model = Model(inputs=input_ids, outputs=out)\n",
        "# model = Model(inputs=[input_ids, token_type_ids, attention_mask], outputs=out)\n",
        "\n",
        "# loss = tf.keras.losses.SparseCategoricalCrossentropy(from_logits=True)\n",
        "# optimizer = tf.keras.optimizers.Adagrad(lr=2e-5)\n",
        "# metrics=['accuracy', tf.keras.metrics.FalseNegatives(), tf.keras.metrics.FalsePositives()]\n",
        "\n",
        "# model.compile(optimizer=optimizer, loss=loss, metrics=metrics)\n",
        "\n",
        "model.compile(\n",
        "    Adagrad(lr=1e-5), # Experiment with lr\n",
        "    loss='categorical_crossentropy',  \n",
        "    metrics=['accuracy', tf.keras.metrics.FalseNegatives(), tf.keras.metrics.FalsePositives()]\n",
        ")\n",
        "# model.compile(optimizer=\"adagrad\", loss=\"categorical_crossentropy\", metrics=[\"accuracy\"])\n",
        "\n",
        "# model.summary()"
      ],
      "metadata": {
        "colab": {
          "base_uri": "https://localhost:8080/",
          "height": 190,
          "referenced_widgets": [
            "689fa761a0a7419d9315937cfa7a9930",
            "69743b42aa95477bac993cf8a1e97500",
            "d569f16e210e45da8d1c3c9d57d81e83",
            "7b8041d782e042f0b820b4a5e043cc0d",
            "02a76de7444e4234b8516a5b39e583dd",
            "42a7ff608c844fe988f6bc3f074eb667",
            "5e6609aaf9714e39a13bb48554f1621f",
            "5b41e201e3b94fa383c424de0b1aa11e",
            "7de5b088d1084fceab1346a1341605dd",
            "4e4dbb3700fb49bda19e98dfe8718a3a",
            "80cef1d970eb4832a1b3b14bd2859f1a"
          ]
        },
        "id": "fw2B1-fLgarE",
        "outputId": "b9daf38d-53bb-47bf-dab4-8ec16938a503"
      },
      "execution_count": null,
      "outputs": [
        {
          "output_type": "display_data",
          "data": {
            "text/plain": [
              "Downloading:   0%|          | 0.00/953M [00:00<?, ?B/s]"
            ],
            "application/vnd.jupyter.widget-view+json": {
              "version_major": 2,
              "version_minor": 0,
              "model_id": "689fa761a0a7419d9315937cfa7a9930"
            }
          },
          "metadata": {}
        },
        {
          "output_type": "stream",
          "name": "stderr",
          "text": [
            "Some layers from the model checkpoint at bert-base-multilingual-uncased were not used when initializing TFBertModel: ['nsp___cls', 'mlm___cls']\n",
            "- This IS expected if you are initializing TFBertModel from the checkpoint of a model trained on another task or with another architecture (e.g. initializing a BertForSequenceClassification model from a BertForPreTraining model).\n",
            "- This IS NOT expected if you are initializing TFBertModel from the checkpoint of a model that you expect to be exactly identical (initializing a BertForSequenceClassification model from a BertForSequenceClassification model).\n",
            "All the layers of TFBertModel were initialized from the model checkpoint at bert-base-multilingual-uncased.\n",
            "If your task is similar to the task the model of the checkpoint was trained on, you can already use TFBertModel for predictions without further training.\n",
            "/usr/local/lib/python3.7/dist-packages/keras/optimizer_v2/adagrad.py:74: UserWarning: The `lr` argument is deprecated, use `learning_rate` instead.\n",
            "  super(Adagrad, self).__init__(name, **kwargs)\n"
          ]
        }
      ]
    },
    {
      "cell_type": "code",
      "source": [
        "model.summary()"
      ],
      "metadata": {
        "colab": {
          "base_uri": "https://localhost:8080/"
        },
        "id": "3WGrPEfJ4hE4",
        "outputId": "75b75045-46cd-42ee-ba56-b34911dd96e1"
      },
      "execution_count": null,
      "outputs": [
        {
          "output_type": "stream",
          "name": "stdout",
          "text": [
            "Model: \"model\"\n",
            "_________________________________________________________________\n",
            " Layer (type)                Output Shape              Param #   \n",
            "=================================================================\n",
            " input_ids (InputLayer)      [(None, 128)]             0         \n",
            "                                                                 \n",
            " tf_bert_model (TFBertModel)  TFBaseModelOutputWithPoo  167356416\n",
            "                             lingAndCrossAttentions(l            \n",
            "                             ast_hidden_state=(None,             \n",
            "                             128, 768),                          \n",
            "                              pooler_output=(None, 76            \n",
            "                             8),                                 \n",
            "                              past_key_values=None, h            \n",
            "                             idden_states=None, atten            \n",
            "                             tions=None, cross_attent            \n",
            "                             ions=None)                          \n",
            "                                                                 \n",
            " time_distributed (TimeDistr  (None, 128, 7)           5383      \n",
            " ibuted)                                                         \n",
            "                                                                 \n",
            "=================================================================\n",
            "Total params: 167,361,799\n",
            "Trainable params: 167,361,799\n",
            "Non-trainable params: 0\n",
            "_________________________________________________________________\n"
          ]
        }
      ]
    },
    {
      "cell_type": "code",
      "metadata": {
        "colab": {
          "base_uri": "https://localhost:8080/"
        },
        "id": "_3PcfRNvbC-q",
        "outputId": "4cd61ba0-bc13-4e10-bb6d-dae0f3d6e6cc"
      },
      "source": [
        "history = model.fit(encoded_X, np.array(y), batch_size=BS, epochs=25, validation_split=0.15, verbose=1)"
      ],
      "execution_count": null,
      "outputs": [
        {
          "output_type": "stream",
          "name": "stdout",
          "text": [
            "Epoch 1/25\n",
            "WARNING:tensorflow:Gradients do not exist for variables ['tf_bert_model/bert/pooler/dense/kernel:0', 'tf_bert_model/bert/pooler/dense/bias:0'] when minimizing the loss. If you're using `model.compile()`, did you forget to provide a `loss`argument?\n",
            "WARNING:tensorflow:Gradients do not exist for variables ['tf_bert_model/bert/pooler/dense/kernel:0', 'tf_bert_model/bert/pooler/dense/bias:0'] when minimizing the loss. If you're using `model.compile()`, did you forget to provide a `loss`argument?\n",
            "33/33 [==============================] - 1309s 39s/step - loss: 1.2358 - accuracy: 0.7234 - false_negatives: 122118.0000 - false_positives: 304.0000 - val_loss: 0.6995 - val_accuracy: 0.9596 - val_false_negatives: 5513.0000 - val_false_positives: 166.0000\n",
            "Epoch 2/25\n",
            "33/33 [==============================] - 1295s 39s/step - loss: 0.5859 - accuracy: 0.9528 - false_negatives: 31605.0000 - false_positives: 804.0000 - val_loss: 0.3562 - val_accuracy: 0.9692 - val_false_negatives: 1482.0000 - val_false_positives: 285.0000\n",
            "Epoch 3/25\n",
            "33/33 [==============================] - 1276s 39s/step - loss: 0.3591 - accuracy: 0.9665 - false_negatives: 12523.0000 - false_positives: 1213.0000 - val_loss: 0.2400 - val_accuracy: 0.9707 - val_false_negatives: 979.0000 - val_false_positives: 320.0000\n",
            "Epoch 4/25\n",
            "33/33 [==============================] - 1276s 39s/step - loss: 0.2647 - accuracy: 0.9703 - false_negatives: 8842.0000 - false_positives: 1374.0000 - val_loss: 0.1889 - val_accuracy: 0.9720 - val_false_negatives: 838.0000 - val_false_positives: 325.0000\n",
            "Epoch 5/25\n",
            "33/33 [==============================] - 1273s 39s/step - loss: 0.2145 - accuracy: 0.9725 - false_negatives: 6960.0000 - false_positives: 1495.0000 - val_loss: 0.1632 - val_accuracy: 0.9738 - val_false_negatives: 763.0000 - val_false_positives: 325.0000\n",
            "Epoch 6/25\n",
            "33/33 [==============================] - 1274s 39s/step - loss: 0.1866 - accuracy: 0.9741 - false_negatives: 6115.0000 - false_positives: 1517.0000 - val_loss: 0.1478 - val_accuracy: 0.9753 - val_false_negatives: 734.0000 - val_false_positives: 328.0000\n",
            "Epoch 7/25\n",
            "33/33 [==============================] - 1274s 39s/step - loss: 0.1657 - accuracy: 0.9758 - false_negatives: 5399.0000 - false_positives: 1599.0000 - val_loss: 0.1376 - val_accuracy: 0.9764 - val_false_negatives: 719.0000 - val_false_positives: 329.0000\n",
            "Epoch 8/25\n",
            "33/33 [==============================] - 1272s 39s/step - loss: 0.1539 - accuracy: 0.9766 - false_negatives: 5128.0000 - false_positives: 1587.0000 - val_loss: 0.1307 - val_accuracy: 0.9776 - val_false_negatives: 711.0000 - val_false_positives: 329.0000\n",
            "Epoch 9/25\n",
            "33/33 [==============================] - 1284s 39s/step - loss: 0.1449 - accuracy: 0.9774 - false_negatives: 4861.0000 - false_positives: 1627.0000 - val_loss: 0.1257 - val_accuracy: 0.9786 - val_false_negatives: 705.0000 - val_false_positives: 332.0000\n",
            "Epoch 10/25\n",
            "33/33 [==============================] - 1275s 39s/step - loss: 0.1369 - accuracy: 0.9784 - false_negatives: 4518.0000 - false_positives: 1617.0000 - val_loss: 0.1219 - val_accuracy: 0.9793 - val_false_negatives: 691.0000 - val_false_positives: 334.0000\n",
            "Epoch 11/25\n",
            "33/33 [==============================] - 1277s 39s/step - loss: 0.1342 - accuracy: 0.9791 - false_negatives: 4507.0000 - false_positives: 1633.0000 - val_loss: 0.1192 - val_accuracy: 0.9797 - val_false_negatives: 678.0000 - val_false_positives: 335.0000\n",
            "Epoch 12/25\n",
            "33/33 [==============================] - 1275s 39s/step - loss: 0.1271 - accuracy: 0.9804 - false_negatives: 4269.0000 - false_positives: 1655.0000 - val_loss: 0.1168 - val_accuracy: 0.9804 - val_false_negatives: 668.0000 - val_false_positives: 337.0000\n",
            "Epoch 13/25\n",
            "33/33 [==============================] - 1276s 39s/step - loss: 0.1249 - accuracy: 0.9805 - false_negatives: 4246.0000 - false_positives: 1646.0000 - val_loss: 0.1148 - val_accuracy: 0.9809 - val_false_negatives: 654.0000 - val_false_positives: 337.0000\n",
            "Epoch 14/25\n",
            "33/33 [==============================] - 1273s 39s/step - loss: 0.1216 - accuracy: 0.9812 - false_negatives: 4026.0000 - false_positives: 1657.0000 - val_loss: 0.1133 - val_accuracy: 0.9811 - val_false_negatives: 639.0000 - val_false_positives: 338.0000\n",
            "Epoch 15/25\n",
            "33/33 [==============================] - 1303s 40s/step - loss: 0.1184 - accuracy: 0.9818 - false_negatives: 3935.0000 - false_positives: 1676.0000 - val_loss: 0.1119 - val_accuracy: 0.9816 - val_false_negatives: 628.0000 - val_false_positives: 340.0000\n",
            "Epoch 16/25\n",
            "33/33 [==============================] - 1277s 39s/step - loss: 0.1148 - accuracy: 0.9819 - false_negatives: 3721.0000 - false_positives: 1683.0000 - val_loss: 0.1106 - val_accuracy: 0.9820 - val_false_negatives: 621.0000 - val_false_positives: 340.0000\n",
            "Epoch 17/25\n",
            "33/33 [==============================] - 1273s 39s/step - loss: 0.1128 - accuracy: 0.9823 - false_negatives: 3659.0000 - false_positives: 1710.0000 - val_loss: 0.1094 - val_accuracy: 0.9822 - val_false_negatives: 613.0000 - val_false_positives: 340.0000\n",
            "Epoch 18/25\n",
            "33/33 [==============================] - 1271s 39s/step - loss: 0.1113 - accuracy: 0.9827 - false_negatives: 3481.0000 - false_positives: 1721.0000 - val_loss: 0.1084 - val_accuracy: 0.9825 - val_false_negatives: 606.0000 - val_false_positives: 342.0000\n",
            "Epoch 19/25\n",
            "33/33 [==============================] - 1271s 39s/step - loss: 0.1087 - accuracy: 0.9830 - false_negatives: 3372.0000 - false_positives: 1717.0000 - val_loss: 0.1075 - val_accuracy: 0.9827 - val_false_negatives: 601.0000 - val_false_positives: 342.0000\n",
            "Epoch 20/25\n",
            "33/33 [==============================] - 1302s 40s/step - loss: 0.1092 - accuracy: 0.9833 - false_negatives: 3454.0000 - false_positives: 1720.0000 - val_loss: 0.1068 - val_accuracy: 0.9829 - val_false_negatives: 594.0000 - val_false_positives: 347.0000\n",
            "Epoch 21/25\n",
            "33/33 [==============================] - 1275s 39s/step - loss: 0.1072 - accuracy: 0.9834 - false_negatives: 3305.0000 - false_positives: 1721.0000 - val_loss: 0.1060 - val_accuracy: 0.9830 - val_false_negatives: 588.0000 - val_false_positives: 349.0000\n",
            "Epoch 22/25\n",
            "33/33 [==============================] - 1282s 39s/step - loss: 0.1065 - accuracy: 0.9836 - false_negatives: 3215.0000 - false_positives: 1760.0000 - val_loss: 0.1054 - val_accuracy: 0.9830 - val_false_negatives: 578.0000 - val_false_positives: 349.0000\n",
            "Epoch 23/25\n",
            "33/33 [==============================] - 1300s 39s/step - loss: 0.1046 - accuracy: 0.9840 - false_negatives: 3075.0000 - false_positives: 1757.0000 - val_loss: 0.1047 - val_accuracy: 0.9831 - val_false_negatives: 568.0000 - val_false_positives: 350.0000\n",
            "Epoch 24/25\n",
            "33/33 [==============================] - 1270s 39s/step - loss: 0.1059 - accuracy: 0.9838 - false_negatives: 3141.0000 - false_positives: 1740.0000 - val_loss: 0.1042 - val_accuracy: 0.9832 - val_false_negatives: 564.0000 - val_false_positives: 350.0000\n",
            "Epoch 25/25\n",
            "33/33 [==============================] - 1273s 39s/step - loss: 0.1028 - accuracy: 0.9841 - false_negatives: 2994.0000 - false_positives: 1755.0000 - val_loss: 0.1036 - val_accuracy: 0.9835 - val_false_negatives: 556.0000 - val_false_positives: 352.0000\n"
          ]
        }
      ]
    },
    {
      "cell_type": "code",
      "source": [
        "print(encoded_X.shape)\n",
        "print(np.array(y).shape)\n",
        "print(len(y))\n",
        "print(y[0][0])"
      ],
      "metadata": {
        "colab": {
          "base_uri": "https://localhost:8080/"
        },
        "id": "zZ9tzsDGCXFl",
        "outputId": "5e8779b9-b0af-4c28-e786-fbce23157e81"
      },
      "execution_count": null,
      "outputs": [
        {
          "output_type": "stream",
          "name": "stdout",
          "text": [
            "(1243, 128)\n",
            "(1243, 128, 7)\n",
            "1243\n",
            "[0. 1. 0. 0. 0. 0. 0.]\n"
          ]
        }
      ]
    },
    {
      "cell_type": "code",
      "metadata": {
        "id": "Aa0MqxWTbzrh"
      },
      "source": [
        ""
      ],
      "execution_count": null,
      "outputs": []
    },
    {
      "cell_type": "markdown",
      "metadata": {
        "id": "KZQyphP3b5Zr"
      },
      "source": [
        "### Test-Data"
      ]
    },
    {
      "cell_type": "code",
      "source": [
        "# print(tokenizer.vocab_size)\n",
        "# print(tokenizer.vocab)"
      ],
      "metadata": {
        "id": "Diol7I4WM5HO"
      },
      "execution_count": null,
      "outputs": []
    },
    {
      "cell_type": "code",
      "metadata": {
        "colab": {
          "base_uri": "https://localhost:8080/"
        },
        "id": "md6jV21ka7wW",
        "outputId": "8a9c554c-840c-4c1c-d7cb-6868a970e68f"
      },
      "source": [
        "test_data=open('/content/drive/MyDrive/Acads/4-1/BTP/DATASET/ner_hineng/dev.conll',mode='r',encoding='utf-8')\n",
        "test_data=test_data.read()\n",
        "print(type(test_data))"
      ],
      "execution_count": null,
      "outputs": [
        {
          "output_type": "stream",
          "name": "stdout",
          "text": [
            "<class 'str'>\n"
          ]
        }
      ]
    },
    {
      "cell_type": "code",
      "metadata": {
        "colab": {
          "base_uri": "https://localhost:8080/"
        },
        "id": "pXM8cKMpbxbG",
        "outputId": "e1ddebe1-66b3-4f37-869b-ff15d69ce9b0"
      },
      "source": [
        "test_count=0\n",
        "test_sen_id=[]\n",
        "test_sentences=[]\n",
        "for sen in test_data.strip().split(\"# sent_enum = \"):\n",
        "  if(len(sen)>0):\n",
        "    test_count+=1\n",
        "    idx=sen.find(\"\\n\")\n",
        "    test_sen_id.append(sen[:idx])\n",
        "    txt=[]\n",
        "    for token in sen[idx+1:].strip().split('\\n'):\n",
        "      tok=token.split()\n",
        "      # Text-Cleaning\n",
        "      tok[0]=text_cleaning(tok[0])\n",
        "      if(tok[1]=='hi'):\n",
        "        tok[0]=transliterate(tok[0], sanscript.ITRANS, sanscript.DEVANAGARI)\n",
        "      else:\n",
        "        tok[0]=spelling_correction(tok[0])\n",
        "      txt.append(tok)\n",
        "    test_sentences.append(txt)\n",
        "\n",
        "print(test_count)"
      ],
      "execution_count": null,
      "outputs": [
        {
          "output_type": "stream",
          "name": "stdout",
          "text": [
            "314\n"
          ]
        }
      ]
    },
    {
      "cell_type": "code",
      "source": [
        "max_len=0\n",
        "min_len=0\n",
        "avg_len=0\n",
        "for sen in test_sentences:\n",
        "  l=len(sen)\n",
        "  if(l>max_len):\n",
        "    max_len=l\n",
        "  if(l<min_len):\n",
        "    min_len=l\n",
        "  avg_len+=l\n",
        "avg_len/=len(test_sentences)\n",
        "\n",
        "print(len(test_sentences))\n",
        "print(\"MIN Length of sentences is\",min_len)\n",
        "print(\"MAX Length of sentences is\",max_len)\n",
        "print(\"AVG Length of sentences is\",avg_len)"
      ],
      "metadata": {
        "colab": {
          "base_uri": "https://localhost:8080/"
        },
        "id": "9Dnhkbxp_Tda",
        "outputId": "864318a1-ca65-447c-83e7-3204b67866bd"
      },
      "execution_count": null,
      "outputs": [
        {
          "output_type": "stream",
          "name": "stdout",
          "text": [
            "314\n",
            "MIN Length of sentences is 0\n",
            "MAX Length of sentences is 34\n",
            "AVG Length of sentences is 17.0828025477707\n"
          ]
        }
      ]
    },
    {
      "cell_type": "code",
      "metadata": {
        "colab": {
          "base_uri": "https://localhost:8080/"
        },
        "id": "WtRHjnmdbxdu",
        "outputId": "ad1e6c88-627b-4fa2-8e22-9c4468d51338"
      },
      "source": [
        "print(test_sentences[3])"
      ],
      "execution_count": null,
      "outputs": [
        {
          "output_type": "stream",
          "name": "stdout",
          "text": [
            "[['T', 'en', 'O'], ['@AamAadmiParty', 'en', 'O'], [':', 'rest', 'O'], ['National', 'en', 'B-ORGANISATION'], ['Disciplinary', 'en', 'I-ORGANISATION'], ['Committee', 'en', 'I-ORGANISATION'], ['has', 'en', 'O'], ['expelled', 'en', 'O'], ['Yogendra', 'en', 'B-PERSON'], ['Yadav', 'rest', 'I-PERSON'], [',', 'rest', 'O'], ['Peasant', 'en', 'B-PERSON'], ['Bहुशन्', 'hi', 'I-PERSON'], [',', 'rest', 'O'], ['Prof', 'en', 'O'], ['Anand', 'en', 'B-PERSON'], ['and', 'en', 'O'], ['Ajit', 'en', 'B-PERSON'], ['ज़्ह', 'hi', 'I-PERSON'], ['from', 'en', 'O'], ['AP', 'rest', 'B-ORGANISATION'], ['.', 'rest', 'O'], ['Px', 'rest', 'O'], [':', 'rest', 'O'], ['http', 'en', 'O']]\n"
          ]
        }
      ]
    },
    {
      "cell_type": "code",
      "metadata": {
        "colab": {
          "base_uri": "https://localhost:8080/"
        },
        "id": "fF9FLY4abxg7",
        "outputId": "8f35356c-056c-47c4-8127-037e4296107b"
      },
      "source": [
        "# Converting words to indices for test sentences (Features)\n",
        "# X_test = [[word2idx[w[0]] if w in un_words else word2idx[\"<OOV>\"] for w in s] for s in test_sentences]\n",
        "X_test = [\" \".join([w[0] for w in s]) for s in test_sentences]\n",
        "\n",
        "'''\n",
        "Padding train and test sentences to 32 words.\n",
        "Sentences of length greater than 32 words are truncated.\n",
        "Sentences of length less than 32 words are padded with a high value.\n",
        "'''\n",
        "# X_test = pad_sequences(maxlen=MAXLEN, sequences=X_test, padding=\"post\", truncating=\"post\", value=n_words - 1)\n",
        "# print(X_test.shape)\n",
        "\n",
        "encoded_X_test = tokenizer(X_test, padding=True, truncation=True,max_length=78, return_tensors='tf').input_ids\n",
        "print(type(encoded_X_test))\n",
        "print(encoded_X_test.shape)"
      ],
      "execution_count": null,
      "outputs": [
        {
          "output_type": "stream",
          "name": "stdout",
          "text": [
            "<class 'tensorflow.python.framework.ops.EagerTensor'>\n",
            "(314, 63)\n"
          ]
        }
      ]
    },
    {
      "cell_type": "code",
      "metadata": {
        "colab": {
          "base_uri": "https://localhost:8080/"
        },
        "id": "b9AmiNPFfGc2",
        "outputId": "2bfeebb3-53f4-47da-c478-21418879b52c"
      },
      "source": [
        "y_test=[[tag2idx[w[2]] for w in s] for s in test_sentences]\n",
        "# Padding tag labels to 180 words.\n",
        "y_test_pad = pad_sequences(maxlen=MAXLEN, sequences=y_test, padding=\"post\", truncating=\"post\", value=tag2idx[\"O\"])\n",
        "print(y_test_pad.shape)"
      ],
      "execution_count": null,
      "outputs": [
        {
          "output_type": "stream",
          "name": "stdout",
          "text": [
            "(314, 128)\n"
          ]
        }
      ]
    },
    {
      "cell_type": "code",
      "source": [
        "print(tag2idx)"
      ],
      "metadata": {
        "colab": {
          "base_uri": "https://localhost:8080/"
        },
        "id": "Wleo0C6CBPk7",
        "outputId": "ed0c849d-d98b-4c29-f87d-d91a30c4c1e9"
      },
      "execution_count": null,
      "outputs": [
        {
          "output_type": "stream",
          "name": "stdout",
          "text": [
            "{'I-PERSON': 0, 'O': 1, 'B-ORGANISATION': 2, 'B-PLACE': 3, 'B-PERSON': 4, 'I-PLACE': 5, 'I-ORGANISATION': 6}\n"
          ]
        }
      ]
    },
    {
      "cell_type": "code",
      "source": [
        "print(len(test_sentences[3]))\n",
        "print(test_sentences[3])\n",
        "print(y_test[3])\n",
        "print(y_test_pad[3])"
      ],
      "metadata": {
        "colab": {
          "base_uri": "https://localhost:8080/"
        },
        "id": "b96Jqr21A_3C",
        "outputId": "b93765f2-bc1b-4ab6-9a44-fe83b0dde3f0"
      },
      "execution_count": null,
      "outputs": [
        {
          "output_type": "stream",
          "name": "stdout",
          "text": [
            "25\n",
            "[['T', 'en', 'O'], ['@AamAadmiParty', 'en', 'O'], [':', 'rest', 'O'], ['National', 'en', 'B-ORGANISATION'], ['Disciplinary', 'en', 'I-ORGANISATION'], ['Committee', 'en', 'I-ORGANISATION'], ['has', 'en', 'O'], ['expelled', 'en', 'O'], ['Yogendra', 'en', 'B-PERSON'], ['Yadav', 'rest', 'I-PERSON'], [',', 'rest', 'O'], ['Peasant', 'en', 'B-PERSON'], ['Bहुशन्', 'hi', 'I-PERSON'], [',', 'rest', 'O'], ['Prof', 'en', 'O'], ['Anand', 'en', 'B-PERSON'], ['and', 'en', 'O'], ['Ajit', 'en', 'B-PERSON'], ['ज़्ह', 'hi', 'I-PERSON'], ['from', 'en', 'O'], ['AP', 'rest', 'B-ORGANISATION'], ['.', 'rest', 'O'], ['Px', 'rest', 'O'], [':', 'rest', 'O'], ['http', 'en', 'O']]\n",
            "[1, 1, 1, 2, 6, 6, 1, 1, 4, 0, 1, 4, 0, 1, 1, 4, 1, 4, 0, 1, 2, 1, 1, 1, 1]\n",
            "[1 1 1 2 6 6 1 1 4 0 1 4 0 1 1 4 1 4 0 1 2 1 1 1 1 1 1 1 1 1 1 1 1 1 1 1 1\n",
            " 1 1 1 1 1 1 1 1 1 1 1 1 1 1 1 1 1 1 1 1 1 1 1 1 1 1 1 1 1 1 1 1 1 1 1 1 1\n",
            " 1 1 1 1 1 1 1 1 1 1 1 1 1 1 1 1 1 1 1 1 1 1 1 1 1 1 1 1 1 1 1 1 1 1 1 1 1\n",
            " 1 1 1 1 1 1 1 1 1 1 1 1 1 1 1 1 1]\n"
          ]
        }
      ]
    },
    {
      "cell_type": "code",
      "source": [
        "# print(Counter(y_test_pad.view(-1,).to_list()))\n",
        "print(y_test_pad.shape)\n",
        "y_test_pad_list=y_test_pad.flatten().tolist()\n",
        "print(y_test_pad.shape)\n",
        "print(len(y_test_pad_list))\n",
        "print(Counter(y_test_pad_list))"
      ],
      "metadata": {
        "colab": {
          "base_uri": "https://localhost:8080/"
        },
        "id": "QpgUYe8tEip-",
        "outputId": "06a995d5-d21a-4ad3-cd37-565e806f4ddf"
      },
      "execution_count": null,
      "outputs": [
        {
          "output_type": "stream",
          "name": "stdout",
          "text": [
            "(314, 128)\n",
            "(314, 128)\n",
            "40192\n",
            "Counter({1: 39617, 4: 254, 0: 112, 3: 105, 2: 61, 5: 24, 6: 19})\n"
          ]
        }
      ]
    },
    {
      "cell_type": "code",
      "source": [
        ""
      ],
      "metadata": {
        "id": "7DkVkQ8QEimu"
      },
      "execution_count": null,
      "outputs": []
    },
    {
      "cell_type": "code",
      "source": [
        ""
      ],
      "metadata": {
        "id": "VRdxpavvEY1-"
      },
      "execution_count": null,
      "outputs": []
    },
    {
      "cell_type": "code",
      "metadata": {
        "colab": {
          "base_uri": "https://localhost:8080/",
          "height": 640
        },
        "id": "C_YGXHFEfGZk",
        "outputId": "619c57a1-cb1e-4f6a-89f8-06299f2a4a35"
      },
      "source": [
        "# Predicting on trained model\n",
        "pred = model.predict(encoded_X_test)\n",
        "print(\"Predicted Probabilities on Test Set:\\n\",pred.shape)\n",
        "# taking tag class with maximum probability\n",
        "pred_index = np.argmax(pred, axis=-1)\n",
        "print(\"Predicted tag indices: \\n\",pred_index.shape)\n",
        "pred_index_list=pred_index.flatten().tolist()\n",
        "print(len(pred_index_list))\n",
        "print(Counter(pred_index_list))"
      ],
      "execution_count": null,
      "outputs": [
        {
          "output_type": "error",
          "ename": "ValueError",
          "evalue": "ignored",
          "traceback": [
            "\u001b[0;31m---------------------------------------------------------------------------\u001b[0m",
            "\u001b[0;31mValueError\u001b[0m                                Traceback (most recent call last)",
            "\u001b[0;32m<ipython-input-47-e766c4b18e26>\u001b[0m in \u001b[0;36m<module>\u001b[0;34m()\u001b[0m\n\u001b[1;32m      1\u001b[0m \u001b[0;31m# Predicting on trained model\u001b[0m\u001b[0;34m\u001b[0m\u001b[0;34m\u001b[0m\u001b[0;34m\u001b[0m\u001b[0m\n\u001b[0;32m----> 2\u001b[0;31m \u001b[0mpred\u001b[0m \u001b[0;34m=\u001b[0m \u001b[0mmodel\u001b[0m\u001b[0;34m.\u001b[0m\u001b[0mpredict\u001b[0m\u001b[0;34m(\u001b[0m\u001b[0mencoded_X_test\u001b[0m\u001b[0;34m)\u001b[0m\u001b[0;34m\u001b[0m\u001b[0;34m\u001b[0m\u001b[0m\n\u001b[0m\u001b[1;32m      3\u001b[0m \u001b[0mprint\u001b[0m\u001b[0;34m(\u001b[0m\u001b[0;34m\"Predicted Probabilities on Test Set:\\n\"\u001b[0m\u001b[0;34m,\u001b[0m\u001b[0mpred\u001b[0m\u001b[0;34m.\u001b[0m\u001b[0mshape\u001b[0m\u001b[0;34m)\u001b[0m\u001b[0;34m\u001b[0m\u001b[0;34m\u001b[0m\u001b[0m\n\u001b[1;32m      4\u001b[0m \u001b[0;31m# taking tag class with maximum probability\u001b[0m\u001b[0;34m\u001b[0m\u001b[0;34m\u001b[0m\u001b[0;34m\u001b[0m\u001b[0m\n\u001b[1;32m      5\u001b[0m \u001b[0mpred_index\u001b[0m \u001b[0;34m=\u001b[0m \u001b[0mnp\u001b[0m\u001b[0;34m.\u001b[0m\u001b[0margmax\u001b[0m\u001b[0;34m(\u001b[0m\u001b[0mpred\u001b[0m\u001b[0;34m,\u001b[0m \u001b[0maxis\u001b[0m\u001b[0;34m=\u001b[0m\u001b[0;34m-\u001b[0m\u001b[0;36m1\u001b[0m\u001b[0;34m)\u001b[0m\u001b[0;34m\u001b[0m\u001b[0;34m\u001b[0m\u001b[0m\n",
            "\u001b[0;32m/usr/local/lib/python3.7/dist-packages/keras/utils/traceback_utils.py\u001b[0m in \u001b[0;36merror_handler\u001b[0;34m(*args, **kwargs)\u001b[0m\n\u001b[1;32m     65\u001b[0m     \u001b[0;32mexcept\u001b[0m \u001b[0mException\u001b[0m \u001b[0;32mas\u001b[0m \u001b[0me\u001b[0m\u001b[0;34m:\u001b[0m  \u001b[0;31m# pylint: disable=broad-except\u001b[0m\u001b[0;34m\u001b[0m\u001b[0;34m\u001b[0m\u001b[0m\n\u001b[1;32m     66\u001b[0m       \u001b[0mfiltered_tb\u001b[0m \u001b[0;34m=\u001b[0m \u001b[0m_process_traceback_frames\u001b[0m\u001b[0;34m(\u001b[0m\u001b[0me\u001b[0m\u001b[0;34m.\u001b[0m\u001b[0m__traceback__\u001b[0m\u001b[0;34m)\u001b[0m\u001b[0;34m\u001b[0m\u001b[0;34m\u001b[0m\u001b[0m\n\u001b[0;32m---> 67\u001b[0;31m       \u001b[0;32mraise\u001b[0m \u001b[0me\u001b[0m\u001b[0;34m.\u001b[0m\u001b[0mwith_traceback\u001b[0m\u001b[0;34m(\u001b[0m\u001b[0mfiltered_tb\u001b[0m\u001b[0;34m)\u001b[0m \u001b[0;32mfrom\u001b[0m \u001b[0;32mNone\u001b[0m\u001b[0;34m\u001b[0m\u001b[0;34m\u001b[0m\u001b[0m\n\u001b[0m\u001b[1;32m     68\u001b[0m     \u001b[0;32mfinally\u001b[0m\u001b[0;34m:\u001b[0m\u001b[0;34m\u001b[0m\u001b[0;34m\u001b[0m\u001b[0m\n\u001b[1;32m     69\u001b[0m       \u001b[0;32mdel\u001b[0m \u001b[0mfiltered_tb\u001b[0m\u001b[0;34m\u001b[0m\u001b[0;34m\u001b[0m\u001b[0m\n",
            "\u001b[0;32m/usr/local/lib/python3.7/dist-packages/tensorflow/python/framework/func_graph.py\u001b[0m in \u001b[0;36mautograph_handler\u001b[0;34m(*args, **kwargs)\u001b[0m\n\u001b[1;32m   1145\u001b[0m           \u001b[0;32mexcept\u001b[0m \u001b[0mException\u001b[0m \u001b[0;32mas\u001b[0m \u001b[0me\u001b[0m\u001b[0;34m:\u001b[0m  \u001b[0;31m# pylint:disable=broad-except\u001b[0m\u001b[0;34m\u001b[0m\u001b[0;34m\u001b[0m\u001b[0m\n\u001b[1;32m   1146\u001b[0m             \u001b[0;32mif\u001b[0m \u001b[0mhasattr\u001b[0m\u001b[0;34m(\u001b[0m\u001b[0me\u001b[0m\u001b[0;34m,\u001b[0m \u001b[0;34m\"ag_error_metadata\"\u001b[0m\u001b[0;34m)\u001b[0m\u001b[0;34m:\u001b[0m\u001b[0;34m\u001b[0m\u001b[0;34m\u001b[0m\u001b[0m\n\u001b[0;32m-> 1147\u001b[0;31m               \u001b[0;32mraise\u001b[0m \u001b[0me\u001b[0m\u001b[0;34m.\u001b[0m\u001b[0mag_error_metadata\u001b[0m\u001b[0;34m.\u001b[0m\u001b[0mto_exception\u001b[0m\u001b[0;34m(\u001b[0m\u001b[0me\u001b[0m\u001b[0;34m)\u001b[0m\u001b[0;34m\u001b[0m\u001b[0;34m\u001b[0m\u001b[0m\n\u001b[0m\u001b[1;32m   1148\u001b[0m             \u001b[0;32melse\u001b[0m\u001b[0;34m:\u001b[0m\u001b[0;34m\u001b[0m\u001b[0;34m\u001b[0m\u001b[0m\n\u001b[1;32m   1149\u001b[0m               \u001b[0;32mraise\u001b[0m\u001b[0;34m\u001b[0m\u001b[0;34m\u001b[0m\u001b[0m\n",
            "\u001b[0;31mValueError\u001b[0m: in user code:\n\n    File \"/usr/local/lib/python3.7/dist-packages/keras/engine/training.py\", line 1801, in predict_function  *\n        return step_function(self, iterator)\n    File \"/usr/local/lib/python3.7/dist-packages/keras/engine/training.py\", line 1790, in step_function  **\n        outputs = model.distribute_strategy.run(run_step, args=(data,))\n    File \"/usr/local/lib/python3.7/dist-packages/keras/engine/training.py\", line 1783, in run_step  **\n        outputs = model.predict_step(data)\n    File \"/usr/local/lib/python3.7/dist-packages/keras/engine/training.py\", line 1751, in predict_step\n        return self(x, training=False)\n    File \"/usr/local/lib/python3.7/dist-packages/keras/utils/traceback_utils.py\", line 67, in error_handler\n        raise e.with_traceback(filtered_tb) from None\n    File \"/usr/local/lib/python3.7/dist-packages/keras/engine/input_spec.py\", line 264, in assert_input_compatibility\n        raise ValueError(f'Input {input_index} of layer \"{layer_name}\" is '\n\n    ValueError: Input 0 of layer \"model\" is incompatible with the layer: expected shape=(None, 128), found shape=(None, 63)\n"
          ]
        }
      ]
    },
    {
      "cell_type": "code",
      "source": [
        "def compute_predicted_tags(pred,threshold):\n",
        "  pred_index=[]\n",
        "  for y_s in pred:\n",
        "    pred_s=[]\n",
        "    for t in y_s:\n",
        "      # print(t)\n",
        "      i1=i2=0\n",
        "      p1=p2=0\n",
        "      for i,p in enumerate(t):\n",
        "        if(p>p1):\n",
        "          i2,i1=i1,i\n",
        "          p2,p1=p1,p\n",
        "        elif(p>p2):\n",
        "          i2=i\n",
        "          p2=p\n",
        "      if(i1==tag2idx[\"O\"]):\n",
        "        if(t[i1]>threshold):\n",
        "          pred_s.append(i1)\n",
        "        else:\n",
        "          pred_s.append(i2)\n",
        "      else:\n",
        "        pred_s.append(i1)\n",
        "    pred_index.append(pred_s)\n",
        "  pred_index=np.array(pred_index)\n",
        "  return pred_index\n",
        "\n",
        "# pred_index=[]\n",
        "# for y_s in pred:\n",
        "#   pred_s=[]\n",
        "#   for t in y_s:\n",
        "#     # print(t)\n",
        "#     i1=i2=0\n",
        "#     p1=p2=0\n",
        "#     for i,p in enumerate(t):\n",
        "#       if(p>p1):\n",
        "#         i2,i1=i1,i\n",
        "#         p2,p1=p1,p\n",
        "#       elif(p>p2):\n",
        "#         i2=i\n",
        "#         p2=p\n",
        "#     if(i1==tag2idx['O']):\n",
        "#       if(t[i1]>threshold):\n",
        "#         pred_s.append(i1)\n",
        "#       else:\n",
        "#         pred_s.append(i2)\n",
        "#     else:\n",
        "#       pred_s.append(i1)\n",
        "#   pred_index.append(pred_s)\n",
        "# pred_index=np.array(pred_index)"
      ],
      "metadata": {
        "id": "9QFqiRHX7nHQ"
      },
      "execution_count": null,
      "outputs": []
    },
    {
      "cell_type": "code",
      "source": [
        "def get_best_threshold(pred,f1_avg_technnique='macro'):\n",
        "  best_thres=0.2\n",
        "  best_score=0.0\n",
        "  y_act = y_test_pad.flatten().tolist()\n",
        "  for thres in range(1,100,1):\n",
        "    thres/=100.0\n",
        "    pred_index=compute_predicted_tags(pred,thres)\n",
        "    y_pred=pred_index.flatten().tolist()\n",
        "    score=f1_score(y_act, y_pred, average=f1_avg_technnique)\n",
        "    # print(f'{f1_avg_technnique} F1-score of {score} at threshold = {thres}')\n",
        "    if(score>best_score):\n",
        "      best_score=score\n",
        "      best_thres=thres\n",
        "  return best_thres,best_score"
      ],
      "metadata": {
        "id": "Ya9do2H9-L9S"
      },
      "execution_count": null,
      "outputs": []
    },
    {
      "cell_type": "code",
      "source": [
        "thres,f1=get_best_threshold(pred)\n",
        "print(f'Best f1-score of {f1} at threshold = {thres}')\n",
        "pred_index=compute_predicted_tags(pred,thres)"
      ],
      "metadata": {
        "id": "oDwQfuEK9hx1"
      },
      "execution_count": null,
      "outputs": []
    },
    {
      "cell_type": "code",
      "source": [
        "print(pred_index.shape)\n",
        "pred_index_list=pred_index.flatten().tolist()\n",
        "print(len(pred_index_list))\n",
        "print(Counter(pred_index_list))"
      ],
      "metadata": {
        "id": "410v3ie96OFW"
      },
      "execution_count": null,
      "outputs": []
    },
    {
      "cell_type": "code",
      "source": [
        "pred[0][:2]"
      ],
      "metadata": {
        "id": "wRfiuBg2Mxun"
      },
      "execution_count": null,
      "outputs": []
    },
    {
      "cell_type": "code",
      "metadata": {
        "id": "Xho-9_w8gXql"
      },
      "source": [
        "y_act,y_pred = y_test_pad.flatten().tolist(), pred_index.flatten().tolist()\n",
        "print(y_act[:10])\n",
        "print(y_pred[:10])"
      ],
      "execution_count": null,
      "outputs": []
    },
    {
      "cell_type": "code",
      "source": [
        "print(Counter(pred_index.flatten().tolist()))"
      ],
      "metadata": {
        "id": "KQ3atgkQHOxU"
      },
      "execution_count": null,
      "outputs": []
    },
    {
      "cell_type": "code",
      "metadata": {
        "id": "1YhvqzTAiNdn"
      },
      "source": [
        "accuracy=0\n",
        "for y_a,y_p in zip(y_act,y_pred):\n",
        "  if(y_a==y_p):\n",
        "    accuracy+=1\n",
        "accuracy/=len(y_act)\n",
        "print(accuracy)"
      ],
      "execution_count": null,
      "outputs": []
    },
    {
      "cell_type": "code",
      "metadata": {
        "id": "rvJzjEHaiNhF"
      },
      "source": [
        "print(f1_score(y_act, y_pred, average='macro'))\n",
        "print(f1_score(y_act, y_pred, average='micro'))\n",
        "print(f1_score(y_act, y_pred, average='weighted'))\n",
        "print(f1_score(y_act, y_pred, average=None))\n",
        "cm=confusion_matrix(y_act, y_pred)\n",
        "print(cm)"
      ],
      "execution_count": null,
      "outputs": []
    },
    {
      "cell_type": "code",
      "source": [
        "# print(list(tag2idx.keys()))\n",
        "tags=list(tag2idx.keys())\n",
        "print(tags)\n",
        "tags_hard=tags\n",
        "for i in range(0,len(tags_hard)):\n",
        "  tags_hard[i]=tags_hard[i][0:5]\n",
        "print(tags_hard)"
      ],
      "metadata": {
        "id": "4YZDHyN5c2Of"
      },
      "execution_count": null,
      "outputs": []
    },
    {
      "cell_type": "code",
      "metadata": {
        "id": "u9u_Ut5Pipl5"
      },
      "source": [
        "import seaborn as sns\n",
        "import matplotlib.pyplot as plt     \n",
        "\n",
        "ax= plt.subplot(1,1,1)\n",
        "sns.heatmap(cm, annot=True, fmt='g', ax=ax);  #annot=True to annotate cells, ftm='g' to disable scientific notation\n",
        "\n",
        "# labels, title and ticks\n",
        "ax.set_xlabel('Predicted labels');ax.set_ylabel('True labels'); \n",
        "ax.set_title('Confusion Matrix'); \n",
        "# tags=list(tag2idx.keys())\n",
        "# tags.reverse()\n",
        "ax.xaxis.set_ticklabels(tags_hard); ax.yaxis.set_ticklabels(tags_hard);"
      ],
      "execution_count": null,
      "outputs": []
    },
    {
      "cell_type": "code",
      "metadata": {
        "id": "Yv6mnCvPipjE"
      },
      "source": [
        ""
      ],
      "execution_count": null,
      "outputs": []
    },
    {
      "cell_type": "markdown",
      "metadata": {
        "id": "xN0qYtQtAG_h"
      },
      "source": [
        "# Following Github\n",
        "[Lince](https://github.com/huggingface/datasets/blob/master/datasets/lince/lince.py)"
      ]
    },
    {
      "cell_type": "code",
      "metadata": {
        "id": "juxRN7hIAQMf"
      },
      "source": [
        "import csv\n",
        "import os\n",
        "import re\n",
        "import textwrap\n",
        "from itertools import groupby"
      ],
      "execution_count": null,
      "outputs": []
    },
    {
      "cell_type": "code",
      "metadata": {
        "colab": {
          "base_uri": "https://localhost:8080/"
        },
        "id": "Nf93dLDCBRL4",
        "outputId": "fcfb7749-f620-458c-8799-b85d08b239c7"
      },
      "source": [
        "!pip install datasets"
      ],
      "execution_count": null,
      "outputs": [
        {
          "output_type": "stream",
          "name": "stdout",
          "text": [
            "Collecting datasets\n",
            "  Downloading datasets-1.18.0-py3-none-any.whl (311 kB)\n",
            "\u001b[?25l\r\u001b[K     |█                               | 10 kB 20.6 MB/s eta 0:00:01\r\u001b[K     |██                              | 20 kB 7.6 MB/s eta 0:00:01\r\u001b[K     |███▏                            | 30 kB 4.9 MB/s eta 0:00:01\r\u001b[K     |████▏                           | 40 kB 4.5 MB/s eta 0:00:01\r\u001b[K     |█████▎                          | 51 kB 4.5 MB/s eta 0:00:01\r\u001b[K     |██████▎                         | 61 kB 4.7 MB/s eta 0:00:01\r\u001b[K     |███████▍                        | 71 kB 4.5 MB/s eta 0:00:01\r\u001b[K     |████████▍                       | 81 kB 5.0 MB/s eta 0:00:01\r\u001b[K     |█████████▌                      | 92 kB 5.1 MB/s eta 0:00:01\r\u001b[K     |██████████▌                     | 102 kB 4.9 MB/s eta 0:00:01\r\u001b[K     |███████████▋                    | 112 kB 4.9 MB/s eta 0:00:01\r\u001b[K     |████████████▋                   | 122 kB 4.9 MB/s eta 0:00:01\r\u001b[K     |█████████████▊                  | 133 kB 4.9 MB/s eta 0:00:01\r\u001b[K     |██████████████▊                 | 143 kB 4.9 MB/s eta 0:00:01\r\u001b[K     |███████████████▉                | 153 kB 4.9 MB/s eta 0:00:01\r\u001b[K     |████████████████▉               | 163 kB 4.9 MB/s eta 0:00:01\r\u001b[K     |██████████████████              | 174 kB 4.9 MB/s eta 0:00:01\r\u001b[K     |███████████████████             | 184 kB 4.9 MB/s eta 0:00:01\r\u001b[K     |████████████████████            | 194 kB 4.9 MB/s eta 0:00:01\r\u001b[K     |█████████████████████           | 204 kB 4.9 MB/s eta 0:00:01\r\u001b[K     |██████████████████████          | 215 kB 4.9 MB/s eta 0:00:01\r\u001b[K     |███████████████████████▏        | 225 kB 4.9 MB/s eta 0:00:01\r\u001b[K     |████████████████████████▏       | 235 kB 4.9 MB/s eta 0:00:01\r\u001b[K     |█████████████████████████▎      | 245 kB 4.9 MB/s eta 0:00:01\r\u001b[K     |██████████████████████████▎     | 256 kB 4.9 MB/s eta 0:00:01\r\u001b[K     |███████████████████████████▍    | 266 kB 4.9 MB/s eta 0:00:01\r\u001b[K     |████████████████████████████▍   | 276 kB 4.9 MB/s eta 0:00:01\r\u001b[K     |█████████████████████████████▌  | 286 kB 4.9 MB/s eta 0:00:01\r\u001b[K     |██████████████████████████████▌ | 296 kB 4.9 MB/s eta 0:00:01\r\u001b[K     |███████████████████████████████▋| 307 kB 4.9 MB/s eta 0:00:01\r\u001b[K     |████████████████████████████████| 311 kB 4.9 MB/s \n",
            "\u001b[?25hRequirement already satisfied: requests>=2.19.0 in /usr/local/lib/python3.7/dist-packages (from datasets) (2.23.0)\n",
            "Collecting xxhash\n",
            "  Downloading xxhash-2.0.2-cp37-cp37m-manylinux2010_x86_64.whl (243 kB)\n",
            "\u001b[K     |████████████████████████████████| 243 kB 9.1 MB/s \n",
            "\u001b[?25hCollecting huggingface-hub<1.0.0,>=0.1.0\n",
            "  Downloading huggingface_hub-0.4.0-py3-none-any.whl (67 kB)\n",
            "\u001b[K     |████████████████████████████████| 67 kB 4.0 MB/s \n",
            "\u001b[?25hRequirement already satisfied: packaging in /usr/local/lib/python3.7/dist-packages (from datasets) (21.3)\n",
            "Collecting aiohttp\n",
            "  Downloading aiohttp-3.8.1-cp37-cp37m-manylinux_2_5_x86_64.manylinux1_x86_64.manylinux_2_12_x86_64.manylinux2010_x86_64.whl (1.1 MB)\n",
            "\u001b[K     |████████████████████████████████| 1.1 MB 10.0 MB/s \n",
            "\u001b[?25hRequirement already satisfied: pandas in /usr/local/lib/python3.7/dist-packages (from datasets) (1.1.5)\n",
            "Requirement already satisfied: pyarrow!=4.0.0,>=3.0.0 in /usr/local/lib/python3.7/dist-packages (from datasets) (3.0.0)\n",
            "Collecting fsspec[http]>=2021.05.0\n",
            "  Downloading fsspec-2022.1.0-py3-none-any.whl (133 kB)\n",
            "\u001b[K     |████████████████████████████████| 133 kB 26.0 MB/s \n",
            "\u001b[?25hRequirement already satisfied: importlib-metadata in /usr/local/lib/python3.7/dist-packages (from datasets) (4.10.0)\n",
            "Requirement already satisfied: tqdm>=4.62.1 in /usr/local/lib/python3.7/dist-packages (from datasets) (4.62.3)\n",
            "Requirement already satisfied: numpy>=1.17 in /usr/local/lib/python3.7/dist-packages (from datasets) (1.19.5)\n",
            "Requirement already satisfied: multiprocess in /usr/local/lib/python3.7/dist-packages (from datasets) (0.70.12.2)\n",
            "Requirement already satisfied: dill in /usr/local/lib/python3.7/dist-packages (from datasets) (0.3.4)\n",
            "Requirement already satisfied: typing-extensions>=3.7.4.3 in /usr/local/lib/python3.7/dist-packages (from huggingface-hub<1.0.0,>=0.1.0->datasets) (3.10.0.2)\n",
            "Requirement already satisfied: filelock in /usr/local/lib/python3.7/dist-packages (from huggingface-hub<1.0.0,>=0.1.0->datasets) (3.4.2)\n",
            "Requirement already satisfied: pyyaml in /usr/local/lib/python3.7/dist-packages (from huggingface-hub<1.0.0,>=0.1.0->datasets) (3.13)\n",
            "Requirement already satisfied: pyparsing!=3.0.5,>=2.0.2 in /usr/local/lib/python3.7/dist-packages (from packaging->datasets) (3.0.6)\n",
            "Requirement already satisfied: idna<3,>=2.5 in /usr/local/lib/python3.7/dist-packages (from requests>=2.19.0->datasets) (2.10)\n",
            "Requirement already satisfied: certifi>=2017.4.17 in /usr/local/lib/python3.7/dist-packages (from requests>=2.19.0->datasets) (2021.10.8)\n",
            "Requirement already satisfied: chardet<4,>=3.0.2 in /usr/local/lib/python3.7/dist-packages (from requests>=2.19.0->datasets) (3.0.4)\n",
            "Requirement already satisfied: urllib3!=1.25.0,!=1.25.1,<1.26,>=1.21.1 in /usr/local/lib/python3.7/dist-packages (from requests>=2.19.0->datasets) (1.24.3)\n",
            "Collecting async-timeout<5.0,>=4.0.0a3\n",
            "  Downloading async_timeout-4.0.2-py3-none-any.whl (5.8 kB)\n",
            "Requirement already satisfied: attrs>=17.3.0 in /usr/local/lib/python3.7/dist-packages (from aiohttp->datasets) (21.4.0)\n",
            "Collecting aiosignal>=1.1.2\n",
            "  Downloading aiosignal-1.2.0-py3-none-any.whl (8.2 kB)\n",
            "Collecting frozenlist>=1.1.1\n",
            "  Downloading frozenlist-1.3.0-cp37-cp37m-manylinux_2_5_x86_64.manylinux1_x86_64.manylinux_2_17_x86_64.manylinux2014_x86_64.whl (144 kB)\n",
            "\u001b[K     |████████████████████████████████| 144 kB 26.3 MB/s \n",
            "\u001b[?25hRequirement already satisfied: charset-normalizer<3.0,>=2.0 in /usr/local/lib/python3.7/dist-packages (from aiohttp->datasets) (2.0.10)\n",
            "Collecting multidict<7.0,>=4.5\n",
            "  Downloading multidict-6.0.2-cp37-cp37m-manylinux_2_17_x86_64.manylinux2014_x86_64.whl (94 kB)\n",
            "\u001b[K     |████████████████████████████████| 94 kB 3.5 MB/s \n",
            "\u001b[?25hCollecting asynctest==0.13.0\n",
            "  Downloading asynctest-0.13.0-py3-none-any.whl (26 kB)\n",
            "Collecting yarl<2.0,>=1.0\n",
            "  Downloading yarl-1.7.2-cp37-cp37m-manylinux_2_5_x86_64.manylinux1_x86_64.manylinux_2_12_x86_64.manylinux2010_x86_64.whl (271 kB)\n",
            "\u001b[K     |████████████████████████████████| 271 kB 27.0 MB/s \n",
            "\u001b[?25hRequirement already satisfied: zipp>=0.5 in /usr/local/lib/python3.7/dist-packages (from importlib-metadata->datasets) (3.7.0)\n",
            "Requirement already satisfied: pytz>=2017.2 in /usr/local/lib/python3.7/dist-packages (from pandas->datasets) (2018.9)\n",
            "Requirement already satisfied: python-dateutil>=2.7.3 in /usr/local/lib/python3.7/dist-packages (from pandas->datasets) (2.8.2)\n",
            "Requirement already satisfied: six>=1.5 in /usr/local/lib/python3.7/dist-packages (from python-dateutil>=2.7.3->pandas->datasets) (1.15.0)\n",
            "Installing collected packages: multidict, frozenlist, yarl, asynctest, async-timeout, aiosignal, fsspec, aiohttp, xxhash, huggingface-hub, datasets\n",
            "Successfully installed aiohttp-3.8.1 aiosignal-1.2.0 async-timeout-4.0.2 asynctest-0.13.0 datasets-1.18.0 frozenlist-1.3.0 fsspec-2022.1.0 huggingface-hub-0.4.0 multidict-6.0.2 xxhash-2.0.2 yarl-1.7.2\n"
          ]
        }
      ]
    },
    {
      "cell_type": "code",
      "metadata": {
        "id": "g1dbHVTbAVl_"
      },
      "source": [
        "import datasets"
      ],
      "execution_count": null,
      "outputs": []
    },
    {
      "cell_type": "markdown",
      "metadata": {
        "id": "3mQo6bEbBmtv"
      },
      "source": [
        "### Citations and Dataset Configuration\n",
        "\n",
        "\n",
        "1.   _CITATION\n",
        "2.   _DESCRIPTION\n",
        "3.  _LINCE_URL\n",
        "4.  _DATASET_CITATIONS"
      ]
    },
    {
      "cell_type": "code",
      "metadata": {
        "id": "Jj2x-X77Bly_"
      },
      "source": [
        "_CITATION = \"\"\"\\\n",
        "@inproceedings{aguilar-etal-2020-lince,\n",
        "    title = \"{L}in{CE}: A Centralized Benchmark for Linguistic Code-switching Evaluation\",\n",
        "    author = \"Aguilar, Gustavo  and\n",
        "      Kar, Sudipta  and\n",
        "      Solorio, Thamar\",\n",
        "    booktitle = \"Proceedings of The 12th Language Resources and Evaluation Conference\",\n",
        "    month = may,\n",
        "    year = \"2020\",\n",
        "    address = \"Marseille, France\",\n",
        "    publisher = \"European Language Resources Association\",\n",
        "    url = \"https://www.aclweb.org/anthology/2020.lrec-1.223\",\n",
        "    pages = \"1803--1813\",\n",
        "    language = \"English\",\n",
        "    ISBN = \"979-10-95546-34-4\",\n",
        "}\n",
        "Note that each LinCE dataset has its own citation. Please see the source to see\n",
        "the correct citation for each contained dataset.\"\"\"\n",
        "\n",
        "_DESCRIPTION = \"\"\"\\\n",
        "LinCE is a centralized Linguistic Code-switching Evaluation benchmark\n",
        "(https://ritual.uh.edu/lince/) that contains data for training and evaluating\n",
        "NLP systems on code-switching tasks.\n",
        "\"\"\"\n",
        "\n",
        "_LINCE_URL = \"https://ritual.uh.edu/lince/libaccess/eyJ1c2VybmFtZSI6ICJodWdnaW5nZmFjZSBubHAiLCAidXNlcl9pZCI6IDExMSwgImVtYWlsIjogImR1bW15QGVtYWlsLmNvbSJ9\"\n",
        "\n",
        "_DATASET_CITATIONS = {\n",
        "    \"lid_spaeng\": textwrap.dedent(\n",
        "        \"\"\"\n",
        "        @inproceedings{molina-etal-2016-overview,\n",
        "           title = \"Overview for the Second Shared Task on Language Identification in Code-Switched Data\",\n",
        "           author = \"Molina, Giovanni and\n",
        "                     AlGhamdi, Fahad and\n",
        "                     Ghoneim, Mahmoud and\n",
        "                     Hawwari, Abdelati and\n",
        "                     Rey-Villamizar, Nicolas and\n",
        "                     Diab, Mona and\n",
        "                     Solorio, Thamar\",\n",
        "           booktitle = \"Proceedings of the Second Workshop on Computational Approaches to Code Switching\",\n",
        "           month = nov,\n",
        "           year = \"2016\",\n",
        "           address = \"Austin, Texas\",\n",
        "           publisher = \"Association for Computational Linguistics\",\n",
        "           url = \"https://www.aclweb.org/anthology/W16-5805\",\n",
        "           doi = \"10.18653/v1/W16-5805\",\n",
        "           pages = \"40--49\",\n",
        "        }\n",
        "        \"\"\"\n",
        "    ),\n",
        "    \"lid_hineng\": textwrap.dedent(\n",
        "        \"\"\"\n",
        "        @inproceedings{mave-etal-2018-language,\n",
        "           title = \"Language Identification and Analysis of Code-Switched Social Media Text\",\n",
        "           author = \"Mave, Deepthi and\n",
        "                     Maharjan, Suraj and\n",
        "                     Solorio, Thamar\",\n",
        "           booktitle = \"Proceedings of the Third Workshop on Computational Approaches to Linguistic Code-Switching\",\n",
        "           month = jul,\n",
        "           year = \"2018\",\n",
        "           address = \"Melbourne, Australia\",\n",
        "           publisher = \"Association for Computational Linguistics\",\n",
        "           url = \"https://www.aclweb.org/anthology/W18-3206\",\n",
        "           pages = \"51--61\"\n",
        "        }\n",
        "        \"\"\"\n",
        "    ),\n",
        "    \"lid_msaea\": textwrap.dedent(\n",
        "        \"\"\"\n",
        "        @inproceedings{molina-etal-2016-overview,\n",
        "           title = \"Overview for the Second Shared Task on Language Identification in Code-Switched Data\",\n",
        "           author = \"Molina, Giovanni and\n",
        "                     AlGhamdi, Fahad and\n",
        "                     Ghoneim, Mahmoud and\n",
        "                     Hawwari, Abdelati and\n",
        "                     Rey-Villamizar, Nicolas and\n",
        "                     Diab, Mona and\n",
        "                     Solorio, Thamar\",\n",
        "           booktitle = \"Proceedings of the Second Workshop on Computational Approaches to Code Switching\",\n",
        "           month = nov,\n",
        "           year = \"2016\",\n",
        "           address = \"Austin, Texas\",\n",
        "           publisher = \"Association for Computational Linguistics\",\n",
        "           url = \"https://www.aclweb.org/anthology/W16-5805\",\n",
        "           doi = \"10.18653/v1/W16-5805\",\n",
        "           pages = \"40--49\",\n",
        "        }\n",
        "        \"\"\"\n",
        "    ),\n",
        "    \"lid_nepeng\": textwrap.dedent(\n",
        "        \"\"\"\n",
        "        @inproceedings{solorio-etal-2014-overview,\n",
        "           title = \"Overview for the First Shared Task on Language Identification in Code-Switched Data\",\n",
        "           author = \"Solorio, Thamar and\n",
        "                     Blair, Elizabeth and\n",
        "                     Maharjan, Suraj and\n",
        "                     Bethard, Steven and\n",
        "                     Diab, Mona and\n",
        "                     Ghoneim, Mahmoud and\n",
        "                     Hawwari, Abdelati and\n",
        "                     AlGhamdi, Fahad and\n",
        "                     Hirschberg, Julia and\n",
        "                     Chang, Alison and\n",
        "                     Fung, Pascale\",\n",
        "           booktitle = \"Proceedings of the First Workshop on Computational Approaches to Code Switching\",\n",
        "           month = oct,\n",
        "           year = \"2014\",\n",
        "           address = \"Doha, Qatar\",\n",
        "           publisher = \"Association for Computational Linguistics\",\n",
        "           url = \"https://www.aclweb.org/anthology/W14-3907\",\n",
        "           doi = \"10.3115/v1/W14-3907\",\n",
        "           pages = \"62--72\",\n",
        "        }\n",
        "        \"\"\"\n",
        "    ),\n",
        "    \"pos_spaeng\": textwrap.dedent(\n",
        "        \"\"\"\n",
        "        @inproceedings{alghamdi-etal-2016-part,\n",
        "           title = \"Part of Speech Tagging for Code Switched Data\",\n",
        "           author = \"AlGhamdi, Fahad and\n",
        "                     Molina, Giovanni and\n",
        "                     Diab, Mona and\n",
        "                     Solorio, Thamar and\n",
        "                     Hawwari, Abdelati and\n",
        "                     Soto, Victor and\n",
        "                     Hirschberg, Julia\",\n",
        "           booktitle = \"Proceedings of the Second Workshop on Computational Approaches to Code Switching\",\n",
        "           month = nov,\n",
        "           year = \"2016\",\n",
        "           address = \"Austin, Texas\",\n",
        "           publisher = \"Association for Computational Linguistics\",\n",
        "           url = \"https://www.aclweb.org/anthology/W16-5812\",\n",
        "           doi = \"10.18653/v1/W16-5812\",\n",
        "           pages = \"98--107\",\n",
        "        }\n",
        "        \"\"\"\n",
        "    ),\n",
        "    \"pos_hineng\": textwrap.dedent(\n",
        "        \"\"\"\n",
        "        @inproceedings{singh-etal-2018-twitter,\n",
        "           title = \"A Twitter Corpus for {H}indi-{E}nglish Code Mixed {POS} Tagging\",\n",
        "           author = \"Singh, Kushagra and\n",
        "                     Sen, Indira and\n",
        "                     Kumaraguru, Ponnurangam\",\n",
        "           booktitle = \"Proceedings of the Sixth International Workshop on Natural Language Processing for Social Media\",\n",
        "           month = jul,\n",
        "           year = \"2018\",\n",
        "           address = \"Melbourne, Australia\",\n",
        "           publisher = \"Association for Computational Linguistics\",\n",
        "           url = \"https://www.aclweb.org/anthology/W18-3503\",\n",
        "           doi = \"10.18653/v1/W18-3503\",\n",
        "           pages = \"12--17\"\n",
        "        }\n",
        "        \"\"\"\n",
        "    ),\n",
        "    \"ner_spaeng\": textwrap.dedent(\n",
        "        \"\"\"\n",
        "        @inproceedings{aguilar-etal-2018-named,\n",
        "           title = {{Named Entity Recognition on Code-Switched Data: Overview of the CALCS 2018 Shared Task}},\n",
        "           author = \"Aguilar, Gustavo and\n",
        "                     AlGhamdi, Fahad and\n",
        "                     Soto, Victor and\n",
        "                     Diab, Mona and\n",
        "                     Hirschberg, Julia and\n",
        "                     Solorio, Thamar\",\n",
        "           booktitle = {{Proceedings of the Third Workshop on Computational Approaches to Linguistic Code-Switching}},\n",
        "           month = jul,\n",
        "           year = \"2018\",\n",
        "           address = \"Melbourne, Australia\",\n",
        "           publisher = \"Association for Computational Linguistics\",\n",
        "           url = \"https://www.aclweb.org/anthology/W18-3219\",\n",
        "           pages = \"138--147\"\n",
        "        }\n",
        "        \"\"\"\n",
        "    ),\n",
        "    \"ner_msaea\": textwrap.dedent(\n",
        "        \"\"\"\n",
        "        @inproceedings{aguilar-etal-2018-named,\n",
        "           title = {{Named Entity Recognition on Code-Switched Data: Overview of the CALCS 2018 Shared Task}},\n",
        "           author = \"Aguilar, Gustavo and\n",
        "                     AlGhamdi, Fahad and\n",
        "                     Soto, Victor and\n",
        "                     Diab, Mona and\n",
        "                     Hirschberg, Julia and\n",
        "                     Solorio, Thamar\",\n",
        "           booktitle = {{Proceedings of the Third Workshop on Computational Approaches to Linguistic Code-Switching}},\n",
        "           month = jul,\n",
        "           year = \"2018\",\n",
        "           address = \"Melbourne, Australia\",\n",
        "           publisher = \"Association for Computational Linguistics\",\n",
        "           url = \"https://www.aclweb.org/anthology/W18-3219\",\n",
        "           pages = \"138--147\"\n",
        "        }\n",
        "        \"\"\"\n",
        "    ),\n",
        "    \"ner_hineng\": textwrap.dedent(\n",
        "        \"\"\"\n",
        "        @inproceedings{singh-etal-2018-language,\n",
        "           title = \"Language Identification and Named Entity Recognition in {H}inglish Code Mixed Tweets\",\n",
        "           author = \"Singh, Kushagra and\n",
        "                     Sen, Indira and\n",
        "                     Kumaraguru, Ponnurangam\",\n",
        "           booktitle = \"Proceedings of {ACL} 2018, Student Research Workshop\",\n",
        "           month = jul,\n",
        "           year = \"2018\",\n",
        "           address = \"Melbourne, Australia\",\n",
        "           publisher = \"Association for Computational Linguistics\",\n",
        "           url = \"https://www.aclweb.org/anthology/P18-3008\",\n",
        "           doi = \"10.18653/v1/P18-3008\",\n",
        "           pages = \"52--58\",\n",
        "        }\n",
        "        \"\"\"\n",
        "    ),\n",
        "    \"sa_spaeng\": textwrap.dedent(\n",
        "        \"\"\"\n",
        "        @inproceedings{patwa2020sentimix,\n",
        "          title={SemEval-2020 Task 9: Overview of Sentiment Analysis of Code-Mixed Tweets},\n",
        "          author=\"Patwa, Parth and\n",
        "                  Aguilar, Gustavo and\n",
        "                  Kar, Sudipta and\n",
        "                  Pandey, Suraj and\n",
        "                  PYKL, Srinivas and\n",
        "                  Garrette, Dan and\n",
        "                  Gamb{\\\"a}ck, Bj{\\\"o}rn and\n",
        "                  Chakraborty, Tanmoy and\n",
        "                  Solorio, Thamar and\n",
        "                  Das, Amitava\",\n",
        "          booktitle = \"Proceedings of the 14th International Workshop on Semantic Evaluation ({S}em{E}val-2020)\",\n",
        "          year = 2020,\n",
        "          month = sep,\n",
        "          address = \"Barcelona, Spain\",\n",
        "          publisher = \"Association for Computational Linguistics\"\n",
        "        }\n",
        "        \"\"\"\n",
        "    ),\n",
        "}\n"
      ],
      "execution_count": null,
      "outputs": []
    },
    {
      "cell_type": "markdown",
      "metadata": {
        "id": "saGNyLn_CJWO"
      },
      "source": [
        "### Classes"
      ]
    },
    {
      "cell_type": "code",
      "metadata": {
        "id": "jHprwfnmAh_K"
      },
      "source": [
        "class LinceConfig(datasets.BuilderConfig):\n",
        "    \"\"\"BuilderConfig for LinCE\"\"\"\n",
        "\n",
        "    def __init__(self, colnames, classes, label_column, **kwargs):\n",
        "        super(LinceConfig, self).__init__(\n",
        "            version=datasets.Version(\n",
        "                \"1.0.0\", description=\"The Linguistic Code-switching Evaluation (LinCE) benchmark\"\n",
        "            ),\n",
        "            **kwargs,\n",
        "        )\n",
        "        self.colnames = colnames\n",
        "        self.classes = classes\n",
        "        self.label_column = label_column"
      ],
      "execution_count": null,
      "outputs": []
    },
    {
      "cell_type": "code",
      "metadata": {
        "id": "n9ksOF2WCsrr"
      },
      "source": [
        "class Lince(datasets.GeneratorBasedBuilder):\n",
        "    \"\"\"TODO(lince): Short description of the LinCE dataset.\"\"\"\n",
        "\n",
        "    BUILDER_CONFIG_CLASS = LinceConfig\n",
        "    BUILDER_CONFIGS = [\n",
        "        # ==========================================================================================\n",
        "        # Language Identification (LID) datasets\n",
        "        LinceConfig(\n",
        "            name=\"lid_spaeng\",\n",
        "            data_dir=\"lid_spaeng\",\n",
        "            colnames={\"words\": 0, \"lid\": 1},\n",
        "            classes={\"lid\": [\"lang1\", \"lang2\", \"ne\", \"fw\", \"ambiguous\", \"mixed\", \"other\", \"unk\"]},\n",
        "            label_column=\"lid\",\n",
        "            description=\"Spanish-English language identification dataset (Latin script)\",\n",
        "        ),\n",
        "        LinceConfig(\n",
        "            name=\"lid_hineng\",\n",
        "            data_dir=\"lid_hineng\",\n",
        "            colnames={\"words\": 0, \"lid\": 1},\n",
        "            classes={\"lid\": [\"lang1\", \"lang2\", \"ne\", \"fw\", \"ambiguous\", \"mixed\", \"other\", \"unk\"]},\n",
        "            label_column=\"lid\",\n",
        "            description=\"Hindi-English language identification dataset (Latin script)\",\n",
        "        ),\n",
        "        LinceConfig(\n",
        "            name=\"lid_msaea\",\n",
        "            data_dir=\"lid_msaea\",\n",
        "            colnames={\"words\": 0, \"lid\": 1},\n",
        "            classes={\n",
        "                \"lid\": [\"ambiguous\", \"lang1\", \"lang2\", \"mixed\", \"ne\", \"other\"],\n",
        "            },\n",
        "            label_column=\"lid\",\n",
        "            description=\"Modern Standard Arabic-Egyptian Arabic language identification dataset (Persian script)\",\n",
        "        ),\n",
        "        LinceConfig(\n",
        "            name=\"lid_nepeng\",\n",
        "            data_dir=\"lid_nepeng\",\n",
        "            colnames={\"words\": 0, \"lid\": 1},\n",
        "            classes={\n",
        "                \"lid\": [\"ambiguous\", \"lang1\", \"lang2\", \"mixed\", \"ne\", \"other\"],\n",
        "            },\n",
        "            label_column=\"lid\",\n",
        "            description=\"Nepali-English language identification dataset (Latin script)\",\n",
        "        ),\n",
        "        # ==========================================================================================\n",
        "        # Part-of-Speech (POS) Tagging datasets\n",
        "        LinceConfig(\n",
        "            name=\"pos_spaeng\",\n",
        "            data_dir=\"pos_spaeng\",\n",
        "            colnames={\"words\": 0, \"lid\": 1, \"pos\": 2},\n",
        "            classes={\n",
        "                \"lid\": [\"UNK\", \"eng\", \"eng&spa\", \"spa\"],\n",
        "                \"pos\": [\n",
        "                    \"ADJ\",\n",
        "                    \"ADP\",\n",
        "                    \"ADV\",\n",
        "                    \"AUX\",\n",
        "                    \"CONJ\",\n",
        "                    \"DET\",\n",
        "                    \"INTJ\",\n",
        "                    \"NOUN\",\n",
        "                    \"NUM\",\n",
        "                    \"PART\",\n",
        "                    \"PRON\",\n",
        "                    \"PROPN\",\n",
        "                    \"PUNCT\",\n",
        "                    \"SCONJ\",\n",
        "                    \"UNK\",\n",
        "                    \"VERB\",\n",
        "                    \"X\",\n",
        "                ],\n",
        "            },\n",
        "            label_column=\"pos\",\n",
        "            description=\"Spanish-English part-of-Speech tagging dataset (Latin script)\",\n",
        "        ),\n",
        "        LinceConfig(\n",
        "            name=\"pos_hineng\",\n",
        "            data_dir=\"pos_hineng\",\n",
        "            colnames={\"words\": 0, \"lid\": 1, \"pos\": 2},\n",
        "            classes={\n",
        "                \"lid\": [\"en\", \"hi\", \"rest\"],\n",
        "                \"pos\": [\n",
        "                    \"ADJ\",\n",
        "                    \"ADP\",\n",
        "                    \"ADV\",\n",
        "                    \"CONJ\",\n",
        "                    \"DET\",\n",
        "                    \"NOUN\",\n",
        "                    \"NUM\",\n",
        "                    \"PART\",\n",
        "                    \"PART_NEG\",\n",
        "                    \"PRON\",\n",
        "                    \"PRON_WH\",\n",
        "                    \"PROPN\",\n",
        "                    \"VERB\",\n",
        "                    \"X\",\n",
        "                ],\n",
        "            },\n",
        "            label_column=\"pos\",\n",
        "            description=\"Hindi-English part-of-Speech tagging dataset (Latin script)\",\n",
        "        ),\n",
        "        # ==========================================================================================\n",
        "        # Named Entity Recongition (NER) datasets\n",
        "        LinceConfig(\n",
        "            name=\"ner_spaeng\",\n",
        "            data_dir=\"ner_spaeng\",\n",
        "            colnames={\"words\": 0, \"lid\": 1, \"ner\": 2},\n",
        "            classes={\n",
        "                \"lid\": [\"lang1\", \"lang2\", \"ne\", \"fw\", \"ambiguous\", \"mixed\", \"other\", \"unk\"],\n",
        "                \"ner\": [\n",
        "                    \"O\",\n",
        "                    \"B-PER\",\n",
        "                    \"I-PER\",\n",
        "                    \"B-LOC\",\n",
        "                    \"I-LOC\",\n",
        "                    \"B-ORG\",\n",
        "                    \"I-ORG\",\n",
        "                    \"B-PROD\",\n",
        "                    \"I-PROD\",\n",
        "                    \"B-EVENT\",\n",
        "                    \"I-EVENT\",\n",
        "                    \"B-GROUP\",\n",
        "                    \"I-GROUP\",\n",
        "                    \"B-TITLE\",\n",
        "                    \"I-TITLE\",\n",
        "                    \"B-TIME\",\n",
        "                    \"I-TIME\",\n",
        "                    \"B-OTHER\",\n",
        "                    \"I-OTHER\",\n",
        "                ],\n",
        "            },\n",
        "            label_column=\"ner\",\n",
        "            description=\"Spanish-English named entity recognition dataset (Latin script)\",\n",
        "        ),\n",
        "        LinceConfig(\n",
        "            name=\"ner_msaea\",\n",
        "            data_dir=\"ner_msaea\",\n",
        "            colnames={\"words\": 0, \"ner\": 1},\n",
        "            classes={\n",
        "                \"ner\": [\n",
        "                    \"O\",\n",
        "                    \"B-PER\",\n",
        "                    \"I-PER\",\n",
        "                    \"B-LOC\",\n",
        "                    \"I-LOC\",\n",
        "                    \"B-ORG\",\n",
        "                    \"I-ORG\",\n",
        "                    \"B-PROD\",\n",
        "                    \"I-PROD\",\n",
        "                    \"B-EVENT\",\n",
        "                    \"I-EVENT\",\n",
        "                    \"B-GROUP\",\n",
        "                    \"I-GROUP\",\n",
        "                    \"B-TITLE\",\n",
        "                    \"I-TITLE\",\n",
        "                    \"B-TIME\",\n",
        "                    \"I-TIME\",\n",
        "                    \"B-OTHER\",\n",
        "                    \"I-OTHER\",\n",
        "                ],\n",
        "            },\n",
        "            label_column=\"ner\",\n",
        "            description=\"Modern Standard Arabic-Egyptian Arabic named entity recognition dataset (Persian script)\",\n",
        "        ),\n",
        "        LinceConfig(\n",
        "            name=\"ner_hineng\",\n",
        "            data_dir=\"ner_hineng\",\n",
        "            colnames={\"words\": 0, \"lid\": 1, \"ner\": 2},\n",
        "            classes={\n",
        "                \"lid\": [\"en\", \"hi\", \"rest\"],\n",
        "                \"ner\": [\"O\", \"B-PERSON\", \"I-PERSON\", \"B-ORGANISATION\", \"I-ORGANISATION\", \"B-PLACE\", \"I-PLACE\"],\n",
        "            },\n",
        "            label_column=\"ner\",\n",
        "            description=\"Hindi-English named entity recognition dataset (Latin script)\",\n",
        "        ),\n",
        "        # ==========================================================================================\n",
        "        # Sentiment Analysis (SA) datasets\n",
        "        LinceConfig(\n",
        "            name=\"sa_spaeng\",\n",
        "            data_dir=\"sa_spaeng\",\n",
        "            colnames={\"words\": 0, \"lid\": 1, \"sa\": 2},\n",
        "            classes={\n",
        "                \"lid\": [\"lang1\", \"lang2\", \"ne\", \"fw\", \"ambiguous\", \"mixed\", \"other\", \"unk\"],\n",
        "                \"sa\": [\"positive\", \"neutral\", \"negative\"],\n",
        "            },\n",
        "            label_column=\"sa\",\n",
        "            description=\"Spanish-English sentiment analysis dataset (Latin script)\",\n",
        "        ),\n",
        "    ]\n",
        "\n",
        "    def _info(self):\n",
        "        features = {\"idx\": datasets.Value(\"int32\"), \"words\": datasets.Sequence(datasets.Value(\"string\"))}\n",
        "\n",
        "        if self.config.name != \"ner_msaea\":\n",
        "            features[\"lid\"] = datasets.Sequence(\n",
        "                datasets.Value(\"string\")\n",
        "            )  # excluding 'ner_msaea', all datasets have 'lid'\n",
        "\n",
        "        if self.config.name.startswith(\"pos_\"):\n",
        "            features[\"pos\"] = datasets.Sequence(datasets.Value(\"string\"))\n",
        "\n",
        "        elif self.config.name.startswith(\"ner_\"):\n",
        "            features[\"ner\"] = datasets.Sequence(datasets.Value(\"string\"))\n",
        "\n",
        "        elif self.config.name.startswith(\"sa_\"):\n",
        "            features[\"sa\"] = datasets.Value(\"string\")\n",
        "\n",
        "        return datasets.DatasetInfo(\n",
        "            description=_DESCRIPTION,\n",
        "            features=datasets.Features(features),\n",
        "            supervised_keys=None,\n",
        "            homepage=\"http://ritual.uh.edu/lince\",\n",
        "            citation=_DATASET_CITATIONS.get(self.config.name, \"\") + \"\\n\" + _CITATION,\n",
        "        )\n",
        "\n",
        "    def _split_generators(self, dl_manager):\n",
        "        \"\"\"Returns SplitGenerators.\"\"\"\n",
        "        lince_dir = dl_manager.download_and_extract(f\"{_LINCE_URL}/{self.config.name}.zip\")\n",
        "        data_dir = os.path.join(lince_dir, self.config.data_dir)\n",
        "        return [\n",
        "            datasets.SplitGenerator(\n",
        "                name=datasets.Split.TRAIN,\n",
        "                gen_kwargs={\n",
        "                    \"filepath\": os.path.join(data_dir, \"train.conll\"),\n",
        "                    \"colnames\": self.config.colnames,\n",
        "                },\n",
        "            ),\n",
        "            datasets.SplitGenerator(\n",
        "                name=datasets.Split.VALIDATION,\n",
        "                gen_kwargs={\n",
        "                    \"filepath\": os.path.join(data_dir, \"dev.conll\"),\n",
        "                    \"colnames\": self.config.colnames,\n",
        "                },\n",
        "            ),\n",
        "            datasets.SplitGenerator(\n",
        "                name=datasets.Split.TEST,\n",
        "                gen_kwargs={\n",
        "                    \"filepath\": os.path.join(data_dir, \"test.conll\"),\n",
        "                    \"colnames\": {\n",
        "                        key: self.config.colnames[key]\n",
        "                        for key in self.config.colnames.keys()\n",
        "                        if key != self.config.label_column\n",
        "                    },\n",
        "                },\n",
        "            ),\n",
        "        ]\n",
        "\n",
        "    def _generate_examples(self, filepath, colnames, delimiter=\"\\t\", metaregex=r\"^# sent_enum = [0-9]+$\"):\n",
        "        def is_empty_line(token_pack):\n",
        "            return all(field.strip() == \"\" for field in token_pack)\n",
        "\n",
        "        index = 0\n",
        "        for is_empty, pack in groupby(\n",
        "            csv.reader(open(filepath), delimiter=delimiter, quoting=csv.QUOTE_NONE), is_empty_line\n",
        "        ):\n",
        "            if is_empty is False:\n",
        "                # packed sentence -> [['tok_1', 'lid_1', 'ner_1'], ..., ['tok_n', 'lid_n', 'ner_n']]\n",
        "                pack = list(pack)\n",
        "                meta = []\n",
        "\n",
        "                if re.match(metaregex, pack[0][0]):  # for sentence-level annotations (or meta)\n",
        "                    meta = pack[0][1:]  # keep the sentence-level labels\n",
        "                    pack = pack[1:]  # ignore meta fields to unzip\n",
        "\n",
        "                unpacked = list(zip(*pack))\n",
        "                if meta:\n",
        "                    unpacked = unpacked + meta\n",
        "\n",
        "                row = {feature: unpacked[colnames[feature]] for feature in colnames}\n",
        "                row[\"idx\"] = index\n",
        "                index += 1\n",
        "\n",
        "                # dummy labels for the test set\n",
        "                if self.config.label_column not in row:\n",
        "                    if self.config.label_column == \"sa\":\n",
        "                        row[self.config.label_column] = \"\"\n",
        "                    else:\n",
        "                        row[self.config.label_column] = [\"\"] * len(row[\"words\"])\n",
        "\n",
        "                yield index, row"
      ],
      "execution_count": null,
      "outputs": []
    },
    {
      "cell_type": "code",
      "metadata": {
        "id": "PInXh1deC6LE"
      },
      "source": [
        ""
      ],
      "execution_count": null,
      "outputs": []
    },
    {
      "cell_type": "markdown",
      "source": [
        "# Rough"
      ],
      "metadata": {
        "id": "KANYDc0h74u5"
      }
    },
    {
      "cell_type": "code",
      "source": [
        "from google.colab import drive\n",
        "drive.mount('/content/drive')"
      ],
      "metadata": {
        "colab": {
          "base_uri": "https://localhost:8080/"
        },
        "id": "vjoU06dm76Vu",
        "outputId": "450ba931-14de-403c-ec33-fe64fb4f62a9"
      },
      "execution_count": null,
      "outputs": [
        {
          "output_type": "stream",
          "name": "stdout",
          "text": [
            "Mounted at /content/drive\n"
          ]
        }
      ]
    },
    {
      "cell_type": "code",
      "source": [
        "import pandas as pd\n",
        "path_to_dataset='/content/drive/MyDrive/Acads/4-1/BTP/NER-Dataset/ner_dataset.csv'\n",
        "data = pd.read_csv(path_to_dataset, encoding= 'unicode_escape')\n",
        "data.head()"
      ],
      "metadata": {
        "colab": {
          "base_uri": "https://localhost:8080/",
          "height": 206
        },
        "id": "R1ugr2L-9W9y",
        "outputId": "e91c9b9e-c77f-4448-b3e4-dafdf4150bcc"
      },
      "execution_count": null,
      "outputs": [
        {
          "output_type": "execute_result",
          "data": {
            "text/html": [
              "\n",
              "  <div id=\"df-dbf5174d-ba83-42fa-949f-df70d2c36e2a\">\n",
              "    <div class=\"colab-df-container\">\n",
              "      <div>\n",
              "<style scoped>\n",
              "    .dataframe tbody tr th:only-of-type {\n",
              "        vertical-align: middle;\n",
              "    }\n",
              "\n",
              "    .dataframe tbody tr th {\n",
              "        vertical-align: top;\n",
              "    }\n",
              "\n",
              "    .dataframe thead th {\n",
              "        text-align: right;\n",
              "    }\n",
              "</style>\n",
              "<table border=\"1\" class=\"dataframe\">\n",
              "  <thead>\n",
              "    <tr style=\"text-align: right;\">\n",
              "      <th></th>\n",
              "      <th>Sentence #</th>\n",
              "      <th>Word</th>\n",
              "      <th>POS</th>\n",
              "      <th>Tag</th>\n",
              "    </tr>\n",
              "  </thead>\n",
              "  <tbody>\n",
              "    <tr>\n",
              "      <th>0</th>\n",
              "      <td>Sentence: 1</td>\n",
              "      <td>Thousands</td>\n",
              "      <td>NNS</td>\n",
              "      <td>O</td>\n",
              "    </tr>\n",
              "    <tr>\n",
              "      <th>1</th>\n",
              "      <td>NaN</td>\n",
              "      <td>of</td>\n",
              "      <td>IN</td>\n",
              "      <td>O</td>\n",
              "    </tr>\n",
              "    <tr>\n",
              "      <th>2</th>\n",
              "      <td>NaN</td>\n",
              "      <td>demonstrators</td>\n",
              "      <td>NNS</td>\n",
              "      <td>O</td>\n",
              "    </tr>\n",
              "    <tr>\n",
              "      <th>3</th>\n",
              "      <td>NaN</td>\n",
              "      <td>have</td>\n",
              "      <td>VBP</td>\n",
              "      <td>O</td>\n",
              "    </tr>\n",
              "    <tr>\n",
              "      <th>4</th>\n",
              "      <td>NaN</td>\n",
              "      <td>marched</td>\n",
              "      <td>VBN</td>\n",
              "      <td>O</td>\n",
              "    </tr>\n",
              "  </tbody>\n",
              "</table>\n",
              "</div>\n",
              "      <button class=\"colab-df-convert\" onclick=\"convertToInteractive('df-dbf5174d-ba83-42fa-949f-df70d2c36e2a')\"\n",
              "              title=\"Convert this dataframe to an interactive table.\"\n",
              "              style=\"display:none;\">\n",
              "        \n",
              "  <svg xmlns=\"http://www.w3.org/2000/svg\" height=\"24px\"viewBox=\"0 0 24 24\"\n",
              "       width=\"24px\">\n",
              "    <path d=\"M0 0h24v24H0V0z\" fill=\"none\"/>\n",
              "    <path d=\"M18.56 5.44l.94 2.06.94-2.06 2.06-.94-2.06-.94-.94-2.06-.94 2.06-2.06.94zm-11 1L8.5 8.5l.94-2.06 2.06-.94-2.06-.94L8.5 2.5l-.94 2.06-2.06.94zm10 10l.94 2.06.94-2.06 2.06-.94-2.06-.94-.94-2.06-.94 2.06-2.06.94z\"/><path d=\"M17.41 7.96l-1.37-1.37c-.4-.4-.92-.59-1.43-.59-.52 0-1.04.2-1.43.59L10.3 9.45l-7.72 7.72c-.78.78-.78 2.05 0 2.83L4 21.41c.39.39.9.59 1.41.59.51 0 1.02-.2 1.41-.59l7.78-7.78 2.81-2.81c.8-.78.8-2.07 0-2.86zM5.41 20L4 18.59l7.72-7.72 1.47 1.35L5.41 20z\"/>\n",
              "  </svg>\n",
              "      </button>\n",
              "      \n",
              "  <style>\n",
              "    .colab-df-container {\n",
              "      display:flex;\n",
              "      flex-wrap:wrap;\n",
              "      gap: 12px;\n",
              "    }\n",
              "\n",
              "    .colab-df-convert {\n",
              "      background-color: #E8F0FE;\n",
              "      border: none;\n",
              "      border-radius: 50%;\n",
              "      cursor: pointer;\n",
              "      display: none;\n",
              "      fill: #1967D2;\n",
              "      height: 32px;\n",
              "      padding: 0 0 0 0;\n",
              "      width: 32px;\n",
              "    }\n",
              "\n",
              "    .colab-df-convert:hover {\n",
              "      background-color: #E2EBFA;\n",
              "      box-shadow: 0px 1px 2px rgba(60, 64, 67, 0.3), 0px 1px 3px 1px rgba(60, 64, 67, 0.15);\n",
              "      fill: #174EA6;\n",
              "    }\n",
              "\n",
              "    [theme=dark] .colab-df-convert {\n",
              "      background-color: #3B4455;\n",
              "      fill: #D2E3FC;\n",
              "    }\n",
              "\n",
              "    [theme=dark] .colab-df-convert:hover {\n",
              "      background-color: #434B5C;\n",
              "      box-shadow: 0px 1px 3px 1px rgba(0, 0, 0, 0.15);\n",
              "      filter: drop-shadow(0px 1px 2px rgba(0, 0, 0, 0.3));\n",
              "      fill: #FFFFFF;\n",
              "    }\n",
              "  </style>\n",
              "\n",
              "      <script>\n",
              "        const buttonEl =\n",
              "          document.querySelector('#df-dbf5174d-ba83-42fa-949f-df70d2c36e2a button.colab-df-convert');\n",
              "        buttonEl.style.display =\n",
              "          google.colab.kernel.accessAllowed ? 'block' : 'none';\n",
              "\n",
              "        async function convertToInteractive(key) {\n",
              "          const element = document.querySelector('#df-dbf5174d-ba83-42fa-949f-df70d2c36e2a');\n",
              "          const dataTable =\n",
              "            await google.colab.kernel.invokeFunction('convertToInteractive',\n",
              "                                                     [key], {});\n",
              "          if (!dataTable) return;\n",
              "\n",
              "          const docLinkHtml = 'Like what you see? Visit the ' +\n",
              "            '<a target=\"_blank\" href=https://colab.research.google.com/notebooks/data_table.ipynb>data table notebook</a>'\n",
              "            + ' to learn more about interactive tables.';\n",
              "          element.innerHTML = '';\n",
              "          dataTable['output_type'] = 'display_data';\n",
              "          await google.colab.output.renderOutput(dataTable, element);\n",
              "          const docLink = document.createElement('div');\n",
              "          docLink.innerHTML = docLinkHtml;\n",
              "          element.appendChild(docLink);\n",
              "        }\n",
              "      </script>\n",
              "    </div>\n",
              "  </div>\n",
              "  "
            ],
            "text/plain": [
              "    Sentence #           Word  POS Tag\n",
              "0  Sentence: 1      Thousands  NNS   O\n",
              "1          NaN             of   IN   O\n",
              "2          NaN  demonstrators  NNS   O\n",
              "3          NaN           have  VBP   O\n",
              "4          NaN        marched  VBN   O"
            ]
          },
          "metadata": {},
          "execution_count": 2
        }
      ]
    },
    {
      "cell_type": "code",
      "source": [
        "from itertools import chain\n",
        "def get_dict_map(data, token_or_tag):\n",
        "    tok2idx = {}\n",
        "    idx2tok = {}\n",
        "    \n",
        "    if token_or_tag == 'token':\n",
        "        vocab = list(set(data['Word'].to_list()))\n",
        "    else:\n",
        "        vocab = list(set(data['Tag'].to_list()))\n",
        "    \n",
        "    idx2tok = {idx:tok for  idx, tok in enumerate(vocab)}\n",
        "    tok2idx = {tok:idx for  idx, tok in enumerate(vocab)}\n",
        "    return tok2idx, idx2tok\n",
        "\n",
        "\n",
        "token2idx, idx2token = get_dict_map(data, 'token')\n",
        "tag2idx, idx2tag = get_dict_map(data, 'tag')"
      ],
      "metadata": {
        "id": "hA4rgmuc99XP"
      },
      "execution_count": null,
      "outputs": []
    },
    {
      "cell_type": "code",
      "source": [
        "data['Word_idx'] = data['Word'].map(token2idx)\n",
        "data['Tag_idx'] = data['Tag'].map(tag2idx)\n",
        "data.head()"
      ],
      "metadata": {
        "colab": {
          "base_uri": "https://localhost:8080/",
          "height": 206
        },
        "id": "ftD5mZlC-Gji",
        "outputId": "2e9c2c37-3d4b-4b24-931f-9be246bc5235"
      },
      "execution_count": null,
      "outputs": [
        {
          "output_type": "execute_result",
          "data": {
            "text/html": [
              "\n",
              "  <div id=\"df-ce98e468-b70f-4e59-b631-8dfd3549e6bb\">\n",
              "    <div class=\"colab-df-container\">\n",
              "      <div>\n",
              "<style scoped>\n",
              "    .dataframe tbody tr th:only-of-type {\n",
              "        vertical-align: middle;\n",
              "    }\n",
              "\n",
              "    .dataframe tbody tr th {\n",
              "        vertical-align: top;\n",
              "    }\n",
              "\n",
              "    .dataframe thead th {\n",
              "        text-align: right;\n",
              "    }\n",
              "</style>\n",
              "<table border=\"1\" class=\"dataframe\">\n",
              "  <thead>\n",
              "    <tr style=\"text-align: right;\">\n",
              "      <th></th>\n",
              "      <th>Sentence #</th>\n",
              "      <th>Word</th>\n",
              "      <th>POS</th>\n",
              "      <th>Tag</th>\n",
              "      <th>Word_idx</th>\n",
              "      <th>Tag_idx</th>\n",
              "    </tr>\n",
              "  </thead>\n",
              "  <tbody>\n",
              "    <tr>\n",
              "      <th>0</th>\n",
              "      <td>Sentence: 1</td>\n",
              "      <td>Thousands</td>\n",
              "      <td>NNS</td>\n",
              "      <td>O</td>\n",
              "      <td>20183</td>\n",
              "      <td>6</td>\n",
              "    </tr>\n",
              "    <tr>\n",
              "      <th>1</th>\n",
              "      <td>NaN</td>\n",
              "      <td>of</td>\n",
              "      <td>IN</td>\n",
              "      <td>O</td>\n",
              "      <td>10708</td>\n",
              "      <td>6</td>\n",
              "    </tr>\n",
              "    <tr>\n",
              "      <th>2</th>\n",
              "      <td>NaN</td>\n",
              "      <td>demonstrators</td>\n",
              "      <td>NNS</td>\n",
              "      <td>O</td>\n",
              "      <td>34828</td>\n",
              "      <td>6</td>\n",
              "    </tr>\n",
              "    <tr>\n",
              "      <th>3</th>\n",
              "      <td>NaN</td>\n",
              "      <td>have</td>\n",
              "      <td>VBP</td>\n",
              "      <td>O</td>\n",
              "      <td>35164</td>\n",
              "      <td>6</td>\n",
              "    </tr>\n",
              "    <tr>\n",
              "      <th>4</th>\n",
              "      <td>NaN</td>\n",
              "      <td>marched</td>\n",
              "      <td>VBN</td>\n",
              "      <td>O</td>\n",
              "      <td>31065</td>\n",
              "      <td>6</td>\n",
              "    </tr>\n",
              "  </tbody>\n",
              "</table>\n",
              "</div>\n",
              "      <button class=\"colab-df-convert\" onclick=\"convertToInteractive('df-ce98e468-b70f-4e59-b631-8dfd3549e6bb')\"\n",
              "              title=\"Convert this dataframe to an interactive table.\"\n",
              "              style=\"display:none;\">\n",
              "        \n",
              "  <svg xmlns=\"http://www.w3.org/2000/svg\" height=\"24px\"viewBox=\"0 0 24 24\"\n",
              "       width=\"24px\">\n",
              "    <path d=\"M0 0h24v24H0V0z\" fill=\"none\"/>\n",
              "    <path d=\"M18.56 5.44l.94 2.06.94-2.06 2.06-.94-2.06-.94-.94-2.06-.94 2.06-2.06.94zm-11 1L8.5 8.5l.94-2.06 2.06-.94-2.06-.94L8.5 2.5l-.94 2.06-2.06.94zm10 10l.94 2.06.94-2.06 2.06-.94-2.06-.94-.94-2.06-.94 2.06-2.06.94z\"/><path d=\"M17.41 7.96l-1.37-1.37c-.4-.4-.92-.59-1.43-.59-.52 0-1.04.2-1.43.59L10.3 9.45l-7.72 7.72c-.78.78-.78 2.05 0 2.83L4 21.41c.39.39.9.59 1.41.59.51 0 1.02-.2 1.41-.59l7.78-7.78 2.81-2.81c.8-.78.8-2.07 0-2.86zM5.41 20L4 18.59l7.72-7.72 1.47 1.35L5.41 20z\"/>\n",
              "  </svg>\n",
              "      </button>\n",
              "      \n",
              "  <style>\n",
              "    .colab-df-container {\n",
              "      display:flex;\n",
              "      flex-wrap:wrap;\n",
              "      gap: 12px;\n",
              "    }\n",
              "\n",
              "    .colab-df-convert {\n",
              "      background-color: #E8F0FE;\n",
              "      border: none;\n",
              "      border-radius: 50%;\n",
              "      cursor: pointer;\n",
              "      display: none;\n",
              "      fill: #1967D2;\n",
              "      height: 32px;\n",
              "      padding: 0 0 0 0;\n",
              "      width: 32px;\n",
              "    }\n",
              "\n",
              "    .colab-df-convert:hover {\n",
              "      background-color: #E2EBFA;\n",
              "      box-shadow: 0px 1px 2px rgba(60, 64, 67, 0.3), 0px 1px 3px 1px rgba(60, 64, 67, 0.15);\n",
              "      fill: #174EA6;\n",
              "    }\n",
              "\n",
              "    [theme=dark] .colab-df-convert {\n",
              "      background-color: #3B4455;\n",
              "      fill: #D2E3FC;\n",
              "    }\n",
              "\n",
              "    [theme=dark] .colab-df-convert:hover {\n",
              "      background-color: #434B5C;\n",
              "      box-shadow: 0px 1px 3px 1px rgba(0, 0, 0, 0.15);\n",
              "      filter: drop-shadow(0px 1px 2px rgba(0, 0, 0, 0.3));\n",
              "      fill: #FFFFFF;\n",
              "    }\n",
              "  </style>\n",
              "\n",
              "      <script>\n",
              "        const buttonEl =\n",
              "          document.querySelector('#df-ce98e468-b70f-4e59-b631-8dfd3549e6bb button.colab-df-convert');\n",
              "        buttonEl.style.display =\n",
              "          google.colab.kernel.accessAllowed ? 'block' : 'none';\n",
              "\n",
              "        async function convertToInteractive(key) {\n",
              "          const element = document.querySelector('#df-ce98e468-b70f-4e59-b631-8dfd3549e6bb');\n",
              "          const dataTable =\n",
              "            await google.colab.kernel.invokeFunction('convertToInteractive',\n",
              "                                                     [key], {});\n",
              "          if (!dataTable) return;\n",
              "\n",
              "          const docLinkHtml = 'Like what you see? Visit the ' +\n",
              "            '<a target=\"_blank\" href=https://colab.research.google.com/notebooks/data_table.ipynb>data table notebook</a>'\n",
              "            + ' to learn more about interactive tables.';\n",
              "          element.innerHTML = '';\n",
              "          dataTable['output_type'] = 'display_data';\n",
              "          await google.colab.output.renderOutput(dataTable, element);\n",
              "          const docLink = document.createElement('div');\n",
              "          docLink.innerHTML = docLinkHtml;\n",
              "          element.appendChild(docLink);\n",
              "        }\n",
              "      </script>\n",
              "    </div>\n",
              "  </div>\n",
              "  "
            ],
            "text/plain": [
              "    Sentence #           Word  POS Tag  Word_idx  Tag_idx\n",
              "0  Sentence: 1      Thousands  NNS   O     20183        6\n",
              "1          NaN             of   IN   O     10708        6\n",
              "2          NaN  demonstrators  NNS   O     34828        6\n",
              "3          NaN           have  VBP   O     35164        6\n",
              "4          NaN        marched  VBN   O     31065        6"
            ]
          },
          "metadata": {},
          "execution_count": 4
        }
      ]
    },
    {
      "cell_type": "code",
      "source": [
        "# Fill na\n",
        "data_fillna = data.fillna(method='ffill', axis=0)\n",
        "# Groupby and collect columns\n",
        "data_group = data_fillna.groupby(\n",
        "['Sentence #'],as_index=False\n",
        ")['Word', 'POS', 'Tag', 'Word_idx', 'Tag_idx'].agg(lambda x: list(x))\n",
        "# Visualise data\n",
        "data_group.head()"
      ],
      "metadata": {
        "colab": {
          "base_uri": "https://localhost:8080/",
          "height": 392
        },
        "id": "1tvHLJek-KPx",
        "outputId": "7e89171c-9bda-49f7-beeb-e5c52bb0dc6e"
      },
      "execution_count": null,
      "outputs": [
        {
          "output_type": "stream",
          "name": "stderr",
          "text": [
            "/usr/local/lib/python3.7/dist-packages/ipykernel_launcher.py:6: FutureWarning: Indexing with multiple keys (implicitly converted to a tuple of keys) will be deprecated, use a list instead.\n",
            "  \n"
          ]
        },
        {
          "output_type": "execute_result",
          "data": {
            "text/html": [
              "\n",
              "  <div id=\"df-7dde096c-dd40-4b59-97b1-ac111295354f\">\n",
              "    <div class=\"colab-df-container\">\n",
              "      <div>\n",
              "<style scoped>\n",
              "    .dataframe tbody tr th:only-of-type {\n",
              "        vertical-align: middle;\n",
              "    }\n",
              "\n",
              "    .dataframe tbody tr th {\n",
              "        vertical-align: top;\n",
              "    }\n",
              "\n",
              "    .dataframe thead th {\n",
              "        text-align: right;\n",
              "    }\n",
              "</style>\n",
              "<table border=\"1\" class=\"dataframe\">\n",
              "  <thead>\n",
              "    <tr style=\"text-align: right;\">\n",
              "      <th></th>\n",
              "      <th>Sentence #</th>\n",
              "      <th>Word</th>\n",
              "      <th>POS</th>\n",
              "      <th>Tag</th>\n",
              "      <th>Word_idx</th>\n",
              "      <th>Tag_idx</th>\n",
              "    </tr>\n",
              "  </thead>\n",
              "  <tbody>\n",
              "    <tr>\n",
              "      <th>0</th>\n",
              "      <td>Sentence: 1</td>\n",
              "      <td>[Thousands, of, demonstrators, have, marched, ...</td>\n",
              "      <td>[NNS, IN, NNS, VBP, VBN, IN, NNP, TO, VB, DT, ...</td>\n",
              "      <td>[O, O, O, O, O, O, B-geo, O, O, O, O, O, B-geo...</td>\n",
              "      <td>[20183, 10708, 34828, 35164, 31065, 25484, 250...</td>\n",
              "      <td>[6, 6, 6, 6, 6, 6, 11, 6, 6, 6, 6, 6, 11, 6, 6...</td>\n",
              "    </tr>\n",
              "    <tr>\n",
              "      <th>1</th>\n",
              "      <td>Sentence: 10</td>\n",
              "      <td>[Iranian, officials, say, they, expect, to, ge...</td>\n",
              "      <td>[JJ, NNS, VBP, PRP, VBP, TO, VB, NN, TO, JJ, J...</td>\n",
              "      <td>[B-gpe, O, O, O, O, O, O, O, O, O, O, O, O, O,...</td>\n",
              "      <td>[883, 28131, 34391, 19410, 29687, 7692, 33962,...</td>\n",
              "      <td>[7, 6, 6, 6, 6, 6, 6, 6, 6, 6, 6, 6, 6, 6, 6, ...</td>\n",
              "    </tr>\n",
              "    <tr>\n",
              "      <th>2</th>\n",
              "      <td>Sentence: 100</td>\n",
              "      <td>[Helicopter, gunships, Saturday, pounded, mili...</td>\n",
              "      <td>[NN, NNS, NNP, VBD, JJ, NNS, IN, DT, NNP, JJ, ...</td>\n",
              "      <td>[O, O, B-tim, O, O, O, O, O, B-geo, O, O, O, O...</td>\n",
              "      <td>[33952, 24666, 8271, 10074, 27799, 21953, 3157...</td>\n",
              "      <td>[6, 6, 14, 6, 6, 6, 6, 6, 11, 6, 6, 6, 6, 6, 1...</td>\n",
              "    </tr>\n",
              "    <tr>\n",
              "      <th>3</th>\n",
              "      <td>Sentence: 1000</td>\n",
              "      <td>[They, left, after, a, tense, hour-long, stand...</td>\n",
              "      <td>[PRP, VBD, IN, DT, NN, JJ, NN, IN, NN, NNS, .]</td>\n",
              "      <td>[O, O, O, O, O, O, O, O, O, O, O]</td>\n",
              "      <td>[24874, 15305, 7533, 5783, 2500, 31517, 21044,...</td>\n",
              "      <td>[6, 6, 6, 6, 6, 6, 6, 6, 6, 6, 6]</td>\n",
              "    </tr>\n",
              "    <tr>\n",
              "      <th>4</th>\n",
              "      <td>Sentence: 10000</td>\n",
              "      <td>[U.N., relief, coordinator, Jan, Egeland, said...</td>\n",
              "      <td>[NNP, NN, NN, NNP, NNP, VBD, NNP, ,, NNP, ,, J...</td>\n",
              "      <td>[B-geo, O, O, B-per, I-per, O, B-tim, O, B-geo...</td>\n",
              "      <td>[7849, 32413, 16126, 5210, 29103, 17606, 10830...</td>\n",
              "      <td>[11, 6, 6, 10, 9, 6, 14, 6, 11, 6, 7, 6, 7, 6,...</td>\n",
              "    </tr>\n",
              "  </tbody>\n",
              "</table>\n",
              "</div>\n",
              "      <button class=\"colab-df-convert\" onclick=\"convertToInteractive('df-7dde096c-dd40-4b59-97b1-ac111295354f')\"\n",
              "              title=\"Convert this dataframe to an interactive table.\"\n",
              "              style=\"display:none;\">\n",
              "        \n",
              "  <svg xmlns=\"http://www.w3.org/2000/svg\" height=\"24px\"viewBox=\"0 0 24 24\"\n",
              "       width=\"24px\">\n",
              "    <path d=\"M0 0h24v24H0V0z\" fill=\"none\"/>\n",
              "    <path d=\"M18.56 5.44l.94 2.06.94-2.06 2.06-.94-2.06-.94-.94-2.06-.94 2.06-2.06.94zm-11 1L8.5 8.5l.94-2.06 2.06-.94-2.06-.94L8.5 2.5l-.94 2.06-2.06.94zm10 10l.94 2.06.94-2.06 2.06-.94-2.06-.94-.94-2.06-.94 2.06-2.06.94z\"/><path d=\"M17.41 7.96l-1.37-1.37c-.4-.4-.92-.59-1.43-.59-.52 0-1.04.2-1.43.59L10.3 9.45l-7.72 7.72c-.78.78-.78 2.05 0 2.83L4 21.41c.39.39.9.59 1.41.59.51 0 1.02-.2 1.41-.59l7.78-7.78 2.81-2.81c.8-.78.8-2.07 0-2.86zM5.41 20L4 18.59l7.72-7.72 1.47 1.35L5.41 20z\"/>\n",
              "  </svg>\n",
              "      </button>\n",
              "      \n",
              "  <style>\n",
              "    .colab-df-container {\n",
              "      display:flex;\n",
              "      flex-wrap:wrap;\n",
              "      gap: 12px;\n",
              "    }\n",
              "\n",
              "    .colab-df-convert {\n",
              "      background-color: #E8F0FE;\n",
              "      border: none;\n",
              "      border-radius: 50%;\n",
              "      cursor: pointer;\n",
              "      display: none;\n",
              "      fill: #1967D2;\n",
              "      height: 32px;\n",
              "      padding: 0 0 0 0;\n",
              "      width: 32px;\n",
              "    }\n",
              "\n",
              "    .colab-df-convert:hover {\n",
              "      background-color: #E2EBFA;\n",
              "      box-shadow: 0px 1px 2px rgba(60, 64, 67, 0.3), 0px 1px 3px 1px rgba(60, 64, 67, 0.15);\n",
              "      fill: #174EA6;\n",
              "    }\n",
              "\n",
              "    [theme=dark] .colab-df-convert {\n",
              "      background-color: #3B4455;\n",
              "      fill: #D2E3FC;\n",
              "    }\n",
              "\n",
              "    [theme=dark] .colab-df-convert:hover {\n",
              "      background-color: #434B5C;\n",
              "      box-shadow: 0px 1px 3px 1px rgba(0, 0, 0, 0.15);\n",
              "      filter: drop-shadow(0px 1px 2px rgba(0, 0, 0, 0.3));\n",
              "      fill: #FFFFFF;\n",
              "    }\n",
              "  </style>\n",
              "\n",
              "      <script>\n",
              "        const buttonEl =\n",
              "          document.querySelector('#df-7dde096c-dd40-4b59-97b1-ac111295354f button.colab-df-convert');\n",
              "        buttonEl.style.display =\n",
              "          google.colab.kernel.accessAllowed ? 'block' : 'none';\n",
              "\n",
              "        async function convertToInteractive(key) {\n",
              "          const element = document.querySelector('#df-7dde096c-dd40-4b59-97b1-ac111295354f');\n",
              "          const dataTable =\n",
              "            await google.colab.kernel.invokeFunction('convertToInteractive',\n",
              "                                                     [key], {});\n",
              "          if (!dataTable) return;\n",
              "\n",
              "          const docLinkHtml = 'Like what you see? Visit the ' +\n",
              "            '<a target=\"_blank\" href=https://colab.research.google.com/notebooks/data_table.ipynb>data table notebook</a>'\n",
              "            + ' to learn more about interactive tables.';\n",
              "          element.innerHTML = '';\n",
              "          dataTable['output_type'] = 'display_data';\n",
              "          await google.colab.output.renderOutput(dataTable, element);\n",
              "          const docLink = document.createElement('div');\n",
              "          docLink.innerHTML = docLinkHtml;\n",
              "          element.appendChild(docLink);\n",
              "        }\n",
              "      </script>\n",
              "    </div>\n",
              "  </div>\n",
              "  "
            ],
            "text/plain": [
              "        Sentence #  ...                                            Tag_idx\n",
              "0      Sentence: 1  ...  [6, 6, 6, 6, 6, 6, 11, 6, 6, 6, 6, 6, 11, 6, 6...\n",
              "1     Sentence: 10  ...  [7, 6, 6, 6, 6, 6, 6, 6, 6, 6, 6, 6, 6, 6, 6, ...\n",
              "2    Sentence: 100  ...  [6, 6, 14, 6, 6, 6, 6, 6, 11, 6, 6, 6, 6, 6, 1...\n",
              "3   Sentence: 1000  ...                  [6, 6, 6, 6, 6, 6, 6, 6, 6, 6, 6]\n",
              "4  Sentence: 10000  ...  [11, 6, 6, 10, 9, 6, 14, 6, 11, 6, 7, 6, 7, 6,...\n",
              "\n",
              "[5 rows x 6 columns]"
            ]
          },
          "metadata": {},
          "execution_count": 5
        }
      ]
    },
    {
      "cell_type": "code",
      "source": [
        "from sklearn.model_selection import train_test_split\n",
        "from keras.preprocessing.sequence import pad_sequences\n",
        "# from keras.utils import to_categorical\n",
        "from tensorflow.keras.utils import to_categorical"
      ],
      "metadata": {
        "id": "OJRERtmp-S5A"
      },
      "execution_count": null,
      "outputs": []
    },
    {
      "cell_type": "code",
      "source": [
        "def get_pad_train_test_val(data_group, data):\n",
        "\n",
        "    #get max token and tag length\n",
        "    n_token = len(list(set(data['Word'].to_list())))\n",
        "    n_tag = len(list(set(data['Tag'].to_list())))\n",
        "\n",
        "    #Pad tokens (X var)    \n",
        "    tokens = data_group['Word_idx'].tolist()\n",
        "    maxlen = max([len(s) for s in tokens])\n",
        "    pad_tokens = pad_sequences(tokens, maxlen=maxlen, dtype='int32', padding='post', value= n_token - 1)\n",
        "\n",
        "    #Pad Tags (y var) and convert it into one hot encoding\n",
        "    tags = data_group['Tag_idx'].tolist()\n",
        "    pad_tags = pad_sequences(tags, maxlen=maxlen, dtype='int32', padding='post', value= tag2idx[\"O\"])\n",
        "    n_tags = len(tag2idx)\n",
        "    pad_tags = [to_categorical(i, num_classes=n_tags) for i in pad_tags]\n",
        "    \n",
        "    #Split train, test and validation set\n",
        "    tokens_, test_tokens, tags_, test_tags = train_test_split(pad_tokens, pad_tags, test_size=0.1, train_size=0.9, random_state=2020)\n",
        "    train_tokens, val_tokens, train_tags, val_tags = train_test_split(tokens_,tags_,test_size = 0.25,train_size =0.75, random_state=2020)\n",
        "\n",
        "    print(\n",
        "        'train_tokens length:', len(train_tokens),\n",
        "        '\\ntrain_tokens length:', len(train_tokens),\n",
        "        '\\ntest_tokens length:', len(test_tokens),\n",
        "        '\\ntest_tags:', len(test_tags),\n",
        "        '\\nval_tokens:', len(val_tokens),\n",
        "        '\\nval_tags:', len(val_tags),\n",
        "    )\n",
        "    \n",
        "    return train_tokens, val_tokens, test_tokens, train_tags, val_tags, test_tags\n",
        "\n",
        "train_tokens, val_tokens, test_tokens, train_tags, val_tags, test_tags = get_pad_train_test_val(data_group, data)"
      ],
      "metadata": {
        "colab": {
          "base_uri": "https://localhost:8080/"
        },
        "id": "Y_zNu89p-5v6",
        "outputId": "442ae017-0e82-4925-903a-aa7317563835"
      },
      "execution_count": null,
      "outputs": [
        {
          "output_type": "stream",
          "name": "stdout",
          "text": [
            "train_tokens length: 32372 \n",
            "train_tokens length: 32372 \n",
            "test_tokens length: 4796 \n",
            "test_tags: 4796 \n",
            "val_tokens: 10791 \n",
            "val_tags: 10791\n"
          ]
        }
      ]
    },
    {
      "cell_type": "code",
      "source": [
        "Counter(data['Tag'].to_list())"
      ],
      "metadata": {
        "colab": {
          "base_uri": "https://localhost:8080/",
          "height": 166
        },
        "id": "IB_LaK0hDkKJ",
        "outputId": "803abac9-f394-408b-99c2-33f1e473d97b"
      },
      "execution_count": null,
      "outputs": [
        {
          "output_type": "error",
          "ename": "NameError",
          "evalue": "ignored",
          "traceback": [
            "\u001b[0;31m---------------------------------------------------------------------------\u001b[0m",
            "\u001b[0;31mNameError\u001b[0m                                 Traceback (most recent call last)",
            "\u001b[0;32m<ipython-input-25-8772841d8a82>\u001b[0m in \u001b[0;36m<module>\u001b[0;34m()\u001b[0m\n\u001b[0;32m----> 1\u001b[0;31m \u001b[0mCounter\u001b[0m\u001b[0;34m(\u001b[0m\u001b[0mdata\u001b[0m\u001b[0;34m[\u001b[0m\u001b[0;34m'Tag'\u001b[0m\u001b[0;34m]\u001b[0m\u001b[0;34m.\u001b[0m\u001b[0mto_list\u001b[0m\u001b[0;34m(\u001b[0m\u001b[0;34m)\u001b[0m\u001b[0;34m)\u001b[0m\u001b[0;34m\u001b[0m\u001b[0;34m\u001b[0m\u001b[0m\n\u001b[0m",
            "\u001b[0;31mNameError\u001b[0m: name 'Counter' is not defined"
          ]
        }
      ]
    },
    {
      "cell_type": "code",
      "source": [
        "import numpy as np\n",
        "import tensorflow\n",
        "from tensorflow.keras import Sequential, Model, Input\n",
        "from tensorflow.keras.layers import LSTM, Embedding, Dense, TimeDistributed, Dropout, Bidirectional\n",
        "from tensorflow.keras.utils import plot_model"
      ],
      "metadata": {
        "id": "HG9uGfey_UtC"
      },
      "execution_count": null,
      "outputs": []
    },
    {
      "cell_type": "code",
      "source": [
        "from numpy.random import seed\n",
        "seed(1)\n",
        "tensorflow.random.set_seed(2)"
      ],
      "metadata": {
        "id": "U8GZgIOg_6KN"
      },
      "execution_count": null,
      "outputs": []
    },
    {
      "cell_type": "code",
      "source": [
        "input_dim = len(list(set(data['Word'].to_list())))+1\n",
        "output_dim = 64\n",
        "input_length = max([len(s) for s in data_group['Word_idx'].tolist()])\n",
        "n_tags = len(tag2idx)\n",
        "print('input_dim: ', input_dim, '\\noutput_dim: ', output_dim, '\\ninput_length: ', input_length, '\\nn_tags: ', n_tags)"
      ],
      "metadata": {
        "colab": {
          "base_uri": "https://localhost:8080/"
        },
        "id": "a697FUXs_-fx",
        "outputId": "14a0c78a-d7ca-4e14-a340-60206c148221"
      },
      "execution_count": null,
      "outputs": [
        {
          "output_type": "stream",
          "name": "stdout",
          "text": [
            "input_dim:  35179 \n",
            "output_dim:  64 \n",
            "input_length:  104 \n",
            "n_tags:  17\n"
          ]
        }
      ]
    },
    {
      "cell_type": "code",
      "source": [
        "def get_bilstm_lstm_model():\n",
        "    model = Sequential()\n",
        "\n",
        "    # Add Embedding layer\n",
        "    model.add(Embedding(input_dim=input_dim, output_dim=output_dim, input_length=input_length))\n",
        "\n",
        "    # Add bidirectional LSTM\n",
        "    model.add(Bidirectional(LSTM(units=output_dim, return_sequences=True, dropout=0.2, recurrent_dropout=0.2), merge_mode = 'concat'))\n",
        "\n",
        "    # Add LSTM\n",
        "    model.add(LSTM(units=output_dim, return_sequences=True, dropout=0.5, recurrent_dropout=0.5))\n",
        "\n",
        "    # Add timeDistributed Layer\n",
        "    model.add(TimeDistributed(Dense(n_tags, activation=\"relu\")))\n",
        "\n",
        "    #Optimiser \n",
        "    # adam = k.optimizers.Adam(lr=0.0005, beta_1=0.9, beta_2=0.999)\n",
        "\n",
        "    # Compile model\n",
        "    model.compile(loss='categorical_crossentropy', optimizer='adam', metrics=['accuracy'])\n",
        "    model.summary()\n",
        "    \n",
        "    return model"
      ],
      "metadata": {
        "id": "jvPFKiQ6ADyG"
      },
      "execution_count": null,
      "outputs": []
    },
    {
      "cell_type": "code",
      "source": [
        "def train_model(X, y, model):\n",
        "    loss = list()\n",
        "    for i in range(25):\n",
        "        # fit model for one epoch on this sequence\n",
        "        hist = model.fit(X, y, batch_size=1000, verbose=1, epochs=1, validation_split=0.2)\n",
        "        loss.append(hist.history['loss'][0])\n",
        "    return loss"
      ],
      "metadata": {
        "id": "d8jFaQDkAJYm"
      },
      "execution_count": null,
      "outputs": []
    },
    {
      "cell_type": "code",
      "source": [
        "results = pd.DataFrame()\n",
        "model_bilstm_lstm = get_bilstm_lstm_model()\n",
        "plot_model(model_bilstm_lstm)\n",
        "results['with_add_lstm'] = train_model(train_tokens, np.array(train_tags), model_bilstm_lstm)"
      ],
      "metadata": {
        "colab": {
          "base_uri": "https://localhost:8080/"
        },
        "id": "6l4s1oGTANEp",
        "outputId": "1dda8bd7-d78c-4dce-e6ab-46492c1ef992"
      },
      "execution_count": null,
      "outputs": [
        {
          "output_type": "stream",
          "name": "stdout",
          "text": [
            "Model: \"sequential\"\n",
            "_________________________________________________________________\n",
            " Layer (type)                Output Shape              Param #   \n",
            "=================================================================\n",
            " embedding (Embedding)       (None, 104, 64)           2251456   \n",
            "                                                                 \n",
            " bidirectional (Bidirectiona  (None, 104, 128)         66048     \n",
            " l)                                                              \n",
            "                                                                 \n",
            " lstm_1 (LSTM)               (None, 104, 64)           49408     \n",
            "                                                                 \n",
            " time_distributed (TimeDistr  (None, 104, 17)          1105      \n",
            " ibuted)                                                         \n",
            "                                                                 \n",
            "=================================================================\n",
            "Total params: 2,368,017\n",
            "Trainable params: 2,368,017\n",
            "Non-trainable params: 0\n",
            "_________________________________________________________________\n",
            "26/26 [==============================] - 165s 6s/step - loss: 1.0188 - accuracy: 0.9134 - val_loss: 0.3247 - val_accuracy: 0.9681\n",
            "26/26 [==============================] - 149s 6s/step - loss: 0.3021 - accuracy: 0.9677 - val_loss: 0.2692 - val_accuracy: 0.9681\n",
            "26/26 [==============================] - 148s 6s/step - loss: 0.2666 - accuracy: 0.9677 - val_loss: 0.2307 - val_accuracy: 0.9681\n",
            "26/26 [==============================] - 145s 6s/step - loss: 0.2489 - accuracy: 0.9677 - val_loss: 0.2238 - val_accuracy: 0.9681\n",
            "26/26 [==============================] - 158s 6s/step - loss: 0.2229 - accuracy: 0.9677 - val_loss: 0.2039 - val_accuracy: 0.9681\n",
            "26/26 [==============================] - 145s 6s/step - loss: 0.1873 - accuracy: 0.9677 - val_loss: 0.1523 - val_accuracy: 0.9681\n",
            "26/26 [==============================] - 145s 6s/step - loss: 0.1638 - accuracy: 0.9677 - val_loss: 0.1574 - val_accuracy: 0.9681\n",
            "26/26 [==============================] - 144s 6s/step - loss: 0.1549 - accuracy: 0.9678 - val_loss: 0.1593 - val_accuracy: 0.9681\n",
            "26/26 [==============================] - 145s 6s/step - loss: 0.1502 - accuracy: 0.9678 - val_loss: 0.1436 - val_accuracy: 0.9681\n",
            "26/26 [==============================] - 145s 6s/step - loss: 0.1378 - accuracy: 0.9678 - val_loss: 0.1352 - val_accuracy: 0.9681\n",
            "26/26 [==============================] - 146s 6s/step - loss: 0.1314 - accuracy: 0.9678 - val_loss: 0.1338 - val_accuracy: 0.9681\n",
            "26/26 [==============================] - 145s 6s/step - loss: 0.1304 - accuracy: 0.9678 - val_loss: 0.1282 - val_accuracy: 0.9681\n",
            "26/26 [==============================] - 146s 6s/step - loss: 0.1238 - accuracy: 0.9678 - val_loss: 0.1293 - val_accuracy: 0.9681\n",
            "26/26 [==============================] - 145s 6s/step - loss: 0.1223 - accuracy: 0.9678 - val_loss: 0.1292 - val_accuracy: 0.9682\n",
            "26/26 [==============================] - 145s 6s/step - loss: 0.1232 - accuracy: 0.9679 - val_loss: 0.1273 - val_accuracy: 0.9683\n",
            "26/26 [==============================] - 146s 6s/step - loss: 0.1150 - accuracy: 0.9681 - val_loss: 0.1244 - val_accuracy: 0.9683\n",
            "26/26 [==============================] - 145s 6s/step - loss: 0.1116 - accuracy: 0.9681 - val_loss: 0.1207 - val_accuracy: 0.9684\n",
            "26/26 [==============================] - 145s 6s/step - loss: 0.1075 - accuracy: 0.9682 - val_loss: 0.1098 - val_accuracy: 0.9688\n",
            "26/26 [==============================] - 144s 6s/step - loss: 0.0951 - accuracy: 0.9685 - val_loss: 0.1079 - val_accuracy: 0.9688\n",
            "26/26 [==============================] - 146s 6s/step - loss: 0.0899 - accuracy: 0.9686 - val_loss: 0.1040 - val_accuracy: 0.9690\n",
            "26/26 [==============================] - 145s 6s/step - loss: 0.0937 - accuracy: 0.9691 - val_loss: 0.1089 - val_accuracy: 0.9695\n",
            "26/26 [==============================] - 146s 6s/step - loss: 0.0888 - accuracy: 0.9689 - val_loss: 0.0987 - val_accuracy: 0.9693\n",
            "26/26 [==============================] - 145s 6s/step - loss: 0.0840 - accuracy: 0.9691 - val_loss: 0.1024 - val_accuracy: 0.9693\n",
            "26/26 [==============================] - 145s 6s/step - loss: 0.0944 - accuracy: 0.9694 - val_loss: 0.1135 - val_accuracy: 0.9694\n",
            "26/26 [==============================] - 146s 6s/step - loss: 0.1072 - accuracy: 0.9695 - val_loss: 0.1094 - val_accuracy: 0.9695\n"
          ]
        }
      ]
    },
    {
      "cell_type": "code",
      "source": [
        ""
      ],
      "metadata": {
        "id": "A98jkNspAQyN"
      },
      "execution_count": null,
      "outputs": []
    }
  ]
}