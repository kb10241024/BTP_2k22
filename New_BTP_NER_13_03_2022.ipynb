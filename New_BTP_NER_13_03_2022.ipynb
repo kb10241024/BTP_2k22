{
  "nbformat": 4,
  "nbformat_minor": 0,
  "metadata": {
    "colab": {
      "name": "New BTP-NER-13/03/2022.ipynb",
      "provenance": [],
      "collapsed_sections": [
        "d31gnG_dtQDO",
        "xN0qYtQtAG_h",
        "3mQo6bEbBmtv",
        "KANYDc0h74u5"
      ],
      "include_colab_link": true
    },
    "kernelspec": {
      "name": "python3",
      "display_name": "Python 3"
    },
    "language_info": {
      "name": "python"
    },
    "accelerator": "GPU",
    "widgets": {
      "application/vnd.jupyter.widget-state+json": {
        "158ca42b02c5410c8934fce2eac411fe": {
          "model_module": "@jupyter-widgets/controls",
          "model_name": "HBoxModel",
          "model_module_version": "1.5.0",
          "state": {
            "_dom_classes": [],
            "_model_module": "@jupyter-widgets/controls",
            "_model_module_version": "1.5.0",
            "_model_name": "HBoxModel",
            "_view_count": null,
            "_view_module": "@jupyter-widgets/controls",
            "_view_module_version": "1.5.0",
            "_view_name": "HBoxView",
            "box_style": "",
            "children": [
              "IPY_MODEL_28ffc9c7d3d149f8ba39a069a4aa2f6e",
              "IPY_MODEL_bd71f45c549a4a41aa310ad1711608bb",
              "IPY_MODEL_f3ed6c148f104ed29ea8d9060899ca12"
            ],
            "layout": "IPY_MODEL_30b78189735f4ddd887b3fabb8c82202"
          }
        },
        "28ffc9c7d3d149f8ba39a069a4aa2f6e": {
          "model_module": "@jupyter-widgets/controls",
          "model_name": "HTMLModel",
          "model_module_version": "1.5.0",
          "state": {
            "_dom_classes": [],
            "_model_module": "@jupyter-widgets/controls",
            "_model_module_version": "1.5.0",
            "_model_name": "HTMLModel",
            "_view_count": null,
            "_view_module": "@jupyter-widgets/controls",
            "_view_module_version": "1.5.0",
            "_view_name": "HTMLView",
            "description": "",
            "description_tooltip": null,
            "layout": "IPY_MODEL_23746b31ee684b6295f0a7912b57a9da",
            "placeholder": "​",
            "style": "IPY_MODEL_6a31cf5b7f87489299092abab1975457",
            "value": "Downloading: 100%"
          }
        },
        "bd71f45c549a4a41aa310ad1711608bb": {
          "model_module": "@jupyter-widgets/controls",
          "model_name": "FloatProgressModel",
          "model_module_version": "1.5.0",
          "state": {
            "_dom_classes": [],
            "_model_module": "@jupyter-widgets/controls",
            "_model_module_version": "1.5.0",
            "_model_name": "FloatProgressModel",
            "_view_count": null,
            "_view_module": "@jupyter-widgets/controls",
            "_view_module_version": "1.5.0",
            "_view_name": "ProgressView",
            "bar_style": "success",
            "description": "",
            "description_tooltip": null,
            "layout": "IPY_MODEL_329a73741e6d4f6ba19a9804ad79ec7a",
            "max": 871891,
            "min": 0,
            "orientation": "horizontal",
            "style": "IPY_MODEL_41f12a7d7f4541feb706c565fc0b5a81",
            "value": 871891
          }
        },
        "f3ed6c148f104ed29ea8d9060899ca12": {
          "model_module": "@jupyter-widgets/controls",
          "model_name": "HTMLModel",
          "model_module_version": "1.5.0",
          "state": {
            "_dom_classes": [],
            "_model_module": "@jupyter-widgets/controls",
            "_model_module_version": "1.5.0",
            "_model_name": "HTMLModel",
            "_view_count": null,
            "_view_module": "@jupyter-widgets/controls",
            "_view_module_version": "1.5.0",
            "_view_name": "HTMLView",
            "description": "",
            "description_tooltip": null,
            "layout": "IPY_MODEL_2ed2a19b12b64d47b13154826d83494e",
            "placeholder": "​",
            "style": "IPY_MODEL_91c38205677d40c8b347ffd5aeb6d7bc",
            "value": " 851k/851k [00:00&lt;00:00, 1.16MB/s]"
          }
        },
        "30b78189735f4ddd887b3fabb8c82202": {
          "model_module": "@jupyter-widgets/base",
          "model_name": "LayoutModel",
          "model_module_version": "1.2.0",
          "state": {
            "_model_module": "@jupyter-widgets/base",
            "_model_module_version": "1.2.0",
            "_model_name": "LayoutModel",
            "_view_count": null,
            "_view_module": "@jupyter-widgets/base",
            "_view_module_version": "1.2.0",
            "_view_name": "LayoutView",
            "align_content": null,
            "align_items": null,
            "align_self": null,
            "border": null,
            "bottom": null,
            "display": null,
            "flex": null,
            "flex_flow": null,
            "grid_area": null,
            "grid_auto_columns": null,
            "grid_auto_flow": null,
            "grid_auto_rows": null,
            "grid_column": null,
            "grid_gap": null,
            "grid_row": null,
            "grid_template_areas": null,
            "grid_template_columns": null,
            "grid_template_rows": null,
            "height": null,
            "justify_content": null,
            "justify_items": null,
            "left": null,
            "margin": null,
            "max_height": null,
            "max_width": null,
            "min_height": null,
            "min_width": null,
            "object_fit": null,
            "object_position": null,
            "order": null,
            "overflow": null,
            "overflow_x": null,
            "overflow_y": null,
            "padding": null,
            "right": null,
            "top": null,
            "visibility": null,
            "width": null
          }
        },
        "23746b31ee684b6295f0a7912b57a9da": {
          "model_module": "@jupyter-widgets/base",
          "model_name": "LayoutModel",
          "model_module_version": "1.2.0",
          "state": {
            "_model_module": "@jupyter-widgets/base",
            "_model_module_version": "1.2.0",
            "_model_name": "LayoutModel",
            "_view_count": null,
            "_view_module": "@jupyter-widgets/base",
            "_view_module_version": "1.2.0",
            "_view_name": "LayoutView",
            "align_content": null,
            "align_items": null,
            "align_self": null,
            "border": null,
            "bottom": null,
            "display": null,
            "flex": null,
            "flex_flow": null,
            "grid_area": null,
            "grid_auto_columns": null,
            "grid_auto_flow": null,
            "grid_auto_rows": null,
            "grid_column": null,
            "grid_gap": null,
            "grid_row": null,
            "grid_template_areas": null,
            "grid_template_columns": null,
            "grid_template_rows": null,
            "height": null,
            "justify_content": null,
            "justify_items": null,
            "left": null,
            "margin": null,
            "max_height": null,
            "max_width": null,
            "min_height": null,
            "min_width": null,
            "object_fit": null,
            "object_position": null,
            "order": null,
            "overflow": null,
            "overflow_x": null,
            "overflow_y": null,
            "padding": null,
            "right": null,
            "top": null,
            "visibility": null,
            "width": null
          }
        },
        "6a31cf5b7f87489299092abab1975457": {
          "model_module": "@jupyter-widgets/controls",
          "model_name": "DescriptionStyleModel",
          "model_module_version": "1.5.0",
          "state": {
            "_model_module": "@jupyter-widgets/controls",
            "_model_module_version": "1.5.0",
            "_model_name": "DescriptionStyleModel",
            "_view_count": null,
            "_view_module": "@jupyter-widgets/base",
            "_view_module_version": "1.2.0",
            "_view_name": "StyleView",
            "description_width": ""
          }
        },
        "329a73741e6d4f6ba19a9804ad79ec7a": {
          "model_module": "@jupyter-widgets/base",
          "model_name": "LayoutModel",
          "model_module_version": "1.2.0",
          "state": {
            "_model_module": "@jupyter-widgets/base",
            "_model_module_version": "1.2.0",
            "_model_name": "LayoutModel",
            "_view_count": null,
            "_view_module": "@jupyter-widgets/base",
            "_view_module_version": "1.2.0",
            "_view_name": "LayoutView",
            "align_content": null,
            "align_items": null,
            "align_self": null,
            "border": null,
            "bottom": null,
            "display": null,
            "flex": null,
            "flex_flow": null,
            "grid_area": null,
            "grid_auto_columns": null,
            "grid_auto_flow": null,
            "grid_auto_rows": null,
            "grid_column": null,
            "grid_gap": null,
            "grid_row": null,
            "grid_template_areas": null,
            "grid_template_columns": null,
            "grid_template_rows": null,
            "height": null,
            "justify_content": null,
            "justify_items": null,
            "left": null,
            "margin": null,
            "max_height": null,
            "max_width": null,
            "min_height": null,
            "min_width": null,
            "object_fit": null,
            "object_position": null,
            "order": null,
            "overflow": null,
            "overflow_x": null,
            "overflow_y": null,
            "padding": null,
            "right": null,
            "top": null,
            "visibility": null,
            "width": null
          }
        },
        "41f12a7d7f4541feb706c565fc0b5a81": {
          "model_module": "@jupyter-widgets/controls",
          "model_name": "ProgressStyleModel",
          "model_module_version": "1.5.0",
          "state": {
            "_model_module": "@jupyter-widgets/controls",
            "_model_module_version": "1.5.0",
            "_model_name": "ProgressStyleModel",
            "_view_count": null,
            "_view_module": "@jupyter-widgets/base",
            "_view_module_version": "1.2.0",
            "_view_name": "StyleView",
            "bar_color": null,
            "description_width": ""
          }
        },
        "2ed2a19b12b64d47b13154826d83494e": {
          "model_module": "@jupyter-widgets/base",
          "model_name": "LayoutModel",
          "model_module_version": "1.2.0",
          "state": {
            "_model_module": "@jupyter-widgets/base",
            "_model_module_version": "1.2.0",
            "_model_name": "LayoutModel",
            "_view_count": null,
            "_view_module": "@jupyter-widgets/base",
            "_view_module_version": "1.2.0",
            "_view_name": "LayoutView",
            "align_content": null,
            "align_items": null,
            "align_self": null,
            "border": null,
            "bottom": null,
            "display": null,
            "flex": null,
            "flex_flow": null,
            "grid_area": null,
            "grid_auto_columns": null,
            "grid_auto_flow": null,
            "grid_auto_rows": null,
            "grid_column": null,
            "grid_gap": null,
            "grid_row": null,
            "grid_template_areas": null,
            "grid_template_columns": null,
            "grid_template_rows": null,
            "height": null,
            "justify_content": null,
            "justify_items": null,
            "left": null,
            "margin": null,
            "max_height": null,
            "max_width": null,
            "min_height": null,
            "min_width": null,
            "object_fit": null,
            "object_position": null,
            "order": null,
            "overflow": null,
            "overflow_x": null,
            "overflow_y": null,
            "padding": null,
            "right": null,
            "top": null,
            "visibility": null,
            "width": null
          }
        },
        "91c38205677d40c8b347ffd5aeb6d7bc": {
          "model_module": "@jupyter-widgets/controls",
          "model_name": "DescriptionStyleModel",
          "model_module_version": "1.5.0",
          "state": {
            "_model_module": "@jupyter-widgets/controls",
            "_model_module_version": "1.5.0",
            "_model_name": "DescriptionStyleModel",
            "_view_count": null,
            "_view_module": "@jupyter-widgets/base",
            "_view_module_version": "1.2.0",
            "_view_name": "StyleView",
            "description_width": ""
          }
        },
        "a9fa77af3a004609b2f9169f7e53206d": {
          "model_module": "@jupyter-widgets/controls",
          "model_name": "HBoxModel",
          "model_module_version": "1.5.0",
          "state": {
            "_dom_classes": [],
            "_model_module": "@jupyter-widgets/controls",
            "_model_module_version": "1.5.0",
            "_model_name": "HBoxModel",
            "_view_count": null,
            "_view_module": "@jupyter-widgets/controls",
            "_view_module_version": "1.5.0",
            "_view_name": "HBoxView",
            "box_style": "",
            "children": [
              "IPY_MODEL_a1480d32fa00465c8bddb83f644b3215",
              "IPY_MODEL_1f469aee07b2471b97aee0991e0d78bd",
              "IPY_MODEL_ddcc17483cb64a97a296ddf3c224a4f7"
            ],
            "layout": "IPY_MODEL_dea33ac799184fdcab9fb3d40fe84c3f"
          }
        },
        "a1480d32fa00465c8bddb83f644b3215": {
          "model_module": "@jupyter-widgets/controls",
          "model_name": "HTMLModel",
          "model_module_version": "1.5.0",
          "state": {
            "_dom_classes": [],
            "_model_module": "@jupyter-widgets/controls",
            "_model_module_version": "1.5.0",
            "_model_name": "HTMLModel",
            "_view_count": null,
            "_view_module": "@jupyter-widgets/controls",
            "_view_module_version": "1.5.0",
            "_view_name": "HTMLView",
            "description": "",
            "description_tooltip": null,
            "layout": "IPY_MODEL_f0eb55816ec9408cb6f9ca840aad9839",
            "placeholder": "​",
            "style": "IPY_MODEL_0ca08c1cf4784ce89502568eb1403418",
            "value": "Downloading: 100%"
          }
        },
        "1f469aee07b2471b97aee0991e0d78bd": {
          "model_module": "@jupyter-widgets/controls",
          "model_name": "FloatProgressModel",
          "model_module_version": "1.5.0",
          "state": {
            "_dom_classes": [],
            "_model_module": "@jupyter-widgets/controls",
            "_model_module_version": "1.5.0",
            "_model_name": "FloatProgressModel",
            "_view_count": null,
            "_view_module": "@jupyter-widgets/controls",
            "_view_module_version": "1.5.0",
            "_view_name": "ProgressView",
            "bar_style": "success",
            "description": "",
            "description_tooltip": null,
            "layout": "IPY_MODEL_5c893d3b5218431db24c0b6ff84c904c",
            "max": 28,
            "min": 0,
            "orientation": "horizontal",
            "style": "IPY_MODEL_9f62ba62caf54954b820765dd273a438",
            "value": 28
          }
        },
        "ddcc17483cb64a97a296ddf3c224a4f7": {
          "model_module": "@jupyter-widgets/controls",
          "model_name": "HTMLModel",
          "model_module_version": "1.5.0",
          "state": {
            "_dom_classes": [],
            "_model_module": "@jupyter-widgets/controls",
            "_model_module_version": "1.5.0",
            "_model_name": "HTMLModel",
            "_view_count": null,
            "_view_module": "@jupyter-widgets/controls",
            "_view_module_version": "1.5.0",
            "_view_name": "HTMLView",
            "description": "",
            "description_tooltip": null,
            "layout": "IPY_MODEL_e062e6be04e448ee8d001273506e41d3",
            "placeholder": "​",
            "style": "IPY_MODEL_146aa819c8ac4fe1bc53a9cd278904ba",
            "value": " 28.0/28.0 [00:00&lt;00:00, 680B/s]"
          }
        },
        "dea33ac799184fdcab9fb3d40fe84c3f": {
          "model_module": "@jupyter-widgets/base",
          "model_name": "LayoutModel",
          "model_module_version": "1.2.0",
          "state": {
            "_model_module": "@jupyter-widgets/base",
            "_model_module_version": "1.2.0",
            "_model_name": "LayoutModel",
            "_view_count": null,
            "_view_module": "@jupyter-widgets/base",
            "_view_module_version": "1.2.0",
            "_view_name": "LayoutView",
            "align_content": null,
            "align_items": null,
            "align_self": null,
            "border": null,
            "bottom": null,
            "display": null,
            "flex": null,
            "flex_flow": null,
            "grid_area": null,
            "grid_auto_columns": null,
            "grid_auto_flow": null,
            "grid_auto_rows": null,
            "grid_column": null,
            "grid_gap": null,
            "grid_row": null,
            "grid_template_areas": null,
            "grid_template_columns": null,
            "grid_template_rows": null,
            "height": null,
            "justify_content": null,
            "justify_items": null,
            "left": null,
            "margin": null,
            "max_height": null,
            "max_width": null,
            "min_height": null,
            "min_width": null,
            "object_fit": null,
            "object_position": null,
            "order": null,
            "overflow": null,
            "overflow_x": null,
            "overflow_y": null,
            "padding": null,
            "right": null,
            "top": null,
            "visibility": null,
            "width": null
          }
        },
        "f0eb55816ec9408cb6f9ca840aad9839": {
          "model_module": "@jupyter-widgets/base",
          "model_name": "LayoutModel",
          "model_module_version": "1.2.0",
          "state": {
            "_model_module": "@jupyter-widgets/base",
            "_model_module_version": "1.2.0",
            "_model_name": "LayoutModel",
            "_view_count": null,
            "_view_module": "@jupyter-widgets/base",
            "_view_module_version": "1.2.0",
            "_view_name": "LayoutView",
            "align_content": null,
            "align_items": null,
            "align_self": null,
            "border": null,
            "bottom": null,
            "display": null,
            "flex": null,
            "flex_flow": null,
            "grid_area": null,
            "grid_auto_columns": null,
            "grid_auto_flow": null,
            "grid_auto_rows": null,
            "grid_column": null,
            "grid_gap": null,
            "grid_row": null,
            "grid_template_areas": null,
            "grid_template_columns": null,
            "grid_template_rows": null,
            "height": null,
            "justify_content": null,
            "justify_items": null,
            "left": null,
            "margin": null,
            "max_height": null,
            "max_width": null,
            "min_height": null,
            "min_width": null,
            "object_fit": null,
            "object_position": null,
            "order": null,
            "overflow": null,
            "overflow_x": null,
            "overflow_y": null,
            "padding": null,
            "right": null,
            "top": null,
            "visibility": null,
            "width": null
          }
        },
        "0ca08c1cf4784ce89502568eb1403418": {
          "model_module": "@jupyter-widgets/controls",
          "model_name": "DescriptionStyleModel",
          "model_module_version": "1.5.0",
          "state": {
            "_model_module": "@jupyter-widgets/controls",
            "_model_module_version": "1.5.0",
            "_model_name": "DescriptionStyleModel",
            "_view_count": null,
            "_view_module": "@jupyter-widgets/base",
            "_view_module_version": "1.2.0",
            "_view_name": "StyleView",
            "description_width": ""
          }
        },
        "5c893d3b5218431db24c0b6ff84c904c": {
          "model_module": "@jupyter-widgets/base",
          "model_name": "LayoutModel",
          "model_module_version": "1.2.0",
          "state": {
            "_model_module": "@jupyter-widgets/base",
            "_model_module_version": "1.2.0",
            "_model_name": "LayoutModel",
            "_view_count": null,
            "_view_module": "@jupyter-widgets/base",
            "_view_module_version": "1.2.0",
            "_view_name": "LayoutView",
            "align_content": null,
            "align_items": null,
            "align_self": null,
            "border": null,
            "bottom": null,
            "display": null,
            "flex": null,
            "flex_flow": null,
            "grid_area": null,
            "grid_auto_columns": null,
            "grid_auto_flow": null,
            "grid_auto_rows": null,
            "grid_column": null,
            "grid_gap": null,
            "grid_row": null,
            "grid_template_areas": null,
            "grid_template_columns": null,
            "grid_template_rows": null,
            "height": null,
            "justify_content": null,
            "justify_items": null,
            "left": null,
            "margin": null,
            "max_height": null,
            "max_width": null,
            "min_height": null,
            "min_width": null,
            "object_fit": null,
            "object_position": null,
            "order": null,
            "overflow": null,
            "overflow_x": null,
            "overflow_y": null,
            "padding": null,
            "right": null,
            "top": null,
            "visibility": null,
            "width": null
          }
        },
        "9f62ba62caf54954b820765dd273a438": {
          "model_module": "@jupyter-widgets/controls",
          "model_name": "ProgressStyleModel",
          "model_module_version": "1.5.0",
          "state": {
            "_model_module": "@jupyter-widgets/controls",
            "_model_module_version": "1.5.0",
            "_model_name": "ProgressStyleModel",
            "_view_count": null,
            "_view_module": "@jupyter-widgets/base",
            "_view_module_version": "1.2.0",
            "_view_name": "StyleView",
            "bar_color": null,
            "description_width": ""
          }
        },
        "e062e6be04e448ee8d001273506e41d3": {
          "model_module": "@jupyter-widgets/base",
          "model_name": "LayoutModel",
          "model_module_version": "1.2.0",
          "state": {
            "_model_module": "@jupyter-widgets/base",
            "_model_module_version": "1.2.0",
            "_model_name": "LayoutModel",
            "_view_count": null,
            "_view_module": "@jupyter-widgets/base",
            "_view_module_version": "1.2.0",
            "_view_name": "LayoutView",
            "align_content": null,
            "align_items": null,
            "align_self": null,
            "border": null,
            "bottom": null,
            "display": null,
            "flex": null,
            "flex_flow": null,
            "grid_area": null,
            "grid_auto_columns": null,
            "grid_auto_flow": null,
            "grid_auto_rows": null,
            "grid_column": null,
            "grid_gap": null,
            "grid_row": null,
            "grid_template_areas": null,
            "grid_template_columns": null,
            "grid_template_rows": null,
            "height": null,
            "justify_content": null,
            "justify_items": null,
            "left": null,
            "margin": null,
            "max_height": null,
            "max_width": null,
            "min_height": null,
            "min_width": null,
            "object_fit": null,
            "object_position": null,
            "order": null,
            "overflow": null,
            "overflow_x": null,
            "overflow_y": null,
            "padding": null,
            "right": null,
            "top": null,
            "visibility": null,
            "width": null
          }
        },
        "146aa819c8ac4fe1bc53a9cd278904ba": {
          "model_module": "@jupyter-widgets/controls",
          "model_name": "DescriptionStyleModel",
          "model_module_version": "1.5.0",
          "state": {
            "_model_module": "@jupyter-widgets/controls",
            "_model_module_version": "1.5.0",
            "_model_name": "DescriptionStyleModel",
            "_view_count": null,
            "_view_module": "@jupyter-widgets/base",
            "_view_module_version": "1.2.0",
            "_view_name": "StyleView",
            "description_width": ""
          }
        },
        "603c801ad9424989b04f35de9ab494a9": {
          "model_module": "@jupyter-widgets/controls",
          "model_name": "HBoxModel",
          "model_module_version": "1.5.0",
          "state": {
            "_dom_classes": [],
            "_model_module": "@jupyter-widgets/controls",
            "_model_module_version": "1.5.0",
            "_model_name": "HBoxModel",
            "_view_count": null,
            "_view_module": "@jupyter-widgets/controls",
            "_view_module_version": "1.5.0",
            "_view_name": "HBoxView",
            "box_style": "",
            "children": [
              "IPY_MODEL_d1d97068eb02416dbf6b64a28ffb12d7",
              "IPY_MODEL_c09688ff702b44baa265a3e793228eed",
              "IPY_MODEL_a0988c2bec394c01bd6331b9dad3fc05"
            ],
            "layout": "IPY_MODEL_ea138299251447388ab0d962cf35d209"
          }
        },
        "d1d97068eb02416dbf6b64a28ffb12d7": {
          "model_module": "@jupyter-widgets/controls",
          "model_name": "HTMLModel",
          "model_module_version": "1.5.0",
          "state": {
            "_dom_classes": [],
            "_model_module": "@jupyter-widgets/controls",
            "_model_module_version": "1.5.0",
            "_model_name": "HTMLModel",
            "_view_count": null,
            "_view_module": "@jupyter-widgets/controls",
            "_view_module_version": "1.5.0",
            "_view_name": "HTMLView",
            "description": "",
            "description_tooltip": null,
            "layout": "IPY_MODEL_ca07105b976442fb8d1235c4b883abfb",
            "placeholder": "​",
            "style": "IPY_MODEL_d586db80c31b4c04a1900136fff5b820",
            "value": "Downloading: 100%"
          }
        },
        "c09688ff702b44baa265a3e793228eed": {
          "model_module": "@jupyter-widgets/controls",
          "model_name": "FloatProgressModel",
          "model_module_version": "1.5.0",
          "state": {
            "_dom_classes": [],
            "_model_module": "@jupyter-widgets/controls",
            "_model_module_version": "1.5.0",
            "_model_name": "FloatProgressModel",
            "_view_count": null,
            "_view_module": "@jupyter-widgets/controls",
            "_view_module_version": "1.5.0",
            "_view_name": "ProgressView",
            "bar_style": "success",
            "description": "",
            "description_tooltip": null,
            "layout": "IPY_MODEL_812bb17715ba42518f8bf6b144e0161d",
            "max": 625,
            "min": 0,
            "orientation": "horizontal",
            "style": "IPY_MODEL_45feca53360f44c793701f0629fe71dd",
            "value": 625
          }
        },
        "a0988c2bec394c01bd6331b9dad3fc05": {
          "model_module": "@jupyter-widgets/controls",
          "model_name": "HTMLModel",
          "model_module_version": "1.5.0",
          "state": {
            "_dom_classes": [],
            "_model_module": "@jupyter-widgets/controls",
            "_model_module_version": "1.5.0",
            "_model_name": "HTMLModel",
            "_view_count": null,
            "_view_module": "@jupyter-widgets/controls",
            "_view_module_version": "1.5.0",
            "_view_name": "HTMLView",
            "description": "",
            "description_tooltip": null,
            "layout": "IPY_MODEL_58681fa8aafe41879c7674aab431f8bf",
            "placeholder": "​",
            "style": "IPY_MODEL_8e246a34428b44a5957ac3ea1594ee58",
            "value": " 625/625 [00:00&lt;00:00, 15.6kB/s]"
          }
        },
        "ea138299251447388ab0d962cf35d209": {
          "model_module": "@jupyter-widgets/base",
          "model_name": "LayoutModel",
          "model_module_version": "1.2.0",
          "state": {
            "_model_module": "@jupyter-widgets/base",
            "_model_module_version": "1.2.0",
            "_model_name": "LayoutModel",
            "_view_count": null,
            "_view_module": "@jupyter-widgets/base",
            "_view_module_version": "1.2.0",
            "_view_name": "LayoutView",
            "align_content": null,
            "align_items": null,
            "align_self": null,
            "border": null,
            "bottom": null,
            "display": null,
            "flex": null,
            "flex_flow": null,
            "grid_area": null,
            "grid_auto_columns": null,
            "grid_auto_flow": null,
            "grid_auto_rows": null,
            "grid_column": null,
            "grid_gap": null,
            "grid_row": null,
            "grid_template_areas": null,
            "grid_template_columns": null,
            "grid_template_rows": null,
            "height": null,
            "justify_content": null,
            "justify_items": null,
            "left": null,
            "margin": null,
            "max_height": null,
            "max_width": null,
            "min_height": null,
            "min_width": null,
            "object_fit": null,
            "object_position": null,
            "order": null,
            "overflow": null,
            "overflow_x": null,
            "overflow_y": null,
            "padding": null,
            "right": null,
            "top": null,
            "visibility": null,
            "width": null
          }
        },
        "ca07105b976442fb8d1235c4b883abfb": {
          "model_module": "@jupyter-widgets/base",
          "model_name": "LayoutModel",
          "model_module_version": "1.2.0",
          "state": {
            "_model_module": "@jupyter-widgets/base",
            "_model_module_version": "1.2.0",
            "_model_name": "LayoutModel",
            "_view_count": null,
            "_view_module": "@jupyter-widgets/base",
            "_view_module_version": "1.2.0",
            "_view_name": "LayoutView",
            "align_content": null,
            "align_items": null,
            "align_self": null,
            "border": null,
            "bottom": null,
            "display": null,
            "flex": null,
            "flex_flow": null,
            "grid_area": null,
            "grid_auto_columns": null,
            "grid_auto_flow": null,
            "grid_auto_rows": null,
            "grid_column": null,
            "grid_gap": null,
            "grid_row": null,
            "grid_template_areas": null,
            "grid_template_columns": null,
            "grid_template_rows": null,
            "height": null,
            "justify_content": null,
            "justify_items": null,
            "left": null,
            "margin": null,
            "max_height": null,
            "max_width": null,
            "min_height": null,
            "min_width": null,
            "object_fit": null,
            "object_position": null,
            "order": null,
            "overflow": null,
            "overflow_x": null,
            "overflow_y": null,
            "padding": null,
            "right": null,
            "top": null,
            "visibility": null,
            "width": null
          }
        },
        "d586db80c31b4c04a1900136fff5b820": {
          "model_module": "@jupyter-widgets/controls",
          "model_name": "DescriptionStyleModel",
          "model_module_version": "1.5.0",
          "state": {
            "_model_module": "@jupyter-widgets/controls",
            "_model_module_version": "1.5.0",
            "_model_name": "DescriptionStyleModel",
            "_view_count": null,
            "_view_module": "@jupyter-widgets/base",
            "_view_module_version": "1.2.0",
            "_view_name": "StyleView",
            "description_width": ""
          }
        },
        "812bb17715ba42518f8bf6b144e0161d": {
          "model_module": "@jupyter-widgets/base",
          "model_name": "LayoutModel",
          "model_module_version": "1.2.0",
          "state": {
            "_model_module": "@jupyter-widgets/base",
            "_model_module_version": "1.2.0",
            "_model_name": "LayoutModel",
            "_view_count": null,
            "_view_module": "@jupyter-widgets/base",
            "_view_module_version": "1.2.0",
            "_view_name": "LayoutView",
            "align_content": null,
            "align_items": null,
            "align_self": null,
            "border": null,
            "bottom": null,
            "display": null,
            "flex": null,
            "flex_flow": null,
            "grid_area": null,
            "grid_auto_columns": null,
            "grid_auto_flow": null,
            "grid_auto_rows": null,
            "grid_column": null,
            "grid_gap": null,
            "grid_row": null,
            "grid_template_areas": null,
            "grid_template_columns": null,
            "grid_template_rows": null,
            "height": null,
            "justify_content": null,
            "justify_items": null,
            "left": null,
            "margin": null,
            "max_height": null,
            "max_width": null,
            "min_height": null,
            "min_width": null,
            "object_fit": null,
            "object_position": null,
            "order": null,
            "overflow": null,
            "overflow_x": null,
            "overflow_y": null,
            "padding": null,
            "right": null,
            "top": null,
            "visibility": null,
            "width": null
          }
        },
        "45feca53360f44c793701f0629fe71dd": {
          "model_module": "@jupyter-widgets/controls",
          "model_name": "ProgressStyleModel",
          "model_module_version": "1.5.0",
          "state": {
            "_model_module": "@jupyter-widgets/controls",
            "_model_module_version": "1.5.0",
            "_model_name": "ProgressStyleModel",
            "_view_count": null,
            "_view_module": "@jupyter-widgets/base",
            "_view_module_version": "1.2.0",
            "_view_name": "StyleView",
            "bar_color": null,
            "description_width": ""
          }
        },
        "58681fa8aafe41879c7674aab431f8bf": {
          "model_module": "@jupyter-widgets/base",
          "model_name": "LayoutModel",
          "model_module_version": "1.2.0",
          "state": {
            "_model_module": "@jupyter-widgets/base",
            "_model_module_version": "1.2.0",
            "_model_name": "LayoutModel",
            "_view_count": null,
            "_view_module": "@jupyter-widgets/base",
            "_view_module_version": "1.2.0",
            "_view_name": "LayoutView",
            "align_content": null,
            "align_items": null,
            "align_self": null,
            "border": null,
            "bottom": null,
            "display": null,
            "flex": null,
            "flex_flow": null,
            "grid_area": null,
            "grid_auto_columns": null,
            "grid_auto_flow": null,
            "grid_auto_rows": null,
            "grid_column": null,
            "grid_gap": null,
            "grid_row": null,
            "grid_template_areas": null,
            "grid_template_columns": null,
            "grid_template_rows": null,
            "height": null,
            "justify_content": null,
            "justify_items": null,
            "left": null,
            "margin": null,
            "max_height": null,
            "max_width": null,
            "min_height": null,
            "min_width": null,
            "object_fit": null,
            "object_position": null,
            "order": null,
            "overflow": null,
            "overflow_x": null,
            "overflow_y": null,
            "padding": null,
            "right": null,
            "top": null,
            "visibility": null,
            "width": null
          }
        },
        "8e246a34428b44a5957ac3ea1594ee58": {
          "model_module": "@jupyter-widgets/controls",
          "model_name": "DescriptionStyleModel",
          "model_module_version": "1.5.0",
          "state": {
            "_model_module": "@jupyter-widgets/controls",
            "_model_module_version": "1.5.0",
            "_model_name": "DescriptionStyleModel",
            "_view_count": null,
            "_view_module": "@jupyter-widgets/base",
            "_view_module_version": "1.2.0",
            "_view_name": "StyleView",
            "description_width": ""
          }
        },
        "122fcd90e90a4f5aa1bf1b6588d9d430": {
          "model_module": "@jupyter-widgets/controls",
          "model_name": "HBoxModel",
          "model_module_version": "1.5.0",
          "state": {
            "_dom_classes": [],
            "_model_module": "@jupyter-widgets/controls",
            "_model_module_version": "1.5.0",
            "_model_name": "HBoxModel",
            "_view_count": null,
            "_view_module": "@jupyter-widgets/controls",
            "_view_module_version": "1.5.0",
            "_view_name": "HBoxView",
            "box_style": "",
            "children": [
              "IPY_MODEL_915e988531f849889ec898029d2f53ed",
              "IPY_MODEL_db265572b4a9425a94cb2202bc552e85",
              "IPY_MODEL_177c47a9bb9a493ab0d2b4cc47ef9264"
            ],
            "layout": "IPY_MODEL_8d85f336426a416b9b06b9b02884874d"
          }
        },
        "915e988531f849889ec898029d2f53ed": {
          "model_module": "@jupyter-widgets/controls",
          "model_name": "HTMLModel",
          "model_module_version": "1.5.0",
          "state": {
            "_dom_classes": [],
            "_model_module": "@jupyter-widgets/controls",
            "_model_module_version": "1.5.0",
            "_model_name": "HTMLModel",
            "_view_count": null,
            "_view_module": "@jupyter-widgets/controls",
            "_view_module_version": "1.5.0",
            "_view_name": "HTMLView",
            "description": "",
            "description_tooltip": null,
            "layout": "IPY_MODEL_03afeb70682e4bd2bb35e2f5366ed47b",
            "placeholder": "​",
            "style": "IPY_MODEL_cc2f191a907b4785ac311d349d267e23",
            "value": "Downloading: 100%"
          }
        },
        "db265572b4a9425a94cb2202bc552e85": {
          "model_module": "@jupyter-widgets/controls",
          "model_name": "FloatProgressModel",
          "model_module_version": "1.5.0",
          "state": {
            "_dom_classes": [],
            "_model_module": "@jupyter-widgets/controls",
            "_model_module_version": "1.5.0",
            "_model_name": "FloatProgressModel",
            "_view_count": null,
            "_view_module": "@jupyter-widgets/controls",
            "_view_module_version": "1.5.0",
            "_view_name": "ProgressView",
            "bar_style": "success",
            "description": "",
            "description_tooltip": null,
            "layout": "IPY_MODEL_8aed2c6b92df4aea8a539743ad430828",
            "max": 999358484,
            "min": 0,
            "orientation": "horizontal",
            "style": "IPY_MODEL_107bdc00f3ed41558a84cbd16f8005a5",
            "value": 999358484
          }
        },
        "177c47a9bb9a493ab0d2b4cc47ef9264": {
          "model_module": "@jupyter-widgets/controls",
          "model_name": "HTMLModel",
          "model_module_version": "1.5.0",
          "state": {
            "_dom_classes": [],
            "_model_module": "@jupyter-widgets/controls",
            "_model_module_version": "1.5.0",
            "_model_name": "HTMLModel",
            "_view_count": null,
            "_view_module": "@jupyter-widgets/controls",
            "_view_module_version": "1.5.0",
            "_view_name": "HTMLView",
            "description": "",
            "description_tooltip": null,
            "layout": "IPY_MODEL_6dac691cdfe04fecb16dbc9ce023828b",
            "placeholder": "​",
            "style": "IPY_MODEL_285aa0f4098347a8ab17c3081a9d8d6f",
            "value": " 953M/953M [00:59&lt;00:00, 34.9MB/s]"
          }
        },
        "8d85f336426a416b9b06b9b02884874d": {
          "model_module": "@jupyter-widgets/base",
          "model_name": "LayoutModel",
          "model_module_version": "1.2.0",
          "state": {
            "_model_module": "@jupyter-widgets/base",
            "_model_module_version": "1.2.0",
            "_model_name": "LayoutModel",
            "_view_count": null,
            "_view_module": "@jupyter-widgets/base",
            "_view_module_version": "1.2.0",
            "_view_name": "LayoutView",
            "align_content": null,
            "align_items": null,
            "align_self": null,
            "border": null,
            "bottom": null,
            "display": null,
            "flex": null,
            "flex_flow": null,
            "grid_area": null,
            "grid_auto_columns": null,
            "grid_auto_flow": null,
            "grid_auto_rows": null,
            "grid_column": null,
            "grid_gap": null,
            "grid_row": null,
            "grid_template_areas": null,
            "grid_template_columns": null,
            "grid_template_rows": null,
            "height": null,
            "justify_content": null,
            "justify_items": null,
            "left": null,
            "margin": null,
            "max_height": null,
            "max_width": null,
            "min_height": null,
            "min_width": null,
            "object_fit": null,
            "object_position": null,
            "order": null,
            "overflow": null,
            "overflow_x": null,
            "overflow_y": null,
            "padding": null,
            "right": null,
            "top": null,
            "visibility": null,
            "width": null
          }
        },
        "03afeb70682e4bd2bb35e2f5366ed47b": {
          "model_module": "@jupyter-widgets/base",
          "model_name": "LayoutModel",
          "model_module_version": "1.2.0",
          "state": {
            "_model_module": "@jupyter-widgets/base",
            "_model_module_version": "1.2.0",
            "_model_name": "LayoutModel",
            "_view_count": null,
            "_view_module": "@jupyter-widgets/base",
            "_view_module_version": "1.2.0",
            "_view_name": "LayoutView",
            "align_content": null,
            "align_items": null,
            "align_self": null,
            "border": null,
            "bottom": null,
            "display": null,
            "flex": null,
            "flex_flow": null,
            "grid_area": null,
            "grid_auto_columns": null,
            "grid_auto_flow": null,
            "grid_auto_rows": null,
            "grid_column": null,
            "grid_gap": null,
            "grid_row": null,
            "grid_template_areas": null,
            "grid_template_columns": null,
            "grid_template_rows": null,
            "height": null,
            "justify_content": null,
            "justify_items": null,
            "left": null,
            "margin": null,
            "max_height": null,
            "max_width": null,
            "min_height": null,
            "min_width": null,
            "object_fit": null,
            "object_position": null,
            "order": null,
            "overflow": null,
            "overflow_x": null,
            "overflow_y": null,
            "padding": null,
            "right": null,
            "top": null,
            "visibility": null,
            "width": null
          }
        },
        "cc2f191a907b4785ac311d349d267e23": {
          "model_module": "@jupyter-widgets/controls",
          "model_name": "DescriptionStyleModel",
          "model_module_version": "1.5.0",
          "state": {
            "_model_module": "@jupyter-widgets/controls",
            "_model_module_version": "1.5.0",
            "_model_name": "DescriptionStyleModel",
            "_view_count": null,
            "_view_module": "@jupyter-widgets/base",
            "_view_module_version": "1.2.0",
            "_view_name": "StyleView",
            "description_width": ""
          }
        },
        "8aed2c6b92df4aea8a539743ad430828": {
          "model_module": "@jupyter-widgets/base",
          "model_name": "LayoutModel",
          "model_module_version": "1.2.0",
          "state": {
            "_model_module": "@jupyter-widgets/base",
            "_model_module_version": "1.2.0",
            "_model_name": "LayoutModel",
            "_view_count": null,
            "_view_module": "@jupyter-widgets/base",
            "_view_module_version": "1.2.0",
            "_view_name": "LayoutView",
            "align_content": null,
            "align_items": null,
            "align_self": null,
            "border": null,
            "bottom": null,
            "display": null,
            "flex": null,
            "flex_flow": null,
            "grid_area": null,
            "grid_auto_columns": null,
            "grid_auto_flow": null,
            "grid_auto_rows": null,
            "grid_column": null,
            "grid_gap": null,
            "grid_row": null,
            "grid_template_areas": null,
            "grid_template_columns": null,
            "grid_template_rows": null,
            "height": null,
            "justify_content": null,
            "justify_items": null,
            "left": null,
            "margin": null,
            "max_height": null,
            "max_width": null,
            "min_height": null,
            "min_width": null,
            "object_fit": null,
            "object_position": null,
            "order": null,
            "overflow": null,
            "overflow_x": null,
            "overflow_y": null,
            "padding": null,
            "right": null,
            "top": null,
            "visibility": null,
            "width": null
          }
        },
        "107bdc00f3ed41558a84cbd16f8005a5": {
          "model_module": "@jupyter-widgets/controls",
          "model_name": "ProgressStyleModel",
          "model_module_version": "1.5.0",
          "state": {
            "_model_module": "@jupyter-widgets/controls",
            "_model_module_version": "1.5.0",
            "_model_name": "ProgressStyleModel",
            "_view_count": null,
            "_view_module": "@jupyter-widgets/base",
            "_view_module_version": "1.2.0",
            "_view_name": "StyleView",
            "bar_color": null,
            "description_width": ""
          }
        },
        "6dac691cdfe04fecb16dbc9ce023828b": {
          "model_module": "@jupyter-widgets/base",
          "model_name": "LayoutModel",
          "model_module_version": "1.2.0",
          "state": {
            "_model_module": "@jupyter-widgets/base",
            "_model_module_version": "1.2.0",
            "_model_name": "LayoutModel",
            "_view_count": null,
            "_view_module": "@jupyter-widgets/base",
            "_view_module_version": "1.2.0",
            "_view_name": "LayoutView",
            "align_content": null,
            "align_items": null,
            "align_self": null,
            "border": null,
            "bottom": null,
            "display": null,
            "flex": null,
            "flex_flow": null,
            "grid_area": null,
            "grid_auto_columns": null,
            "grid_auto_flow": null,
            "grid_auto_rows": null,
            "grid_column": null,
            "grid_gap": null,
            "grid_row": null,
            "grid_template_areas": null,
            "grid_template_columns": null,
            "grid_template_rows": null,
            "height": null,
            "justify_content": null,
            "justify_items": null,
            "left": null,
            "margin": null,
            "max_height": null,
            "max_width": null,
            "min_height": null,
            "min_width": null,
            "object_fit": null,
            "object_position": null,
            "order": null,
            "overflow": null,
            "overflow_x": null,
            "overflow_y": null,
            "padding": null,
            "right": null,
            "top": null,
            "visibility": null,
            "width": null
          }
        },
        "285aa0f4098347a8ab17c3081a9d8d6f": {
          "model_module": "@jupyter-widgets/controls",
          "model_name": "DescriptionStyleModel",
          "model_module_version": "1.5.0",
          "state": {
            "_model_module": "@jupyter-widgets/controls",
            "_model_module_version": "1.5.0",
            "_model_name": "DescriptionStyleModel",
            "_view_count": null,
            "_view_module": "@jupyter-widgets/base",
            "_view_module_version": "1.2.0",
            "_view_name": "StyleView",
            "description_width": ""
          }
        }
      }
    }
  },
  "cells": [
    {
      "cell_type": "markdown",
      "metadata": {
        "id": "view-in-github",
        "colab_type": "text"
      },
      "source": [
        "<a href=\"https://colab.research.google.com/github/kb10241024/BTP_2k22/blob/main/New_BTP_NER_13_03_2022.ipynb\" target=\"_parent\"><img src=\"https://colab.research.google.com/assets/colab-badge.svg\" alt=\"Open In Colab\"/></a>"
      ]
    },
    {
      "cell_type": "markdown",
      "source": [
        "### Installing req packages"
      ],
      "metadata": {
        "id": "vnQgX_ijs1BM"
      }
    },
    {
      "cell_type": "code",
      "metadata": {
        "id": "ZnrDJSU1g2j9",
        "colab": {
          "base_uri": "https://localhost:8080/"
        },
        "outputId": "5afbb3c9-2a69-487e-944f-f6bfe509926f"
      },
      "source": [
        "!pip install conllu"
      ],
      "execution_count": 1,
      "outputs": [
        {
          "output_type": "stream",
          "name": "stdout",
          "text": [
            "Collecting conllu\n",
            "  Downloading conllu-4.4.1-py2.py3-none-any.whl (15 kB)\n",
            "Installing collected packages: conllu\n",
            "Successfully installed conllu-4.4.1\n"
          ]
        }
      ]
    },
    {
      "cell_type": "code",
      "source": [
        "!pip install indic-transliteration"
      ],
      "metadata": {
        "id": "IcxIn3sO14Yq",
        "colab": {
          "base_uri": "https://localhost:8080/"
        },
        "outputId": "918273b4-eba1-4874-aa1e-2f7989d6ba3f"
      },
      "execution_count": 2,
      "outputs": [
        {
          "output_type": "stream",
          "name": "stdout",
          "text": [
            "Collecting indic-transliteration\n",
            "  Downloading indic_transliteration-2.3.25-py3-none-any.whl (132 kB)\n",
            "\u001b[?25l\r\u001b[K     |██▌                             | 10 kB 17.7 MB/s eta 0:00:01\r\u001b[K     |█████                           | 20 kB 11.6 MB/s eta 0:00:01\r\u001b[K     |███████▍                        | 30 kB 9.4 MB/s eta 0:00:01\r\u001b[K     |██████████                      | 40 kB 8.4 MB/s eta 0:00:01\r\u001b[K     |████████████▍                   | 51 kB 4.4 MB/s eta 0:00:01\r\u001b[K     |██████████████▉                 | 61 kB 5.2 MB/s eta 0:00:01\r\u001b[K     |█████████████████▎              | 71 kB 5.6 MB/s eta 0:00:01\r\u001b[K     |███████████████████▉            | 81 kB 5.8 MB/s eta 0:00:01\r\u001b[K     |██████████████████████▎         | 92 kB 6.5 MB/s eta 0:00:01\r\u001b[K     |████████████████████████▊       | 102 kB 5.4 MB/s eta 0:00:01\r\u001b[K     |███████████████████████████▎    | 112 kB 5.4 MB/s eta 0:00:01\r\u001b[K     |█████████████████████████████▊  | 122 kB 5.4 MB/s eta 0:00:01\r\u001b[K     |████████████████████████████████| 132 kB 5.4 MB/s \n",
            "\u001b[?25hCollecting toml\n",
            "  Downloading toml-0.10.2-py2.py3-none-any.whl (16 kB)\n",
            "Collecting selenium\n",
            "  Downloading selenium-4.1.3-py3-none-any.whl (968 kB)\n",
            "\u001b[K     |████████████████████████████████| 968 kB 16.7 MB/s \n",
            "\u001b[?25hRequirement already satisfied: regex in /usr/local/lib/python3.7/dist-packages (from indic-transliteration) (2019.12.20)\n",
            "Collecting backports.functools-lru-cache\n",
            "  Downloading backports.functools_lru_cache-1.6.4-py2.py3-none-any.whl (5.9 kB)\n",
            "Collecting typer\n",
            "  Downloading typer-0.4.0-py3-none-any.whl (27 kB)\n",
            "Collecting roman\n",
            "  Downloading roman-3.3-py2.py3-none-any.whl (3.9 kB)\n",
            "Collecting trio-websocket~=0.9\n",
            "  Downloading trio_websocket-0.9.2-py3-none-any.whl (16 kB)\n",
            "Collecting trio~=0.17\n",
            "  Downloading trio-0.20.0-py3-none-any.whl (359 kB)\n",
            "\u001b[K     |████████████████████████████████| 359 kB 46.4 MB/s \n",
            "\u001b[?25hCollecting urllib3[secure,socks]~=1.26\n",
            "  Downloading urllib3-1.26.9-py2.py3-none-any.whl (138 kB)\n",
            "\u001b[K     |████████████████████████████████| 138 kB 43.2 MB/s \n",
            "\u001b[?25hCollecting outcome\n",
            "  Downloading outcome-1.1.0-py2.py3-none-any.whl (9.7 kB)\n",
            "Requirement already satisfied: attrs>=19.2.0 in /usr/local/lib/python3.7/dist-packages (from trio~=0.17->selenium->indic-transliteration) (21.4.0)\n",
            "Requirement already satisfied: sortedcontainers in /usr/local/lib/python3.7/dist-packages (from trio~=0.17->selenium->indic-transliteration) (2.4.0)\n",
            "Collecting sniffio\n",
            "  Downloading sniffio-1.2.0-py3-none-any.whl (10 kB)\n",
            "Requirement already satisfied: idna in /usr/local/lib/python3.7/dist-packages (from trio~=0.17->selenium->indic-transliteration) (2.10)\n",
            "Collecting async-generator>=1.9\n",
            "  Downloading async_generator-1.10-py3-none-any.whl (18 kB)\n",
            "Collecting wsproto>=0.14\n",
            "  Downloading wsproto-1.1.0-py3-none-any.whl (24 kB)\n",
            "Collecting cryptography>=1.3.4\n",
            "  Downloading cryptography-36.0.2-cp36-abi3-manylinux_2_24_x86_64.whl (3.6 MB)\n",
            "\u001b[K     |████████████████████████████████| 3.6 MB 30.4 MB/s \n",
            "\u001b[?25hRequirement already satisfied: certifi in /usr/local/lib/python3.7/dist-packages (from urllib3[secure,socks]~=1.26->selenium->indic-transliteration) (2021.10.8)\n",
            "Collecting pyOpenSSL>=0.14\n",
            "  Downloading pyOpenSSL-22.0.0-py2.py3-none-any.whl (55 kB)\n",
            "\u001b[K     |████████████████████████████████| 55 kB 3.7 MB/s \n",
            "\u001b[?25hRequirement already satisfied: PySocks!=1.5.7,<2.0,>=1.5.6 in /usr/local/lib/python3.7/dist-packages (from urllib3[secure,socks]~=1.26->selenium->indic-transliteration) (1.7.1)\n",
            "Requirement already satisfied: cffi>=1.12 in /usr/local/lib/python3.7/dist-packages (from cryptography>=1.3.4->urllib3[secure,socks]~=1.26->selenium->indic-transliteration) (1.15.0)\n",
            "Requirement already satisfied: pycparser in /usr/local/lib/python3.7/dist-packages (from cffi>=1.12->cryptography>=1.3.4->urllib3[secure,socks]~=1.26->selenium->indic-transliteration) (2.21)\n",
            "Collecting h11<1,>=0.9.0\n",
            "  Downloading h11-0.13.0-py3-none-any.whl (58 kB)\n",
            "\u001b[K     |████████████████████████████████| 58 kB 5.5 MB/s \n",
            "\u001b[?25hRequirement already satisfied: typing-extensions in /usr/local/lib/python3.7/dist-packages (from h11<1,>=0.9.0->wsproto>=0.14->trio-websocket~=0.9->selenium->indic-transliteration) (3.10.0.2)\n",
            "Requirement already satisfied: click<9.0.0,>=7.1.1 in /usr/local/lib/python3.7/dist-packages (from typer->indic-transliteration) (7.1.2)\n",
            "Installing collected packages: sniffio, outcome, h11, cryptography, async-generator, wsproto, urllib3, trio, pyOpenSSL, trio-websocket, typer, toml, selenium, roman, backports.functools-lru-cache, indic-transliteration\n",
            "  Attempting uninstall: urllib3\n",
            "    Found existing installation: urllib3 1.24.3\n",
            "    Uninstalling urllib3-1.24.3:\n",
            "      Successfully uninstalled urllib3-1.24.3\n",
            "\u001b[31mERROR: pip's dependency resolver does not currently take into account all the packages that are installed. This behaviour is the source of the following dependency conflicts.\n",
            "requests 2.23.0 requires urllib3!=1.25.0,!=1.25.1,<1.26,>=1.21.1, but you have urllib3 1.26.9 which is incompatible.\n",
            "datascience 0.10.6 requires folium==0.2.1, but you have folium 0.8.3 which is incompatible.\u001b[0m\n",
            "Successfully installed async-generator-1.10 backports.functools-lru-cache-1.6.4 cryptography-36.0.2 h11-0.13.0 indic-transliteration-2.3.25 outcome-1.1.0 pyOpenSSL-22.0.0 roman-3.3 selenium-4.1.3 sniffio-1.2.0 toml-0.10.2 trio-0.20.0 trio-websocket-0.9.2 typer-0.4.0 urllib3-1.26.9 wsproto-1.1.0\n"
          ]
        }
      ]
    },
    {
      "cell_type": "code",
      "source": [
        "!pip install transformers"
      ],
      "metadata": {
        "id": "z2S7Ieif1xvC",
        "colab": {
          "base_uri": "https://localhost:8080/"
        },
        "outputId": "ae9cc40c-1da9-4957-c65b-3c75746c32ea"
      },
      "execution_count": 3,
      "outputs": [
        {
          "output_type": "stream",
          "name": "stdout",
          "text": [
            "Collecting transformers\n",
            "  Downloading transformers-4.17.0-py3-none-any.whl (3.8 MB)\n",
            "\u001b[K     |████████████████████████████████| 3.8 MB 5.3 MB/s \n",
            "\u001b[?25hRequirement already satisfied: regex!=2019.12.17 in /usr/local/lib/python3.7/dist-packages (from transformers) (2019.12.20)\n",
            "Collecting pyyaml>=5.1\n",
            "  Downloading PyYAML-6.0-cp37-cp37m-manylinux_2_5_x86_64.manylinux1_x86_64.manylinux_2_12_x86_64.manylinux2010_x86_64.whl (596 kB)\n",
            "\u001b[K     |████████████████████████████████| 596 kB 44.6 MB/s \n",
            "\u001b[?25hCollecting huggingface-hub<1.0,>=0.1.0\n",
            "  Downloading huggingface_hub-0.4.0-py3-none-any.whl (67 kB)\n",
            "\u001b[K     |████████████████████████████████| 67 kB 4.6 MB/s \n",
            "\u001b[?25hCollecting tokenizers!=0.11.3,>=0.11.1\n",
            "  Downloading tokenizers-0.11.6-cp37-cp37m-manylinux_2_12_x86_64.manylinux2010_x86_64.whl (6.5 MB)\n",
            "\u001b[K     |████████████████████████████████| 6.5 MB 32.0 MB/s \n",
            "\u001b[?25hRequirement already satisfied: tqdm>=4.27 in /usr/local/lib/python3.7/dist-packages (from transformers) (4.63.0)\n",
            "Requirement already satisfied: requests in /usr/local/lib/python3.7/dist-packages (from transformers) (2.23.0)\n",
            "Collecting sacremoses\n",
            "  Downloading sacremoses-0.0.49-py3-none-any.whl (895 kB)\n",
            "\u001b[K     |████████████████████████████████| 895 kB 46.6 MB/s \n",
            "\u001b[?25hRequirement already satisfied: numpy>=1.17 in /usr/local/lib/python3.7/dist-packages (from transformers) (1.21.5)\n",
            "Requirement already satisfied: importlib-metadata in /usr/local/lib/python3.7/dist-packages (from transformers) (4.11.2)\n",
            "Requirement already satisfied: packaging>=20.0 in /usr/local/lib/python3.7/dist-packages (from transformers) (21.3)\n",
            "Requirement already satisfied: filelock in /usr/local/lib/python3.7/dist-packages (from transformers) (3.6.0)\n",
            "Requirement already satisfied: typing-extensions>=3.7.4.3 in /usr/local/lib/python3.7/dist-packages (from huggingface-hub<1.0,>=0.1.0->transformers) (3.10.0.2)\n",
            "Requirement already satisfied: pyparsing!=3.0.5,>=2.0.2 in /usr/local/lib/python3.7/dist-packages (from packaging>=20.0->transformers) (3.0.7)\n",
            "Requirement already satisfied: zipp>=0.5 in /usr/local/lib/python3.7/dist-packages (from importlib-metadata->transformers) (3.7.0)\n",
            "Collecting urllib3!=1.25.0,!=1.25.1,<1.26,>=1.21.1\n",
            "  Downloading urllib3-1.25.11-py2.py3-none-any.whl (127 kB)\n",
            "\u001b[K     |████████████████████████████████| 127 kB 46.0 MB/s \n",
            "\u001b[?25hRequirement already satisfied: idna<3,>=2.5 in /usr/local/lib/python3.7/dist-packages (from requests->transformers) (2.10)\n",
            "Requirement already satisfied: certifi>=2017.4.17 in /usr/local/lib/python3.7/dist-packages (from requests->transformers) (2021.10.8)\n",
            "Requirement already satisfied: chardet<4,>=3.0.2 in /usr/local/lib/python3.7/dist-packages (from requests->transformers) (3.0.4)\n",
            "Requirement already satisfied: joblib in /usr/local/lib/python3.7/dist-packages (from sacremoses->transformers) (1.1.0)\n",
            "Requirement already satisfied: click in /usr/local/lib/python3.7/dist-packages (from sacremoses->transformers) (7.1.2)\n",
            "Requirement already satisfied: six in /usr/local/lib/python3.7/dist-packages (from sacremoses->transformers) (1.15.0)\n",
            "Installing collected packages: urllib3, pyyaml, tokenizers, sacremoses, huggingface-hub, transformers\n",
            "  Attempting uninstall: urllib3\n",
            "    Found existing installation: urllib3 1.26.9\n",
            "    Uninstalling urllib3-1.26.9:\n",
            "      Successfully uninstalled urllib3-1.26.9\n",
            "  Attempting uninstall: pyyaml\n",
            "    Found existing installation: PyYAML 3.13\n",
            "    Uninstalling PyYAML-3.13:\n",
            "      Successfully uninstalled PyYAML-3.13\n",
            "\u001b[31mERROR: pip's dependency resolver does not currently take into account all the packages that are installed. This behaviour is the source of the following dependency conflicts.\n",
            "selenium 4.1.3 requires urllib3[secure,socks]~=1.26, but you have urllib3 1.25.11 which is incompatible.\n",
            "datascience 0.10.6 requires folium==0.2.1, but you have folium 0.8.3 which is incompatible.\u001b[0m\n",
            "Successfully installed huggingface-hub-0.4.0 pyyaml-6.0 sacremoses-0.0.49 tokenizers-0.11.6 transformers-4.17.0 urllib3-1.25.11\n"
          ]
        }
      ]
    },
    {
      "cell_type": "markdown",
      "source": [
        "### Importing Libraries"
      ],
      "metadata": {
        "id": "3s_rsWltQlF9"
      }
    },
    {
      "cell_type": "code",
      "source": [
        "from collections import Counter\n",
        "import conllu\n",
        "import pandas as pd\n",
        "import numpy as np\n",
        "from tqdm import tqdm, trange\n",
        "import unicodedata\n",
        " \n",
        "from keras.preprocessing.sequence import pad_sequences\n",
        "from tensorflow.keras.utils import to_categorical\n",
        "from keras.models import Model, Input\n",
        "from keras.layers import LSTM, Embedding, Dense\n",
        "from keras.layers import TimeDistributed, Dropout, Bidirectional"
      ],
      "metadata": {
        "id": "PfKviqQoQtRT"
      },
      "execution_count": 4,
      "outputs": []
    },
    {
      "cell_type": "code",
      "source": [
        "# import the module\n",
        "from indic_transliteration import sanscript\n",
        "from indic_transliteration.sanscript import transliterate"
      ],
      "metadata": {
        "id": "Ql-fhWFUQynU"
      },
      "execution_count": 5,
      "outputs": []
    },
    {
      "cell_type": "code",
      "source": [
        "import tensorflow as tf\n",
        "from tensorflow.keras.layers import Dense, Input, Bidirectional, LSTM, Dropout, TimeDistributed\n",
        "from tensorflow.keras.optimizers import Adam,Adagrad\n",
        "from tensorflow.keras.models import Model\n",
        "# from tensorflow.keras.callbacks import ModelCheckpoint\n",
        "\n",
        "import transformers\n",
        "from transformers import TFAutoModel, AutoTokenizer,BertTokenizer,TFBertModel\n",
        "from sklearn.metrics import confusion_matrix,f1_score"
      ],
      "metadata": {
        "id": "X4wPC5AhQkhC"
      },
      "execution_count": 6,
      "outputs": []
    },
    {
      "cell_type": "markdown",
      "metadata": {
        "id": "CcZyyl3aIFPp"
      },
      "source": [
        "## Attatching Drive"
      ]
    },
    {
      "cell_type": "code",
      "metadata": {
        "id": "VpYzhR6uIinA",
        "colab": {
          "base_uri": "https://localhost:8080/"
        },
        "outputId": "724611f3-e4e1-46b0-f6d8-ba97078605d7"
      },
      "source": [
        "from google.colab import drive\n",
        "drive.mount('/content/drive')"
      ],
      "execution_count": 7,
      "outputs": [
        {
          "output_type": "stream",
          "name": "stdout",
          "text": [
            "Mounted at /content/drive\n"
          ]
        }
      ]
    },
    {
      "cell_type": "code",
      "metadata": {
        "id": "a7XyENK0IEuK"
      },
      "source": [
        "path_to_dataset='/content/drive/MyDrive/Acads/4-1/BTP/DATASET'\n",
        "path_to_ner_hineng='/content/drive/MyDrive/Acads/4-1/BTP/DATASET/ner_hineng'"
      ],
      "execution_count": 8,
      "outputs": []
    },
    {
      "cell_type": "markdown",
      "metadata": {
        "id": "YZY-880jVUbQ"
      },
      "source": [
        "## Dataset Preparation"
      ]
    },
    {
      "cell_type": "code",
      "metadata": {
        "id": "bpPWVd2td5wj"
      },
      "source": [
        "# !pip install pyconll\n",
        "# import pyconll\n",
        "# train = pyconll.load.iter_from_file('/content/test.conll')\n",
        "# # print(train)\n",
        "# for sentence in train:\n",
        "#   print(sentence.id)\n",
        "#   for token in sentence:\n",
        "#     print(token)\n",
        "# #   print(sentence)"
      ],
      "execution_count": 9,
      "outputs": []
    },
    {
      "cell_type": "code",
      "metadata": {
        "id": "3goC7slM6VYH"
      },
      "source": [
        "data=open('/content/drive/MyDrive/Acads/4-1/BTP/DATASET/ner_hineng/train.conll',mode='r',encoding='utf-8')\n",
        "annotations=data.read()\n",
        "# print(type(annotations))\n",
        "# print(annotations[:100])"
      ],
      "execution_count": 10,
      "outputs": []
    },
    {
      "cell_type": "markdown",
      "source": [
        "### Another DS"
      ],
      "metadata": {
        "id": "d31gnG_dtQDO"
      }
    },
    {
      "cell_type": "code",
      "source": [
        "df=pd.read_csv('https://raw.githubusercontent.com/SilentFlame/Named-Entity-Recognition/master/Twitterdata/annotatedData.csv')\n",
        "print(df.shape)\n",
        "df.head(20)"
      ],
      "metadata": {
        "colab": {
          "base_uri": "https://localhost:8080/",
          "height": 1000
        },
        "id": "4NS8BjxOX2X8",
        "outputId": "fc47bb74-b01d-470d-ff1a-bb38194d568e"
      },
      "execution_count": 11,
      "outputs": [
        {
          "output_type": "stream",
          "name": "stdout",
          "text": [
            "(72143, 3)\n"
          ]
        },
        {
          "output_type": "execute_result",
          "data": {
            "text/plain": [
              "       Sent        Word    Tag\n",
              "0   sent: 0    Bahubali  B-Per\n",
              "1   sent: 0           2  Other\n",
              "2   sent: 0          ke  Other\n",
              "3   sent: 0        liye  Other\n",
              "4   sent: 0        line  Other\n",
              "5   sent: 0         lag  Other\n",
              "6   sent: 0       sakte  Other\n",
              "7   sent: 0         hai  Other\n",
              "8   sent: 0        desh  B-Org\n",
              "9   sent: 0          ke  Other\n",
              "10  sent: 0        liye  Other\n",
              "11  sent: 0        kyun  Other\n",
              "12  sent: 0        lage  Other\n",
              "13  sent: 0        line  Other\n",
              "14  sent: 0          me  Other\n",
              "15  sent: 0         ...  Other\n",
              "16  sent: 0  #notebandi  Other\n",
              "17  sent: 0  #Bahubali2  B-Per\n",
              "18      NaN         NaN    NaN\n",
              "19  sent: 1        agar  Other"
            ],
            "text/html": [
              "\n",
              "  <div id=\"df-b3ae3eee-c6e4-46ad-a99a-2d31388f0cf1\">\n",
              "    <div class=\"colab-df-container\">\n",
              "      <div>\n",
              "<style scoped>\n",
              "    .dataframe tbody tr th:only-of-type {\n",
              "        vertical-align: middle;\n",
              "    }\n",
              "\n",
              "    .dataframe tbody tr th {\n",
              "        vertical-align: top;\n",
              "    }\n",
              "\n",
              "    .dataframe thead th {\n",
              "        text-align: right;\n",
              "    }\n",
              "</style>\n",
              "<table border=\"1\" class=\"dataframe\">\n",
              "  <thead>\n",
              "    <tr style=\"text-align: right;\">\n",
              "      <th></th>\n",
              "      <th>Sent</th>\n",
              "      <th>Word</th>\n",
              "      <th>Tag</th>\n",
              "    </tr>\n",
              "  </thead>\n",
              "  <tbody>\n",
              "    <tr>\n",
              "      <th>0</th>\n",
              "      <td>sent: 0</td>\n",
              "      <td>Bahubali</td>\n",
              "      <td>B-Per</td>\n",
              "    </tr>\n",
              "    <tr>\n",
              "      <th>1</th>\n",
              "      <td>sent: 0</td>\n",
              "      <td>2</td>\n",
              "      <td>Other</td>\n",
              "    </tr>\n",
              "    <tr>\n",
              "      <th>2</th>\n",
              "      <td>sent: 0</td>\n",
              "      <td>ke</td>\n",
              "      <td>Other</td>\n",
              "    </tr>\n",
              "    <tr>\n",
              "      <th>3</th>\n",
              "      <td>sent: 0</td>\n",
              "      <td>liye</td>\n",
              "      <td>Other</td>\n",
              "    </tr>\n",
              "    <tr>\n",
              "      <th>4</th>\n",
              "      <td>sent: 0</td>\n",
              "      <td>line</td>\n",
              "      <td>Other</td>\n",
              "    </tr>\n",
              "    <tr>\n",
              "      <th>5</th>\n",
              "      <td>sent: 0</td>\n",
              "      <td>lag</td>\n",
              "      <td>Other</td>\n",
              "    </tr>\n",
              "    <tr>\n",
              "      <th>6</th>\n",
              "      <td>sent: 0</td>\n",
              "      <td>sakte</td>\n",
              "      <td>Other</td>\n",
              "    </tr>\n",
              "    <tr>\n",
              "      <th>7</th>\n",
              "      <td>sent: 0</td>\n",
              "      <td>hai</td>\n",
              "      <td>Other</td>\n",
              "    </tr>\n",
              "    <tr>\n",
              "      <th>8</th>\n",
              "      <td>sent: 0</td>\n",
              "      <td>desh</td>\n",
              "      <td>B-Org</td>\n",
              "    </tr>\n",
              "    <tr>\n",
              "      <th>9</th>\n",
              "      <td>sent: 0</td>\n",
              "      <td>ke</td>\n",
              "      <td>Other</td>\n",
              "    </tr>\n",
              "    <tr>\n",
              "      <th>10</th>\n",
              "      <td>sent: 0</td>\n",
              "      <td>liye</td>\n",
              "      <td>Other</td>\n",
              "    </tr>\n",
              "    <tr>\n",
              "      <th>11</th>\n",
              "      <td>sent: 0</td>\n",
              "      <td>kyun</td>\n",
              "      <td>Other</td>\n",
              "    </tr>\n",
              "    <tr>\n",
              "      <th>12</th>\n",
              "      <td>sent: 0</td>\n",
              "      <td>lage</td>\n",
              "      <td>Other</td>\n",
              "    </tr>\n",
              "    <tr>\n",
              "      <th>13</th>\n",
              "      <td>sent: 0</td>\n",
              "      <td>line</td>\n",
              "      <td>Other</td>\n",
              "    </tr>\n",
              "    <tr>\n",
              "      <th>14</th>\n",
              "      <td>sent: 0</td>\n",
              "      <td>me</td>\n",
              "      <td>Other</td>\n",
              "    </tr>\n",
              "    <tr>\n",
              "      <th>15</th>\n",
              "      <td>sent: 0</td>\n",
              "      <td>...</td>\n",
              "      <td>Other</td>\n",
              "    </tr>\n",
              "    <tr>\n",
              "      <th>16</th>\n",
              "      <td>sent: 0</td>\n",
              "      <td>#notebandi</td>\n",
              "      <td>Other</td>\n",
              "    </tr>\n",
              "    <tr>\n",
              "      <th>17</th>\n",
              "      <td>sent: 0</td>\n",
              "      <td>#Bahubali2</td>\n",
              "      <td>B-Per</td>\n",
              "    </tr>\n",
              "    <tr>\n",
              "      <th>18</th>\n",
              "      <td>NaN</td>\n",
              "      <td>NaN</td>\n",
              "      <td>NaN</td>\n",
              "    </tr>\n",
              "    <tr>\n",
              "      <th>19</th>\n",
              "      <td>sent: 1</td>\n",
              "      <td>agar</td>\n",
              "      <td>Other</td>\n",
              "    </tr>\n",
              "  </tbody>\n",
              "</table>\n",
              "</div>\n",
              "      <button class=\"colab-df-convert\" onclick=\"convertToInteractive('df-b3ae3eee-c6e4-46ad-a99a-2d31388f0cf1')\"\n",
              "              title=\"Convert this dataframe to an interactive table.\"\n",
              "              style=\"display:none;\">\n",
              "        \n",
              "  <svg xmlns=\"http://www.w3.org/2000/svg\" height=\"24px\"viewBox=\"0 0 24 24\"\n",
              "       width=\"24px\">\n",
              "    <path d=\"M0 0h24v24H0V0z\" fill=\"none\"/>\n",
              "    <path d=\"M18.56 5.44l.94 2.06.94-2.06 2.06-.94-2.06-.94-.94-2.06-.94 2.06-2.06.94zm-11 1L8.5 8.5l.94-2.06 2.06-.94-2.06-.94L8.5 2.5l-.94 2.06-2.06.94zm10 10l.94 2.06.94-2.06 2.06-.94-2.06-.94-.94-2.06-.94 2.06-2.06.94z\"/><path d=\"M17.41 7.96l-1.37-1.37c-.4-.4-.92-.59-1.43-.59-.52 0-1.04.2-1.43.59L10.3 9.45l-7.72 7.72c-.78.78-.78 2.05 0 2.83L4 21.41c.39.39.9.59 1.41.59.51 0 1.02-.2 1.41-.59l7.78-7.78 2.81-2.81c.8-.78.8-2.07 0-2.86zM5.41 20L4 18.59l7.72-7.72 1.47 1.35L5.41 20z\"/>\n",
              "  </svg>\n",
              "      </button>\n",
              "      \n",
              "  <style>\n",
              "    .colab-df-container {\n",
              "      display:flex;\n",
              "      flex-wrap:wrap;\n",
              "      gap: 12px;\n",
              "    }\n",
              "\n",
              "    .colab-df-convert {\n",
              "      background-color: #E8F0FE;\n",
              "      border: none;\n",
              "      border-radius: 50%;\n",
              "      cursor: pointer;\n",
              "      display: none;\n",
              "      fill: #1967D2;\n",
              "      height: 32px;\n",
              "      padding: 0 0 0 0;\n",
              "      width: 32px;\n",
              "    }\n",
              "\n",
              "    .colab-df-convert:hover {\n",
              "      background-color: #E2EBFA;\n",
              "      box-shadow: 0px 1px 2px rgba(60, 64, 67, 0.3), 0px 1px 3px 1px rgba(60, 64, 67, 0.15);\n",
              "      fill: #174EA6;\n",
              "    }\n",
              "\n",
              "    [theme=dark] .colab-df-convert {\n",
              "      background-color: #3B4455;\n",
              "      fill: #D2E3FC;\n",
              "    }\n",
              "\n",
              "    [theme=dark] .colab-df-convert:hover {\n",
              "      background-color: #434B5C;\n",
              "      box-shadow: 0px 1px 3px 1px rgba(0, 0, 0, 0.15);\n",
              "      filter: drop-shadow(0px 1px 2px rgba(0, 0, 0, 0.3));\n",
              "      fill: #FFFFFF;\n",
              "    }\n",
              "  </style>\n",
              "\n",
              "      <script>\n",
              "        const buttonEl =\n",
              "          document.querySelector('#df-b3ae3eee-c6e4-46ad-a99a-2d31388f0cf1 button.colab-df-convert');\n",
              "        buttonEl.style.display =\n",
              "          google.colab.kernel.accessAllowed ? 'block' : 'none';\n",
              "\n",
              "        async function convertToInteractive(key) {\n",
              "          const element = document.querySelector('#df-b3ae3eee-c6e4-46ad-a99a-2d31388f0cf1');\n",
              "          const dataTable =\n",
              "            await google.colab.kernel.invokeFunction('convertToInteractive',\n",
              "                                                     [key], {});\n",
              "          if (!dataTable) return;\n",
              "\n",
              "          const docLinkHtml = 'Like what you see? Visit the ' +\n",
              "            '<a target=\"_blank\" href=https://colab.research.google.com/notebooks/data_table.ipynb>data table notebook</a>'\n",
              "            + ' to learn more about interactive tables.';\n",
              "          element.innerHTML = '';\n",
              "          dataTable['output_type'] = 'display_data';\n",
              "          await google.colab.output.renderOutput(dataTable, element);\n",
              "          const docLink = document.createElement('div');\n",
              "          docLink.innerHTML = docLinkHtml;\n",
              "          element.appendChild(docLink);\n",
              "        }\n",
              "      </script>\n",
              "    </div>\n",
              "  </div>\n",
              "  "
            ]
          },
          "metadata": {},
          "execution_count": 11
        }
      ]
    },
    {
      "cell_type": "markdown",
      "source": [
        "### Data Cleaning"
      ],
      "metadata": {
        "id": "KOH9Pge1QYmb"
      }
    },
    {
      "cell_type": "code",
      "source": [
        "import re\n",
        "\n",
        "text = \"hey amazon - my package never   arrived https://www.amazon.com/gp/css/order-history?ref_=nav_orders_first please fix asap! @amazonhelp\"\n",
        "# text = re.sub(r\"(@\\[A-Za-z0-9]+)|([^0-9A-Za-z \\t])|(\\w+:\\/\\/\\S+)|^rt|http.+?\", \"\", text)"
      ],
      "metadata": {
        "id": "lwTSL2O6vx87"
      },
      "execution_count": 12,
      "outputs": []
    },
    {
      "cell_type": "code",
      "source": [
        "def remove_links(text):\n",
        "    \"\"\"\n",
        "    This function will remove all the occurrences of links.\n",
        "    \n",
        "    arguments:\n",
        "        input_text: \"text\" of type \"String\". \n",
        "                    \n",
        "    return:\n",
        "        value: \"text\" after removal of all types of links.\n",
        "        \n",
        "    Example:\n",
        "    Input : To know more about this website: kajalyadav.com  visit: https://kajalyadav.com//Blogs\n",
        "    Output : To know more about this website: visit: <URL>    \n",
        "    \n",
        "    \"\"\"\n",
        "    \n",
        "    # Removing all the occurrences of links that starts with https\n",
        "    remove_https = re.sub(r'http\\S+', \"<URL>\", text)\n",
        "    # Remove all the occurrences of text that ends with .com\n",
        "    remove_com = re.sub(r\"\\ [A-Za-z]*\\.com\", \"<URL>\", remove_https)\n",
        "    return remove_com\n",
        "  \n",
        "print(remove_links(text))"
      ],
      "metadata": {
        "colab": {
          "base_uri": "https://localhost:8080/"
        },
        "id": "1stwGIZtyR6-",
        "outputId": "562b7389-950e-4e29-d757-3f8e0145759e"
      },
      "execution_count": 13,
      "outputs": [
        {
          "output_type": "stream",
          "name": "stdout",
          "text": [
            "hey amazon - my package never   arrived <URL> please fix asap! @amazonhelp\n"
          ]
        }
      ]
    },
    {
      "cell_type": "code",
      "source": [
        "# from bs4 import BeautifulSoup\n",
        "\n",
        "# def strip_html_tags(text):\n",
        "#     \"\"\" \n",
        "#     This function will remove all the occurrences of html tags from the text.\n",
        "    \n",
        "#     arguments:\n",
        "#         input_text: \"text\" of type \"String\". \n",
        "                    \n",
        "#     return:\n",
        "#         value: \"text\" after removal of html tags.\n",
        "        \n",
        "#     Example:\n",
        "#     Input : This is a nice place to live. <IMG>\n",
        "#     Output : This is a nice place to live.  \n",
        "#     \"\"\"\n",
        "#     # Initiating BeautifulSoup object soup.\n",
        "#     soup = BeautifulSoup(text, \"html.parser\")\n",
        "#     # Get all the text other than html tags.\n",
        "#     stripped_text = soup.get_text(separator=\" \")\n",
        "#     return stripped_text\n",
        "\n",
        "# txt=\"This is a nice place to live. <IMG>\"  \n",
        "# print(strip_html_tags(txt))"
      ],
      "metadata": {
        "id": "YaXGuZewyxt2"
      },
      "execution_count": 14,
      "outputs": []
    },
    {
      "cell_type": "code",
      "source": [
        "def remove_newlines_tabs(text):\n",
        "    \"\"\"\n",
        "    This function will remove all the occurrences of newlines, tabs, and combinations like: \\\\n, \\\\.\n",
        "    \n",
        "    arguments:\n",
        "        input_text: \"text\" of type \"String\". \n",
        "                    \n",
        "    return:\n",
        "        value: \"text\" after removal of newlines, tabs, \\\\n, \\\\ characters.\n",
        "        \n",
        "    Example:\n",
        "    Input : This is her \\\\ first day at this place.\\n Please,\\t Be nice to her.\\\\n\n",
        "    Output : This is her first day at this place. Please, Be nice to her. \n",
        "    \n",
        "    \"\"\"\n",
        "    \n",
        "    # Replacing all the occurrences of \\n,\\\\n,\\t,\\\\ with a space.\n",
        "    Formatted_text = text.replace('\\\\n', ' ').replace('\\n', ' ').replace('\\t',' ').replace('\\\\', ' ').replace('. com', '.com')\n",
        "    return Formatted_text\n",
        "  \n",
        "txt=\"This is her \\\\ first day at this place.\\n Please,\\t Be nice to her.\\\\n\"\n",
        "print(remove_newlines_tabs(txt))"
      ],
      "metadata": {
        "colab": {
          "base_uri": "https://localhost:8080/"
        },
        "id": "QvjTGkUxzZ8f",
        "outputId": "5862c7e2-26eb-4ac2-b2e5-a742385b537e"
      },
      "execution_count": 15,
      "outputs": [
        {
          "output_type": "stream",
          "name": "stdout",
          "text": [
            "This is her   first day at this place.  Please,  Be nice to her. \n"
          ]
        }
      ]
    },
    {
      "cell_type": "code",
      "source": [
        "def remove_whitespace(text):\n",
        "    \"\"\" This function will remove extra whitespaces from the text\n",
        "    arguments:\n",
        "        input_text: \"text\" of type \"String\". \n",
        "    return:\n",
        "        value: \"text\" after extra whitespaces removed .\n",
        "        \n",
        "    Example:\n",
        "    Input : How   are   you   doing   ?\n",
        "    Output : How are you doing ?     \n",
        "    \"\"\"\n",
        "    pattern = re.compile(r'\\s+') \n",
        "    Without_whitespace = re.sub(pattern, ' ', text)\n",
        "    # There are some instances where there is no space after '?' & ')', \n",
        "    # So I am replacing these with one space so that It will not consider two words as one token.\n",
        "    text = Without_whitespace.replace('?', ' ? ').replace(')', ') ')\n",
        "    return text\n",
        "\n",
        "print(remove_whitespace(text))"
      ],
      "metadata": {
        "colab": {
          "base_uri": "https://localhost:8080/"
        },
        "id": "JOrIP_6zwWuU",
        "outputId": "2224648d-b52d-49cd-bd19-2139eda67d7d"
      },
      "execution_count": 16,
      "outputs": [
        {
          "output_type": "stream",
          "name": "stdout",
          "text": [
            "hey amazon - my package never arrived https://www.amazon.com/gp/css/order-history ? ref_=nav_orders_first please fix asap! @amazonhelp\n"
          ]
        }
      ]
    },
    {
      "cell_type": "code",
      "source": [
        "def reducing_incorrect_character_repeatation(text):\n",
        "    \"\"\"\n",
        "    This Function will reduce repeatition to two characters \n",
        "    for alphabets and to one character for punctuations.\n",
        "    \n",
        "    arguments:\n",
        "         input_text: \"text\" of type \"String\".\n",
        "         \n",
        "    return:\n",
        "        value: Finally formatted text with alphabets repeating to \n",
        "        two characters & punctuations limited to one repeatition \n",
        "        \n",
        "    Example:\n",
        "    Input : Realllllllllyyyyy,        Greeeeaaaatttt   !!!!?....;;;;:)\n",
        "    Output : Reallyy, Greeaatt !?.;:)\n",
        "    \n",
        "    \"\"\"\n",
        "    # Pattern matching for all case alphabets\n",
        "    Pattern_alpha = re.compile(r\"([A-Za-z])\\1{1,}\", re.DOTALL)\n",
        "    \n",
        "    # Limiting all the  repeatation to two characters.\n",
        "    Formatted_text = Pattern_alpha.sub(r\"\\1\\1\", text) \n",
        "    \n",
        "    # Pattern matching for all the punctuations that can occur\n",
        "    Pattern_Punct = re.compile(r'([.,/#!$%^&*?;:{}=_`~()+-])\\1{1,}')\n",
        "    \n",
        "    # Limiting punctuations in previously formatted string to only one.\n",
        "    Combined_Formatted = Pattern_Punct.sub(r'\\1', Formatted_text)\n",
        "    \n",
        "    # The below statement is replacing repeatation of spaces that occur more than two times with that of one occurrence.\n",
        "    Final_Formatted = re.sub(' {2,}',' ', Combined_Formatted)\n",
        "    return Final_Formatted\n",
        "  \n",
        "txt=\"Realllllllllyyyyy\"#,   #AAP  @modi   Greeeeaaaatttt   !!!!?....;;;;:)\"\n",
        "print(reducing_incorrect_character_repeatation(txt))"
      ],
      "metadata": {
        "colab": {
          "base_uri": "https://localhost:8080/"
        },
        "id": "c5bm26Ndzwaf",
        "outputId": "2c5423f5-2b3d-4102-8b29-d723e689ef2a"
      },
      "execution_count": 17,
      "outputs": [
        {
          "output_type": "stream",
          "name": "stdout",
          "text": [
            "Reallyy\n"
          ]
        }
      ]
    },
    {
      "cell_type": "code",
      "source": [
        "# The code for removing special characters\n",
        "def removing_special_characters(text):\n",
        "    \"\"\"Removing all the special characters except the one that is passed within \n",
        "       the regex to match, as they have imp meaning in the text provided.\n",
        "       \n",
        "    arguments:\n",
        "         input_text: \"text\" of type \"String\".\n",
        "    return:\n",
        "        value: Text with removed special characters that don't require.\n",
        "        \n",
        "    Example: \n",
        "    Input : Hello, K-a-j-a-l. Thi*s is $100.05 : the payment that you will recieve! (Is this okay?) \n",
        "    Output :  Hello, Kajal. This is $100.05 : the payment that you will recieve! Is this okay?\n",
        "    \n",
        "   \"\"\"\n",
        "    # The formatted text after removing not necessary punctuations.\n",
        "    Formatted_Text = re.sub(r\"[^a-zA-Z0-9:#@$-,%.?!]+\", ' ', text) \n",
        "    # In the above regex expression,I am providing necessary set of punctuations that are frequent in this particular dataset.\n",
        "    return Formatted_Text\n",
        "\n",
        "txt=\"Hello, K-a-j-a-l. Thi*s is $100.05 : the #payment @that you will recieve! (Is this okay?)\"  \n",
        "print(removing_special_characters(txt))"
      ],
      "metadata": {
        "colab": {
          "base_uri": "https://localhost:8080/"
        },
        "id": "x9FVp38jzwP_",
        "outputId": "a2447bca-783d-4fe0-ee0f-2d15da636aed"
      },
      "execution_count": 18,
      "outputs": [
        {
          "output_type": "stream",
          "name": "stdout",
          "text": [
            "Hello, K a j a l. Thi*s is $100.05 : the #payment @that you will recieve! (Is this okay?)\n"
          ]
        }
      ]
    },
    {
      "cell_type": "code",
      "source": [
        "text = \"hey amazon - my package never   #arrived https://www.amazon.com/gp/css/order-history?ref_=nav_orders_first please fix asap! @amazonhelp\"\n",
        "print(removing_special_characters(text))"
      ],
      "metadata": {
        "colab": {
          "base_uri": "https://localhost:8080/"
        },
        "id": "OK-qJVpv0tlg",
        "outputId": "25b7bc98-6521-4b5b-a7e0-7f651661500e"
      },
      "execution_count": 19,
      "outputs": [
        {
          "output_type": "stream",
          "name": "stdout",
          "text": [
            "hey amazon my package never #arrived https: www.amazon.com gp css order history?ref nav orders first please fix asap! @amazonhelp\n"
          ]
        }
      ]
    },
    {
      "cell_type": "code",
      "source": [
        "!pip install autocorrect"
      ],
      "metadata": {
        "colab": {
          "base_uri": "https://localhost:8080/"
        },
        "id": "9Fi7Moqk1i_Z",
        "outputId": "a70d4daa-b4eb-4750-da31-85c050d28223"
      },
      "execution_count": 20,
      "outputs": [
        {
          "output_type": "stream",
          "name": "stdout",
          "text": [
            "Collecting autocorrect\n",
            "  Downloading autocorrect-2.6.1.tar.gz (622 kB)\n",
            "\u001b[?25l\r\u001b[K     |▌                               | 10 kB 13.6 MB/s eta 0:00:01\r\u001b[K     |█                               | 20 kB 15.8 MB/s eta 0:00:01\r\u001b[K     |█▋                              | 30 kB 17.2 MB/s eta 0:00:01\r\u001b[K     |██                              | 40 kB 18.4 MB/s eta 0:00:01\r\u001b[K     |██▋                             | 51 kB 9.3 MB/s eta 0:00:01\r\u001b[K     |███▏                            | 61 kB 10.6 MB/s eta 0:00:01\r\u001b[K     |███▊                            | 71 kB 6.7 MB/s eta 0:00:01\r\u001b[K     |████▏                           | 81 kB 5.2 MB/s eta 0:00:01\r\u001b[K     |████▊                           | 92 kB 5.7 MB/s eta 0:00:01\r\u001b[K     |█████▎                          | 102 kB 6.2 MB/s eta 0:00:01\r\u001b[K     |█████▉                          | 112 kB 6.2 MB/s eta 0:00:01\r\u001b[K     |██████▎                         | 122 kB 6.2 MB/s eta 0:00:01\r\u001b[K     |██████▉                         | 133 kB 6.2 MB/s eta 0:00:01\r\u001b[K     |███████▍                        | 143 kB 6.2 MB/s eta 0:00:01\r\u001b[K     |████████                        | 153 kB 6.2 MB/s eta 0:00:01\r\u001b[K     |████████▍                       | 163 kB 6.2 MB/s eta 0:00:01\r\u001b[K     |█████████                       | 174 kB 6.2 MB/s eta 0:00:01\r\u001b[K     |█████████▌                      | 184 kB 6.2 MB/s eta 0:00:01\r\u001b[K     |██████████                      | 194 kB 6.2 MB/s eta 0:00:01\r\u001b[K     |██████████▌                     | 204 kB 6.2 MB/s eta 0:00:01\r\u001b[K     |███████████                     | 215 kB 6.2 MB/s eta 0:00:01\r\u001b[K     |███████████▋                    | 225 kB 6.2 MB/s eta 0:00:01\r\u001b[K     |████████████                    | 235 kB 6.2 MB/s eta 0:00:01\r\u001b[K     |████████████▋                   | 245 kB 6.2 MB/s eta 0:00:01\r\u001b[K     |█████████████▏                  | 256 kB 6.2 MB/s eta 0:00:01\r\u001b[K     |█████████████▊                  | 266 kB 6.2 MB/s eta 0:00:01\r\u001b[K     |██████████████▏                 | 276 kB 6.2 MB/s eta 0:00:01\r\u001b[K     |██████████████▊                 | 286 kB 6.2 MB/s eta 0:00:01\r\u001b[K     |███████████████▎                | 296 kB 6.2 MB/s eta 0:00:01\r\u001b[K     |███████████████▉                | 307 kB 6.2 MB/s eta 0:00:01\r\u001b[K     |████████████████▎               | 317 kB 6.2 MB/s eta 0:00:01\r\u001b[K     |████████████████▉               | 327 kB 6.2 MB/s eta 0:00:01\r\u001b[K     |█████████████████▍              | 337 kB 6.2 MB/s eta 0:00:01\r\u001b[K     |██████████████████              | 348 kB 6.2 MB/s eta 0:00:01\r\u001b[K     |██████████████████▍             | 358 kB 6.2 MB/s eta 0:00:01\r\u001b[K     |███████████████████             | 368 kB 6.2 MB/s eta 0:00:01\r\u001b[K     |███████████████████▌            | 378 kB 6.2 MB/s eta 0:00:01\r\u001b[K     |████████████████████            | 389 kB 6.2 MB/s eta 0:00:01\r\u001b[K     |████████████████████▌           | 399 kB 6.2 MB/s eta 0:00:01\r\u001b[K     |█████████████████████           | 409 kB 6.2 MB/s eta 0:00:01\r\u001b[K     |█████████████████████▋          | 419 kB 6.2 MB/s eta 0:00:01\r\u001b[K     |██████████████████████          | 430 kB 6.2 MB/s eta 0:00:01\r\u001b[K     |██████████████████████▋         | 440 kB 6.2 MB/s eta 0:00:01\r\u001b[K     |███████████████████████▏        | 450 kB 6.2 MB/s eta 0:00:01\r\u001b[K     |███████████████████████▊        | 460 kB 6.2 MB/s eta 0:00:01\r\u001b[K     |████████████████████████▏       | 471 kB 6.2 MB/s eta 0:00:01\r\u001b[K     |████████████████████████▊       | 481 kB 6.2 MB/s eta 0:00:01\r\u001b[K     |█████████████████████████▎      | 491 kB 6.2 MB/s eta 0:00:01\r\u001b[K     |█████████████████████████▉      | 501 kB 6.2 MB/s eta 0:00:01\r\u001b[K     |██████████████████████████▎     | 512 kB 6.2 MB/s eta 0:00:01\r\u001b[K     |██████████████████████████▉     | 522 kB 6.2 MB/s eta 0:00:01\r\u001b[K     |███████████████████████████▍    | 532 kB 6.2 MB/s eta 0:00:01\r\u001b[K     |███████████████████████████▉    | 542 kB 6.2 MB/s eta 0:00:01\r\u001b[K     |████████████████████████████▍   | 552 kB 6.2 MB/s eta 0:00:01\r\u001b[K     |█████████████████████████████   | 563 kB 6.2 MB/s eta 0:00:01\r\u001b[K     |█████████████████████████████▌  | 573 kB 6.2 MB/s eta 0:00:01\r\u001b[K     |██████████████████████████████  | 583 kB 6.2 MB/s eta 0:00:01\r\u001b[K     |██████████████████████████████▌ | 593 kB 6.2 MB/s eta 0:00:01\r\u001b[K     |███████████████████████████████ | 604 kB 6.2 MB/s eta 0:00:01\r\u001b[K     |███████████████████████████████▋| 614 kB 6.2 MB/s eta 0:00:01\r\u001b[K     |████████████████████████████████| 622 kB 6.2 MB/s \n",
            "\u001b[?25hBuilding wheels for collected packages: autocorrect\n",
            "  Building wheel for autocorrect (setup.py) ... \u001b[?25l\u001b[?25hdone\n",
            "  Created wheel for autocorrect: filename=autocorrect-2.6.1-py3-none-any.whl size=622382 sha256=a2048aec9e868b3261bdcd3db957906d9d977ffc6ce77968429471dd71132c12\n",
            "  Stored in directory: /root/.cache/pip/wheels/54/d4/37/8244101ad50b0f7d9bffd93ce58ed7991ee1753b290923934b\n",
            "Successfully built autocorrect\n",
            "Installing collected packages: autocorrect\n",
            "Successfully installed autocorrect-2.6.1\n"
          ]
        }
      ]
    },
    {
      "cell_type": "code",
      "source": [
        "# The code for spelling corrections\n",
        "from autocorrect import Speller\n",
        "\n",
        "def spelling_correction(text):\n",
        "    ''' \n",
        "    This function will correct spellings.\n",
        "    \n",
        "    arguments:\n",
        "         input_text: \"text\" of type \"String\".\n",
        "         \n",
        "    return:\n",
        "        value: Text after corrected spellings.\n",
        "        \n",
        "    Example: \n",
        "    Input : This is Oberois from Dlhi who came heree to studdy.\n",
        "    Output : This is Oberoi from Delhi who came here to study.     \n",
        "    \n",
        "    '''\n",
        "    # Check for spellings in English language\n",
        "    spell = Speller(lang='en')\n",
        "    Corrected_text = spell(text)\n",
        "    return Corrected_text\n",
        "\n",
        "txt=\"This is Oberois from Dlhi who came heree to studdy.\"\n",
        "print(spelling_correction(txt))"
      ],
      "metadata": {
        "colab": {
          "base_uri": "https://localhost:8080/"
        },
        "id": "OeV1rbIf0tdf",
        "outputId": "8e4fc878-334d-44e9-efc4-d8b4d83a8752"
      },
      "execution_count": 21,
      "outputs": [
        {
          "output_type": "stream",
          "name": "stdout",
          "text": [
            "This is Oberoi from Delhi who came here to study.\n"
          ]
        }
      ]
    },
    {
      "cell_type": "code",
      "source": [
        "def text_cleaning(t,do_spell_correction=False):\n",
        "  t=remove_links(t)\n",
        "  t=removing_special_characters(t)\n",
        "  t=remove_newlines_tabs(t)\n",
        "  t=remove_whitespace(t)\n",
        "  t=reducing_incorrect_character_repeatation(t)\n",
        "  if(do_spell_correction):\n",
        "    t=spelling_correction(t)\n",
        "  return t"
      ],
      "metadata": {
        "id": "J8AnbfVt5FcN"
      },
      "execution_count": 22,
      "outputs": []
    },
    {
      "cell_type": "code",
      "source": [
        "text = \"hey amazon - my package never   #arrived https://www.amazon.com/gp/css/order-history?ref_=nav_orders_first please fix asap! @amazonhelp\"\n",
        "print(text_cleaning(text))"
      ],
      "metadata": {
        "colab": {
          "base_uri": "https://localhost:8080/"
        },
        "id": "H9nuXGR9cdBo",
        "outputId": "f89f3c76-a686-44fc-aa02-74f629ab49f1"
      },
      "execution_count": 23,
      "outputs": [
        {
          "output_type": "stream",
          "name": "stdout",
          "text": [
            "hey amazon my package never #arrived URL please fix asap! @amazonhelp\n"
          ]
        }
      ]
    },
    {
      "cell_type": "markdown",
      "source": [
        "### Transliteration"
      ],
      "metadata": {
        "id": "xIbC2AYptbwR"
      }
    },
    {
      "cell_type": "code",
      "source": [
        "# the text to be transliterated\n",
        "text = \"Aapa sabhii kaa yahaan svaagat hai.\"\n",
        "# text=\"chalo\"\n",
        "# printing the transliterated text\n",
        "print(text)\n",
        "print(transliterate(text, sanscript.ITRANS, sanscript.DEVANAGARI))"
      ],
      "metadata": {
        "colab": {
          "base_uri": "https://localhost:8080/"
        },
        "id": "Qx9q7K1evKWS",
        "outputId": "f788659f-58d8-428f-f64a-70234ca88fed"
      },
      "execution_count": 24,
      "outputs": [
        {
          "output_type": "stream",
          "name": "stdout",
          "text": [
            "Aapa sabhii kaa yahaan svaagat hai.\n",
            "आअप सभी का यहान् स्वागत् है।\n"
          ]
        }
      ]
    },
    {
      "cell_type": "code",
      "metadata": {
        "colab": {
          "base_uri": "https://localhost:8080/"
        },
        "id": "nj4tWmWlM3j2",
        "outputId": "4db87573-8ee7-4a5a-c062-d5e046bbcbdc"
      },
      "source": [
        "count=0\n",
        "sen_id=[]\n",
        "sentences=[]\n",
        "for sen in annotations.strip().split(\"# sent_enum = \"):\n",
        "  if(len(sen)>0):\n",
        "    count+=1\n",
        "    idx=sen.find(\"\\n\")\n",
        "    sen_id.append(sen[:idx])\n",
        "    txt=[]\n",
        "    for token in sen[idx+1:].strip().split('\\n'):\n",
        "      tok=token.split()\n",
        "      # Text-Cleaning\n",
        "      tok[0]=text_cleaning(tok[0])\n",
        "      # if(tok[1]=='hi'):\n",
        "      #   tok[0]=transliterate(tok[0], sanscript.ITRANS, sanscript.DEVANAGARI)\n",
        "      # else:\n",
        "      #   tok[0]=spelling_correction(tok[0])\n",
        "      txt.append(tok)\n",
        "    sentences.append(txt)\n",
        "\n",
        "print(count)"
      ],
      "execution_count": 25,
      "outputs": [
        {
          "output_type": "stream",
          "name": "stdout",
          "text": [
            "1243\n"
          ]
        }
      ]
    },
    {
      "cell_type": "code",
      "metadata": {
        "colab": {
          "base_uri": "https://localhost:8080/"
        },
        "id": "wYuVR9aIeYHe",
        "outputId": "d2f4ee48-d792-479d-f6b9-22d132a833b4"
      },
      "source": [
        "print(sentences[1])"
      ],
      "execution_count": 26,
      "outputs": [
        {
          "output_type": "stream",
          "name": "stdout",
          "text": [
            "[['I', 'en', 'O'], ['liked', 'en', 'O'], ['a', 'en', 'O'], ['@YouTube', 'en', 'O'], ['video', 'en', 'O'], [' URL ', 'en', 'O'], ['Kabhi', 'hi', 'O'], ['Palkon', 'hi', 'O'], ['Pe', 'hi', 'O'], ['Aasoon', 'hi', 'O'], ['Hai ', 'hi', 'O'], ['Kishore', 'hi', 'B-PERSON'], ['Kumar', 'hi', 'I-PERSON'], [' Vocal', 'en', 'O'], ['Cover', 'en', 'O'], ['By', 'en', 'O'], ['Stephen', 'en', 'B-PERSON'], ['Qadir', 'rest', 'I-PERSON']]\n"
          ]
        }
      ]
    },
    {
      "cell_type": "code",
      "source": [
        "def distribution(lst):\n",
        "  dic=Counter(lst)\n",
        "  print(dic)\n",
        "  df = pd.DataFrame(list(dic.items()))\n",
        "  print(df)\n",
        "  # Make the Pie plot\n",
        "  df.plot(kind='pie', subplots=True, figsize=(8, 8))\n",
        "  return df"
      ],
      "metadata": {
        "id": "A6BmApLElP6J"
      },
      "execution_count": 27,
      "outputs": []
    },
    {
      "cell_type": "code",
      "metadata": {
        "colab": {
          "base_uri": "https://localhost:8080/"
        },
        "id": "kjKgxL6KQLRU",
        "outputId": "30b7988d-50bb-48d6-9986-dd9d39cf4186"
      },
      "source": [
        "tags=[]\n",
        "words=[]\n",
        "lang=[]\n",
        "for id,sen in zip(sen_id,sentences):\n",
        "  for tok in sen:\n",
        "    lang.append(tok[1])\n",
        "    words.append(tok[0])\n",
        "    tags.append(tok[2])\n",
        "words.append(\"<OOV>\")\n",
        "print(len(set(words)),len(words))\n",
        "print(len(set(tags)))\n",
        "print(Counter(tags))\n",
        "print(len(set(lang)))\n",
        "print(Counter(lang))"
      ],
      "execution_count": 28,
      "outputs": [
        {
          "output_type": "stream",
          "name": "stdout",
          "text": [
            "8060 21066\n",
            "7\n",
            "Counter({'O': 18843, 'B-PERSON': 963, 'B-PLACE': 455, 'I-PERSON': 411, 'B-ORGANISATION': 218, 'I-PLACE': 108, 'I-ORGANISATION': 67})\n",
            "3\n",
            "Counter({'en': 8198, 'hi': 6905, 'rest': 5962})\n"
          ]
        }
      ]
    },
    {
      "cell_type": "code",
      "source": [
        "df"
      ],
      "metadata": {
        "id": "sgGPSHPgmuU5",
        "colab": {
          "base_uri": "https://localhost:8080/",
          "height": 423
        },
        "outputId": "37cb10b5-5d3f-4ae3-b74d-01f7812fad43"
      },
      "execution_count": 29,
      "outputs": [
        {
          "output_type": "execute_result",
          "data": {
            "text/plain": [
              "             Sent      Word    Tag\n",
              "0         sent: 0  Bahubali  B-Per\n",
              "1         sent: 0         2  Other\n",
              "2         sent: 0        ke  Other\n",
              "3         sent: 0      liye  Other\n",
              "4         sent: 0      line  Other\n",
              "...           ...       ...    ...\n",
              "72138  sent: 3637      udhr  Other\n",
              "72139  sent: 3637       kar  Other\n",
              "72140  sent: 3637       gya  Other\n",
              "72141  sent: 3637      #pnb  B-Org\n",
              "72142  sent: 3637    #fraud  Other\n",
              "\n",
              "[72143 rows x 3 columns]"
            ],
            "text/html": [
              "\n",
              "  <div id=\"df-72f10e5a-7e5e-4386-b574-d2596d16d222\">\n",
              "    <div class=\"colab-df-container\">\n",
              "      <div>\n",
              "<style scoped>\n",
              "    .dataframe tbody tr th:only-of-type {\n",
              "        vertical-align: middle;\n",
              "    }\n",
              "\n",
              "    .dataframe tbody tr th {\n",
              "        vertical-align: top;\n",
              "    }\n",
              "\n",
              "    .dataframe thead th {\n",
              "        text-align: right;\n",
              "    }\n",
              "</style>\n",
              "<table border=\"1\" class=\"dataframe\">\n",
              "  <thead>\n",
              "    <tr style=\"text-align: right;\">\n",
              "      <th></th>\n",
              "      <th>Sent</th>\n",
              "      <th>Word</th>\n",
              "      <th>Tag</th>\n",
              "    </tr>\n",
              "  </thead>\n",
              "  <tbody>\n",
              "    <tr>\n",
              "      <th>0</th>\n",
              "      <td>sent: 0</td>\n",
              "      <td>Bahubali</td>\n",
              "      <td>B-Per</td>\n",
              "    </tr>\n",
              "    <tr>\n",
              "      <th>1</th>\n",
              "      <td>sent: 0</td>\n",
              "      <td>2</td>\n",
              "      <td>Other</td>\n",
              "    </tr>\n",
              "    <tr>\n",
              "      <th>2</th>\n",
              "      <td>sent: 0</td>\n",
              "      <td>ke</td>\n",
              "      <td>Other</td>\n",
              "    </tr>\n",
              "    <tr>\n",
              "      <th>3</th>\n",
              "      <td>sent: 0</td>\n",
              "      <td>liye</td>\n",
              "      <td>Other</td>\n",
              "    </tr>\n",
              "    <tr>\n",
              "      <th>4</th>\n",
              "      <td>sent: 0</td>\n",
              "      <td>line</td>\n",
              "      <td>Other</td>\n",
              "    </tr>\n",
              "    <tr>\n",
              "      <th>...</th>\n",
              "      <td>...</td>\n",
              "      <td>...</td>\n",
              "      <td>...</td>\n",
              "    </tr>\n",
              "    <tr>\n",
              "      <th>72138</th>\n",
              "      <td>sent: 3637</td>\n",
              "      <td>udhr</td>\n",
              "      <td>Other</td>\n",
              "    </tr>\n",
              "    <tr>\n",
              "      <th>72139</th>\n",
              "      <td>sent: 3637</td>\n",
              "      <td>kar</td>\n",
              "      <td>Other</td>\n",
              "    </tr>\n",
              "    <tr>\n",
              "      <th>72140</th>\n",
              "      <td>sent: 3637</td>\n",
              "      <td>gya</td>\n",
              "      <td>Other</td>\n",
              "    </tr>\n",
              "    <tr>\n",
              "      <th>72141</th>\n",
              "      <td>sent: 3637</td>\n",
              "      <td>#pnb</td>\n",
              "      <td>B-Org</td>\n",
              "    </tr>\n",
              "    <tr>\n",
              "      <th>72142</th>\n",
              "      <td>sent: 3637</td>\n",
              "      <td>#fraud</td>\n",
              "      <td>Other</td>\n",
              "    </tr>\n",
              "  </tbody>\n",
              "</table>\n",
              "<p>72143 rows × 3 columns</p>\n",
              "</div>\n",
              "      <button class=\"colab-df-convert\" onclick=\"convertToInteractive('df-72f10e5a-7e5e-4386-b574-d2596d16d222')\"\n",
              "              title=\"Convert this dataframe to an interactive table.\"\n",
              "              style=\"display:none;\">\n",
              "        \n",
              "  <svg xmlns=\"http://www.w3.org/2000/svg\" height=\"24px\"viewBox=\"0 0 24 24\"\n",
              "       width=\"24px\">\n",
              "    <path d=\"M0 0h24v24H0V0z\" fill=\"none\"/>\n",
              "    <path d=\"M18.56 5.44l.94 2.06.94-2.06 2.06-.94-2.06-.94-.94-2.06-.94 2.06-2.06.94zm-11 1L8.5 8.5l.94-2.06 2.06-.94-2.06-.94L8.5 2.5l-.94 2.06-2.06.94zm10 10l.94 2.06.94-2.06 2.06-.94-2.06-.94-.94-2.06-.94 2.06-2.06.94z\"/><path d=\"M17.41 7.96l-1.37-1.37c-.4-.4-.92-.59-1.43-.59-.52 0-1.04.2-1.43.59L10.3 9.45l-7.72 7.72c-.78.78-.78 2.05 0 2.83L4 21.41c.39.39.9.59 1.41.59.51 0 1.02-.2 1.41-.59l7.78-7.78 2.81-2.81c.8-.78.8-2.07 0-2.86zM5.41 20L4 18.59l7.72-7.72 1.47 1.35L5.41 20z\"/>\n",
              "  </svg>\n",
              "      </button>\n",
              "      \n",
              "  <style>\n",
              "    .colab-df-container {\n",
              "      display:flex;\n",
              "      flex-wrap:wrap;\n",
              "      gap: 12px;\n",
              "    }\n",
              "\n",
              "    .colab-df-convert {\n",
              "      background-color: #E8F0FE;\n",
              "      border: none;\n",
              "      border-radius: 50%;\n",
              "      cursor: pointer;\n",
              "      display: none;\n",
              "      fill: #1967D2;\n",
              "      height: 32px;\n",
              "      padding: 0 0 0 0;\n",
              "      width: 32px;\n",
              "    }\n",
              "\n",
              "    .colab-df-convert:hover {\n",
              "      background-color: #E2EBFA;\n",
              "      box-shadow: 0px 1px 2px rgba(60, 64, 67, 0.3), 0px 1px 3px 1px rgba(60, 64, 67, 0.15);\n",
              "      fill: #174EA6;\n",
              "    }\n",
              "\n",
              "    [theme=dark] .colab-df-convert {\n",
              "      background-color: #3B4455;\n",
              "      fill: #D2E3FC;\n",
              "    }\n",
              "\n",
              "    [theme=dark] .colab-df-convert:hover {\n",
              "      background-color: #434B5C;\n",
              "      box-shadow: 0px 1px 3px 1px rgba(0, 0, 0, 0.15);\n",
              "      filter: drop-shadow(0px 1px 2px rgba(0, 0, 0, 0.3));\n",
              "      fill: #FFFFFF;\n",
              "    }\n",
              "  </style>\n",
              "\n",
              "      <script>\n",
              "        const buttonEl =\n",
              "          document.querySelector('#df-72f10e5a-7e5e-4386-b574-d2596d16d222 button.colab-df-convert');\n",
              "        buttonEl.style.display =\n",
              "          google.colab.kernel.accessAllowed ? 'block' : 'none';\n",
              "\n",
              "        async function convertToInteractive(key) {\n",
              "          const element = document.querySelector('#df-72f10e5a-7e5e-4386-b574-d2596d16d222');\n",
              "          const dataTable =\n",
              "            await google.colab.kernel.invokeFunction('convertToInteractive',\n",
              "                                                     [key], {});\n",
              "          if (!dataTable) return;\n",
              "\n",
              "          const docLinkHtml = 'Like what you see? Visit the ' +\n",
              "            '<a target=\"_blank\" href=https://colab.research.google.com/notebooks/data_table.ipynb>data table notebook</a>'\n",
              "            + ' to learn more about interactive tables.';\n",
              "          element.innerHTML = '';\n",
              "          dataTable['output_type'] = 'display_data';\n",
              "          await google.colab.output.renderOutput(dataTable, element);\n",
              "          const docLink = document.createElement('div');\n",
              "          docLink.innerHTML = docLinkHtml;\n",
              "          element.appendChild(docLink);\n",
              "        }\n",
              "      </script>\n",
              "    </div>\n",
              "  </div>\n",
              "  "
            ]
          },
          "metadata": {},
          "execution_count": 29
        }
      ]
    },
    {
      "cell_type": "markdown",
      "source": [
        "### EDA"
      ],
      "metadata": {
        "id": "GgZv10IAzvBE"
      }
    },
    {
      "cell_type": "code",
      "metadata": {
        "colab": {
          "base_uri": "https://localhost:8080/",
          "height": 607
        },
        "id": "zMZRQMJWlLSH",
        "outputId": "65661582-07f5-4729-9c19-88b7881e0275"
      },
      "source": [
        "# Wordcloud\n",
        "\n",
        "# importing all necessary modules\n",
        "from wordcloud import WordCloud, STOPWORDS\n",
        "import matplotlib.pyplot as plt\n",
        "import pandas as pd\n",
        "\n",
        "dataset = ' '.join(words)\n",
        "wordcloud = WordCloud(width = 800, height = 800,\n",
        "                background_color ='white',\n",
        "                min_font_size = 10).generate(dataset)\n",
        " \n",
        "# plot the WordCloud image                      \n",
        "plt.figure(figsize = (8, 8), facecolor = None)\n",
        "plt.imshow(wordcloud)\n",
        "plt.axis(\"off\")\n",
        "plt.tight_layout(pad = 0)\n",
        "\n",
        "# def create_word_cloud(string):\n",
        "#    maskArray = npy.array(Image.open(\"cloud.png\"))\n",
        "#    cloud = WordCloud(background_color = \"white\", max_words = 200, mask = maskArray, stopwords = set(STOPWORDS))\n",
        "#    cloud.generate(string)\n",
        "#    cloud.to_file(\"wordCloud.png\")\n",
        "# dataset = dataset.lower()\n",
        "# create_word_cloud(dataset)"
      ],
      "execution_count": 30,
      "outputs": [
        {
          "output_type": "display_data",
          "data": {
            "text/plain": [
              "<Figure size 576x576 with 1 Axes>"
            ],
            "image/png": "[encoded data removed]"
          },
          "metadata": {
            "needs_background": "light"
          }
        }
      ]
    },
    {
      "cell_type": "code",
      "metadata": {
        "id": "ihp7_KinU2tx"
      },
      "source": [
        "d={'O': 18843, 'B-PERSON': 963, 'B-PLACE': 455, 'I-PERSON': 411, 'B-ORGANISATION': 218, 'I-PLACE': 108, 'I-ORGANISATION': 67}\n",
        "d2={'B-PERSON': 963, 'B-PLACE': 455, 'I-PERSON': 411, 'B-ORGANISATION': 218, 'I-PLACE': 108, 'I-ORGANISATION': 67}"
      ],
      "execution_count": 31,
      "outputs": []
    },
    {
      "cell_type": "code",
      "metadata": {
        "id": "sjsw6sCcVEvG"
      },
      "source": [
        "# Import library\n",
        "import pandas as pd\n",
        " \n",
        "# Create Dataset {'en': 8198, 'hi': 6905, 'rest': 5962}\n",
        "# df = pd.DataFrame([963,455,411,218,108,67], index=['B-PERSON', 'B-PLACE', 'I-PERSON','B-ORGANISATION','I-PLACE','I-ORGANISATION'], columns=['Values']) \n",
        "df = pd.DataFrame([8198,6905,5962], index=['en', 'hi','rest'], columns=['Values']) "
      ],
      "execution_count": 32,
      "outputs": []
    },
    {
      "cell_type": "code",
      "metadata": {
        "colab": {
          "base_uri": "https://localhost:8080/",
          "height": 143
        },
        "id": "_-v8mwfDVTYS",
        "outputId": "dec0bc38-dc98-4fe5-9b0b-24b517af7dc5"
      },
      "source": [
        "# df=pd.DataFrame(d)\n",
        "df"
      ],
      "execution_count": 33,
      "outputs": [
        {
          "output_type": "execute_result",
          "data": {
            "text/plain": [
              "      Values\n",
              "en      8198\n",
              "hi      6905\n",
              "rest    5962"
            ],
            "text/html": [
              "\n",
              "  <div id=\"df-bd814a8b-ff38-4fc7-a5a3-de3872320a94\">\n",
              "    <div class=\"colab-df-container\">\n",
              "      <div>\n",
              "<style scoped>\n",
              "    .dataframe tbody tr th:only-of-type {\n",
              "        vertical-align: middle;\n",
              "    }\n",
              "\n",
              "    .dataframe tbody tr th {\n",
              "        vertical-align: top;\n",
              "    }\n",
              "\n",
              "    .dataframe thead th {\n",
              "        text-align: right;\n",
              "    }\n",
              "</style>\n",
              "<table border=\"1\" class=\"dataframe\">\n",
              "  <thead>\n",
              "    <tr style=\"text-align: right;\">\n",
              "      <th></th>\n",
              "      <th>Values</th>\n",
              "    </tr>\n",
              "  </thead>\n",
              "  <tbody>\n",
              "    <tr>\n",
              "      <th>en</th>\n",
              "      <td>8198</td>\n",
              "    </tr>\n",
              "    <tr>\n",
              "      <th>hi</th>\n",
              "      <td>6905</td>\n",
              "    </tr>\n",
              "    <tr>\n",
              "      <th>rest</th>\n",
              "      <td>5962</td>\n",
              "    </tr>\n",
              "  </tbody>\n",
              "</table>\n",
              "</div>\n",
              "      <button class=\"colab-df-convert\" onclick=\"convertToInteractive('df-bd814a8b-ff38-4fc7-a5a3-de3872320a94')\"\n",
              "              title=\"Convert this dataframe to an interactive table.\"\n",
              "              style=\"display:none;\">\n",
              "        \n",
              "  <svg xmlns=\"http://www.w3.org/2000/svg\" height=\"24px\"viewBox=\"0 0 24 24\"\n",
              "       width=\"24px\">\n",
              "    <path d=\"M0 0h24v24H0V0z\" fill=\"none\"/>\n",
              "    <path d=\"M18.56 5.44l.94 2.06.94-2.06 2.06-.94-2.06-.94-.94-2.06-.94 2.06-2.06.94zm-11 1L8.5 8.5l.94-2.06 2.06-.94-2.06-.94L8.5 2.5l-.94 2.06-2.06.94zm10 10l.94 2.06.94-2.06 2.06-.94-2.06-.94-.94-2.06-.94 2.06-2.06.94z\"/><path d=\"M17.41 7.96l-1.37-1.37c-.4-.4-.92-.59-1.43-.59-.52 0-1.04.2-1.43.59L10.3 9.45l-7.72 7.72c-.78.78-.78 2.05 0 2.83L4 21.41c.39.39.9.59 1.41.59.51 0 1.02-.2 1.41-.59l7.78-7.78 2.81-2.81c.8-.78.8-2.07 0-2.86zM5.41 20L4 18.59l7.72-7.72 1.47 1.35L5.41 20z\"/>\n",
              "  </svg>\n",
              "      </button>\n",
              "      \n",
              "  <style>\n",
              "    .colab-df-container {\n",
              "      display:flex;\n",
              "      flex-wrap:wrap;\n",
              "      gap: 12px;\n",
              "    }\n",
              "\n",
              "    .colab-df-convert {\n",
              "      background-color: #E8F0FE;\n",
              "      border: none;\n",
              "      border-radius: 50%;\n",
              "      cursor: pointer;\n",
              "      display: none;\n",
              "      fill: #1967D2;\n",
              "      height: 32px;\n",
              "      padding: 0 0 0 0;\n",
              "      width: 32px;\n",
              "    }\n",
              "\n",
              "    .colab-df-convert:hover {\n",
              "      background-color: #E2EBFA;\n",
              "      box-shadow: 0px 1px 2px rgba(60, 64, 67, 0.3), 0px 1px 3px 1px rgba(60, 64, 67, 0.15);\n",
              "      fill: #174EA6;\n",
              "    }\n",
              "\n",
              "    [theme=dark] .colab-df-convert {\n",
              "      background-color: #3B4455;\n",
              "      fill: #D2E3FC;\n",
              "    }\n",
              "\n",
              "    [theme=dark] .colab-df-convert:hover {\n",
              "      background-color: #434B5C;\n",
              "      box-shadow: 0px 1px 3px 1px rgba(0, 0, 0, 0.15);\n",
              "      filter: drop-shadow(0px 1px 2px rgba(0, 0, 0, 0.3));\n",
              "      fill: #FFFFFF;\n",
              "    }\n",
              "  </style>\n",
              "\n",
              "      <script>\n",
              "        const buttonEl =\n",
              "          document.querySelector('#df-bd814a8b-ff38-4fc7-a5a3-de3872320a94 button.colab-df-convert');\n",
              "        buttonEl.style.display =\n",
              "          google.colab.kernel.accessAllowed ? 'block' : 'none';\n",
              "\n",
              "        async function convertToInteractive(key) {\n",
              "          const element = document.querySelector('#df-bd814a8b-ff38-4fc7-a5a3-de3872320a94');\n",
              "          const dataTable =\n",
              "            await google.colab.kernel.invokeFunction('convertToInteractive',\n",
              "                                                     [key], {});\n",
              "          if (!dataTable) return;\n",
              "\n",
              "          const docLinkHtml = 'Like what you see? Visit the ' +\n",
              "            '<a target=\"_blank\" href=https://colab.research.google.com/notebooks/data_table.ipynb>data table notebook</a>'\n",
              "            + ' to learn more about interactive tables.';\n",
              "          element.innerHTML = '';\n",
              "          dataTable['output_type'] = 'display_data';\n",
              "          await google.colab.output.renderOutput(dataTable, element);\n",
              "          const docLink = document.createElement('div');\n",
              "          docLink.innerHTML = docLinkHtml;\n",
              "          element.appendChild(docLink);\n",
              "        }\n",
              "      </script>\n",
              "    </div>\n",
              "  </div>\n",
              "  "
            ]
          },
          "metadata": {},
          "execution_count": 33
        }
      ]
    },
    {
      "cell_type": "code",
      "metadata": {
        "colab": {
          "base_uri": "https://localhost:8080/",
          "height": 501
        },
        "id": "6aLn4GJsVP_z",
        "outputId": "31a655c4-b3c3-42e1-af47-7b16f7eaa701"
      },
      "source": [
        "# Make the Pie plot\n",
        "df.plot(kind='pie', subplots=True, figsize=(8, 8))"
      ],
      "execution_count": 34,
      "outputs": [
        {
          "output_type": "execute_result",
          "data": {
            "text/plain": [
              "array([<matplotlib.axes._subplots.AxesSubplot object at 0x7f61dbaee1d0>],\n",
              "      dtype=object)"
            ]
          },
          "metadata": {},
          "execution_count": 34
        },
        {
          "output_type": "display_data",
          "data": {
            "text/plain": [
              "<Figure size 576x576 with 1 Axes>"
            ],
            "image/png": "[encoded data removed]"
          },
          "metadata": {}
        }
      ]
    },
    {
      "cell_type": "code",
      "source": [
        "import pandas as pd\n",
        "\n",
        "t2i={'B-ORGANISATION': 0, 'B-PERSON': 1, 'O': 2, 'I-PERSON': 3, 'B-PLACE': 4, 'I-PLACE': 5, 'I-ORGANISATION': 6}\n",
        "d3={'O': 39617, 'B-PERSON': 254, 'I-PERSON': 112, 'B-PLACE': 105, 'B-ORGANISATION': 61, 'I-PLACE': 24, 'I-ORGANISATION': 19}\n",
        "df = pd.DataFrame([39617,254,112,105,61,24,19], index=['O','B-PERSON', 'I-PERSON', 'B-PLACE', 'B-ORGANISATION', 'I-PLACE', 'I-ORGANISATION'], columns=['Values']) \n",
        "df2 = pd.DataFrame([254,112,105,61,24,19], index=['B-PERSON', 'I-PERSON', 'B-PLACE', 'B-ORGANISATION', 'I-PLACE', 'I-ORGANISATION'], columns=['Values']) \n",
        "\n",
        "df.plot(kind='pie', subplots=True, figsize=(8, 8))"
      ],
      "metadata": {
        "colab": {
          "base_uri": "https://localhost:8080/",
          "height": 501
        },
        "id": "mBeTDilvFFVC",
        "outputId": "0e23857f-800f-4900-d476-596d1d8e9258"
      },
      "execution_count": 35,
      "outputs": [
        {
          "output_type": "execute_result",
          "data": {
            "text/plain": [
              "array([<matplotlib.axes._subplots.AxesSubplot object at 0x7f61db8ddf10>],\n",
              "      dtype=object)"
            ]
          },
          "metadata": {},
          "execution_count": 35
        },
        {
          "output_type": "display_data",
          "data": {
            "text/plain": [
              "<Figure size 576x576 with 1 Axes>"
            ],
            "image/png": "[encoded data removed]"
          },
          "metadata": {}
        }
      ]
    },
    {
      "cell_type": "code",
      "metadata": {
        "id": "GbI-st3BVLXr"
      },
      "source": [
        ""
      ],
      "execution_count": 35,
      "outputs": []
    },
    {
      "cell_type": "code",
      "metadata": {
        "id": "91mmTDkmVLUq"
      },
      "source": [
        ""
      ],
      "execution_count": 35,
      "outputs": []
    },
    {
      "cell_type": "code",
      "metadata": {
        "colab": {
          "base_uri": "https://localhost:8080/"
        },
        "id": "dG7nO4-YXt5v",
        "outputId": "cb632eb8-a9b4-45b1-ad79-3a888af259da"
      },
      "source": [
        "max_len=0\n",
        "min_len=0\n",
        "avg_len=0\n",
        "for sen in sentences:\n",
        "  l=len(sen)\n",
        "  if(l>max_len):\n",
        "    max_len=l\n",
        "  if(l<min_len):\n",
        "    min_len=l\n",
        "  avg_len+=l\n",
        "avg_len/=len(sentences)\n",
        "\n",
        "print(\"MIN Length of sentences is\",min_len)\n",
        "print(\"MAX Length of sentences is\",max_len)\n",
        "print(\"AVG Length of sentences is\",avg_len)"
      ],
      "execution_count": 36,
      "outputs": [
        {
          "output_type": "stream",
          "name": "stdout",
          "text": [
            "MIN Length of sentences is 0\n",
            "MAX Length of sentences is 36\n",
            "AVG Length of sentences is 16.946902654867255\n"
          ]
        }
      ]
    },
    {
      "cell_type": "markdown",
      "metadata": {
        "id": "HXO927PRWKEl"
      },
      "source": [
        "### Creating Word & Tag dictionary"
      ]
    },
    {
      "cell_type": "code",
      "metadata": {
        "colab": {
          "base_uri": "https://localhost:8080/"
        },
        "id": "J_ZGiGW4WHhl",
        "outputId": "a1babec7-08fb-4fed-ea12-c54f4c886761"
      },
      "source": [
        "# Creating a vocabulary\n",
        "un_words = list(set(words))\n",
        "un_words.append(\"<PAD>\")\n",
        "n_words = len(un_words)\n",
        "print(\"Length of vocabulary = \",n_words)\n",
        " \n",
        "un_tags = list(set(tags))\n",
        "# Adding tag for <PAD>\n",
        "# un_tags.append(\"<PAD>\")\n",
        "n_tags = len(un_tags)\n",
        "print(\"\\nnumber of tags = \",n_tags)\n",
        "# print(un_tags)\n",
        " \n",
        "# Creating words to indices dictionary.\n",
        "word2idx = {w: i for i, w in enumerate(un_words)}\n",
        "# Creating tags to indices dictionary.\n",
        "tag2idx = {t: i for i, t in enumerate(un_tags)}\n",
        "print(tag2idx)"
      ],
      "execution_count": 37,
      "outputs": [
        {
          "output_type": "stream",
          "name": "stdout",
          "text": [
            "Length of vocabulary =  8061\n",
            "\n",
            "number of tags =  7\n",
            "{'I-ORGANISATION': 0, 'I-PERSON': 1, 'B-PERSON': 2, 'O': 3, 'I-PLACE': 4, 'B-PLACE': 5, 'B-ORGANISATION': 6}\n"
          ]
        }
      ]
    },
    {
      "cell_type": "code",
      "source": [
        "print(un_words)"
      ],
      "metadata": {
        "colab": {
          "base_uri": "https://localhost:8080/"
        },
        "id": "06bJsh2CylgM",
        "outputId": "6f6e119c-e4d8-4579-8f0c-13314020bf29"
      },
      "execution_count": 38,
      "outputs": [
        {
          "output_type": "stream",
          "name": "stdout",
          "text": [
            "['Namah', 'oye', '#Klopp', 'milege', '#RSSQuestionsTeresa', 'jyotish', 'swim', 'pk', 'shubkamnayein', 'For', 'brid', '1995', 'Sanghi', '@chetannarula', 'Technology', 'gayee', 'harane', '#10KeBaadKarenge', '@saileshvora55', 'agn', 'Scindia', '#vadodara', 'hate', 'proclaimed', 'gauge', 'organiser', \"Sonia's\", 'presented', '#CWC15Final', '@DOCTORATLARGE', '@saadbinnaeem', '4', 'Alive', 'enjoying', '@drdheerajjain', 'Poore', 'jaayein', '@ErMki7', '@DaaruBaazMehta', 'Khamkar', 'Pratyusha', '#ModiScaredOfSonia', 'Girlfriend', '@Annu k', 'Patrakar', 'mercilessly', 'lol', 'Papaa', '@DareToZlaataan', 'cheer', 'Aurangzeb', 'Jethalal', 'kanpur', 'CST', 'Rama', 'Dhun', 'RAKHEIN', 'dene', 'ayee', 'secrets', 'Anbe', 'usse', 'Nautanki', 'SUNO', 'network', '@shubhansh1504', 'Mutt', 'celebration', 'West', 'se', '25', '@Imab1d', '@ExSecular', 'recently', '@chetan bhagat', 'jeete', 'Amazing', 'Congratulations', 'plays', '@saloniradhainsa', 'srk', 'abbdulha', '@DrGPradhan', '#priyankachopra', 'Jadeja', 'uppar', 'yar', 'Mile', 'Sanon', 'duminy', 'nar', 'farjiwaal', 'adharm', 'b', 'chickens', 'Larson', 'slogans', 'Remo', 'SHANKAR', '@abhisar sharma', 'journalists', 'Route', 'Sambit', 'returned', '@dhoni maniac', 'childhood', 'conspiracy', 'dropped', 'gaa', '@NabeelFaryal', 'Aastha', '@Muzammalafzal', 'Girodhpuri', 'Chaini', 'Economy', 'Bhubaneshwar', 'Telegraph', 'Rs', 'L', 'Care', 'Se', 'Soniaji', 'buy', 'Chote', 'hmesa', 'Rakhi', 'Shivling', 'ft', '@Keisar ', 'thle', 'gabbar', 'chala', 'Journalist', 'ROSHAN', '#ModiFearsKejriwal', '#HeroISL', 'rudrah', 'centuries', 'bete', ':) ) ', 'Mouth', 'Celebrated', '@Finelychopped', 'diwali', 'Mallaya', '@manojsirsa', '#trees', 'facility', '@gauravgarg1903', 'love', 'Justuju', 'krna', 'navi', 'Jyotirlingas', 'Munimji', 'Feli', 'usne', 'die', 'bravery', '@imsatyam15', 'Pandit', 'mndir', '@manoharparrikar', '@Navi Rawat', 'Gas', 'Salman', 'kejaru', '@paglapur', '#SaveFarmers', 'pechay', '@Rowdy Nik', 'who', 'bhenchod', 'Feb', '@mohituraina', '@SwadhaShankar', 'open', 'Baate', 'PMOIndia', '@ashutosh83B', '@mailtosamip', 'nazm', 'tumhaare', 'bhim', '#India', '@GoutamRishi', 'becomes', 'Raha', 'Muji', 'bara', 'Sinha', 'Yaadh', 'bina', ': ', 'likhe', 'system', 'hata', '@virendersehwag', '1984', 'order', 'ViralsDaily', 'Kurduwadi', 'big', '@abpnewstv', 'tumhara', 'candidate', 'Crore', 'congrats', 'laal', 'Bapuji', 'Mahimn', 'Nagpur', 'mufler', 'bal', 'Deals', '@EconomicTimes', '1200', 'vs', '#SRK', 'vat', 'jurm', '@Riteishd', 'Saint', 'A6', \"modi's\", 'good', '#02Feb15', 'yeh', 'Thala', '@saurabhraajjain', '@ParineetiChopra', 'Kangna', 'hibasal', 'jaga', 'Telugu', 'Har', 'Dimaag', 'remark', 'reh', 'padhai', 'pakar', 'shahjade', 'Elderly Senior', 'holy', '@scvaid23', 'vekh', 'ilzam', '@ZHaider514', 'Superstar', \"@derasachasauda's\", 'feliz', 'god', 'villain', '@Puja FC', '#AsiaCup', 'Shivay', 'headquarters', 'enjiyed', 'Chennai', 'quantum', 'kareb', 'adarsh', '#YoSoniaSoPoor', 'Rahane', 'nayi', '#KingfisherAirlines', '@AnjuNagarajan', '@ fragrantica ', 'friends', 'Tujhe', 'stooping', 'T6', 'wings', 'pe', 'sidhe', 'madam', 'SAB', 'plate', 'phle', 'His', 'Communist', 'Tejashwi', '@Cristiano', 'Divine', '#RjAlok', '@ipathak25', '#WIvZIM', '55', 'chalo', 'aab', 'seher', 'Stone', 'dimple', 'baar', 'Here', '#PrabhuKiRail', 'thanku', '@derasachasauda', 'vii', 'Paaji', '#AgustaWestlandScam', 'LS', 'Hall', 'Masla', 'Karachi', 'ggyii', 'zarorat', 'bevkuf', 'Nihange', 'hav', '#nz', 'Kejriwal', ': p', 'secy', 'satguru', 'Rahul', 'ham', 'decisions', 'hisa', 'Makes', 'JAI SHIV SHANKAR', 'Greetings', 'Driver', '@IndiaHistorypic', 'Follower', 'Pogo', '@TheJaggi', 'station', 'Khaini', '#LAB', 'HaHaHa', 'bantne', 'zAdani', 'samjh', 'started', 'chale', 'Seiko', 'HP', 'Asia', 'ignited', 'batsmen', '#MIvsCSK', 'Sidhu', 'Mosquito', 'bakwas', 'aapne', 'kardunga', 'TV9', 'Sanjiv', '@HashSidhu', 'how', 'Combodia', 'tekega', '#JNU', 'sharmas', '#MustWatchMSG', 'Marjaavaannaa', 'gai', '@sharma11ashish1', 'Trimbakeshwar', '#IndvsPak', '92.7', 'inhe', 'yeha', 'Low', 'aj', 'walk', 'samjhao', '#RainaKiShaadi', 'Apko', 'final', 'Both', 'JAMAANAA', 'laude', 'simple', 'Journo', '#5SaalKejriwal', '#runout', '@MTVRoadies', 'CM', 'ghusne', 'Behti', \"you're\", \"Women's\", 'internal', 'Respect', 'After', 'Aus', '#TwistedBollywoodDialogues', 'saal', 'image', '#MughaleAzam', 'walo', '@OYERJALOK', 'issues', 'Prof', '@arvindkejriwal', 'nahi', 'outcry', 'Tumne', 'Yash', '#Manjhi', 'TALREJA', 'RUNS', 'Panel', 'parts', 'header', 'Vannarapettai', 'indomitable', '#Lyrics', 'Lyrics', 'Magrur', 'Izat', '@akshaykumar', 'Dravid', 'Ye', 'dikha', 'Kishoreda', 'hyderabad', 'Kishwar', 'the', 'kohli', 'Pappu', 'give', 'regarding', 'Dahanu', 'Kurian', 'abolished', 'Harsha', 'Movie', 'sant', 'Naanu', '@saikarun', 'side', 'Brute', 'Buck', 'Bravo', 'patriotic', 'but', '@Justice ORNAB', 'ty', 'y', 'jaap', 'Col', 'plants', '#PremRatanDhanPayo', 'apki', 'spoken', '@zoomphatak', 'Tripathi', 'Khaitan', 'since', 'tag', 'padenge', 'Jaitley', 'Iman', 'Wala', 'Ajeet', 'Michel', 'rkhna', '@TheRajKundra', 'please', '@onlibuffness', 'Just', 'log', 'Bholeshankar', 'Writer', 'Watching', '@kunj desai', 'Kullad', 'Its B', 'kaal', 'hyn', 'criticize', 'mangoge', 'leher', 'tay', '@rameshchahal', 'Bhooto', '#FarziDegreeModiKi', 'cup', 'March', '@yesman33526309', 'DIYAA', 'crime', 'luv', '#Ramnavmi', 'Without', 'lagta', 'bharti', 'BHAKT', 'phod', 'won', 'Bolangir', 'soft', \"won't\", 'Saheb e', 'choti', '@AdityaRajKaul', 'us', 'Maid', 'Aye', 'Discussions', 'Rupess', 'wi', 'ill', 'vo', 'Drumlanrig', '#KXIPvGL', 'Lokhande', 'shivay', 'sa', 'BSKS', 'Fateh', 'full', '@NationalistNaMo', 'Desais', 'Jan', '#direngeziparkigeliyoruz', '@payalinsan15', 'domain', '@WeAreMumbai', 'Pratap', '@TonyKakkar', '#AAPtards', 'Morarji', 'tweetne', 'majority', '@CambiarNews', 'rules', 'kejriwal', 'dino', 'industrial', 'thori', 'Power', 'Mujh', 'shuru', 'yaha', 'tumhe', 'Forget', 'Its Raftaar', 'player', '1year', 'looted', 'Different', 'Vidya', 'rich', 'ISIS', 'Did', '2015', 'SA', 'training', 'Kay', 'Shoaib', '#Visionary', '#AUSvIND', 'hu', 'shivai', 're signation', 'Ga', 'celebrations', 'tricks', 'help', 'This', 'let', 'billions', 'talentd', '@Babu Bhaiyaa', '#festival', 'ga', '03:51', 'sham', 'vada', 'lord', 'Poornima', 'gae', 'nazar', 'sister in law', 'displaying', 'bhole', 'bs', '10lakh', 'play', '#Karnataka', 'Waly', 'Sharda', 'Mauka', 'Plzz', 'lovers', 'few', 'demean', '@gouravgg1993', 'thodi', 'Sachin', 'benevolence', 'bhai', '@Pyaari RiTu ', '#BajiraoMastani', 'bless', '@Rajan ptt', 'broke', 'ye', 'chalao', 'trah', 'feeling', '@SRKsCombatant', 'her', 'InshAllah', 'Badnasseb', '#Afridi', 'waise', 'irrefutable', '#RCBvRPS', 'block', '@chintanmistry4', 'experience', 'soon', 'project', 'Parae', 'congo', '2800', 'Texmaco', 'poor', '@PIB India', 'Won', '#RailBudget2', '@APJAbdulKalam', 'daud', '@LiteraryBadass', 'rekhta', 'soap', 'Riots', 'student', 'story', 'congrets', '@@@', \"Roger's\", 'cenima', 'kaha', 'Omkaara', '@akshaysonal', 'baaki', 'TeamShivaay', 'BTW', 'Archana', 'Chauhan', 'Shatakam', 'Jiski', 'DALAL', \"Raina's\", 'astronaut', 'DM', 'khuwab', 'Hahhahaha', 'aay', 'Simply', 'never', '#RRajkumar', '@BeingSalmanKhan', ':O', 'Sri', 'Congress', 'bring', 'taking', 'karde', 'Manohar', 'kare', 'demanding', 'chahne', 'Pradhan', 'Atalji', 'Sanjay', '#mahi', '@SitaramYechury', 'Talented', 'Vasal', 'Gayi', 'partnerships', 'Shruti', '@Zeenat Amaan', '@iambmane', 'Phir', '@jyotipunjabi2', 'Bulgaria', '#wc2015', 'roads', 'Aany', 'Darpok', 'Brothers', 'haathon', 'sake', 'eat', 'hhmm', 'aaj', '#AyirathilIrruvar', 'available', 'LOVE', 'jindabad', '@ImVKohlisAngel', 'zamin', 'blindly', '30', 'pappu', 'Azaadi', 'Environment ', 'Where', 'bhatt', 'Ujjwala', '#MSG2In505crOn200thDay', 'Waking', 'wishij', 'speed', '#HappyBirthdayShrutihassan', '@rehaankmr', 'Akshay', 'baithte', 'Mayawati', 'Liberal', 'ghaas', 'given', 'sanam', 'proved', 'mubarak', '@RSS4India', 'Roohit', 'reaction', '#Inclusive', 'sadak', 'liyee', '@officialsukhbir', 'Burnol', 'Brahma', '#IndVsBan', 'd', '@sirjadeja', 'world', 'ankhon', \"Jadeja's\", 'posts', '@asot', ' 18', 'Pitches', 'vishwas', 'Murderous', 'Haha', 'motivet', 'qaum', '#AFGvWI', 'account', '#Selfie', 'Heartiest', 'khor', 'isi', 'KM', 'Suna', 'ankita', 'now', 'Purohit', 'marry', 'hello', 'Hun', 'hi', '@mukteshchander', '@vaibysays', 'Morocco', 'Aatt', '#kohli', ':P', 'Naa', 'Championship', 'behold', 'Govind', 'samjhane', 'becoming', 'kamna', 'basis', 'cleopatra', 'apne', 'knw', '#Rabada', 'fails', 'hoga', 'jati', 'town', '#boycottraees', '@Sharma rajni29', 'amrit', 'mosquito', 'sahido', 'Andolan', 'He Pic', 'BholeNath', 'nets', 'pataake', '67%more', '@pksrivastava6', 'flop', 'hv', '@indiantweeter', 'Koyla', 'bas', 'theek', '#RestInPeace', 'Shahrukh', 'Biggest', 'Feelng', 'agenda', 'AamAadmiParty', '@jan iyer', 'chod', 'session', 'alawa', 'tragedy', 'Peeths', '#Congress', 'dilli', 'faster', 'sees', 'bapu', 'had', '#OurIns', 'City', 'Irony', 'Indianfans', 'Kashmiri', 'make', 'seminar', 'Shobha', 'lagam', 'Fast', 'Rasa', 'chor', '@bhakht', 'ginunga', 'Chaand', 'foreign', 'Nilgiri', 'natural', '#BudgetForAchheDin', 'chauka', 'wapis', 'kaptan', 'fakri', 'OmNamaShivaya', 'Dixit', 'Rajesh', 'kidhar', 'Vishnuvardhan', 'Mukerji', 'bacho', 'Devo', 'haa', 'irukku', '$5', '@pg27693', '#Gyaan', \":') \", '#JatReservation', 'janamaz', 'Master', 'students', '#umpire', 'Premer', '@shuvankr', 'akele', 'Anyone', 'Us', 'Sankranthi', 'Haripur', 'offence', 'yepiee', 'Red faced', 'chura', 'Ultimate', 'AADMI', 'Particular', 'strength', 'hmare', 'Set', 'Shtotra', 'ASHFAQUE', 'hote', 'nalayak', 'chance', '#Latur', 'Panchayati', 'Sunil', \"can't\", 'Haridwar', 'low', 'Post', 'Haar', 'tmse', 'chota', 'pasengr', 'blessed', 'bahar', '#IndvsAus', 'Hope', 'jay', 'dip', 'Pyar', 'struck', 'rajniti', 'crowned', 'Uttarakhand', 'Sonia Sisodia Sanjay', 'kind', '#foodie', '@IndiaBTL', 'job', 'rss', '#Vadodara', 'yun', 'Bhagwanji', 'kita', 'Ky', 'kyon', 'development', 'Roadie', 'Prabhu', 'RTs', 'gawa', 'worked', 'by', '@ColorsTV', 'whats', 'suicide', 'april', '#IndvSL', '@medhanarmada', '#InsafianTheLosers', '#PAKvsIND', '#INDvsPAK', 'governments', 'Instagram', 'Agla', 'Hay', '@kitAnurag', 'ya', 'congress', 'MPs', 'Uni', 'Courtesy ', 'exams', 'Hussey', 'amazing', 'kuch', 'gazal', 'sadhkon', 'naal', '#JaameInsanDivas', 'Killed', 'gya', '@UmeSalmaa', 'aayi', 'rubaru', 'festival', '#ScamQueenOnRoad', 'waalo', '@BloodDonorsIn', '9', '#PhotoWok', 'bowl', 'Biriyani', 'mumbai', 'Other', 'Dhoyenge', 'phr', 'Ramesh', '@ajaydevgn', 'bhe', 'Full', 'announcement', '@prena ', '#Photowalks', 'Sadanandan', 'lovely', 'She', 'varna', 'SUBSIDIARIES', 'greater', 'Madiha', 'commentator', 'begin', '#MyDishcovery', '@IndianExpress', 'rejects', 'missile', 'parliament', 'Akhandalamani', 'amit', 'mohe i hai', 'others', 'risk', '@coolfunnytshirt', 'fed', 'Superman', 'aae', \"sarhadei'n\", '7', 'dosa', 'kidni', 'success', 'sema', 'Awards', 'aree', 'me', 'Dear', 'People', 'jani', 'plagiarism', 'ministry', 'kounsa', '#Bristol', 'graces', '@jana9999', 'guru', '#Hindus', 'aka', 'bi', 'Jangpura', '67%', 'immoral', 'during', 'Jasumati', 'Healthcare', \"Vajpayee's\", '@join2manish', 'helps', 'shame', 'reason', 'muhaa', 'future', 'Yojna', '15', '#SoniaG', 'Srisailam', 'daa', 'Pic', 'RAJESH', 'Aa', 'Kalyan', '@DhuanDhari', 'papa', 'pradesh', '@neeraj raturi', '@shindekar', 'DEKH', 'Sanskrit', '#Realistic', 'FOR', 'Issi', 'Homma Lord', 'called', '@TrafflineMUM', 'lead', 'QF', 'base', 'Annual', 'tod', 'Venue', 'adha', 'sandhiy', '@Yamininisha30', 'ModiSarkar', '#IREvUAE', 'players', 'jawans', 'Imran', 'yr', 'SO', 'Sindhi', 'allowed', \"Chopra's\", 'strong', '@Utsav Atre', 'isnan', 'challenging', 'pakda', '@BhimBassi', '@sureshnakhua', 'ALL', 'Hoodnay', 'pelte', 'Epic', 'level', '#RaisingDay', 'Youth', 'era', 'Sridevi', 'Captain', 'condemn', 'Goddess', 'nai', '#JusticeForJisha', 'Putting', '@ashu3page', 'khaa', '@1mgupta', 'kahin', 'Mandar', 'taang', 'sharma', 'look', 'chutiya', 'MEIN', 'business', '1', '@ashramindia', '@AltruisticPooja', 'MAHADEV', 'Maneka', '#greatBattle', 'liye', 'Loves', 'dusra', 'porn', 'feelings', '#Gharwapasi', '@NotSoSweetGirl ', '@AnwerNaqvi', 'Gauti', 'bhi', 'Future', 'passing', '#DDvKKR', '@friendscongress', 'kal', 'NAHI', 'sinha', 'Tanwar', 'Abhijeet', 'gud', 'shah', 'do', 'bakery', 'quips', '@subhendujee', '@drshraddha16', 'begaani', ':) ', 'understand', '@realmadrid', 'Darbari', '#AfterTakingTwoPegs', 'footenge', 'Atal', 'Spectacular', 'already', 'rahega', 'ViswaKarma', '12.07', '@SachinTheFilm', 'Bheem', 'pagal', '@mariam tahir5', 'lena', 'dho', 'vision', 'Subh', 'tehra', 'prashant', 'twitter', 'Tear', 'Varun', 'Ko', 'birthday', 'shahid', 'apology', 'SATGURU', 'sent', '@Stupendousaf', '#BongFoodPorn', 'insaano', 'bekhabar', 'Teravaas', 'Darwaja', '@insaankomal', 'sy', 'Shashwat', '@AskAnshul', 'Gaye', 'lgy', 'feed', '@CJoshi28', '@virendra1602', 'performing', 'iss', 'Esha', 'brings', 'word', 'SoGa', 'Christmas', 'Apji', '@KiranKS', 'crayons', 'kun', 'Tum', 'answers', 'rahee', '@PRATIKatron', '26', 'Singh', 'Mithoon', 'university', 'supplied', '@krishanvraj', 'recollect', 'Sabha', '#12YearsOfMainHoonNa', 'karam', 'hilltop', 'Australia', 'pension', 'without', 'sides', '@rajneeshjindal', 'today', 'sonakshi', 'Khan', 'Hindi', '#MSGHonorToHumanity', 'ammeron', 'Yojana', 'Pakistani', 'Ka', 'Hindus', 'Kabhi', 'MADARCHOD', '300', '@doai ab', 'shouts', 'roop', '50Cent', 'game', 'ossum', 'Starring', 'uttar', 'ganga', 'shankar', 'Bajirao', 'Evidence', 'Said', 'diwana', 'pm', 'doodh', '#ZalmiRocks', 'celeb', 'kalpana', 'Vo', 'hahahhahaahaha', '#CW', 'THE', 'dabi', 'Nai', '@TandonRaveena', 'fruits', 'Silent', 'Bholenath', 'Government', 'mining', 'Jersey', '@ unclaimed', 'gangraped', '#Zero', 'some', 'welcome', '@arunvipra', 'I', 'Mujtaba', 'Shetty', '@KPonRise', 'Bewafa', '#AacheDin', 'Sushma', '@kamaalrkhan', '#AAPStorm', 'Bat', 'persons', 'Varanasi', 'aww', 'Does', 'Sad', 'Support', '@Calcutta Times', 'RBI', 'balance', 'GREAT', 'shoes', 'yatra', 'Satsang', '@madhurahnaikHappyMahaShivratriCuteMadhura', 'dance', 'ministries', 'Hamesha', 'Virat', 'Damru', 'saying Kya', '#', 'trying', 'Londoners', 'buffalo', 'Nice', 'births', '@rahaf rifa', 'hashtags', '@J0shuaPr0ject', 'Gulzar', 'global', 'MakeInIndia', 'achche', 'Bhole', 'dete', 's', '@AB Ali714', '@Ashishtics', 'Jeet', 'shubhkaamnaye', 'top', 'dekha', 'Baj', 'Madhu', 'Gabbar', 'hm', 'AAP Najafgarh', '#StalkTheStars', 'RareHistorical', 'MAHASHIVRATRI SHIVRATI', 'ad', 'Anniversary', '#TamilNadu', 'delet', 'loot', 'Zuckerberg', '@DarrKeAage', 'kasaar', 'UNIVERSITY', 'IQ', 'HYD', \"Shiva's\", 'Utsav', 'sub', 'gussa', 'wish', 'tabaahi', 'Oops', 'Rajya', 'committed', '@TheGujaratLions', 'Love', 'topic', '4 ', 'pura', 'zarur', 'Degrees', 'py', 'milo', 'relief', 'higher', 'Saara', 'Hmm', 'Hallelujah', 'Dena', '@ImVeeDee', 'min', '05 05 2015', 'Crafts', 'judna', 'amrah', 'Karor pati', 'Prasad', 'to', 'Kejri', 'comedian', 'victories', 'sciences', 'Bahut', 'chanting', 'Whataay', '#NonDualism', 'ble', 'Get', 'what', 'Baba', 'actor', 'bhejo', 'bhale', 'Naam', 'Acha', 'lana', 'Budgetary', 'Jagga', '@ITwingDSS', '@Trendulkar', 'an', 'ahead', '@jalanpurvi', 'pahile', 'Nandamuri', 'onion', 'khud', '#DilliKiski', 'indians', '@Quora', 'Slogans', 'Haan', 'Approx', '@sarvjot19972', 'jis', '@mehrishisumati', 'killed', 'shami', '@santravendor', 'Vedhalam', 'reat', 'pa', 'Search', 'DeviSharadambika', 'When', 'wrong', 'passenger', '#Modi', 'Ranaut', '@tivra123', 'Chandramoulishwara 1st', 'KA', 'garden', 'hain', 'Yamuna', 'demand', 'google', 'Chala', 'Abi', 'chutiyapa', '100 150', 'idli', 'economic', 'PM', 'ja', 'MLA', 'Bangla', 'Poor', 'Online', '@bhav2406', 'dekhna', 'pehle', 'rhy', '@dheeruinsan', '* ', \"#Modi's\", 'MUNNA', 'Deepika', 'remember', '#Indians', 'afzal', 'billion', 'Hoye', 'Download', '@PujaaGhosh', 'cases', 'Aneez', 'HD', '#SwamyInRS', 'Nitish', '#Fever104', 'Somwar', 'Patel', '#GratitudeToAllMothers', 'MLBANSAL', '@aryakanika2', 'liy', 'Yar', 'Update', '@DainikBhaskar', 'Hame', 'lolol', 'BABA', 'Kool', 'Haatho', 'alvida', 'diye', 'Audience', 'energy', 'act', 'Want', 'profi', 'Tamilnadu', '#hungama', 'Preparations', '@Shaheer S', 'pagle', 'stations', 'waalon', 'Yaar', 'badho', 'omgg', '@nishrana', 'Patakhe', 'es', 'kuchh', 'Jae', 'rukta', '#disgusting', 'kaamchori', 'jeetnay', 'Chale', 'din', 'jamhooriyat', 'traitors', 'Procedure', 'Calatayud', '@2806anu', 'parta', 'Jiiva', 'Such', 'Special', 'away', 'DEV', 'Usually', \"Khan's\", '@BDUTT', 'sapada', 'decide', 'Sec', 'every1', 'naashta', 'Number', '#DhanyaManikyaDebbarma', 'haaye', 'chuti', 'engaged', 'importance', \"#BJP's\", '@waglenikhil', '4m', '112', '@vaibbhavt', 'janaab e aali', 'kahte', 'suraj', 'sewa', '@indori tweets', 'Mahashivrathri', 'MAFIA', 'Food', 'native', 'tym', 'subhkamnae', 'Jaahil', 'Terms', 'into', 'degrees', 'Vaani', 'Tusshar', 'tu', 'ravish', 'lucknow', 'Nataraja', '@bjpnational', 'Tanno', 'samarthak', 'Pune', 'Boycott', 'Rafa', 'land', \"chirajeevi's\", 'Naya', 'Mahanadi', 'rehna', 'Jagdish', '#dhawan', '@GVLNRAO', '2gthr', 'paratha', '#PathankotAttack', 'teasers', 'milk', 'organised', 'birth', 'Modis', 'BSF', 'janta', 'Jaye', 'Bhadrappa', 'Sirf', '@aapkipreeti', 'Rishi', '2016', '@HinduRajyam', '@sulabhpandey ', 'pahuchti', 'bahot', 'pakoraas', 'thought', 'v2406', 'Vichare', '19th', '@iAruShine', \"saran's\", '31.3.2014', 'harega', '#CastePolitics', '#KPonRise', 'LAKH', '!', '#MSGlovesHumanity', 'missing', 'commision', 'mother', 'semi nudedotcom', 'Chandrama', '@exasperating ', 'link', 'Retweet', 'poora', 'LIVE', 'fursat', 'Was', 'Biopic', 'Khair', '#At', 'knows', 'Roastest', 'subhkamanaye', 'whole', 'ShivShabhu', 'non', '@alluarjun', 'jo', '@makeinindia', 'wow', 'ho', 'Army', 'krti', 'ab', 'IIT BHU', 'Pal', '@BanPuja', '@SahiDisha', 'Baalam', 'FM', 'Actor', 'Ganganpatey', '#BecauseOfBabri', '@DelhiPolice', '@toi pDasgupta', 'TN', 'MahaShivaratri', '@sanjaynirupam', 'hogi', 'Rajneeti', 'q', 'hestune', '@the master gogo', 'Sir', 'Lag', 'signals', 'career', '#icc', 'Kaise', '#MSGmissionHumanity', '@utkarshnaithani', 'karwane', 'Shivaratri', 'ohoo', 'Salvi', 'controlling', 'zayada', '@nitibnsl', 'ay', 'ritual', '@rajeshminocha', 'chahe', 'Tourism', 'Early', 'Basaha', 'Qila', 'Jaaye', '#cooking', 'Bhout', 'superman', 'smjh', 'chain', '@bhars97', 'Should', 'wat', 'Asaram', '#MumbaiTaughtMe', 'janm', 'gaane', 'jungle', '@IndianPrism', 'be', 'TOI', 'kia', '1880s', 'salute', '#mahanadi', 'salary', 'daal', 'al', 'threat', '#NihalBitla', 'defend', 'use', 'scene', 'dirty', 'thank', 'Cleanliness', '@Iam Prerna', 'jama', 'With', 'road', 'paya', '@Retributions', 'dumb', 'unabated', 'jst', '@gillraman705', 'Ho', 'dharnas', 'surur', 'Bus', '@cm qaimalishah', '@talhaAliAkhtar', 'Itnya', 'Chutiye', 'Mauke', 'Ppl', 'establishes', 'rukiye', 'first', 'aashwasan', 'sat', 'Vinay', 'Ball', '@TheRock', '@missionbihar', 'Somvar', '#MakeIndiaProud', 'seekhne', 'shubkaamnaye', 'Mushfiqur', '@sunilddesai', 'trend', 'krni', 'Dahi', 'ne', 'CCTV', 'Silchar', 'Naranbhai', 'Maika', 'Eid', 'kitne', 'Pair', 'evryone', 'Public', 'Lalit', 'Goth', 'Mantr', \"Mumbai's\", 'jee', 'baizti', 'pahunche', \"Caesar's\", 'patriotism', 'bottles', '@raggedtag', 'khusiya', 'replace', 'Julius', '@PoohBear Goa', 'Aapke', 'Gurmeetramrahim', '@spanikkal', 'raj n ish', 'chk', \"Rishta'\", 'soch', 'Nandini', 'citizens', 'Roit', 'Tanna', '#ShameOnKejriwal', '#RailBudget2015', 'AAPInNews', 'Tanuj', 'durust', 'agitation', 'quietly', 'bill', '33', 'Pooja', 'Ja', 'Paayega', 'Listen', 'Janakpuri', 'Almas', 'reporting', 'Shubha', 'Guj', 'ra', 'ah', '@Gurmeetramrahim', 'hein', 'BAM', 'Gunaaho', 'Dogi(1957', 'ritesh', 'his', 'could', 'hospitals', 'Bahot', 'ek', 'INDIAN', '@samidsiddiqi91', '5', 'par', '#IPLT20', 'nikle', 'Baaz', 'damad', '250', 'baatein', '@MaskedSRKFan', 'haar', 'bola', 'Cantt', 'aaunga', 'Railways', 'suru', '@TUTULSOTWE', 'Srilanka', '754gmailS', 'Shakal', 'Megastar', 'infected', 'kariye', 'Jawaani', 'French', '@rohitawasthi', 'Masjid', 'chiraginsan77', 'muslim', 'speeches', 'Washington', 'Received', '@JasumatiPatel', 'Aamir', 'Incredible', 'hogai', '#mustwatchmsg', '@LALETTAN BOYS', '@mushfiqur15', 'Pavnel', 'Yaha', 'judicial', 'jany', 'somone', 'lucky', 'zamen', 'Rajdeep Sagarika', 'AnmolVachans', 'InShaAllah', '@Ekta555', 'haal', '@Bihar BJP', 'complex', '@@', 'using', 'prayer', 'uski', 'meiN', 'Servant ', '@TajinderBagga', 'nagar', 'Maggi', 'barbaadi', 'Even', '#ThankYouSachin', 'Saves', 'milwata', 'pataye', '@nalinisinghtv', 'Sreeja', 'lehte', 'giving', '@nitinmahalwal', 'obsolete', 'happiest', 'maam', 'foundation', 'jaati', 'Mubarkan', '#vote', 'Night', '@cricBC', 'minister', 'every', 'piyari', 'Idea', 'kb', 'Use', 'jae', 'trustworthy', 'hr', 'Long', 'sureshprabhu', 'bhang', 'jagah', 'Kashmir', 'Sursagar', 'happyy', '@OdishaReporter', 'says', 'lets', 'hathon', 'sah', ':p', 'pramaan', '#pak', 'daya', 'Nawaz', 'mano', 'kirti', 'send', 'day', 'funeral', '3R', 'steps', '@pacificleo', '#mahashivratri', 'marta', 'School', 'THI', 'Fantasy', 'kameny', 'meters', 'aymond', 'Faqra', 'Cool', '@Tapash333', 'beti', 'Parents', 'especially', ': (', '#SmritiIrani', 'He Pic1', '400', 'Walaa', 'punjabi', '@Aum Shakti', ' URL ', 'sari', 'drought', 'facial', 'government', 'camera', 'villiers', 'gaana', 'Om', 'larki', 'WALI', 'arey', 'MahaDev', 'rail', 'Bhailog', \"Let's\", 'bande', 'computing', 'Namaah', 'filters', 'expressle', 'paas', 'Lataji', '#AamirKhan', 'yayy', 'year', 'innings', 'Ranbir', '@LifeOKTV', 'BILL', 'Arnab', 'follow', 'Gov', 'himself', 'vegi', '@Mohit FC', 'Shakib', 'Hume', 'chuka', '#Grahanam', '@kabirkhankk', 'Behka', 'Mein', 'Kumar President', 'safar', '#MSGinCinemas', 'sambandh', 'Mallik', 'Mohanraj', 'Nirvana', '#IndiaWins', 'Game', 'compromise', 'taken', 'copied', 'Non Veg', 'Gangaajal', 'VIKAS', 'bhool', 'disqualified', '#amitabhbachchan', 'C2', '#AIADMK', 'Saeed', 'share', 'im', 'Ramchandra', 'Majnu', 'Hindustani', 'Cautious', 'Clean', 'obama', '@sonalSalmanK', 'RamCharan', 'Braille', 'biscuits', 'terrorism', 'cheapest', 'Jb', 'jaan', 'Nine', 'Azam', '@tathagata2', 'Kahan', 'hk', 'remarks', '@Purani Delhi', 'bhigo', 'bharat', '#IndianizedKingdoms', 'banna', 'attire', 'dusre', 'khichte', '#AllezRoger', 'than', 'Krishna', 'Puri', 'states', 'Facts', '#TanuWedsManuReturns', 'Janardan', '@iam str', 'jal', '@TheIntlHerald', 'immense', 'Aapko', '@AamAadmiParty', 'walon', 'Waahh', 'Shivji', 'Pervez', '161', '@TarkeebiMe', '24xx', 'inter linking', 'leke', 'avg', 'How', 'langushing', 'ahm', 'Another', 'Celebrating', 'Adi', 'Mukhi', 'Leone', 'pruthapartha', 'matlb', 'packs', 'Gupta', 'Gujarat', 'echoed', '#MSGRevolution', '@Faller18', '191', 'Chhatarpur', 'sureshpprabh', '3G', 'waste', 'govt', 'panradha', 'taraf', 'Pata', 'humare', 'thok', 'in', '#Mogali', 'post', 'Babaji', 'Nishiddho', 'Bacchan', \"isn't\", '@diyainsan', 'roasted', 'dey', 'tv', 'Aj', 'Pehle', 'asli', '@cricketnext', 'Everybody', 'rehnedo', '@sardesairajdeep', '@SaakshiSRawat', 'iamsameeranwar', '#200DaysMSG2', 'Bagga', 'Ratnai', 'girlfriend', '#FDI', 'tum', 'IPS', 'Anushthan', 'gyo', 'marathon', 'Tritiya', 'cuteinsan', 'da', 'SSB', 'woman', '#SalmanForRio', 'hahahhaa', '@HINDUSANGATJCD', 'Sub', 'Law', 'Salutes', 'showing', 'airtel', 'comeback', 'charano', 'library', 'Sy', 'plans', 'Zardari', 'maula', 'ke', 'bulaye', 'Ayurvedic', 'khila', 'Romeo', 'Contrast', 'anyone', 'thnku', 'mahatma', 'Waise', 'California', 'du', '@abhijix', 'Ghotalon', 'Akhiles', 'specification', ':', 'swarg', \"Thakral's\", 'Iska', 'baith', 'jaaye', 'SC', 'india', \"Today's\", 'jawab', 'Sofia', 'petition', 'propagating', '@its ayeshaa', '@Kailashkher', 'KARACHI', 'serial', 'Warna', 'off', 'Shiva', '2', 'Image', 'pin', 'pooche', 'text', 'Hrithik', 'RCC', 'godse', 'shastri', '@galat fehmi', '@RailMinIndia', 'li', 'regime', 'mnths', 'hoge', 'Bhairon', 'Sajde', 'taxes', '@prashanth Kohli', 'discuss', 'subhkamnayein', 'Shikher', 'larkay', 'Cant', 'jald', 'right', 'tmhay', 'muktimohanWeb', 'rare', 'Shweta', 'nishkasit', 'jaise', 'Lo', 'gayi', 'sufferred', 'ghr', 'SOHBAT', 'tinsel', 'Bhaad', 'with', 'dialogue', 'Invitation', 'RailwayMinister', '@GurmeetramrahimGin', 'prenna', 'badhaye', '@SrkSaroz', 'khan', 'Sh', 'nikalti', 'dhang', 'Payers', 'gayab', '#photos', 'Alia ', 'Mahashivatri', 'Dekhegi', 'AAJ', '#harharmahadev', 'fans', '#IndvsWI', 'likha', 'injured', 'Doval', 'Gaddi', '@SonyTV', '@ShoaibDaniyal', 'Govt', '3000 ', 'about', 'kitchen', 'celebrate', 'two', 'utsav', 'leta', 'hetu', 'DocVatsa', 'logon', 'lega', 'Savitri', 'lowered', 'leading', '@attomeybharti', '@aditispeaks ', ' Tujhe', 'Personality', 'or1', '#Positive', 'toilets', 'agar', 'Manjari', '@karachikhatmal', 'rkho', 'US', 'jeet', 'king', \"dhoni's\", '@AbhinandanSekhr', 'yes', 'MAHASHIVRATRI', 'passion', '#LattooRepublic', 'Nursing', 'taught', 'ache', 'long', 'hadd', 'Wtf', 'time', 'Shankar', '#WIvsAFG', '@aashish81us', '@rajni77777', '#CelebTrains', '#RailBudget20', 'anti', 'writer', 'tender', 'gunfire', 'a', 'raina', 'Mata', 'Amaal', 'awaz', 'MMS', 'Garbhagriha', 'Jab', 'Sarfaraz', 'nutanki', 'aaya', '#BANvsAFG', 'HAHAHHA', 'loota', '#NAMAH', 'mahat', 'Shortest', 'paisa', 'ticket', 'PAPA', '@shalu sk', 'girls', 'M', '#MSG100CroreClub', 'hei', 'rhe', '@AadhiOfficial', 'English', 'mangalkamnayen', 'railway', 'Ankita', 'tyre', 'forcefully', 'Everything', '#NA', '@areebkhurafati', 'Log', 'maang', 'reach', 'Day', 'bleach', 'rangeele', 'launched', 'targeted', 'Location', 'muffler', 'Woh', 'fodege', 'D', 'ordered', 'Doutie', 'ASHRA', '@OfficeOfRG', 'wala', 'DRUGS', 'humesa', 'NDRF', 'Breaking', 'daan', 'raksha', 'airlifted', 'YouTube', 'aayega', 'While', 'Japa', 'language', 'Shivratri', 'videshi', 'bank', 'Vansda', 'vipul', '#MSGHumanityCamps', 'aaye', 'said', 'Sona', '@ClassicallyWild', 'wapsi', 'as', '@ImRo45', 'ready', 'IAF', 'th', 'Anjali', 'huh', 'FREE', 'Sheikh', '#shahrukhkhan', 'Rahoon', '#SultanKiJaan', 'kyu', 'Qadir', 'Vision', 'Lonely', 'saab', '@anumuae', 'laga', 'Kumar', 'she', 'sawal', '#BJP', 'moo', '@ImAkanksha26', 'strategy', '#WorldCup', 'sarkaar', 'tyohaar', 'Cholaa', 'dii', 'Ambassador', 'living', 'caste', 'SIX', 'sadko', 'aaiye', 'revenge', 'Olympic', 'Verna', 'Ameen', 'kahe', 'win', 'interpreters', 'K', 'Aasra', '#FanReview', 'chahta', 'Rukh', 'ever', 'dard', 'Karthik', 'NAMAH', 'Ancient', 'Happy', '#CWC15', '#KiskiDilli', 'Usski', '@AnkitFearless', 'padhaai', 'chahye', 'Drivers', 'guarantees', 'where', 'Tmrw', 'bribe', 'bt', '@itssr', 'Dii', 'prabhu', 'grace', 'TEAM', 'gori', 'end', 'hpy', 'ghumake', '@OpIndia com', 'karaden', 'ban', 'ITNlive', 'Shri', 'apka', 'Jta', 'Kangana', '@ScoopWhoop', 'Planning', 'Talaash', '@aartic02', 'Chhattisgarh', 'lunch', 'Airways', 'Guess', 'from', 'Flake', 'Kitni', 'karwate', '@irsad555', 'shivaya', '@ICC', 'banda', 'Jinke', 'Allah', 'MR', 'killer', 'santa', 'luxury', '@MTR Dishcovery', 'comes', 'Hotel', 'HAPPY', 'Ltd', 'Priyanka', '@ArnabGoswami', 'desh', 'Abdul', '#aajphodenge', 'honth', 'Beautiful', '@KejriTrolls', '@NaturesDoodle', 'INarendra7', 'upar', 'km', 'Raza', 'nkajshuklabjp', 'devils', 'gif', 'Gopal', 'Than', 'Rail', 'yahi', '#MSGdedicatesAwardToGuruji', 'Min', '125', '@MANISHAINSAN2', '#HikeFellowship', 'pretending', 'century', 'Sherni', 'Similarity', 'loviyu', 'Pokemon', 'lakh', 'Gold', '90', '#CongTerrorInRajyaSabha', 'Yusuf', 'court', 'Ap', 'Tarek', 'hny', 'diljitdosanjh', 'Sringaar', '@Uz Khawaja', 'doshon', '@AShetty84', 'sucche', 'takdeer', 'become', '@shrishtimona', ' ? ', 'hindi', '@digvijaya 28', '@thisisysr', 'Cheeku', 'rajdeepsinhjadeja75', 'anything', 'jyada', 'khlna', 'timeline', 'larkiya', 'Kaunse', 'timing', 'that', '@rajveerinsan9', '1 8', 'mix', '#SummerInTheCity', 'Rainy', '@MyCMKejariwal', '@BharatMataFirst', 'Qasmain', 'Remembered', 'kitchens', '#dillikiski', 'babugiri', 'Ravi', 'paatha', 'Vijay', 'resign', '#Hinduism', 'picture', '@kanhaiyajnusu', 'Katrina', 'badhaai', 'aapse', 'Gujju', 'Shivrati', '@newslaundry', \"India's\", 'CMR', '@uzma sarang', '11111111111111111111111111111', \"national'!\", '#MahaShivRatri', 'khoob', 'Ashsram', 'Kavita', 'grosser', '@', 'Vipul', 'Career', 'jadeja', 'Mere', 'Hey', 'enquiry', 'jadejaa', 'chahy', 'used', 'beithke', 'Hue', 'Gyan', '@anky1912', 'chutya', 'tez', 'face', 'Kapur', 'Film', 'Revamp', 'gym', 'Jammu', '@BSonarika', 'screening', 'sunn', 'Balan', 'law', 'OUT', 'Agr', '#Nhaye', 'hung', 'Doston', 'Up', 'Rathotsava', 'jabra', 'sets', 'sherni', '@ummeaiman07', 'say', 'haath', 'JasvirSjasvir', 'Awesome', '@INCIndia', 'thnd', 'aayenge', 'Karoon', 'bhaang', 'jra', 'Rehearse', '#Civilwar', 'yesterday', 'infant', '@emraanhashmi', 'Gulaal', 'Raj', 'state', 'Cricketer', 'yadav', 'parvati', 'most', 'khao', 'Kyu', '@shailesh', 'haha', 'Umr', 'Vandhale', 'hearts', 'Chicken', 'Kondagattu', 'G', 'Perfect', 'goodness', 'badhye', '@RpG 89', 'padh', '2019', 'hhuurraayy', 'follower', 'controversy', '@ taurus30', 'Is', '@SalmanzShona', 'Kamari', 'samjhaya', 'katha', 'Outrage', 'quote', 'teri', 'Me kaun', 'cleaned', 'setup', 'azab', 'rakhi', 'dekhti', 'channel', 'name', '#VIVOIPL', 'pukarne', 'backup', '#MSGmission', 'Ghutno', 'click', 'sawaal', 'JAIN', \"@ghulamnazad's\", 'chintan', 'Hemant', 'Rahim', 'Live', 'Wo', 'Mujhe', 'Lalettan', '@Harysforu', 'dual', 'Sunn', 'corruption', 'announces', '@BishanBedi', 'Dekh', 'kehna', 'hota', 'dev', '@anilkapur ', '@usha khokhar', 'juti', 'Telford', 'Mann', 'From', 'Jaipur', 'Pakki', 'Pragyapadji', '18+) ', 'Bharat', 'Booking', 'Sisodia', 'Song', 'Worth', 'Charts', 'sting', 'minute', '#Gujaratlions', 'zra', 'mahashivratri', 'launda', '@shalinit 6', '@Sadafawanvk', 'History', 'sharminda', 'busy', 'shortly', '@ChaitraSalian', '@205HiDeeps', 'BBHI', 'Shobaban', 'REMOVE', '#IndvsBan', '#BurnolLagaoLibtardsBachao', 'harp', 'Deh', '@MhtRajeev', 'built', \"Barjatya's\", 'usnay', 'sitting', 'Pollard', 'hope', 'Buffalo', 'hear', 'vidya', 'Obama', 'Tournament', \"#AAP's\", 'uthink', '@6', 'Pathaar', 'AM', 'jalao', 'apni', 'Pranam', 'DOT', 'personalized', 'HILLA', 'Birthday', 'L O', 'one', 'Kunaal', \"Nehra's\", 'bhumi', 'wherever', '3310', 'Anuskha', 'shift', 'singh', '@Rishiji', '@SultanTheMovie', 'plea', 'Of', 'jaydipjarsaniya', '@ZoomTV', 'naam', '@aditiraohydari', '#beautifulview', '@balliawalebaba', 'israt', 'Soni', 'bhar', '108', 'Chali', 'Ringtone', 'explained', 'Pancholi', 'dada', 'Kathmandu', 'humanitarian', 'Augusta', 'hahahah', 'counting', 'The', 'Resort', 'Ballay', 'Abhiyan', 'eliminated', 'Kom', '@riya9sobti', 'scared', 'Profit', 'Super', 'krain', 'behti', 'Gavilan', 'Wished', '#PakArmy', 'Do', '.', 'pataakhe', '@SirJadeja', 'Arfa', 'tumara', '@hbparmar211', 'Omg', 'Raja', 'dahi', 'nhi', 'continues', '@DiljotInsan', 'Ishq', 'kum', 'End', '#IndVsPak', 'happened', 'Tuesday', 'itne', 'realised', 'bare', \"chief's\", 'gurgoan', '13', '#bdnews', 'kara', 'Karte', 'sree', 'dhajjiyaan', 'thekedari', 'Sar', 'Y', 'souls', '@ScorpiusMaximus', '#WhereIsRahulGandhi', 'Lollypops', 'why', 'Magadeva', 'Girls', 'Mandir', '#DalitRights', ': D', \"Modi's:\", 'karman', 'Suhas', 'Pavitra', 'BMG', 'Modiji', 'tour', '#JagjitSingh', 'Omm', '#matchpoint', 'react', 'BAHANCHOD', 'choad', 'Art', 'exited', 'second', 'Question ', 'hue', 'raise', 'theatres', 'p', 'take', 'SUBSIDIES', 'Temples', 'Salo', '@FalguniRanpise', 'special', 'poetry', 'cinema', 'Chakwal', 'kabool', 'dhyan', 'serve', 'morale', 'jokes', 'poori', 'youngest', 'accuired', 'Sunabesha', 'Chandrababu', 'eng', 'Hasan', 'Hota', 'China', '#WIvIND', 'Wagons', 'mohalla', 'Citizen', 'Charge', 'lost', 'diya', 'Ranveer', 'halls', 'Dete', 'Sivam', 'paragon', 'Pahle', '@rj janakarajan', 'Tax', '#BOLBUM', 'Reception', 'SHUBHKAMNAYE', 'LAST', 'Pita', '#Hoi Hai', 'style', 'tujhse', 'maaro', 'Sabhi', 'H', 'punarjanma', 'Praveen', '@Dev Fadnavis', 'fast', 'aisi', 'Alam', 'policies', 'making', '#Theri', 'aum', 'Election', '#AAPkaCM', 'sacrifice', '@praveenpandram', 'classy', 'Hamein', '3', 'Palmyra', 'Baaki', '#WomenInIndia', ':) ) ) ', 'Gully', '@snehal gandhi', 'Anti Hindu', 'mufahimat', 'These', 'akhri', 'parents', '@faiezakhan', 'Nanasaheb', 'CanvasJS', '#AyuthaEzhuthu', 'party', 'Maharashtra', 'tells', 'Thoda', 'UP Bihar', '#Vallavan', '11:00', 'krishna', 'vote', 'sambhla', '#CSKvsDD', 'role', '@NtvteluguHD', 'next', 'Imposition', 'Daane', 'agle', 'Kyaa', 'Ramasundram', 'BigB', 'sedition', \"Kejriwal's\", '#ganeshChaturthi', '#AbdulKalam', '#UHF', 'Growth', 'pas', 'mauke', '@OyeMaria', 'aggar', 'Stay', 'more', 'stings', 'proof', 'jsingh341', '@arrahman', '#BudgetBT', 'nimrat', 'Mahadev ', '#dussera', 'akhir', 'press', 'mujhe', 'Bigot', '@Varun dvn', '@imdpk007', ') Sankirtan', 'mili', 'think', 'Bhasm', 'Sharmaji', 'sbko', 'Aarti', 'Itz', 'clinics', 'Opposition', 'pic', 'Congrats', 'bah', 'Dosto', 'mang', 'prime ministerial', '#WomensDay', 'spiritual', 'khane', 'On', 'BediJi', 'kholke', 'shai', 'Soniya', 'touch', 'Ready', '#MSGthoughts', '#railfare', 'Bhajans', '@neha822', 'phool', 'nutshell', 'boln', 'are', 'Ireland', 'Cos', '@chandu532', 'main', '#PakvSA', 'Nayanagar', 'Maalum', 'Sunny', 'jhut', '@dubash', 'Aavu', 'Muh', '@mustikhan', 'kah', 'CNN', 'directed', '2924 545', 'khela', 'jaldi', 'Cinemas', 'Parole', 'Titagarh', 'Mera', 'craze', 'Whats', 'Akhil', 'kya', 'Manokamna', '#LandBillWar', 'Bina', 'saala 2', 'blood', '@AlexandruC4', 'Aevam', 'jita', 'Lakh', 'dekho', 'finds', '@BeelaalTariq', 'Apni', 'Fiza', '@1', 'at', 'sibling', 'O', 'wah', '@feminamissindia', 'Kudos', 'dand', '@RahulReply', 'puri', 'rahi', 'falling', '@rajeevnayak1985', 'aapa', 'zameen', 'Azhar', '@GargiRawat', 'Satish', '#UPAChopperScam', 'Selfie', '@Ankitaa ', 'Varat', '@Varsharoy5', 'Good', 'dia', 'AAPke', 'doubling', 'dekhte', 'Suwami', 'Changed', 'aunty', 'Harayenge', 'UPA', 'Karta', 'dundo', 'Have', 'badan', 'marines', 'Desh', '@rawat narayan', 'video', 'other', 'karte', 'spoke', '#IPL', '@NaIna0806', 'smk', 'Sonia', 'Chudiya', 'Bhushan', 'darshan', '@65thakursahab', '40', 'Daaru', 'starring', '@kapilv20012001', 'sandy', 'hy', \"Schumer's\", 'Neemrana', 'Chaluu', 'Yeah', 'weakest', 'htt', 'Mahashivratri', 'despite', 'TweetsNow', 'Sign', '@IPL', 'ties', 'languages', 'padtey', '@MohsinAfridi ', '@jaman 04', 'Jaimin', '#INDvIRE', '@vivekagnihotri', 'Bhayian', '@FBkaBaap', 'lifts', 'jaega', 'Shadi', 'Entry', 'bodybuider', 'spread', 'Stotra', 'Unho', '+917838021969', 'gam', 'vannarapettai', 'lives', 'Go', 'pavan', 'Kingfisher', 'Manmohan', '@AnupamPkher', 'sam', 'pujya', '@Bluemagicboxes', '#IndiaVsPak', 'broken', 'Sadar', 'Indira', 'First', 'actual', 'EconomicTimes', 'sewage', 'wide ranging', 'hawa', '@Integrated me', 'bro', 'malvia', 'shayad', 'Time', 'karo', 'charisma', 'Says', '#KGn', 'kitna', 'Mumbai', 'Glossary', 'Hain', 'fake', 'mujhse', 'Shivay ', 'Jiwan', 'patake', 'Ramada', 'bech', '@dkbansalin', 'Islamist', 'aise', '2 ', 'hay', 'Trailer', 'prachodayat', 'LAND', 'Balika', 'negi', 'juda', 'Jii', 'remarkable', 'bday', '#Railbudget2015', 'friend', '@Naina67708743', 'antha', 'parvatis', \"Maharashtra's\", 'Swaraj', 'Shankara', 'parivar', '@ZeeNewsSports', 'Batman', '69th', 'dead', 'holiday', 'Jai', '@SukeshReddyRmur', 'recognize', 'Pitaji', 'hawala', 'ajdaho', 'Iss', 'tm', 'aaha', 'tore', 'apna', 'Shivayah', 'Badhai', 'Pta', 'r', 'Samajh', '@rsprasad', 'Rajasthan', 'whenever', 'hun', '#Railway', 'shot', 'bhejte', '@boogerworm', 'RaGa', 'entertainment', '#AgustaScam', 'krwa', 'Gambhir', 'New', 'contractual', 'chaihye', 'mene', 'NOIDA', 'water', '@deepkbudki', 'lekar', 'syrup', 'vjah', '@ suhasidhami', 'gaya', 'inches', 'too', 'Singaram', 'padta', 'ti', 'Panun', 'Mahadev', 'Sharan', 'Lakhbir', 'shubhkamnayy', \"Birla's\", 'abhi', 'Bless', 'ghumna', 'days', 'saali', 'portrayal', 'betwana', 'Sidharth', 'dekhtay', 'Majithia', 'JACOBABAD', 'eid', 'Srisrimangeshda', '#amethi', 'dena', 'Krishnan', 'N', '#AsiaCupT20', 'TAMAM', 'Kya', 'Zaki', 'Swaach', 'REHNE', 'Higher', 'Malagaon', 'bole', 'Zindagi', 'Nend', 'tareef', '@choriketweet', 'Mohe', 'hogya', 'meditation', 'jaao', '@TheMusicLegends', 'badhai', 'FAN', \"#India's\", 'consider', 'Vish', '@imVkohli', '@Actor Krishna', 'exam', 'OnLeave', 'KPK', 'attack', 'Naare', 'samje', 'Splitting', 'na', '@IamSaiDharamTej', 'Change', 'NATH', '@mrbhavinvyas', 'out', '@ kanwardhillon', 'Abee', 'own', '@wokthiswayindia', 'laa', 'itemized', 'Board', 'Nayagarh', 'usko', 'Kaif', 'PIB India', 'aapka', 'inko', 'Shivayae', 'opportunity', '@surrealzakir', 'Wish', 'choohe', 'agya', 'Hara', 'kada', '#Police', '@chandan9438', 'Snan', '@harikiranroyal', '#giabby', 'zaroorat', 'Dariyaa', 'blasts', 'kaushambi', 'ganza', 'Bhuvneshwar', 'posted', 'Babu', '@ManalKhan07', '72', 'Yesterday', 'ir', 'Tamam', 'Lok', 'hottie', \"Modi's\", 'namashivaya', 'Rakho', 'paya ', '#Ujjain', '@takshak speaks', 'true', '.!', 'Vrat', '@anandpassion', 'Plaza', 'tweets', 'ensuring', '#Progressive', 'Latin', 'Fans', 'inform', 'Chhoot', 'ball', 'ehsaan', 'Cough', 'lagaye', 'mayor', 'Ya', '180', 'garam', '@ankitlal', 'bhasad', 'Saurabhraaj', 'task', 'Kisko', '@shivangireviews', 'CandyBar', '. ? ? !', 'Pandharpur', '@zeenews', 'prominent', 'copying', '@madhukishwar', 'opposition', 'patil', 'Deshbhakt', 'yeah', 'tumhaara', '@LoveableNancy', '#whereisrahul', 'zindagi', '@Saurabh MLAgk', 'lagane', 'Kohli', 'Bangkok', 'gram', 'dreams', 'bhejke', 'shoot', 'Bhatkal', 'K.K', 'Kalindee', 'American', 'Firata', 'jawaani', 'Commentary', '@riteshsinhar', 'Birthdayy', 'pahna', 'wid', 'Anna', 'Best', 'BCgiri', 'khattr', 'isliye', 'market', 'Control', 'cooker', 'Acchi', '#winterstart', 'dedo', 'Delhi ', 'pishab', 'Befikre', '#WCFfever', 'muh', '@yesiamsaffron', 'promise', 'lagega', 'kl', 'certificate', 'Bowling', 'samay', 'all', 'ratri', 'aao', 'Daur', 'PATI', 'Taradeep', 'mera', 'short', 'words', 'Took', 'brahmachari', '#bleedblue', 'khayenge', 'samaj', '@Vivek Stalin', 'hashtag', '#Jangal Jangal', '#sky', 'Lolz', 'politician', 'Baare', 'tried', 'shubh', 'religion', 'Has', 'aana', 'Islamabad', 'Ghosh', 'Krantikari', 'So', 'change', 'Gurgaon', 'Konya', 'yrs', 'Date', 'rang e haath', 'Rajendra', 'politicians', 'waka', 'dal', 'dekhiyega', '#Instapic', 'lov', 'Radiant', 'sheed', 'CHIRKUT', 'Aree', 'jiv', 'hatch', 'Noora', 'kat', '#pakvsind', 'bavala panti', 'Shareef', 'Dutt', 'violence', 'Shivaya', 'IST', 'rise', '#Jaldoot', 'len', 'Passenger', 'milawati', 'Baad', 'night', 'khula', '@SRKsDrishh', '@VishalDadlani', 'WHY', ' ', 'wrongly', 'Akshardham', 'team', 'aona', 'bchao', 'haule', '@tonni263', 'hai ', 'rapist', '1am', 'pagala', 'space', 'maybe', 'Sultanahmet', 'Canada', 'pratibha', 'unemployed', 'Volunteers', 'Bhakt', 'dalne', 'through', '@Khabergaramhai', 'Photos', 'Sivalpuri', '#TaherShah', '@TanuInsan', '@BT India', 'RAM', 'Baje', '@rvmoorthyhindu', 'militants', 'anniversary', '#KnowPune', '@TrollKejri', 'Yuvraj', '#NotUsingHashtag', 'bus', '@Muzammil Says', 're', 'Shehla', 'Murray', 'maxwell', 'wadee', '#WhereIsRahul', 'Behenchod', 'pahle', 'these', '@arjunt 92', '#NFAK', 'relationships', 'cr', 'Uski', 'NewsxEight', 'pass', 'aa', 'Salty', 'murakh', 'renamed', 'UTSAV', 'Nanak', 'wanna', 'Thailand', 'ndtv', '#IndvsSA', '. ? ? ', '#rahulonleave', '@Insan1Preeti', 'Enemy', 'Gange', 'Progeria', 'planning', 'sadly', 'league', 'aradhya', 'hua', 'Teacher', 'politicns', 'Vyapam', '@mynamerahul007', 'mauhtaj', 'rajnigandha', '#AxisBankAd', 'Hahahahaha', 'gunj', 'abuse', 'Kashi', '@RituRathaur', 'ICC', 'meri', 'Kar', '@poorbitour', 'balayya', 'aas', ' ) ) ', 'Tv', 'AP', '#SoniaBribedMedia', 'kaam', 'brand', 'aahab', 'Sufi', 'yhi', 'Shahzad', 'always', '@abpmajhatv', 'ayse', 'Uddhar', 'shoulder', 'Cricket', 'Parrikar', '@king ranjhna', 'MegaStar', '@AfsanaMeet', 'Years', '@aghoshal', '@ShivAroor', 'tak', '@firstpostin', '#MaggiKiGharWapsi', 'Bowler', 'milake', 'Q4', 'Chaap', 'badh', 'thera', 'Google', '1R', 'Odisha', 'PARVATI', 'najar', 'Villages', 'Tyagi', 'driving', 'o', 'jai', '@AllTimeBakchod', '#IPLOpeningCeremony', 'Reminds', 'saalis', 'Simple', 'South', 'om', 'Kis', 'movie', 'bhulay', 'Shakti', 'Are', 'mean', 'Laughter', 'Deewana', 'claim', 'Ji', 'nafrat', ') ', 'Zeher', 'MerryXmas', 'Angel', 'wd', 'Roy', '@MANJULtoons', 'Unko', 'kamnaye', 'kr', 'Me', 'bura', 'comedy', '@aamir khan', 'DP2', 'shubkamnaye', 'Jokes', 'chetan', 'Gaya', 'tamanna', 'Played', '@india samvad', 'brother', 'Garmi', 'Swasthya', 'KR', '@SachinmOfficial', '@StarMoviesIndia', 'koe', '@Fataxaleem', 'kaur', 'Unwell', '@AAPMagic', 'hamko', '@smitabuch', 'go', 'bne', '@bhak sala', 'Herath', 'nehi', 'match', 'wha', 'Guys', 'Koraput', '@SANDEEPCOL', 'un', 'uma', 'tou', 'Benegal', 'mandir', 'vohi', '@SRKsWarrior2 ', 'Show', 'hours', 'way', 'gumsuda', 'baqi', 'cross', 'sunday', 'shivaye', '@TeamChak', 'lagata', 'Independence', 'khushiya', 'Bhakts', 'Score', 'Separately', '@tyagi40', 'arrest', 'ambitious', 'gold', 'Very', '#Indvspak', 'Khali', 'Attackers', '@HarishK25173278', 'BRODRY', 'Damn', '#Supreme', 'support', '@sunnysingh nw3', 'priority', 'Bole', 'babies', 'kaise', 'deeds', '#BigHeroes', 'Nishant', '32xx 28xx', 'guzarish', '130', 'Kyanat', 'batsman', 'kripa', 'haan', 'banjao', 'family', 'ry', 'mana', 'Hi', 'milta', 'Ram', 'Taken', 'yojna', 'dheeron', 'Irrfan', 'suddenly', 'presenting', 'Karan', 'kiya', 'dust', 'Video', 'sunte', '#ModiSlapsChina', 'criticis', 'Mark', 'guide', 'know', '#Practical', 'there', 'asaram', 'because', 'Shikayat', 'Meri', 'kabhi', 'Mila', \"Doesn't\", '#BossTha', '@AShukla ', '#MyTeamMyWorldCup', 'Te', '@priyankachopra', 'mile', 'humne', 'Hazrat', '#SelfieKing', 'uz', '@AgentSaffron', 'Kshipra', 'wicket', 'till', 'vacations', 'consistent', 'rocks', 'TeamIndia', 'TVC', 'balram insan', 'needlessly', '@oneindia', 'tumlog', '@vaidehisachin', 'Foundation', '@SomeGoanGuy', '#Muktsar', 'fouj', 'khaak', 'Reason', '@amitsultania11', 'meun', 'Sarovar', 'fix', 'lines', 'Meena', 'things', 'Arvind', '#AskRaina', 'thanks', 'Minister', 'Ding', 'mujra', 'Anjaneya', 'Dill', 'jitne', 'chal', 'MUTP', '#ComedianInParliament', 'Kutta', 'poren', 'fhodu', '@raonabeel', '#SaveWaterSaveLives', 'tax', '@Rajini rao63', 'dunga', 'kaminey', 'Tak', 'tip', 'papaji', 'KAPOOR', 'helpd', 'ws', 'propaganda', 'Chance', 'decoded', '#Railways', 'plan', 'sweet', 'Sheila', 'Ludhiana', 'Nehar', 'Andhakasura', '@deespeak', 'Devon', 'Warriors', 'Smriti', '#unionbudget2015', 'Famous', 'ega', 'bhaiayon', 'belong', 'son ', 'badi', 'Sher', 'it', '4000', 'baahubali', 'minds', 'communalism', 'Pradesh', '#ASOT762', 'puts', 'Distriparks', 'pande', 'once', 'Airoli', 'khas', '@BigPrintKarthik', 'bahno', 'Chepauk', 'banane', 'Param', '@Dervishious', 'AA', 'KE', '#railbudget2015', 'same', 'Kanhaiya', 'principal', 'beauty', 'Yograj', 'elections', \"D'souza\", 'sivakarthikeyan', 'Unilever', 'Kiya', 'sense', 'Aao', 'dil', 'fund', '#HR', 'Anuradha', 'MS', 'hahahaha', 'khelta', 'SF', 'Rudraksh', 'kholna', 'workers', '#etribune', 'Parliament', 'Pls', '(', 'nation', 'hii', 'maseeha', 'praise', 'he', 'ATB', 'sleep', 'people', '#CarFreeDay', '@Nagendr Sharma ', 'overnight', '@itsyaboyladin', 'Vastraadi', 'noone', 'daalni', 'Bhi', 'jamana', '#RiseAboveRacism', '1 0', 'namoh', '#Amethi', 'Mahadevaye', '@Soul Kadhi', 'Paki', 'hearing', '@GautamGambhir', 'noodles', 'utmost', 'chutti', 'Mallikarjuna', 'Spa', '@Manivj07', 'khaas', 'indiaforums', 'zara', '@P2makodo', 'duum', 'Oza', 'politics volitics', '@piersmorgan', '#BlockBusterMSG', 'shiva', 'Duniya', '@mrsfunnybones', 'Jayalalitha', 'polit', 'refusing', 'was', 'rues', '@mishkoo90', 'Seems', '3IEDs', '#Lord', 'veterans', 'recording', 'Insan', 'Raghuram', 'compartments', 'berojgaron', '#HeroNo1BRR', 'hona', 'Bund', 'Hai ', 'amenities', 'socho', 'dhawan', 'RUDRABHISHEK', 'Mahima', 'speak', '@MaheishGirri', '@bdnews org', 'aam', 'only', 'sakun', 'Address', 'meets', 'dikhayen', '#AwesomeLogic', 'killing', '#SRKDonates1crToChennai', 'paper', '@prek rk', '@aaprohit', 'smiling', 'Mehak', 'bheja', 'rice', '19', 'Drayton', 'Zimbabwe', 'kheliye', 'Saffron', 'B', 'BLESSED', 'Matlab', '#AgustaWestland', 'temples', 'daily', 'Shubhkamnayein', '#aapkidilli', 'Sometimes', 'godd', 'ussey', 'krn', '#twistedbollywoddialogues', '#Intolerance', 'Khayyam', \"Shankara's\", 'DHAN', 'must', '@bint e waseem', 'hn', 'woww', 'nama', 'dharna', 'iska', 'war', 'rung', '#MoukaMouka', 'whether', '#Devarsh', 'Next', 'afghan', '@VishalBhardiya', '#PrabhukiRail', 'Dokha', 'vichar', 'beth', 'Pardesiaa', 'section', '@deepikapadukone', 'Fiverr', 'cameras', 'Adding', '@iG Butt', 'Aayat', 'mall', 'hojaye', \"Shangri La's\", 'revered', 'dhapli', '@BJP Brigade', 'Ashuu', 'Satnam', 'converted', '#drorthooil', 'poocho', 'Hindu', 'tales', '@PakistanArmy4u', 'Bs', 'club', 'karein', 'track', 'Menu', 'AAdami', 'Yoga', 'dekhkar', 'twt', 'Tevar', 'gir', 'parmarth', 'river', 'topi', '#YouthIconMSG', 'leaders', '@AAPInNews', 'Kapil', 'Namo', 'Gayee', 'Debajyoti', '#DelhiDecides', 'Carbon', 'Urdu', 'does', 'ME', 'lagana', 'anu', '#RahulgramTaparian', 'Jeetae', '@midwestmoviesus', 'fil', '@NayakDeep', 'Mutualfundsaresubjecttomarketriskspleasereadtheofferdo', '3000', 'WB', 'sister', 'mangwa', '25%', 'Ghar', 'IIT', 'Sharma', 'Museum', 'Japanese', 'abki', '@msisodia', 'old', 'Jeetega', 'rockstar', '#hanumanjayanti', 'Advice', 'KHOPEKAR', 'hmm', '@iamsrk', '@sharethis', ',', 'hamara', 'NaMo mere', 'Celebration', 'Anderson', 'Waday', 'masala', 'Unethical', '@AmitShah', '@1ost ', 'nikal', 'Agar', 'based', 'local', '#MSGsalutes', 'Urvil', 'Ruchika', 'count', 'ati', 'might', 'Brie', 'Tu', '@cricketwallah', 'many', '@11AshokaRoad', 'Greater', 'DETE', 'reflection', 'Mahut', 'Rajnish', 'swasthye', 'Hum', '#AmitabhBachchan', 'hit', 'Rasheed', 'itni', 'Patkar', 'actress', 'hume', 'Bagh', '@richaanirudh', 'piyoo', '@MUFCNewsUK', '&', 'dies', 'Supporter', 'circulating', 'Once', '#Mauka', 'paye', '17', 'krte', 'paega', 'eToro', 'doing', 'Utpatti', 'SMS', 'implement', 'TV', 'cheers', '@pavan1230', 'move', 'fishermen', 'h', 'up', '@justicearnab', 'Py', 'jhel', 'SuyashInsan', 'gadi', 'need', 'launching', '#Shivratri', 'Valentine', 'cha', 'bahnai', 'Eight', 'parade', 'Lmbi', '#BestFakeJournalists', 'Tamil', 'ans', 'gujarati', '#experience', 'pulao', 'KO', '#DilliAAPki', '@JasdeepInsan', 'going', 'Hindutva', 'confusing', 'Crab', 'naino', 'Maa', 'Bhagane', 'Khanu', 'XI', 'baweja', 'Etne', 'Chiplun', 'Chain', '@PujaaVarma', '#tofu', 'mortality', 'Dhoti', 'age', 'Anushka', 'sharab', 'khatam', 'karva', 'ALUAS2Ni', '@madihajihan', 'jayegi', 'uttle', 'Maharaaj', 'mara', 'media', '@KyaUkhaadLega', '@Sadiatistic', 'afwaho', 'seems', 'haryana', 'ensure', 'check', 'bhag', 'read', 'autograph', 'raahi', 'question', 'Big', 'even', 'democracy', 'Urmi', 'Vehicle', 'Handle', '@TamalDas8', '#mattcutts', '#IfModiBecomesPM', 'There', '@KhanMobeena', 'minutes', '@munjays', 'Aprampar', 'research', 'Deepali', 'Rani', 'RM', 've', 'sabke', 'Hahaha', 'chants', 'acc', 'bad', '#ChotiSiKhawaish', 'Insaan', '@itsSSR', 'runout', 'Uske', 'Golpo', '27Apr', 'm', '#AmiKKR', 'yahin', 'Tara', '@taran adarsh', 'quadrapling', 'adventure', 'overboard', '@NottThatRavish', 'terror', 'hawai', '@MaryaamShakeel', 'Nt', 'rebel', 'score', 'Maha', 'Chidambarams', 'program', 'Kailash', '1800s', '@Meenay ', 'Sthir', 'canten', 'bolo', '@sailorsaurabh', 'o.O', 'marriage', '@Ankit Tyagi01', 'taklu', 'Rai', 'humse', '1000', 'Pak', 'Vikas', 'gas', 'hanging', 'interview', 'applied', 'RCB', 'Kuch', 'sunane', 'month', 'Lets', 'cal', '3X', 'ModiBharosa', 'andar', 'AshramSewaTeam', '#BlessingsOfMSG', '#RespectResea', 'Bangalore', 'Shiri', 'Railway', 'fodenge', 'awesome', 'Advaniji', 'LOL', '8am', 'aayegi', 'Pehli', 'manvta', 'mla', 'padhte', 'retirement', 'etna', 'campus', 'tarika', 'husband', '#AwardWinningExcuses', 'Trkiye', '#railway', 'Blessed', 'PAPAJI', 'UNCENSORED', 'Rajeshvar', '#cwc15', '#MSGsocialWelfare', '@Rekhta', 'Weed', 'Namha', 'ambushed', 'opener', '#PCB', 'gher', '@prasoonjoshi ', '@smritiirani', 'PUR', 'Marramay', 'kehta', 'happy', 'Avram', 'matlab', 'achieve', 'tuned', '@gurmeetramrahim', 'khush', 'hosala', 'soo', 'applauds', 'BHU', '(Akali Congress BJP) of', 'jamate', 'Ironman', 'colonies', 'Ache', 'ILU', 'Nokia', '@TOIIndiaNews', 'aagye', 'sampanna', '#Aaptard', 'EID', '#fan', 'we', 'technology', 'Kothi', 'inn', 'Rule', 'statement', 'harman', 'products', 'Soma', 'janardan', 'Virar', 'Anto', 'kishor', 'works', '#Awakening', '@rajivmishra', 'successfully', 'baahijan', 'Well', 'Lalko', 'yaad', 'Supreme', 'Bhikhari', 'Pilgrims', 'father', 'Gali', '@arshi yasin', '@bscamishra', 'kamal', 'ladkiya', '#GoldenGlobes', 'Kaew', 'mere', 'Nazir', 'velocity', '#KXIPvMI', 'gyaa', 'guys', '#HappyBirthdayHitman', 'any', 'show', 'normal', 'BaBa', 'ummeed', 'bilkul', 'dhara', '@vichupedia', 'stripe', ' 52', 'Kon', '@ankstweet', 'Bihane', 'mAlaikA', 'shor', '@HafizSaeedJUD01', 'Aum', 'Jadavpur', 'Attaboy', '@surya720', 'andorid', 'occasion', '@boxofficeindia', 'potty', 'article', 'Shares', 'sada', '1749', 'terrorists', 'celbrations', 'Cess', 'Chhutti', 'Chandigarh', 'Muktesvara', 'Kisi', 'wash', 'rakh', 'kar', 'bhaag', 'Maharana', 'param', 'Police', '@rss org', '@HTMumbai', 'radical', 'te', 'banate', 'Lingaraj', 'notch', '@poothegr8', 'major', '@ndpaatil', 'That', '31.25', 'nachne', 'hymn', '@aloketikku', ' ? !', 'gaye', '#TweetsNow', 'dawa', '#MSGSocialWelfare', 'Bhandara', 'National', '@Drama queenRJ', 'shots', 'Tumhare', 'hail', 'assault', 'therichirukku', 'Nadi', 'Parvati', 'Sushobhit', 'Phadnis', 'lal', 'ok', '@trevias azuis', 'product', 'Ra', 'roles', 'potentialpathin', 'Marathwada', 'Teaser', 'panel', 'Hashmi', 'Prakash', '1980s', 'labelled', 'OM', 'Pranav', '@sagarikaghose', 'Party', 'blackbucks', \"Bhardwaj's\", 'At', 'kudi', 'Mela', 'MLAs', '@rameshsrivats', 'pawan', '300+', 'ihsavru ', 'hui', '@Maddy Saheb', '@samachar plus', 'Business', 'khel', 'ana', 'tumse', 'Chat', ' ) ) ) ', 'forces', '@DrKumarVishwas', 'khoobsurat', 'facebook', '#believeme', 'wajase', 'Join', 'Ramiz', 'galti', 'nae', '#Iqbal', 'Chumma', 'drajayam ajay', 'Irani', 'public', 'Dekha', 'saath', 'sri', \"Qadir's\", 'semifinal', 'rohitsaini2100', 'Jaat', 'Paudwal', 'rly', 'pakad', 'Walay', 'sone', 'Asura', 'MC', 'booking', '@Sand In Deed', 'Semifinal', 'its', 'managed', 'laoo', 'Dikaho', 'enjoy', '@StarSportsIndia', '#special', '#MSGrequest', 'teachings', 'Lanka', 'saamne', 'Madhuri', 'Hosts', 'bail', '#bangladesh', 'badhaiya', 'Boulevard', 'mar', 'HTML5', 'Assocham', 'aaja', 'Afghanistan', 'END', '#Mahakaleshwar', '@armaankohli', '#IndVsSA', '@ShazooQureshi', 'Pe', 'better', 'retire', '@DuttYogi', 'dhyaan', 'gole', 'Kamal', 'Astrologer', 'Camping', 'haramzada', 'jaat', 'Aur', 'tabhi', 'anti India', 'on', 'Standard', 'bc', 'zao', 'Mahoday', 'Yo', 'Preet', 'fan', 'Sharing', 'also', 'Janta', 'Blood', 'mate', '@rcmms', 'manate', 'Lal', 'police', 'Dil', 'Sadiq', 'sabne', 'allah', 'kumar', '@BhagwanUvach', 'did', 'garland', 'koi', '@RainaKiGudia', '1950', 'Gateway', 'charges', 'More', 'Tera', 'decrease', 'will', 'Will', 'bidder', 'Critics', 'Shikhar', 'him', '#CWCFantasy', 'saving', 'kijiye', 'w ', 'semi', 'C Akhil', 'Roorkee', 'script', 'Havan', 'woh', 'sbhi', 'Chinese', 'brownie', 'have', 'raman', 'Darkness', 'hatege', 'inka', 'arrested', 'Rockstar', 'ji', 'Ramayana', 'subhkamanayein', 'brain', 'mat', 'pitaji', 'marte', 'created', 'descendants', 'drink', 'rivers', 'Dadar', 'Patna', 'KI', 'bat', '#besharmise', 'Robbinsville', 'Karad', 'KARENGE', \"Shah's\", '@Ikumar7', 'Edge', 'Hamla', 'ho(nxt', 'arre', 'tatti', 'belongs', '@arpitduryodhan', 'Gada', '@NeelakshiGswm', 'De', 'badal', 'men', 'directly', 'mainline', 'pan', 'Sarp', 'Hot', 'Zee', 'brisk', 'chaligeyi', 'Mai', 'liked', 'chahte', '#gizelethakral', 'Debate', 'psychopath', 'Clapping', '@GujaratLions', '#HaryanaResults', 'Pahuncho', '@Rinkkyy', 'Balochi', 'Goodwill', 'care', 'Et', 'Ankurgee', 'everyone', '@santanu maji9', '@DarshanBangera', 'rehte', 'auspicious', 'Parv', 'Terminus', 'Acting', 'sookh', 'password', 'around', 'shubhakankshalu', 'Takshila', 'slow', '@laidback1954', 'Lootere', 'devotee', 'Kahaani', 'batting', 'Inyathi', 'back', 'devo', 'sung', 'mai', 'accused', 'Bhagwan', 'paai', '@mvmeet', '#mumbai', 'rahat', 'yo', 'Troll', 'reacting', 'teams', 'Tripura', 'jab', 'TripuraSundariTemple', 'Fachhochschule', 'Pashupati', \"Aren't\", 'Chennai Tamilnadu', 'akmal', 'got', 'ar', 'vuntaru', 'version', 'execute', 'genuine', 'diffused', 'It', 'Black', 'MCBC', 'participate', '#NahiPata', 'Panchalingeswar', '#communal', 'Mitsubishi', 'NDTVProfit', 'bol', '@DivineSoulAmit', 'galat', 'ukhad', 'current', 'Zardare', 'Place', '@sonusachdeva07', 'Atankwadi', 'safest', 'Goswami', 'is', 'Harishankar', '#SaluteToSatnamJi', 'BhaiBhai', 'naira', 'challakutty', 'Sha', '@ETNOWlive', 'khushiyo', 'Ramki', 'ammenities', 'inspire', '@YyoungDesi', 'fellow', 'stays', 'deta', 'ae', 'Nayanthara', 'Shiv', 'gudnigh', 'Aap', 'maari', 'khelne', 'Ne', '#Mahashivratri', '@RanaAyyub', 'OpenBook', 'Bhai', 'chase', 'logu', 'kala', 'Sab', 'naseeb', '#GLvsDD', 'Padmashree', '@sudhirchaudhary', 'Fan', 'DeshGujarat', 'ACB', 'Man', 'MARCH', '@confusedbf ', 'Lahore', 'Tumhe', 'khayi', 'morning', 'sites', 'Tandav', '#RIPEnglish', 'Only', 'Picture', 'ghee', 'sbse', 'working', 'daroo', 'Chauka', 'sringaar', 'rat', 'Naqvi', 'Sikh', 'Omkareshwar', 'OF', 'different', 'Subramanium', 'abhishek', 'Aandolan', '@DJNoreenKhan', 'Jaisa', 'bht', 'puchna', 'mil', 'Akthar', 'Say', '@GIRISHlht1978', 'house', 'Sankirtan', 'phatane', 'Kabootar Tere', 'Modern', 'health', 'Supporting', 'pakistan', 'Asli malaika', 'boliye', 'tera', 'saray', 't', 'Star', 'eating', \"Baba's\", 'sums', 'bachana', 'MahaShivRatri', 'Afterwards', 'Under', 'USA', 'narration', 'parcel', 'RT', 'dilip', 'Saal', 'DAY', 'Mulayam', 'karta', 'Criticize', 'Latur', 'Report', 'dharm', 'sun', 'Analysts', 'Dhan', 'Tere', '@Clawalpha', 'nariyal', 'Fitoor', 'hamesha', 'n', 'kahani', 'HAR', 'Constructed', 'Dhyan', 'Chhatrapati', '@hushar mulga', 'jao', 'Admission', 'Bam', 'Nirman', \"#DrMSG's\", 'walay', 'soniya', 'SHRI', 'Totaly', 'Data', 'effective', 'suit', '#Indianmedia', 'protesting', '@TrendsPune', 'CNG Diesel', 'ht', 'sand', 'Swami', 'Kb', 'Khandelwal', '#drortho', 'Baleswar', '1st', 'chalu', 'sin', 'Band', 'continued', 'Budi', 'raid', 'Lovely', '@Nicks103', 'hoti', 'Ashutosh', \"doesn't\", 'toh', 'Mr', 'Dilli', 'Yeaahh', '@KalaYadav3', 'Intellectual', 'trade', 'Tense', 'valid', 'ambassador', '#KXIPvDD', 'Kriti', 'lage', '@SaranshGoila', 'bhaiyaa', 'Milk', '#kiskidilli', 'per', 'Rakhna', 'jesi', 'class', 'DS', 'bohot', 'Abhi', 'nain', 'listen', 'i', 'Kahoon', 'Threat', 'Code ', 'lattoo', 'Galey', '+', '@indiatvnews', 'kargil', 'Agartala', 'thali', 'Amritsar', 'director', 'jana', '@Samanthaprabhu2', 'Arun', 'dhoondh', '@rishibagree', 'saare', 'dress', '@bloggeray26', 'bunda', 'bashing', 'mohamed', 'Bazaar', 'darbar', 'Performing', 'Centre', 'implemented', 'select', 'Arjun', 'hey', '@ShankarNaresh1', 'parody', 'sonia', 'Guru', '@krsnakhandelwal', 'Huzoori', 'See', 'Yadav', 'Caught', '@sejaljobanputra', 'pressur', '@TheVoiceOfGaia', 'protection', '@mangeshkarlata', '@GareebGuy', 'karlo', 'announced', 'Din', 'krungi', 'karaha', 'Attended', 'gerua', '#food', 'Non', 'BilliMora', 'hindus', '#AAP', '@NitishKumar', 'Shubh', '#SreejaKalyanam', 'withstood', 'V', 'Havana', '#WassupMusicVideo', 'Vajra', 'fuel', 'garmi', 'pita', 'lekapote', '@S1NNGH', 'costlier', 'JNU', 'Deewani Deepika', 'kaisi', 'Knowing', '8527745669 01242570669', 'Gurukul', 'deye', '@YuvaiTV', 'manzil', 'lag', '@TheSynergy5', 'Too', 'Zaa', ' ? ? ? ', 'Thirunal', 'Raangu', 'Max', '@htTweets', 'mb', 'Pazhaya', 'punjab', 'cc', 'Roshan', '#Baroda', 'Chola', 'Lady', 'Kamadeva', 'Strange', 'number', 'kub', 'sakte', 'Aftab', 'kisi', 'president', 'Gizele', 'hell', 'Gud', '#LandAcquisitionBill', 'keep', 'Umashankar', '#HappyMahaShivratri', 'Shubham', 'khayal', 'Dhoop', '@AAPlogical', 'again', 'Can', 'panoramma', '@SPoonia777', 'bdhai', 'younger', 'baitha', 'patparganj', 'waqt', 'Balakrishna', 'Akbarabadi', 'krugi', 'dream', '@MODIsWarrior', '#Vadra', 'institute', 'achhe', 'Thai', 'possibly', 'waps', 'Sirraa', 'Fil', 'de', 'unhe', 'released', '@DrunkVinodMehta', '@PeeliHaldi', 'faryaad', 'Kaala', 'miley', '@askubusk', 'Lol', '@RabiaAnumm', 'Superb', 'Aapka', 'chakkar', 'keeta', '@mehulgohil', 'mini', 'nikli', 'Welcoming', '@Shreela22', 'superb', 'Dho', 'Why', 'warna', 'pancho', 'haii', 'baat', '@MuhammadHasanAz', 'Sudana', 'fr', '@nag1406', ' 3 3', '10th', 'tickets', 'issue', 'hall', 'Koechlin', 'women', '@ANIMESHSONI 09', 'haare', 'Illegal', 'wasta', 'Free', 'tujhe', 'iski', 'charming', 'Bhool', \"That's\", 'solution', 'Gulbarga', 'Exemplary', '#ConfusionKaEnd', 'krskta', '@BCCI', 'dafnaa', 'Chalo', 'Savari', 'Fenkte', 'worldwide', '#bapuji', 'Adhurss', 'Bataye', 'peekar', 'har', '2,800', 'vanda', 'Masha', 'songs', 'Afridi', 'Twitter', 'insaan', 'Nepal', 'fb', '#Congratulations', 'carrying', 'Banaya', 'review', 'Veg', '#ChennaiFloods', 'SonyTV', 'unauthorized', 'sure', 'University', 'Hasina', 'piece', 'jit', 'haiN', 'Chutti', 'SwissAcc', '@keetliwado', 'Launch', 'Waah', 'tech', '#Tanjore', 'IndiaHistorypic', 'yuhi', 'nos', '@SrBachchan', 'Yes', '#PakvInd', ':(', 'Approximately', 'GAY', 'FANS', 'admi', 'africa', 'HINDHU', 'Arunachal', 'sweep', 'ko', '@mehak shahid19', 'boht', '#achedin', 'place', 'Last', 'kadaa', '@sureshpprabhu', ':D', 'HI', 'Di', 'Bengal', 'fingers', 'woov', 'jaroorat', 'Italian', 'kevi', 'Dhenkanal', '@Javedakhtarjadu', 'fhudu', 'phodenke', 'bhot', 'btao', 'shropshirestar', '#MaukaMauka', 'Dalal', 'Aisy', 'JAI', '@ClubSporium', 'warns', '@21century kant', 'sahib', 'talking', '@VinitaXerxis', 'Eve', '@SimplyChanakya', 'Increasing', 'champion', 'havai', 'Modi ', 'sick', 'chawala', 'Fly', 'recall', 'girte', 'Thanks', 'Naidu', 'should', 'pakistaniyo', 'withheld', 'Daant', 'kanoon', 'mst', 'Sivaay', 'Mukherjee', 'save', 'Pappi', 'pistol', 'vikreta', 'jashnn', 'rumours', '@Thakurpops', 'Anandini', 'Opening', 'Share', 'Adami', 'Ek', 'cheeni', 'Hindustan', 'OK', 'Ganga', 'literature', 'Badami', '#StillMSG2Everywhere', '@ImRaina', 'believed', 'gripped', 'S', 'Niche', 'priya', 'Yashpal', 'lying', 'hopefully', 'Thou', 'Madad', 'kabhu', 'dher', 'Finally', '@FarOutAkhtar', 'ammi', 'jaanch', 'life', 'khuga', 'zidd', 'left', 'examples', 'maza', 'Let', 'Lathi', 'your', 'Manzoor', 'ELLE', 'yss', '#HinduismAbroad', 'suna', 'adding', '@firstpost', '@natashajain6', 'Sahi', 'questions', 'nd', 'Koi', 'ask', 'taker', 'Sooraj', 'accha', 'mua', 'aajao', 'bombay', 'mohe', 'Their', '@ChouhanShivraj', 'traditional', 'Strongly', 'PVR', '#SHIVAAY', 'karege', 'MAA', 'mimicking', 'aarop', 'wajah', 'Saadgi', 'nara', 'produce', 'zyada', 'Pareshan', 'lga', 'HUL', 'Unke', '@NDTVProfit', 'Rohit', '#CivilWarTrailer', 'Republic', 'khelrahahe', 'karwao', 'Serlingampally', 'bretheraan', '@MrsGandhi', 'di', 'Jana', 'esi', 'Punjab', 'NIGHT', 'Gaand', 'WiFi', 'under', 'jhaadoo', 'Shaiman', '@Gen VKSingh', 'gazab', 'Thanku', ') :', 'naukar', '@lksinsa', 'peeta', 'rd', 'mainezindagi', 'lgana', '@zzoker', 'audience', 'Redefined', 'trending', 'MAT', 'hai', 'brought', 'shiv', 'losing', 'means', 'daane', '@iamrana', 'frm', '#TheWhiteRevolution', 'he17', 'green', 'z', 'increase', 'About', 'such', 'ArvindAnnaBack', 'tea', 'very', 'Delicious', 'Marmara', 'e', 'Gupteshwar', 'shree', '@Abhinna Sri', '@ArvindKejriwal', 'itna', 'Listening', 'Bihari', 'beta', 'Milliins', '2002', 'Lahories', 'handsome', 'May', 'school', 'kisko', 'gudmorning', 'lagela', 'baare', 'Governor', 'btw', 'wikipedia', '#Ind', '@gracefulkiru', 'Ashwin', 'Banerjee', 'Steel', 'Africa', 'Shubkaamnayien', 'Cat', 'payega', 'Sweet', 'ma', 'matter', 'poonchu', 'Yeh', '@buzzindelhi', 'gonna', 'Puja', 'bachchan', 'Devar', '@iam Bhavya', 'kindly', 'Lov', 'gi', 'mauka', 'Lull', 'Suit', 'Bazmi', 'Gurmeet', 'Pankaj', 'them', '@InshaMalik 1', 'Keralites', 'Karkhana', 'Magazine', 'uptappa', 'sazaa', 'John', 'tidies', 'Bye', 'dono', '@TajendraRajora', 'Bakrana', '#SwachhDelhi', 'charniroad', 'sureshpprabhu', 'Oyyee', 'Crying', 'provided', 'Apki', 'Beach', 'Palkon', 'allotted', 'Hahahah', '#seafood', 'Shyam', '#MakeInIndia', 'ohmm', 'Pr', 'Mit', '#BleedBlue', '@anjali 18 rasik', \"Dheva's\", 'degree', '@nickhunterr', 'Shrimant', 'slam', 'Bhola', 'Tweet', '@meet1973vibe', 'nephew', 'ExRoomie', '#GodseWe', 'automatic', '(@', 'Mahalakshmi', 'Rangers', 'Poster', 'Ajinkiya', '@smitaprakash', 'Piya', 'Rang', 'Gangadhar', 'Hence', 'Byah Mahadevju', 'known', '@narendramodi', 'pai', '@LungFakeer', 'false', 'asnushka', 'Tumhi', 'nirala', 'Ab', 'sanvidhaan', 'Amitabh', 'khauf', 'Ladkiya', '@jatanacharya', '@Umarkarim89', '@Priyanshi ', 'investment', '@ssoniisshh1', \"AB's\", 'dham', 'exact', 'bettery', 'ends', 'while', 'grnd', 'military', 'wifi', 'ap', '@mehtahansal', 'degi', 'Hahahaha', 'Dr.', 'fool', 'planned', 'Sabka', 'hindu', 'Bhutan', '#KKRvDD', 'Diwali', 'finally', 'Ashram', 'Rafique', 'Education', 'Stumping', 'safe', 'MohanShakti', 'watch', 'Bhogle', 'maulik', 'includes', 'daadi', 'met', 'Sach', 'Site', 'kehte', 'apply', 'liquor', 'Exposed', 'Surya', 'thrust', '#SuperBudget', 'Colombo', 'Pa', 'were', '#WorldCup2015', 'Medha', '#SachinTeaser', '@aajtak', 'kujliwal', '#Sunshine', 'routine', 'train', 'Stephen', 'raho', 'bot', 'dhayn', 'succesful', 'hum', '@ANI news', '@hindustanse', 'Ceat', 'headache', 'kadam', '@SemperFiUnited', 'rkhta', 'dance action', 'issne', 'Deserve', 'Rain', 'ba', 'Console', 'portal', 'Pappul', '#MahaShivratri', 'bolte', '@IndiaToday', 'Duminy', 'singing', 'Symbol', '@NewIndianXpress', '*', 'noon', 'Rapperiya', 'Kare', 'Indraya', '#Budget2015', 'chief', 'policy', 'bandi', 'media&v', 'Asaramji', 'koti', 'clean', 'pite', 'dekhnge', 'Names', 'jaaun', 'personalties', 'kashi', 'ku', 'Upadhyay', 'Congi', '@Bawli Booch', 'Rockk', 'done', '@CaptAbhimanyu', 'apko', \"You're\", 'Lakkha', 'maro', '#SoniaRahulHazirHo', 'Narendra', 'msgs', '@SarahZaki11', 'Fares', 'troops', '#BJPManifesto', 'Vishwanath', 'permanent', 'horror', 'maa', '#VishAna', '@Shahrcasm', 'kyunki', 'likh', 'Bhen*d', 'alleging', 'Thulla', 'Dev', 'Patanjali', 'Saail', 'Abey', 'tune', 'surrender', 'Chadhal', 'bawa', 'you', '195', 'Empowerment', 'lips', '@Sama Gautham', '@aamir jaanu', 'adopted', 'pigeons', 'beef', '@vbvinsa', '@akhopekar', 'Columns', 'Two', 'Match', 'Qabar', 'vicious', 'get', 'Katasraj', 'Babar', '#raees', 'Name ', '1 ', 'come', 'Before', 'citizen', 'Raat', 'case', 'Watches', 'irrelevan', '@hennaav', 'Gayle', 'puchiye', '#TheBlissfulPeace', 'Start', 'Ban', 'live', 'maar', '#IndWins', '2R', 'urgently', 'Raina', '#MSG', 'Sisters', 'films', 'Consolation', 'kiye', 'nehru', '@only fo r you', 'Half', 'Aek', 'dua', 'Lions', 'Geet', 'hurled', 'Sirsa', 'Animal', 'Men', 'rahul', 'summons', 'Bade', '#SabkaBudget', 'Like', 'Bhagwaan', 'saala', 'Eli', 'EPIC', 'Boat', 'Its', 'My', 'Emraan', 'Menon', 'pak', 'original', 'revolution', 'international', 'Kerala', 'nahin', 'light', 'tere', 'greetings', 'Jasoos', 'piya', '#Special26', 'Take', 'TERA', 'majlis', 'Khurda', '.,', 'atibir', 'member', 'Srabanti', 'NSCN', 'abusive', 'wuss', '@MahaMahadev', 'v', 'mahadev', 'Bangladesh', 'Style', '@Obnoxious Ravan', 'shows', '! ? !', 'macha', 'sarkar', 'contribution', 'khushi', '500', '1Cr', ' AD', 'Chhota', 'reply', 'Ujjain', 'BHAGORE', 'sadaiv', 'Jyotirlinga', 'Himalay', '@Viratian05', 'medicines', 'banunga', '@pkorules', 'slammed', 'Bank', 'ajmal', 'nan', 'dhote', 'ray', 'areas', '#Thai', 'u', 'Chhratrapati', 'reconsider', 'kahi', 'hmesha', 'Geelani', 'yung', 'Tribune', '@kchowdhury9', 'counter', 'Borislav', 'VIRAT', '#WontGiveItBack', 'caring', 'new', 'Institute', 'Arachakamm', 'harami', '@TheVijayMallya', 'basketball', 'dala', 'Dost', 'Censor', 'Kalpit', '#ATKvMUM', '@scotchism', 'Finishes', 'anniv', '@DilliAajtaktv', 'damage', 'gyi', '@SChotepur', 'size', 'Charm', 'aapko', 'Her', 'Mohit', 'KRIPA', 'sahi', 'She Kabootar', '@BakwasRadio', 'aukaat', 'chorna', '@preet0987', 'head', 'huo', 'Maneesh', 'They', 'milit', 'jayenge', 'Right', 'kamate', 'Madam', 'footiya', 'Thnxx', 'Syllabus', '@vindugoel', 'abi', '@Zahenaseeb', 'respect', 'Dard', 'thoda', 'Zubaida', 'Nehra', 'sey', 'Jay', 'khatarnaak', '@1AhamSharma', 'after', 'mummy', 'Borja', 'Ft', '@Being Humor', '#MSGdedicatesAwardToAllFans', 'line', 'rahim', 'paaoge', 'Second', 'door', 'successful', '@rsshukla62', 'avsar', '@IAmSudhirMishra', '#KikuSharda', 'Mahamrityunjay', '#flipkart', 'Aadat', 'bra', 'arts', '#kejri1CrOffer', 'No', 'Brutus', 'Tiwari', 'HumHainNaa Sony', 'bhikhari', 'Rajyasabha', 'AnimeshBandyo', 'Kalki', 'jaye', 'gn', 'bichado', 'faltu', 'mulak', 'discussions', 'jalebi', 'la', 'drunk', 'EQ', 'Top', 'paida', 'last', 'Bjp', 'AB', 'daaru', 'Kolhapur', 'laptop', 'Arvinnd', 'raah', '#ind', 'Peshwe', '@mashkoor zaidi', 'Him', 'SurekhaInsan', '#CWC2015', 'sach', 'kanaihya', 'Miya', '@PerennialCold', 'Me Kitni', 'LEAKED', 'Action', 'bed', 'UMPIRE', '#Baywatch', 'MSG', 'Aaj', 'hojae', 'Getting', 'route', 'jaa', 'Majburi', 'Rapping', 'granted', 'Court', '@RajeevSrinivasa', 'nothing', 'chhap', '#JavedAkhtar', '@dibang', '#JaiShiv', 'karwaengey', 'sports', '#OROP', 'Main', 'Shoot', '@sachin rt', 'trailer', 'Program', '#Kejriwal', '@SadhguruJV', 'ex', '@ArifeenIbad', 'medical', 'Back', '#blockbustermsg', '#ASOT2016', 'guards', 'Bhenchod', 'humour', 'Tendulkar', 'Via', 'achha', 'Nehru', 'bakar', 'U', 'padegi', '#Golden', 'tau', 'Shrishti', 'Pakistan', 'incrse', 'T', 'rum', '@MohitParmarr', '#MannKiBaat', 'Latisha', '@anilvijmantri', 'virus', 'Bokaro', 'Maithili', 'floor', 'Copy', 'Pakistanis', 'Chair', 'Shami', '#wt20final', 'btwn', 'Eq', 'if', 'hogaya', 'AAP', '50', '@TOIEntertain', '@bhattkaran83', 'hungry', 'before', 'shimla', '#MUFC', '@UbcanilGupta', 'advanji', 'krke', \"tomorrow's\", '@taslimanasreen', '#Maggi', 'silent', 'kiranbedi', 'Kapoor', 'Ambedkar', 'hone', 'wapasi', '68', '#wt20', 'happening', 'RAILWAY', '@ndtv', 'want', 'sti', 'Tumse', 'rights', 'Kapilash', 'Cordial', 'song', 'KUND', 'Need', 'selfie', '@BSNLCorporate', '#EhsaanFaramos', 'like', 'Nasseb', 'praised', 'IndianCinema', 'Sultani', 'fortress', '#Mahadev', 'honge', 'tumhein', 'Simon', 'committment', '@Nizam ntr', 'odd', 'hike', '14th', \"London's\", 'bhenC', 'Socho', 'ShivRatri', 'Kyunki', 'RJ', 'schedule', 'this', 'gadbada', 'Wapsi', 'sabhi', '@VivekMMisra', 'Deepak', 'of', 'ha', 'college', 'peda', 'whose', 'SAARA', 'disqualification', '@BJP4India', \"Dhawan's\", '@Chilika', 'pranam', '#INDvAUS', '@Hindi Liverpool', 'Kartar', 'Saktiman', 'Better', 'denge', 'Gurdwara', 'Mast', 'phir', 'aur', 'phone', 'UNSFP', 'Uska', 'Owaisi', 'Raymond', 'Beta', 'Win', 'Final', 'Dera', '@aajtakki', 'Hu', 'banwaai', 'karna', 'tha', 'yaar', 'bullet', 'paise', 'Ravindra', 'rehmat', 'Tandava', 'Goa', 'ki', '@jecrcharish', 'Guruji', '@CricBellz', 'nau', 'NMApp', 'J&K', 'Khojne', 'AnkitaInsa', 'colours', 'naa', 'Dinga', 'putly', 'SHIVAYA', 'rewari', 'likhne', '#Akki', '#IndianRailways', '@MukulKMishra', 'Morning', '#AsiaCupT20Final', 'Pariyon', 'kudiyon', 'budget', 'photo', 'shape', 'izzat', 'maiyya', 'Darja', 'Coverage', 'hin', '70', 'bhagwan', 'Now', 'aapiye', 'Kamna', 'insan paul', 'namah', '#LahoreQalandars', 'bula', '#river', '@ATSBB', 'AAM', 'naanu', 'appointed', 'Team', '@NakuulMehta', 'then', 'OMG', 'awsome', 'Today', 'Priority', 'Engineering', 'BHOLENATH', 'Salute', 'Phalke', 'bheetar', 'Brands', '@vijai63', 'Majbur', 'To', 'bar', '6', 'Soo', 'allready', 'PTI', 'Saari', 'Parmal', 'Upgradation', 'Cambodia', '@amsobittyagi', 'bulaya', 'benchmark', 'blame', 'bodies', 'Bhaijaan', 'larne', 'Siva', 'PC', 'ni', 'apologize', 'towards', 'der', 'country', 'Bhavnagar', 'not', '123%', 'reports', 'hardhik', 'chawal', 'militant', 'zillion', 'boiling', 'hides', 'Novak', '@janimynk', 'Mubarak', 'carrot', 'Kajrat', '3cr', 'achcha', 'educated', 'Jindige', 'chote', 'mitra', 'ese', 'historic', 'Puducherry', '@Ankita Shah8', 'bahoot', 'Gurus', '@ritesh sid', '@billimehoncutec', 'jisne', 'centiment', 'CBI', 'jese', 'pubs', 'MUCH', 'Stuart', 'Peace', '@RoflSinghSaab ', 'Aaatt', 'max', 'several', '#Cricket', '@jainansh0201', 'miss', 'interact', 'awards', 'doobta', 'Marriage', 'delete', ' m ', 'Temple', '@ManishaFan', 'Forum', 'mendu', '#Beach', 'Vir', 'call', 'increasingly', '@Typodhish', 'rahiye', 'doc', 'procession', '#Periscope', 'lep', 'Co', 'Kayakalp', 'between', 'pls', 'vashi', 'sw', 'taroo', 'Muft', 'Chanaa', 'date', '#NowPlaying', 'broad', 'series', 'performance', 'Status', 'paap', 'kholdiya', 'delhi', '@katamulgi', 'thokho', '@iamsharmi7', 'Mat', 'HAIN', '@Abdullahbaltit', '@MehrTarar', 'aachar', 'held', 'York', 'konsa', '#TheIrfanism', 'logo', 'l', 'performances', 'Par', 'http', 'expectations', 'Nahi', 'feels', 'Raasipalan', 'chalta', 'lajwel', 'k', 'saahil', 'mind', 'MIB India', '#Spidey', 'Karke', '#DelhiDaredevils', '#CAGExposedGadkari', 'Rashid', '#WT20', 'Bachchan', '#Sadguru', '#RespectResearcher', 'kch', 'APNI', 'listening', \"Prabhu's\", 'Zebra', '#bhatkal', 'Planet', 'katna', 'bhakt', 'politics', 'bjate', '@Filmbuff100', '@aliaa08', 'DaaruBaazMehta', 'Bhakti', '11', 'and', 'ajay vora', 'dear', 'Nestle', 'India', 'expect', '@realmadriden', 'Thanthi', 'fielding', 'groups', 'wishes', 'behaving', 'rahe', '@ImranKhanPTI', '@THEdsaher', 'MSD', 'aisa', 'P.C', 'DDCA', 'Sigh', 'may', 'port', 'Kehte', 'credit', 'outside', 'ShantSalone', 'those', 'commentary', 'ak', 'Brinjal', 'hamaarey', 'fooling', 'imagine', 'MERE', 'itself', 'Kahi', 'zombie', 'BT', 'when', 'work', 'mahine', '@YouTube', '@PMOIndia', 'Nepalese', 'Mahakaal', 'jaane', 'Happyy', 'America', 'bhookhe', '@atletidekolkata', 'Sivaya', 'Shikar', 'another', 'Abe', 'faridabad', 'Krishi', 'badhaya', '#KorboLorboJeetbo', 'banalo', 'janeman', 'single', 'rahoge', 'mila', 'karoge', 'whos', 'ajeeb', 'Lord', 'Voice', '#pharmaceuticals', '#AnnaReturns', 'GOONS', '@VaishnavDevta', 'Hai', 'Inzi', 'And', '#RajnigandhaSixWordsStory', 'Harnay', 'enroute', 'kamanaye', 'Nazer', 'Stars', '#commentary', 'hilane', 'aye', 'implementing', 'ArvindKejriwal', 'Pujye', 'fir', 'waale', '#MSGsaysEqualityToAll', 'Itna', 'beat', 'Ajay', '@sagarcasm', 'triangle', 'Gandhi', 'Zafar', \"there's\", 'sona', 'Plz', 'Arti', '@fateema ', \"couldn't\", '06 05 2015', 'hoi', 'Nayi', '@TimesNow', 'violently', '#SanskaariChandigarh', 'ShivG', 'satkeli', 'Downtown', 'kon', 'jalandar', '@zeemusiccompany', 'tumhra', '@mylifeasadesi1', 'Recap', 'Sultan', 'cuase', '@TweetZaade', 'supports', 'Gavaskar', '5 5', 'approval', '@vicky99564', '@foninjaTW', 'Bijnore', 'Bas', 'Thiem', 'Indian', '#SportsTweets', 'arora', 'Kalwa', 'jayege', '#AFGvSCO', 'aapki', 'meetha', 'Cong', '@AOLSwamiji', 'whatsapp', 'map', 'moral', 'rehe', 'garibo', 'bahut', '#IPL2016', 'Mahesh', '@bharat builder', 'so', '#DelhiPolls', 'stay', 'real', 'Pics', '@InternetHinduz', \"whistle's\", \"balayya's\", 'AK49', '#WI', '#CelebMiddleNames', 'Muharam', 'Shivaala', '#aachakiya', '@IndoriGaurav', 'Akhtar', 'response', 'Kashir', \"don't\", 'kam', 'daughter', '#Join', 'milne', 'modi', '@IndianRailMedia', \"Mushfiqur's\", 'Hayee', 'Patekar', '#HopeOfPunjabKejriwal', 'MahashivRatri', 'gye', 'Mahiwal', 'celebrating', 'Rayudu', 'answer', '@Sahir Dhoom', 'Raksha', 'helped', 'absurd', 'seedhe', '#missileman', 'BHOLE', '@NautankiNinja', 'babugiri ', 'gunah', 'meh', 'Dude', 'Sabse', 'truth', '@ SunOye ', 'Srk', 'chodte', '@MohMeh1963', 'msg', '* *', 'aasra', 'waala', 'Kaale', 'baad', 'Ki', 'retweet', 'pure', 'november', 'Sardaar', 'pregnant', 'BAAP', 'Lala', 'wo', 'devices', '05', 'expose', '@kalakaar', '@HaramiParindey', 'prasad', '@MahikaInfra', 'saraa', 'MulayamSingh', 'farma', '#Retrica', 'sd', '@iamlakshmirai', 'Some', 'lete', 'Virawani', 'Sundari', \"Kumar's\", 'been', 'Modi Sharif', 'akkians', '#MSGsuccessCelebration', '#MSGappeals', 'Sath', 'legal', 'Reconsider', 'humming', 'plz', 'Shardashram', 'Mil', 'begairato', 'tumhari', 'Laddakh', 'hiduo', '@KirronKherBJP', '#PicsArt', 'funds', 'direct', 'Suppa', 'Palak', '@pankajshuklabjp', 'banana', 'ela', '@helloanand', 'Tiri', 'Bihar', 'Spread', 'Masanam', '@MildlyClassic', 'Ajeeb', 'ky', 'Patels', 'crying', 'Chal', '1437', 'test', 'talented', 'Jha', 'chhodh', 'innocence', '#Jai Mahakaal', 'acchi', 'together', 'devil', 'karate', 'Marjaava', 'sabko', 'Deny', '@ishavru', 'Bring', 'aage', '@smart mumbaikar', 'anushka', '#BecauseOfTwitter', 'rename', 'Mastani', 'InsanDua', 'city', 'eys', 'band', 'paki', '#Pakistan', 'Saturday', 'kis', 'congratulations', 'FAQs', '#OM', \"Who's\", '@kenanmalik', '#DSSFoundationDay', 'Force', 'binging', '@AnushkaSharma', 'Shoyeb', '@ibnlive', 'tweet', 'keh', 'would', 'update', '@CMofKarnataka', 'virgins', 'mein', 'Aankhen', 'GoodMorning', 'maan', 'put', 'os', 'Rest', 'music', 'Byah', 'Mangeshda', 'palanhar', 'Mr.', 'recovery', '@Dev Raj', 'Lalit Vijay', 'YE', 'Devgn', 'ley', 'hosakta', '#indvspak', 'scheduled', 'karne', '#chilikadhaba', 'Rehna', 'sahab', 'baithoge', 'SHIVSHANKAR', 'mamle', 'Unhone', 'Tips Guidance', 'ro', 'great', 'Kuchh', '@gautamverma23', 'chaddi', 'Ambani', 'CPEC', 'bane', 'ka', 'aqal', 'MP', 'One', 'Ghatlodia', 'ppl', 'gau', 'Immediately', 'Delhi', 'Injured', 'Moscow', \"Singh's\", 'hereIsRahul', 'dismisses', 'DeshKaSutradhar', 'wasool', 'Muslim', 'becoz', 'Aansu', 'Aanaa', 'lo', 'February', ' ) ', 'paradise', 'brodry', 'run', 'hurts', 'Rahul Accha', '#PanamaLeaks', '#PakistanCup', '@Imshonaa', 'starts', 'BHADAI', 'chalega', 'August', 'kept', 'jb', 'hatya', 'GATE', 'irritating', '#Antman', 'tussi', '#idontwantit', 'cracks', 'samajh', '@nimrah307', '#Kids', '@insan honey', 'Reports', 'deactivate', 'chalegi', 'disrupt', 'NO', 'twisted', 'Roast', 'uspenfilm', 'virat', 'Mahakal', 'Dlhi Rudra', 'Speech', 'GAAND', ' ? ? ', 'Official', 'medalist', 'God', 'Harpal', 'B+ve', 'famous', 'officer', 'pet', 'they', 'konsi', 'chahiye', 'Iceman', 'shines', 'Shrutisagar', 'against', 'Muhajirs', 'jaayega', 'Contest', 'Which', 'karega', '#IndvsNZ', 'shanti', ' Vocal', 'lokhande', 'republic', 'asafoetida', 'mey', 'Check', \"fan's\", 'Chutiya', 'dyy', 'posters', 'shubhkamnaye', 'paaya', 'unne', 'gar', '@CricketNDTV', 'Hamza', 'Dont', 'followers', 'goli', ' s', 'fake ', 'hen', 'Death', 'padhiye', '@sankalparkapoor', 'RIP', 'chestadu', 'Sadko', 'kahu', 'eyy', 'rlyline', 'filed', 'parv', 'BBC', 'Nath', 'bn', 'sadomasochism', '@HusnKaHathiyar', 'Market', 'Ganeshay', 'Portfolio', 'marg', 'Jayega', 'Thankuu', '@cynic wall', 'funny', 'Lucky', 'deesh', 'g', 'much', 'Jaldi', 'andaaz', 'DAT', 'murder', 'pyar', '#Hyderabad', 'scam', '@jashandeep697', 'Das', 'Jabardust', 'chlenge', 'Ajmal', 'Highlights', 'kaun', 'Acceptance', 'jate', 'wi fi', 'sab', 'baap', 'PETA', 'Nbdobariya', 'hahaha', 'ofSt', 'guess', 'Namashivaya', 'custoner', 'NC', '#Spiderman', '#CantBeatIndia', '@eye nakshiran', 'Shahid', 'Malaviya', 'Russia', 'League', 'which', 'delivers', 'rollout', '@tubzhoney', '@BrokenCricket', 'my', 'initiated', 'Dilwale', 'mud', 'conference', 'doesnot', '@anuja swamy', 'Ke', 'sal', 'service', 'fail', 'Anu ', 'just', 'baithta', 'Twamily', '@sheshnath99', 'Visit', 'Akhilesh', '@nooR inSan', 'kharid', 'maha', 'lot', 'jaisa', 'karwa', 'Lakshmi', 'Enough', 'Arrest', 'bta', 'fastest growing', 'Renowned', 'sath', 'Satguru', 'Hudhud', 'cutuu', 'airnewsalerts', 'resident', 'Chopra', 'badla', '@SankalpSharan', 'Mallu', '@sonaliranade', 'kai', 'Apartments', 'chhota', 'farmers', '17th', 'PitaJi', 'issi', 'Feeya', 'Bangali', 'bajrangi', 'Prem', 'Modi', \"Zuckerberg's\", 'heart', 'BJP', '@TheRahulMehra', 'Wat', '#reservation', 'aap', 'jiske', 'Sonakshi', '50k', '@Atheist Club', 'inspiration', 'CONGRATS', 'blow', '#ShrutisagarAshram', '<OOV>', '@Dharanishanthi', 'misled', '@SriSri', '@ZirghamBukhari', '#occupygezi', '@IALalika', 'Bhavan', 'Asha', 'pani', 'Kalloori', 'bolta', 'promises', 'mantras', 'deva', 'sirf', 'tora', '@Barbiedawra', 'Kareena', 'Sena', 'Sufism', 'NIT', 'Aise', 'Toot', 'heritage', 'Kalpesh', '@harakhpadudo', '@Dishasatra', 'Haathon', '@ReporterVikrant', '@anuragkashyap72', 'excited', 'bronze', 'eh', 'Hoga', 'Graduate', 'ram', '2nd', '@muzikman 07', 'garoor', 'or', 'Dhoni', 'dharti', '#LahoreRisesAgainstCorruption', 'wale', 'dobara', 'ladies', 'hame', 'duck', '@ksushma140', 'banking', 'sakenge', 'Adiyogi', 'Mantri', 'boarde', 'Baurahaba', 'jangal', ' mismanagement nonsensical', 'dinner', '@rajnikanttiwa10', 'kaa', 'haat', '#MenInBlue', 'Dance', 'We', 'HAWAN', '@Juuism', 'pelenge', 'Mallya', '1Karod', 'nash', 'KriyaYoga', 'Professional', 'suitcases', 'Sanam', '37', 'hoon', 'target', 'inauguration', 'patakhe', 'A', 'Mandana', 'theater', 'Photography', '@sri50', 'cylinder', 'khaansiwaal', 'pl', '@iHrithik', 'Timelapse', 'Has Tag', 'comments', 'Stage', 'DEMUs', 'named', 'sandar', 'inpe', 'breakup', 'You', 'join', 'Naik', 'arena', 'Thankyouu', 'karen', 'Watch', 'say ', 'kha', '#AugustaWestland', 'World', 'If', 'val', '#topview', 'ghar', '#FuckYouPak', 'AIEE', 'Sauda', ': ) ', 'bis', 'transactions', 'kosis', 'Havana&Japa', 'Nitin', 'Ashaf', 'FILM', 'dhaba', '5sec', 'Shakira ', 'bhulo', 'Poori', 'Sui', 'er', 'tumne', 'intro', 'everything', 'sher', 'speech', 'ADVOCATE', 'Audi', 'tab', '#madhuridixit', 'Vadhu', 'Mass', 'darr', 'tomorrow', '@binta sweet', 'ghutne', 'our', 'Lalita', 'really', 'Hornets', 'well', 'Ladubaba', 'Jama', 'Meanwhile', 'khele', 'Vermaa', 'Jabong', 'Audio', 'TamilTwin', '@rekhta', 'Shadoli', 'exposes', \"'\", '@ImtiyazAzhar', ': P', 'katrina', 'Pollution', 'kene', 'Mahotsav', '@Womaniya', 'Jaise', 'Run', 'zivan', 'kgan', 'Great', 'Thakur', 'Women', 'village', 'sector', 'derailed', 'Kanda', 'Dharti', 'Pyaar', '@amitava258', 'mahima', 'hud', 'SHIV', '2012', '#JaiHind', 'raja', 'Madrid', '@giniromet', 'mahila', 'malik', 'Villiers', 'RailMinIndia', 'padega', 'took', 'ajaye', 'no', '#GameMaariChhe', 'IND', '#patakhe', '2014', 'sayed', '#OmNamahShivay', 'Cookingg', 'Kaash', '#Srilanka', 'yoyo', 'Waiting', '@LawmanPg3', 'locations', 'BCCI', 'kardenge', 'Deewani', 'Not', '@CTRavi BJP', '@VadodaraHistory', '#Delhi6', 'died', 'karmoon', 'Anarkali', 'Trend', 'Pawan', '#SumitSambhalLega', 'railways', 'MoS', 'Vaaimai', 'Please', 'tawa', 'Zameen', 'khana', 'Award', '5yrs', 'apart', 'Katha', '@itsmyturn bali', 'banne', 'kyo', 'Shivdasani', 'Indeed', '@justbeauty18', '#Fun', 'IPL', '2.30', 'laye', 'healthy', 'Kalayan', 'raaj', 'ghante', 'Bermuda', 'Parchy', 'Talreja', 'Dadasaheb', 'kahan', '@VirasatPune', 'thn', '#AskMR', 'tumpe', 'via', 'CORRECT', 'co', '@ Rashi ', 'Pak Austria', 'Honey', '@AnokhiVerma', \"Delhi's\", 'hardik', '@abpnewshindi', 'kre', 'believe', ',.', 'bio', 'bheem', 'shaneshcharaaye', 'dare', '@Abhinav Bindra', 'preparing', 'flood', 'aashirvad', '@BollyMention', 'SRI', '#excited', 'forward', 'sere', 'Kamaal', 'Dheron', 'Choice', 'wahan', 'Believe', 'touches', 'within', 'socha', '@LOLendraSingh', 'fire', '#RahulOnLeave', 'Khalid', 'wishing', 'actually', '100', '@msteckchandani', 'Bangladeshi', 'Haath', '9618313276', 'pakistani', 'unko', 'Shivai', \"Won't\", 'Anwar', '@TahirMe63178397', 'pela', 'Emaar', 'HC', 'rehearsed', 'Kadhal', '@TCNLive', 'able', 'qoum', 'receives', 'Quila', 'Mom ', 'Shivaji', 'jine', 'pr', 'Farad', 'MahaShivratri', 'asked', 'lumding', 'UK', 'baby', 'Model', 'Padukone', '@DKhantastic', 'Keeping', 'AK', 'ansh', 'rkh', 'Hospital', 'Khurram', '1 10', 'Shit', 'Nazeer', 'RahulBaba', 'dhan', 'baba', 'thi', '@saswat28', 'Train', 'justrichpro', 'marenge', 'Learn', 'gaaliyan', 'has', 'chairman', '@satenderhooda1', 'Budget', '20', 'visa', 'Surveillance', '#baytahminizliyoruz', 'Namit', 'offers', 'humesha', 'Sacha', 'yad', 'Thank', 'Barkha', 'donets', '@suchetadalal', '#RepublicDay', 'half', 'head on', 'devotion', 'II', 'si', 'Valsad', 'Ivarkum', 'Binny', 'getting', 'high', 'agr', 'barish', '@Esha Deol', \"didn't\", '#PVPPictures', 'gandhi', 'Bhubaneswar', 'kisan', 'pahunch', 'Bol', 'Vidhi', 'Jane', 'tya', 'chup', 'seth', '@krishnabgowda', 'kantilo', 'kiss', 'vikalp', 'High', 'Oye', 'Cleopatraa', 'apke', 'mohit', '@msdhoni', 'Papa', 'Victory', 'Ask', 'Punjabi', 'bringing', 'probably', 'stars', 'Teresa', '@DesiObsession ', 'ross', 'Wishes', 'unmatchable', 'judice', 'Shree', 'simran', 'Mansarovar', 'Clicked', 'By', '@thekiranbedi', 'muqaddar', 'Rajan', 'Marraige', 'jaata', 'mehnt', '@Kumar Ke5hav', 'jahan', 'ShatyUvma', '#Narayan', 'PraveenraoU', ' :', 'naukri', 'Arbaaz', 'dekhlo', 'All', 'late', 'Director', \"Don't\", 'rhi', 'mandala', 'Feku', 'postcard', '#WIvIRE', 'raat', '@RobertVadra2016', 'Express', 'UP', 'modiji', 'pichle', 'Whatsapp', 'Malik', 'best', 'Trending', 'Kripya', '#RailwayBudget', 'Tanmay', 'Kripa', 'superhero', 'ur', 'irregularities', 'Students', 'solidarity', 'Common', '@Narendra IRTS', 'Message', 'Lagao', 'contest', 'mrng', 'CRI', 'Zindabad', 'In', 'tht', '@nadia 760', 'crore', 'Mother', 'Sharief', 'mothers', 'son', 'Den', 'played', \"Gandhi's\", '@umar96akmal', 'Hubballi', 'mam', 'Choriyan', 'kisne', 'dekh', 'Maharudrabhishek', 'charger', 'Kishore', 'self', 'wants', 'khak', 'Airtel', '3 ', 'ungli', '@timesofindia', 'joke', 'hero', 'illiteracy', '#EndVVIPRaj', 'farhan', '@aadiacharya', 'told', 'sachkhand', 'He', 'Tune', '@sanjaybafna', 'blessings', 'jid', 'bohat', 'Nikhil', 'khareedo', 'hamain', 'Brilliant', 'Namaaz', 'diff', '#ArtOfLiving', 'photoshoot', 'Our', 'Swamy', '@RealHistoryPic', '@Atheist Krishna', 'Poonam', 'car', 'sakta', 'Patwaris', 'Sousa', 'veteran', '#Jumla', 'Mishra', 'Shivraj', 'pehen', 'ghanti', 'hou', 'mails', 'cou', 'Haschke', 'proving', 'bipasha', 'toda', 'Kajol', '#Sarrainodu', 'Telangana', 'visit', 'rahy', \"''''\", 'Arpan', 'OLX', 'Mahashivrathiri', '#motivationalquote', 'ryan', 'nazare', 'duniya', '@DNA IamIn', 'kaisa', 'Manoj', 'CR7', 'KP', 'Jet', 'vi', 'inhabitants', '@iRobinArora', 'bachaane', 'unable', '18', 'Ali', 'BC', 'Jo', 'wajse', 'bhaari', '#YandasMedyaLimonSatOnurluYasa', 'kyun', '@satyavijayi', 'Ghandhi', 'lekin', '@vinayak ramesh', '@hungama com', \"Ravana's\", 'commends', 'Diya', 'Andhaka', '@nandu maharaj', 'Istanbul', '#AAPSweep', 'dont', 'depend', '@AmitShahOffice', '@MIB India', 'Anthem', 'Techie', '@aditi tyagi', 'pey', '#BREAKING', 'RSS', 'born', 'Phra', '#Shivaratri', 'Bapu', 'film', 'solving', 'news', 'deewar', 'Boost', 'Bolo', 'chalai', 'fyda', 'systematically', '@ankitv', 'Aditya', '#DevonKeDevMahadev', 'pretend', 'Singer', 'shaadi', 'trust', 'Dekhte', '#WC15', 'hoke', 'dekhne', 'votes', 'Ok', 'Comedy', 'ABVP', 'Jaya', '#ISupportDelhiOddEven', 'Sirji', 'catch', 'icha', 'karri', 'pel', 'Tomar', 'report', 'usase', '@reddyvpr', 'SHIVAI', 'cant', 'ghinona', 'rakha', 'nei', 'Swachh', 'Sarankul', '@ZeeNews', '@karan009wahi', '#WC2015', '@MahnooriAhmed', 'BY', 'ice', 'Syed', 'milega', '. ? ', 'Rudrapujas', 'runs', 'return', 'Arata', '#IndVsAus', '#NaMo', 'Bhagyaraj', 'Catch', 'Apne', 'Title', 'divine', 'Bathinda', '@PadmajaJoshi', 'Karishma', 'needs', '@Ach Balkrishna', 'centrestage', '@Raja Sw', 'Alia', '@gauravindoriya', 'Muchh', 'siddhu', 'siyoo', 'Laaloo', '@ggiittiikkaa', '@AjEeTj 20', '@AnirudhChaudhry', 'bade', 'empower', 'bani', '@JoinAAP', 'Pandiarajan', 'Bachon', 'CAT', 'looks', 'Dharna', '@vickynanjappa', 'jam', '@tehseenp', 'Amar', 'shadi', 'rakho', 'Akele', 'Courtesy', '#bigontop', 'Upen', 'kuple', '#Gharwapsi', 'Motabhai', 'vahi', 'person', 'whatta', 'majaaka', 'Aww', 'pollution', '@AnjanaVJ', 'Abeer', 'loss', 'ambassadors', '@insan neha', '15th', '@HumHainNaa Sony', 'fares', ' 3', 'tips', 'chaarsobisi', '@MosesSapir', 'rha', '#SLvsInd', 'yahan', 'Andhra', '@abhilash jagtap', '@Rahat Raina', 'martial', '#Happy', 'baddua', '@ShirishKunder', 'sabka', 'guy', '@kritisanon', 'PAR', 'dislodge', 'Ramdev', 'man', 'explain', 'donet', '@ImLeslieChow', '#AbkiBaarBediSarkaar', 'Professor', 'aftr', 'Agenda', 'ghotalebazon', 'Himalayas', '412', 'PAPPU', 'Arre', 'Kartikey', 'raha', '#DelhiPolice', 'maine', 'sewadar', \"eye's\", '@A UoW', 'foster', '#gunaah', 'bataya', 'acha', 'domestic', 'Baloch', 'followed', 'sweetheart', 'beefed', 'Three', 'Bang Kok', 'Aapki', 'Na', 'their', 'owner', '@TheDeccanHerald', 'ekhi', 'Brothery', 'Sahara', '@timesnow', '@Shareef Boy', \"Marvel's\", 'rahana', 'gives', 'Nahaya', '#Tandav', 'Nashik', 'Purely', 'pomendi', 'Mamata', 'marva', 'Sardar', 'inqlab', 'aapke', '@hariomji5', 'jata', 'Baar', 'pahn', '@Madan Chikna', 'roti', 'jayega', 'bure', 'YuvaiTV', 'holding', 'heavens', 'here', 'kash', 'Woohoo', 'Child', 'narendramodi', 'zAmbani', 'turn', 'Kedarnath', 'charts', 'gets', 'folks', 'loves', 'Khawaja', 'Lee', 'Shinzo', 'Shah', 'INDIA', '4G', 'Jawab', 'targeting', 'Station', 'den', '@AashishKhetan', 'Its Sstar', 'mulko', 'Citizens', '28th', 'store', 'mamu', 'Ele', 'for', 'P', 'Remember', 'Pl', 'being', 'Cover', 'PA', \"I'm\", 'Pradhanmantri', 'tense', 'lali', 'Nana', '#parvatians', 'Suresh', 'THOK', 'naya', 'Sada', 'Sentosa', 'Unka', 'whr', 'uska', 'Celebrations', 'Amma', 'karti', '@shikhakotak', '@srabantismile', 'setting', '@sandhiriansgrp', 'giftyinsan', 'dhaam', 'Muma', 'leader', 'sara', 'Rithvik', 'aag', 'Roster', 'le', 'watching', 'kinare', 'jau', 'liya', 'Who', 'escape', 'fruit', 'saari', 'digital', 'Mahakaleshwar', '@bcci', 'NCR', 'wife', 'launches', 'Helpline', '#winners', 'travel', 'paa', 'bhalaa', 'Majdoor', 'zinda', 'over', 'BEAMER', 'activist', 'poster', 'vegetables', 'Dimag', 'gujju', '#banphantom', '100%', 'frastu', 'fair', 'super', 'residence', '@shyamkkumar', 'gandi', 'temple', 'Test', 'knowledge', 'RahulG', 'Mom', 'kab', 'sir', 'badao', '#KKRvsRCB', 'Naak', 'chudne', 'Tamana', 'Abbey', 'Karimi', 'BHAI', 'ANDHAPAN', 'spirit', '#RahulGandhi', 'surveillance', 'waiting', '#PiousBhandara', '@ravishndtv', 'Sharaliev', 'anthr', 'paati', 'am', 'R', 'mode', 'carry', 'LEAD', 'Hamare', '#SuperstarInBurripalem', 'mahatva', 'dikhayi', 'TO', 'karahi', 'hissa', '#AIB', '#Australia', 'Lalu', 'see', '@LambaAlka', 'mulk', 'firecrackers', 'manisha', '@baywatchmovie', '@eastwoodmcfly', 'Music', 'gangadhar', '#mumbairains', 'Srinagar', 'Individual', '#MumbaiLocal', '@amazonIN', 'Trupti', 'Dekho', 'pata', '#RioOlympics2016', 'rite', 'mobile', 'Mehnat', 'cricket', '#KejriwalSaySorry', 'wait', 'Swim', '1100', 'umange', 'ChandniGodara', '@NimratOfficial', 'afridi', 'saha', 'comTelford', 'tarah', 'TRP', 'confirm', ' kanwardhillon', 'sohni', 'hats', 'darvaje', 'Bcoz', 'Shameful', '@BajpayeeManoj', 'Ghoomshuda', 'Dhawan', 'Sa', 'rinkuu', '#Odisha', 'SBB', 'Marina', 'lalach', 'Chaudhary', 'Cigarette', '#Oscars2015', '@sud tyagi', 'panjwani', '51', 'halat', 'social', 'standards', '12', 'Goon', 'But', 'Impossible', 'Camera', '#MaggiBan', 'lgane', 'euphoria', 'Yadi', 'Kabi', 'can', 'tinka', 'disgraced', 'gareebon', 'behka', 'along', '@RoflGandhi ', 'Aankh', '#IPLAuction', 'thisIsMukti', 'karun', 'Tedhi', 'Tumakuru', 'wali', '#ShivaShiva', '#MSG2RocksPunjab', 'Mastizaade', 'Shivala', '@Themangofellow', 'pala', 'Saaf', 'upon', 'Haryana', 'ATBB', 'Patra', 'Kahin', 'whataay', 'Looking', 'Mili', '#SureshPrabhu', 'Raid', 'uda', 'free', 'pharak', 'Afzal', 'chai', '@123telugu', 'Tahir', 'bata', 'inspired', 'Neighbour', 'path', 'aata', 'Siddhuji', 'Sbi', '@BhayanakPuppy', 'Umar', 'Aasoon', '@Shah Khan', 'banay', 'unhi', 'Aalu', 'fare', '#Collage', 'pum', '<PAD>']\n"
          ]
        }
      ]
    },
    {
      "cell_type": "code",
      "metadata": {
        "id": "Nh91WB-sWvon",
        "colab": {
          "base_uri": "https://localhost:8080/",
          "height": 202,
          "referenced_widgets": [
            "158ca42b02c5410c8934fce2eac411fe",
            "28ffc9c7d3d149f8ba39a069a4aa2f6e",
            "bd71f45c549a4a41aa310ad1711608bb",
            "f3ed6c148f104ed29ea8d9060899ca12",
            "30b78189735f4ddd887b3fabb8c82202",
            "23746b31ee684b6295f0a7912b57a9da",
            "6a31cf5b7f87489299092abab1975457",
            "329a73741e6d4f6ba19a9804ad79ec7a",
            "41f12a7d7f4541feb706c565fc0b5a81",
            "2ed2a19b12b64d47b13154826d83494e",
            "91c38205677d40c8b347ffd5aeb6d7bc",
            "a9fa77af3a004609b2f9169f7e53206d",
            "a1480d32fa00465c8bddb83f644b3215",
            "1f469aee07b2471b97aee0991e0d78bd",
            "ddcc17483cb64a97a296ddf3c224a4f7",
            "dea33ac799184fdcab9fb3d40fe84c3f",
            "f0eb55816ec9408cb6f9ca840aad9839",
            "0ca08c1cf4784ce89502568eb1403418",
            "5c893d3b5218431db24c0b6ff84c904c",
            "9f62ba62caf54954b820765dd273a438",
            "e062e6be04e448ee8d001273506e41d3",
            "146aa819c8ac4fe1bc53a9cd278904ba",
            "603c801ad9424989b04f35de9ab494a9",
            "d1d97068eb02416dbf6b64a28ffb12d7",
            "c09688ff702b44baa265a3e793228eed",
            "a0988c2bec394c01bd6331b9dad3fc05",
            "ea138299251447388ab0d962cf35d209",
            "ca07105b976442fb8d1235c4b883abfb",
            "d586db80c31b4c04a1900136fff5b820",
            "812bb17715ba42518f8bf6b144e0161d",
            "45feca53360f44c793701f0629fe71dd",
            "58681fa8aafe41879c7674aab431f8bf",
            "8e246a34428b44a5957ac3ea1594ee58"
          ]
        },
        "outputId": "e766f03c-3d4e-4365-b9b8-fce9ba4ad131"
      },
      "source": [
        "# Converting words to indices for test sentences (Features)\n",
        "MAXLEN=128 #36\n",
        "\n",
        "# X = [[word2idx[w[0]] for w in s] for s in sentences]\n",
        "X = [' '.join([w[0] for w in s]) for s in sentences]\n",
        "\n",
        "'''\n",
        "Padding train and test sentences to 32 words.\n",
        "Sentences of length greater than 32 words are truncated.\n",
        "Sentences of length less than 32 words are padded with a high value.\n",
        "'''\n",
        "# X = pad_sequences(maxlen=MAXLEN, sequences=X, padding=\"post\", truncating=\"post\", value=n_words - 1)\n",
        "print(type(X),len(X))\n",
        "print(X[:2])\n",
        "\n",
        "tokenizer = BertTokenizer.from_pretrained('bert-base-multilingual-uncased')\n",
        "encoded_X = tokenizer(X, padding='max_length', truncation=True, max_length=MAXLEN, return_tensors='tf').input_ids\n",
        "print(type(encoded_X))\n",
        "print(encoded_X.shape)"
      ],
      "execution_count": 39,
      "outputs": [
        {
          "output_type": "stream",
          "name": "stdout",
          "text": [
            "<class 'list'> 1243\n",
            "['Gully cricket chal raha hain yaha   ( Soniya )  Gandhi  ', 'I liked a @YouTube video  URL  Kabhi Palkon Pe Aasoon Hai  Kishore Kumar  Vocal Cover By Stephen Qadir']\n"
          ]
        },
        {
          "output_type": "display_data",
          "data": {
            "text/plain": [
              "Downloading:   0%|          | 0.00/851k [00:00<?, ?B/s]"
            ],
            "application/vnd.jupyter.widget-view+json": {
              "version_major": 2,
              "version_minor": 0,
              "model_id": "158ca42b02c5410c8934fce2eac411fe"
            }
          },
          "metadata": {}
        },
        {
          "output_type": "display_data",
          "data": {
            "text/plain": [
              "Downloading:   0%|          | 0.00/28.0 [00:00<?, ?B/s]"
            ],
            "application/vnd.jupyter.widget-view+json": {
              "version_major": 2,
              "version_minor": 0,
              "model_id": "a9fa77af3a004609b2f9169f7e53206d"
            }
          },
          "metadata": {}
        },
        {
          "output_type": "display_data",
          "data": {
            "text/plain": [
              "Downloading:   0%|          | 0.00/625 [00:00<?, ?B/s]"
            ],
            "application/vnd.jupyter.widget-view+json": {
              "version_major": 2,
              "version_minor": 0,
              "model_id": "603c801ad9424989b04f35de9ab494a9"
            }
          },
          "metadata": {}
        },
        {
          "output_type": "stream",
          "name": "stdout",
          "text": [
            "<class 'tensorflow.python.framework.ops.EagerTensor'>\n",
            "(1243, 128)\n"
          ]
        }
      ]
    },
    {
      "cell_type": "code",
      "source": [
        "# ### Checking what should be max_length while encoding\n",
        "# from statistics import mean\n",
        "\n",
        "# text_lens=[]\n",
        "# enc_lens=[]\n",
        "# for s in X:\n",
        "#   text_lens.append(len(s.split()))\n",
        "#   enc=tokenizer(s, return_tensors='tf').input_ids\n",
        "#   enc_lens.append(enc.shape[1])\n",
        "#   # print(s)\n",
        "#   # print(enc)\n",
        "#   # print(len(s.split()))\n",
        "#   # print(enc.shape[1])\n",
        "#   # enc_lens.append(enc.shape)\n",
        "\n",
        "\n",
        "# print(min(text_lens),min(enc_lens))\n",
        "# print(max(text_lens),max(enc_lens))\n",
        "# print(mean(text_lens),mean(enc_lens))"
      ],
      "metadata": {
        "id": "KAV3CzWU_bu5"
      },
      "execution_count": 40,
      "outputs": []
    },
    {
      "cell_type": "code",
      "source": [
        "# print(encoded_X[:5])\n",
        "# print(encoded_X.shape)"
      ],
      "metadata": {
        "id": "WLf1we90-nkw"
      },
      "execution_count": 41,
      "outputs": []
    },
    {
      "cell_type": "code",
      "metadata": {
        "id": "4qCwfSOFWvvq",
        "colab": {
          "base_uri": "https://localhost:8080/"
        },
        "outputId": "09f40ccf-c6ad-4478-8191-a8b2e4d8ce32"
      },
      "source": [
        "y = [[tag2idx[w[2]] for w in s] for s in sentences]\n",
        "# Padding tag labels to 180 words.\n",
        "y = pad_sequences(maxlen=MAXLEN, sequences=y, padding=\"post\", truncating=\"post\", value=tag2idx[\"O\"])\n",
        "\n",
        "print(tag2idx)\n",
        "print(Counter(list(np.array(y).flatten())))\n",
        "\n",
        "# Making labels in one hot encoded form for DL model\n",
        "y = [to_categorical(i, num_classes=n_tags) for i in y]"
      ],
      "execution_count": 42,
      "outputs": [
        {
          "output_type": "stream",
          "name": "stdout",
          "text": [
            "{'I-ORGANISATION': 0, 'I-PERSON': 1, 'B-PERSON': 2, 'O': 3, 'I-PLACE': 4, 'B-PLACE': 5, 'B-ORGANISATION': 6}\n",
            "Counter({3: 156882, 2: 963, 5: 455, 1: 411, 6: 218, 4: 108, 0: 67})\n"
          ]
        }
      ]
    },
    {
      "cell_type": "code",
      "metadata": {
        "colab": {
          "base_uri": "https://localhost:8080/"
        },
        "id": "H6U4sGyVatxb",
        "outputId": "9dd9cebb-ec92-4895-ce89-a23041481912"
      },
      "source": [
        "# print(X.shape)\n",
        "print(len(y))\n",
        "print(y[0].shape)\n",
        "print(np.array(y).shape)\n",
        "# print(y[0])"
      ],
      "execution_count": 43,
      "outputs": [
        {
          "output_type": "stream",
          "name": "stdout",
          "text": [
            "1243\n",
            "(128, 7)\n",
            "(1243, 128, 7)\n"
          ]
        }
      ]
    },
    {
      "cell_type": "markdown",
      "source": [
        "### Model"
      ],
      "metadata": {
        "id": "Bi1wVfdZ-rDC"
      }
    },
    {
      "cell_type": "code",
      "source": [
        "# from transformers import pipeline\n",
        "# unmasker = pipeline('fill-mask', model='bert-base-multilingual-uncased')\n",
        "# sen='I am [MASK] की आज खेलने चल सकते हे क्या?'\n",
        "# # sen='I am [MASK] ki aaj khelne chal sakte he kya?'\n",
        "# # unmasker(\"Hello I'm a [MASK] model.\")\n",
        "# unmasker(sen)\n",
        "\n",
        "# tokenizer = BertTokenizer.from_pretrained('bert-base-multilingual-uncased')\n",
        "# model = TFBertModel.from_pretrained(\"bert-base-multilingual-uncased\")\n",
        "# text = [\"Replace me by any text you'd like.\"]\n",
        "# encoded_input = tokenizer(text,padding=True,truncation=True,max_length=36, return_tensors='tf')\n",
        "# print(encoded_input)"
      ],
      "metadata": {
        "id": "4hJLXUYDixz7"
      },
      "execution_count": 44,
      "outputs": []
    },
    {
      "cell_type": "code",
      "source": [
        "LSTM_N=256\n",
        "BS=32\n",
        "\n",
        "transformer_name = 'bert-base-multilingual-uncased' # 'bert-base-multilingual-cased'\n",
        "# First load the transformer layer\n",
        "transformer_encoder = TFBertModel.from_pretrained(transformer_name)\n",
        "# This will be the input tokens \n",
        "input_ids = Input(shape=(MAXLEN,), dtype=tf.int32, name=\"input_ids\")\n",
        "# token_type_ids = tf.keras.layers.Input(shape=(MAXLEN,), dtype=tf.int32)\n",
        "# attention_mask = tf.keras.layers.Input(shape=(MAXLEN,), dtype=tf.int32)\n",
        "\n",
        "# Now, we encode the text using the transformers we just loaded\n",
        "model = transformer_encoder(input_ids)[0]\n",
        "\n",
        "# model = Bidirectional(LSTM(units=LSTM_N, recurrent_activation='relu', return_sequences=True, dropout=0.5, recurrent_dropout=0.5))(model)\n",
        "# model = Bidirectional(LSTM(units=LSTM_N, recurrent_activation='relu', return_sequences=True, dropout=0.5, recurrent_dropout=0.5))(model)\n",
        "\n",
        "# # Adding a TimeDistributedDense, to applying a Dense layer on each 180 timesteps\n",
        "# model = Dropout(0.5)(model)\n",
        "out = TimeDistributed(Dense(n_tags, activation=\"softmax\"))(model) # softmax output layer\n",
        "\n",
        "# It's time to build and compile the model\n",
        "model = Model(inputs=input_ids, outputs=out)\n",
        "# model = Model(inputs=[input_ids, token_type_ids, attention_mask], outputs=out)\n",
        "\n",
        "# loss = tf.keras.losses.SparseCategoricalCrossentropy(from_logits=True)\n",
        "# optimizer = tf.keras.optimizers.Adagrad(lr=2e-5)\n",
        "# metrics=['accuracy', tf.keras.metrics.FalseNegatives(), tf.keras.metrics.FalsePositives()]\n",
        "\n",
        "# model.compile(optimizer=optimizer, loss=loss, metrics=metrics)\n",
        "\n",
        "model.compile(\n",
        "    Adagrad(lr=1e-5), # Experiment with lr\n",
        "    loss='categorical_crossentropy',  \n",
        "    metrics=['accuracy', tf.keras.metrics.FalseNegatives(), tf.keras.metrics.FalsePositives()]\n",
        ")\n",
        "# model.compile(optimizer=\"adagrad\", loss=\"categorical_crossentropy\", metrics=[\"accuracy\"])\n",
        "\n",
        "# model.summary()"
      ],
      "metadata": {
        "colab": {
          "base_uri": "https://localhost:8080/",
          "height": 191,
          "referenced_widgets": [
            "122fcd90e90a4f5aa1bf1b6588d9d430",
            "915e988531f849889ec898029d2f53ed",
            "db265572b4a9425a94cb2202bc552e85",
            "177c47a9bb9a493ab0d2b4cc47ef9264",
            "8d85f336426a416b9b06b9b02884874d",
            "03afeb70682e4bd2bb35e2f5366ed47b",
            "cc2f191a907b4785ac311d349d267e23",
            "8aed2c6b92df4aea8a539743ad430828",
            "107bdc00f3ed41558a84cbd16f8005a5",
            "6dac691cdfe04fecb16dbc9ce023828b",
            "285aa0f4098347a8ab17c3081a9d8d6f"
          ]
        },
        "id": "fw2B1-fLgarE",
        "outputId": "49ecb478-e1c5-4e6e-fd69-6cdefa3ddf6e"
      },
      "execution_count": 45,
      "outputs": [
        {
          "output_type": "display_data",
          "data": {
            "text/plain": [
              "Downloading:   0%|          | 0.00/953M [00:00<?, ?B/s]"
            ],
            "application/vnd.jupyter.widget-view+json": {
              "version_major": 2,
              "version_minor": 0,
              "model_id": "122fcd90e90a4f5aa1bf1b6588d9d430"
            }
          },
          "metadata": {}
        },
        {
          "output_type": "stream",
          "name": "stderr",
          "text": [
            "Some layers from the model checkpoint at bert-base-multilingual-uncased were not used when initializing TFBertModel: ['mlm___cls', 'nsp___cls']\n",
            "- This IS expected if you are initializing TFBertModel from the checkpoint of a model trained on another task or with another architecture (e.g. initializing a BertForSequenceClassification model from a BertForPreTraining model).\n",
            "- This IS NOT expected if you are initializing TFBertModel from the checkpoint of a model that you expect to be exactly identical (initializing a BertForSequenceClassification model from a BertForSequenceClassification model).\n",
            "All the layers of TFBertModel were initialized from the model checkpoint at bert-base-multilingual-uncased.\n",
            "If your task is similar to the task the model of the checkpoint was trained on, you can already use TFBertModel for predictions without further training.\n",
            "/usr/local/lib/python3.7/dist-packages/keras/optimizer_v2/adagrad.py:74: UserWarning: The `lr` argument is deprecated, use `learning_rate` instead.\n",
            "  super(Adagrad, self).__init__(name, **kwargs)\n"
          ]
        }
      ]
    },
    {
      "cell_type": "code",
      "source": [
        "model.summary()"
      ],
      "metadata": {
        "colab": {
          "base_uri": "https://localhost:8080/"
        },
        "id": "3WGrPEfJ4hE4",
        "outputId": "f77bf84d-23cb-4946-cc72-8a4f11657609"
      },
      "execution_count": 46,
      "outputs": [
        {
          "output_type": "stream",
          "name": "stdout",
          "text": [
            "Model: \"model\"\n",
            "_________________________________________________________________\n",
            " Layer (type)                Output Shape              Param #   \n",
            "=================================================================\n",
            " input_ids (InputLayer)      [(None, 128)]             0         \n",
            "                                                                 \n",
            " tf_bert_model (TFBertModel)  TFBaseModelOutputWithPoo  167356416\n",
            "                             lingAndCrossAttentions(l            \n",
            "                             ast_hidden_state=(None,             \n",
            "                             128, 768),                          \n",
            "                              pooler_output=(None, 76            \n",
            "                             8),                                 \n",
            "                              past_key_values=None, h            \n",
            "                             idden_states=None, atten            \n",
            "                             tions=None, cross_attent            \n",
            "                             ions=None)                          \n",
            "                                                                 \n",
            " time_distributed (TimeDistr  (None, 128, 7)           5383      \n",
            " ibuted)                                                         \n",
            "                                                                 \n",
            "=================================================================\n",
            "Total params: 167,361,799\n",
            "Trainable params: 167,361,799\n",
            "Non-trainable params: 0\n",
            "_________________________________________________________________\n"
          ]
        }
      ]
    },
    {
      "cell_type": "code",
      "metadata": {
        "colab": {
          "base_uri": "https://localhost:8080/",
          "height": 1000
        },
        "id": "_3PcfRNvbC-q",
        "outputId": "21749216-1e81-463f-857d-9f755e9d2db5"
      },
      "source": [
        "history = model.fit(encoded_X, np.array(y), batch_size=BS, epochs=25, validation_split=0.15, verbose=1)"
      ],
      "execution_count": 47,
      "outputs": [
        {
          "output_type": "stream",
          "name": "stdout",
          "text": [
            "Epoch 1/25\n",
            "WARNING:tensorflow:Gradients do not exist for variables ['tf_bert_model/bert/pooler/dense/kernel:0', 'tf_bert_model/bert/pooler/dense/bias:0'] when minimizing the loss. If you're using `model.compile()`, did you forget to provide a `loss`argument?\n",
            "WARNING:tensorflow:Gradients do not exist for variables ['tf_bert_model/bert/pooler/dense/kernel:0', 'tf_bert_model/bert/pooler/dense/bias:0'] when minimizing the loss. If you're using `model.compile()`, did you forget to provide a `loss`argument?\n",
            "33/33 [==============================] - 68s 2s/step - loss: 1.5976 - accuracy: 0.5229 - false_negatives: 130276.0000 - false_positives: 657.0000 - val_loss: 0.9705 - val_accuracy: 0.9245 - val_false_negatives: 22454.0000 - val_false_positives: 91.0000\n",
            "Epoch 2/25\n",
            "33/33 [==============================] - 52s 2s/step - loss: 0.6272 - accuracy: 0.9359 - false_negatives: 41377.0000 - false_positives: 731.0000 - val_loss: 0.3946 - val_accuracy: 0.9729 - val_false_negatives: 1954.0000 - val_false_positives: 230.0000\n",
            "Epoch 3/25\n",
            "33/33 [==============================] - 52s 2s/step - loss: 0.3418 - accuracy: 0.9651 - false_negatives: 13544.0000 - false_positives: 1133.0000 - val_loss: 0.2342 - val_accuracy: 0.9807 - val_false_negatives: 1142.0000 - val_false_positives: 309.0000\n",
            "Epoch 4/25\n",
            "33/33 [==============================] - 52s 2s/step - loss: 0.2387 - accuracy: 0.9751 - false_negatives: 8826.0000 - false_positives: 1343.0000 - val_loss: 0.1762 - val_accuracy: 0.9828 - val_false_negatives: 775.0000 - val_false_positives: 341.0000\n",
            "Epoch 5/25\n",
            "33/33 [==============================] - 52s 2s/step - loss: 0.1887 - accuracy: 0.9797 - false_negatives: 6550.0000 - false_positives: 1513.0000 - val_loss: 0.1499 - val_accuracy: 0.9836 - val_false_negatives: 620.0000 - val_false_positives: 351.0000\n",
            "Epoch 6/25\n",
            "33/33 [==============================] - 52s 2s/step - loss: 0.1646 - accuracy: 0.9817 - false_negatives: 5536.0000 - false_positives: 1582.0000 - val_loss: 0.1359 - val_accuracy: 0.9840 - val_false_negatives: 548.0000 - val_false_positives: 354.0000\n",
            "Epoch 7/25\n",
            "33/33 [==============================] - 53s 2s/step - loss: 0.1513 - accuracy: 0.9828 - false_negatives: 4976.0000 - false_positives: 1607.0000 - val_loss: 0.1278 - val_accuracy: 0.9841 - val_false_negatives: 500.0000 - val_false_positives: 355.0000\n",
            "Epoch 8/25\n",
            "33/33 [==============================] - 52s 2s/step - loss: 0.1366 - accuracy: 0.9838 - false_negatives: 4151.0000 - false_positives: 1676.0000 - val_loss: 0.1228 - val_accuracy: 0.9842 - val_false_negatives: 467.0000 - val_false_positives: 357.0000\n",
            "Epoch 9/25\n",
            "33/33 [==============================] - 52s 2s/step - loss: 0.1278 - accuracy: 0.9844 - false_negatives: 3755.0000 - false_positives: 1703.0000 - val_loss: 0.1193 - val_accuracy: 0.9842 - val_false_negatives: 449.0000 - val_false_positives: 360.0000\n",
            "Epoch 10/25\n",
            "33/33 [==============================] - 52s 2s/step - loss: 0.1239 - accuracy: 0.9848 - false_negatives: 3547.0000 - false_positives: 1752.0000 - val_loss: 0.1169 - val_accuracy: 0.9843 - val_false_negatives: 435.0000 - val_false_positives: 361.0000\n",
            "Epoch 11/25\n",
            "33/33 [==============================] - 53s 2s/step - loss: 0.1209 - accuracy: 0.9848 - false_negatives: 3465.0000 - false_positives: 1699.0000 - val_loss: 0.1153 - val_accuracy: 0.9845 - val_false_negatives: 424.0000 - val_false_positives: 363.0000\n",
            "Epoch 12/25\n",
            "33/33 [==============================] - 52s 2s/step - loss: 0.1186 - accuracy: 0.9849 - false_negatives: 3319.0000 - false_positives: 1741.0000 - val_loss: 0.1141 - val_accuracy: 0.9845 - val_false_negatives: 421.0000 - val_false_positives: 363.0000\n",
            "Epoch 13/25\n",
            "33/33 [==============================] - 52s 2s/step - loss: 0.1136 - accuracy: 0.9853 - false_negatives: 2933.0000 - false_positives: 1768.0000 - val_loss: 0.1131 - val_accuracy: 0.9845 - val_false_negatives: 418.0000 - val_false_positives: 363.0000\n",
            "Epoch 14/25\n",
            "33/33 [==============================] - 52s 2s/step - loss: 0.1106 - accuracy: 0.9855 - false_negatives: 2778.0000 - false_positives: 1779.0000 - val_loss: 0.1123 - val_accuracy: 0.9845 - val_false_negatives: 414.0000 - val_false_positives: 363.0000\n",
            "Epoch 15/25\n",
            "33/33 [==============================] - 52s 2s/step - loss: 0.1108 - accuracy: 0.9855 - false_negatives: 2773.0000 - false_positives: 1791.0000 - val_loss: 0.1117 - val_accuracy: 0.9845 - val_false_negatives: 412.0000 - val_false_positives: 364.0000\n",
            "Epoch 16/25\n",
            "33/33 [==============================] - 52s 2s/step - loss: 0.1084 - accuracy: 0.9857 - false_negatives: 2659.0000 - false_positives: 1781.0000 - val_loss: 0.1112 - val_accuracy: 0.9845 - val_false_negatives: 410.0000 - val_false_positives: 364.0000\n",
            "Epoch 17/25\n",
            "33/33 [==============================] - 52s 2s/step - loss: 0.1060 - accuracy: 0.9858 - false_negatives: 2491.0000 - false_positives: 1806.0000 - val_loss: 0.1106 - val_accuracy: 0.9846 - val_false_negatives: 408.0000 - val_false_positives: 365.0000\n",
            "Epoch 18/25\n",
            "33/33 [==============================] - 52s 2s/step - loss: 0.1044 - accuracy: 0.9857 - false_negatives: 2456.0000 - false_positives: 1798.0000 - val_loss: 0.1102 - val_accuracy: 0.9846 - val_false_negatives: 405.0000 - val_false_positives: 365.0000\n",
            "Epoch 19/25\n",
            "33/33 [==============================] - ETA: 0s - loss: 0.1039 - accuracy: 0.9858 - false_negatives: 2442.0000 - false_positives: 1813.0000"
          ]
        },
        {
          "output_type": "error",
          "ename": "KeyboardInterrupt",
          "evalue": "ignored",
          "traceback": [
            "\u001b[0;31m---------------------------------------------------------------------------\u001b[0m",
            "\u001b[0;31mKeyboardInterrupt\u001b[0m                         Traceback (most recent call last)",
            "\u001b[0;32m<ipython-input-47-d37291269987>\u001b[0m in \u001b[0;36m<module>\u001b[0;34m()\u001b[0m\n\u001b[0;32m----> 1\u001b[0;31m \u001b[0mhistory\u001b[0m \u001b[0;34m=\u001b[0m \u001b[0mmodel\u001b[0m\u001b[0;34m.\u001b[0m\u001b[0mfit\u001b[0m\u001b[0;34m(\u001b[0m\u001b[0mencoded_X\u001b[0m\u001b[0;34m,\u001b[0m \u001b[0mnp\u001b[0m\u001b[0;34m.\u001b[0m\u001b[0marray\u001b[0m\u001b[0;34m(\u001b[0m\u001b[0my\u001b[0m\u001b[0;34m)\u001b[0m\u001b[0;34m,\u001b[0m \u001b[0mbatch_size\u001b[0m\u001b[0;34m=\u001b[0m\u001b[0mBS\u001b[0m\u001b[0;34m,\u001b[0m \u001b[0mepochs\u001b[0m\u001b[0;34m=\u001b[0m\u001b[0;36m25\u001b[0m\u001b[0;34m,\u001b[0m \u001b[0mvalidation_split\u001b[0m\u001b[0;34m=\u001b[0m\u001b[0;36m0.15\u001b[0m\u001b[0;34m,\u001b[0m \u001b[0mverbose\u001b[0m\u001b[0;34m=\u001b[0m\u001b[0;36m1\u001b[0m\u001b[0;34m)\u001b[0m\u001b[0;34m\u001b[0m\u001b[0;34m\u001b[0m\u001b[0m\n\u001b[0m",
            "\u001b[0;32m/usr/local/lib/python3.7/dist-packages/keras/utils/traceback_utils.py\u001b[0m in \u001b[0;36merror_handler\u001b[0;34m(*args, **kwargs)\u001b[0m\n\u001b[1;32m     62\u001b[0m     \u001b[0mfiltered_tb\u001b[0m \u001b[0;34m=\u001b[0m \u001b[0;32mNone\u001b[0m\u001b[0;34m\u001b[0m\u001b[0;34m\u001b[0m\u001b[0m\n\u001b[1;32m     63\u001b[0m     \u001b[0;32mtry\u001b[0m\u001b[0;34m:\u001b[0m\u001b[0;34m\u001b[0m\u001b[0;34m\u001b[0m\u001b[0m\n\u001b[0;32m---> 64\u001b[0;31m       \u001b[0;32mreturn\u001b[0m \u001b[0mfn\u001b[0m\u001b[0;34m(\u001b[0m\u001b[0;34m*\u001b[0m\u001b[0margs\u001b[0m\u001b[0;34m,\u001b[0m \u001b[0;34m**\u001b[0m\u001b[0mkwargs\u001b[0m\u001b[0;34m)\u001b[0m\u001b[0;34m\u001b[0m\u001b[0;34m\u001b[0m\u001b[0m\n\u001b[0m\u001b[1;32m     65\u001b[0m     \u001b[0;32mexcept\u001b[0m \u001b[0mException\u001b[0m \u001b[0;32mas\u001b[0m \u001b[0me\u001b[0m\u001b[0;34m:\u001b[0m  \u001b[0;31m# pylint: disable=broad-except\u001b[0m\u001b[0;34m\u001b[0m\u001b[0;34m\u001b[0m\u001b[0m\n\u001b[1;32m     66\u001b[0m       \u001b[0mfiltered_tb\u001b[0m \u001b[0;34m=\u001b[0m \u001b[0m_process_traceback_frames\u001b[0m\u001b[0;34m(\u001b[0m\u001b[0me\u001b[0m\u001b[0;34m.\u001b[0m\u001b[0m__traceback__\u001b[0m\u001b[0;34m)\u001b[0m\u001b[0;34m\u001b[0m\u001b[0;34m\u001b[0m\u001b[0m\n",
            "\u001b[0;32m/usr/local/lib/python3.7/dist-packages/keras/engine/training.py\u001b[0m in \u001b[0;36mfit\u001b[0;34m(self, x, y, batch_size, epochs, verbose, callbacks, validation_split, validation_data, shuffle, class_weight, sample_weight, initial_epoch, steps_per_epoch, validation_steps, validation_batch_size, validation_freq, max_queue_size, workers, use_multiprocessing)\u001b[0m\n\u001b[1;32m   1429\u001b[0m               \u001b[0muse_multiprocessing\u001b[0m\u001b[0;34m=\u001b[0m\u001b[0muse_multiprocessing\u001b[0m\u001b[0;34m,\u001b[0m\u001b[0;34m\u001b[0m\u001b[0;34m\u001b[0m\u001b[0m\n\u001b[1;32m   1430\u001b[0m               \u001b[0mreturn_dict\u001b[0m\u001b[0;34m=\u001b[0m\u001b[0;32mTrue\u001b[0m\u001b[0;34m,\u001b[0m\u001b[0;34m\u001b[0m\u001b[0;34m\u001b[0m\u001b[0m\n\u001b[0;32m-> 1431\u001b[0;31m               _use_cached_eval_dataset=True)\n\u001b[0m\u001b[1;32m   1432\u001b[0m           \u001b[0mval_logs\u001b[0m \u001b[0;34m=\u001b[0m \u001b[0;34m{\u001b[0m\u001b[0;34m'val_'\u001b[0m \u001b[0;34m+\u001b[0m \u001b[0mname\u001b[0m\u001b[0;34m:\u001b[0m \u001b[0mval\u001b[0m \u001b[0;32mfor\u001b[0m \u001b[0mname\u001b[0m\u001b[0;34m,\u001b[0m \u001b[0mval\u001b[0m \u001b[0;32min\u001b[0m \u001b[0mval_logs\u001b[0m\u001b[0;34m.\u001b[0m\u001b[0mitems\u001b[0m\u001b[0;34m(\u001b[0m\u001b[0;34m)\u001b[0m\u001b[0;34m}\u001b[0m\u001b[0;34m\u001b[0m\u001b[0;34m\u001b[0m\u001b[0m\n\u001b[1;32m   1433\u001b[0m           \u001b[0mepoch_logs\u001b[0m\u001b[0;34m.\u001b[0m\u001b[0mupdate\u001b[0m\u001b[0;34m(\u001b[0m\u001b[0mval_logs\u001b[0m\u001b[0;34m)\u001b[0m\u001b[0;34m\u001b[0m\u001b[0;34m\u001b[0m\u001b[0m\n",
            "\u001b[0;32m/usr/local/lib/python3.7/dist-packages/keras/utils/traceback_utils.py\u001b[0m in \u001b[0;36merror_handler\u001b[0;34m(*args, **kwargs)\u001b[0m\n\u001b[1;32m     62\u001b[0m     \u001b[0mfiltered_tb\u001b[0m \u001b[0;34m=\u001b[0m \u001b[0;32mNone\u001b[0m\u001b[0;34m\u001b[0m\u001b[0;34m\u001b[0m\u001b[0m\n\u001b[1;32m     63\u001b[0m     \u001b[0;32mtry\u001b[0m\u001b[0;34m:\u001b[0m\u001b[0;34m\u001b[0m\u001b[0;34m\u001b[0m\u001b[0m\n\u001b[0;32m---> 64\u001b[0;31m       \u001b[0;32mreturn\u001b[0m \u001b[0mfn\u001b[0m\u001b[0;34m(\u001b[0m\u001b[0;34m*\u001b[0m\u001b[0margs\u001b[0m\u001b[0;34m,\u001b[0m \u001b[0;34m**\u001b[0m\u001b[0mkwargs\u001b[0m\u001b[0;34m)\u001b[0m\u001b[0;34m\u001b[0m\u001b[0;34m\u001b[0m\u001b[0m\n\u001b[0m\u001b[1;32m     65\u001b[0m     \u001b[0;32mexcept\u001b[0m \u001b[0mException\u001b[0m \u001b[0;32mas\u001b[0m \u001b[0me\u001b[0m\u001b[0;34m:\u001b[0m  \u001b[0;31m# pylint: disable=broad-except\u001b[0m\u001b[0;34m\u001b[0m\u001b[0;34m\u001b[0m\u001b[0m\n\u001b[1;32m     66\u001b[0m       \u001b[0mfiltered_tb\u001b[0m \u001b[0;34m=\u001b[0m \u001b[0m_process_traceback_frames\u001b[0m\u001b[0;34m(\u001b[0m\u001b[0me\u001b[0m\u001b[0;34m.\u001b[0m\u001b[0m__traceback__\u001b[0m\u001b[0;34m)\u001b[0m\u001b[0;34m\u001b[0m\u001b[0;34m\u001b[0m\u001b[0m\n",
            "\u001b[0;32m/usr/local/lib/python3.7/dist-packages/keras/engine/training.py\u001b[0m in \u001b[0;36mevaluate\u001b[0;34m(self, x, y, batch_size, verbose, sample_weight, steps, callbacks, max_queue_size, workers, use_multiprocessing, return_dict, **kwargs)\u001b[0m\n\u001b[1;32m   1714\u001b[0m             \u001b[0;32mwith\u001b[0m \u001b[0mtf\u001b[0m\u001b[0;34m.\u001b[0m\u001b[0mprofiler\u001b[0m\u001b[0;34m.\u001b[0m\u001b[0mexperimental\u001b[0m\u001b[0;34m.\u001b[0m\u001b[0mTrace\u001b[0m\u001b[0;34m(\u001b[0m\u001b[0;34m'test'\u001b[0m\u001b[0;34m,\u001b[0m \u001b[0mstep_num\u001b[0m\u001b[0;34m=\u001b[0m\u001b[0mstep\u001b[0m\u001b[0;34m,\u001b[0m \u001b[0m_r\u001b[0m\u001b[0;34m=\u001b[0m\u001b[0;36m1\u001b[0m\u001b[0;34m)\u001b[0m\u001b[0;34m:\u001b[0m\u001b[0;34m\u001b[0m\u001b[0;34m\u001b[0m\u001b[0m\n\u001b[1;32m   1715\u001b[0m               \u001b[0mcallbacks\u001b[0m\u001b[0;34m.\u001b[0m\u001b[0mon_test_batch_begin\u001b[0m\u001b[0;34m(\u001b[0m\u001b[0mstep\u001b[0m\u001b[0;34m)\u001b[0m\u001b[0;34m\u001b[0m\u001b[0;34m\u001b[0m\u001b[0m\n\u001b[0;32m-> 1716\u001b[0;31m               \u001b[0mtmp_logs\u001b[0m \u001b[0;34m=\u001b[0m \u001b[0mself\u001b[0m\u001b[0;34m.\u001b[0m\u001b[0mtest_function\u001b[0m\u001b[0;34m(\u001b[0m\u001b[0miterator\u001b[0m\u001b[0;34m)\u001b[0m\u001b[0;34m\u001b[0m\u001b[0;34m\u001b[0m\u001b[0m\n\u001b[0m\u001b[1;32m   1717\u001b[0m               \u001b[0;32mif\u001b[0m \u001b[0mdata_handler\u001b[0m\u001b[0;34m.\u001b[0m\u001b[0mshould_sync\u001b[0m\u001b[0;34m:\u001b[0m\u001b[0;34m\u001b[0m\u001b[0;34m\u001b[0m\u001b[0m\n\u001b[1;32m   1718\u001b[0m                 \u001b[0mcontext\u001b[0m\u001b[0;34m.\u001b[0m\u001b[0masync_wait\u001b[0m\u001b[0;34m(\u001b[0m\u001b[0;34m)\u001b[0m\u001b[0;34m\u001b[0m\u001b[0;34m\u001b[0m\u001b[0m\n",
            "\u001b[0;32m/usr/local/lib/python3.7/dist-packages/tensorflow/python/util/traceback_utils.py\u001b[0m in \u001b[0;36merror_handler\u001b[0;34m(*args, **kwargs)\u001b[0m\n\u001b[1;32m    148\u001b[0m     \u001b[0mfiltered_tb\u001b[0m \u001b[0;34m=\u001b[0m \u001b[0;32mNone\u001b[0m\u001b[0;34m\u001b[0m\u001b[0;34m\u001b[0m\u001b[0m\n\u001b[1;32m    149\u001b[0m     \u001b[0;32mtry\u001b[0m\u001b[0;34m:\u001b[0m\u001b[0;34m\u001b[0m\u001b[0;34m\u001b[0m\u001b[0m\n\u001b[0;32m--> 150\u001b[0;31m       \u001b[0;32mreturn\u001b[0m \u001b[0mfn\u001b[0m\u001b[0;34m(\u001b[0m\u001b[0;34m*\u001b[0m\u001b[0margs\u001b[0m\u001b[0;34m,\u001b[0m \u001b[0;34m**\u001b[0m\u001b[0mkwargs\u001b[0m\u001b[0;34m)\u001b[0m\u001b[0;34m\u001b[0m\u001b[0;34m\u001b[0m\u001b[0m\n\u001b[0m\u001b[1;32m    151\u001b[0m     \u001b[0;32mexcept\u001b[0m \u001b[0mException\u001b[0m \u001b[0;32mas\u001b[0m \u001b[0me\u001b[0m\u001b[0;34m:\u001b[0m\u001b[0;34m\u001b[0m\u001b[0;34m\u001b[0m\u001b[0m\n\u001b[1;32m    152\u001b[0m       \u001b[0mfiltered_tb\u001b[0m \u001b[0;34m=\u001b[0m \u001b[0m_process_traceback_frames\u001b[0m\u001b[0;34m(\u001b[0m\u001b[0me\u001b[0m\u001b[0;34m.\u001b[0m\u001b[0m__traceback__\u001b[0m\u001b[0;34m)\u001b[0m\u001b[0;34m\u001b[0m\u001b[0;34m\u001b[0m\u001b[0m\n",
            "\u001b[0;32m/usr/local/lib/python3.7/dist-packages/tensorflow/python/eager/def_function.py\u001b[0m in \u001b[0;36m__call__\u001b[0;34m(self, *args, **kwds)\u001b[0m\n\u001b[1;32m    913\u001b[0m \u001b[0;34m\u001b[0m\u001b[0m\n\u001b[1;32m    914\u001b[0m       \u001b[0;32mwith\u001b[0m \u001b[0mOptionalXlaContext\u001b[0m\u001b[0;34m(\u001b[0m\u001b[0mself\u001b[0m\u001b[0;34m.\u001b[0m\u001b[0m_jit_compile\u001b[0m\u001b[0;34m)\u001b[0m\u001b[0;34m:\u001b[0m\u001b[0;34m\u001b[0m\u001b[0;34m\u001b[0m\u001b[0m\n\u001b[0;32m--> 915\u001b[0;31m         \u001b[0mresult\u001b[0m \u001b[0;34m=\u001b[0m \u001b[0mself\u001b[0m\u001b[0;34m.\u001b[0m\u001b[0m_call\u001b[0m\u001b[0;34m(\u001b[0m\u001b[0;34m*\u001b[0m\u001b[0margs\u001b[0m\u001b[0;34m,\u001b[0m \u001b[0;34m**\u001b[0m\u001b[0mkwds\u001b[0m\u001b[0;34m)\u001b[0m\u001b[0;34m\u001b[0m\u001b[0;34m\u001b[0m\u001b[0m\n\u001b[0m\u001b[1;32m    916\u001b[0m \u001b[0;34m\u001b[0m\u001b[0m\n\u001b[1;32m    917\u001b[0m       \u001b[0mnew_tracing_count\u001b[0m \u001b[0;34m=\u001b[0m \u001b[0mself\u001b[0m\u001b[0;34m.\u001b[0m\u001b[0mexperimental_get_tracing_count\u001b[0m\u001b[0;34m(\u001b[0m\u001b[0;34m)\u001b[0m\u001b[0;34m\u001b[0m\u001b[0;34m\u001b[0m\u001b[0m\n",
            "\u001b[0;32m/usr/local/lib/python3.7/dist-packages/tensorflow/python/eager/def_function.py\u001b[0m in \u001b[0;36m_call\u001b[0;34m(self, *args, **kwds)\u001b[0m\n\u001b[1;32m    952\u001b[0m       \u001b[0;31m# In this case we have not created variables on the first call. So we can\u001b[0m\u001b[0;34m\u001b[0m\u001b[0;34m\u001b[0m\u001b[0;34m\u001b[0m\u001b[0m\n\u001b[1;32m    953\u001b[0m       \u001b[0;31m# run the first trace but we should fail if variables are created.\u001b[0m\u001b[0;34m\u001b[0m\u001b[0;34m\u001b[0m\u001b[0;34m\u001b[0m\u001b[0m\n\u001b[0;32m--> 954\u001b[0;31m       \u001b[0mresults\u001b[0m \u001b[0;34m=\u001b[0m \u001b[0mself\u001b[0m\u001b[0;34m.\u001b[0m\u001b[0m_stateful_fn\u001b[0m\u001b[0;34m(\u001b[0m\u001b[0;34m*\u001b[0m\u001b[0margs\u001b[0m\u001b[0;34m,\u001b[0m \u001b[0;34m**\u001b[0m\u001b[0mkwds\u001b[0m\u001b[0;34m)\u001b[0m\u001b[0;34m\u001b[0m\u001b[0;34m\u001b[0m\u001b[0m\n\u001b[0m\u001b[1;32m    955\u001b[0m       \u001b[0;32mif\u001b[0m \u001b[0mself\u001b[0m\u001b[0;34m.\u001b[0m\u001b[0m_created_variables\u001b[0m \u001b[0;32mand\u001b[0m \u001b[0;32mnot\u001b[0m \u001b[0mALLOW_DYNAMIC_VARIABLE_CREATION\u001b[0m\u001b[0;34m:\u001b[0m\u001b[0;34m\u001b[0m\u001b[0;34m\u001b[0m\u001b[0m\n\u001b[1;32m    956\u001b[0m         raise ValueError(\"Creating variables on a non-first call to a function\"\n",
            "\u001b[0;32m/usr/local/lib/python3.7/dist-packages/tensorflow/python/eager/function.py\u001b[0m in \u001b[0;36m__call__\u001b[0;34m(self, *args, **kwargs)\u001b[0m\n\u001b[1;32m   2955\u001b[0m        filtered_flat_args) = self._maybe_define_function(args, kwargs)\n\u001b[1;32m   2956\u001b[0m     return graph_function._call_flat(\n\u001b[0;32m-> 2957\u001b[0;31m         filtered_flat_args, captured_inputs=graph_function.captured_inputs)  # pylint: disable=protected-access\n\u001b[0m\u001b[1;32m   2958\u001b[0m \u001b[0;34m\u001b[0m\u001b[0m\n\u001b[1;32m   2959\u001b[0m   \u001b[0;34m@\u001b[0m\u001b[0mproperty\u001b[0m\u001b[0;34m\u001b[0m\u001b[0;34m\u001b[0m\u001b[0m\n",
            "\u001b[0;32m/usr/local/lib/python3.7/dist-packages/tensorflow/python/eager/function.py\u001b[0m in \u001b[0;36m_call_flat\u001b[0;34m(self, args, captured_inputs, cancellation_manager)\u001b[0m\n\u001b[1;32m   1852\u001b[0m       \u001b[0;31m# No tape is watching; skip to running the function.\u001b[0m\u001b[0;34m\u001b[0m\u001b[0;34m\u001b[0m\u001b[0;34m\u001b[0m\u001b[0m\n\u001b[1;32m   1853\u001b[0m       return self._build_call_outputs(self._inference_function.call(\n\u001b[0;32m-> 1854\u001b[0;31m           ctx, args, cancellation_manager=cancellation_manager))\n\u001b[0m\u001b[1;32m   1855\u001b[0m     forward_backward = self._select_forward_and_backward_functions(\n\u001b[1;32m   1856\u001b[0m         \u001b[0margs\u001b[0m\u001b[0;34m,\u001b[0m\u001b[0;34m\u001b[0m\u001b[0;34m\u001b[0m\u001b[0m\n",
            "\u001b[0;32m/usr/local/lib/python3.7/dist-packages/tensorflow/python/eager/function.py\u001b[0m in \u001b[0;36mcall\u001b[0;34m(self, ctx, args, cancellation_manager)\u001b[0m\n\u001b[1;32m    502\u001b[0m               \u001b[0minputs\u001b[0m\u001b[0;34m=\u001b[0m\u001b[0margs\u001b[0m\u001b[0;34m,\u001b[0m\u001b[0;34m\u001b[0m\u001b[0;34m\u001b[0m\u001b[0m\n\u001b[1;32m    503\u001b[0m               \u001b[0mattrs\u001b[0m\u001b[0;34m=\u001b[0m\u001b[0mattrs\u001b[0m\u001b[0;34m,\u001b[0m\u001b[0;34m\u001b[0m\u001b[0;34m\u001b[0m\u001b[0m\n\u001b[0;32m--> 504\u001b[0;31m               ctx=ctx)\n\u001b[0m\u001b[1;32m    505\u001b[0m         \u001b[0;32melse\u001b[0m\u001b[0;34m:\u001b[0m\u001b[0;34m\u001b[0m\u001b[0;34m\u001b[0m\u001b[0m\n\u001b[1;32m    506\u001b[0m           outputs = execute.execute_with_cancellation(\n",
            "\u001b[0;32m/usr/local/lib/python3.7/dist-packages/tensorflow/python/eager/execute.py\u001b[0m in \u001b[0;36mquick_execute\u001b[0;34m(op_name, num_outputs, inputs, attrs, ctx, name)\u001b[0m\n\u001b[1;32m     53\u001b[0m     \u001b[0mctx\u001b[0m\u001b[0;34m.\u001b[0m\u001b[0mensure_initialized\u001b[0m\u001b[0;34m(\u001b[0m\u001b[0;34m)\u001b[0m\u001b[0;34m\u001b[0m\u001b[0;34m\u001b[0m\u001b[0m\n\u001b[1;32m     54\u001b[0m     tensors = pywrap_tfe.TFE_Py_Execute(ctx._handle, device_name, op_name,\n\u001b[0;32m---> 55\u001b[0;31m                                         inputs, attrs, num_outputs)\n\u001b[0m\u001b[1;32m     56\u001b[0m   \u001b[0;32mexcept\u001b[0m \u001b[0mcore\u001b[0m\u001b[0;34m.\u001b[0m\u001b[0m_NotOkStatusException\u001b[0m \u001b[0;32mas\u001b[0m \u001b[0me\u001b[0m\u001b[0;34m:\u001b[0m\u001b[0;34m\u001b[0m\u001b[0;34m\u001b[0m\u001b[0m\n\u001b[1;32m     57\u001b[0m     \u001b[0;32mif\u001b[0m \u001b[0mname\u001b[0m \u001b[0;32mis\u001b[0m \u001b[0;32mnot\u001b[0m \u001b[0;32mNone\u001b[0m\u001b[0;34m:\u001b[0m\u001b[0;34m\u001b[0m\u001b[0;34m\u001b[0m\u001b[0m\n",
            "\u001b[0;31mKeyboardInterrupt\u001b[0m: "
          ]
        }
      ]
    },
    {
      "cell_type": "code",
      "source": [
        "print(encoded_X.shape)\n",
        "print(np.array(y).shape)\n",
        "print(len(y))\n",
        "print(y[0][0])"
      ],
      "metadata": {
        "colab": {
          "base_uri": "https://localhost:8080/"
        },
        "id": "zZ9tzsDGCXFl",
        "outputId": "48975fd7-06df-4ee9-b0bb-bb762275042f"
      },
      "execution_count": 48,
      "outputs": [
        {
          "output_type": "stream",
          "name": "stdout",
          "text": [
            "(1243, 128)\n",
            "(1243, 128, 7)\n",
            "1243\n",
            "[0. 0. 0. 1. 0. 0. 0.]\n"
          ]
        }
      ]
    },
    {
      "cell_type": "code",
      "metadata": {
        "id": "Aa0MqxWTbzrh"
      },
      "source": [
        ""
      ],
      "execution_count": null,
      "outputs": []
    },
    {
      "cell_type": "markdown",
      "metadata": {
        "id": "KZQyphP3b5Zr"
      },
      "source": [
        "### Test-Data"
      ]
    },
    {
      "cell_type": "code",
      "source": [
        "# print(tokenizer.vocab_size)\n",
        "# print(tokenizer.vocab)"
      ],
      "metadata": {
        "id": "Diol7I4WM5HO"
      },
      "execution_count": null,
      "outputs": []
    },
    {
      "cell_type": "code",
      "metadata": {
        "colab": {
          "base_uri": "https://localhost:8080/"
        },
        "id": "md6jV21ka7wW",
        "outputId": "9e50559d-0325-4b0e-ca72-a81f30b09aa0"
      },
      "source": [
        "test_data=open('/content/drive/MyDrive/Acads/4-1/BTP/DATASET/ner_hineng/dev.conll',mode='r',encoding='utf-8')\n",
        "test_data=test_data.read()\n",
        "print(type(test_data))"
      ],
      "execution_count": 49,
      "outputs": [
        {
          "output_type": "stream",
          "name": "stdout",
          "text": [
            "<class 'str'>\n"
          ]
        }
      ]
    },
    {
      "cell_type": "code",
      "metadata": {
        "colab": {
          "base_uri": "https://localhost:8080/"
        },
        "id": "pXM8cKMpbxbG",
        "outputId": "2f52ebb5-b3c5-4f4b-b293-eac00ad5e341"
      },
      "source": [
        "test_count=0\n",
        "test_sen_id=[]\n",
        "test_sentences=[]\n",
        "for sen in test_data.strip().split(\"# sent_enum = \"):\n",
        "  if(len(sen)>0):\n",
        "    test_count+=1\n",
        "    idx=sen.find(\"\\n\")\n",
        "    test_sen_id.append(sen[:idx])\n",
        "    txt=[]\n",
        "    for token in sen[idx+1:].strip().split('\\n'):\n",
        "      tok=token.split()\n",
        "      # Text-Cleaning\n",
        "      tok[0]=text_cleaning(tok[0])\n",
        "      if(tok[1]=='hi'):\n",
        "        tok[0]=transliterate(tok[0], sanscript.ITRANS, sanscript.DEVANAGARI)\n",
        "      else:\n",
        "        tok[0]=spelling_correction(tok[0])\n",
        "      txt.append(tok)\n",
        "    test_sentences.append(txt)\n",
        "\n",
        "print(test_count)"
      ],
      "execution_count": 51,
      "outputs": [
        {
          "output_type": "stream",
          "name": "stdout",
          "text": [
            "314\n"
          ]
        }
      ]
    },
    {
      "cell_type": "code",
      "source": [
        "max_len=0\n",
        "min_len=0\n",
        "avg_len=0\n",
        "for sen in test_sentences:\n",
        "  l=len(sen)\n",
        "  if(l>max_len):\n",
        "    max_len=l\n",
        "  if(l<min_len):\n",
        "    min_len=l\n",
        "  avg_len+=l\n",
        "avg_len/=len(test_sentences)\n",
        "\n",
        "print(len(test_sentences))\n",
        "print(\"MIN Length of sentences is\",min_len)\n",
        "print(\"MAX Length of sentences is\",max_len)\n",
        "print(\"AVG Length of sentences is\",avg_len)"
      ],
      "metadata": {
        "colab": {
          "base_uri": "https://localhost:8080/"
        },
        "id": "9Dnhkbxp_Tda",
        "outputId": "63ace9aa-60af-4016-f65e-874ecf5a0cf0"
      },
      "execution_count": 52,
      "outputs": [
        {
          "output_type": "stream",
          "name": "stdout",
          "text": [
            "314\n",
            "MIN Length of sentences is 0\n",
            "MAX Length of sentences is 34\n",
            "AVG Length of sentences is 17.0828025477707\n"
          ]
        }
      ]
    },
    {
      "cell_type": "code",
      "metadata": {
        "colab": {
          "base_uri": "https://localhost:8080/"
        },
        "id": "WtRHjnmdbxdu",
        "outputId": "0587376d-9167-4288-cbdb-3bd8be10826b"
      },
      "source": [
        "print(test_sentences[3])"
      ],
      "execution_count": 53,
      "outputs": [
        {
          "output_type": "stream",
          "name": "stdout",
          "text": [
            "[['T', 'en', 'O'], ['@AamAadmiParty', 'en', 'O'], [':', 'rest', 'O'], ['National', 'en', 'B-ORGANISATION'], ['Disciplinary', 'en', 'I-ORGANISATION'], ['Committee', 'en', 'I-ORGANISATION'], ['has', 'en', 'O'], ['expelled', 'en', 'O'], ['Yogendra', 'en', 'B-PERSON'], ['Yadav', 'rest', 'I-PERSON'], [',', 'rest', 'O'], ['Peasant', 'en', 'B-PERSON'], ['Bहुशन्', 'hi', 'I-PERSON'], [',', 'rest', 'O'], ['Prof', 'en', 'O'], ['Anand', 'en', 'B-PERSON'], ['and', 'en', 'O'], ['Ajit', 'en', 'B-PERSON'], ['ज़्ह', 'hi', 'I-PERSON'], ['from', 'en', 'O'], ['AP', 'rest', 'B-ORGANISATION'], ['.', 'rest', 'O'], ['Px', 'rest', 'O'], [':', 'rest', 'O'], ['http', 'en', 'O']]\n"
          ]
        }
      ]
    },
    {
      "cell_type": "code",
      "metadata": {
        "colab": {
          "base_uri": "https://localhost:8080/"
        },
        "id": "fF9FLY4abxg7",
        "outputId": "28b9f4d4-89df-4036-c785-dd70c91fd35c"
      },
      "source": [
        "# Converting words to indices for test sentences (Features)\n",
        "# X_test = [[word2idx[w[0]] if w in un_words else word2idx[\"<OOV>\"] for w in s] for s in test_sentences]\n",
        "X_test = [\" \".join([w[0] for w in s]) for s in test_sentences]\n",
        "\n",
        "'''\n",
        "Padding train and test sentences to 32 words.\n",
        "Sentences of length greater than 32 words are truncated.\n",
        "Sentences of length less than 32 words are padded with a high value.\n",
        "'''\n",
        "# X_test = pad_sequences(maxlen=MAXLEN, sequences=X_test, padding=\"post\", truncating=\"post\", value=n_words - 1)\n",
        "# print(X_test.shape)\n",
        "encoded_X_test = tokenizer(X_test, padding='max_length', truncation=True, max_length=MAXLEN, return_tensors='tf').input_ids\n",
        "print(type(encoded_X_test))\n",
        "print(encoded_X_test.shape)"
      ],
      "execution_count": 54,
      "outputs": [
        {
          "output_type": "stream",
          "name": "stdout",
          "text": [
            "<class 'tensorflow.python.framework.ops.EagerTensor'>\n",
            "(314, 128)\n"
          ]
        }
      ]
    },
    {
      "cell_type": "code",
      "metadata": {
        "colab": {
          "base_uri": "https://localhost:8080/"
        },
        "id": "b9AmiNPFfGc2",
        "outputId": "964a06b6-a309-48bc-c0f1-ca7c351db804"
      },
      "source": [
        "y_test=[[tag2idx[w[2]] for w in s] for s in test_sentences]\n",
        "# Padding tag labels to 180 words.\n",
        "y_test_pad = pad_sequences(maxlen=MAXLEN, sequences=y_test, padding=\"post\", truncating=\"post\", value=tag2idx[\"O\"])\n",
        "print(y_test_pad.shape)"
      ],
      "execution_count": 55,
      "outputs": [
        {
          "output_type": "stream",
          "name": "stdout",
          "text": [
            "(314, 128)\n"
          ]
        }
      ]
    },
    {
      "cell_type": "code",
      "source": [
        "print(tag2idx)"
      ],
      "metadata": {
        "colab": {
          "base_uri": "https://localhost:8080/"
        },
        "id": "Wleo0C6CBPk7",
        "outputId": "43305d17-8bb2-4717-aff0-92f1a9e3a8bf"
      },
      "execution_count": 56,
      "outputs": [
        {
          "output_type": "stream",
          "name": "stdout",
          "text": [
            "{'I-ORGANISATION': 0, 'I-PERSON': 1, 'B-PERSON': 2, 'O': 3, 'I-PLACE': 4, 'B-PLACE': 5, 'B-ORGANISATION': 6}\n"
          ]
        }
      ]
    },
    {
      "cell_type": "code",
      "source": [
        "print(len(test_sentences[3]))\n",
        "print(test_sentences[3])\n",
        "print(y_test[3])\n",
        "print(y_test_pad[3])"
      ],
      "metadata": {
        "colab": {
          "base_uri": "https://localhost:8080/"
        },
        "id": "b96Jqr21A_3C",
        "outputId": "ce13249c-7f22-4e99-dd47-9a809e9258b1"
      },
      "execution_count": 57,
      "outputs": [
        {
          "output_type": "stream",
          "name": "stdout",
          "text": [
            "25\n",
            "[['T', 'en', 'O'], ['@AamAadmiParty', 'en', 'O'], [':', 'rest', 'O'], ['National', 'en', 'B-ORGANISATION'], ['Disciplinary', 'en', 'I-ORGANISATION'], ['Committee', 'en', 'I-ORGANISATION'], ['has', 'en', 'O'], ['expelled', 'en', 'O'], ['Yogendra', 'en', 'B-PERSON'], ['Yadav', 'rest', 'I-PERSON'], [',', 'rest', 'O'], ['Peasant', 'en', 'B-PERSON'], ['Bहुशन्', 'hi', 'I-PERSON'], [',', 'rest', 'O'], ['Prof', 'en', 'O'], ['Anand', 'en', 'B-PERSON'], ['and', 'en', 'O'], ['Ajit', 'en', 'B-PERSON'], ['ज़्ह', 'hi', 'I-PERSON'], ['from', 'en', 'O'], ['AP', 'rest', 'B-ORGANISATION'], ['.', 'rest', 'O'], ['Px', 'rest', 'O'], [':', 'rest', 'O'], ['http', 'en', 'O']]\n",
            "[3, 3, 3, 6, 0, 0, 3, 3, 2, 1, 3, 2, 1, 3, 3, 2, 3, 2, 1, 3, 6, 3, 3, 3, 3]\n",
            "[3 3 3 6 0 0 3 3 2 1 3 2 1 3 3 2 3 2 1 3 6 3 3 3 3 3 3 3 3 3 3 3 3 3 3 3 3\n",
            " 3 3 3 3 3 3 3 3 3 3 3 3 3 3 3 3 3 3 3 3 3 3 3 3 3 3 3 3 3 3 3 3 3 3 3 3 3\n",
            " 3 3 3 3 3 3 3 3 3 3 3 3 3 3 3 3 3 3 3 3 3 3 3 3 3 3 3 3 3 3 3 3 3 3 3 3 3\n",
            " 3 3 3 3 3 3 3 3 3 3 3 3 3 3 3 3 3]\n"
          ]
        }
      ]
    },
    {
      "cell_type": "code",
      "source": [
        "# print(Counter(y_test_pad.view(-1,).to_list()))\n",
        "print(y_test_pad.shape)\n",
        "y_test_pad_list=y_test_pad.flatten().tolist()\n",
        "print(y_test_pad.shape)\n",
        "print(len(y_test_pad_list))\n",
        "print(Counter(y_test_pad_list))"
      ],
      "metadata": {
        "colab": {
          "base_uri": "https://localhost:8080/"
        },
        "id": "QpgUYe8tEip-",
        "outputId": "5eb32372-448e-404a-ab22-d86d66565f7b"
      },
      "execution_count": 58,
      "outputs": [
        {
          "output_type": "stream",
          "name": "stdout",
          "text": [
            "(314, 128)\n",
            "(314, 128)\n",
            "40192\n",
            "Counter({3: 39617, 2: 254, 1: 112, 5: 105, 6: 61, 4: 24, 0: 19})\n"
          ]
        }
      ]
    },
    {
      "cell_type": "code",
      "metadata": {
        "colab": {
          "base_uri": "https://localhost:8080/"
        },
        "id": "C_YGXHFEfGZk",
        "outputId": "3207a799-928e-4c9e-8360-cb39f3a3646d"
      },
      "source": [
        "# Predicting on trained model\n",
        "pred = model.predict(encoded_X_test)\n",
        "print(\"Predicted Probabilities on Test Set:\\n\",pred.shape)\n",
        "# taking tag class with maximum probability\n",
        "pred_index = np.argmax(pred, axis=-1)\n",
        "print(\"Predicted tag indices: \\n\",pred_index.shape)\n",
        "pred_index_list=pred_index.flatten().tolist()\n",
        "print(len(pred_index_list))\n",
        "print(Counter(pred_index_list))"
      ],
      "execution_count": 59,
      "outputs": [
        {
          "output_type": "stream",
          "name": "stdout",
          "text": [
            "Predicted Probabilities on Test Set:\n",
            " (314, 128, 7)\n",
            "Predicted tag indices: \n",
            " (314, 128)\n",
            "40192\n",
            "Counter({3: 40179, 0: 8, 2: 5})\n"
          ]
        }
      ]
    },
    {
      "cell_type": "code",
      "source": [
        "def compute_predicted_tags(pred,threshold):\n",
        "  pred_index=[]\n",
        "  for y_s in pred:\n",
        "    pred_s=[]\n",
        "    for t in y_s:\n",
        "      # print(t)\n",
        "      i1=i2=0\n",
        "      p1=p2=0\n",
        "      for i,p in enumerate(t):\n",
        "        if(p>p1):\n",
        "          i2,i1=i1,i\n",
        "          p2,p1=p1,p\n",
        "        elif(p>p2):\n",
        "          i2=i\n",
        "          p2=p\n",
        "      if(i1==tag2idx[\"O\"]):\n",
        "        if(t[i1]>threshold):\n",
        "          pred_s.append(i1)\n",
        "        else:\n",
        "          pred_s.append(i2)\n",
        "      else:\n",
        "        pred_s.append(i1)\n",
        "    pred_index.append(pred_s)\n",
        "  pred_index=np.array(pred_index)\n",
        "  return pred_index"
      ],
      "metadata": {
        "id": "9QFqiRHX7nHQ"
      },
      "execution_count": 71,
      "outputs": []
    },
    {
      "cell_type": "code",
      "source": [
        "def get_best_threshold(pred,f1_avg_technnique='macro'):\n",
        "  best_thres=0.2\n",
        "  best_score=0.0\n",
        "  y_act = y_test_pad.flatten().tolist()\n",
        "  for thres in range(1,100,1):\n",
        "    thres/=100.0\n",
        "    pred_index=compute_predicted_tags(pred,thres)\n",
        "    y_pred=pred_index.flatten().tolist()\n",
        "    score=f1_score(y_act, y_pred, average=f1_avg_technnique)\n",
        "    # print(f'{f1_avg_technnique} F1-score of {score} at threshold = {thres}')\n",
        "    if(score>best_score):\n",
        "      best_score=score\n",
        "      best_thres=thres\n",
        "  return best_thres,best_score"
      ],
      "metadata": {
        "id": "Ya9do2H9-L9S"
      },
      "execution_count": 61,
      "outputs": []
    },
    {
      "cell_type": "code",
      "source": [
        "thres,f1=get_best_threshold(pred)\n",
        "print(f'Best f1-score of {f1} at threshold = {thres}')\n",
        "pred_index=compute_predicted_tags(pred,thres)"
      ],
      "metadata": {
        "id": "oDwQfuEK9hx1",
        "colab": {
          "base_uri": "https://localhost:8080/"
        },
        "outputId": "011044d1-d7e4-49f6-d472-99f50db9e6c2"
      },
      "execution_count": 62,
      "outputs": [
        {
          "output_type": "stream",
          "name": "stdout",
          "text": [
            "Best f1-score of 0.14883280549814185 at threshold = 0.94\n"
          ]
        }
      ]
    },
    {
      "cell_type": "code",
      "source": [
        "print(pred_index.shape)\n",
        "pred_index_list=pred_index.flatten().tolist()\n",
        "print(len(pred_index_list))\n",
        "print(Counter(pred_index_list))"
      ],
      "metadata": {
        "id": "410v3ie96OFW",
        "colab": {
          "base_uri": "https://localhost:8080/"
        },
        "outputId": "89cf8dbf-3b97-42d6-8d3c-745e4f7230fd"
      },
      "execution_count": 63,
      "outputs": [
        {
          "output_type": "stream",
          "name": "stdout",
          "text": [
            "(314, 128)\n",
            "40192\n",
            "Counter({3: 37167, 5: 1157, 1: 672, 0: 495, 6: 300, 4: 278, 2: 123})\n"
          ]
        }
      ]
    },
    {
      "cell_type": "code",
      "source": [
        "pred[0][:2]"
      ],
      "metadata": {
        "id": "wRfiuBg2Mxun",
        "colab": {
          "base_uri": "https://localhost:8080/"
        },
        "outputId": "db40b58e-6ce6-4628-dd7f-ec585422c7bd"
      },
      "execution_count": 64,
      "outputs": [
        {
          "output_type": "execute_result",
          "data": {
            "text/plain": [
              "array([[0.02020308, 0.04093562, 0.01222136, 0.82724416, 0.02281811,\n",
              "        0.06535169, 0.01122601],\n",
              "       [0.04002934, 0.04950076, 0.01961743, 0.72034574, 0.05015297,\n",
              "        0.09517428, 0.02517948]], dtype=float32)"
            ]
          },
          "metadata": {},
          "execution_count": 64
        }
      ]
    },
    {
      "cell_type": "code",
      "metadata": {
        "id": "Xho-9_w8gXql",
        "colab": {
          "base_uri": "https://localhost:8080/"
        },
        "outputId": "2b24c0af-82d1-48ff-b9c7-6bf2affa347f"
      },
      "source": [
        "y_act,y_pred = y_test_pad.flatten().tolist(), pred_index.flatten().tolist()\n",
        "print(y_act[:10])\n",
        "print(y_pred[:10])"
      ],
      "execution_count": 65,
      "outputs": [
        {
          "output_type": "stream",
          "name": "stdout",
          "text": [
            "[3, 3, 3, 3, 3, 3, 3, 3, 3, 3]\n",
            "[5, 5, 6, 3, 3, 3, 3, 3, 4, 3]\n"
          ]
        }
      ]
    },
    {
      "cell_type": "code",
      "source": [
        "print(Counter(pred_index.flatten().tolist()))"
      ],
      "metadata": {
        "id": "KQ3atgkQHOxU",
        "colab": {
          "base_uri": "https://localhost:8080/"
        },
        "outputId": "f57a16ac-a569-4e12-fb56-e06f851a1212"
      },
      "execution_count": 66,
      "outputs": [
        {
          "output_type": "stream",
          "name": "stdout",
          "text": [
            "Counter({3: 37167, 5: 1157, 1: 672, 0: 495, 6: 300, 4: 278, 2: 123})\n"
          ]
        }
      ]
    },
    {
      "cell_type": "code",
      "metadata": {
        "id": "1YhvqzTAiNdn",
        "colab": {
          "base_uri": "https://localhost:8080/"
        },
        "outputId": "89c00781-4cbf-4c14-c7fe-09c4d4f2d56b"
      },
      "source": [
        "accuracy=0\n",
        "for y_a,y_p in zip(y_act,y_pred):\n",
        "  if(y_a==y_p):\n",
        "    accuracy+=1\n",
        "accuracy/=len(y_act)\n",
        "print(accuracy)"
      ],
      "execution_count": 67,
      "outputs": [
        {
          "output_type": "stream",
          "name": "stdout",
          "text": [
            "0.9154309315286624\n"
          ]
        }
      ]
    },
    {
      "cell_type": "code",
      "metadata": {
        "id": "rvJzjEHaiNhF",
        "colab": {
          "base_uri": "https://localhost:8080/"
        },
        "outputId": "ec24c1d1-30e8-460b-ca4d-9a3b76d927f2"
      },
      "source": [
        "print(f1_score(y_act, y_pred, average='macro'))\n",
        "print(f1_score(y_act, y_pred, average='micro'))\n",
        "print(f1_score(y_act, y_pred, average='weighted'))\n",
        "print(f1_score(y_act, y_pred, average=None))\n",
        "cm=confusion_matrix(y_act, y_pred)\n",
        "print(cm)"
      ],
      "execution_count": 68,
      "outputs": [
        {
          "output_type": "stream",
          "name": "stdout",
          "text": [
            "0.14883280549814185\n",
            "0.9154309315286624\n",
            "0.94422854562123\n",
            "[0.         0.00510204 0.0265252  0.95764743 0.00662252 0.02377179\n",
            " 0.02216066]\n",
            "[[    0     0     1    14     2     2     0]\n",
            " [    4     2     0    86     1    15     4]\n",
            " [   15     8     5   169     9    40     8]\n",
            " [  470   655   114 36766   259  1069   284]\n",
            " [    1     0     1    16     1     5     0]\n",
            " [    3     3     1    77     6    15     0]\n",
            " [    2     4     1    39     0    11     4]]\n"
          ]
        }
      ]
    },
    {
      "cell_type": "code",
      "source": [
        "# print(list(tag2idx.keys()))\n",
        "tags=list(tag2idx.keys())\n",
        "print(tags)\n",
        "tags_hard=tags\n",
        "for i in range(0,len(tags_hard)):\n",
        "  tags_hard[i]=tags_hard[i][0:5]\n",
        "print(tags_hard)"
      ],
      "metadata": {
        "id": "4YZDHyN5c2Of",
        "colab": {
          "base_uri": "https://localhost:8080/"
        },
        "outputId": "e634939f-8378-4879-a66a-6b71cdeb0471"
      },
      "execution_count": 69,
      "outputs": [
        {
          "output_type": "stream",
          "name": "stdout",
          "text": [
            "['I-ORGANISATION', 'I-PERSON', 'B-PERSON', 'O', 'I-PLACE', 'B-PLACE', 'B-ORGANISATION']\n",
            "['I-ORG', 'I-PER', 'B-PER', 'O', 'I-PLA', 'B-PLA', 'B-ORG']\n"
          ]
        }
      ]
    },
    {
      "cell_type": "code",
      "metadata": {
        "id": "u9u_Ut5Pipl5",
        "colab": {
          "base_uri": "https://localhost:8080/",
          "height": 295
        },
        "outputId": "12e030b3-a460-433c-aa4f-a82a7294c797"
      },
      "source": [
        "import seaborn as sns\n",
        "import matplotlib.pyplot as plt     \n",
        "\n",
        "ax= plt.subplot(1,1,1)\n",
        "sns.heatmap(cm, annot=True, fmt='g', ax=ax);  #annot=True to annotate cells, ftm='g' to disable scientific notation\n",
        "\n",
        "# labels, title and ticks\n",
        "ax.set_xlabel('Predicted labels');ax.set_ylabel('True labels'); \n",
        "ax.set_title('Confusion Matrix'); \n",
        "# tags=list(tag2idx.keys())\n",
        "# tags.reverse()\n",
        "ax.xaxis.set_ticklabels(tags_hard); ax.yaxis.set_ticklabels(tags_hard);"
      ],
      "execution_count": 70,
      "outputs": [
        {
          "output_type": "display_data",
          "data": {
            "text/plain": [
              "<Figure size 432x288 with 2 Axes>"
            ],
            "image/png": "[encoded data removed]"
          },
          "metadata": {
            "needs_background": "light"
          }
        }
      ]
    },
    {
      "cell_type": "code",
      "metadata": {
        "id": "Yv6mnCvPipjE"
      },
      "source": [
        ""
      ],
      "execution_count": null,
      "outputs": []
    },
    {
      "cell_type": "code",
      "metadata": {
        "id": "SrRnyZdSm4Oc"
      },
      "source": [
        "sub_data=open('/content/drive/MyDrive/Acads/4-1/BTP/DATASET/ner_hineng/test.conll',mode='r',encoding='utf-8')\n",
        "sub_data=sub_data.read()\n",
        "print(type(sub_data))"
      ],
      "execution_count": null,
      "outputs": []
    },
    {
      "cell_type": "code",
      "source": [
        "sub_count=0\n",
        "sub_sen_id=[]\n",
        "sub_sentences=[]\n",
        "for sen in sub_data.strip().split(\"\\n\\n\"):\n",
        "  if(len(sen)>0):\n",
        "    sub_count+=1\n",
        "    #idx=sen.find(\"\\n\")\n",
        "    sub_sen_id.append(sen[:0])\n",
        "    txt=[]\n",
        "    for token in sen[0:].strip().split('\\n'):\n",
        "      tok=token.split()\n",
        "      if(tok[1]=='hi'):\n",
        "        tok[0]=transliterate(tok[0], sanscript.ITRANS, sanscript.DEVANAGARI)\n",
        "      txt.append(tok)\n",
        "    sub_sentences.append(txt)\n",
        "\n",
        "print(sub_count)"
      ],
      "metadata": {
        "id": "bH28RAhqWJ4g"
      },
      "execution_count": null,
      "outputs": []
    },
    {
      "cell_type": "code",
      "source": [
        "print(sub_sentences[2])"
      ],
      "metadata": {
        "id": "Fu_5dnYlssZx"
      },
      "execution_count": null,
      "outputs": []
    },
    {
      "cell_type": "code",
      "source": [
        "max_len=0\n",
        "min_len=0\n",
        "avg_len=0\n",
        "for sen in sub_sentences:\n",
        "  l=len(sen)\n",
        "  if(l>max_len):\n",
        "    max_len=l\n",
        "  if(l<min_len):\n",
        "    min_len=l\n",
        "  avg_len+=l\n",
        "avg_len/=len(sub_sentences)\n",
        "\n",
        "print(len(sub_sentences))\n",
        "print(\"MIN Length of sentences is\",min_len)\n",
        "print(\"MAX Length of sentences is\",max_len)\n",
        "print(\"AVG Length of sentences is\",avg_len)"
      ],
      "metadata": {
        "id": "Yx_qqMurWWCt"
      },
      "execution_count": null,
      "outputs": []
    },
    {
      "cell_type": "code",
      "source": [
        "# Converting words to indices for test sentences (Features)\n",
        "X_sub = [[word2idx[w[0]] if w in un_words else word2idx[\"<OOV>\"] for w in s] for s in sub_sentences]\n",
        "'''\n",
        "Padding train and test sentences to 32 words.\n",
        "Sentences of length greater than 32 words are truncated.\n",
        "Sentences of length less than 32 words are padded with a high value.\n",
        "'''\n",
        "X_sub = pad_sequences(maxlen=MAXLEN, sequences=X_sub, padding=\"post\", truncating=\"post\", value=n_words - 1)\n",
        "print(X_sub.shape)"
      ],
      "metadata": {
        "id": "4G8cClgRWfUy"
      },
      "execution_count": null,
      "outputs": []
    },
    {
      "cell_type": "code",
      "source": [
        "X_sub[1]"
      ],
      "metadata": {
        "id": "AyheZDBe0lkN"
      },
      "execution_count": null,
      "outputs": []
    },
    {
      "cell_type": "code",
      "source": [
        "# Predicting on trained model\n",
        "sub = model.predict(X_sub)\n",
        "print(\"Predicted Probabilities on Test Set:\\n\",sub.shape)\n",
        "# taking tag class with maximum probability\n",
        "sub_index = np.argmax(sub, axis=-1)\n",
        "print(\"Predicted tag indices: \\n\",sub_index.shape)\n",
        "sub_index_list=sub_index.flatten().tolist()\n",
        "print(len(sub_index_list))\n",
        "print(Counter(sub_index_list))"
      ],
      "metadata": {
        "id": "T9eQiVtyvFYt"
      },
      "execution_count": null,
      "outputs": []
    },
    {
      "cell_type": "code",
      "source": [
        "sub_index=compute_predicted_tags(sub,0.66)"
      ],
      "metadata": {
        "id": "yYxBT6c0v3O-"
      },
      "execution_count": null,
      "outputs": []
    },
    {
      "cell_type": "code",
      "source": [
        "print(sub_index.shape)\n",
        "sub_index_list=sub_index.flatten().tolist()\n",
        "print(len(sub_index_list))\n",
        "print(Counter(sub_index_list))"
      ],
      "metadata": {
        "id": "z0wJsTqTwXQj"
      },
      "execution_count": null,
      "outputs": []
    },
    {
      "cell_type": "code",
      "source": [
        "sub[0][:2]"
      ],
      "metadata": {
        "id": "dGAwqbegxENu"
      },
      "execution_count": null,
      "outputs": []
    },
    {
      "cell_type": "code",
      "source": [
        "y_sub = sub_index.flatten().tolist()\n",
        "print(y_sub[0:2])\n",
        "print(Counter(sub_index.flatten().tolist()))"
      ],
      "metadata": {
        "id": "4bzK30OmwmHB"
      },
      "execution_count": null,
      "outputs": []
    },
    {
      "cell_type": "code",
      "source": [
        "print(Counter(sub_index.flatten().tolist()))"
      ],
      "metadata": {
        "id": "TsVyjNgSiCia"
      },
      "execution_count": null,
      "outputs": []
    },
    {
      "cell_type": "code",
      "source": [
        "f= open(\"ner_hin_eng.txt\",\"w+\")\n",
        "z=0\n",
        "for sen in sub_sentences:\n",
        "  l=len(sen)\n",
        "  for i in range(z,z+l):\n",
        "    if (y_sub[i]==0):\n",
        "      f.write(\"O\\n\")\n",
        "    if (y_sub[i]==5):\n",
        "      f.write(\"B-PERSON\\n\")\n",
        "    #f.write(\"%d\\r\\n\" % (y_sub[i]))\n",
        "  z=z+36\n",
        "  f.write(\"\\n\")\n",
        "     \n",
        "f.close()"
      ],
      "metadata": {
        "id": "6Jrbh2zwqP5F"
      },
      "execution_count": null,
      "outputs": []
    },
    {
      "cell_type": "markdown",
      "metadata": {
        "id": "xN0qYtQtAG_h"
      },
      "source": [
        "# Following Github\n",
        "[Lince](https://github.com/huggingface/datasets/blob/master/datasets/lince/lince.py)"
      ]
    },
    {
      "cell_type": "code",
      "metadata": {
        "id": "juxRN7hIAQMf"
      },
      "source": [
        "import csv\n",
        "import os\n",
        "import re\n",
        "import textwrap\n",
        "from itertools import groupby"
      ],
      "execution_count": null,
      "outputs": []
    },
    {
      "cell_type": "code",
      "metadata": {
        "id": "Nf93dLDCBRL4"
      },
      "source": [
        "!pip install datasets"
      ],
      "execution_count": null,
      "outputs": []
    },
    {
      "cell_type": "code",
      "metadata": {
        "id": "g1dbHVTbAVl_"
      },
      "source": [
        "import datasets"
      ],
      "execution_count": null,
      "outputs": []
    },
    {
      "cell_type": "markdown",
      "metadata": {
        "id": "3mQo6bEbBmtv"
      },
      "source": [
        "### Citations and Dataset Configuration\n",
        "\n",
        "\n",
        "1.   _CITATION\n",
        "2.   _DESCRIPTION\n",
        "3.  _LINCE_URL\n",
        "4.  _DATASET_CITATIONS"
      ]
    },
    {
      "cell_type": "code",
      "metadata": {
        "id": "Jj2x-X77Bly_"
      },
      "source": [
        "_CITATION = \"\"\"\\\n",
        "@inproceedings{aguilar-etal-2020-lince,\n",
        "    title = \"{L}in{CE}: A Centralized Benchmark for Linguistic Code-switching Evaluation\",\n",
        "    author = \"Aguilar, Gustavo  and\n",
        "      Kar, Sudipta  and\n",
        "      Solorio, Thamar\",\n",
        "    booktitle = \"Proceedings of The 12th Language Resources and Evaluation Conference\",\n",
        "    month = may,\n",
        "    year = \"2020\",\n",
        "    address = \"Marseille, France\",\n",
        "    publisher = \"European Language Resources Association\",\n",
        "    url = \"https://www.aclweb.org/anthology/2020.lrec-1.223\",\n",
        "    pages = \"1803--1813\",\n",
        "    language = \"English\",\n",
        "    ISBN = \"979-10-95546-34-4\",\n",
        "}\n",
        "Note that each LinCE dataset has its own citation. Please see the source to see\n",
        "the correct citation for each contained dataset.\"\"\"\n",
        "\n",
        "_DESCRIPTION = \"\"\"\\\n",
        "LinCE is a centralized Linguistic Code-switching Evaluation benchmark\n",
        "(https://ritual.uh.edu/lince/) that contains data for training and evaluating\n",
        "NLP systems on code-switching tasks.\n",
        "\"\"\"\n",
        "\n",
        "_LINCE_URL = \"https://ritual.uh.edu/lince/libaccess/eyJ1c2VybmFtZSI6ICJodWdnaW5nZmFjZSBubHAiLCAidXNlcl9pZCI6IDExMSwgImVtYWlsIjogImR1bW15QGVtYWlsLmNvbSJ9\"\n",
        "\n",
        "_DATASET_CITATIONS = {\n",
        "    \"lid_spaeng\": textwrap.dedent(\n",
        "        \"\"\"\n",
        "        @inproceedings{molina-etal-2016-overview,\n",
        "           title = \"Overview for the Second Shared Task on Language Identification in Code-Switched Data\",\n",
        "           author = \"Molina, Giovanni and\n",
        "                     AlGhamdi, Fahad and\n",
        "                     Ghoneim, Mahmoud and\n",
        "                     Hawwari, Abdelati and\n",
        "                     Rey-Villamizar, Nicolas and\n",
        "                     Diab, Mona and\n",
        "                     Solorio, Thamar\",\n",
        "           booktitle = \"Proceedings of the Second Workshop on Computational Approaches to Code Switching\",\n",
        "           month = nov,\n",
        "           year = \"2016\",\n",
        "           address = \"Austin, Texas\",\n",
        "           publisher = \"Association for Computational Linguistics\",\n",
        "           url = \"https://www.aclweb.org/anthology/W16-5805\",\n",
        "           doi = \"10.18653/v1/W16-5805\",\n",
        "           pages = \"40--49\",\n",
        "        }\n",
        "        \"\"\"\n",
        "    ),\n",
        "    \"lid_hineng\": textwrap.dedent(\n",
        "        \"\"\"\n",
        "        @inproceedings{mave-etal-2018-language,\n",
        "           title = \"Language Identification and Analysis of Code-Switched Social Media Text\",\n",
        "           author = \"Mave, Deepthi and\n",
        "                     Maharjan, Suraj and\n",
        "                     Solorio, Thamar\",\n",
        "           booktitle = \"Proceedings of the Third Workshop on Computational Approaches to Linguistic Code-Switching\",\n",
        "           month = jul,\n",
        "           year = \"2018\",\n",
        "           address = \"Melbourne, Australia\",\n",
        "           publisher = \"Association for Computational Linguistics\",\n",
        "           url = \"https://www.aclweb.org/anthology/W18-3206\",\n",
        "           pages = \"51--61\"\n",
        "        }\n",
        "        \"\"\"\n",
        "    ),\n",
        "    \"lid_msaea\": textwrap.dedent(\n",
        "        \"\"\"\n",
        "        @inproceedings{molina-etal-2016-overview,\n",
        "           title = \"Overview for the Second Shared Task on Language Identification in Code-Switched Data\",\n",
        "           author = \"Molina, Giovanni and\n",
        "                     AlGhamdi, Fahad and\n",
        "                     Ghoneim, Mahmoud and\n",
        "                     Hawwari, Abdelati and\n",
        "                     Rey-Villamizar, Nicolas and\n",
        "                     Diab, Mona and\n",
        "                     Solorio, Thamar\",\n",
        "           booktitle = \"Proceedings of the Second Workshop on Computational Approaches to Code Switching\",\n",
        "           month = nov,\n",
        "           year = \"2016\",\n",
        "           address = \"Austin, Texas\",\n",
        "           publisher = \"Association for Computational Linguistics\",\n",
        "           url = \"https://www.aclweb.org/anthology/W16-5805\",\n",
        "           doi = \"10.18653/v1/W16-5805\",\n",
        "           pages = \"40--49\",\n",
        "        }\n",
        "        \"\"\"\n",
        "    ),\n",
        "    \"lid_nepeng\": textwrap.dedent(\n",
        "        \"\"\"\n",
        "        @inproceedings{solorio-etal-2014-overview,\n",
        "           title = \"Overview for the First Shared Task on Language Identification in Code-Switched Data\",\n",
        "           author = \"Solorio, Thamar and\n",
        "                     Blair, Elizabeth and\n",
        "                     Maharjan, Suraj and\n",
        "                     Bethard, Steven and\n",
        "                     Diab, Mona and\n",
        "                     Ghoneim, Mahmoud and\n",
        "                     Hawwari, Abdelati and\n",
        "                     AlGhamdi, Fahad and\n",
        "                     Hirschberg, Julia and\n",
        "                     Chang, Alison and\n",
        "                     Fung, Pascale\",\n",
        "           booktitle = \"Proceedings of the First Workshop on Computational Approaches to Code Switching\",\n",
        "           month = oct,\n",
        "           year = \"2014\",\n",
        "           address = \"Doha, Qatar\",\n",
        "           publisher = \"Association for Computational Linguistics\",\n",
        "           url = \"https://www.aclweb.org/anthology/W14-3907\",\n",
        "           doi = \"10.3115/v1/W14-3907\",\n",
        "           pages = \"62--72\",\n",
        "        }\n",
        "        \"\"\"\n",
        "    ),\n",
        "    \"pos_spaeng\": textwrap.dedent(\n",
        "        \"\"\"\n",
        "        @inproceedings{alghamdi-etal-2016-part,\n",
        "           title = \"Part of Speech Tagging for Code Switched Data\",\n",
        "           author = \"AlGhamdi, Fahad and\n",
        "                     Molina, Giovanni and\n",
        "                     Diab, Mona and\n",
        "                     Solorio, Thamar and\n",
        "                     Hawwari, Abdelati and\n",
        "                     Soto, Victor and\n",
        "                     Hirschberg, Julia\",\n",
        "           booktitle = \"Proceedings of the Second Workshop on Computational Approaches to Code Switching\",\n",
        "           month = nov,\n",
        "           year = \"2016\",\n",
        "           address = \"Austin, Texas\",\n",
        "           publisher = \"Association for Computational Linguistics\",\n",
        "           url = \"https://www.aclweb.org/anthology/W16-5812\",\n",
        "           doi = \"10.18653/v1/W16-5812\",\n",
        "           pages = \"98--107\",\n",
        "        }\n",
        "        \"\"\"\n",
        "    ),\n",
        "    \"pos_hineng\": textwrap.dedent(\n",
        "        \"\"\"\n",
        "        @inproceedings{singh-etal-2018-twitter,\n",
        "           title = \"A Twitter Corpus for {H}indi-{E}nglish Code Mixed {POS} Tagging\",\n",
        "           author = \"Singh, Kushagra and\n",
        "                     Sen, Indira and\n",
        "                     Kumaraguru, Ponnurangam\",\n",
        "           booktitle = \"Proceedings of the Sixth International Workshop on Natural Language Processing for Social Media\",\n",
        "           month = jul,\n",
        "           year = \"2018\",\n",
        "           address = \"Melbourne, Australia\",\n",
        "           publisher = \"Association for Computational Linguistics\",\n",
        "           url = \"https://www.aclweb.org/anthology/W18-3503\",\n",
        "           doi = \"10.18653/v1/W18-3503\",\n",
        "           pages = \"12--17\"\n",
        "        }\n",
        "        \"\"\"\n",
        "    ),\n",
        "    \"ner_spaeng\": textwrap.dedent(\n",
        "        \"\"\"\n",
        "        @inproceedings{aguilar-etal-2018-named,\n",
        "           title = {{Named Entity Recognition on Code-Switched Data: Overview of the CALCS 2018 Shared Task}},\n",
        "           author = \"Aguilar, Gustavo and\n",
        "                     AlGhamdi, Fahad and\n",
        "                     Soto, Victor and\n",
        "                     Diab, Mona and\n",
        "                     Hirschberg, Julia and\n",
        "                     Solorio, Thamar\",\n",
        "           booktitle = {{Proceedings of the Third Workshop on Computational Approaches to Linguistic Code-Switching}},\n",
        "           month = jul,\n",
        "           year = \"2018\",\n",
        "           address = \"Melbourne, Australia\",\n",
        "           publisher = \"Association for Computational Linguistics\",\n",
        "           url = \"https://www.aclweb.org/anthology/W18-3219\",\n",
        "           pages = \"138--147\"\n",
        "        }\n",
        "        \"\"\"\n",
        "    ),\n",
        "    \"ner_msaea\": textwrap.dedent(\n",
        "        \"\"\"\n",
        "        @inproceedings{aguilar-etal-2018-named,\n",
        "           title = {{Named Entity Recognition on Code-Switched Data: Overview of the CALCS 2018 Shared Task}},\n",
        "           author = \"Aguilar, Gustavo and\n",
        "                     AlGhamdi, Fahad and\n",
        "                     Soto, Victor and\n",
        "                     Diab, Mona and\n",
        "                     Hirschberg, Julia and\n",
        "                     Solorio, Thamar\",\n",
        "           booktitle = {{Proceedings of the Third Workshop on Computational Approaches to Linguistic Code-Switching}},\n",
        "           month = jul,\n",
        "           year = \"2018\",\n",
        "           address = \"Melbourne, Australia\",\n",
        "           publisher = \"Association for Computational Linguistics\",\n",
        "           url = \"https://www.aclweb.org/anthology/W18-3219\",\n",
        "           pages = \"138--147\"\n",
        "        }\n",
        "        \"\"\"\n",
        "    ),\n",
        "    \"ner_hineng\": textwrap.dedent(\n",
        "        \"\"\"\n",
        "        @inproceedings{singh-etal-2018-language,\n",
        "           title = \"Language Identification and Named Entity Recognition in {H}inglish Code Mixed Tweets\",\n",
        "           author = \"Singh, Kushagra and\n",
        "                     Sen, Indira and\n",
        "                     Kumaraguru, Ponnurangam\",\n",
        "           booktitle = \"Proceedings of {ACL} 2018, Student Research Workshop\",\n",
        "           month = jul,\n",
        "           year = \"2018\",\n",
        "           address = \"Melbourne, Australia\",\n",
        "           publisher = \"Association for Computational Linguistics\",\n",
        "           url = \"https://www.aclweb.org/anthology/P18-3008\",\n",
        "           doi = \"10.18653/v1/P18-3008\",\n",
        "           pages = \"52--58\",\n",
        "        }\n",
        "        \"\"\"\n",
        "    ),\n",
        "    \"sa_spaeng\": textwrap.dedent(\n",
        "        \"\"\"\n",
        "        @inproceedings{patwa2020sentimix,\n",
        "          title={SemEval-2020 Task 9: Overview of Sentiment Analysis of Code-Mixed Tweets},\n",
        "          author=\"Patwa, Parth and\n",
        "                  Aguilar, Gustavo and\n",
        "                  Kar, Sudipta and\n",
        "                  Pandey, Suraj and\n",
        "                  PYKL, Srinivas and\n",
        "                  Garrette, Dan and\n",
        "                  Gamb{\\\"a}ck, Bj{\\\"o}rn and\n",
        "                  Chakraborty, Tanmoy and\n",
        "                  Solorio, Thamar and\n",
        "                  Das, Amitava\",\n",
        "          booktitle = \"Proceedings of the 14th International Workshop on Semantic Evaluation ({S}em{E}val-2020)\",\n",
        "          year = 2020,\n",
        "          month = sep,\n",
        "          address = \"Barcelona, Spain\",\n",
        "          publisher = \"Association for Computational Linguistics\"\n",
        "        }\n",
        "        \"\"\"\n",
        "    ),\n",
        "}\n"
      ],
      "execution_count": null,
      "outputs": []
    },
    {
      "cell_type": "markdown",
      "metadata": {
        "id": "saGNyLn_CJWO"
      },
      "source": [
        "### Classes"
      ]
    },
    {
      "cell_type": "code",
      "metadata": {
        "id": "jHprwfnmAh_K"
      },
      "source": [
        "class LinceConfig(datasets.BuilderConfig):\n",
        "    \"\"\"BuilderConfig for LinCE\"\"\"\n",
        "\n",
        "    def __init__(self, colnames, classes, label_column, **kwargs):\n",
        "        super(LinceConfig, self).__init__(\n",
        "            version=datasets.Version(\n",
        "                \"1.0.0\", description=\"The Linguistic Code-switching Evaluation (LinCE) benchmark\"\n",
        "            ),\n",
        "            **kwargs,\n",
        "        )\n",
        "        self.colnames = colnames\n",
        "        self.classes = classes\n",
        "        self.label_column = label_column"
      ],
      "execution_count": null,
      "outputs": []
    },
    {
      "cell_type": "code",
      "metadata": {
        "id": "n9ksOF2WCsrr"
      },
      "source": [
        "class Lince(datasets.GeneratorBasedBuilder):\n",
        "    \"\"\"TODO(lince): Short description of the LinCE dataset.\"\"\"\n",
        "\n",
        "    BUILDER_CONFIG_CLASS = LinceConfig\n",
        "    BUILDER_CONFIGS = [\n",
        "        # ==========================================================================================\n",
        "        # Language Identification (LID) datasets\n",
        "        LinceConfig(\n",
        "            name=\"lid_spaeng\",\n",
        "            data_dir=\"lid_spaeng\",\n",
        "            colnames={\"words\": 0, \"lid\": 1},\n",
        "            classes={\"lid\": [\"lang1\", \"lang2\", \"ne\", \"fw\", \"ambiguous\", \"mixed\", \"other\", \"unk\"]},\n",
        "            label_column=\"lid\",\n",
        "            description=\"Spanish-English language identification dataset (Latin script)\",\n",
        "        ),\n",
        "        LinceConfig(\n",
        "            name=\"lid_hineng\",\n",
        "            data_dir=\"lid_hineng\",\n",
        "            colnames={\"words\": 0, \"lid\": 1},\n",
        "            classes={\"lid\": [\"lang1\", \"lang2\", \"ne\", \"fw\", \"ambiguous\", \"mixed\", \"other\", \"unk\"]},\n",
        "            label_column=\"lid\",\n",
        "            description=\"Hindi-English language identification dataset (Latin script)\",\n",
        "        ),\n",
        "        LinceConfig(\n",
        "            name=\"lid_msaea\",\n",
        "            data_dir=\"lid_msaea\",\n",
        "            colnames={\"words\": 0, \"lid\": 1},\n",
        "            classes={\n",
        "                \"lid\": [\"ambiguous\", \"lang1\", \"lang2\", \"mixed\", \"ne\", \"other\"],\n",
        "            },\n",
        "            label_column=\"lid\",\n",
        "            description=\"Modern Standard Arabic-Egyptian Arabic language identification dataset (Persian script)\",\n",
        "        ),\n",
        "        LinceConfig(\n",
        "            name=\"lid_nepeng\",\n",
        "            data_dir=\"lid_nepeng\",\n",
        "            colnames={\"words\": 0, \"lid\": 1},\n",
        "            classes={\n",
        "                \"lid\": [\"ambiguous\", \"lang1\", \"lang2\", \"mixed\", \"ne\", \"other\"],\n",
        "            },\n",
        "            label_column=\"lid\",\n",
        "            description=\"Nepali-English language identification dataset (Latin script)\",\n",
        "        ),\n",
        "        # ==========================================================================================\n",
        "        # Part-of-Speech (POS) Tagging datasets\n",
        "        LinceConfig(\n",
        "            name=\"pos_spaeng\",\n",
        "            data_dir=\"pos_spaeng\",\n",
        "            colnames={\"words\": 0, \"lid\": 1, \"pos\": 2},\n",
        "            classes={\n",
        "                \"lid\": [\"UNK\", \"eng\", \"eng&spa\", \"spa\"],\n",
        "                \"pos\": [\n",
        "                    \"ADJ\",\n",
        "                    \"ADP\",\n",
        "                    \"ADV\",\n",
        "                    \"AUX\",\n",
        "                    \"CONJ\",\n",
        "                    \"DET\",\n",
        "                    \"INTJ\",\n",
        "                    \"NOUN\",\n",
        "                    \"NUM\",\n",
        "                    \"PART\",\n",
        "                    \"PRON\",\n",
        "                    \"PROPN\",\n",
        "                    \"PUNCT\",\n",
        "                    \"SCONJ\",\n",
        "                    \"UNK\",\n",
        "                    \"VERB\",\n",
        "                    \"X\",\n",
        "                ],\n",
        "            },\n",
        "            label_column=\"pos\",\n",
        "            description=\"Spanish-English part-of-Speech tagging dataset (Latin script)\",\n",
        "        ),\n",
        "        LinceConfig(\n",
        "            name=\"pos_hineng\",\n",
        "            data_dir=\"pos_hineng\",\n",
        "            colnames={\"words\": 0, \"lid\": 1, \"pos\": 2},\n",
        "            classes={\n",
        "                \"lid\": [\"en\", \"hi\", \"rest\"],\n",
        "                \"pos\": [\n",
        "                    \"ADJ\",\n",
        "                    \"ADP\",\n",
        "                    \"ADV\",\n",
        "                    \"CONJ\",\n",
        "                    \"DET\",\n",
        "                    \"NOUN\",\n",
        "                    \"NUM\",\n",
        "                    \"PART\",\n",
        "                    \"PART_NEG\",\n",
        "                    \"PRON\",\n",
        "                    \"PRON_WH\",\n",
        "                    \"PROPN\",\n",
        "                    \"VERB\",\n",
        "                    \"X\",\n",
        "                ],\n",
        "            },\n",
        "            label_column=\"pos\",\n",
        "            description=\"Hindi-English part-of-Speech tagging dataset (Latin script)\",\n",
        "        ),\n",
        "        # ==========================================================================================\n",
        "        # Named Entity Recongition (NER) datasets\n",
        "        LinceConfig(\n",
        "            name=\"ner_spaeng\",\n",
        "            data_dir=\"ner_spaeng\",\n",
        "            colnames={\"words\": 0, \"lid\": 1, \"ner\": 2},\n",
        "            classes={\n",
        "                \"lid\": [\"lang1\", \"lang2\", \"ne\", \"fw\", \"ambiguous\", \"mixed\", \"other\", \"unk\"],\n",
        "                \"ner\": [\n",
        "                    \"O\",\n",
        "                    \"B-PER\",\n",
        "                    \"I-PER\",\n",
        "                    \"B-LOC\",\n",
        "                    \"I-LOC\",\n",
        "                    \"B-ORG\",\n",
        "                    \"I-ORG\",\n",
        "                    \"B-PROD\",\n",
        "                    \"I-PROD\",\n",
        "                    \"B-EVENT\",\n",
        "                    \"I-EVENT\",\n",
        "                    \"B-GROUP\",\n",
        "                    \"I-GROUP\",\n",
        "                    \"B-TITLE\",\n",
        "                    \"I-TITLE\",\n",
        "                    \"B-TIME\",\n",
        "                    \"I-TIME\",\n",
        "                    \"B-OTHER\",\n",
        "                    \"I-OTHER\",\n",
        "                ],\n",
        "            },\n",
        "            label_column=\"ner\",\n",
        "            description=\"Spanish-English named entity recognition dataset (Latin script)\",\n",
        "        ),\n",
        "        LinceConfig(\n",
        "            name=\"ner_msaea\",\n",
        "            data_dir=\"ner_msaea\",\n",
        "            colnames={\"words\": 0, \"ner\": 1},\n",
        "            classes={\n",
        "                \"ner\": [\n",
        "                    \"O\",\n",
        "                    \"B-PER\",\n",
        "                    \"I-PER\",\n",
        "                    \"B-LOC\",\n",
        "                    \"I-LOC\",\n",
        "                    \"B-ORG\",\n",
        "                    \"I-ORG\",\n",
        "                    \"B-PROD\",\n",
        "                    \"I-PROD\",\n",
        "                    \"B-EVENT\",\n",
        "                    \"I-EVENT\",\n",
        "                    \"B-GROUP\",\n",
        "                    \"I-GROUP\",\n",
        "                    \"B-TITLE\",\n",
        "                    \"I-TITLE\",\n",
        "                    \"B-TIME\",\n",
        "                    \"I-TIME\",\n",
        "                    \"B-OTHER\",\n",
        "                    \"I-OTHER\",\n",
        "                ],\n",
        "            },\n",
        "            label_column=\"ner\",\n",
        "            description=\"Modern Standard Arabic-Egyptian Arabic named entity recognition dataset (Persian script)\",\n",
        "        ),\n",
        "        LinceConfig(\n",
        "            name=\"ner_hineng\",\n",
        "            data_dir=\"ner_hineng\",\n",
        "            colnames={\"words\": 0, \"lid\": 1, \"ner\": 2},\n",
        "            classes={\n",
        "                \"lid\": [\"en\", \"hi\", \"rest\"],\n",
        "                \"ner\": [\"O\", \"B-PERSON\", \"I-PERSON\", \"B-ORGANISATION\", \"I-ORGANISATION\", \"B-PLACE\", \"I-PLACE\"],\n",
        "            },\n",
        "            label_column=\"ner\",\n",
        "            description=\"Hindi-English named entity recognition dataset (Latin script)\",\n",
        "        ),\n",
        "        # ==========================================================================================\n",
        "        # Sentiment Analysis (SA) datasets\n",
        "        LinceConfig(\n",
        "            name=\"sa_spaeng\",\n",
        "            data_dir=\"sa_spaeng\",\n",
        "            colnames={\"words\": 0, \"lid\": 1, \"sa\": 2},\n",
        "            classes={\n",
        "                \"lid\": [\"lang1\", \"lang2\", \"ne\", \"fw\", \"ambiguous\", \"mixed\", \"other\", \"unk\"],\n",
        "                \"sa\": [\"positive\", \"neutral\", \"negative\"],\n",
        "            },\n",
        "            label_column=\"sa\",\n",
        "            description=\"Spanish-English sentiment analysis dataset (Latin script)\",\n",
        "        ),\n",
        "    ]\n",
        "\n",
        "    def _info(self):\n",
        "        features = {\"idx\": datasets.Value(\"int32\"), \"words\": datasets.Sequence(datasets.Value(\"string\"))}\n",
        "\n",
        "        if self.config.name != \"ner_msaea\":\n",
        "            features[\"lid\"] = datasets.Sequence(\n",
        "                datasets.Value(\"string\")\n",
        "            )  # excluding 'ner_msaea', all datasets have 'lid'\n",
        "\n",
        "        if self.config.name.startswith(\"pos_\"):\n",
        "            features[\"pos\"] = datasets.Sequence(datasets.Value(\"string\"))\n",
        "\n",
        "        elif self.config.name.startswith(\"ner_\"):\n",
        "            features[\"ner\"] = datasets.Sequence(datasets.Value(\"string\"))\n",
        "\n",
        "        elif self.config.name.startswith(\"sa_\"):\n",
        "            features[\"sa\"] = datasets.Value(\"string\")\n",
        "\n",
        "        return datasets.DatasetInfo(\n",
        "            description=_DESCRIPTION,\n",
        "            features=datasets.Features(features),\n",
        "            supervised_keys=None,\n",
        "            homepage=\"http://ritual.uh.edu/lince\",\n",
        "            citation=_DATASET_CITATIONS.get(self.config.name, \"\") + \"\\n\" + _CITATION,\n",
        "        )\n",
        "\n",
        "    def _split_generators(self, dl_manager):\n",
        "        \"\"\"Returns SplitGenerators.\"\"\"\n",
        "        lince_dir = dl_manager.download_and_extract(f\"{_LINCE_URL}/{self.config.name}.zip\")\n",
        "        data_dir = os.path.join(lince_dir, self.config.data_dir)\n",
        "        return [\n",
        "            datasets.SplitGenerator(\n",
        "                name=datasets.Split.TRAIN,\n",
        "                gen_kwargs={\n",
        "                    \"filepath\": os.path.join(data_dir, \"train.conll\"),\n",
        "                    \"colnames\": self.config.colnames,\n",
        "                },\n",
        "            ),\n",
        "            datasets.SplitGenerator(\n",
        "                name=datasets.Split.VALIDATION,\n",
        "                gen_kwargs={\n",
        "                    \"filepath\": os.path.join(data_dir, \"dev.conll\"),\n",
        "                    \"colnames\": self.config.colnames,\n",
        "                },\n",
        "            ),\n",
        "            datasets.SplitGenerator(\n",
        "                name=datasets.Split.TEST,\n",
        "                gen_kwargs={\n",
        "                    \"filepath\": os.path.join(data_dir, \"test.conll\"),\n",
        "                    \"colnames\": {\n",
        "                        key: self.config.colnames[key]\n",
        "                        for key in self.config.colnames.keys()\n",
        "                        if key != self.config.label_column\n",
        "                    },\n",
        "                },\n",
        "            ),\n",
        "        ]\n",
        "\n",
        "    def _generate_examples(self, filepath, colnames, delimiter=\"\\t\", metaregex=r\"^# sent_enum = [0-9]+$\"):\n",
        "        def is_empty_line(token_pack):\n",
        "            return all(field.strip() == \"\" for field in token_pack)\n",
        "\n",
        "        index = 0\n",
        "        for is_empty, pack in groupby(\n",
        "            csv.reader(open(filepath), delimiter=delimiter, quoting=csv.QUOTE_NONE), is_empty_line\n",
        "        ):\n",
        "            if is_empty is False:\n",
        "                # packed sentence -> [['tok_1', 'lid_1', 'ner_1'], ..., ['tok_n', 'lid_n', 'ner_n']]\n",
        "                pack = list(pack)\n",
        "                meta = []\n",
        "\n",
        "                if re.match(metaregex, pack[0][0]):  # for sentence-level annotations (or meta)\n",
        "                    meta = pack[0][1:]  # keep the sentence-level labels\n",
        "                    pack = pack[1:]  # ignore meta fields to unzip\n",
        "\n",
        "                unpacked = list(zip(*pack))\n",
        "                if meta:\n",
        "                    unpacked = unpacked + meta\n",
        "\n",
        "                row = {feature: unpacked[colnames[feature]] for feature in colnames}\n",
        "                row[\"idx\"] = index\n",
        "                index += 1\n",
        "\n",
        "                # dummy labels for the test set\n",
        "                if self.config.label_column not in row:\n",
        "                    if self.config.label_column == \"sa\":\n",
        "                        row[self.config.label_column] = \"\"\n",
        "                    else:\n",
        "                        row[self.config.label_column] = [\"\"] * len(row[\"words\"])\n",
        "\n",
        "                yield index, row"
      ],
      "execution_count": null,
      "outputs": []
    },
    {
      "cell_type": "code",
      "metadata": {
        "id": "PInXh1deC6LE"
      },
      "source": [
        ""
      ],
      "execution_count": null,
      "outputs": []
    },
    {
      "cell_type": "markdown",
      "source": [
        "# Rough"
      ],
      "metadata": {
        "id": "KANYDc0h74u5"
      }
    },
    {
      "cell_type": "code",
      "source": [
        "from google.colab import drive\n",
        "drive.mount('/content/drive')"
      ],
      "metadata": {
        "id": "vjoU06dm76Vu"
      },
      "execution_count": null,
      "outputs": []
    },
    {
      "cell_type": "code",
      "source": [
        "import pandas as pd\n",
        "path_to_dataset='/content/drive/MyDrive/Acads/4-1/BTP/NER-Dataset/ner_dataset.csv'\n",
        "data = pd.read_csv(path_to_dataset, encoding= 'unicode_escape')\n",
        "data.head()"
      ],
      "metadata": {
        "id": "R1ugr2L-9W9y"
      },
      "execution_count": null,
      "outputs": []
    },
    {
      "cell_type": "code",
      "source": [
        "from itertools import chain\n",
        "def get_dict_map(data, token_or_tag):\n",
        "    tok2idx = {}\n",
        "    idx2tok = {}\n",
        "    \n",
        "    if token_or_tag == 'token':\n",
        "        vocab = list(set(data['Word'].to_list()))\n",
        "    else:\n",
        "        vocab = list(set(data['Tag'].to_list()))\n",
        "    \n",
        "    idx2tok = {idx:tok for  idx, tok in enumerate(vocab)}\n",
        "    tok2idx = {tok:idx for  idx, tok in enumerate(vocab)}\n",
        "    return tok2idx, idx2tok\n",
        "\n",
        "\n",
        "token2idx, idx2token = get_dict_map(data, 'token')\n",
        "tag2idx, idx2tag = get_dict_map(data, 'tag')"
      ],
      "metadata": {
        "id": "hA4rgmuc99XP"
      },
      "execution_count": null,
      "outputs": []
    },
    {
      "cell_type": "code",
      "source": [
        "data['Word_idx'] = data['Word'].map(token2idx)\n",
        "data['Tag_idx'] = data['Tag'].map(tag2idx)\n",
        "data.head()"
      ],
      "metadata": {
        "id": "ftD5mZlC-Gji"
      },
      "execution_count": null,
      "outputs": []
    },
    {
      "cell_type": "code",
      "source": [
        "# Fill na\n",
        "data_fillna = data.fillna(method='ffill', axis=0)\n",
        "# Groupby and collect columns\n",
        "data_group = data_fillna.groupby(\n",
        "['Sentence #'],as_index=False\n",
        ")['Word', 'POS', 'Tag', 'Word_idx', 'Tag_idx'].agg(lambda x: list(x))\n",
        "# Visualise data\n",
        "data_group.head()"
      ],
      "metadata": {
        "id": "1tvHLJek-KPx"
      },
      "execution_count": null,
      "outputs": []
    },
    {
      "cell_type": "code",
      "source": [
        "from sklearn.model_selection import train_test_split\n",
        "from keras.preprocessing.sequence import pad_sequences\n",
        "# from keras.utils import to_categorical\n",
        "from tensorflow.keras.utils import to_categorical"
      ],
      "metadata": {
        "id": "OJRERtmp-S5A"
      },
      "execution_count": null,
      "outputs": []
    },
    {
      "cell_type": "code",
      "source": [
        "def get_pad_train_test_val(data_group, data):\n",
        "\n",
        "    #get max token and tag length\n",
        "    n_token = len(list(set(data['Word'].to_list())))\n",
        "    n_tag = len(list(set(data['Tag'].to_list())))\n",
        "\n",
        "    #Pad tokens (X var)    \n",
        "    tokens = data_group['Word_idx'].tolist()\n",
        "    maxlen = max([len(s) for s in tokens])\n",
        "    pad_tokens = pad_sequences(tokens, maxlen=maxlen, dtype='int32', padding='post', value= n_token - 1)\n",
        "\n",
        "    #Pad Tags (y var) and convert it into one hot encoding\n",
        "    tags = data_group['Tag_idx'].tolist()\n",
        "    pad_tags = pad_sequences(tags, maxlen=maxlen, dtype='int32', padding='post', value= tag2idx[\"O\"])\n",
        "    n_tags = len(tag2idx)\n",
        "    pad_tags = [to_categorical(i, num_classes=n_tags) for i in pad_tags]\n",
        "    \n",
        "    #Split train, test and validation set\n",
        "    tokens_, test_tokens, tags_, test_tags = train_test_split(pad_tokens, pad_tags, test_size=0.1, train_size=0.9, random_state=2020)\n",
        "    train_tokens, val_tokens, train_tags, val_tags = train_test_split(tokens_,tags_,test_size = 0.25,train_size =0.75, random_state=2020)\n",
        "\n",
        "    print(\n",
        "        'train_tokens length:', len(train_tokens),\n",
        "        '\\ntrain_tokens length:', len(train_tokens),\n",
        "        '\\ntest_tokens length:', len(test_tokens),\n",
        "        '\\ntest_tags:', len(test_tags),\n",
        "        '\\nval_tokens:', len(val_tokens),\n",
        "        '\\nval_tags:', len(val_tags),\n",
        "    )\n",
        "    \n",
        "    return train_tokens, val_tokens, test_tokens, train_tags, val_tags, test_tags\n",
        "\n",
        "train_tokens, val_tokens, test_tokens, train_tags, val_tags, test_tags = get_pad_train_test_val(data_group, data)"
      ],
      "metadata": {
        "id": "Y_zNu89p-5v6"
      },
      "execution_count": null,
      "outputs": []
    },
    {
      "cell_type": "code",
      "source": [
        "Counter(data['Tag'].to_list())"
      ],
      "metadata": {
        "id": "IB_LaK0hDkKJ"
      },
      "execution_count": null,
      "outputs": []
    },
    {
      "cell_type": "code",
      "source": [
        "import numpy as np\n",
        "import tensorflow\n",
        "from tensorflow.keras import Sequential, Model, Input\n",
        "from tensorflow.keras.layers import LSTM, Embedding, Dense, TimeDistributed, Dropout, Bidirectional\n",
        "from tensorflow.keras.utils import plot_model"
      ],
      "metadata": {
        "id": "HG9uGfey_UtC"
      },
      "execution_count": null,
      "outputs": []
    },
    {
      "cell_type": "code",
      "source": [
        "from numpy.random import seed\n",
        "seed(1)\n",
        "tensorflow.random.set_seed(2)"
      ],
      "metadata": {
        "id": "U8GZgIOg_6KN"
      },
      "execution_count": null,
      "outputs": []
    },
    {
      "cell_type": "code",
      "source": [
        "input_dim = len(list(set(data['Word'].to_list())))+1\n",
        "output_dim = 64\n",
        "input_length = max([len(s) for s in data_group['Word_idx'].tolist()])\n",
        "n_tags = len(tag2idx)\n",
        "print('input_dim: ', input_dim, '\\noutput_dim: ', output_dim, '\\ninput_length: ', input_length, '\\nn_tags: ', n_tags)"
      ],
      "metadata": {
        "id": "a697FUXs_-fx"
      },
      "execution_count": null,
      "outputs": []
    },
    {
      "cell_type": "code",
      "source": [
        "def get_bilstm_lstm_model():\n",
        "    model = Sequential()\n",
        "\n",
        "    # Add Embedding layer\n",
        "    model.add(Embedding(input_dim=input_dim, output_dim=output_dim, input_length=input_length))\n",
        "\n",
        "    # Add bidirectional LSTM\n",
        "    model.add(Bidirectional(LSTM(units=output_dim, return_sequences=True, dropout=0.2, recurrent_dropout=0.2), merge_mode = 'concat'))\n",
        "\n",
        "    # Add LSTM\n",
        "    model.add(LSTM(units=output_dim, return_sequences=True, dropout=0.5, recurrent_dropout=0.5))\n",
        "\n",
        "    # Add timeDistributed Layer\n",
        "    model.add(TimeDistributed(Dense(n_tags, activation=\"relu\")))\n",
        "\n",
        "    #Optimiser \n",
        "    # adam = k.optimizers.Adam(lr=0.0005, beta_1=0.9, beta_2=0.999)\n",
        "\n",
        "    # Compile model\n",
        "    model.compile(loss='categorical_crossentropy', optimizer='adam', metrics=['accuracy'])\n",
        "    model.summary()\n",
        "    \n",
        "    return model"
      ],
      "metadata": {
        "id": "jvPFKiQ6ADyG"
      },
      "execution_count": null,
      "outputs": []
    },
    {
      "cell_type": "code",
      "source": [
        "def train_model(X, y, model):\n",
        "    loss = list()\n",
        "    for i in range(25):\n",
        "        # fit model for one epoch on this sequence\n",
        "        hist = model.fit(X, y, batch_size=1000, verbose=1, epochs=1, validation_split=0.2)\n",
        "        loss.append(hist.history['loss'][0])\n",
        "    return loss"
      ],
      "metadata": {
        "id": "d8jFaQDkAJYm"
      },
      "execution_count": null,
      "outputs": []
    },
    {
      "cell_type": "code",
      "source": [
        "results = pd.DataFrame()\n",
        "model_bilstm_lstm = get_bilstm_lstm_model()\n",
        "plot_model(model_bilstm_lstm)\n",
        "results['with_add_lstm'] = train_model(train_tokens, np.array(train_tags), model_bilstm_lstm)"
      ],
      "metadata": {
        "id": "6l4s1oGTANEp"
      },
      "execution_count": null,
      "outputs": []
    },
    {
      "cell_type": "code",
      "source": [
        ""
      ],
      "metadata": {
        "id": "A98jkNspAQyN"
      },
      "execution_count": null,
      "outputs": []
    }
  ]
}