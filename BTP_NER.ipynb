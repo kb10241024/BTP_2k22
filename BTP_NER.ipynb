{
  "nbformat": 4,
  "nbformat_minor": 0,
  "metadata": {
    "colab": {
      "name": "BTP-NER.ipynb",
      "provenance": [],
      "collapsed_sections": [
        "GgZv10IAzvBE",
        "xN0qYtQtAG_h",
        "3mQo6bEbBmtv",
        "KANYDc0h74u5"
      ],
      "include_colab_link": true
    },
    "kernelspec": {
      "name": "python3",
      "display_name": "Python 3"
    },
    "language_info": {
      "name": "python"
    },
    "accelerator": "GPU"
  },
  "cells": [
    {
      "cell_type": "markdown",
      "metadata": {
        "id": "view-in-github",
        "colab_type": "text"
      },
      "source": [
        "<a href=\"https://colab.research.google.com/github/kb10241024/BTP_2k22/blob/main/BTP_NER.ipynb\" target=\"_parent\"><img src=\"https://colab.research.google.com/assets/colab-badge.svg\" alt=\"Open In Colab\"/></a>"
      ]
    },
    {
      "cell_type": "code",
      "metadata": {
        "id": "ZnrDJSU1g2j9",
        "colab": {
          "base_uri": "https://localhost:8080/"
        },
        "outputId": "6faadf45-850c-4378-e59c-d4f22ba20d91"
      },
      "source": [
        "!pip install conllu"
      ],
      "execution_count": null,
      "outputs": [
        {
          "output_type": "stream",
          "name": "stdout",
          "text": [
            "Collecting conllu\n",
            "  Downloading conllu-4.4.1-py2.py3-none-any.whl (15 kB)\n",
            "Installing collected packages: conllu\n",
            "Successfully installed conllu-4.4.1\n"
          ]
        }
      ]
    },
    {
      "cell_type": "code",
      "source": [
        "!pip install indic-transliteration"
      ],
      "metadata": {
        "id": "IcxIn3sO14Yq",
        "colab": {
          "base_uri": "https://localhost:8080/"
        },
        "outputId": "c73fd68d-e9f2-4c6c-adfa-b0c8a0ecb345"
      },
      "execution_count": null,
      "outputs": [
        {
          "output_type": "stream",
          "name": "stdout",
          "text": [
            "Collecting indic-transliteration\n",
            "  Downloading indic_transliteration-2.3.25-py3-none-any.whl (132 kB)\n",
            "\u001b[?25l\r\u001b[K     |██▌                             | 10 kB 20.4 MB/s eta 0:00:01\r\u001b[K     |█████                           | 20 kB 18.1 MB/s eta 0:00:01\r\u001b[K     |███████▍                        | 30 kB 10.5 MB/s eta 0:00:01\r\u001b[K     |██████████                      | 40 kB 8.7 MB/s eta 0:00:01\r\u001b[K     |████████████▍                   | 51 kB 4.6 MB/s eta 0:00:01\r\u001b[K     |██████████████▉                 | 61 kB 5.4 MB/s eta 0:00:01\r\u001b[K     |█████████████████▎              | 71 kB 5.5 MB/s eta 0:00:01\r\u001b[K     |███████████████████▉            | 81 kB 6.0 MB/s eta 0:00:01\r\u001b[K     |██████████████████████▎         | 92 kB 6.6 MB/s eta 0:00:01\r\u001b[K     |████████████████████████▊       | 102 kB 5.3 MB/s eta 0:00:01\r\u001b[K     |███████████████████████████▎    | 112 kB 5.3 MB/s eta 0:00:01\r\u001b[K     |█████████████████████████████▊  | 122 kB 5.3 MB/s eta 0:00:01\r\u001b[K     |████████████████████████████████| 132 kB 5.3 MB/s \n",
            "\u001b[?25hCollecting typer\n",
            "  Downloading typer-0.4.0-py3-none-any.whl (27 kB)\n",
            "Collecting selenium\n",
            "  Downloading selenium-4.1.3-py3-none-any.whl (968 kB)\n",
            "\u001b[K     |████████████████████████████████| 968 kB 37.5 MB/s \n",
            "\u001b[?25hCollecting backports.functools-lru-cache\n",
            "  Downloading backports.functools_lru_cache-1.6.4-py2.py3-none-any.whl (5.9 kB)\n",
            "Requirement already satisfied: regex in /usr/local/lib/python3.7/dist-packages (from indic-transliteration) (2019.12.20)\n",
            "Collecting toml\n",
            "  Downloading toml-0.10.2-py2.py3-none-any.whl (16 kB)\n",
            "Collecting roman\n",
            "  Downloading roman-3.3-py2.py3-none-any.whl (3.9 kB)\n",
            "Collecting trio~=0.17\n",
            "  Downloading trio-0.20.0-py3-none-any.whl (359 kB)\n",
            "\u001b[K     |████████████████████████████████| 359 kB 40.0 MB/s \n",
            "\u001b[?25hCollecting urllib3[secure,socks]~=1.26\n",
            "  Downloading urllib3-1.26.8-py2.py3-none-any.whl (138 kB)\n",
            "\u001b[K     |████████████████████████████████| 138 kB 44.3 MB/s \n",
            "\u001b[?25hCollecting trio-websocket~=0.9\n",
            "  Downloading trio_websocket-0.9.2-py3-none-any.whl (16 kB)\n",
            "Requirement already satisfied: attrs>=19.2.0 in /usr/local/lib/python3.7/dist-packages (from trio~=0.17->selenium->indic-transliteration) (21.4.0)\n",
            "Collecting outcome\n",
            "  Downloading outcome-1.1.0-py2.py3-none-any.whl (9.7 kB)\n",
            "Collecting async-generator>=1.9\n",
            "  Downloading async_generator-1.10-py3-none-any.whl (18 kB)\n",
            "Collecting sniffio\n",
            "  Downloading sniffio-1.2.0-py3-none-any.whl (10 kB)\n",
            "Requirement already satisfied: sortedcontainers in /usr/local/lib/python3.7/dist-packages (from trio~=0.17->selenium->indic-transliteration) (2.4.0)\n",
            "Requirement already satisfied: idna in /usr/local/lib/python3.7/dist-packages (from trio~=0.17->selenium->indic-transliteration) (2.10)\n",
            "Collecting wsproto>=0.14\n",
            "  Downloading wsproto-1.1.0-py3-none-any.whl (24 kB)\n",
            "Requirement already satisfied: PySocks!=1.5.7,<2.0,>=1.5.6 in /usr/local/lib/python3.7/dist-packages (from urllib3[secure,socks]~=1.26->selenium->indic-transliteration) (1.7.1)\n",
            "Collecting pyOpenSSL>=0.14\n",
            "  Downloading pyOpenSSL-22.0.0-py2.py3-none-any.whl (55 kB)\n",
            "\u001b[K     |████████████████████████████████| 55 kB 4.3 MB/s \n",
            "\u001b[?25hRequirement already satisfied: certifi in /usr/local/lib/python3.7/dist-packages (from urllib3[secure,socks]~=1.26->selenium->indic-transliteration) (2021.10.8)\n",
            "Collecting cryptography>=1.3.4\n",
            "  Downloading cryptography-36.0.1-cp36-abi3-manylinux_2_24_x86_64.whl (3.6 MB)\n",
            "\u001b[K     |████████████████████████████████| 3.6 MB 22.6 MB/s \n",
            "\u001b[?25hRequirement already satisfied: cffi>=1.12 in /usr/local/lib/python3.7/dist-packages (from cryptography>=1.3.4->urllib3[secure,socks]~=1.26->selenium->indic-transliteration) (1.15.0)\n",
            "Requirement already satisfied: pycparser in /usr/local/lib/python3.7/dist-packages (from cffi>=1.12->cryptography>=1.3.4->urllib3[secure,socks]~=1.26->selenium->indic-transliteration) (2.21)\n",
            "Collecting h11<1,>=0.9.0\n",
            "  Downloading h11-0.13.0-py3-none-any.whl (58 kB)\n",
            "\u001b[K     |████████████████████████████████| 58 kB 6.0 MB/s \n",
            "\u001b[?25hRequirement already satisfied: typing-extensions in /usr/local/lib/python3.7/dist-packages (from h11<1,>=0.9.0->wsproto>=0.14->trio-websocket~=0.9->selenium->indic-transliteration) (3.10.0.2)\n",
            "Requirement already satisfied: click<9.0.0,>=7.1.1 in /usr/local/lib/python3.7/dist-packages (from typer->indic-transliteration) (7.1.2)\n",
            "Installing collected packages: sniffio, outcome, h11, cryptography, async-generator, wsproto, urllib3, trio, pyOpenSSL, trio-websocket, typer, toml, selenium, roman, backports.functools-lru-cache, indic-transliteration\n",
            "  Attempting uninstall: urllib3\n",
            "    Found existing installation: urllib3 1.24.3\n",
            "    Uninstalling urllib3-1.24.3:\n",
            "      Successfully uninstalled urllib3-1.24.3\n",
            "\u001b[31mERROR: pip's dependency resolver does not currently take into account all the packages that are installed. This behaviour is the source of the following dependency conflicts.\n",
            "requests 2.23.0 requires urllib3!=1.25.0,!=1.25.1,<1.26,>=1.21.1, but you have urllib3 1.26.8 which is incompatible.\n",
            "datascience 0.10.6 requires folium==0.2.1, but you have folium 0.8.3 which is incompatible.\u001b[0m\n",
            "Successfully installed async-generator-1.10 backports.functools-lru-cache-1.6.4 cryptography-36.0.1 h11-0.13.0 indic-transliteration-2.3.25 outcome-1.1.0 pyOpenSSL-22.0.0 roman-3.3 selenium-4.1.3 sniffio-1.2.0 toml-0.10.2 trio-0.20.0 trio-websocket-0.9.2 typer-0.4.0 urllib3-1.26.8 wsproto-1.1.0\n"
          ]
        }
      ]
    },
    {
      "cell_type": "code",
      "source": [
        "!pip install transformers"
      ],
      "metadata": {
        "id": "z2S7Ieif1xvC",
        "colab": {
          "base_uri": "https://localhost:8080/"
        },
        "outputId": "551a0084-ee69-4c98-8288-b8f30e82e7ac"
      },
      "execution_count": null,
      "outputs": [
        {
          "output_type": "stream",
          "name": "stdout",
          "text": [
            "Collecting transformers\n",
            "  Downloading transformers-4.17.0-py3-none-any.whl (3.8 MB)\n",
            "\u001b[K     |████████████████████████████████| 3.8 MB 5.3 MB/s \n",
            "\u001b[?25hRequirement already satisfied: numpy>=1.17 in /usr/local/lib/python3.7/dist-packages (from transformers) (1.21.5)\n",
            "Requirement already satisfied: packaging>=20.0 in /usr/local/lib/python3.7/dist-packages (from transformers) (21.3)\n",
            "Requirement already satisfied: regex!=2019.12.17 in /usr/local/lib/python3.7/dist-packages (from transformers) (2019.12.20)\n",
            "Requirement already satisfied: tqdm>=4.27 in /usr/local/lib/python3.7/dist-packages (from transformers) (4.63.0)\n",
            "Collecting huggingface-hub<1.0,>=0.1.0\n",
            "  Downloading huggingface_hub-0.4.0-py3-none-any.whl (67 kB)\n",
            "\u001b[K     |████████████████████████████████| 67 kB 5.6 MB/s \n",
            "\u001b[?25hRequirement already satisfied: requests in /usr/local/lib/python3.7/dist-packages (from transformers) (2.23.0)\n",
            "Requirement already satisfied: importlib-metadata in /usr/local/lib/python3.7/dist-packages (from transformers) (4.11.2)\n",
            "Requirement already satisfied: filelock in /usr/local/lib/python3.7/dist-packages (from transformers) (3.6.0)\n",
            "Collecting tokenizers!=0.11.3,>=0.11.1\n",
            "  Downloading tokenizers-0.11.6-cp37-cp37m-manylinux_2_12_x86_64.manylinux2010_x86_64.whl (6.5 MB)\n",
            "\u001b[K     |████████████████████████████████| 6.5 MB 36.0 MB/s \n",
            "\u001b[?25hCollecting sacremoses\n",
            "  Downloading sacremoses-0.0.47-py2.py3-none-any.whl (895 kB)\n",
            "\u001b[K     |████████████████████████████████| 895 kB 40.3 MB/s \n",
            "\u001b[?25hCollecting pyyaml>=5.1\n",
            "  Downloading PyYAML-6.0-cp37-cp37m-manylinux_2_5_x86_64.manylinux1_x86_64.manylinux_2_12_x86_64.manylinux2010_x86_64.whl (596 kB)\n",
            "\u001b[K     |████████████████████████████████| 596 kB 32.6 MB/s \n",
            "\u001b[?25hRequirement already satisfied: typing-extensions>=3.7.4.3 in /usr/local/lib/python3.7/dist-packages (from huggingface-hub<1.0,>=0.1.0->transformers) (3.10.0.2)\n",
            "Requirement already satisfied: pyparsing!=3.0.5,>=2.0.2 in /usr/local/lib/python3.7/dist-packages (from packaging>=20.0->transformers) (3.0.7)\n",
            "Requirement already satisfied: zipp>=0.5 in /usr/local/lib/python3.7/dist-packages (from importlib-metadata->transformers) (3.7.0)\n",
            "Collecting urllib3!=1.25.0,!=1.25.1,<1.26,>=1.21.1\n",
            "  Downloading urllib3-1.25.11-py2.py3-none-any.whl (127 kB)\n",
            "\u001b[K     |████████████████████████████████| 127 kB 35.1 MB/s \n",
            "\u001b[?25hRequirement already satisfied: certifi>=2017.4.17 in /usr/local/lib/python3.7/dist-packages (from requests->transformers) (2021.10.8)\n",
            "Requirement already satisfied: idna<3,>=2.5 in /usr/local/lib/python3.7/dist-packages (from requests->transformers) (2.10)\n",
            "Requirement already satisfied: chardet<4,>=3.0.2 in /usr/local/lib/python3.7/dist-packages (from requests->transformers) (3.0.4)\n",
            "Requirement already satisfied: click in /usr/local/lib/python3.7/dist-packages (from sacremoses->transformers) (7.1.2)\n",
            "Requirement already satisfied: six in /usr/local/lib/python3.7/dist-packages (from sacremoses->transformers) (1.15.0)\n",
            "Requirement already satisfied: joblib in /usr/local/lib/python3.7/dist-packages (from sacremoses->transformers) (1.1.0)\n",
            "Installing collected packages: urllib3, pyyaml, tokenizers, sacremoses, huggingface-hub, transformers\n",
            "  Attempting uninstall: urllib3\n",
            "    Found existing installation: urllib3 1.26.8\n",
            "    Uninstalling urllib3-1.26.8:\n",
            "      Successfully uninstalled urllib3-1.26.8\n",
            "  Attempting uninstall: pyyaml\n",
            "    Found existing installation: PyYAML 3.13\n",
            "    Uninstalling PyYAML-3.13:\n",
            "      Successfully uninstalled PyYAML-3.13\n",
            "\u001b[31mERROR: pip's dependency resolver does not currently take into account all the packages that are installed. This behaviour is the source of the following dependency conflicts.\n",
            "selenium 4.1.3 requires urllib3[secure,socks]~=1.26, but you have urllib3 1.25.11 which is incompatible.\n",
            "datascience 0.10.6 requires folium==0.2.1, but you have folium 0.8.3 which is incompatible.\u001b[0m\n",
            "Successfully installed huggingface-hub-0.4.0 pyyaml-6.0 sacremoses-0.0.47 tokenizers-0.11.6 transformers-4.17.0 urllib3-1.25.11\n"
          ]
        }
      ]
    },
    {
      "cell_type": "markdown",
      "metadata": {
        "id": "CcZyyl3aIFPp"
      },
      "source": [
        "## Attatching Drive"
      ]
    },
    {
      "cell_type": "code",
      "metadata": {
        "id": "VpYzhR6uIinA",
        "colab": {
          "base_uri": "https://localhost:8080/"
        },
        "outputId": "c64928d6-9152-497e-f92f-296021152dfe"
      },
      "source": [
        "from google.colab import drive\n",
        "drive.mount('/content/drive')"
      ],
      "execution_count": null,
      "outputs": [
        {
          "output_type": "stream",
          "name": "stdout",
          "text": [
            "Drive already mounted at /content/drive; to attempt to forcibly remount, call drive.mount(\"/content/drive\", force_remount=True).\n"
          ]
        }
      ]
    },
    {
      "cell_type": "code",
      "metadata": {
        "id": "a7XyENK0IEuK"
      },
      "source": [
        "path_to_dataset='/content/drive/MyDrive/Acads/4-1/BTP/DATASET'\n",
        "path_to_ner_hineng='/content/drive/MyDrive/Acads/4-1/BTP/DATASET/ner_hineng'"
      ],
      "execution_count": null,
      "outputs": []
    },
    {
      "cell_type": "markdown",
      "metadata": {
        "id": "YZY-880jVUbQ"
      },
      "source": [
        "## Dataset Preparation"
      ]
    },
    {
      "cell_type": "code",
      "metadata": {
        "id": "4kSY5tjfU5Zu"
      },
      "source": [
        "from collections import Counter\n",
        "import conllu\n",
        "import pandas as pd\n",
        "import numpy as np\n",
        "from tqdm import tqdm, trange\n",
        "import unicodedata\n",
        " \n",
        "from keras.preprocessing.sequence import pad_sequences\n",
        "from tensorflow.keras.utils import to_categorical\n",
        "from keras.models import Model, Input\n",
        "from keras.layers import LSTM, Embedding, Dense\n",
        "from keras.layers import TimeDistributed, Dropout, Bidirectional"
      ],
      "execution_count": null,
      "outputs": []
    },
    {
      "cell_type": "code",
      "metadata": {
        "id": "bpPWVd2td5wj"
      },
      "source": [
        "# !pip install pyconll\n",
        "# import pyconll\n",
        "# train = pyconll.load.iter_from_file('/content/test.conll')\n",
        "# # print(train)\n",
        "# for sentence in train:\n",
        "#   print(sentence.id)\n",
        "#   for token in sentence:\n",
        "#     print(token)\n",
        "# #   print(sentence)"
      ],
      "execution_count": null,
      "outputs": []
    },
    {
      "cell_type": "code",
      "metadata": {
        "id": "3goC7slM6VYH"
      },
      "source": [
        "data=open('/content/drive/MyDrive/Acads/4-1/BTP/DATASET/ner_hineng/train.conll',mode='r',encoding='utf-8')\n",
        "annotations=data.read()\n",
        "# print(type(annotations))\n",
        "# print(annotations[:100])"
      ],
      "execution_count": null,
      "outputs": []
    },
    {
      "cell_type": "code",
      "source": [
        "df=pd.read_csv('https://raw.githubusercontent.com/SilentFlame/Named-Entity-Recognition/master/Twitterdata/annotatedData.csv')\n",
        "print(df.shape)\n",
        "df.head(20)"
      ],
      "metadata": {
        "colab": {
          "base_uri": "https://localhost:8080/",
          "height": 694
        },
        "id": "4NS8BjxOX2X8",
        "outputId": "ed972800-ae6c-421d-a7e4-24f7eb7ca212"
      },
      "execution_count": null,
      "outputs": [
        {
          "output_type": "stream",
          "name": "stdout",
          "text": [
            "(72143, 3)\n"
          ]
        },
        {
          "output_type": "execute_result",
          "data": {
            "text/html": [
              "\n",
              "  <div id=\"df-0ff5862c-72e7-42ef-b5ac-0419527642b3\">\n",
              "    <div class=\"colab-df-container\">\n",
              "      <div>\n",
              "<style scoped>\n",
              "    .dataframe tbody tr th:only-of-type {\n",
              "        vertical-align: middle;\n",
              "    }\n",
              "\n",
              "    .dataframe tbody tr th {\n",
              "        vertical-align: top;\n",
              "    }\n",
              "\n",
              "    .dataframe thead th {\n",
              "        text-align: right;\n",
              "    }\n",
              "</style>\n",
              "<table border=\"1\" class=\"dataframe\">\n",
              "  <thead>\n",
              "    <tr style=\"text-align: right;\">\n",
              "      <th></th>\n",
              "      <th>Sent</th>\n",
              "      <th>Word</th>\n",
              "      <th>Tag</th>\n",
              "    </tr>\n",
              "  </thead>\n",
              "  <tbody>\n",
              "    <tr>\n",
              "      <th>0</th>\n",
              "      <td>sent: 0</td>\n",
              "      <td>Bahubali</td>\n",
              "      <td>B-Per</td>\n",
              "    </tr>\n",
              "    <tr>\n",
              "      <th>1</th>\n",
              "      <td>sent: 0</td>\n",
              "      <td>2</td>\n",
              "      <td>Other</td>\n",
              "    </tr>\n",
              "    <tr>\n",
              "      <th>2</th>\n",
              "      <td>sent: 0</td>\n",
              "      <td>ke</td>\n",
              "      <td>Other</td>\n",
              "    </tr>\n",
              "    <tr>\n",
              "      <th>3</th>\n",
              "      <td>sent: 0</td>\n",
              "      <td>liye</td>\n",
              "      <td>Other</td>\n",
              "    </tr>\n",
              "    <tr>\n",
              "      <th>4</th>\n",
              "      <td>sent: 0</td>\n",
              "      <td>line</td>\n",
              "      <td>Other</td>\n",
              "    </tr>\n",
              "    <tr>\n",
              "      <th>5</th>\n",
              "      <td>sent: 0</td>\n",
              "      <td>lag</td>\n",
              "      <td>Other</td>\n",
              "    </tr>\n",
              "    <tr>\n",
              "      <th>6</th>\n",
              "      <td>sent: 0</td>\n",
              "      <td>sakte</td>\n",
              "      <td>Other</td>\n",
              "    </tr>\n",
              "    <tr>\n",
              "      <th>7</th>\n",
              "      <td>sent: 0</td>\n",
              "      <td>hai</td>\n",
              "      <td>Other</td>\n",
              "    </tr>\n",
              "    <tr>\n",
              "      <th>8</th>\n",
              "      <td>sent: 0</td>\n",
              "      <td>desh</td>\n",
              "      <td>B-Org</td>\n",
              "    </tr>\n",
              "    <tr>\n",
              "      <th>9</th>\n",
              "      <td>sent: 0</td>\n",
              "      <td>ke</td>\n",
              "      <td>Other</td>\n",
              "    </tr>\n",
              "    <tr>\n",
              "      <th>10</th>\n",
              "      <td>sent: 0</td>\n",
              "      <td>liye</td>\n",
              "      <td>Other</td>\n",
              "    </tr>\n",
              "    <tr>\n",
              "      <th>11</th>\n",
              "      <td>sent: 0</td>\n",
              "      <td>kyun</td>\n",
              "      <td>Other</td>\n",
              "    </tr>\n",
              "    <tr>\n",
              "      <th>12</th>\n",
              "      <td>sent: 0</td>\n",
              "      <td>lage</td>\n",
              "      <td>Other</td>\n",
              "    </tr>\n",
              "    <tr>\n",
              "      <th>13</th>\n",
              "      <td>sent: 0</td>\n",
              "      <td>line</td>\n",
              "      <td>Other</td>\n",
              "    </tr>\n",
              "    <tr>\n",
              "      <th>14</th>\n",
              "      <td>sent: 0</td>\n",
              "      <td>me</td>\n",
              "      <td>Other</td>\n",
              "    </tr>\n",
              "    <tr>\n",
              "      <th>15</th>\n",
              "      <td>sent: 0</td>\n",
              "      <td>...</td>\n",
              "      <td>Other</td>\n",
              "    </tr>\n",
              "    <tr>\n",
              "      <th>16</th>\n",
              "      <td>sent: 0</td>\n",
              "      <td>#notebandi</td>\n",
              "      <td>Other</td>\n",
              "    </tr>\n",
              "    <tr>\n",
              "      <th>17</th>\n",
              "      <td>sent: 0</td>\n",
              "      <td>#Bahubali2</td>\n",
              "      <td>B-Per</td>\n",
              "    </tr>\n",
              "    <tr>\n",
              "      <th>18</th>\n",
              "      <td>NaN</td>\n",
              "      <td>NaN</td>\n",
              "      <td>NaN</td>\n",
              "    </tr>\n",
              "    <tr>\n",
              "      <th>19</th>\n",
              "      <td>sent: 1</td>\n",
              "      <td>agar</td>\n",
              "      <td>Other</td>\n",
              "    </tr>\n",
              "  </tbody>\n",
              "</table>\n",
              "</div>\n",
              "      <button class=\"colab-df-convert\" onclick=\"convertToInteractive('df-0ff5862c-72e7-42ef-b5ac-0419527642b3')\"\n",
              "              title=\"Convert this dataframe to an interactive table.\"\n",
              "              style=\"display:none;\">\n",
              "        \n",
              "  <svg xmlns=\"http://www.w3.org/2000/svg\" height=\"24px\"viewBox=\"0 0 24 24\"\n",
              "       width=\"24px\">\n",
              "    <path d=\"M0 0h24v24H0V0z\" fill=\"none\"/>\n",
              "    <path d=\"M18.56 5.44l.94 2.06.94-2.06 2.06-.94-2.06-.94-.94-2.06-.94 2.06-2.06.94zm-11 1L8.5 8.5l.94-2.06 2.06-.94-2.06-.94L8.5 2.5l-.94 2.06-2.06.94zm10 10l.94 2.06.94-2.06 2.06-.94-2.06-.94-.94-2.06-.94 2.06-2.06.94z\"/><path d=\"M17.41 7.96l-1.37-1.37c-.4-.4-.92-.59-1.43-.59-.52 0-1.04.2-1.43.59L10.3 9.45l-7.72 7.72c-.78.78-.78 2.05 0 2.83L4 21.41c.39.39.9.59 1.41.59.51 0 1.02-.2 1.41-.59l7.78-7.78 2.81-2.81c.8-.78.8-2.07 0-2.86zM5.41 20L4 18.59l7.72-7.72 1.47 1.35L5.41 20z\"/>\n",
              "  </svg>\n",
              "      </button>\n",
              "      \n",
              "  <style>\n",
              "    .colab-df-container {\n",
              "      display:flex;\n",
              "      flex-wrap:wrap;\n",
              "      gap: 12px;\n",
              "    }\n",
              "\n",
              "    .colab-df-convert {\n",
              "      background-color: #E8F0FE;\n",
              "      border: none;\n",
              "      border-radius: 50%;\n",
              "      cursor: pointer;\n",
              "      display: none;\n",
              "      fill: #1967D2;\n",
              "      height: 32px;\n",
              "      padding: 0 0 0 0;\n",
              "      width: 32px;\n",
              "    }\n",
              "\n",
              "    .colab-df-convert:hover {\n",
              "      background-color: #E2EBFA;\n",
              "      box-shadow: 0px 1px 2px rgba(60, 64, 67, 0.3), 0px 1px 3px 1px rgba(60, 64, 67, 0.15);\n",
              "      fill: #174EA6;\n",
              "    }\n",
              "\n",
              "    [theme=dark] .colab-df-convert {\n",
              "      background-color: #3B4455;\n",
              "      fill: #D2E3FC;\n",
              "    }\n",
              "\n",
              "    [theme=dark] .colab-df-convert:hover {\n",
              "      background-color: #434B5C;\n",
              "      box-shadow: 0px 1px 3px 1px rgba(0, 0, 0, 0.15);\n",
              "      filter: drop-shadow(0px 1px 2px rgba(0, 0, 0, 0.3));\n",
              "      fill: #FFFFFF;\n",
              "    }\n",
              "  </style>\n",
              "\n",
              "      <script>\n",
              "        const buttonEl =\n",
              "          document.querySelector('#df-0ff5862c-72e7-42ef-b5ac-0419527642b3 button.colab-df-convert');\n",
              "        buttonEl.style.display =\n",
              "          google.colab.kernel.accessAllowed ? 'block' : 'none';\n",
              "\n",
              "        async function convertToInteractive(key) {\n",
              "          const element = document.querySelector('#df-0ff5862c-72e7-42ef-b5ac-0419527642b3');\n",
              "          const dataTable =\n",
              "            await google.colab.kernel.invokeFunction('convertToInteractive',\n",
              "                                                     [key], {});\n",
              "          if (!dataTable) return;\n",
              "\n",
              "          const docLinkHtml = 'Like what you see? Visit the ' +\n",
              "            '<a target=\"_blank\" href=https://colab.research.google.com/notebooks/data_table.ipynb>data table notebook</a>'\n",
              "            + ' to learn more about interactive tables.';\n",
              "          element.innerHTML = '';\n",
              "          dataTable['output_type'] = 'display_data';\n",
              "          await google.colab.output.renderOutput(dataTable, element);\n",
              "          const docLink = document.createElement('div');\n",
              "          docLink.innerHTML = docLinkHtml;\n",
              "          element.appendChild(docLink);\n",
              "        }\n",
              "      </script>\n",
              "    </div>\n",
              "  </div>\n",
              "  "
            ],
            "text/plain": [
              "       Sent        Word    Tag\n",
              "0   sent: 0    Bahubali  B-Per\n",
              "1   sent: 0           2  Other\n",
              "2   sent: 0          ke  Other\n",
              "3   sent: 0        liye  Other\n",
              "4   sent: 0        line  Other\n",
              "5   sent: 0         lag  Other\n",
              "6   sent: 0       sakte  Other\n",
              "7   sent: 0         hai  Other\n",
              "8   sent: 0        desh  B-Org\n",
              "9   sent: 0          ke  Other\n",
              "10  sent: 0        liye  Other\n",
              "11  sent: 0        kyun  Other\n",
              "12  sent: 0        lage  Other\n",
              "13  sent: 0        line  Other\n",
              "14  sent: 0          me  Other\n",
              "15  sent: 0         ...  Other\n",
              "16  sent: 0  #notebandi  Other\n",
              "17  sent: 0  #Bahubali2  B-Per\n",
              "18      NaN         NaN    NaN\n",
              "19  sent: 1        agar  Other"
            ]
          },
          "metadata": {},
          "execution_count": 54
        }
      ]
    },
    {
      "cell_type": "markdown",
      "source": [
        "### Transliteration"
      ],
      "metadata": {
        "id": "xIbC2AYptbwR"
      }
    },
    {
      "cell_type": "code",
      "source": [
        "# import the module\n",
        "from indic_transliteration import sanscript\n",
        "from indic_transliteration.sanscript import transliterate\n",
        "\n",
        "# the text to be transliterated\n",
        "text = \"Aapa sabhii kaa yahaan svaagat hai.\"\n",
        "# text=\"chalo\"\n",
        "# printing the transliterated text\n",
        "print(text)\n",
        "print(transliterate(text, sanscript.ITRANS, sanscript.DEVANAGARI))"
      ],
      "metadata": {
        "colab": {
          "base_uri": "https://localhost:8080/"
        },
        "id": "Qx9q7K1evKWS",
        "outputId": "f01ae68e-5843-4589-860d-50f14b11207d"
      },
      "execution_count": null,
      "outputs": [
        {
          "output_type": "stream",
          "name": "stdout",
          "text": [
            "Apa sabhii kaa yahaan svaagat hai.\n",
            "आप सभी का यहान् स्वागत् है।\n"
          ]
        }
      ]
    },
    {
      "cell_type": "code",
      "metadata": {
        "colab": {
          "base_uri": "https://localhost:8080/"
        },
        "id": "nj4tWmWlM3j2",
        "outputId": "55ca4eec-c685-493c-f828-f23e3e119c08"
      },
      "source": [
        "count=0\n",
        "sen_id=[]\n",
        "sentences=[]\n",
        "for sen in annotations.strip().split(\"# sent_enum = \"):\n",
        "  if(len(sen)>0):\n",
        "    count+=1\n",
        "    idx=sen.find(\"\\n\")\n",
        "    sen_id.append(sen[:idx])\n",
        "    txt=[]\n",
        "    for token in sen[idx+1:].strip().split('\\n'):\n",
        "      tok=token.split()\n",
        "      if(tok[1]=='hi'):\n",
        "        tok[0]=transliterate(tok[0], sanscript.ITRANS, sanscript.DEVANAGARI)\n",
        "      txt.append(tok)\n",
        "    sentences.append(txt)\n",
        "\n",
        "print(count)"
      ],
      "execution_count": null,
      "outputs": [
        {
          "output_type": "stream",
          "name": "stdout",
          "text": [
            "1243\n"
          ]
        }
      ]
    },
    {
      "cell_type": "code",
      "metadata": {
        "colab": {
          "base_uri": "https://localhost:8080/"
        },
        "id": "wYuVR9aIeYHe",
        "outputId": "7ecdd608-ff1e-4304-efdc-8c680b044078"
      },
      "source": [
        "print(sentences[0])"
      ],
      "execution_count": null,
      "outputs": [
        {
          "output_type": "stream",
          "name": "stdout",
          "text": [
            "[['Gully', 'en', 'O'], ['cricket', 'en', 'O'], ['चल्', 'hi', 'O'], ['रह', 'hi', 'O'], ['हैन्', 'hi', 'O'], ['यह', 'hi', 'O'], ['\"', 'rest', 'O'], ['(', 'rest', 'O'], ['Soniya', 'rest', 'B-PERSON'], [')', 'rest', 'O'], ['Gandhi', 'rest', 'B-PERSON'], ['\"', 'rest', 'O']]\n"
          ]
        }
      ]
    },
    {
      "cell_type": "code",
      "metadata": {
        "colab": {
          "base_uri": "https://localhost:8080/"
        },
        "id": "kjKgxL6KQLRU",
        "outputId": "180637d4-e87f-4e5f-c62f-1b37b6698aef"
      },
      "source": [
        "tags=[]\n",
        "words=[]\n",
        "lang=[]\n",
        "for id,sen in zip(sen_id,sentences):\n",
        "  for tok in sen:\n",
        "    lang.append(tok[1])\n",
        "    words.append(tok[0])\n",
        "    tags.append(tok[2])\n",
        "words.append(\"<OOV>\")\n",
        "print(len(set(words)),len(words))\n",
        "print(len(set(tags)))\n",
        "print(Counter(tags))\n",
        "print(len(set(lang)))\n",
        "print(Counter(lang))"
      ],
      "execution_count": null,
      "outputs": [
        {
          "output_type": "stream",
          "name": "stdout",
          "text": [
            "8677 21066\n",
            "7\n",
            "Counter({'O': 18843, 'B-PERSON': 963, 'B-PLACE': 455, 'I-PERSON': 411, 'B-ORGANISATION': 218, 'I-PLACE': 108, 'I-ORGANISATION': 67})\n",
            "3\n",
            "Counter({'en': 8198, 'hi': 6905, 'rest': 5962})\n"
          ]
        }
      ]
    },
    {
      "cell_type": "markdown",
      "source": [
        "### EDA"
      ],
      "metadata": {
        "id": "GgZv10IAzvBE"
      }
    },
    {
      "cell_type": "code",
      "metadata": {
        "colab": {
          "base_uri": "https://localhost:8080/",
          "height": 607
        },
        "id": "zMZRQMJWlLSH",
        "outputId": "219a5871-98a8-41b0-bd84-04802844b622"
      },
      "source": [
        "# Wordcloud\n",
        "\n",
        "# importing all necessary modules\n",
        "from wordcloud import WordCloud, STOPWORDS\n",
        "import matplotlib.pyplot as plt\n",
        "import pandas as pd\n",
        "\n",
        "dataset = ' '.join(words)\n",
        "wordcloud = WordCloud(width = 800, height = 800,\n",
        "                background_color ='white',\n",
        "                min_font_size = 10).generate(dataset)\n",
        " \n",
        "# plot the WordCloud image                      \n",
        "plt.figure(figsize = (8, 8), facecolor = None)\n",
        "plt.imshow(wordcloud)\n",
        "plt.axis(\"off\")\n",
        "plt.tight_layout(pad = 0)\n",
        "\n",
        "# def create_word_cloud(string):\n",
        "#    maskArray = npy.array(Image.open(\"cloud.png\"))\n",
        "#    cloud = WordCloud(background_color = \"white\", max_words = 200, mask = maskArray, stopwords = set(STOPWORDS))\n",
        "#    cloud.generate(string)\n",
        "#    cloud.to_file(\"wordCloud.png\")\n",
        "# dataset = dataset.lower()\n",
        "# create_word_cloud(dataset)"
      ],
      "execution_count": null,
      "outputs": [
        {
          "output_type": "display_data",
          "data": {
            "image/png": "[encoded data removed]",
            "text/plain": [
              "<Figure size 576x576 with 1 Axes>"
            ]
          },
          "metadata": {
            "needs_background": "light"
          }
        }
      ]
    },
    {
      "cell_type": "code",
      "metadata": {
        "id": "ihp7_KinU2tx"
      },
      "source": [
        "d={'O': 18843, 'B-PERSON': 963, 'B-PLACE': 455, 'I-PERSON': 411, 'B-ORGANISATION': 218, 'I-PLACE': 108, 'I-ORGANISATION': 67}\n",
        "d2={'B-PERSON': 963, 'B-PLACE': 455, 'I-PERSON': 411, 'B-ORGANISATION': 218, 'I-PLACE': 108, 'I-ORGANISATION': 67}"
      ],
      "execution_count": null,
      "outputs": []
    },
    {
      "cell_type": "code",
      "metadata": {
        "id": "sjsw6sCcVEvG"
      },
      "source": [
        "# Import library\n",
        "import pandas as pd\n",
        " \n",
        "# Create Dataset {'en': 8198, 'hi': 6905, 'rest': 5962}\n",
        "# df = pd.DataFrame([963,455,411,218,108,67], index=['B-PERSON', 'B-PLACE', 'I-PERSON','B-ORGANISATION','I-PLACE','I-ORGANISATION'], columns=['Values']) \n",
        "df = pd.DataFrame([8198,6905,5962], index=['en', 'hi','rest'], columns=['Values']) "
      ],
      "execution_count": null,
      "outputs": []
    },
    {
      "cell_type": "code",
      "metadata": {
        "colab": {
          "base_uri": "https://localhost:8080/",
          "height": 143
        },
        "id": "_-v8mwfDVTYS",
        "outputId": "42ef6d9f-923a-4e97-8356-37cf04f5cf12"
      },
      "source": [
        "# df=pd.DataFrame(d)\n",
        "df"
      ],
      "execution_count": null,
      "outputs": [
        {
          "output_type": "execute_result",
          "data": {
            "text/html": [
              "\n",
              "  <div id=\"df-9b8fa4af-5010-408d-aaee-673447bc929f\">\n",
              "    <div class=\"colab-df-container\">\n",
              "      <div>\n",
              "<style scoped>\n",
              "    .dataframe tbody tr th:only-of-type {\n",
              "        vertical-align: middle;\n",
              "    }\n",
              "\n",
              "    .dataframe tbody tr th {\n",
              "        vertical-align: top;\n",
              "    }\n",
              "\n",
              "    .dataframe thead th {\n",
              "        text-align: right;\n",
              "    }\n",
              "</style>\n",
              "<table border=\"1\" class=\"dataframe\">\n",
              "  <thead>\n",
              "    <tr style=\"text-align: right;\">\n",
              "      <th></th>\n",
              "      <th>Values</th>\n",
              "    </tr>\n",
              "  </thead>\n",
              "  <tbody>\n",
              "    <tr>\n",
              "      <th>en</th>\n",
              "      <td>8198</td>\n",
              "    </tr>\n",
              "    <tr>\n",
              "      <th>hi</th>\n",
              "      <td>6905</td>\n",
              "    </tr>\n",
              "    <tr>\n",
              "      <th>rest</th>\n",
              "      <td>5962</td>\n",
              "    </tr>\n",
              "  </tbody>\n",
              "</table>\n",
              "</div>\n",
              "      <button class=\"colab-df-convert\" onclick=\"convertToInteractive('df-9b8fa4af-5010-408d-aaee-673447bc929f')\"\n",
              "              title=\"Convert this dataframe to an interactive table.\"\n",
              "              style=\"display:none;\">\n",
              "        \n",
              "  <svg xmlns=\"http://www.w3.org/2000/svg\" height=\"24px\"viewBox=\"0 0 24 24\"\n",
              "       width=\"24px\">\n",
              "    <path d=\"M0 0h24v24H0V0z\" fill=\"none\"/>\n",
              "    <path d=\"M18.56 5.44l.94 2.06.94-2.06 2.06-.94-2.06-.94-.94-2.06-.94 2.06-2.06.94zm-11 1L8.5 8.5l.94-2.06 2.06-.94-2.06-.94L8.5 2.5l-.94 2.06-2.06.94zm10 10l.94 2.06.94-2.06 2.06-.94-2.06-.94-.94-2.06-.94 2.06-2.06.94z\"/><path d=\"M17.41 7.96l-1.37-1.37c-.4-.4-.92-.59-1.43-.59-.52 0-1.04.2-1.43.59L10.3 9.45l-7.72 7.72c-.78.78-.78 2.05 0 2.83L4 21.41c.39.39.9.59 1.41.59.51 0 1.02-.2 1.41-.59l7.78-7.78 2.81-2.81c.8-.78.8-2.07 0-2.86zM5.41 20L4 18.59l7.72-7.72 1.47 1.35L5.41 20z\"/>\n",
              "  </svg>\n",
              "      </button>\n",
              "      \n",
              "  <style>\n",
              "    .colab-df-container {\n",
              "      display:flex;\n",
              "      flex-wrap:wrap;\n",
              "      gap: 12px;\n",
              "    }\n",
              "\n",
              "    .colab-df-convert {\n",
              "      background-color: #E8F0FE;\n",
              "      border: none;\n",
              "      border-radius: 50%;\n",
              "      cursor: pointer;\n",
              "      display: none;\n",
              "      fill: #1967D2;\n",
              "      height: 32px;\n",
              "      padding: 0 0 0 0;\n",
              "      width: 32px;\n",
              "    }\n",
              "\n",
              "    .colab-df-convert:hover {\n",
              "      background-color: #E2EBFA;\n",
              "      box-shadow: 0px 1px 2px rgba(60, 64, 67, 0.3), 0px 1px 3px 1px rgba(60, 64, 67, 0.15);\n",
              "      fill: #174EA6;\n",
              "    }\n",
              "\n",
              "    [theme=dark] .colab-df-convert {\n",
              "      background-color: #3B4455;\n",
              "      fill: #D2E3FC;\n",
              "    }\n",
              "\n",
              "    [theme=dark] .colab-df-convert:hover {\n",
              "      background-color: #434B5C;\n",
              "      box-shadow: 0px 1px 3px 1px rgba(0, 0, 0, 0.15);\n",
              "      filter: drop-shadow(0px 1px 2px rgba(0, 0, 0, 0.3));\n",
              "      fill: #FFFFFF;\n",
              "    }\n",
              "  </style>\n",
              "\n",
              "      <script>\n",
              "        const buttonEl =\n",
              "          document.querySelector('#df-9b8fa4af-5010-408d-aaee-673447bc929f button.colab-df-convert');\n",
              "        buttonEl.style.display =\n",
              "          google.colab.kernel.accessAllowed ? 'block' : 'none';\n",
              "\n",
              "        async function convertToInteractive(key) {\n",
              "          const element = document.querySelector('#df-9b8fa4af-5010-408d-aaee-673447bc929f');\n",
              "          const dataTable =\n",
              "            await google.colab.kernel.invokeFunction('convertToInteractive',\n",
              "                                                     [key], {});\n",
              "          if (!dataTable) return;\n",
              "\n",
              "          const docLinkHtml = 'Like what you see? Visit the ' +\n",
              "            '<a target=\"_blank\" href=https://colab.research.google.com/notebooks/data_table.ipynb>data table notebook</a>'\n",
              "            + ' to learn more about interactive tables.';\n",
              "          element.innerHTML = '';\n",
              "          dataTable['output_type'] = 'display_data';\n",
              "          await google.colab.output.renderOutput(dataTable, element);\n",
              "          const docLink = document.createElement('div');\n",
              "          docLink.innerHTML = docLinkHtml;\n",
              "          element.appendChild(docLink);\n",
              "        }\n",
              "      </script>\n",
              "    </div>\n",
              "  </div>\n",
              "  "
            ],
            "text/plain": [
              "      Values\n",
              "en      8198\n",
              "hi      6905\n",
              "rest    5962"
            ]
          },
          "metadata": {},
          "execution_count": 55
        }
      ]
    },
    {
      "cell_type": "code",
      "metadata": {
        "colab": {
          "base_uri": "https://localhost:8080/",
          "height": 500
        },
        "id": "6aLn4GJsVP_z",
        "outputId": "62185a41-c5ec-411e-8831-087742e6c2cd"
      },
      "source": [
        "# Make the Pie plot\n",
        "df.plot(kind='pie', subplots=True, figsize=(8, 8))"
      ],
      "execution_count": null,
      "outputs": [
        {
          "output_type": "execute_result",
          "data": {
            "text/plain": [
              "array([<matplotlib.axes._subplots.AxesSubplot object at 0x7f83c7d09490>],\n",
              "      dtype=object)"
            ]
          },
          "metadata": {},
          "execution_count": 56
        },
        {
          "output_type": "display_data",
          "data": {
            "image/png": "[encoded data removed]",
            "text/plain": [
              "<Figure size 576x576 with 1 Axes>"
            ]
          },
          "metadata": {}
        }
      ]
    },
    {
      "cell_type": "code",
      "metadata": {
        "id": "GbI-st3BVLXr"
      },
      "source": [
        ""
      ],
      "execution_count": null,
      "outputs": []
    },
    {
      "cell_type": "code",
      "metadata": {
        "id": "91mmTDkmVLUq"
      },
      "source": [
        ""
      ],
      "execution_count": null,
      "outputs": []
    },
    {
      "cell_type": "code",
      "metadata": {
        "colab": {
          "base_uri": "https://localhost:8080/"
        },
        "id": "dG7nO4-YXt5v",
        "outputId": "a7fc179e-7fb1-4456-eb2a-75dd002af597"
      },
      "source": [
        "max_len=0\n",
        "min_len=0\n",
        "avg_len=0\n",
        "for sen in sentences:\n",
        "  l=len(sen)\n",
        "  if(l>max_len):\n",
        "    max_len=l\n",
        "  if(l<min_len):\n",
        "    min_len=l\n",
        "  avg_len+=l\n",
        "avg_len/=len(sentences)\n",
        "\n",
        "print(\"MIN Length of sentences is\",min_len)\n",
        "print(\"MAX Length of sentences is\",max_len)\n",
        "print(\"AVG Length of sentences is\",avg_len)"
      ],
      "execution_count": null,
      "outputs": [
        {
          "output_type": "stream",
          "name": "stdout",
          "text": [
            "MIN Length of sentences is 0\n",
            "MAX Length of sentences is 36\n",
            "AVG Length of sentences is 16.946902654867255\n"
          ]
        }
      ]
    },
    {
      "cell_type": "markdown",
      "metadata": {
        "id": "HXO927PRWKEl"
      },
      "source": [
        "### Creating Word & Tag dictionary"
      ]
    },
    {
      "cell_type": "code",
      "metadata": {
        "colab": {
          "base_uri": "https://localhost:8080/"
        },
        "id": "J_ZGiGW4WHhl",
        "outputId": "26328321-05fd-42eb-c70f-b6332a051ced"
      },
      "source": [
        "# Creating a vocabulary\n",
        "un_words = list(set(words))\n",
        "un_words.append(\"<PAD>\")\n",
        "n_words = len(un_words)\n",
        "print(\"Length of vocabulary = \",n_words)\n",
        " \n",
        "un_tags = list(set(tags))\n",
        "# Adding tag for <PAD>\n",
        "# un_tags.append(\"<PAD>\")\n",
        "n_tags = len(un_tags)\n",
        "print(\"\\nnumber of tags = \",n_tags)\n",
        "# print(un_tags)\n",
        " \n",
        "# Creating words to indices dictionary.\n",
        "word2idx = {w: i for i, w in enumerate(un_words)}\n",
        "# Creating tags to indices dictionary.\n",
        "tag2idx = {t: i for i, t in enumerate(un_tags)}\n",
        "print(tag2idx)"
      ],
      "execution_count": null,
      "outputs": [
        {
          "output_type": "stream",
          "name": "stdout",
          "text": [
            "Length of vocabulary =  8678\n",
            "\n",
            "number of tags =  7\n",
            "{'B-ORGANISATION': 0, 'B-PLACE': 1, 'I-ORGANISATION': 2, 'O': 3, 'I-PLACE': 4, 'I-PERSON': 5, 'B-PERSON': 6}\n"
          ]
        }
      ]
    },
    {
      "cell_type": "code",
      "source": [
        "print(un_words)"
      ],
      "metadata": {
        "colab": {
          "base_uri": "https://localhost:8080/"
        },
        "id": "06bJsh2CylgM",
        "outputId": "da482c57-6fa7-414d-b8e6-28aa672ec5d3"
      },
      "execution_count": null,
      "outputs": [
        {
          "output_type": "stream",
          "name": "stdout",
          "text": [
            "['#communal', 'u', 'liked', '@shindekar', 'तेह्र', 'पित', 'वी', 'interview', 'देय्', 'but', 'can', 'Sadiq', 'Rafique', 'थ्ले', 'होजए', 'text', 'डहि', '@डरेटोZलातान्', 'Famous', 'heart', 're-signation', 'Scindia', 'French', 'pradesh', 'zamen', 'bless', 'bottles', 'Mandir', 'शादि', 'आएक्', 'भसद्', 'Muktesvara', 'rare', '@feminamissindia', 'Ambassador', 'https://t.co/huy0vNmB0J', 'खोर्', 'Cleanliness', 'Aandolan', 'Waly', 'आनर्कलि', 'drought', 'णे', '@DJNoreenKhan', 'चोद्', 'Satsang', 'Pआऱ्', 'उन्को', 'https://', 'RAILWAY', 'http://t.co/MGXsxakUGM', 'बैथ्त', 'Caught', 'ईन्षआल्लह्', 'वर्न', 'ख़ुछ्', 'target', '@sharma11ashish1', 'Resort', '1/8', 'http://t.co/0XLCJWE4Ny', 'Bहोग्ले', 'Babaji', 'cross', 'जै', 'ंएरे', '@ANIMESHSONI_09', 'languages', '@sandhiriansgrp', 'बुस्य्', 'PTI', 'https://t.co/uNrDMwGKzN', 'जलओ', 'Received', 'मन्गल्कम्नयेन्', 'tag', '#BigHeroes', 'Check', 'गोलि', 'http://t.co/rHsAEEIWtH', 'via', 'ख़ैसे', 'ष्रुतिसगर्', '#believeme', 'hav', 'valid', 'खौफ़्', '....', 'Rajneeti', 'tales', \"Zuckerberg's\", 'profi', 'Mallik', '@anilvijmantri', 'bodies', 'Telford', 'Ashaf', '@vivekagnihotri', 'http://t.co/0nGo42XZoU', 'ब्ने', 'respect', 'Asia', 'Goddess', '@तल्हआलिआख्तर्', 'http://t.co/1l1snIEi5U', 'name', '#MSGlovesHumanity', 'गज़ल्', '#boycottraees', 'fortress', 'Mutt', 'षहेब्-ए', 'टोमर्', 'stay', 'Nirman', 'बध्ये', 'आग्', 'ख़हिन्', 'PUR', 'षे-ख़बूतर्', 'Symbol', '@ष्वधषन्कर्', '@Priyanshi__', 'तुझे', '@अजय्देव्ग्न्', 'ंअर्च्', 'then', '@VivekMMisra', 'humanitarian', 'टुझे', 'Discussions', 'bleach', 'her', 'noone', 'successful', 'arrest', 'replace', '#SmritiIrani', 'इस्स्', 'INDIAN', 'tense', 'प्लन्', 'ticket', 'explain', 'passenger', 'Vision', 'समझ्', 'TEAM', 'Jadavpur', 'Mohit', 'http://t.co/yJGhzkFe60', '#आयुथEऴुथु', 'लगम्', 'ख़लयन्', 'Tense', 'Pअवन्', '#ISupportDelhiOddEven', 'Kshipra', 'क्र्ते', 'कल्पन', 'Khurram', '@TheRajKundra', 'trend', '@सुचेतदलल्', 'म्न्दिर्', '@nitinmahalwal', 'ADVOCATE', 'South', 'any', 'श्री', 'रुन्', 'If', 'AamAadmiParty', 'नए', '#KXIPvDD', 'Mass', '@SultanTheMovie', 'gumsuda', 'NDTVProfit', '#MSG', \"Qadir's\", 'http://t.co/RCxmaN9C7d', 'BःOळ्Eणाट्ः', 'solving', 'friend', '-Vocal', 'Avram', 'Vichare', 'sting', 'Stephen', '1st', 'certificate', 'appointed', '@medhanarmada', 'ईत्न', 'http://t.co/NtirfTeswv', '@भक्सल', 'दफ़्ना', 'JNU', 'Feb', 'Naik', 'http://t.co/Ny9d4X6o8U', 'बोहत्', 'Manokamna', 'ज़म', 'guide', 'have', '>', 'ग़र्भग्रिह', 'भान्ग्', 'Imran', 'Growth', 'Rai', 'https://t.co/gjwxKvu3dY', 'jsingh341', 'आदमि', 'ask', 'लेन', 'जुर्म्', 'blessed', 'Mishra', 'teasers', 'ambassador', 'Rajasthan', 'BHU', '@GoutamRishi', 'किस्को', 'Strange', 'Celebration', '#AsiaCupT20', '@IndiaToday', '#GLvsDD', 'Delhi/', 'हव', 'forces', 'hit', '@makeinindia', 'immense', 'deeds', 'ंउझ्', 'ख़े', 'भले', 'press', 'RareHistorical', 'पाय', 'http://t.co/hLuNUz5btQ', 'अभिशेक्', '@द्र्धीरज्जैन्', '1749', 'footiya', 'के', 'Julius', 'जाति', 'BTW', \"dhoni's\", 'ज़िवन्', '#RepublicDay', 'रेहे', 'Rule', 'ME', 'ंअन्दिर्', '#SwamyInRS', 'साल्', '@SANDEEPCOL', 'role', 'Sanon', 'अव्सर्', 'रज्निगन्ध', 'pappu', 'https://t.co/LTwRdL77zf', 'हेइन्', 'Control', '#SelfieKing', 'setting', '#Railways', 'Chain', 'allah', 'till', 'ळ्', 'Pak-Austria', 'training', 'Thailand', 'bevkuf', 'Binny', 'ग़ाय़्', 'गुरु', 'आप्को', 'बह्', 'http://t.co/pQ0UoEun1K', 'wd', 'Communist', 'आअप्क', '@OYERJALOK', 'without', '754gmailS', 'मन्', 'ministry', 'posted', 'soniya', 'ईश्क़्', 'केह्त', 'ग़यि', 'pm', 'Congrats', 'potentialpathin', 'PraveenraoU', '1-', 'Purohit', 'friends', 'Saturday', \"Kumar's\", '#डिल्लिख़िस्कि', 'डिवलि', 'गब्बर्', 'ऱह', '@anuragkashyap72', '@Shreela22', 'whr', 'फतने', 'reat', 'relationships', 'सह', '#IPLAuction', 'Bjp', 'take', '@ExSecular', 'K.K', 'line', 'faster', 'Mujtaba', 'medicines', 'https://t.co/wDTaPN3keA', 'Mother', 'ःउम्', 'Bhandara', 'ःअय्', 'लगये', \"eye's\", '@MaskedSRKFan', 'MulayamSingh', 'demand', 'https://t.co/87EMCTo1yx', '130', 'gudmorning', '@foninjaTW', 'hey', '-AD', 'ऊन्हो', 'आन', 'खयि', 'Chat', 'Picture', 'Great', 'षकिब्', '..??!!!', 'ela', 'BJP', '2-', '@sankalparkapoor', 'त्वीत्ने', 'https://t.co/AoynRKBG7m', '#pharmaceuticals', 'protesting', 'आआं', 'utsav', 'ढ्यन्', 'शदि', 'https://t.co/Wo3yyJrBgr', 'चोत', '#mahi', '@BigPrintKarthik', 'ःअर', 'Bहक्त्स्', 'Cos', '@अरीब्खुरफ़ति', 'आउन्ग', 'regime', 'बचाने', 'UP-Bihar', 'ऊम्र्', '#Beach', 'project', 'ंइलि', 'डेखो', 'Pअतखे', 'vegi', '#WT20', 'Citizen', 'समर्थक्', '...!!', 'enquiry', '+917838021969', 'JAI_SHIV_SHANKAR', 'रेख्त', '@DrGPradhan', 'Tripura', 'may', 'http://t.co/9u3oSE0Lwy', 'topic', 'airnewsalerts', '@ishavru', '@msteckchandani', 'ंइले', 'during', 'Telangana', 'granted', 'Bhadrappa', 'country', 'ISIS', '@ंएह्र्टरर्', 'CRI', 'नैर', 'best', 'Pए', 'डिल्वले', 'is', '#CelebMiddleNames', '@JasumatiPatel', 'हिबसल्', 'Twamily', 'अप्ने', 'Utsav', '3cr', 'Get', 'हुओ', 'meditation', 'Sooraj', 'river', 'prashant', 'क्म्', 'बुस्', '#IndianRailways', 'बुलय', 'come', 'चुद्ने', '195', 'brother', 'Nataraja', 'dumb', 'MahaDev', 'धम्', '#DelhiPolice', 'https://t.co/5Ld9vlONZK', '@LOLendraSingh', 'Pune', 'craze', '@CJoshi28', 'Planet', 'historic', 'apologize', '@mynamerahul007', 'committed', 'DP2', 'how', 'अभि', 'Simple', 'Trend', 'He-Pic', 'Pआयेग', 'Mahadev_/\\\\_', 'Dutt', 'Muft', 'Future', 'aymond', '#Ramnavmi', 'songs', 'helped', 'https://t.co/4SdwIWaKda', 'ंअहकलेश्वर्', 'https://t.co/itB7VhUJRs', 'also', 'university', 'Once', 'link', 'route', '@sanjaynirupam', 'टुम्से', '@Bईलाल्टरिक़्', 'स्', 'InsanDua', 'दाल्नि', 'post', 'entertainment', '@harikiranroyal', 'हाये', 'षौद', 'Film', '@AfsanaMeet', 'कबूल्', 'Steel', 'like', 'Arata', 'seems', 'क्रिश्न', 'खयल्', '31.3.2014', 'Shivayah', 'P', 'ह्म्', 'NSCN', 'अन्थ', 'करुन्', 'cuase', 'maxwell', 'षिवल', 'RahulG', 'Bहोलेशन्कर्', 'Istanbul', 'president', '@MUFCNewsUK', '#StalkTheStars', 'https://t.co/FNvufXJd2l', 'US', 'आप्के', 'तुम्हरि', 'पुर', 'MMS', '#आअचेडिन्', 'good', '@zeemusiccompany', 'block', 'om', 'https://t.co/FC7s98yXMT', '2gthr', '#BJP', 'nehru', '@cricBC', 'डो', 'town', 'could', '#Maggi', 'Learn', 'जयेग', 'Soo', 'सफ़र्', 'Padmashree', 'ख़्O', '@Ankit_Tyagi01', 'डेख', 'गुन्ज्', 'toilets', \"Nehra's\", 'routine', 'ंएइन्', 'genuine', '@Umarkarim89', '@AbhinandanSekhr', 'ट्ःOख़्', 'http://t.co/PLKC54WmX3', '@sirjadeja', 'Swachh', 'Station', 'Patekar', 'Mahanadi', 'http://t.co/Ok7A3cW4qy', 'Verna', 'Tamana', 'https://t.co/SA', 'Gizele', 'simple', '@BloodDonorsIn', 'Change', 'politicians', 'Lonely', 'हर्धिक्', 'Australia', 'ंए-कौन्', 'Pआ', 'Keralites', 'Bउन्द्', 'celbrations', 'quadrapling', 'तुस्सि', 'rumours', '@NabeelFaryal', 'member', '@saloniradhainsa', '@Annu__k', 'जरूरत्', 'rinkuu', 'तरिक', 'Zअकि', '#PrabhukiRail', 'हैइ', 'unauthorized', 'Washington', 'चूहे', 'broke', '@aliaa08', 'Wअप्सि', 'mix', 'ग़न्ग', 'Nishant', 'इस्सि', 'छ्होत', 'Boat', 'https://t.co/YWGnox2Jsx', 'किये', 'विद्य', 'ArvindKejriwal', 'बाद्', 'Bआज़्', 'bodybuider', 'ख़िश्वर्', 'Mukerji', \"Caesar's\", 'Upadhyay', 'ःअमेइन्', 'Nt', 'punarjanma', '#AgustaWestlandScam', 'हरमि', 'them', 'time', 'ह्मेश', '@Varun_dvn', 'Says', '#bapuji', 'people', 'षद्को', 'festival', '@ipathak25', '@bhav2406', 'Dhawan', 'compartments', 'Pranav', 'Dhyan', 'wicket', 'Fअछोच्स्चुले', '@vijai63', '@TajinderBagga', 'Bहुव्नेश्वर्', 'fodenge', 'https://t.co/DDr48uwpoo', '@anky1912', '3X', 'pension', 'सम्भ्ल', 'selfie', 'ऐसे', 'ःओग', 'Gurdwara', 'अ', 'decoded', 'Weed', '1950', 'Law', 'since', 'https://t.co/sgtIQkRjrt', 'https://t.co/G75UF', 'https://t.co/Th9C3NRNga', 'chanting', 'ऱोअदिए', '@abpnewshindi', 'rues', '#WhereIsRahulGandhi', '#WIvsAFG', 'said', 'ग़लि', '#railway', 'वन्न', 'Cough', 'गलत्', 'Catch', 'password', 'रहन', 'De', 'Eli', '@DrunkVinodMehta', 'Citizens', 'https://t.co/CEUNzr3Jsm', 'started', 'षलुते', \"Don't\", 'Anuradha', 'Kishoreda', 'article', 'fails', 'wants', 'बिन', 'नुतन्कि', 'Serlingampally', '@realmadriden', 'Tanuj', 'Jabardust', '@mrbhavinvyas', 'Patels', 'ख़्P', 'Astrologer', 'http://t.co/gqN1mGkChA', 'अक़ल्', 'लाल्', 'Full', '@AmitShah', 'session', 'dekhnge', 'Entry', 'ब्चओ', 'Reason', 'इसि', '@MohMeh1963', 'य़्E', '#SoniaBribedMedia', '=)))', 'touch', '\\\\m/', 'मर्ग्', 'Pआटी', 'Shoyeb', '@itsyaboyladin', 'षत्नम्', 'Bअन्गलि', 'IndiaHistorypic', 'य़ेआआह्ह्ह्ह्', 'ज़िन्के', '@munjays', 'Bहगने', '@@', 'poonchu', 'ऱनि', 'minds', 'ंएध', 'Mallu', '#SuperBudget', 'दिल्', 'आअन्ख्', 'षिवजि', 'reaction', 'From', 'copied', 'video', 'हाथ्', 'षारि', 'ऱज्दीप्/षगरिक', 'sleep', 'ऱुख्', 'Pअल्कोन्', '?', 'Thank', 'बहूत्', 'https://t.co/LUkMddRYY4', '@MODIsWarrior', 'MLA', 'आप्', 'http://t.co/jnEadDi4ui', '#LAB', '@NeelakshiGswm', 'Agenda', '@Sharma_rajni29', 'http://t.co/3VllKgNaPn', 'sector', 'showing', '@helloanand', 'Stuart', 'हर्दिक्', '@yesman33526309', 'दहि', 'अख्रि', 'mandala', 'Umashankar', 'Modis', '@एयेनक्शिरन्', 'Bइहरि', 'ihsavru_', 'militant', 'saala-2', 'दिय', 'Reminds', 'Urmi', 'बैथ', 'Dear', 'Teresa', 'ःउ', 'he17', 'https://t.co/3SsWb5hj0h', 'this', 'Pavnel', '@SRKsDrishh', 'आइसे', 'Makes', '#sky', 'Feeya', 'Jokes', 'noon', '@Zअहेनसीब्', \"#DrMSG's\", 'टांआं', 'recently', '@aditispeaks_', 'Co', 'सोने', 'ःए', 'Song', 'इस्क', 'तोर', 'मौक', 'http://t.co/B1h4lJQwIn', 'Asaram', '@gauravgarg1903', 'क़्', 'NewsxEight', 'सब्के', '#TheWhiteRevolution', 'https://t.co/b', 'bringing', '27Apr', '@AnjanaVJ', 'तोह्', 'देख्ति', 'दौद्', 'https://t.co/abmPhSguCf', 'consider', 'Nestle', 'too', 'सुन्ते', 'eliminated', '<OOV>', 'August', '#AbdulKalam', 'legal', '..........', 'our', 'holding', 'Force', 'Rockstar', 'रत्', 'Lalu', 'Live', 'https://t.co/mw9mjfwFQn', 'डारु', 'loviyu', 'RT', 'दि', 'इत्न', 'फ़र्जिवाल्', 'yojna', 'https://t.co/apVacsSquk', '@surrealzakir', 'Bहुशन्', 'hyderabad', '@InternetHinduz', 'Devon', 'https://t.co/d', 's', 'Rest', 'षिर्', 'https://t.co/aZm4', '#TamilNadu', 'EPIC', 'Actor', 'BBःई', 'अद्वन्जि', 'Cover', '@rcmms', 'https://t.co/2YcsjRpgRk', 'natural', 'quantum', 'ख़रन्', '?!!', 'खूब्सुरत्', '@RSS4India', 'Nend', 'Phadnis', '@Madan_Chikna', 'hv', '#twistedbollywoddialogues', 'बक़ि', 'faridabad', 'गुनह्', 'Bigot', '@1mgupta', 'छ्हत्रपति', 'Marriage', 'ख़ैलश्', 'टुने', 'वैसे', '@Sand_In_Deed', 'gauge', 'मनते', 'dinner', '@reddyvpr', 'Bउस्', '......', 'Shares', 'रुम्', 'सुरेश्प्प्रभ्', 'Ram', 'http://t.co/xWBhMGBDAM', 'hours', 'Report', 'https://t.co/btdTxu3qSp', 'http://t.co/mGs2VIIWgZ', '#YoSoniaSoPoor', '#runout', 'propagating', 'airlifted', 'uz', 'https://t.co/o4eO3FeX4g', '@SachinmOfficial', 'देख्लो', 'खोल्दिय', '@insan_honey', 'खेल्त', 'BआआP', 'feels', 'षोचो', 'sharmas', 'जीते', 'BHAGORE', '@samachar_plus', 'First', 'ल्गने', 'hindu', 'गुज़रिश्', 'Arvind', 'मन्ज़िल्', 'parents', 'सनम्', 'Sunny', 'ज़ीतेग', 'Christmas', 'जम', '@chetannarula', 'Increasing', 'Py', 'quietly', 'मोहे-इ-है', 'आतल्जि', 'हद्द्', '@TamalDas8', '@arrahman', 'Parae', 'blood', 'DEMUs', '72', '#१०ख़ेBआद्ख़रेन्गे', 'FAQs', 'Jyotirlinga', '#RahulGandhi', '@ZeeNewsSports', 'अन्दर्', 'law', 'w/', '@IPL', 'rewari', 'On', 'छोला', 'कीत', 'देखो', 'ह्', 'sciences', 'BEAMER', 'http://t.co/312blwW96R', 'षब्से', 'Bulgaria', 'Rathotsava', 'https://t.co/GNH7a0tzYs', 'RailwayMinister', 'ईस्क', 'ड्Eख़्ः', 'sums', 'Qadir', '@इअम्Bहव्य', 'congrets', 'cant', '@surya720', '@sonalSalmanK', 'MUCH', 'Mallya', 'होते', '#Jai_Mahakaal', 'Namah', 'examples', 'चलओ', '#vadodara', 'छाप्', 'ज़यललिथ', 'ख़माल्', 'shame', '@zoomphatak', '@Muzammalafzal', 'ब्रह्मचरि', 'my', 'ह्मेस', 'कैसि', '@ImAkanksha26', 'Asaramji', '@Zeenat_Amaan', '5/5', 'Bacchan', 'डिमग्', '#GoldenGlobes', 'Looking', 'http://t.co/ZLCUWn8U', '#KejriwalSaySorry', '@TUTULSOTWE', 'HILLA', 'https://t', 'दिअ', 'पग्ले', 'छोध्', 'कोन्', '@MosesSapir', '#Kids', 'Update', '#Muktsar', 'करते', '*********************', 'देन्गे', 'दादि', 'Hamza', 'IST', 'girls', 'M', 'Bangalore', 'Putting', 'आउदि', 'गिर्', 'Big', 'Morocco', 'तान्ग्', 'घन्ते', 'dal', 'मनिश', 'Shivling', 'षुब्', '#CivilWarTrailer', ':P', 'RBI', 'ज़ये', 'http://t.co/w5I8s8xw3C', 'जुन्ग्ले', 'launching', '#ShrutisagarAshram', 'तत्ति', '#SLvsInd', '#DalitRights', 'आभियन्', 'कहनि', 'एर', 'mobile', 'Fateh', 'aree', 'Morarji', '@DiljotInsan', 'नेगि', 'Dhenkanal', 'एस्', 'drunk', 'Priyanka', 'थेर', 'has', '@shuvankr', 'Acting', '67%', 'Nitin', 'ढो', 'Eक्', 'Sudana', 'Happpyyyyy', 'मान्ग्', '#SalmanForRio', '#Spiderman', 'लर्कय्', 'Names', 'centiment', 'morale', 'your', 'पुरि', 'This', '@21century_kant', 'https://t.co/HEEUSsTmg7', 'pass', 'Afridi', 'देख्', 'Bःआडाई', 'I', 'ळोग्', '@join2manish', 'ख़्हलि', 'Admission', 'HC', 'Michel', 'Modi-Sharif', 'प्र्', 'going', 'Batman', 'Kolhapur', 'kitchen', 'Our', 'दिखयेन्', 'भर्ति', '#mattcutts', 'आअन्सु', 'https://t.co/T2zPT1qlic', 'Bहयिअन्', 'Nitish', 'थोक्', ':-/', 'ऱ', 'बेति', '20', '#ChennaiFloods', 'SUBSIDIARIES', 'Omg', 'धून्ध्', 'april', 'RUDRABHISHEK', 'Amitabh', 'वाले', 'फ्र्', '@NautankiNinja', ':p', 'Shakira-', 'catch', 'dead', 'डिल्ल्', 'निकल्', 'recollect', 'ह्मरे', '#pakvsind', 'The', 'semi', 'ALUAS2Ni', 'Manoj', 'contribution', 'dialogue', '3', 'Last', 'ग्ग्यी', 'commentator', 'Bछ्गिरि', 'CONGRATS', '@IndianRailMedia', 'औकात्', 'आखिलेश्', 'ex', 'छेन्नै', 'Bहग्वान्', 'गुस्स', 'लन', 'violently', 'कत्रिन', 'Kondagattu', 'victories', 'better', 'Lov', 'ख़्हय्यम्', 'February', 'यर्', 'Well', '^_^', '@MahnooriAhmed', 'हवल', 'षतकम्', 'वलय्', '#ठन्क्य़ोउषचिन्', 'आप्नि', 'पस्स्', 'superb', 'Urdu', 'PMOIndia', 'Kripya', 'नहि', '@SRKsWarrior2_', 'compromise', '@ATSBB', \"India's\", '@DhuanDhari', '@Atheist_Club', 'बनय्', 'pakoraas', 'Ya', 'news', 'kevi', 'Both', 'Warriors', 'through', 'condemn', 'Sisodia', 'Pitaji', 'Do', '#IndVsBan', 'Prof', 'Masla', 'Khandelwal', 'Superman', 'https://t.co/iO1FNSTE60', 'ंअज्बुर्', 'public', 'Bअदमि', 'http://t.co/ssTDoxRQ4h', '@TrollKejri', 'टुम्हे', 'go', '@BollyMention', '#Sarrainodu', 'opener', 'garden', 'driving', 'Tear', 'living', 'answers', '@virendra1602', 'Jindige', 'crore', '14th', 'रह', 'Nilgiri', 'ष्रिनगर्', 'comes', 'PIB_India', 'shimla', 'आलम्', 'Chicken', 'A', 'Eत्ने', 'Dlhi-Rudra', 'https://t.co/mfefsJm', 'Have', 'paradise', 'षर्दश्रम्', 'बदे', 'http://t.co/BxyeDMqMMn', 'Nashik', 'धन्ग्', '@KalaYadav3', 'cutuuuuu', 'floor', 'तबाहि', 'fouj', 'Janakpuri', 'कुदियोन्', 'would', 'https://t.co/yEqckOCvLG', 'कनैह्य', 'पवन्', '@uzma_sarang', 'Rudraksh', 'Desais', 'Muhajirs', '#AfterTakingTwoPegs', 'सज़ा', '@णितिश्ख़ुमर्', 'trade', 'wherever', 'इन्सानो', 'let', '@Bअक्वस्ऱदिओ', 'ख़ल्पेश्', 'mandir', 'plants', 'doc', 'sandar', 'होउ', 'बस्', '@sud_tyagi', 'gujarati', 'Ceat', '#ModiScaredOfSonia', 'with', 'Palmyra', 'थीक्', 'बनते', '@santravendor', 'ंअनोहर्', 'ःअस्', 'छ्हत्तिस्गर्ह्', 'its', 'Bऔरहब', 'नेइ', 'देगि', '-', 'http://t.co/794rg85iQO', '#Periscope', '#food', 'जैसे', 'Havana&Japa', 'Hazrat', 'Ganeshay', 'https://t.co/Rj28tmp5oQ', 'chintan', 'itself', 'gas', 'Temples', 'Vidya', 'http://t.co/ePfEN6Cf1l', '#RjAlok', 'ंएहक्', 'How', 'षुन्दरि', 'हथोन्', 'https://t.co/cIvC4Cjv6n', '|', 'Program', 'आबे', 'धय्न्', 'ग़ुलाल्', 'ज़देज', 'irregularities', 'wrongly', 'Fantasy', '@bcci', 'Cinemas', '@nadia_760', '@SrkSaroz', 'भाग्', 'Impossible', '@prek_rk', 'sanvidhaan', '@SankalpSharan', 'अग्ले', 'clinics', 'DeshGujarat', 'ख़ो', '@toi_pDasgupta', '@rameshsrivats', 'Shameful', 'does', 'Marramay', 'rudrah', '100/150', 'पुकर्ने', 'Nepal', 'सम्झय', 'पगल', 'गिर्ते', 'Mulayam', 'Mahimn', '@KiranKS', 'शोत्', 'णहि', '@TrendsPune', 'literature', 'च्लेन्गे', 'Virar', 'second', 'thanks', 'These', 'आहब्', 'Eश', 'मेरे', 'She', '@अत्लेतिदेकोल्कत', 'ख़ल्कि', 'दो', '-टुझे', '#unionbudget2015', 'Gurukul', 'Pअर्वति', 'hottie', 'षर्दर्', 'भोत्', 'chestadu', 'डे', 'Everything', 'inform', 'विकल्प्', 'https://t.co/jk8C2HRuQJ', 'ग़ये', 'incrse', 'यहिन्', 'batting', 'साम्ने', 'Brute', 'trending', 'दोनो', 'chutiyapa', 'Bring', 'ग़लेय्', 'Bअच्चन्', 'himself', '-->>', 'change', 'तरह्', 'Shubham', '???', '#Supreme', 'rice', 'पनि', '@TheRahulMehra', 'pressur', 'ईस्सि', 'विचर्', 'नाम्', 'retire', 'Uttarakhand', '@rahaf_rifa', 'Rangers', 'participate', 'जा', 'Superb', 'आज़ादि', 'BहैBहै', 'Team', 'चहिये', 'http://t.co/HrJ', 'MERE', '#INDvsPAK', 'GAAND', 'Mandar', 'ख़्E', 'ख़र्तिकेय्', '2R', '@ShankarNaresh1', 'Delicious', '#AxisBankAd', '#TheBlissfulPeace', '#KXIPvMI', 'tragedy', '#RSSQuestionsTeresa', '@AltruisticPooja', 'Sousa', 'banjao', '#MaggiBan', 'Degrees', '@ImranKhanPTI', 'Masjid', 'du', 'issue', '@kritisanon', 'move', 'https://t.co/hID75opFyz', 'discussions', 'http://t.co/2', 'ModiSarkar', 'जीत्नय्', 'https://t.co/CeRNXiAVYp', '#RestInPeace', 'Independence', 'सब्', 'becoming', 'Chennai', '@कबिर्खन्क्क्', 'Kanda', '@Utsav_Atre', 'Aditya', 'https://t.co/yOgUDO6CqN', 'Golpo', 'अप्कि', '#KorboLorboJeetbo', 'LEAD', 'HAWAN', 'Marraige', 'राहि', 'आअप्के', 'nutshell', 'grace', '#IndianizedKingdoms', 'praised', 'आर्पन्', 'णथ्', 'Andhaka', 'Mithoon', 'Simply', 'षौरभ्राज्', 'Gambhir', 'https://t.co/9oJtqsQERr', 'https://t.co/eegdts4Kf8', '@TOIIndiaNews', 'ल्ग्य्', 'initiated', 'य़ेह्', 'आअत्त्त्त्त्', 'Zee', 'पियू', '#RailBudget2', 'many', 'piece', '@६५थकुर्सहब्', '@MANJULtoons', 'http://t.co/7xeEi8eaOv', 'Emaar', 'क्यु', 'Deals', 'brand', '||', 'Final', 'आअ', 'समय्', '#AskMR', 'pramaan', 'Waking', 'खास्', '@ArifeenIbad', 'https://t.co/JNjvrGzOzT', 'https://t.co/RK3yFhYSg4', 'inspired', '@IndianExpress', '@TCNLive', '@saswat28', 'भैअयोन्', 'ळी', 'Utpatti', '#HeroISL', 'an', 'दिल्जित्दोसन्झ्', 'चवल', 'ब्तओ', 'षोभ', 'sweeeet', '@HTMumbai', 'that', 'रे', 'avg', '#PCB', 'funeral', 'Enemy', 'Test', 'Raangu', 'music', '#TheIrfanism', 'लिख्ने', 'Madad', '#IndVsPak', 'कर्मून्', 'We', 'ःई', 'Bःआई', 'Greater', 'unabated', 'z', 'यह', 'http://t.co/VGca4DeiDY', 'Wओ', 'ंओहन्षक्ति', 'Sringaar', 'Shivay', 'सेहेर्', 'mumbai', 'gives', 'lol', 'Parchy', 'done', 'टेवर्', 'पतये', 'उत्तर्', '@AadhiOfficial', 'Economy', 'Nbdobariya', 'षाल्', 'Train', 'ALL', 'troops', 'chairman', 'love', 'every', 'ख़शि', 'hung', 'लूत्', 'holiday', 'own', 'गन्ग', 'anthr', '#TanuWedsManuReturns', 'तोउ', 'wash', 'https://t.co/n9G4Bdq77V', 'between', '#BudgetForAchheDin', 'Board', '@richaanirudh', '#Manjhi', 'https://t.co/3wM201NSeH', 'Bangladesh', 'ummeed', '@CricketNDTV', 'MLAs', 'adarsh', 'आअर्ति', 'SonyTV', 'mufler', 'Mosquito', 'वल', 'रहत्', 'happening', '@BajpayeeManoj', 'ख़ाल', 'खोल्के', 'Separately', 'Ravindra', '@SomeGoanGuy', '@RealHistoryPic', 'आप्क', 'MUTP', '#raees', 'षरोवर्', 'हैन्', '@दीस्पेअक्', 'establishes', 'hatch', 'player', 'ष्वेत', '#ःअप्प्य्Bइर्थ्दय्ष्रुतिहस्सन्', 'Played', 'छ्हुत्ति', '123%', 'towards', 'Passenger', 'ITNlive', 'जित्ने', 'girlfriend', '#ModiSlapsChina', 'ळौघ्तेर्', '@iam_str', 'टुम्हरे', 'ब्च्', 'lunch', 'पेद', 'तेरे', 'णाट्ः', '1Karod', 'two', '@ChouhanShivraj', 'sandy', 'https://t.co/D07r9bFW5r', 'Maharaaj', \"won't\", 'PAPA', ':(', 'Shobaban', 'Ultimate', 'Mahashivratri', 'l', 'happened', 'raise', 'http://t.co/EJad1fdDci', '#AFGvWI', 'Sec', 'बतय', 'Bangladeshi', 'Pअल्', 'vicious', 'Bहरत्', 'ळद्किय', 'Approximately', 'shropshirestar', 'speed', 'ज़रूरत्', 'A6', 'saraa', 'citizens', '@PadmajaJoshi', '@StarSportsIndia', 'house', 'शयद्', 'टेरे', 'Kingfisher', 'TweetsNow', 'ख़र्तर्', '@shrishtimona', 'Mela', 'mean', \"Who's\", 'यो', 'CORRECT', 'Should', 'face', 'स्ब्को', 'SF', '@LawmanPg3', 'http://t.co/J6L8Y4QmZb', 'ंअस्तनि', 'https://t.co/iTvPYKXjKD', 'twitter', '@PIB_India', '@Samanthaprabhu2', '#SoniaG', 'लि', '@IAmSudhirMishra', '@taslimanasreen', '@alluarjun', 'आइये', 'https://t.co/VmQVWew1KA', '#Grahanam', 'टेन्दुल्कर्', 'हमारेय्', 'Bhairon', 'Ramiz', 'PAPAJI', 'were', 'crime', 'सद', 'देख्न', 'somone', '@friendscongress', 'Sarankul', 'आप्कि', 'Ankurgee', 'अक', 'Temple', 'phone', '@CricBellz', 'http://t.co/v3zbMi7uDi', 'Clicked', \"I'm\", 'Fiverr', 'sweetheart', 'Bआं', 'गा', 'BRODRY', 'Yesterday', '@zzoker', 'pic', 'announces', '->', 'semifinal', 'गए', 'और्', 'woman', '@laidback1954', 'MoS', 'Waahhh', 'ंउखि', '@MyCMKejariwal', 'मज़', 'षुवमि', 'मरेन्गे', 'hindus', 'research', 'make', 'swarg', 'Half', 'dual', '@HinduRajyam', 'ईज़त्', '#ख़िकुषर्द', 'आर्नब्', 'Post', '#BudgetBT', 'मत्', '#seafood', 'सोन', 'Jaitley', '#Indianmedia', 'irrefutable', 'Swaraj', 'सरि', 'disqualification', 'So', 'siddhu', 'ःअर्नय्', 'waste', 'Magazine', 'https://t.co/l9HbDy1hIW', 'उस्ने', 'childhood', 'therichirukku', 'fares', 'साहिल्', 'Sufism', 'family', 'derailed', ':', 'https://t.co/0vOwIqg2NJ', '@arunvipra', 'Alive', 'win', 'ळल्को', 'Vrat', 'dyy', 'Cant', 'बिल्कुल्', '@MaheishGirri', 'charger', 'votes', 'Wtf', 'kept', '#Ujjain', 'opportunity', 'J&K', 'thnku', 'Murderous', 'उद', 'sureshprabhu', 'ppl', 'depend', 'Kriti', 'proof', 'citizen', 'एक्', 'Say', 'zAdani', '@abhisar_sharma', 'Revamp', 'करम्', 'original', '\"', 'blindly', 'hungry', 'इन्क', 'सिर्फ़्', 'ज़्यद', 'आबीईए', '#winners', 'activist', '#Delhi6', 'शह्', 'C2', 'रात्', 'sides', 'Chandramoulishwara-1st', 'भिखरि', 'lines', 'ख़थ', 'https://t.co/jFeTTZUR07', '#IndiaWins', 'min', 'OUT', 'controversy', 'Guruji', 'Anthem', 'Code-', 'shift', 'Zuckerberg', 'nos', 'परम्', 'आछ्B', '@कमाल्र्खन्', 'ज़पनेसे', 'वन्नरपेत्तै', 'demanding', 'जेसे', 'empower', 'षवरि', 'Downtown', 'raina', '@chandu532', 'ज़ाये', 'हत', '@DrKumarVishwas', 'https://t.co/AUINRKpdWp', 'हुम्ने', 'टुम्ने', '@amitsultania11', '@FBkaBaap', 'केह्', 'देख', 'railway', 'चेतन्', '@CaptAbhimanyu', '४०', 'Roit', 'https://t.co/wK3v0DIErd', '2012', 'ज़वानि', '1100', 'mamu', 'डेते', '@justbeauty18', 'https://t.co/WTm1HoKvBy', 'lifts', 'बद्ल', 'TRP', 'हुमे', 'हद्', 'ज़ेथलल्', 'https://t.co/hx35zQi0Dk', 'Janardan', 'नलयक्', 'DS', 'decide', '@सगर्चस्म्', 'KPK', '@Quora', 'cleaned', 'institute', 'Soniaji', 'http://t.co/iNe3qJVdtL', 'Hall', 'Jyotirlingas', 'filed', 'तक्ष्', 'दबि', 'Krishnan', 'harp', '@InshaMalik_1', 'guru', 'ष्', 'students', 'ंअहलक्श्मि', '@rsprasad', 'Win', 'ज़्ह', 'Bअब', 'InshAllah', 'ज़ल्दि', 'twisted', 'withstood', 'डरिया', '#AsiaCupT20Final', 'Paudwal', '@armaankohli', 'जनेमन्', 'Him', 'आरुन्', 'ill', 'https://t.co/R0lTcnQXKd', 'मुल्को', 'कम्न', 'पर्वति', \"Raina's\", 'पकद्', '#MSGsuccessCelebration', 'Ppl', 'बच्चन्', '@Faller18', 'proving', 'गर्', 'revered', 'finally', 'lovers', 'fool', '#ठेरि', 'बनने', 'निरल', '@Imab1d', 'Punjab', 'allowed', 'states', '@sureshnakhua', 'उस्', 'तौ', 'aunty', '#JusticeForJisha', 'ends', ':O', 'https://t.co/yyblevhw4b', '@wokthiswayindia', 'Payers', '@kenanmalik', 'https://t.co/4aKhSFYeMM', 'जित्', '@nimrah307', 'ज़ुस्तुजु', 'https://t.co/KbgI9ueEFZ', 'आर्फ़', 'die', 'cricket', 'marriage', 'Bअलोचि', '@SRKsCombatant', 'देखियेग', '.....', 'politicns', 'not', 'Bस्', '@Naina67708743', '@आर्विन्द्ख़ेज्रिवल्', 'हारे', 'Zइम्बब्वे', 'दन्द्', 'खने', 'चीनि', 'चले', 'zombie', 'BBC', 'शुभ्कम्नये', 'Airtel', 'challakutty', 'daughter', '#mahanadi', '@HarishK25173278', '#InsafianTheLosers', '@nandu_maharaj', 'conference', 'Brothery', 'Vehicle', 'T6', 'was', 'Hindus', 'short', 'organiser', 'वि', 'vanda', 'उससे', 'Shivai', 'costlier', 'Chandrababu', 'https://t.co/sMUG3Lfz76', 'मार्', 'Celebrations', 'buffalo', 'Govind', 'जते', 'whos', '@shivangireviews', '@shikhakotak', '#NFAK', 'terror', 'Route', '#BlessingsOfMSG', 'notch', 'Vikas', 'खेल्ने', 'वर्', 'officer', 'awesome', 'Professor', 'Sidhu', 'बेइथ्के', 'निश्कसित्', 'आय', 'educated', 'martial', 'no', 'कनून्', 'मुफ़हिमत्', 'ळन्क', 'Public', 'MAHASHIVRATRI', '#ArtOfLiving', 'अछ', 'http://t.co/XmNEHf6twP', '@pavan1230', 'लोगोन्', 'दिवन', \"Bहर्द्वज्'स्\", 'Sivaay', 'क्य', 'Chidambarams', 'होजये', 'Majithia', 'Beta', 'namoh', 'चवल्', 'trust', '500', 'grosser', '2,800', '25', 'कहे', 'https://t.co/ueR6DS3KpY', '#WontGiveItBack', 'आउस्', 'http://t.co/CRrv736Tfr', 'areas', 'guess', 'ऊनि', 'Girlfriend', 'करेगे', 'League', '#Awakening', 'automatic', '@Being_Humor', 'Vaaimai', 'https://t.co/uYmqNjNmG0', 'Gully', '@MTR_Dishcovery', 'Sivam', 'Pranam', 'भ्त्', 'मेने', 'णमाज़्', 'Jangpura', '@MIB_India', '@NtvteluguHD', '#DelhiDaredevils', 'Swasthya', 'https://t.co/bBk1e6H7jP', '@ashutosh83B', 'http://t.co/1zctb9vG3d', 'taken', 'so', 'namah', 'govt', 'huh', 'again', 'Namo', 'Match', 'क्रैन्', 'होन्थ्', 'Nazir', 'surrender', 'ShivG', 'http://t.co/vv205SFeyR', 'Srabanti', 'headquarters', 'मौके', '#MoukaMouka', 'Jadeja', '92.7', 'Tarek', 'छुम्म', 'ahead', 'more', \"AB's\", 'गो', '#CAGExposedGadkari', 'र्खो', '@bharat_builder', 'Tanmay', \"Khan's\", 'exam', 'available', 'Share', 'Bहाद्', 'तरीफ़्', 'Tweet', 'Similarity', 'मन', 'ministries', 'They', 'क्यो', '2019', 'भैया', 'temples', 'yung', 'Hence', 'https://t.co/cIONRMjVeY', 'आगर्तल', 'टक्', 'चलेगि', '@kitAnurag', 'रहि', 'Madam', 'रही', 'डेवर्', 'Pहल्के', 'डर्द्', 'cc', 'युन्', 'ग्यि', 'brought', 'JACOBABAD', 'government', 'दीश्', 'port', 'kind', 'शर्मिन्द', 'तोद', \"Kejriwal's\", '@hungama_com', 'rules', 'bill', '#FarziDegreeModiKi', '#SultanKiJaan', 'रहे', 'Fenkte', 'L/O', 'http://t.co/cOz', '@mohituraina', 'BT', 'muffler', 'Oम्कार', 'नज़रे', 'BSF', 'आयेन्गे', 'वलो', 'heavens', '@Fअल्गुनिऱन्पिसे', 'Vइश्', '112', 'युहि', '#gizelethakral', '@sunnysingh_nw3', 'षर्दार्', 'Pollution', 'पगल्', '@dheeruinsan', '#SoniaRahulHazirHo', 'INDIA', '/mismanagement/nonsensical', 'Sidharth', 'March', '@rajeshminocha', '@Finelychopped', 'Bअज्', '@VaishnavDevta', '@AB_Ali714', 'सय्', 'कम्नये', \"Singh's\", 'only', '#PakArmy', 'SC', '#Oscars2015', 'फिर्', 'SHIVSHANKAR', 'जाओ', 'back', 'ख़र्थिक्', 'Sharing', '#RahulgramTaparian', '#MumbaiTaughtMe', 'https://t.co/jNukORt9n2', 'Kalindee', 'Andhakasura', 'itemized', 'हुमेस', 'षाद्गि', '@praveenpandram', 'marines', 'खओ', 'Haryana', 'बलन्चे', 'Srisailam', 'gets', 'ब्त', 'आह', 'ब्स्', '@TeamChak', 'whats', 'DeviSharadambika', 'benchmark', 'Ashsram', 'Deepali', 'जए', 'http://t.co/1a7m8iN4te', 'https://t.co/uoqtXRF', 'हा', '@Shah___Khan', '@AShetty84', '@डारुBआज़्ंएह्त', '@टजिन्देर्Bअग्ग', 'ह्क्', 'modiji', 'Follower', 'ख़्हन्', 'तोरे', 'majlis', 'Without', 'पेय्', 'सुन्न्', 'थोरि', 'disqualified', 'ंईन', 'बध्', 'rang-e-haath', '05/05/2015', 'Bअलोच्', '@abhijix', 'क्', 'sick', 'चलो', 'Tuesday', '@ritesh_sid', 'कह', '@Yamininisha30', 'am', 'पैद', 'tender', 'in', 'overnight', '#mahashivratri', 'परिवर्', \"chief's\", 'http://t.co/bv2yLRU8O8', 'sweeet', 'जान्', 'छोते', 'famous', 'Techie', 'Thanku', '#ScamQueenOnRoad', \"Vअज्पयी'स्\", 'मेह्न्त्', '#Sunshine', 'आप्रम्पर्', '#banphantom', 'fhodu', 'त्य्रे', 'Srilanka', 'comeback', 'Sigh', 'Is', 'should', 'see', 'Worth', 'चलै', 'ःउम्ःऐन्णाषोन्य्', 'दुस्र', 'Pअह्ले', 'B+ve', 'आरचकम्म्म्', 'Lets', 'टेर', 'G', 'things', 'चोद्ते', '@firstpostin', '@sagarcasm', 'Mangeshda', '#MSG2RocksPunjab', 'able', '#PakistanCup', '@ष्र्Bअच्चन्', 'OK', 'सकेन्गे', 'side', '#LahoreQalandars', 'Bअसह', '@arshi_yasin', 'ginunga', 'अधर्म्', 'कहन्', '#IndvSL', 'hetu', 'Volunteers', 'पैस', 'बधय', 'गाअ', 'Italian', 'सब्को', 'https://t.co/TBahxL36kD', 'comments', 'तुने', 'ढोति', 'agn', 'Eत्', 'Vedhalam', '#bangladesh', 'sey', 'होके', 'BःOळ्E', 'आआड्ंई', 'Pहिर्', 'Photos', 'cal', 'मर्', 'Kerala', 'Teacher', 'us', 'apply', '@ऊज़्ख़्हवज', 'ळतजि', 'react', 'photo', 'दद', 'superman', '@Clawalpha', 'जत', 'No', 'Dhoop', 'humming', 'wishing', 'pistol', 'retirement', '@123telugu', 'https://t.co/9yic9QbbtH', 'राह्', 'gunfire', 'Aisy', 'आउस्त्रलिअ', 'https://t.co/ndy7q9Hzgf', 'Nandini', '55', 'disgraced', '@Retributions', 'य़', 'Dalal', '#HopeOfPunjabKejriwal', 'बनि', 'obama', 'षत्गुरु', 'SuyashInsan', 'max', 'पहुन्चे', 'song', 'PARVATI', 'University', 'http://t.co/4wCJMcFv4L', 'locations', 'chants', 'Sreeja', 'Reports', 'sung', 'षिवाल', 'http://t.co/bQGmroG9eU', 'https://t.co/tuO7XRKsnS', 'hiduo', 'Plaza', 'Balika', 'षहि', 'Maid', 'ऱम', 'watch', 'Mahotsav', 'ख़रोर्-पति', '13', 'ळतुर्', 'टिवरि', 'self', 'ऱख्न', 'Magadeva', 'School', 'हून्', 'followers', 'Bअन्', 'देते', 'Soniya', 'pretend', 'आचर्', 'पस्', '#GodseWe', '#whereisrahul', '@DarshanBangera', 'ordered', 'बैज़्ति', 'complex', 'arora', 'रहिये', 'economic', 'Not', 'CBI', 'fruit', 'दाने', '#excited', '12.07', 'Aavu', 'https://t.co/3jyt1ZUY31', '..??', '@kchowdhury9', 'बाअद्', 'hud', 'benevolence', 'janardan', 'Saeed', 'Sofia', 'तक्षेस्', '@Ankita_Shah8', 'सुभ्कम्नयेइन्', 'षुइ', 'Aree', 'Lull', 'https://t.co/EnUVUDW22A', 'ना', 'http://t.co/bscng4oXJ7', 'unemployed', '#Vadodara', 'FREE', 'praise', '2nd', '#Vadra', 'पहुन्च्', 'Superstar', 'ंइल', 'old', 'षुर्सगर्', 'णयगर्ह्', 'http://t.co/qsX0KiHuaD', 'जाउन्', '@keetliwado', 'पेचय्', 'Lovely', 'गुद्निघ्', 'Balakrishna', 'named', '#WomensDay', 'Ayurvedic', 'mud', 'ऱक्श', 'ळक्ख', 'Pरभु', 'social', 'salute', '#SureshPrabhu', 'सर्कार्', 'nothing', 'Sharief', 'Zअर्दरे', 'https://t.co/EPAaIg5fJu', 'Brahma', 'tips', 'Bहुबनेस्वर्', 'escape', '@A_UoW', 'ज़मीन्', 'Tandav', '@dkbansalin', 'कर्देन्गे', 'विकिपेदिअ', '@षध्गुरुज़्V', 'Career', 'Time', 'products', 'तेज़्', '??', 'permanent', 'लो', 'Sanjiv', 'panoramma', '#Shivaratri', '3000/-', 'Pratap', '@Bहिम्Bअस्सि', 'Style', 'माअ', 'mummy', 'are', 'उस्को', 'Shivay_/\\\\_', 'Lord', 'Bहिखरि', 'standards', 'आदि', '@LungFakeer', '@AAPMagic', 'Opening', 'षोनिय', 'ज़िन्दगि', '@सौरभ्राज्जैन्', 'Chhratrapati', 'Jaimin', 'Zअर्दरि', '#षन्स्कारिछन्दिगर्ह्', 'soon', 'Crab', 'posters', 'lord', 'ever', 'tym', 'रेह्ते', 'Fan', '#Bउर्नोल्ळगओळिब्तर्द्स्Bअचओ', '@zeenews', 'Critics', 'reporting', 'आनुस्ख', 'refusing', 'Non-Veg', 'बक्वस्', 'Telegraph', '@mangeshkarlata', 'http://t.co/qPzDRUxiOa', '@Zइर्घम्Bउखरि', '@madihajihan', 'Fईय', 'regarding', 'fan', 'दुनिय', 'Hospital', 'mails', 'Savitri', 'मुरख्', 'sports', 'Gupta', 'Puja', 'पियरि', 'आअमिर्', 'फ़ुर्सत्', 'who', 'Praveen', 'bettery', 'Augusta', 'Outrage', 'mahadev', 'Status', 'बाहिजन्', 'भे', 'to', 'KUND', '#गुनाह्', 'Dadar', 'global', 'बह्नै', 'Virawani', 'कै', '!!!!', 'follower', 'हुमेश', 'Indraya', 'त्म्', 'land', '@Shareef_Boy', 'सेथ्', 'बेह्क', ':D', 'तोद्', '@Gen_VKSingh', 'suru', 'shows', 'कर्वने', 'मर', 'आयेग', '*_*', 'http://t.co/OC0QWyyZeI', 'left', '#ंअन्न्ख़िBआत्', 'path', '@Navi_Rawat', 'हमैन्', 'mantras', 'converted', '3310', '@SukeshReddyRmur', '#AFGvSCO', '#KKRvDD', 'Ltd', 'अलव', 'Consolation', '@AnkitFearless', 'Spa', 'ंअत्लब्', 'http://t.co/abFHQ7KGjP', 'को', 'Mumbai', 'RamCharan', '@raonabeel', 'Shinzo', 'ASHRA', 'बुन्द', 'sharma', '@HINDUSANGATJCD', 'Bअलेस्वर्', 'मोहित्', 'er', 'told', 'ळल्', 'rail', \"@देरसचसौद'स्\", '#', '@NayakDeep', 'आन्वर्', '@ग़र्गिऱवत्', 'Duminy', 'बधो', 'य', 'ठकुर्', 'Gavilan', 'vacations', 'https://t.co/AmsEDxm1q6', 'नाश्त', '@subhendujee', '#LahoreRisesAgainstCorruption', '@ravishndtv', 'farmers', '#Spidey', '@NationalistNaMo', 'act', 'छक्वल्', 'आअदत्', 'basis', 'Celebrated', 'IIT', 'stays', 'https://t.co/H9rrYYhdIZ', 'ज़', 'panjwani', '#drortho', 'अप्को', 'Ringtone', 'पताके', '@AashishKhetan', 'ग़्यन्', 'Pair', 'Tanna', 'ःअयीए', '@chintanmistry4', '@TimesNow', '@ंईनय्', 'ग', \"Women's\", '#IPL2016', 'तुझ्से', 'लगे', '@SalmanzShona', 'ईस्', 'https://t.co/TnkK', 'Sirsa', 'counting', 'played', '#AsiaCup', 'importance', 'गालियन्', 'जान्च्', 'Nikhil', 'ties', 'वालोन्', 'Dogi(1957', 'Masanam', '@anandpassion', 'Ramesh', 'farma', '@boogerworm', 'चह्ने', 'JAIN', 'सदैव्', 'SIX', 'gym', 'Please', 'http://t.co/hh3sZV1FjF', '@itsSSR', 'enjoy', 'leader', 'उपर्', 'कन्तिलो', 'recording', 'REMOVE', 'नच्ने', 'मिल्ने', 'word', 'आरुनचल्', '#etribune', 'रखो', 'plans', 'OmNamaShivaya', 'ऊन्को', 'whether', 'Singh', 'हमे', 'wish', '@Harysforu', 'Vइर्', 'जुद्न', '@_Rashi__', 'yssss', 'Shit', 'ष्रिश्ति', 'वे', 'ज्ब्', 'care', 'स्ब्से', '@ManishaFan', 'नज़्म्', '@sachin_rt', '@Justice_ORNAB', 'Bअहोत्', 'मुझे', 'ळख्', 'गै', 'e', '@Raja_Sw', '5sec', 'http://t.co/6XLpjt', 'well', 'गल्ति', 'Bcoz', 'scam', 'statement', 'ग़ब्बर्', '#madhuridixit', '8527745669/01242570669', 'super', 'Shiv', 'echoed', 'Dont', 'Victory', 'मुबरक्', 'ajay_vora', 'https://t.co/ziv5JNgnDA', 'BCCI', '@ख़्हन्ंओबीन', 'जश्न्न्', '@वैब्य्सय्स्', 'नश्', 'travel', 'चहे', 'गद्बद', 'Approx', 'धोते', '1-0', 'Azam', 'Yojna', '@imdpk007', 'West', 'Charts', 'Suppa', 'Tumakuru', 'Maneka', 'http://t.co/nIAhdjpzbI', 'Hahahaha', '@सत्यविजयि', 'Mann', 'वल्', 'rly', '@KejriTrolls', 'कर्ने', '#Rabada', '@janimynk', 'https://t.co/hivfuI3I2n', 'HYD', 'डिल्', 'Gujarat', 'http://t.co/2o0ljvHbNN', \"''''\", '@NaIna0806', 'Different', 'ir', 'आएवम्', 'ज़ोह्न्', 'ंअहदेव्', 'lead', 'Go', 'Pogo', 'N', '#KGn', 'बब', 'answer', '@lksinsa', 'https://t.co/5ASOsPK9u0', '@इत्स्अयेशा', '#AskRaina', 'आअलु', 'षे', 'Sirraaa', 'kuple', 'speech', '@अखोपेकर्', 'द', \"tomorrow's\", 'milege', 'ख़ी', 'Trupti', 'hy', 'thanku', 'उन्हे', 'top', 'Vajra', '@shailesh', '@raggedtag', 'America', 'https://t.co/lLHmul3Wux', 'http://t.co/br4crUkkbS', 'pet', 'under', 'euphoria', '@mrsfunnybones', 'if', 'Shahid', '#Odisha', 'Vअन्धले', 'canten', 'हरेग', 'भिगो', 'https://t.co/qnP75AVAsS', 'day', 'Gopal', 'jst', '@tonni263', 'murder', '@rajni77777', 'safest', 'अल्विद', 'very', '**', 'hmm', 'idli', 'जय्दिप्जर्सनिय', '15', 'helpd', 'Bहग्वन्जि', 'PM', 'Rahul', 'business', 'My', 'Ghatlodia', 'damage', '@ScoopWhoop', '@JasdeepInsan', \"Jadeja's\", 'Kullad', '@ImVKohlisAngel', 'Manjari', 'ंआडाऱ्छ्ःOड्', 'SHIVAI', 'zillion', 'अचे', '#Mahashivratri', ':\\\\', 'Bअजिरओ', 'अन्श्', 'script', 'schedule', 'Bअद्नस्सेब्', 'Pratyusha', '@ShivAroor', '#EhsaanFaramos', 'youngest', 'Bहग्वन्', 'तुम्ने', 'ft', 'SAAARA', 'ऱज्', '#षलुतेटोषत्नम्ज़ि', 'Dost', 'https://t.co/DQ6LWeTUUf', 'ViralsDaily', 'All', '@Viratian05', 'होग्य', 'scared', 'थलि', '1800s', 'Patwaris', 'Cautious', 'comTelford', 'Gangadhar', 'Goodwill', 'http://t.co/KUNbE8kU9R', 'ःऐ-', 'सद्को', 'There', 'ऊस्स्कि', 'खान्सिवाल्', 'ख़्', 'हश्तग्', 'https://t.co/OP3AcfNhLk', 'Ballay', 'आआPणजफ़्गर्ह्', 'yayyyyyyyy', 'http://t.co/3KxVwAqn95', 'आज्', 'trailer', 'test', 'जाप्', 'Hindustani', 'ळहोरे', '@mariam_tahir5', 'loss', 'य़े', 'sapada', '#WhereIsRahul', 'कत्न', 'http://t.co/isAIm9itAm', 'vote', '#धवन्', 'Remembered', 'http://t.co/vGqM5rBd0X', 'loves', 'फ़ल्तु', 'Arnab', 'Panel', 'उन्हि', 'ःआWआण्', '1980s', 'Vansda', 'बेथ्', 'हवै', 'Deny', 'थोदि', 'date', 'उस्क', '@exasperating_', 'Shareef', 'Pऊज', 'ःउमे', 'र', 'base', '#mumbairains', '#MSGmissionHumanity', 'Of', 'काल्', 'Individual', 'true', 'ABVP', 'Bआर्', 'm', '#photos', '@अघोशल्', 'खतम्', 'strength', '#DDvKKR', 'billion', 'केने', 'sinha', 'Modiji', '9', 'Salutes', 'षर्प्', 'वो', 'वस्त', '@Pyaari_RiTu__', '@iHrithik', 'facility', 'fast', 'space', 'https://t.co/wq73iDxa5T', 'wapis', 'Where', 'http://t.co/xMhhsKrpBV', 'Choice', 'sadomasochism', 'discuss', 'feeelings', 'http://t.co/NA79ghBMFx', '#pak', '@देरसचसौद', 'cou', 'वजसे', '@AAPlogical', 'Shtotra', 'disrupt', 'सूख्', 'World', 'दा', \"#Modi's\", 'damad', '@1AhamSharma', 'Puducherry', 'Its_Sstar', 'Bएत', 'fr', 'फ़र्याद्', 'http://t.co/9daj7A0mrn', 'मुझ्से', 'आग्ये', 'दव', 'greetings', '@PMOIndia', '@hennaav', 'ऱज़', 'बन्द', 'Panchalingeswar', '6', 'roles', '#WC2015', 'stars', '@अस्कुबुस्क्', '@Nagendr_Sharma_', 'mohamed', '@DelhiPolice', 'leading', '@kunj_desai', 'Advice', 'anti-India', 'Edge', 'portal', 'कोए', 'enjoying', 'ति', 'at', 'shiva', 'Whats', 'Rajendra', '@Juuism', 'मिलि', '@MuhammadHasanAz', ':)))', 'Villiers', 'Doston', 'even', 'shoot', '#RespectResea', 'ऊस्क', '@timesofindia', 'देव्', '#AAPSweep', 'https://t.co/d31WWxdEDx', 'future', 'आबेय्', '@confusedbf_', 'लोग्', 'Muchh', 'मके', '#IndvsWI', 'ELLE', 'grnd', 'onion', 'ये', '#AIADMK', 'been', 'ग़्हर्', 'partnerships', 'Bअत्', 'Divine', 'किजिये', '@shubhansh1504', 'https://t.co/DUlcQ0U25L', 'SurekhaInsan', 'शै', 'Bokaro', 'put', 'listening', 'UNSFP', 'ऐस', 'ज़ए', '@smitabuch', '#priyankachopra', 'Hot', 'शिवये', 'Official', '@sarvjot19972', 'days', 'https://t.co/BGQBPn9n1X', 'Tmrw', 'today', 'probably', '#MustWatchMSG', 'ढन्', 'गयब्', 'लत्तू', 'Shivdasani', 'तेर', 'FM', 'Under', 'कौशम्बि', 'Semifinal', 'Subramanium', 'Sanskrit', 'ख़ेज्रि', 'प्क्', '@ShoaibDaniyal', 'आयेगि', 'किनरे', '@ShazooQureshi', 'rejects', '@Puja_FC', '#Amethi', 'Personality', 'अच्चि', 'हुमरे', '@SonyTV', 'Thiem', '@RoflGandhi_', 'or', 'दोस', 'rangeele', 'batsman', 'haha', 'प्यर्', '@Rahat_Raina', 'tells', 'मर्ते', 'Ok', '@MrsGandhi', 'militants', 'http://t.co/wlEypxmWrd', '@BrokenCricket', 'नज़र्', '@TOIEntertain', 'टुम्', 'https://t.co/PCye4BOoWq', 'ज्यद', '@Narendra_IRTS', 'Papa', 'Marina', 'matter', 'ःआर्', 'Hahaha', 'चलु', '@BishanBedi', '9618313276', 'https://t.co/yexQUWZ3kp', 'ब्धै', 'accuired', 'आआ', 'clean', '#BossTha', 'Shetty', 'lying', '.,', 'Hindutva', '2', 'Khaitan', 'आभि', 'षुभ', 'thn', 'ATB', 'eToro', 'ढोनि', 'Tips/Guidance', 'अबि', 'arrested', 'ंअत्', 'क्र्स्क्त', 'congo', 'Bअतये', '@_kanwardhillon', '#12YearsOfMainHoonNa', 'अफ़्घन्', 'Singer', 'Clapping', 'जित', 'Chinese', 'ऐसि', '#RIPEnglish', '@missionbihar', ']', 'Irrfan', 'stooping', 'medical', 'आपिये', 'Said', 'कहि', 'first', 'अति', 'Rain', 'baweja', 'Feli', '@thekiranbedi', '#INDvIRE', 'https://t.co/RRJZfLpZiE', 'screening', '_/\\\\_', 'Crore', 'comedy', 'actual', '(Akali-Congress-BJP)of', '@LoveableNancy', 'lumding', '#NaMo', 'whose', '@nalinisinghtv', 'Cigarette', 'service', 'solution', 'policy', 'मिलेय्', 'ज़ग्ग', '@S1NNGH', 'ज़ने', '2800', 'some', 'होसल', 'Pooja', 'Pअरेशन्', 'Pervez', 'sonia', 'firecrackers', '***', 'imagine', 'ंए', 'https://t.co/bBIZ683jde', 'village', 'shots', 'https://t.co/gpzV3SkEax', 'ःअर्यन', 'singh', 'Tanwar', 'Google', 'उस्सेय्', '३ग़्', 'bapu', 'omgggggg', '#LandAcquisitionBill', 'यत्र', '#special', 'ऊन्के', 'Sinha', 'http://t.co/BnEZj0PYqp', \"Gandhi's\", 'raman', '#Indvspak', 'Girodhpuri', 'sedition', 'MIB_India', '@ःअश्षिधु', 'task', '@AgentSaffron', 'Chaluuu', 'षुल्तनि', 'Hahhahaha', 'इन्को', 'म्', '1/10', '@india_samvad', '@chandan9438', 'Jaipur', 'कम्', 'nimrat', 'थोखो', 'पिते', 'लेप्', 'चक्कर्', 'Bओले', 'PETA', 'a', 'बेत', '@Bluemagicboxes', 'दोबर', 'Valentine', '@anuja_swamy', 'रहो', 'साब्', 'रेह्न', 'Simon', 'CAT', 'पै', 'लेय्', 'खा', 'ammenities', 'चै', 'native', 'born', 'तकेर्', 'HD', '#Baywatch', '@umar96akmal', '#ZalmiRocks', 'product', 'जन्म्', 'आमितभ्', '@kapilv20012001', 'ंइय', 'Place', '@OpIndia_com', 'simran', '#disgusting', '@Dishasatra', '#dillikiski', '#Aaptard', 'reacting', 'अह्म्', 'न्', 'ज़िन्द', '@midwestmoviesus', 'https://t.co/YyVDA0H6fP', '@vicky99564', 'T', 'hestune', 'Timelapse', 'Sankirtan', 'मिल्क्', '@1ost__', 'रहेग', '@HaramiParindey', 'हतेगे', 'http://t.co/5gH2KPZ5h3', 'career', 'nation', '#BecauseOfBabri', 'दय', 'https://t.co/kPTckL4wNI', 'case', 'Selfie', 'celebrations', 'help', 'every1', 'Indeed', 'मीथ', 'भेज', '#ण्हये', '@iG_Butt', 'http://t.co/58QViswtmL', '@drshraddha16', 'षुभ्कम्नयेइन्', 'http://t.co/VWfHZlHsPy', 'CanvasJS', '#CWC15Final', 'Pradhan', '#ःअप्प्य्', 'Bहोलेणथ्', 'ख़रे', 'दिये', 'तलेन्त्द्', 'team', 'class', 'Ajmal', '@ImRaina', 'RCC', 'https://t.co/b7VyI6ccD6', 'https://t.co/MkRvbNY4VW', 'तक्', 'ग़य्ले', 'Has-Tag', 'मुअ', '#200DaysMSG2', 'लेते', 'षलो', 'track', 'Ghandhi', 'hear', 'देग्री', 'छुतिय', 'batsmen', 'O', 'beefed', 'https://t.co/PCAajl30Qr', 'challenging', 'Wऐसे', 'Sarfaraz', 'HUL', 'ढोयेन्गे', 'Market', 'receives', 'तेकेग', 'टमम्', 'जायेग', ',,,,,,,,,', 'personalties', 'Wishes', 'asafoetida', '@gautamverma23', 'engaged', 'ख़्य', 'Another', 'SHRI', 'आत', 'Om', '@anjali_18_rasik', 'Bravo', 'btwn', 'accused', 'पध्ते', 'GoodMorning', 'vs', 'innings', 'bad', 'गदि', 'चौक', 'लगने', 'बकेर्य्', 'Man', '@hariomji5', 'Combodia', 'शस्त्रि', 'Chance', 'donets', 'CST', '@GVLNRAO', 'sringaar', '@MildlyClassic', '#MUFC', 'Terminus', 'Ashwin', 'Maharana', 'dress', 'पूचे', 'Krishna', 'Mushfiqur', 'Party', 'ht', '#अमितभ्बच्चन्', 'bt', 'Modi-', 'Y', '@AjEeTj_20', 'succesful', 'TeamShivaay', 'inspiration', 'कद', 'मुलक्', '@ankitv', 'liquor', 'खरीदो', 'आस्क्', \"Shangri-La's\", 'meters', 'Visit', 'Minister', 'understand', 'Bएह्क', 'र्हे', '@अत्तोमेय्भर्ति', 'forward', 'Wअलाआअ', 'http://t.co/shcTigo9HW', '#Hinduism', 'Search', 'promises', 'https://t.co/iHo1zAnpB6', 'beauty', 'Higher', 'कुच्', 'क्ल्', 'खेले', 'बरिश्', 'dream', 'fastest-growing', 'Sonakshi', 'इन्पे', 'हस्', '90', 'खयेन्गे', 'ःआन्', 'handsome', 'folks', 'अध', '11', 'Best', '....,', '@shalinit_6', 'fuel', 'आक्शर्धम्', '@PoohBear_Goa', 'अग्गर्', 'against', '@ssoniisshh1', '@jyotipunjabi2', 'MahashivRatri', '५०क्', 'करे', 'Soni', 'ख़िसि', 'Dahanu', 'अप्के', 'जएग', 'http://t.co/sOxhGVcNDj', 'TN', 'शिव्', 'fund', 'धर्ति', '@MahaMahadev', 'छन्दिगर्ह्', 'fodege', '#CWCFantasy', '@Atheist_Krishna', 'Renowned', 'Love', 'becoz', 'ad', '@realmadrid', 'कर्मन्', 'y', 'cuteinsan', 'छौक', '@TandonRaveena', '400', '@balliawalebaba', '#WorldCup', 'Empowerment', '@GujaratLions', '@abpmajhatv', \"#AAP's\", '$5', 'जिद्', '@neeraj_raturi', 'षर्', 'ह्य्', 'met', 'इ', 'it', 'बैथ्', 'Awesome', 'Animal', 'मारो', 'healthy', \"Prabhu's\", '!!!', 'petition', 'bretheraan', 'odd', 'हौले', 'hike', 'Address', 'Wआह्', 'Maharudrabhishek', 'devices', 'Preparations', 'Zअमीन्', '@Calcutta_Times', 'asked', 'Bआते', ':-D', '#RajnigandhaSixWordsStory', 'http://t.co/b9nmeZwCZu', 'http://t.co/DYA66CbxtK', 'दरे', 'Pardesiaa', 'Death', 'Shikher', 'polit', 'कर्व', 'ध्यन्', 'NCR', 'उन्', 'पिशब्', '@AnushkaSharma', 'किधर्', 'किस्ने', 'कोन्स', '@IndiaBTL', 'बन्न', '@दीप्क्बुद्कि', 'क़ौम्', 'Strongly', '@mukteshchander', 'इस्', 'हार्', 'Haripur', 'Epic', 'BilliMora', 'Thulla', '@RanaAyyub', 'Nanasaheb', 'ंएर', '@Shahrcasm', 'अच्चे', 'कैसे', 'iamsameeranwar', '#PathankotAttack', '#bigontop', 'ःओये', 'marry', 'दिप्', 'https://t.co/pCRok88MqL', '#NihalBitla', 'Colombo', 'priority', 'Rang', 'https://t.co/Fg5qReiwev', 'Museum', '.....!!', 'republic', 'ळो', 'domestic', 'डिकहो', '@samidsiddiqi91', 'MahaShivRatri', 'डिल्लि', 'shoes', 'police', 'आउम्', 'great', 'Homma-Lord', '#Sadguru', 'Facts', 'डिन्', 'आन्तो', 'कोति', 'उस्से', 'ShatyUvma', '#MSGHumanityCamps', '@sulabhpandey_', '#Congratulations', 'ईमन्', 'Fइरत', 'UNIVERSITY', 'anyone', 'UMPIRE', 'LAST', 'Pएह्लि', 'recall', 'Court', 'करहि', 'BC', 'https://t.co/6SMWlV8Zr0', 'आगर्', 'Too', 'Waday', '#आज्फोदेन्गे', 'read', '#flipkart', 'parts', 'पद्त', 'know', 'पह्ले', 'Comedy', 'Game', 'ंउजि', '@iamsharmi7', 'ढर्ति', 'हमेश', '@OdishaReporter', 'Deepak', 'Chopra', 'babies', 'Immediately', '@iambmane', '@PerennialCold', 'मच', 'wow', 'https://t.co/Ux8A3dp4g2', '@YouTube', 'aftr', 'पा', 'Ghosh', 'woww', '#ASOT2016', 'Pअक्', 'vashi', 'shivay', 'NMApp', 'bipasha', '@ibnlive', 'ICC', 'कमिनेय्', 'वेख्', 'End', 'नैनो', 'S', 'Peshwe', 'णिचे', '#TweetsNow', 'gujju', 'leaders', 'Neemrana', 'mendu', 'छौधर्य्', '#CarFreeDay', 'यहन्', 'cheapest', 'amrit', 'रख्', 'bribe', '#FuckYouPak', 'लिये', '@BJP_Brigade', 'follow', 'http://t.co/v7kARX8jS7', 'QF', 'https://t.co/WiSR8eYa5n', 'कल्', 'section', 'Exemplary', 'Bang-Kok', 'Rajesh', '1984', 'Anbe', 'मरथोन्', 'Priority', 'Rajan', '@tehseenp', 'IPL', 'order', 'https://t.co/GoLS2bXSmL', 'Bless', '#MSGthoughts', 'कुछ्', 'गव', 'taking', 'At', 'वह्', 'Taken', 'हर्यन', 'सल्', 'Gold', 'SSB', 'Model', '#IPL', 'father', 'Pअक्कि', 'मिल', 'Cantt', 'talented', 'TO', 'Emraan', '<3<3', \"Modi's\", 'late', '#Hindus', \"Barjatya's\", '@TheIntlHerald', 'secrets', 'halls', 'ख़म्न', 'plea', '-18', 'centuries', 'http://t.co/Hnk41ATUPv', 'ण', '@timesnow', 'pigeons', 'नवि', 'र्ख्न', 'Max', 'postcard', 'Trailer', 'filters', 'Chauhan', 'recognize', 'षिव्', 'बचो', 'षदि', 'है', 'Tournament', 'दी', '..', 'while', 'outcry', 'frastu', '@NDTVProfit', 'रेह्नेदो', 'ज़न्त', 'Ajeet', 'bidder', '@आर्नब्ग़ोस्वमि', 'दूध्', 'Bअजे', 'Min', 'पदेन्गे', 'BSKS', 'नजर्', 'बोल', 'actually', 'secy', 'LAND', 'षिकयत्', 'doesnot', 'specification', 'Long', 'Pappul', 'asaram', '50Cent', '#BOLBUM', 'Parliament', 'Ashutosh', 'षुर्य', '#bdnews', 'थि', 'Bअम्', 'lips', 'congress', 'Swim', 'sureshpprabhu', '#UPAChopperScam', 'भग्', 'expectations', '@prashanth_Kohli', 'lucknow', 'hopefully', 'तिन्क', 'place', 'god', 'htt', 'स्म्झ्', 'safe', 'BHAKT', 'RailMinIndia', 'Calatayud', 'planning', '@spanikkal', 'लेह्ते', 'One', 'Pह्र', 'जब्र', 'षेइख्', 'Believe', 'Bअचोन्', 'रम्', 'णयि', 'hahahah', '2014', '@Sahir_Dhoom', '@bdnews_org', 'ज़ैस', 'ख़्हलिद्', 'chk', 'पधै', 'तुम्हार', '@हुशर्मुल्ग', 'eyyyyy', '@meet1973vibe', '@RabiaAnumm', '@aartic02', 'णमो', 'Action', 'दीवर्', 'सत्केलि', '#बेशर्मिसे', 'sweep', '@narendramodi', 'Suit', 'pakistan', 'Pandiarajan', 'आस्र', 'Parole', '@insaankomal', 'Roorkee', 'wid', 'लिख्', 'pratibha', 'अद्मि', 'मर्त', 'getting', 'Planning', 'Threat', 'HINDHU', 'Sweet', 'Procedure', 'बातेइन्', '@कलकाअर्', 'r', 'amazing', 'ख़वित', 'Lions', 'Thankuuuu', 'तभि', 'ajmal', 'wishij', 'https://t.co/naR0ZJ3eqc', 'ज़ी', '03:51', 'mayor', '#WI', 'कौर्', 'Darkness', 'खस्', 'shot', 'आयि', 'शुब्कम्नये', 'proclaimed', 'English', 'Pitches', 'sadly', 'hospitals', 'जनाब्-ए-आलि', 'Writer', 'डौर्', '@RoflSinghSaab_', 'channel', 'into', 'workers', 'ख़ाले', 'बर्', 'implement', '#AugustaWestland', '#MSGmission', 'अब्', 'षक्तिमन्', 'दर्बर्', 'आज', 'injured', 'देख्ने', 'PAPPU', 'आच', 'there', 'https://t.co/j9Ym0CA4M4', 'Vijay', 'C-Akhil', 'ज़न्', 'akkians', 'exited', 'https://t.co/RfOGBOwmIT', 'Than', 'Business', 'Beautiful', 'ग़्हुत्नो', 'कैस', 'मरो', '+', 'Question-', 'reflection', '#Fun', 'Art', 'Raymond', 'हाथोन्', 'means', 'lets', 'AAPInNews', 'Gavaskar', 'Afzal', 'About', 'democracy', 'Mubarak', 'Unethical', 'णाम्', 'men', 'Nawaz', 'shouts', 'http://t.co/lSj895Zn3N', 'sets', 'https://t.co/2EDd4ftd5M', 'Government', 'https://t.co/f9jiIHm5WQ', 'ःअवन्', 'explained', 'इन्', 'Bihar', '<3', 'Sufi', '#winterstart', 'Prabhu', 'here', 'ख़्य्', 'launches', 'लल्', 'मन्ग्व', 'राज्', 'सो', 'मजाअक', 'once', 'http://t.co/oL7CjGOWKn', '@SimplyChanakya', '28th', 'bhang', 'शुभ्कम्नय्य्', 'others', 'Talented', 'media', '@MANISHAINSAN2', 'expose', '#PremRatanDhanPayo', 'got', 'Bइहने', 'YouTube', '#Modi', 'आतल्', 'Stotra', 'एत्न', 'Attended', 'आरोप्', 'ख़ेदर्नथ्', 'बहर्', 'sufferred', 'बेत्वन', 'green', 'https://t.co/eYJWQl4G4j', 'achieve', 'उनब्ले', 'support', 'सम्झओ', 'य़ेअह्', 'गरूर्', 'and', 'belong', '@DivineSoulAmit', 'ंआ', 'षिवयए', 'B', 'Varat', '@jalanpurvi', 'किअ', 'triangle', 'लूत', 'Two', 'Liberal', 'Lalit-Vijay', 'jalandar', 'https://t.co/ViWShTZyrM', 'खुवब्', '@sureshpprabhu', 'अच्च', 'डर्बरि', 'चरिस्म', 'सोच्', 'Congratulations', 'gangraped', 'audience', '@ख़ैलश्खेर्', 'https://t.co/DI6Xf6Jo5e', '3000', 'ज़र', 'क्योन्', 'इत्नि', '@रिय९सोब्ति', 'Bअदे', 'बिस्', 'फोदेन्के', 'बज्रन्गि', 'Suresh', 'Shortest', 'Super', 'language', 'singing', 'breakup', 'Zएहेर्', 'घोतलेबज़ोन्', 'मन्दिर्', 'ऱहने', 'क्रुगि', 'durust', '#Gyaan', '*', 'behold', 'नाल्', 'Buck', 'watching', 'nd', 'threat', '/', 'Islamabad', 'ए', 'https://t.co/vGJq4YCXyc', 'चैह्ये', '@pg27693', 'degrees', 'ःऐन्', 'जमते', '#कोह्लि', 'Airoli', 'goodness', 'ख़रीन', 'Mallikarjuna', 'आच्चि', 'http://t.co/YQugUCZyyW', 'photoshoot', 'noodles', 'Bएन्गल्', '19', 'IQ', 'msgs', 'शमि', 'Damru', 'Fil', '#missileman', '@ksushma140', 'Tourism', 'tweet', 'शुब्काम्नये', 'opposition', 'सह्', 'get', 'Nayanthara', 'ख़्या', 'https://t.co/aJrfkmhU7m', '#Railbudget2015', 'ग़ाट्E', 'आम्बस्सदोर्', 'Kudos', 'किर्ति', '#AllezRoger', 'jokes', 'Contest', '@सतेन्देर्हूद१', '@SaranshGoila', 'नफ़्रत्', 'Right', 'lajwel', 'https://t.co/66afoUr8xY', 'भत्त्', 'p', 'Zआ', 'अग्य', '@षदफ़वन्व्क्', '@anilkapur_', 'छन्द्रम', 'Elderly/Senior', 'garam', 'TVC', 'Prem', '@pkorules', 'सुरज्', '.', 'चद्दि', 'rajdeepsinhjadeja75', 'hhhuuuurrraayyyyy', '@nitibnsl', 'CCTV', '@DKhantastic', 'भेज्के', 'other', '3IEDs', 'डाने', 'मेइण्', 'आऴर्', '#WorldCup2015', 'reach', 'Bअग्ग', 'reply', 'होसक्त', '#ंअग्गिख़िग़्हर्Wअप्सि', 'गज़ब्', 'look', 'Bअज़्मि', \"D'souza\", 'ःऐ', 'HTML5', 'https://t.co/P5ofQnTcyf', 'Rainy', 'Itz', 'Deepika', 'Tripathi', 'आन्न', 'Army', '#RainaKiShaadi', 'graces', '@ग्गीत्तीक्का', 'just', '!!!!!', '@SemperFiUnited', 'Me', 'After', 'guards', 'ंऔके', 'http://t.co/LJQRu2jXkS', 'पदेगि', '#ComedianInParliament', '31.25', 'LS', '@priyankachopra', 'century', 'आप्ने', 'might', 'Prasad', 'Audience', 'http://t.co/BCFIQr3mGZ', 'ःउए', 'जम्', 'scene', 'Rayudu', '@boxofficeindia', 'MerryXmas', 'USA', 'बकर्', 'strategy', 'city', '@चेतन्भगत्', 'Won', 'फ़िल्म्', 'https://t.co/vySkek1niB', 'क्रिप', \"Shankara's\", 'लगत', 'rite', 'unmatchable', 'Gyan', '@LifeOKTV', 'शनेश्चराये', 'ःएय्', 'णै', '@RobertVadra2016', 'Pइत', 'Date', 'worldwide', 'save', 'धर्न', 'तब्', 'cheer', 'Vermaa', 'California', 'teams', 'धर्नस्', 'Bhailog', '):', 'Afterwards', 'Censor', 'pollution', 'VIRAT', \"Won't\", '#HinduismAbroad', 'happy', 'सच्खन्द्', 'अज़ब्', 'Wish', 'Honey', 'Goon', '@Thakurpops', '@Tapash333', 'chase', 'tried', 'Panun', 'sd', 'भीम्', '#Hyderabad', 'Birthday', 'CHIRKUT', 'court', '2.30', 'https://t.co/DJp2lNCbkw', 'Andolan', 'ratri', 'होगि', 'क्र्ति', '@WeAreMumbai', 'anniversary', '69th', 'Common', '@mustikhan', 'abolished', 'अज्दहो', 'ज़िस्कि', 'http://t.co/nS5soQQ8lj', 'especially', 'Guj', 'head-on', 'Aanaa', 'ग़न्गाजल्', 'https://t.co/Eon2nhamTm', 'funny', 'Cong', 'Watches', 'लग्', 'कुन्', 'ज़ओ', 'bowl', 'न्हि', 'welcome', 'mimicking', 'सब्क', 'ख़ोन्', 'Wओह्', 'Manohar', 'Devgn', 'Andhra', 'पेल्ते', 'चोति', 'starring', 'ललि', 'पुन्जबि', 'Hosts', 'Want', 'http://t.co/XDhFJyi8jQ', 'खोल्न', 'Fइज़', 'https://t.co/7peINeJesW', '#02Feb15', 'Radiant', 'ःउज़ूरि', 'trah', 'चह्त', 'होन', 'spread', 'षा', 'ossum', 'वलोन्', 'http://t.co/JyG8mlJEcL', 'Even', 'Himalayas', 'tweets', 'ऱन्ग्', 'नयि', 'https://t.co/VqW4Wbtt', 'renamed', 'खक्', 'Courtesy', '..,', 'कर्वओ', 'P.C', 'ShivShabhu', 'Sivalpuri', '@KPonRise', 'rise', 'आम्', 'हुइ', 'Pरत्युश', 'Pअप', 'Rohit', '@rajveerinsan9', 'shines', 'फ़्य्द', 'Akhandalamani', '(', 'ख़्हवज', ';)', 'सवाल्', 'say', 'व्हत्त', '@YyoungDesi', '!!!!!!!!!', 'RJ', 'another', 'Varanasi', 'ंअहिवल्', 'षाफ़्', 'Gauti', 'making', 'III', '#AamirKhan', 'heritage', 'गि', 'syrup', 'णिखिल्', 'villain', 'सालि', '3R', '@Sama_Gautham', 'allready', 'signals', '@gracefulkiru', 'sheed', 'pelenge', 'ठल', 'सोचो', 'डेह्', 'remarkable', 'ळ्म्बि', 'कर्', 'खेल्रहहे', '#ModiFearsKejriwal', 'हलत्', 'हुम्', '#CW', '@ट्ःEद्सहेर्', 'होगै', '@AAPInNews', 'Pआजि', '#Lord', 'Raina', '@madhurahnaikHappyMahaShivratriCuteMadhura', 'acc', \"fan's\", 'passion', 'सालिस्', 'month', 'targeting', 'dear', '#MSGRevolution', 'Some', 'atibir', 'UNCENSORED', 'fb', 'http://t', 'theatres', 'प्रिय', 'msg', 'याअर्', '26', 'ंअर्जाव', 'umange', 'Terms', 'residence', '#HappyMahaShivratri', '@ClubSporium', 'शोर्', 'आनुश्थन्', 'बधै', 'णहय', 'Islamist', '@6', 'आइर्वय्स्', 'Use', 'Lalita', '@baywatchmovie', 'Brothers', 'Virat', 'Republic', 'गरीबोन्', 'षर्मजि', 'सारि', 'किसन्', 'exposes', 'OMG', '#NonDualism', 'Journalist', 'अवज़्', 'bn', 'http://t.co/RHO5eJlSXr', 'जुति', 'Sultanahmet', 'committment', 'mother', 'जीत्', 'knowledge', 'Other', 'Hemant', 'अल्लह्', 'http://t.co/0uJBn0pJaS', 'suicide', 'तोपि', '@Rajini_rao63', 'ross', '@षहिडिश', 'Indira', 'शन्कर्', 'response', 'Rafa', 'his', '@scvaid23', 'EID', 'बचन', 'मुहाआआआआ', 'पास्', '@IndiaHistorypic', 'पुचिये', 'Does', 'Ready', '.!', 'brain', 'Kapil', '@iRobinArora', 'cr', 'Trimbakeshwar', 'ग़ुरु', 'Valsad', 'horror', 'lagela', 'brid', 'http://t.co/YSMU6t14yA', 'ख़ुमर्', '...', 'india', 'http://t.co/a40oFgtYE5', 'आजओ', '#AyirathilIrruvar', 'ध्यान्', 'patil', '@indiantweeter', 'Birthdayyyy', 'हुम्से', 'sonakshi', 'parody', 'https://t.co/N7SIrV0SF0', 'गय', 'And', 'Shehla', 'ज़िद्द्', '@कतमुल्गि', 'Foundation', 'MUNNA', '#greatBattle', 'षथ्', 'rss', 'आमर्', 'डेर', 'जवानि', 'दिख', 'Watching', 'ख़्हैनि', 'blow', 'Sonia', 'manvta', 'Venue', 'Pअत', '*-', 'अब्कि', 'Constructed', '#HeroNo1BRR', 'Good', 'consistent', \"Shah's\", 'देर्', 'amit', 'development', 'Message', 'luxury', '@Gurmeetramrahim', 'पाथ', '@Sadafawanvk', '@Insan1Preeti', 'खुल', '#TwistedBollywoodDialogues', 'rajniti', 'Babu', 'https://t.co/qvwAdOXx6v', 'बेते', '@रमेश्चहल्', 'Attackers', 'lives', '#mustwatchmsg', 'ह्र्', 'Totaly', 'OM', 'ले', '@आमिर्खन्', 'ensure', 'होत', 'sy', 'rename', 'Title', 'दिखयि', 'packs', '@Bihar_BJP', 'Doutie', 'ilzam', '@GIRISHlht1978', 'Lalit', 'डेबज्योति', 'Naidu', 'ज़ीत्', 'giving', 'Pअन्चयति', 'ठन्थि', '108', 'indiaforums', 'कर', 'tinsel', 'New', '#At', 'Murray', 'abuse', 'hyn', 'match', 'खूब्', 'procession', 'https://t.co/', 'ब', 'Milliins', 'क्युन्कि', 'क्युन्', '#OROP', '@Typodhish', 'गये', ':-p', 'stings', 'https://t.co/uhVlkYaENy', 'डेख्', '@Abdullahbaltit', 'writer', 'करिये', 'absurd', 'For', 'realised', 'आआदमि', 'Hubballi', 'AK49', 'she', '@vbvinsa', 'http://t.co/ERNCIdSGZi', 'Mr.', 'तुम्हे', 'किरन्बेदि', 'तू', 'what', 'https://t.co/rqOdxKZ8Wt', 'Adding', 'इस्स्ने', 'ग़्हूम्शुद', 'Download', 'सहिदो', 'http://t.co/gBjdED9iM5', 'https://t.co/Yx6bSUk2l7', 'station', 'ंऐक', 'Maggi', 'Vipul', 'return', 'पक्', 'लख्', 'Vadhu', 'मिलके', 'मर्व', '100', 'provided', '17', 'Bट्', 'DDCA', 'duminy', 'Idea', 'guy', 'लेहेर्', 'Mahadev', 'interpreters', 'system', 'शन्ति', 'ंअहरश्त्र', 'Image', 'tidies', 'ग्यो', 'Ramchandra', 'इस्लिये', 'Governor', 'https://t.co/xsQZqk8xDk', 'adding', 'Adhurssssssss', ':-(', '@DilliAajtaktv', 'कोइ', 'Rehearse', 'corruption', 'whole', 'Second', 'mining', 'रोति', 'बोल्ते', 'Darpok', 'Modi', 'portrayal', 'slammed', 'devotion', '@arjunt_92', 'LEAKED', 'blessings', 'Thou', 'षुनबेश', 'ख़ोन्य', 'IndianCinema', \"didn't\", 'क्ब्', 'स्वस्थ्ये', 'https://t.co/WGej73XbCk', '@GurmeetramrahimGin', 'Telugu', 'आल्लह्', 'Gurmeet', 'Lokhande', 'Sunn', 'mrng', '#kejri1CrOffer', 'लिखे', 'हहह्हा', '#Cricket', 'lucky', 'Guess', '#MSGsaysEqualityToAll', '@smitaprakash', 'पद्तेय्', 'दर्र्', 'NAMAH', '#IndvsNZ', 'remarks', 'brownie', '@Trendulkar', 'Hindi', 'ख़', '#Police', 'relief', 'narration', '@Bएइन्ग्षल्मन्ख़्हन्', '@HumHainNaa_Sony', '@ArvindKejriwal', '!', 'Did', 'Bolangir', 'fooling', 'tuned', 'खुग', 'Bअपुजि', '#Srilanka', 'wings', 'जयेगे', 'Khanu', '@Manivj07', ',,', 'violence', 'plays', 'personalized', 'Pak', '#river', '#HikeFellowship', 'header', 'टहिर्', 'Dance', '#JaiHind', '#YandasMedyaLimonSatOnurluYasa', 'slow', 'ललच्', 'ंऐन्', 'son', 'minutes', 'तक्दीर्', 'आब्', 'Quila', 'सोह्नि', 'Award', 'Respect', 'व्जह्', 'MR', 'pitaji', 'poren', 'Wat', 'म', '@MTVRoadies', 'uppar', 'MARCH', 'pin', 'देत', 'ःआथो', 'SHIVAYA', 'Pappu', 'nama', '#छोतिषिख़्हवैश्', 'छ्हूत्', 'guarantees', 'देख्तय्', 'rapist', '#WCFfever', 'पतके', 'WइFइ', 'airtel', 'Hindustan', '@_unclaimed', 'अजीब्', 'पेल्', 'flop', 'ख़्यनत्', '#Special26', '#cooking', 'person', '@Chilika', 'occasion', 'Romeo', 'हो', '@fateeema__', 'Bहोल', 'Girls', 'nets', 'rich', 'Braille', 'Zअफ़र्', 'includes', 'Qasmain', 'Rakhi', 'mortality', 'Before', 'षज्दे', 'Commentary', \"Modi's:\", '#Mogali', '@तथगत२', '#JaameInsanDivas', '@1', 'implementing', '@prena_', 'हेइ', 'prominent', 'Salty', 'mosquito', 'वाल', 'ह्त्त्', 'Taradeep', '@bhattkaran83', 'Free', 'Iceman', 'Bhajans', 'bra', 'डि', '19th', 'सीधे', 'RAM', 'bc', \"#India's\", '@jan_iyer', 'Kool', 'Chepauk', 'systematically', '@binta_sweet', 'CMR', '5', 'ख़ोय्ल', 'mini', 'ख़ाऱ्Eण्ग़्E', 'षमि', 'criticis', 'Sharma', 'hiii', 'ry', 'phool', 'given', 'Pअ', '@कन्हैयज्नुसु', 'भुलय्', 'थेकेदरि', 'fruits', 'ModiBharosa', 'reconsider', 'ष्ःईV', 'Pअलक्', 'Yuvraj', 'shivaya', '@bint_e_waseem', 'रहोगे', 'attire', 'छोल', 'दिवलि', 'belongs', 'https://t.co/LNvJPohXn7', 'dont', 'गोरि', 'serial', 'थ्', 'https://t.co/02JCxyIH95', 'पे', 'http://t.co/0WpgG6WRUs', 'miss', 'Delhi', '#किस्किदिल्लि', '@Ekta555', 'http://t.co/mcInUfjWK1', 'knows', 'तुम्हेइन्', 'णस्सेब्', 'आअस्थ', 'Forum', 'Redefined', 'https://t.co/7bVcNpFz0l', 'stations', '@rehaankmr', 'फोद्', '@diyainsan', 'डत', 'अरेय्', 'Flake', 'ःओ', 'score', 'ब्ले', 'tay', 'foreign', 'fake', 'decisions', 'Aurangzeb', 'Irani', '@ZeeNews', 'wooooov', '@StarMoviesIndia', 'Championship', '#MSGsalutes', 'Keeping', 'छले', 'याद्', 'version', '#आब्किBआर्Bएदिषर्कार्', 'godd', 'षभि', '@AnokhiVerma', 'ऱज्य', 'smiling', 'ज़ै', '#Australia', 'Pइय', 'मिक्ष्', 'Congi', 'Anyone', 'Befikre', 'Gurmeetramrahim', ':/', 'कित्न', 'ओये', '12', 'Malagaon', 'Bआलम्', 'आआज़्', '18+)', 'Sthir', 'virus', 'Kohli', 'ryan', '@अर्पित्दुर्योधन्', '#ग़्हर्वपसि', '@bscamishra', 'भग्वन्', 'Marathwada', \":')\", 'वक़्त्', 'Akshay', 'mahashivratri', 'size', 'Cookingggggggg', '#Tanjore', 'domain', '#vote', 'sacrifice', 'steps', 'traitors', '#IPLT20', 'champion', 'जन्त', 'आर्बाज़्', 'Exposed', '#rahulonleave', 'Pअत्न', 'known', 'अनुश्क', 'Sonia/Sisodia/Sanjay', '#Photowalks', 'पल', 'Snan', 'gonna', 'motivet', 'निक्ले', 'ख़एव्', '@वैदेहिसचिन्', 'Padukone', 'https://t.co/rMUhkssJJn', 'pretending', 'DocVatsa', 'hny', 'Chhatarpur', 'Vishwanath', 'हम्को', 'timeline', 'execute', 'Saffron', '@trevias_azuis', 'ख़ोथि', '#umpire', '@VirasatPune', 'म्ब्', 'https://t.co/zATItEU5gN', 'षकल्', 'Bहत्कल्', 'ऊमर्', 'बेखबर्', 'आलिअ', '5yrs', '#Vallavan', 'propaganda', 'tv', 'तरू', 'फ़क्रि', 'Nautanki', 'Poornima', 'https://t.co/keozCyXYvT', 'http://t.co/i7FRZzVX59', 'किसि', 'आB', 'malik', 'Changed', 'biscuits', 'ढवन्', 'भेन्छ्', 'Perfect', 'lolol', 'Pउने', 'Bermuda', 'technology', \"Mumbai's\", 'हुए', 'hanging', '@उत्कर्श्नैथनि', '@AamAadmiParty', 'रुक्त', 'Bहेन्चोद्', 'use', '#गनेश्छतुर्थि', '@iamsrk', 'ःअस्च्के', 'https://t.co/Hn3vFWvdrW', 'struck', 'Muslim', 'बहोत्', 'Nepalese', 'र्हि', 'चलिगेयि', 'their', 'होति', 'दान्', 'TamilTwin', 'for', 'हेअदचे', 'Katasraj', 'जाने', 'poetry', \"Birla's\", '@virendersehwag', 'गरिबो', 'अज्', 'applied', '@bhars97', 'Bओलो', '@coolfunnytshirt', 'boarde', 'Madrid', 'पलन्हर्', '@Kumar_Ke5hav', 'Mom', 'https://t.co/8HTJLVhFlN', 'ज़रुर्', 'ज़्त', 'Breaking', '#MSGdedicatesAwardToGuruji', '#AAP', 'AnmolVachans', 'http://t.co/pKFzCHIWQn', '........', '32xx-28xx', 'charges', 'returned', 'बने', 'http://t.co/xs560UjscX', 'Set', 'May', 'Bijnore', 'ंअज्दूर्', 'Robbinsville', '@mailtosamip', 'utmost', 'परदे', 'Jabong', '@AlexandruC4', '@dubash', 'Bajirao', 'Lucky', 'Bयह्', 'ष्बि', 'donet', 'rehearsed', 'all', 'recovery', 'भला', 'why', '#Collage', '#MyDishcovery', 'Patanjali', 'http://t.co/OuH3NytJS8', 'Pरकश्', 'Mahamrityunjay', 'Bहि', '@श्यम्क्कुमर्', '@Mohit_FC', 'ःआईण्', 'Krishi', '@imVkohli', 'warns', 'षेर्नि', 'ambitious', 'Rupess', '@BharatMataFirst', 'Fitoor', 'Mouth', 'सहब्', 'नमह्', '#SwachhDelhi', 'Texmaco', 'Salute', 'कोसिस्', 'hello', 'जन्गल्', '@IndoriGaurav', '@cricketnext', 'Ranbir', 'along', 'inqlab', '@rawat_narayan', \"बलय्य'स्\", 'Mallaya', '@SPoonia777', '#idontwantit', 'labelled', 'पिय', \"Shiva's\", 'घुम्न', 'ग़र्मि', 'Everybody', 'policies', '#MIvsCSK', 'ख़िस्को', 'https://t.co/cWoYRGNkKT', 'पाप्', '@षरह्Zअकि११', 'higher', '1', 'आए', 'counter', 'डेश्ख़षुत्रधर्', 'uthink', 'next', 'Drumlanrig', 'Seiko', '@yesiamsaffron', 'णदि', 'Srk', 'चुक', 'rights', 'MahaShivratri', '@indiatvnews', 'ख़िशोरे', '#Jumla', '#IREvUAE', '@krishnabgowda', 'Latin', 'जवब्', 'hahaha', 'Narendra', 'Its_Raftaar', 'http://t.co/ls5I', 'Bhavan', 'Ramasundram', '@CTRavi_BJP', 'ख़न्गन', 'Raid', '@ashramindia', 'VIKAS', 'बन्दि', 'आब्बेय्', '@ankstweet', 'ऊस्के', 'Only', 'BediJi', 'तव', 'http://t.co/PzaVzKQZxN', 'sense', 'त्व्त्', 'होग', 'slogans', '@SChotepur', '@BanPuja', 'http://t.co/kWOnNivlEA', '.......', 'cleopatra', 'Novak', 'डोस्तो', 'computing', 'Rishi', 'yesterday', 'ख़रचि', 'करह', 'https://t.co/POYlUVtn6t', 'डेखेगि', 'लर्किय', 'Anjaneya', 'ंअत', 'play', 'Black', 'AshramSewaTeam', '@aloketikku', 'हरने', 'ःअमेश', 'डर्वज', 'Bएह्ति', 'Splitting', 'सोच', '@ImLeslieChow', 'ज़ैसे', 'november', 'जदेजा', 'RCB', '70', 'souls', 'Gupteshwar', 'inches', 'दाल्', '@टोन्य्ख़क्कर्', 'minute', 'दूब्त', 'https://t.co/9qPotuLtPQ', 'Forget', 'keep', 'promise', '@BhayanakPuppy', 'looted', 'bullet', 'https://t.co/23KRffgOPj', 'Pl', '@IndianPrism', 'anu', 'षहर', 'same', 'ख़र्त', 'descendants', 'Mansarovar', 'wide-ranging', \"Doesn't\", '@अक्शय्कुमर्', 'Patrakar', 'he', 'Gov', '@BT_India', 'ज़मिन्', 'ambassadors', 'बदि', 'success', 'age', 'mercilessly', 'facebook', 'Lalettan', 'Namaah', 'Silent', '@krishanvraj', 'already', 'Pअकि', 'इस्कि', '#Gujaratlions', '#trees', 'ambushed', 'lovely', 'tomorrow', 'Celebrating', 'believe', 'Ujjwala', 'षिर्फ़्', 'कित', 'जन्य्', 'मुज्र', 'डेश्भक्त्', 'देन्', '@jana9999', 'धप्लि', 'मन्ग्', '@FarOutAkhtar', 'rlyline', 'deactivate', 'OnLeave', 'तु', 'पधिये', 'Number', 'doubling', '#GratitudeToAllMothers', 'निकल्ति', 'Gateway', 'द्रजयम्अजय्', '@PeeliHaldi', \"don't\", 'solidarity', '#WC15', 'Pilgrims', 'देख्कर्', 'ऊन्क', 'Online', '@imsatyam15', '#VishAna', 'किशोर्', '@sharethis', '#tofu', 'rahim', 'comedian', 'Raj', 'शेर्', '#Lyrics', 'Bहोलेनथ्', 'पीत', 'thrust', 'षह्रुख्', \"That's\", 'Analysts', 'Hrithik', 'ग़ुरुस्', ':)', 'agenda', 'sema', 'eating', 'bronze', 'मेरि', 'Naqvi', 'despite', 'misled', 'they', 'Nagpur', 'ऱखो', 'Pakistanis', 'Peeths', '@aaprohit', 'launched', 'शुब्कम्नयेइन्', 'घुत्ने', '@Sadiatistic', 'shree', 'media&v', \"Dheva's\", 'http://t.co/5zoV7zzgmd', 'library', 'Sirji', 'Awards', 'works', 'Upen', 'वहि', '1am', '@ख़्हबेर्गरम्है', 'Aany', 'अन्खोन्', 'caste', 'Teravaas', 'PC', 'Greetings', 'U', 'मिलेग', 'Rashid', 'eys', 'runout', 'raid', '@buzzindelhi', 'People', '@TajendraRajora', 'करोगे', '_', '#BestFakeJournalists', 'Thanks', '@shalu_sk', 'बद्दुअ', 'hilltop', 'charts', 'sivakarthikeyan', 'रुबरु', 'ख़ाश्', 'अब्ब्दुल्ह', '@digvijaya_28', 'क्र्न', 'joke', '#PVPPictures', 'आPणी', 'Which', 'Madhuri', 'गयी', 'Almas', 'chain', 'ऱेह्न', '#DilliAAPki', 'Inzi', '#topview', '@Rowdy_Nik', 'cylinder', 'tour', 'Aftab', 'नैन्', 'patriotic', 'footenge', 'जाये', 'Distriparks', 'ख़ोह्लि', 'अखिर्', 'shiv', '#Civilwar', 'प्रुथपर्थ', 'बन्वाइ', 'cheers', 'walk', 'एखि', 'Muharam', '@asot', 'साल', '@amazonIN', 'ंउझे', 'हर्', 'controlling', 'Guru', 'EQ', 'WB', 'ष्य्ल्लबुस्', 'ViswaKarma', 'ख़मल्', 'Nokia', '@Soul_Kadhi', '@TahirMe63178397', 'job', 'सम्झने', 'chance', 'Institute', 'normal', 'Now', 'मित्र', 'Nine', 'Talreja', 'https://t.co/CtcvAvAbdk', '@Rinkkyy', '#baytahminizliyoruz', 'http://t.co/WaRZaQJbIF', 'आस्', '@SirJadeja', 'साथ्', 'RM', 'Londoners', 'लेन्', 'ऱहून्', 'ख़बि', 'Yeah', 'सत्', 'Eve', 'DOT', 'Roooohit', 'Particular', 'Tamilnadu', '@अदितिरओह्य्दरि', 'obsolete', 'सहि', 'आम्बेद्कर्', 'Highlights', 'Rail', 'डेव्', 'Farad', '@mehak_shahid19', 'Gandhi', 'berojgaron', 'FOR', '@AdityaRajKaul', 'when', '#experience', '@TheDeccanHerald', 'Silchar', 'Supreme', 'ंए-ख़ित्नि', 'अम्रह्', 'अच', 'club', 'Somwar', 'Bapu', '#fan', 'high', 'र्ख्', '#CantBeatIndia', 'budget', 'Camping', 'रज', 'नौकर्', 'Food', 'करेन्', 'Enough', 'Loves', 'Pअत्कर्', 'Bहक्ति', '@NimratOfficial', 'select', 'politician', 'wat', '@santanu_maji9', 'Manmohan', 'प्', 'Shrimant', 'Bअन्द्', 'terrorists', 'व्ह', 'दारु', 'इस्रत्', 'giftyinsan', \"Roger's\", 'By', 'Qila', 'Biopic', 'Mark', 'षिवय', 'डुनिय', 'जति', 'ग़ुल्ज़र्', 'बनन', '#IndiaVsPak', 'Ujjain', 'मिल्त', 'Back', 'ऱज', 'सवल्', 'ढेरोन्', '#ःअप्प्य्Bइर्थ्दय्ःइत्मन्', 'आअयत्', '@ICC', 'NaMo-mere', 'called', 'भाअग्', 'saving', '51', '-52', 'http://t.co/eRi6gPgFSQ', 'रह्य्', 'Bअर्ख', 'हिस', 'starts', 'https://t.co/a8giQPXLzQ', 'कशि', 'ख़रिश्म', 'Pअर्च्य्', 'खेलिये', 'खेल', 'those', 'Bhagyaraj', 'bed', 'Vइधि', 'Naranbhai', '@षौरभ्ंळाग्क्', 'Sign', '#णोतूसिन्ग्ःअश्तग्', '#AmiKKR', 'ईन्सान्', 'overboard', 'Kajol', 'आजीब्', 'ignited', '@Purani_Delhi', 'आरे', 'ख़रिमि', 'नौ', '@Esha_Deol', 'भि', 'अये', 'किद्नि', 'copying', \"whistle's\", 'ChandniGodara', '@अभिलश्जग्तप्', 'half', 'https://t.co/Sra3yt9qap', 'women', 'उन्ने', 'banking', 'Photography', 'died', 'Bहुबनेश्वर्', 'मत्लब्', '@AnwerNaqvi', 'displaying', 'हान्', 'bail', 'Patel', '#MSGappeals', 'timing', 'Ele', '@DesiObsession_', 'internal', 'होगे', 'performance', 'Amritsar', 'https://t.co/vuy2mRQtxX', 'मिन्', 'Blessed', 'Sunil', 'When', 'Oम्', 'ख़्रन्तिकरि', 'tou', 'dundo', 'इन्न्', 'Megastar', '@arvindkejriwal', 'ग्या', 'Nehar', '@आनिरुध्छौध्र्य्', 'Wished', '@eastwoodmcfly', 'येअह्', 'सन्त्', '4000', ';_;', '@sonaliranade', 'य्र्', 'RaGa', 'http://t.co/CvnXEQXAKO', 'pregnant', 'lost', 'शम्', 'नर', 'will', 'मसल', 'gurgoan', 'अन', 'सच्', 'पधाइ', 'ख़ौन्से', 'fellow', 'Bangla', '1R', 'Bआद्', '2016', 'backup', 'paper', 'कसार्', 'आख्तर्', 'खुशियो', 'कर्ते', '@AskAnshul', 'Pic', 'https://t.co/AbXVZdDDNt', 'शुभ्काम्नये', 'custoner', 'Jersey', '#chilikadhaba', '7', '@ऱेख्त', 'IND', 'gandi', 'candidate', 'अफ़्वहो', 'blasts', 'spoke', 'fielding', 'धर', 'Namashivaya', 'आअओ', 'डेन्', 'health', 'vuntaru', '#ग़्हर्वप्सि', 'अय्', 'ज़ब्', 'ड्ःआण्', 'Supporting', 'Amaal', 'य़श्', 'षल्मन्', 'chiraginsan77', 'Stone', 'ख़रून्', 'Pरग्यपद्जि', 'होगय', 'कर्त', 'है-', 'धो', '@BSNLCorporate', 'rivers', 'Veg', 'Inyathi', 'Mantri', '@LALETTAN_BOYS', '@Shaheer_S', 'Vishnuvardhan', 'anniv', 'mam', 'Wआळी', 'छरे', '@Pउजाग़्होश्', 'Mahut', 'बदन्', 'hahahhahaahaha', '1880s', 'hides', 'Bइन', 'चल्', 'पूरि', 'Whatsapp', 'डीय़ाआआआ', 'increasingly', 'Pउरि', 'Ganganpatey', 'भुलो', 'sant', 'Lakhbir', 'mahat', 'ल', 'http://t.co/ezANVnE0R3', 'Urvil', '@htTweets', 'हेरो', 'TALREJA', 'Kripa', 'Next', 'life', 'out', '@preet0987', 'ohmm', 'yepieee', 'http://t.co/4Pws', 'इज़्ज़त्', 'चोर्न', 'campus', '@mehtahansal', 'http://', 'खुशिय', '@prasoonjoshi_', 'बैथोगे', '<', 'अन्ति', 'Shankara', 'ArvindAnnaBack', 'congrats', 'reason', 'maybe', 'Premer', 'politics-volitics', 'पैसे', 'Parvati', 'येह', 'Twitter', '11:00', 'ExRoomie', 'Bअबु', '#PakvSA', '250', '#ShameOnKejriwal', 'Saail', 'carrot', 'Bहूतो', 'garland', 'रेह्', '@ajaydevgn', 'strong', 'current', 'हरम्ज़द', 'यद्', 'irrelevan', 'spoken', 'Thirunal', 'luv', 'कर्लो', 'लेग', 'भिम्', 'Very', 'Mast', 'जल्', 'आबीर्', 'https://t.co/CaVjj23fZd', '100%', 'समज्', 'Arvinnd', 'attack', 'म्ल', 'Apartments', 'live', 'आP', '@karan009wahi', 'Gas', 'question', 'RUNS', 'ःआथ्', 'बाहुबलि', 'घुस्ने', 'Koraput', '11111111111111111111111111111', '@RajeevSrinivasa', 'जहन्', '#beautifulview', 'लेकिन्', '..!', 'जिस्के', 'वलि', 'ऊस्कि', 'रख', 'godse', 'https://t.co/Ck1NXRPwy2', '#BlockBusterMSG', 'Bakrana', 'सुनने', 'https://t.co/lzOE2v3U7u', 'उस्नय्', 'sibling', 'https://t.co/sYZuZfUPbs', 'https://t.co/PB8JynGyKf', 'qoum', '@PRATIKatron', 'Blood', 'York', 'https://t.co/R7Rl6r7a0R', '@pksrivastava6', '४ग़्', '2015', 'https://t.co/XwD19ZBBL8', 'looks', 'षह्', 'षमझ्', 'https://t.co/Kwhq1KYvGm', 'तरफ़्', 'नै', 'Advaniji', 'spirit', 'Pअन्दित्', 'खिल', 'up', 'Majnu', 'Acceptance', 'कुम्', '#KiskiDilli', 'ख़ोम्', '#India', '#parvatians', 'superhero', 'rockstar', '[', 'अओन', '-_-', 'released', 'कत्', '@Ikumar7', '@sheshnath99', 'RahulBaba', 'Bank', 'कर्ति', 'रिस्क्', 'ख़ाPOOऱ्', 'want', 'Havana', 'क्रुन्गि', 'मू', 'on', 'increase', 'http://t.co/Kw1rJGJL4j', 'irritating', 'भारि', 'duum', '@VinitaXerxis', 'fail', 'Siddhuji', 'Byah/Mahadevju', 'Progeria', 'happyyyyy', 'MSD', 'ATBB', 'SUBSIDIES', 'Babar', 'षकिर-', 'planned', '#ठै', 'बाकि', 'गम्', 'Instagram', 'अप्क', '@piersmorgan', '@SrBachchan', 'amenities', 'Troll', 'Hudhud', 'मिले', 'ghinona', 'http://t.co/wpqT0SDAfI', \"#BJP's\", 'Anna', 'फ़ैल्', 'mst', 'Asura', 'Obama', '@gurmeetramrahim', 'younger', '@anumuae', 'politics', 'Here', '@LambaAlka', 'hats', 'SHANKAR', 'कभु', 'दिन्', 'END', 'Waiting', 'जय्', 'कुदि', 'Contrast', 'य़ोजन', 'wait', 'cooker', '@rj_janakarajan', 'Ramdev', 'Kamadeva', 'ख़हानि', 'papa', 'वपिस्', 'WHY', 'ख़भि', 'forcefully', 'अकेले', 'योयो', '@ANI_news', 'हे', 'Opposition', 'muktimohanWeb', 'ंअहदेवये', \"Chopra's\", 'Years', 'षुशोभित्', 'टेधि', '@king_ranjhna', 'MPs', 'हम्', 'binging', '#IPLOpeningCeremony', 'स्व्', 'Buffalo', 'SO', '@mehrishisumati', 'Tritiya', 'शुभ्', \"Let's\", 'षोन', '@NotSoSweetGirl_', 'कर्रि', '#BJPManifesto', 'real', '#Baroda', '#PhotoWok', '#MumbaiLocal', 'Video', 'केह्न', 'https://t.co/T0Kn4W33ja', 'सक्त', 'Mubarkan', '?!', 'Invitation', 'मारि', 'http://t.co/vPxTZR3uvK', '@तौरुस्३०', 'i', 'प्य्', 'चलेग', 'बनुन्ग', 'विक्रेत', 'सरय्', 'being', 'थे', 'Zubaida', 'FILM', 'सध्कोन्', 'पर्त', '#PakvInd', 'ख़पुर्', '#टहेर्षह्', 'https://t.co/6zD5IyFIkL', 'potty', 'षब्क', 'cenima', 'आआP', '#occupygezi', '#आप्किदिल्लि', 'ज़ाहिल्', 'षैमन्', 'sambandh', 'He', 'Site', 'him', 'सम्जे', 'retweet', 'SMS', '#JNU', 'https://t.co/j8xnKTGyYe', '#MahaShivratri', '@Hindi_Liverpool', 'कदा', 'madam', 'Titagarh', 'ख़हि', 'षार', 'अर्', 'आदियोगि', 'http://t.co/wfEmqNTcjS', 'Shivratri', 'BAHANCHOD', 'brodry', '@rishibagree', '#WIvIND', '@riteshsinhar', 'https://t.co/VuEEi2wp7C', 'ष्य्', 'Rithvik', 'these', 'http://t.co/3hzxzx4wXr', '30', 'Borislav', 'खुद्', '#SummerInTheCity', 'Nandamuri', 'Magrur', 'mate', 'बल्', 'http://t.co/pemXzToVhb', '1995', 'जिस्ने', 'Ambani', '#PiousBhandara', 'कहु', 'http://t.co/5CihVC8RdC', '#KXIPvGL', 'TV9', '#giabby', 'Naanu', 'gripped', 'चल', 'pomendi', ')', 'Bआकि', 'mahatma', 'Pइतजि', '#BecauseOfTwitter', 'जयेगि', 'Hahahah', \"can't\", '@vinayak_ramesh', 'https://t.co/i5a39VUi1h', 'matlb', 'tickets', 'fair', 'खाक्', 'चुति', 'akmal', 'दरू', 'Ameen', 'Today', 'maulik', 'Wअर्न', 'http://t.co/7PED6IdvXm', '@NewIndianXpress', 'within', '1437', 'successfully', 'the', 'https://t.co/WThZC9gXvW', '@Vइशल्Bहर्दिय', 'sewage', 'दुन्ग', '@iamrana', 'https://t.co/MVd1qcKwRp', 'special', 'Portfolio', 'सुब्', 'चोर्', 'छप्', '#ASOT762', '@faiezakhan', 'Canada', 'आजिन्किय', '@Barbiedawra', '#JagjitSingh', 'वपसि', 'Tendulkar', 'muslim', 'बधैय', 'papaji', '#FanReview', 'Wहताआय्', 'घुमके', 'किय', 'Heartiest', 'finds', 'Boulevard', 'य़ार्', 'गन्गधर्', 'You', 'Pappi', 'HAPPY', 'dreams', 'from', 'डेश्', 'देन', '#Inclusive', 'नरियल्', 'zAmbani', 'Performing', 'directed', 'pl', 'भर्', '125', 'ःआथोन्', 'visit', '@sanjaybafna', 'Herath', 'हाल्', 'MAHADEV', '@J0shuaPr0ject', 'eng', 'जिस्', 'non', 'Surveillance', 'Bहक्त्', 'Fares', 'ख़्यु', 'Lahore', 'Mutualfundsaresubjecttomarketriskspleasereadtheofferdo', 'Bअधै', 'Woohoo', 'Ivarkum', 'ख़ा', 'moral', 'ंएरि', '@srabantismile', 'Nehru', 'needs', 'Koechlin', 'Rapperiya', 'GREAT', '#Congress', 'MAFIA', 'मय्', 'DAT', 'Star', 'Special', '@Bawli_Booch', '#hungama', 'महिल', '33', 'away', 'killer', 'ladies', 'Poonam', 'जब्', '#PicsArt', 'DALAL', 'https://t.co/2DvUiSxY5J', 'before', 'टके', 'directly', '@bloggeray26', 'Pउज्ये', '24xx', 'caring', 'ष्BB', 'uptappa', 'Chiplun', 'सुन्', 'थोद', 'Launch', 'बोल्त', 'सथ्', 'ढर्न', 'पये', '#षुमित्षम्भल्ळेग', 'nkajshuklabjp', 'market', 'आये', 'कर्वते', 'ख़्रियय़ोग', 'लेत्स्', 'खुसिय', 'ंEईण्', 'Women', 'Her', 'Zindabad', '@aajtak', '#motivationalquote', 'Pradesh', 'UPA', 'celeb', 'poor', 'colours', 'circulating', 'investment', 'Chanaa', 'ज़ि', 'लोगु', 'ग्य', 'devils', 'ख़ित्नि', 'चरनो', 'announced', 'Bहूल्', 'jyotish', '412', 'खिच्ते', 'Indian', 'हैण्', 'लिय', 'Cricket', 'working', 'os', 'Join', '@सैकरुन्', 'Yograj', 'Usually', '@jainansh0201', 'resign', 'Goswami', 'णारे', 'begairato', 'shortly', '@PujaaVarma', 'bohot', 'अल्ल्लह्', 'पितजि', 'षच', '@ErMki7', 'शेर्नि', 'happiest', 'im', '#MenInBlue', 'babugiri', 'Peace', 'Sultan', 'लेके', 'UK', 'Bआरे', 'आअसून्', 'https://t.co/8yTIf', '@MohsinAfridi_', 'tyre', 'harman', 'कभि', 'NOIDA', 'targeted', '@ईम्तियज़ाऴर्', 'षाB', 'TripuraSundariTemple', 'Bowling', 'helps', 'call', 'Bअज़ार्', 'जेसि', 'radical', 'Director', 'killed', '#RaisingDay', 'Hornets', 'मा', 'क्र्', 'Brutus', 'ग़ान्द्', 'decrease', 'जायेइन्', '@षाक्शिष्ऱवत्', \"Aren't\", 'Alia-', 'र्ह', '@CMofKarnataka', 'smk', 'छिनेसे', 'मेय्', 'bio', 'Hey', 'त्म्हय्', 'conspiracy', 'God', 'style', 'ख़ल्यन्', 'won', 'Kurduwadi', 'issues', '@_suhasidhami', 'नन्', '#BongFoodPorn', 'Yusuf', 'hashtag', 'shape', 'Evidence', 'crowned', 'apology', '@Varsharoy5', 'trustworthy', '@AShukla_', 'जनमज़्', 'fix', 'देदो', '@ClassicallyWild', ';', 'Asli_malaika', 'ट्यगि', 'hearing', 'षिरि', '#harharmahadev', '#शह्रुख्खन्', 'Kajrat', '@itsssr', 'Marmara', 'ंएह्नत्', 'film', 'Rudrapujas', 'Upgradation', 'Was', 'Start', '#SaveWaterSaveLives', 'inhabitants', 'losing', 'आश्वसन्', 'ःअसन्', '@gillraman705', 'Brands', 'summons', 'temple', '#Golden', 'माम्', 'elections', '#EndVVIPRaj', 'Tamil', 'मसीह', '#BREAKING', '@Actor_Krishna', 'Karad', '#UHF', 'षिख्', 'महत्व', 'Kunaal', 'Dixit', 'सर', 'वोह्', 'क', 'ष्वाच्', 'नसीब्', '@aashish81us', 'Ludhiana', 'Camera', 'devil', 'आआPके', '3-', '@P2makodo', 'मै', 'military', 'लिख', 'कोन्सि', 'sister-in-law', 'g', 'लेत', 'ऱहुल्-आच्च', 'Us', 'commentary', 'anything', '#PrabhuKiRail', 'major', 'thnd', 'https://t.co/8paMLwUiOg', 'आनुश्क', 'वप्सि', 'वले', 'ष्वमि', 'सुन', 'https://t.co/d0RltF3PnI', '#JaiShiv', 'मत्ल्ब्', '#ंऔकंऔक', 'where', 'कमेन्य्', 'पकि', 'https://t.co/Y1NVk2mRuP', 'लोव्', 'अन्दाज़्', 'sin', 'Hahahahaha', 'TOI', 'remember', 'णयनगर्', 'Feelng', 'afzal', '@CambiarNews', 'Bowler', 'काम्चोरि', '#INDvAUS', 'Nice', 'applauds', 'click', '@billimehoncutec', 'http://t.co/8BH8qiUuee', 'पर्', 'king', 'end', 'Helpline', 'ःअर्', 'Gulbarga', 'Cat', 'भीतर्', 'ज़य्', 'बि', 'ंएनु', '#MannKiBaat', '@JoinAAP', 'षेर्', \"@घुलम्नज़द्'स्\", 'Illegal', 'It', 'worked', 'लर्ने', 'Lady', 'waka', '#ख़र्नतक', 'wuss', 'छोप्र', 't', 'inter-linking', \"Maharashtra's\", '37', 'https://t.co/7Dx7jXe0hM', 'https://t.co/MSReZ2EESk', 'http://t.co/hFP1X7bcWt', '#DelhiDecides', 'http://t.co/h4b9NrMpNf', 'Bhaijaan', 'Remember', 'expect', 'अप्न', 'MCBC', 'Congress', 'अम्मि', 'आप्से', 'OpenBook', 'criticize', 'tea', 'Crying', 'posts', 'justrichpro', 'Express', 'Sushma', 'Thankyouuu', 'Govt', 'छधल्', 'Col', 'Professional', 'industrial', '#AwardWinningExcuses', 'uttle', 'षन्त्षलोने', 'नेहि', 'Hmm', 'पर्व्', 'Katrina', 'धर्म्', 'Chennai-Tamilnadu', '@natashajain6', '@snehal_gandhi', 'puts', 'over', 'births', 'talking', 'आओ', 'षिव्जि', 'जओ', 'Boycott', '#wc2015', 'actress', 'पताखे', 'हत्य', '#WIvZIM', 'ऱहुल्', 'http://t.co/HcQkVP682n', 'EconomicTimes', 'Nazeer', 'तुम्हर', 'tech', 'ह', 'Banerjee', 'Biggest', 'rd', 'HAHAHHA', 'https://t.co/hYlqfPv56z', 'बोहोत्', 'डस्', 'prayer', '#AAPtards', '@ऱितुऱथौर्', 'फ़िर्', '@NottThatRavish', 'https://t.co/ux601C2lUf', 'cracks', '@ndtv', 'Dravid', 'कर्वएन्गेय्', 'implemented', 'ःअम्ल', 'several', 'Fast', 'https://t.co/s16qoM420E', 'ष्ःऊBःख़ांणाय़्E', 'account', '4m', 'ज़न', 'आअप्', 'KRIPA', '#DhanyaManikyaDebbarma', 'Goth', 'https://t.co/vvfWudzZPY', '#icc', 'Bहोउत्', '@AnjuNagarajan', 'मम्ले', '@DarrKeAage', 'Stumping', 'do', 'https://t.co/nQl1OPkpQ3', 'व्स्', '#AgustaWestland', 'listen', 'https://t.co/ujZOxvKdt8', 'ळग्', 'डोख', 'delhi', '50', 'पाओगे', 'ऱ्Eःण्E', 'Parents', 'Bye', 'SOHBAT', 'apart', 'http://t.co/fzjdlfy3m3', 'gold', 'virat', 'mnths', 'http://t.co/zwNsKvQ0Cs', 'डेन', 'Bहै', 'Malaviya', '@VadodaraHistory', 'Bहीम्', \"chirajeevi's\", '@the_master_gogo', 'मोदिजि', '#NAMAH', 'SRI', 'Show', 'https://t.co/xNUERAEneQ', '#AAPkaCM', 'Incredible', 'बुलये', 'ओहू', 'arena', \"सर्हदेइ'न्\", 'ओन्', 'number', 'Eid', 'balram_insan', 'Roastest', '@करचिखत्मल्', '@jashandeep697', '#Intolerance', 'Master', '#५षाल्ख़ेज्रिवल्', 'षल्वि', 'http://t.co/zCvoxUT0', 'Drayton', 'http://t.co/QkKteb8pmG', 'everyone', 'षुभ्', 'innocence', 'https://t.co/jCJBDOdqsU', 'येह्', 'णाःई', 'Varun', 'Kumar', 'घेर्', 'चोते', 'porn', 'LOVE', 'ख़शिर्', 'मेउन्', 'Rajnish', 'most', 'डीवन', 'new', 'आकेले', 'Lathi', 'parvatis', 'जनि', 'cameras', '#Visionary', 'Stage', 'tht', 'Dr.', 'बाप्', 'followed', 'Wअल', '@krsnakhandelwal', 'Brie', 'FAN', '#YouthIconMSG', 'Students', '@msisodia', 'http://t.co/RrvstKP58y', 'षरन्', 'ड्Eट्E', 'Vओ', 'intro', 'बदओ', '#achedin', 'लग्त', 'Sena', 'Youth', '@iamlakshmirai', 'Journo', 'http://t.co/T9THydo6Yq', 'https://t.co/cR', '#Bristol', 'से', 'किस्', 'communalism', 'उखद्', 'Nana', 'हि', '#indvspak', 'taught', 'सत्गुरु', 'BY', 'built', 'ख़ाऱाछ्ःई', 'छुत्ति', 'Ft', 'खुशि', 'afridi', '#Retrica', 'africa', 'खरिद्', 'टो', 'chickens', '@SachinTheFilm', 'Such', 'चार्सोबिसि', 'used', 'Shivraj', 'डान्त्', 'कु', 'मेर', '#AnnaReturns', 'Pअरियोन्', 'षद', 'आप्जि', 'मह', 'कथ', 'Railway', 'पत', 'जल्दि', 'ष', 'औम्', '2924-545', 'Qअबर्', 'ट्र्किये', 'वोहि', '67%more', 'लग', 'judice', 'दूर्', 'produce', 'Pavitra', 'about', 'Attaboy', '#KKRvsRCB', 'Yo', '#CongTerrorInRajyaSabha', '@rajnikanttiwa10', 'fhudu', 'आअप्कि', 'work', 'hurts', '#आमितभ्Bअच्चन्', 'रेह्मत्', 'ट्Eऱा', 'ंअज्बुरि', 'exams', 'स्री', 'ख़र्ते', 'पुरे', 'षुब्काम्नयिएन्', 'birthday', 'Pअशुपति', 'तो', 'Nursing', 'आर्रे', 'Men', 'https://t.co/Zj56TzIhBe', 'सुभ्कमनयेइन्', 'enroute', 'ख़बूतर्-टेरे', 'डिय', 'confirm', \"'\", 'ष्रि', '@BCCI', 'hurled', 'Its', 'आश', 'gud', 'zarorat', 'ते', '#ज़ल्दूत्', 'created', 'केज्रिवल्', 'http://t.co/Trakdy1njz', 'ज़ीतए', 'http://t.co/CHlIqzqc1a', 'train', '@ःउस्न्ख़ःअथियर्', 'MSG', 'लेकर्', 'ःअसिन', '#AIB', 'ज़ो', 'rocks', 'http://t.co/1BR2RZGKbi', 'few', 'ंओतभै', 'http://t.co/uzjpAkYgIE', 'ख़्हुर्द', 'सलर्य्', 'ःअरिद्वर्', '@irsad555', 'देये', 'https://t.co/eBbe5IOrqv', 'dismisses', 'That', 'देवो', '@Integrated_me', 'Maithili', 'ंउबरक्', \"Sonia's\", 'Anti-Hindu', 'वदीई', 'state', 'ShivRatri', '#railfare', 'Ramki', 'https://t.co/xpaQGmQEo9', 'प्रचोदयत्', 'celebrating', 'अरध्य', 'proved', 'ग्ये', 'In', '@ashu3page', 'Child', 'Pएह्ले', 'report', 'ख़र्खन', 'बोल्न्', 'RTs', 'http://t.co/VZuM3DURKj', 'Engineering', 'pakistaniyo', 'आप', 'Choriyan', 'trying', 'minister', 'Sachin', 'sand', 'Yoga', 'knw', 'जिने', 'लौन्द', 'last', 'Ramada', 'ग़द', 'लर्कि', 'आईEEE', 'ंओहे', 'awards', 'Aneez', 'डदसहेब्', 'कह्ते', 'निक्लि', 'ंअयवति', '05', 'जमन', '@dhoni_maniac', 'https://t.co/ZMZoUCK6zE', '@APJAbdulKalam', '#IndWins', '#OurIns', 'केह्ते', 'Charge', 'आभिजीत्', 'Rs', '#ATKvMUM', 'camera', 'दे', '#IndVsSA', 'resident', 'खुश्', 'Oम्करेश्वर्', \"Marvel's\", 'Biriyani', '@आज्तक्कि', '!?!', '@मश्कूर्ज़ैदि', 'करो', 'लद्किय', \"doesn't\", 'य़ाध्', 'जन', 'मेइन्', 'supports', 'flood', 'thank', 'र्ह्य्', 'घी', 'claim', '#IfModiBecomesPM', 'ंअर्जावाआअन्ना', 'ंइत्', '#MughaleAzam', 'बिचदो', 'groups', 'Shree', 'tumlog', '@Vivek_Stalin', 'GOONS', 'prime-ministerial', 'wi-fi', '@rohitawasthi', 'ग़ुनाहो', 'Courtesy-', 'Papaa', 'ख़य्', 'Bहोले', 'चुप्', 'Mandana', '#CastePolitics', 'Gujju', 'Pअरम्', 'पध्', 'sure', '#matchpoint', 'Vaani', 'ष्वछ्', 'NC', 'Owaisi', 'Roy', '@ndpaatil', '@gouravgg1993', '#OmNamahShivay', 'एसि', 'bashing', 'विश्वस्', 'Parmal', 'णीट्', 'world', 'रुकिये', '@mushfiqur15', 'उस्कि', 'बदल्', 'मनो', '#Tandav', '#bleedblue', 'Pancholi', 'Budget', 'छैनि', 'alleging', 'diff', 'सय्-', '@mvmeet', 'contractual', 'Angel', '@payalinsan15', '..!!', 'Injured', 'छोत', 'आगे', 'Meanwhile', 'मेह्', 'http://t.co/7wzssKkGds', 'sti', 'Poore', 'pls', 'Pत', 'outside', '#SaveFarmers', '#RailBudget2015', 'interact', '#RahulOnLeave', '@bjpnational', 'ह्त्', 'bday', '@ETNOWlive', '@रेख्त', '#wt20final', '#PAKvsIND', 'कुमर्', 'Ancient', '#RRajkumar', 'चर्निरोअद्', 'इच', 'IIT/BHU', 'सदक्', 'laptop', '15th', 'vipul', 'Shoot', 'नहिन्', 'ख़ल्व', 'Roast', 'http://t.co/7JScg0yY3l', 'https://t.co/SJEvdhhgzf', 'BआBआ', '#ind', 'दोशोन्', '@Fataxaleem', \"Dhawan's\", '@ManalKhan07', 'yadav', 'single', 'right', 'ज़प', 'must', 'https://t.co/bb6ehwaj8n', 'पेह्ले', 'कोह्लि', '@UbcanilGupta', 'Crafts', 'https://t.co/mijW7XsmiF', 'आ', 'धन्', '********************', 'https://t.co/I8IJ68arIz', 'ज', '#NA', ']:', 'low', 'hahahaha', '#Devarsh', 'Parv', 'Suhas', 'http://t.co/RfMXaQvAYN', 'जौ', '#PanamaLeaks', 'ख़्हैर्', 'charming', 'fare', 'https://t.co/GLaWFBliqV', 'ऊन्होने', '#RioOlympics2016', 'man', 'CM', 'https://t.co/xraT8coe3G', 'Chair', 'घर्', 'रखि', '@poothegr8', 'sahib', 'https://t.co/AjlYr7MEtB', 'ensuring', '#DelhiPolls', 'ख़हन्', 'Day', 'teachings', 'ऱात्', 'पकर्', 'घन्ति', 'चुत्ति', '#railbudget2015', 'भक्त्', 'ंऔक', '#JavedAkhtar', 'review', 'direct', 'षदोलि', 'Annual', 'auspicious', 'V', 'कौन्', 'क्र्नि', '@gauravindoriya', 'बत्', 'store', 'भूल्', 'Election', 'Teaser', 'held', 'अक्', 'सम्झ्', 'http://t.co/eEvw3L1Ufj', 'अए', 'Tanno', 'Brilliant', 'crying', 'foster', 'ःअमरे', 'virgins', 'अयीए', 'रय्', 'Bअन्ग्कोक्', 'आआअत्त्त्', 'Faqra', 'Bहव्नगर्', 'Its_B', '@madhukishwar', 'More', '@Filmbuff100', 'semi-nudedotcom', 'तुम्से', 'Bउदि', 'णा', 'Low', 'Imposition', 'ड्ं', 'indians', 'srk', 'MAHASHIVRATRI/SHIVRATI', 'बेह्ति', 'गाने', '@sonusachdeva07', 'Pradhanmantri', 'Zइन्दगि', '@jecrcharish', 'abusive', '@ट्वीत्Zआदे', 'सयिन्ग्-ख़्य', 'ज़ग्दिश्', 'sampanna', '@RahulReply', 'awsome', 'broken', 'लोखन्दे', 'http://t.c', 'commision', 'Ladubaba', 'ब्', '@साद्बिन्नईम्', 'बोले', '#AgustaScam', 'कमनये', 'league', 'छुतिये', 'बे', 'sunday', 'Poori', 'परथ', 'mangoge', 'films', 'did', 'Three', 'दल्ने', '#MSG2In505crOn200thDay', 'षोऐब्', 'https://t.co/cgfRjoYZbj', 'षाट्ग़ूऱू', 'becomes', 'Voice', 'feed', '@TheVoiceOfGaia', '@newslaundry', 'कश्', 'daily', 'IAF', 'Charm', '::', 'parmarth', 'sayed', 'णेइघ्बोउर्', '#JatReservation', 'स्रि', 'ओर्', '@DuttYogi', 'दिनो', '&', 'Gud', 'judicial', 'beat', 'अग्र्', 'Stars', 'Happy', 'XI', 'ज़्ब्', 'railways', 'fishermen', 'जल्द्', '#RiseAboveRacism', 'वप्स्', 'Top', 'RAJESH', 'adventure', '#Indians', 'commends', 'Bathinda', '@doai_ab', 'sees', 'ळाख़्ः', 'send', 'tumhra', 'credit', 'veteran', '#mumbai', 'Ravi', 'मेदिअ', 'म्य्', 'आअन्खेन्', 'Larson', 'begin', 'लौदे', 'Sometimes', '@INCIndia', 'JAMAANAAAAA', 'ःअरयेन्गे', '4-', 'Vasal', 'जुद', '@भख्त्', 'Ding', 'Shiva', 'ःअर्श', 'High', '@giniromet', '#LattooRepublic', 'इन्सान्', '@mehulgohil', '#KPonRise', '@Dharanishanthi', \"saran's\", 'final', 'Africa', 'http://t.co/e6N6TyWi5n', 'षिव्रति', '#IndvsPak', '#SportsTweets', 'Their', 'ज़ाई', 'Bअनय', 'http://t.co/gQ5w9H5ok2', 'shivai', 'Debate', 'ज़्र', 'holy', 'ball', 'by', 'Pokemon', 'ख़्युन्कि', 'Arrest', 'ओर्१', 'https://t.co/buhrNEr1IG', '#WIvIRE', 'hereIsRahul', 'Support', 'पूर', 'uspenfilm', 'dhaba', '@scotchism', 'Mr', 'local', 'ritesh', 'क्र्न्', 'आं', 'digital', \"you're\", '@aamir_jaanu', 'surveillance', 'ंअहिम', 'सब्ने', 'managed', '#StillMSG2Everywhere', 'Booking', 'ILU', '@TheRock', 'Shankar', 'effective', 'needlessly', 'rohitsaini2100', 'Shivaya', 'ख़पिलश्', 'hhmm', 'revenge', '@mishkoo90', 'btw', 'भै', 'Intellectual', 'डर्ज', '@आउम्षक्ति', '#MaukaMauka', 'pasengr', '#MakeIndiaProud', '#FDI', 'fans', 'Zebra', '300', 'रो', '#MSG100CroreClub', 'नय', 'डिन्ग', 'you', 'ओ', '@DNA_IamIn', '#ConfusionKaEnd', 'न', 'https://t.co/TcfmohLhPC', 'dirty', 'Unwell', '#SHIVAAY', 'आउर्', 'Pics', 'कित्ने', 'तुम्', 'China', 'बोलो', 'बेगानि', 'Sad', '@onlibuffness', 'Jet', 'Via', '@ठेज़ग्गि', 'हु', 'जम्हूरियत्', 'षह्ज़द्', 'मैनेज़िन्दगि', 'wifi', 'YuvaiTV', 'https://t.co/e8Tj1HRPjt', 'बोलिये', '@rvmoorthyhindu', 'चुर', 'turn', 'Oये', 'ofSt', 'feeling', 'gandhi', 'Sharaliev', 'http://t.co/utIOkqf5Ey', '8am', '300+', '@tivra123', '@ग़ौतम्ग़म्भिर्', 'Servant-', '@vindugoel', 'Listening', 'mall', 'सेव', 'plate', 'आर्चन', 'https://t.co/LEziPujl17', '@YuvaiTV', 'Coverage', 'divine', 'Ball', '#CSKvsDD', 'त्म्से', 'Ranaut', 'eat', 'सुभ्कमनये', '#RCBvRPS', 'foundation', 'rung', 'http://t.co/l', 'See', 'एग', '@Nizam_ntr', 'illiteracy', '@पग्लपुर्', 'runs', 'traditional', 'बव', '@@@', 'लियी', 'whenever', '#LandBillWar', \"Baba's\", 'Iss', 'रैसे', 'http://t.co/sgGeqmgD', 'ंऐ', 'Satish', 'weakest', '#Klopp', 'हुन्', 'long', 'inauguration', 'वालो', 'ःअमे', 'SoGa', 'performances', 'puchna', '@Muzammil_Says', 'Reconsider', 'hpy', 'सक्ते', 'immoral', 'https://t.co/f0qSRBKKyF', 'Olympic', '@IALalika', 'मुल्क्', 'पय', 'प्रसद्', 'performing', 'Retweet', 'आअप्को', 'dust', 'Trending', 'ळगओ', 'Sentosa', 'infected', 'अर्रे', 'journalists', 'चुतिय', '@VishalDadlani', '@BDUTT', '#णहिPअत', 'फ्ले', '(@', '#AUSvIND', 'https://t.co/gYr5IED7x0', 'जये', 'ख़ल्लूरि', 'degree', '#Railway', 'delet', 'protection', 'षभ', 'Healthcare', '..!!!!', 'Shyam', \"ऱिश्त'\", '4', 'सभि', 'Parrikar', '#SachinTeaser', 'ह्न्', 'षन्घि', 'षनम्', 'वज्से', 'Jammu', 'History', 'Raghuram', 'Laddakh', 'जलेबि', 'Ashuuu', 'ऱत्नै', 'diffused', 'way', 'http://t.co/3PnISEtDxe', 'behaving', 'ंअमत', 'दिल्लि', '@amsobittyagi', 'Ruchika', 'Knowing', '#dussera', 'KM', 'ख़र्के', 'speeches', 'off', '@indori_tweets', 'jabra', 'Movie', 'Amazing', '#KingfisherAirlines', '@BJP4India', 'तुम्हारे', '@MukulKMishra', 'Bअहुत्', 'https://t.co/Uhk5quMz4L', 'Railways', 'quote', '@Nicks103', 'naanu', 'https://t.co/JffOjGKoey', 'presented', 'बधाइ', '@Babu_Bhaiyaa', '@SriSri', 'Bओल्', 'open', 'theater', '@sejaljobanputra', 'gif', 'Education', 'झादू', 'ख़िय', '17th', '#CelebTrains', 'ok', 'Stay', 'Thnxx', 'बारे', 'एसे', 'Bअस्', 'Pर्', '@amitava258', 'jiv', 'network', 'मिलवति', 'दिम्प्ले', 'महिम', 'आर्जुन्', 'billions', 'ritual', '@ImRo45', 'ज़येग', 'BigB', 'Sharda', \"Thakral's\", 'https://t.co/5KRrhSFiqV', 'Beach', 'बधये', 'रक्श', 'जात्', '#AwesomeLogic', 'Rasheed', 'पहिले', '#MSGSocialWelfare', '#SabkaBudget', 'ंअहशिवत्रि', 'Nehra', 'बुरे', 'https', 'withheld', 'http://t.co/nGF81Q4H6S', 'touches', 'आख़्', 'Will', '@hbparmar211', 'मप्', 'pulao', 'AnimeshBandyo', '#अमेथि', 'college', '@ShirishKunder', '@itsmyturn_bali', '#ःओइःऐ', 'hall', 'दल', '#WomenInIndia', 'NO', 'swim', 'हेन्', 'ख', 'Night', 'Indianfans', 'Gurgaon', '@205HiDeeps', 'http://t.co/cTZkfwKUhV', 'celebration', 'चह्य्', 'ंआलुम्', 'भूखे', 'तुमर', 'Carbon', 'suitcases', 'ल्ग', 'ASHFAQUE', 'बर्बादि', 'बन्दे', 'कह्', 'केजरु', 'soft', 'Cambodia', 'jawans', 'ऱजेश्वर्', 'Copy', 'Just', 'बोम्बय्', 'celebrate', 'Mantr', '#Jangal_Jangal', 'http://t.co/Yurj6O5LMW', 'Oyyee', 'Spectacular', 'truth', 'missile', 'seminar', 'Kathmandu', 'ंअहशिव्रथ्रि', '#MSGdedicatesAwardToAllFans', 'MP', 'vision', '#BleedBlue', 'ws', 'Oza', 'water', '#Selfie', 'Dhoni', 'Anniversary', 'suddenly', 'क्र्के', ')-Sankirtan', 'centrestage', '~', \"modi's\", 'words', 'http://t.co/W0xrtVAJPz', 'य्हि', 'सेय्', 'Profit', '@Obnoxious_Ravan', '@उशखोखर्', 'ःइ', 'ग़्होतलोन्', 'ख़न्ग्न', 'remark', 'http://t.co/bWeeOAgQwr', 'आक्थर्', 'http://t.co/KEiuKskrEx', 'Ironman', 'पीकर्', 'villiers', 'took', 'majority', 'preparing', 'ready', 'Can', 'Yashpal', 'Handle', 'ढुन्', 'babugiri/', 'http://t.co/5mXJrM5fLW', 'panel', 'स्भि', 'ंइल्क्', 'https://t.co/8JNuWXcHwg', 'Tax', 'TeamIndia', '#Instapic', 'गर्मि', 'https://t.co/R8m25B81iZ', 'व्हत्सप्प्', 'aashirvad', '....!!!', 'https://t.co/DDAxgdbUAD', 'Oवैसि', 'Bangkok', 'broad', \"isn't\", '#SuperstarInBurripalem', ';s', 'spiritual', 'TV', 'डेख्ते', 'hail', 'पक्द', 'णिहन्गे', 'मौह्तज्', 'Lyrics', 'revolution', 'Listen', 'आलि', 'सन्धिय्', 'meets', 'Mukherjee', 'DAY', \"Delhi's\", 'movie', '.........', 'ः', 'मैने', 'level', 'ammeron', '#CWC15', 'fed', 'Bअघ्', 'agitation', '@cricketwallah', 'ndtv', 'क्गन्', 'णिशिद्धो', '@सैलोर्सौरभ्', '@_SunOye_', 'टर', '@ankitlal', 'Hallelujah', 'ख़श्मिर्', 'ःओत', 'छलि', '@rajneeshjindal', 'which', 'Console', '@nishrana', 'कमल्', 'kiss', 'सेवदर्', '@Riteishd', 'छल', 'CR7', 'क्र्व', 'adopted', 'चोअद्', '#MSGrequest', 'Patra', 'Sankranthi', 'https://t.co/jJFFhXPOMH', '#IndVsAus', 'doing', 'serve', 'Q4', 'प्रभु', 'Somvar', 'घास्', 'scheduled', 'ख़ेह्ते', 'says', '1200', 'fil', 'become', 'फोतो', 'णाक्', 'ग़्', 'Arjun', 'ग़न्धि', 'Boost', 'UTSAV', 'ंआट्', 'https://t.co/R9x81R8uUd', 'वहन्', 'Takshila', '@aamir_khan', 'santa', '@vichupedia', 'Vastraadi', '@ImVeeDee', 'फ़र्हन्', 'करेइन्', 'continues', '#Progressive', '#Shivratri', 'fake/', '@AnupamPkher', 'http://t.co/GufQ5n1cx1', 'Kejriwal', '@UmeSalmaa', 'urgently', 'Hope', 'Pरियन्क', 'बन्ने', '#MSGsocialWelfare', 'Tiri', 'मौल', 'ख़ोइ', 'लेकपोते', 'बन्द्', 'बुल', 'Environment/', 'ने', '@Rishiji', 'owner', '#Practical', 'Finally', '#ग़मेंआरिछ्हे', 'शह्जदे', '@जतनचर्य', 'waiting', 'https://t.co/lmQ16E7R7L', 'घ्र्', 'त्योहार्', 'ज़वब्', 'PitaJi', 'ख़्ःOPEख़ाऱ्', 'Poster', 'दर्द्', 'प', 'n', 'Up', 'jadeja', 'pahn', 'such', 'Pअर्व्', 'वत्', 'झेल्', 'confusing', 'picture', 'ANDHAPAN', 'Guys', '#IndvsSA', 'https://t.co/DmVqhZbdaI', 'Plzz', '#Pakistan', 'षक्ति', 'बत', 'ty', 'https://t.co/3uyYI0uYHn', 'भोले', 'विदेशि', 'Nanak', '@RpG_89', ':))', '1Cr', 'evryone', 'psychopath', 'killing', 'Smriti', 'delivers', 'rahul', '10lakh', '@', '#IndvsBan', 'shoulder', '#HR', 'अन्कित', \"London's\", 'Bhasm', '@firstpost', 'never', 'ऱम्', 'नर्', '@waglenikhil', 'shankar', 'silent', 'While', 'https://t.co/AIUmIM4ihS', 'announcement', 'we', 'https://t.co/G5XnpPtj46', 'parcel', '#KnowPune', 'tip', 'ंअश', 'https://t.co/riqyOtiiF4', '@Ach_Balkrishna', 'malvia', 'इस्नन्', 'expressle', 'together', 'mode', 'दिलिप्', '#Ind', 'sidhe', 'ख़िस्', 'बार्', 'OLX', 'मैन्', 'ख़ुत्त', 'ख़मरि', 'गान', '@ंअद्द्य्षहेब्', 'http://t.co/ypM90xdMN0', 'कि', 'करेब्', 'Saves', 'indomitable', 'always', 'धवन्', 'Cool', 'Ireland', 'Lootere', 'सम्', 'ंअह', '@ईम्शोनाअ', 'मिल्', 'astronaut', 'Modern', 'ऱोशन्', '180', 'check', 'lowered', 'enjiyed', 'OF', '@सुनिल्द्देसै', 'dies', 'Pउन्जबि', 'आतन्क्वदि', 'Damn', 'India', 'बरे', '06/05/2015', '@तुब्ऴोनेय्', 'https://t.co/qvCbxpCjuG', 'मोहल्ल', 'ख़्ऱ्', 'https://t.co/3pridznSvP', 'Getting', 'क्य्', 'Kaif', 'series', 'setup', \"there's\", '@rajeevnayak1985', 'IPS', 'Saint', 'story', 'one', '@Abhinav_Bindra', '@2806anu', 'https://t.co/k2uvDXr0JJ', 'लगेग', 'sitting', 'hindi', 'सियू', '..?', 'Fly', 'Eight', 'http://t.co/Wfa4kAvQyt', 'मिल्वत', 'Mohanraj', '@Dervishious', '@ScorpiusMaximus', 'Brinjal', 'delete', 'Odisha', 'Let', 'Sivaya', 'MS', '@ंअर्याम्षकील्', 'Tribune', 'आचे', '#SreejaKalyanam', 'Anandini', 'https://t.co/9gyi4ULjgV', 'pan', 'एह्सान्', 'Akhil', '#cwc15', 'mAlaikA', 'pakistani', 'https://t.co/NDPz6eK2Jr', 'UP', 'Singaram', 'स', 'Seems', '@dibang', '@rsshukla62', '@RainaKiGudia', 'हिन्', 'night', 'Geet', 'Cricketer', 'णय', 'Pandharpur', 'पुम्', 'ख़हून्', 'eid', 'arts', 'facial', 'Purely', 'blackbucks', 'ळहोरिएस्', 'BअBअ', 'ंअहकाल्', 'plagiarism', 'स्य्', '...!!!', 'Recap', 'Clean', 'Muma', 'Driver', 'चल्त', 'Jasumati', 'गोले', 'कर्गिल्', 'पय-', 'greater', '@Ashishtics', 'विस', 'Sindhi', 'exact', 'Tv', 'hope', 'think', 'Yadav', 'Laaloo', 'नमशिवय', 'वजह्', 'https://t.co/0Sq9OcQiqz', 'https://t.co/L1Ue5HGpvM', '#Akki', 'हमर', 'बेच्', 'ज़य', '#Mahadev', 'छुदिय', 'Pls', ':-P', 'अल्', 'Cleopatraa', 'पन्रध', 'Technology', 'soap', 'ho(nxt', '#Budget2015', 'अस्लि', 'Location', 'wishes', '_kanwardhillon', '#MSGHonorToHumanity', 'Graduate', 'era', '@smritiirani', 'Preet', 'hell', 'http://t.co/z8O7i59iUc', 'प्रनम्', 'speak', 'षूण्O', 'pujya', 'ग़द्दि', 'अजये', '@TheGujaratLions', 'uma', 'Sheila', 'Yes', 'पूचो', 'http://t.co/QNt4tLI18H', '@Cristiano', '@hindustanse', 'Finishes', '@akshaysonal', 'Harpal', '@Dev_Fadnavis', 'सारे', 'खेल्', '@TanuInsan', 'light', 'crayons', '#आचकिय', '@Drama_queenRJ', 'प्रेन्न', 'http://t.co/3CUraBihWr', 'सुभ्कम्नए', 'जगह्', 'CPEC', 'ख़ेज्रिवल्', 'punjab', 'free', 'booking', 'ठोद', 'सीख्ने', 'MegaStar', 'डेवो', 'classy', 'Ranveer', 'नौक्रि', 'Lollypops', 'महशिव्रत्रि', '@डैनिक्Bहस्कर्', 'Maneesh', '@_fragrantica_', 'ah', 'hymn', 'http://t.co/hNtZNYnAow', 'ंअस्तिज़ादे', 'Score', 'Rapping', 'Jasoos', 'तेरि', 'had', 'Criticize', 'https://t.co/Ah8vFrenfE', '1year', 'https://t.co/A7iQdAqrxY', 'https://t.co/3XHIfCXPmK', 'https://t.co/t2B1es8Q78', 'ख़पूर्', 'आय्', 'गयि', 'http://t.co/5DZqm80G66', 'भेजो', 'Who', 'बर', 'be', 'Columns', 'principal', 'https://t.co/F', '#Afridi', '@NakuulMehta', 'सके', 'धीरोन्', 'FANS', 'ंइल्', 'Ramayana', '#Positive', 'दर्वजे', 'birth', 'https://t.co/ZTmVNQlgwv', '@rss_org', 'बैथ्ते', 'ज्र', 'school', '@TheSynergy5', 'K', 'believed', '#Realistic', 'ख़ि', 'लगन', 'brisk', 'ख़धल्', 'Glossary', 'Sisters', '@BhagwanUvach', 'Mahoday', 'ख़ुच्', 'ला', '@oneindia', 'ग़यी', '@Themangofellow', 'medalist', '@TarkeebiMe', 'Unilever', 'Itnya', 'http://t.co/H65r70BqXJ', 'thisIsMukti', 'JasvirSjasvir', 'मुक़द्दर्', '#SRKDonates1crToChennai', 'Insan', '#NowPlaying', 'टूत्', 'Lingaraj', 'autograph', '#Join', '@एम्रान्हश्मि', 'liy', 'Vyapam', 'after', 'छल्', 'as', 'ळल', 'sister', 'षिकर्', '#drorthooil', '#MyTeamMyWorldCup', 'पिच्ले', 'आअज्', 'http://t.co/ldJPvaIX4M', 'Leone', 'City', '@sri50', 'बन्', 'Cordial', 'अगर्', 'आबि', 'Rahim', 'pela', 'BMG', 'ट्ःई', 'मीत्स्', 'Assocham', 'Wअलय्', 'Mahashivrathiri', 'कुब्', 'Balan', 'devotee', 'Wहताअय्', 'hearts', 'dropped', 'religion', 'https://t.co/TVPKid4Z0h', 'slam', 'gn', 'putly', 'BLESSED', 'With', 'share', 'बल्ल्', 'Goa', '@11AshokaRoad', 'wrong', 'everything', 'टलाश्', 'षन्कर्', 'irukku', 'Doval', 'Cess', 'ख़श्मिरि', '68', 'paragon', '@TrafflineMUM', 'http://t.co/VHIGH5h5km', 'झुत्', 'देख्ते', ',', 'Haha', 'षिव', 'Srisrimangeshda', '#MahaShivRatri', 'quips', 'different', '@तक्शक्स्पेअक्स्', 'Lol', 'He-Pic1', 'blame', 'drink', '#MSGinCinemas', 'terrorism', 'बवल-पन्ति', 'Budgetary', 'Oops', 'Spread', 'भेन्चोद्', 'क्रे', 'चह्ये', 'Pअर्', 'दुअ', 'Rockkkkk', 'सि', 'ख़्ब्', '10th', '@KirronKherBJP', '#ंअहकलेश्वर्', 'ःऊद्नय्', 'carry', 'Deewani-Deepika', 'करदेन्', \"Ravana's\", '@Rajan_ptt', 'Raasipalan', 'Feku', 'ल्गन', 'BILL', 'Menon', '#RespectResearcher', \"national'!!\", 'Villages', 'patriotism', '!!', 'आअस्र', 'षुन', 'जि', 'plz', 'https://t.co/NIUkbtCVKi', '#AAPStorm', 'ज़ैपुर्', 'Behenchod', '@choriketweet', 'द्', 'होन्गे', 'सिर्', 'ग़य', '#पतखे', 'पदेग', 'Ankita', '@MahikaInfra', 'पाति', '@GareebGuy', '#blockbustermsg', '@saileshvora55', 'lot', 'AnkitaInsa', 'Vannarapettai', '#DevonKeDevMahadev', '@nooR_inSan', 'देने', 'शहिद्', 'pande', '18', '@Dev__Raj', '@smart_mumbaikar', 'pharak', 'http', 'करेग', 'Name-', 'इन्हे', '@ummeaiman07', 'Speech', 'Swamy', '@MohitParmarr', 'boiling', 'NIGHT', 'bharat', 'energy', 'Munimji', 'mothers', '#HaryanaResults', 'ख़र्', 'RAKHEIN', 'पयेग', 'ःअश्मि', 'य़ह', '@LiteraryBadass', '@mylifeasadesi1', '#reservation', '@इआरुषिने', 'congratulations', 'Borja', 'd', '#direngeziparkigeliyoruz', 'brings', '@ःअफ़िज़्षईद्ज़ूड्०१', 'baby', 'Poor', 'कमते', 'Pअथार्', 'transactions', '@म्स्धोनि', 'Why', '@rajivmishra', 'पेहेन्', '@justicearnab', 'basketball', '@TheMusicLegends', 'His', '@AOLSwamiji', 'Sanjay', '@Womaniya', 'Afghanistan', 'लोगो', 'Police', 'यार्', 'छान्द्', '#Zero', 'Namit', 'colonies', 'RSS', 'defend', '@pacificleo', 'http://t.co/i0Gu5B5vmd', 'कर्दुन्ग', 'जी', 'नगर्', 'Madiha', 'https://t.co/kOhvxsareg', 'तमन्न', '25%', 'Plz', '#Fever104', 'Abdul', '@vickynanjappa', '#CWC2015', 'क्च्', 'Cheeku', 'D', '#ShivaShiva', 'णज़ेर्', 'players', 'Watch', 'अछे', 'give', 'assault', 'http://t.co/xgVhvB0Bxb', '@TheVijayMallya', 'Pakistani', 'Akbarabadi', 'parliament', 'Centre', 'पतखे', '@Ankitaaa_', 'Anderson', '#hanumanjayanti', 'gram', 'Kurian', 'Non', 'show', 'Shivji', 'https://t.co/KLqCuWDN5p', 'पह्न', '@Abhinna_Sri', 'veterans', '@harakhpadudo', 'ःइमलय्', 'presenting', '@abpnewstv', 'Namha', '191', 'बोल्', 'cases', 'wife', '@ParineetiChopra', '#Mauka', 'ग़', 'कुज्लिवल्', 'milit', 'ंआआ', 'र्ख्त', 'bro', 'mind', 'Mitsubishi', '@BSonarika', 'मिलो', 'आग्र्', 'Awwwww', 'bank', 'Pakistan', 'कल', 'Riots', 'बह्नो', 'Jiiva', 'chief', '=))', 'हुस्बन्द्', 'DRUGS', '#foodie', 'sir', 'Eक़्', 'बलय्य', 'https://t.co/irgS0ieIex', 'चुत्य', 'offence', 'Roster', 'narendramodi', 'https://t.co/bD8pYCkRO8', 'modi', 'Benegal', 'based', 'Gange', 'http://t.co/vjLFW1cgyQ', 'langushing', 'Noora', 'हात्', \"Schumer's\", '@vaibbhavt', '@OfficeOfRG', 'टेजश्वि', '@BeingSalmanKhan', '#wt20', 'बात्', 'बहुत्', 'Hindu', 'CNG/Diesel', 'SwissAcc', 'upon', '@aapkipreeti', '161', 'ंअहकल्', '#MakeInIndia', 'Geelani', 'muh', 'bring', '#Kejriwal', 'wasool', 'कदम्', 'भुमि', 'अय्से', 'एह्', 'https://t.co/IPjvXgWZZX', 'sent', 'soo', 'पएग', 'हश्तग्स्', '@deepikapadukone', 'सकुन्', 'ख़यकल्प्', 'Deserve', 'bot', 'मोहे', 'roads', 'षब्', '#Latur', 'Pयर्', 'Malik', 'ळोक्', 'taklu', 'ज़ात्', 'https://t.co/nx0U2O5zzB', 'tya', 'frm', 'dance', '@jaman_04', 'Standard', 'ice', '@ITwingDSS', 'ख्ल्न', 'beef', 'possibly', 'dislodge', 'https://t.co/bII4Ij71bg', 'ganza', 'THE', 'son-', '#BajiraoMastani', 'ROSHAN', '#OM', 'हिलने', '@Stupendousaf', 'हिस्स', 'Bhen***d', 'पन्', 'Vinay', 'thought', 'v2406', \"Today's\", \"couldn't\", 'Fans', 'duck', 'Bhutan', 'PVR', '#Narayan', '@muzikman_07', 'gau', 'Nirvana', 'व्', 'Lolz', 'Killed', 'टुम्हि', 'Tandava', 'अन्स्', '@EconomicTimes', 'MakeInIndia', ':-)', 'questions', 'mainline', 'मान्', '@AmitShahOffice', 'ऱज्यसभ', 'Akhiles', 'passing', 'Mom-', 'https://t.co/AFOWxmloWT', 'Remo', 'महिने', 'पाइ', 'game', 'bravery', 'ख़ल्पित्', '@IamSaiDharamTej', 'अप्', 'rollout', 'ma', 'जग', 'Muh', 'cup', 'Wagons', 'stripe', 'य़मुन', '@taran_adarsh', 'पुब्स्', 'false', 'टु', 'नि', 'https://t.co/lHn238veau', \"Mushfiqur's\", 'च', 'ऱुन्', 'https://t.co/6283x5zkZt', 'लऊओ', 'ड्EV', 'बनलो', '@Iam_Prerna', 'ज़यद', 'http://t.co/aU6k1nt9VG', 'खन्', '#Iqbal', 'program', 'Amma', 'actor', '@ख़्यऊखाद्ळेग', 'Harishankar', 'nephew', 'खतर्नाक्', 'Morning', 'सेरे', 'Rajya', 'शुरु', 'roop', 'बुर', 'देश्', 'feliz', 'धाम्', '#WassupMusicVideo', '@Keisar_', 'R', 'सुरुर्', 'षदिक़्', 'जैस', 'Irony', 'Omm', 'continued', 'https://t.co/b6wHGXL1R5', '#commentary', 'party', 'Latisha', 'patparganj', 'contest', 'खन', '@insan_neha', '@PakistanArmy4u', 'Pollard', 'supplied', '@aditi_tyagi', 'rebel', 'जात', '@Javedakhtarjadu', 'raj_n_ish', 'approval', '@ZHaider514', 'शुभकन्क्शलु', 'MLBANSAL', 'आग्ल', 'guys', 'of', 'Took', 'Pअऴय', 'मैय्य', 'Drivers', 'Starring', '@tyagi40', 'होइ', 'awwww', '#भत्कल्', 'update', 'काम्', 'persons', 'Welcoming', '@सुधिर्चौधर्य्', 'http://t.co/hQcc7EGtFo', 'international', 'ur', 'Madhu', '--', '@only_fo_r_you', 'Captain', 'य़दि', 'Sambit', 'yrs', 'https://t.co', 'fire', 'reports', 'morning', 'ब्जते', 'Shikhar', 'Russia', 'मे', 'ंओदि', '@NaturesDoodle', 'ष्रुति', 'अस्नुश्क', 'आजय्', '@sardesairajdeep', 'ऱस', '@SitaramYechury', 'kitchens', 'Supporter', 'using', 'Syed', 'धज्जियान्', 'Moscow', '@poorbitour', 'student', '@officialsukhbir', '@cynic_wall', 'उन्ग्लि', 'ख़्होज्ने', 'Reception', 'https://t.co/tdoXQqvhVN', 'http://t.co/Z9UlUgUrbW', 'पेर्', 'carrying', '1000', 'http://t.co/7QJiqGuqxq', 'Pankaj', '@pankajshuklabjp', 'sooooo', 'insan_paul', 'डिमाग्', 'LIVE', 'kindly', '@manoharparrikar', 'भेज्ते', 'twt', 'google', 'तुम्पे', 'fingers', 'टे', 'http://t.co/zuQ8xpXttB', 'व्हताआअय्', '@MhtRajeev', 'Soma', 'big', 'CandyBar', 'head', '#Antman', 'andorid', 'Ashram', 'vegetables', 'षदर्', 'velocity', '#RailBudget20', 'चह्ते', '@RailMinIndia', 'hate', 'LOL', 'need', 'experience', 'खत्त्र्', 'than', '@galat_fehmi', 'sites', '#festival', \"You're\", 'co', 'इत्ने', 'https://t.co/ZpkJFc4Ouj', 'Manzoor', 'ख़्हम्कर्', 'षश्वत्', 'रहुल्', 'director', 'ंअहेश्', 'dance-action', 'suit', 'Like', 'image', 'ःउन्', 'जयेन्गे', 'ःआऱ्', 'buy', 'अप्नि', '#IndvsAus', 'demean', '@aryakanika2', 'ravish', '.............', 'tricks', 'दर्शन्', 'inspire', '#SRK', '@nag1406', 'o.O', 'road', 'आर्ति', 'Burnol', '@ZoomTV', '2002', 'American', 'Slogans', 'poster', 'jindabad', 'डारुBआज़्ंएह्त', 'Hotel', 'ळक्श्मि', 'roasted', 'But', 'षच्', '@आल्ल्टिमेBअक्चोद्', 'हय्', 'RIP', 'कर्न', 'यहि', 'HP', 'Kumar-President', 'year', 'http://t.co/SFsUVU5BY2', 'कहिन्', 'छलो', 'कब्', '@thisisysr', 'please', 'होने', 'now', 'funds', 'जलन्दर्', 'ऊद्धर्', 'Bएवफ़', 'NDRF', 'Early', 'डीवनि', '@DOCTORATLARGE', 'Music', 'ठै', '@nickhunterr', 'Red-faced', 'कर्दे', 'सुच्चे', 'Shivaratri', '@cm_qaimalishah', '@ChaitraSalian', 'offers', 'पन्चो', '@ReporterVikrant', '#RailwayBudget', 'ःउस्सेय्', 'MahaShivaratri', 'दुस्रे', 'https://t.co/W6AfD1DX0L', 'falling', 'much', 'infant', 'INarendra7', '#BANvsAFG', 'देव', 'http://t.co/Uxo8KMUJNi', 'full', 'humour', 'join', '#nz', 'ख़न्हैय', 'sewa', '@ColorsTV', 'HaHaHa', 'सर्कर्', 'Sadanandan', 'जो', 'बन्त्ने', 'Better', 'cinema', 'governments', 'National', '@manojsirsa', 'Sridevi', 'https://t.co/XRCWnRKn4v', 'Dude', 'MC', 'अद्', 'Pयार्', '@neha822', 'य़र्', '@आदिअचर्य', 'really', 'हुअ', 'count', 'आन्जलि', 'excited', 'Anu-', '@सगरिकघोसे', 'वद', 'कोउन्स', 'बोह्त्', 'car', 'To', 'Power', 'धेर्', '#DSSFoundationDay', 'CNN', ',...', 'around', 'yes', 'Pअहुन्चो', 'कप्तन्', 'का', 'थ', 'because', 'डी', 'पहुच्ति', 'Need', '#VIVOIPL', 'शरब्', 'AAP', 'टुस्शर्', 'gerua', 'कन्पुर्', 'missing', 'Audio', 'organised', 'लये', 'http://t.co/LW16CA1ZUR', '@Oयेंअरिअ', 'allotted', '<PAD>']\n"
          ]
        }
      ]
    },
    {
      "cell_type": "code",
      "metadata": {
        "id": "Nh91WB-sWvon"
      },
      "source": [
        "MAXLEN=36\n",
        "\n",
        "# Converting words to indices for test sentences (Features)\n",
        "X = [[word2idx[w[0]] for w in s] for s in sentences]\n",
        "'''\n",
        "Padding train and test sentences to 32 words.\n",
        "Sentences of length greater than 32 words are truncated.\n",
        "Sentences of length less than 32 words are padded with a high value.\n",
        "'''\n",
        "X = pad_sequences(maxlen=MAXLEN, sequences=X, padding=\"post\", truncating=\"post\", value=n_words - 1)"
      ],
      "execution_count": null,
      "outputs": []
    },
    {
      "cell_type": "code",
      "metadata": {
        "id": "4qCwfSOFWvvq",
        "colab": {
          "base_uri": "https://localhost:8080/"
        },
        "outputId": "d83a45a0-2e8c-4cc5-910a-ea1d62e44f21"
      },
      "source": [
        "y = [[tag2idx[w[2]] for w in s] for s in sentences]\n",
        "# Padding tag labels to 180 words.\n",
        "y = pad_sequences(maxlen=MAXLEN, sequences=y, padding=\"post\", truncating=\"post\", value=tag2idx[\"O\"])\n",
        "\n",
        "print(tag2idx)\n",
        "print(Counter(list(np.array(y).flatten())))\n",
        "\n",
        "# Making labels in one hot encoded form for DL model\n",
        "y = [to_categorical(i, num_classes=n_tags) for i in y]"
      ],
      "execution_count": null,
      "outputs": [
        {
          "output_type": "stream",
          "name": "stdout",
          "text": [
            "{'B-ORGANISATION': 0, 'B-PLACE': 1, 'I-ORGANISATION': 2, 'O': 3, 'I-PLACE': 4, 'I-PERSON': 5, 'B-PERSON': 6}\n",
            "Counter({3: 42526, 6: 963, 1: 455, 5: 411, 0: 218, 4: 108, 2: 67})\n"
          ]
        }
      ]
    },
    {
      "cell_type": "code",
      "metadata": {
        "colab": {
          "base_uri": "https://localhost:8080/"
        },
        "id": "H6U4sGyVatxb",
        "outputId": "5d8675bd-9041-49db-a81e-e282fe2af5b3"
      },
      "source": [
        "print(X.shape)\n",
        "print(len(y))\n",
        "print(y[0].shape)\n",
        "print(np.array(y).shape)"
      ],
      "execution_count": null,
      "outputs": [
        {
          "output_type": "stream",
          "name": "stdout",
          "text": [
            "(1243, 36)\n",
            "1243\n",
            "(36, 7)\n",
            "(1243, 36, 7)\n"
          ]
        }
      ]
    },
    {
      "cell_type": "markdown",
      "source": [
        "### Model"
      ],
      "metadata": {
        "id": "Bi1wVfdZ-rDC"
      }
    },
    {
      "cell_type": "code",
      "source": [
        "import tensorflow as tf\n",
        "from tensorflow.keras.layers import Dense, Input, Bidirectional, LSTM, Dropout, TimeDistributed\n",
        "# from tensorflow.keras.optimizers import Adam\n",
        "from tensorflow.keras.models import Model\n",
        "# from tensorflow.keras.callbacks import ModelCheckpoint\n",
        "import transformers\n",
        "from transformers import TFAutoModel, AutoTokenizer,BertTokenizer,TFBertModel\n",
        "from sklearn.metrics import confusion_matrix,f1_score"
      ],
      "metadata": {
        "id": "MMA6_ak5d5og"
      },
      "execution_count": null,
      "outputs": []
    },
    {
      "cell_type": "code",
      "source": [
        "# from transformers import pipeline\n",
        "# unmasker = pipeline('fill-mask', model='bert-base-multilingual-uncased')\n",
        "# sen='I am [MASK] की आज खेलने चल सकते हे क्या?'\n",
        "# # sen='I am [MASK] ki aaj khelne chal sakte he kya?'\n",
        "# # unmasker(\"Hello I'm a [MASK] model.\")\n",
        "# unmasker(sen)"
      ],
      "metadata": {
        "id": "4hJLXUYDixz7"
      },
      "execution_count": null,
      "outputs": []
    },
    {
      "cell_type": "code",
      "source": [
        "LSTM_N=256\n",
        "BS=32\n",
        "\n",
        "transformer_name = 'bert-base-multilingual-uncased' # 'bert-base-multilingual-cased'\n",
        "# First load the transformer layer\n",
        "transformer_encoder = TFBertModel.from_pretrained(transformer_name)\n",
        "# This will be the input tokens \n",
        "input_ids = Input(shape=(MAXLEN,), dtype=tf.int32, name=\"input_ids\")\n",
        "\n",
        "# Now, we encode the text using the transformers we just loaded\n",
        "sequence_output = transformer_encoder(input_ids)[0]\n",
        "\n",
        "model = Bidirectional(LSTM(units=LSTM_N, recurrent_activation='relu', return_sequences=True, dropout=0.5, recurrent_dropout=0.5))(sequence_output)\n",
        "model = Bidirectional(LSTM(units=LSTM_N, recurrent_activation='relu', return_sequences=True, dropout=0.5, recurrent_dropout=0.5))(model)\n",
        "\n",
        "# Adding a TimeDistributedDense, to applying a Dense layer on each 180 timesteps\n",
        "model = Dropout(0.5)(model)\n",
        "out = TimeDistributed(Dense(n_tags, activation=\"softmax\"))(model) # softmax output layer\n",
        "\n",
        "# It's time to build and compile the model\n",
        "model = Model(inputs=input_ids, outputs=out)\n",
        "model.compile(\n",
        "    Adagrad(lr=1e-5), # Experiment with lr\n",
        "    loss='sparse_categorical_crossentropy',  \n",
        "    metrics=['accuracy']\n",
        ")\n",
        "model.compile(optimizer=\"adagrad\", loss=\"categorical_crossentropy\", metrics=[\"accuracy\"])\n",
        "\n",
        "# model.summary()"
      ],
      "metadata": {
        "colab": {
          "base_uri": "https://localhost:8080/"
        },
        "id": "fw2B1-fLgarE",
        "outputId": "94f04d50-f398-4efa-c869-742fae4a8678"
      },
      "execution_count": null,
      "outputs": [
        {
          "output_type": "stream",
          "name": "stderr",
          "text": [
            "Some layers from the model checkpoint at bert-base-multilingual-uncased were not used when initializing TFBertModel: ['nsp___cls', 'mlm___cls']\n",
            "- This IS expected if you are initializing TFBertModel from the checkpoint of a model trained on another task or with another architecture (e.g. initializing a BertForSequenceClassification model from a BertForPreTraining model).\n",
            "- This IS NOT expected if you are initializing TFBertModel from the checkpoint of a model that you expect to be exactly identical (initializing a BertForSequenceClassification model from a BertForSequenceClassification model).\n",
            "All the layers of TFBertModel were initialized from the model checkpoint at bert-base-multilingual-uncased.\n",
            "If your task is similar to the task the model of the checkpoint was trained on, you can already use TFBertModel for predictions without further training.\n"
          ]
        },
        {
          "output_type": "stream",
          "name": "stdout",
          "text": [
            "WARNING:tensorflow:Layer lstm_10 will not use cuDNN kernels since it doesn't meet the criteria. It will use a generic GPU kernel as fallback when running on GPU.\n",
            "WARNING:tensorflow:Layer lstm_10 will not use cuDNN kernels since it doesn't meet the criteria. It will use a generic GPU kernel as fallback when running on GPU.\n",
            "WARNING:tensorflow:Layer lstm_10 will not use cuDNN kernels since it doesn't meet the criteria. It will use a generic GPU kernel as fallback when running on GPU.\n",
            "WARNING:tensorflow:Layer lstm_11 will not use cuDNN kernels since it doesn't meet the criteria. It will use a generic GPU kernel as fallback when running on GPU.\n",
            "WARNING:tensorflow:Layer lstm_11 will not use cuDNN kernels since it doesn't meet the criteria. It will use a generic GPU kernel as fallback when running on GPU.\n",
            "WARNING:tensorflow:Layer lstm_11 will not use cuDNN kernels since it doesn't meet the criteria. It will use a generic GPU kernel as fallback when running on GPU.\n"
          ]
        }
      ]
    },
    {
      "cell_type": "code",
      "source": [
        "model.summary()"
      ],
      "metadata": {
        "colab": {
          "base_uri": "https://localhost:8080/"
        },
        "id": "3WGrPEfJ4hE4",
        "outputId": "76ed97cd-07bd-417c-a159-0681d16d0c49"
      },
      "execution_count": null,
      "outputs": [
        {
          "output_type": "stream",
          "name": "stdout",
          "text": [
            "Model: \"model_6\"\n",
            "_________________________________________________________________\n",
            " Layer (type)                Output Shape              Param #   \n",
            "=================================================================\n",
            " input_ids (InputLayer)      [(None, 36)]              0         \n",
            "                                                                 \n",
            " tf_bert_model_7 (TFBertMode  TFBaseModelOutputWithPoo  167356416\n",
            " l)                          lingAndCrossAttentions(l            \n",
            "                             ast_hidden_state=(None,             \n",
            "                             36, 768),                           \n",
            "                              pooler_output=(None, 76            \n",
            "                             8),                                 \n",
            "                              past_key_values=None, h            \n",
            "                             idden_states=None, atten            \n",
            "                             tions=None, cross_attent            \n",
            "                             ions=None)                          \n",
            "                                                                 \n",
            " bidirectional_10 (Bidirecti  (None, 36, 512)          2099200   \n",
            " onal)                                                           \n",
            "                                                                 \n",
            " bidirectional_11 (Bidirecti  (None, 36, 512)          1574912   \n",
            " onal)                                                           \n",
            "                                                                 \n",
            " dropout_302 (Dropout)       (None, 36, 512)           0         \n",
            "                                                                 \n",
            " time_distributed_6 (TimeDis  (None, 36, 7)            3591      \n",
            " tributed)                                                       \n",
            "                                                                 \n",
            "=================================================================\n",
            "Total params: 171,034,119\n",
            "Trainable params: 171,034,119\n",
            "Non-trainable params: 0\n",
            "_________________________________________________________________\n"
          ]
        }
      ]
    },
    {
      "cell_type": "code",
      "metadata": {
        "id": "F2htCwZpa7fD"
      },
      "source": [
        "# # Prior Model\n",
        "# from keras.backend import dropout\n",
        "# from keras.layers import Dropout\n",
        "\n",
        "# LSTM_N=100\n",
        "# BS=64\n",
        "# embed_dim=64\n",
        "\n",
        "# # 180 dimensional word indices as input\n",
        "# input = Input(shape=(MAXLEN,))\n",
        " \n",
        "# # Embedding layer of same length output (180 dim embedding will be generated)\n",
        "# model = Embedding(input_dim=n_words, output_dim=embed_dim, input_length=MAXLEN)(input)\n",
        " \n",
        "# # Adding dropout layer\n",
        "# # model = Dropout(0.2)(model)\n",
        " \n",
        "# # Bidirectional LSTM to learn from both forward as well as backward context\n",
        "# model = Bidirectional(LSTM(units=LSTM_N, recurrent_activation='relu', return_sequences=True, recurrent_dropout=0.5))(model)\n",
        "# model = Bidirectional(LSTM(units=LSTM_N, recurrent_activation='relu', return_sequences=True, recurrent_dropout=0.5))(model)\n",
        " \n",
        "# # Adding a TimeDistributedDense, to applying a Dense layer on each 180 timesteps\n",
        "# model = Dropout(0.5)(model)\n",
        "# out = TimeDistributed(Dense(n_tags, activation=\"softmax\"))(model) # softmax output layer\n",
        "# model = Model(input, out)\n",
        " \n",
        "# model.compile(optimizer=\"adagrad\", loss=\"categorical_crossentropy\", metrics=[\"accuracy\"])\n",
        "# model.summary()"
      ],
      "execution_count": null,
      "outputs": []
    },
    {
      "cell_type": "code",
      "metadata": {
        "colab": {
          "base_uri": "https://localhost:8080/"
        },
        "id": "_3PcfRNvbC-q",
        "outputId": "fd9a3ec1-339b-4f45-8710-deda2a4390ed"
      },
      "source": [
        "history = model.fit(X, np.array(y), batch_size=BS, epochs=5, validation_split=0.15, verbose=1)"
      ],
      "execution_count": null,
      "outputs": [
        {
          "output_type": "stream",
          "name": "stdout",
          "text": [
            "Epoch 1/5\n",
            "WARNING:tensorflow:Gradients do not exist for variables ['tf_bert_model_7/bert/pooler/dense/kernel:0', 'tf_bert_model_7/bert/pooler/dense/bias:0'] when minimizing the loss. If you're using `model.compile()`, did you forget to provide a `loss`argument?\n",
            "WARNING:tensorflow:Gradients do not exist for variables ['tf_bert_model_7/bert/pooler/dense/kernel:0', 'tf_bert_model_7/bert/pooler/dense/bias:0'] when minimizing the loss. If you're using `model.compile()`, did you forget to provide a `loss`argument?\n",
            "33/33 [==============================] - 59s 1s/step - loss: 1.9144 - accuracy: 0.2110 - val_loss: 1.9744 - val_accuracy: 0.0095\n",
            "Epoch 2/5\n",
            "33/33 [==============================] - 29s 876ms/step - loss: 1.6668 - accuracy: 0.4431 - val_loss: 1.7701 - val_accuracy: 0.8877\n",
            "Epoch 3/5\n",
            "33/33 [==============================] - 29s 869ms/step - loss: 1.3959 - accuracy: 0.6827 - val_loss: 1.4152 - val_accuracy: 0.9453\n",
            "Epoch 4/5\n",
            "33/33 [==============================] - 29s 896ms/step - loss: 0.7902 - accuracy: 0.9354 - val_loss: 0.6685 - val_accuracy: 0.9453\n",
            "Epoch 5/5\n",
            "33/33 [==============================] - 29s 866ms/step - loss: 0.4265 - accuracy: 0.9504 - val_loss: 0.4640 - val_accuracy: 0.9453\n"
          ]
        }
      ]
    },
    {
      "cell_type": "code",
      "metadata": {
        "id": "Aa0MqxWTbzrh"
      },
      "source": [
        ""
      ],
      "execution_count": null,
      "outputs": []
    },
    {
      "cell_type": "markdown",
      "metadata": {
        "id": "KZQyphP3b5Zr"
      },
      "source": [
        "### Test-Data"
      ]
    },
    {
      "cell_type": "code",
      "metadata": {
        "colab": {
          "base_uri": "https://localhost:8080/"
        },
        "id": "md6jV21ka7wW",
        "outputId": "3f9e8377-b929-452d-a559-a521444228be"
      },
      "source": [
        "test_data=open('/content/drive/MyDrive/Acads/4-1/BTP/DATASET/ner_hineng/dev.conll',mode='r',encoding='utf-8')\n",
        "test_data=test_data.read()\n",
        "print(type(test_data))"
      ],
      "execution_count": null,
      "outputs": [
        {
          "output_type": "stream",
          "name": "stdout",
          "text": [
            "<class 'str'>\n"
          ]
        }
      ]
    },
    {
      "cell_type": "code",
      "metadata": {
        "colab": {
          "base_uri": "https://localhost:8080/"
        },
        "id": "pXM8cKMpbxbG",
        "outputId": "56eed9a8-c22f-44c7-d1f3-5b2f63baf51a"
      },
      "source": [
        "test_count=0\n",
        "test_sen_id=[]\n",
        "test_sentences=[]\n",
        "for sen in test_data.strip().split(\"# sent_enum = \"):\n",
        "  if(len(sen)>0):\n",
        "    test_count+=1\n",
        "    idx=sen.find(\"\\n\")\n",
        "    test_sen_id.append(sen[:idx])\n",
        "    txt=[]\n",
        "    for token in sen[idx+1:].strip().split('\\n'):\n",
        "      tok=token.split()\n",
        "      if(tok[1]=='hi'):\n",
        "        tok[0]=transliterate(tok[0], sanscript.ITRANS, sanscript.DEVANAGARI)\n",
        "      txt.append(tok)\n",
        "    test_sentences.append(txt)\n",
        "\n",
        "print(test_count)"
      ],
      "execution_count": null,
      "outputs": [
        {
          "output_type": "stream",
          "name": "stdout",
          "text": [
            "314\n"
          ]
        }
      ]
    },
    {
      "cell_type": "code",
      "source": [
        "max_len=0\n",
        "min_len=0\n",
        "avg_len=0\n",
        "for sen in test_sentences:\n",
        "  l=len(sen)\n",
        "  if(l>max_len):\n",
        "    max_len=l\n",
        "  if(l<min_len):\n",
        "    min_len=l\n",
        "  avg_len+=l\n",
        "avg_len/=len(test_sentences)\n",
        "\n",
        "print(len(test_sentences))\n",
        "print(\"MIN Length of sentences is\",min_len)\n",
        "print(\"MAX Length of sentences is\",max_len)\n",
        "print(\"AVG Length of sentences is\",avg_len)"
      ],
      "metadata": {
        "colab": {
          "base_uri": "https://localhost:8080/"
        },
        "id": "9Dnhkbxp_Tda",
        "outputId": "babf89a5-c051-4de1-f8f1-cf9fd80b340c"
      },
      "execution_count": null,
      "outputs": [
        {
          "output_type": "stream",
          "name": "stdout",
          "text": [
            "314\n",
            "MIN Length of sentences is 0\n",
            "MAX Length of sentences is 34\n",
            "AVG Length of sentences is 17.0828025477707\n"
          ]
        }
      ]
    },
    {
      "cell_type": "code",
      "metadata": {
        "colab": {
          "base_uri": "https://localhost:8080/"
        },
        "id": "WtRHjnmdbxdu",
        "outputId": "67047b2c-28a4-4f3e-cd72-7f1de8b3f393"
      },
      "source": [
        "print(test_sentences[3])"
      ],
      "execution_count": null,
      "outputs": [
        {
          "output_type": "stream",
          "name": "stdout",
          "text": [
            "[['RT', 'en', 'O'], ['@AamAadmiParty', 'en', 'O'], [':', 'rest', 'O'], ['National', 'en', 'B-ORGANISATION'], ['Disciplinary', 'en', 'I-ORGANISATION'], ['Committee', 'en', 'I-ORGANISATION'], ['has', 'en', 'O'], ['expelled', 'en', 'O'], ['Yogendra', 'en', 'B-PERSON'], ['Yadav', 'rest', 'I-PERSON'], [',', 'rest', 'O'], ['Prashant', 'en', 'B-PERSON'], ['Bहुशन्', 'hi', 'I-PERSON'], [',', 'rest', 'O'], ['Prof', 'en', 'O'], ['Anand', 'en', 'B-PERSON'], ['and', 'en', 'O'], ['Ajit', 'en', 'B-PERSON'], ['ज़्ह', 'hi', 'I-PERSON'], ['from', 'en', 'O'], ['AAP', 'rest', 'B-ORGANISATION'], ['.', 'rest', 'O'], ['PR', 'rest', 'O'], [':', 'rest', 'O'], ['htt', 'en', 'O']]\n"
          ]
        }
      ]
    },
    {
      "cell_type": "code",
      "metadata": {
        "colab": {
          "base_uri": "https://localhost:8080/"
        },
        "id": "fF9FLY4abxg7",
        "outputId": "1a8bee6d-cdfe-4ba3-a933-7a50a88ecc4f"
      },
      "source": [
        "# Converting words to indices for test sentences (Features)\n",
        "X_test = [[word2idx[w[0]] if w in un_words else word2idx[\"<OOV>\"] for w in s] for s in test_sentences]\n",
        "'''\n",
        "Padding train and test sentences to 32 words.\n",
        "Sentences of length greater than 32 words are truncated.\n",
        "Sentences of length less than 32 words are padded with a high value.\n",
        "'''\n",
        "X_test = pad_sequences(maxlen=MAXLEN, sequences=X_test, padding=\"post\", truncating=\"post\", value=n_words - 1)\n",
        "print(X_test.shape)"
      ],
      "execution_count": null,
      "outputs": [
        {
          "output_type": "stream",
          "name": "stdout",
          "text": [
            "(314, 36)\n"
          ]
        }
      ]
    },
    {
      "cell_type": "code",
      "metadata": {
        "colab": {
          "base_uri": "https://localhost:8080/"
        },
        "id": "b9AmiNPFfGc2",
        "outputId": "704f0e97-205e-4614-ce09-40b9f03d4c2e"
      },
      "source": [
        "y_test=[[tag2idx[w[2]] for w in s] for s in test_sentences]\n",
        "# Padding tag labels to 180 words.\n",
        "y_test_pad = pad_sequences(maxlen=MAXLEN, sequences=y_test, padding=\"post\", truncating=\"post\", value=tag2idx[\"O\"])\n",
        "print(y_test_pad.shape)"
      ],
      "execution_count": null,
      "outputs": [
        {
          "output_type": "stream",
          "name": "stdout",
          "text": [
            "(314, 36)\n"
          ]
        }
      ]
    },
    {
      "cell_type": "code",
      "source": [
        "print(tag2idx)"
      ],
      "metadata": {
        "colab": {
          "base_uri": "https://localhost:8080/"
        },
        "id": "Wleo0C6CBPk7",
        "outputId": "40879758-2d3a-42d5-e988-b4c2274de99c"
      },
      "execution_count": null,
      "outputs": [
        {
          "output_type": "stream",
          "name": "stdout",
          "text": [
            "{'B-ORGANISATION': 0, 'B-PLACE': 1, 'I-ORGANISATION': 2, 'O': 3, 'I-PLACE': 4, 'I-PERSON': 5, 'B-PERSON': 6}\n"
          ]
        }
      ]
    },
    {
      "cell_type": "code",
      "source": [
        "print(len(test_sentences[3]))\n",
        "print(test_sentences[3])\n",
        "print(y_test[3])\n",
        "print(y_test_pad[3])"
      ],
      "metadata": {
        "colab": {
          "base_uri": "https://localhost:8080/"
        },
        "id": "b96Jqr21A_3C",
        "outputId": "4d7c32d5-c377-47ca-ca06-7f25708bd344"
      },
      "execution_count": null,
      "outputs": [
        {
          "output_type": "stream",
          "name": "stdout",
          "text": [
            "25\n",
            "[['RT', 'en', 'O'], ['@AamAadmiParty', 'en', 'O'], [':', 'rest', 'O'], ['National', 'en', 'B-ORGANISATION'], ['Disciplinary', 'en', 'I-ORGANISATION'], ['Committee', 'en', 'I-ORGANISATION'], ['has', 'en', 'O'], ['expelled', 'en', 'O'], ['Yogendra', 'en', 'B-PERSON'], ['Yadav', 'rest', 'I-PERSON'], [',', 'rest', 'O'], ['Prashant', 'en', 'B-PERSON'], ['Bहुशन्', 'hi', 'I-PERSON'], [',', 'rest', 'O'], ['Prof', 'en', 'O'], ['Anand', 'en', 'B-PERSON'], ['and', 'en', 'O'], ['Ajit', 'en', 'B-PERSON'], ['ज़्ह', 'hi', 'I-PERSON'], ['from', 'en', 'O'], ['AAP', 'rest', 'B-ORGANISATION'], ['.', 'rest', 'O'], ['PR', 'rest', 'O'], [':', 'rest', 'O'], ['htt', 'en', 'O']]\n",
            "[3, 3, 3, 0, 2, 2, 3, 3, 6, 5, 3, 6, 5, 3, 3, 6, 3, 6, 5, 3, 0, 3, 3, 3, 3]\n",
            "[3 3 3 0 2 2 3 3 6 5 3 6 5 3 3 6 3 6 5 3 0 3 3 3 3 3 3 3 3 3 3 3 3 3 3 3]\n"
          ]
        }
      ]
    },
    {
      "cell_type": "code",
      "source": [
        "# print(Counter(y_test_pad.view(-1,).to_list()))\n",
        "print(y_test_pad.shape)\n",
        "y_test_pad_list=y_test_pad.flatten().tolist()\n",
        "print(y_test_pad.shape)\n",
        "print(len(y_test_pad_list))\n",
        "print(Counter(y_test_pad_list))"
      ],
      "metadata": {
        "colab": {
          "base_uri": "https://localhost:8080/"
        },
        "id": "QpgUYe8tEip-",
        "outputId": "fc32dce5-ec5d-493e-9b8c-4d7039d3c9d0"
      },
      "execution_count": null,
      "outputs": [
        {
          "output_type": "stream",
          "name": "stdout",
          "text": [
            "(314, 36)\n",
            "(314, 36)\n",
            "11304\n",
            "Counter({3: 10729, 6: 254, 5: 112, 1: 105, 0: 61, 4: 24, 2: 19})\n"
          ]
        }
      ]
    },
    {
      "cell_type": "code",
      "source": [
        ""
      ],
      "metadata": {
        "id": "7DkVkQ8QEimu"
      },
      "execution_count": null,
      "outputs": []
    },
    {
      "cell_type": "code",
      "source": [
        ""
      ],
      "metadata": {
        "id": "VRdxpavvEY1-"
      },
      "execution_count": null,
      "outputs": []
    },
    {
      "cell_type": "code",
      "metadata": {
        "colab": {
          "base_uri": "https://localhost:8080/"
        },
        "id": "C_YGXHFEfGZk",
        "outputId": "dc6ed6d8-e185-47cb-a907-4fffd820a720"
      },
      "source": [
        "# Predicting on trained model\n",
        "pred = model.predict(X_test)\n",
        "print(\"Predicted Probabilities on Test Set:\\n\",pred.shape)\n",
        "# taking tag class with maximum probability\n",
        "pred_index = np.argmax(pred, axis=-1)\n",
        "print(\"Predicted tag indices: \\n\",pred_index.shape)\n",
        "pred_index_list=pred_index.flatten().tolist()\n",
        "print(len(pred_index_list))\n",
        "print(Counter(pred_index_list))"
      ],
      "execution_count": null,
      "outputs": [
        {
          "output_type": "stream",
          "name": "stdout",
          "text": [
            "Predicted Probabilities on Test Set:\n",
            " (314, 36, 7)\n",
            "Predicted tag indices: \n",
            " (314, 36)\n",
            "11304\n",
            "Counter({3: 11304})\n"
          ]
        }
      ]
    },
    {
      "cell_type": "code",
      "source": [
        "def compute_predicted_tags(pred,threshold):\n",
        "  pred_index=[]\n",
        "  for y_s in pred:\n",
        "    pred_s=[]\n",
        "    for t in y_s:\n",
        "      # print(t)\n",
        "      i1=i2=0\n",
        "      p1=p2=0\n",
        "      for i,p in enumerate(t):\n",
        "        if(p>p1):\n",
        "          i2,i1=i1,i\n",
        "          p2,p1=p1,p\n",
        "        elif(p>p2):\n",
        "          i2=i\n",
        "          p2=p\n",
        "      if(i1==tag2idx[\"O\"]):\n",
        "        if(t[i1]>threshold):\n",
        "          pred_s.append(i1)\n",
        "        else:\n",
        "          pred_s.append(i2)\n",
        "      else:\n",
        "        pred_s.append(i1)\n",
        "    pred_index.append(pred_s)\n",
        "  pred_index=np.array(pred_index)\n",
        "  return pred_index\n",
        "\n",
        "# pred_index=[]\n",
        "# for y_s in pred:\n",
        "#   pred_s=[]\n",
        "#   for t in y_s:\n",
        "#     # print(t)\n",
        "#     i1=i2=0\n",
        "#     p1=p2=0\n",
        "#     for i,p in enumerate(t):\n",
        "#       if(p>p1):\n",
        "#         i2,i1=i1,i\n",
        "#         p2,p1=p1,p\n",
        "#       elif(p>p2):\n",
        "#         i2=i\n",
        "#         p2=p\n",
        "#     if(i1==tag2idx['O']):\n",
        "#       if(t[i1]>threshold):\n",
        "#         pred_s.append(i1)\n",
        "#       else:\n",
        "#         pred_s.append(i2)\n",
        "#     else:\n",
        "#       pred_s.append(i1)\n",
        "#   pred_index.append(pred_s)\n",
        "# pred_index=np.array(pred_index)"
      ],
      "metadata": {
        "id": "9QFqiRHX7nHQ"
      },
      "execution_count": null,
      "outputs": []
    },
    {
      "cell_type": "code",
      "source": [
        "def get_best_threshold(pred,f1_avg_technnique='macro'):\n",
        "  best_thres=0.2\n",
        "  best_score=0.0\n",
        "  y_act = y_test_pad.flatten().tolist()\n",
        "  for thres in range(1,100,1):\n",
        "    thres/=100.0\n",
        "    pred_index=compute_predicted_tags(pred,thres)\n",
        "    y_pred=pred_index.flatten().tolist()\n",
        "    score=f1_score(y_act, y_pred, average=f1_avg_technnique)\n",
        "    # print(f'{f1_avg_technnique} F1-score of {score} at threshold = {thres}')\n",
        "    if(score>best_score):\n",
        "      best_score=score\n",
        "      best_thres=thres\n",
        "  return best_thres,best_score"
      ],
      "metadata": {
        "id": "Ya9do2H9-L9S"
      },
      "execution_count": null,
      "outputs": []
    },
    {
      "cell_type": "code",
      "source": [
        "thres,f1=get_best_threshold(pred)\n",
        "print(f'Best f1-score of {f1} at threshold = {thres}')\n",
        "pred_index=compute_predicted_tags(pred,thres)"
      ],
      "metadata": {
        "colab": {
          "base_uri": "https://localhost:8080/"
        },
        "id": "oDwQfuEK9hx1",
        "outputId": "629066fe-089a-4574-e471-c288ae67860c"
      },
      "execution_count": null,
      "outputs": [
        {
          "output_type": "stream",
          "name": "stdout",
          "text": [
            "Best f1-score of 0.14799406967149364 at threshold = 0.37\n"
          ]
        }
      ]
    },
    {
      "cell_type": "code",
      "source": [
        "print(pred_index.shape)\n",
        "pred_index_list=pred_index.flatten().tolist()\n",
        "print(len(pred_index_list))\n",
        "print(Counter(pred_index_list))"
      ],
      "metadata": {
        "colab": {
          "base_uri": "https://localhost:8080/"
        },
        "id": "410v3ie96OFW",
        "outputId": "ff47088e-611c-49a1-93ac-a93d599f1d78"
      },
      "execution_count": null,
      "outputs": [
        {
          "output_type": "stream",
          "name": "stdout",
          "text": [
            "(314, 36)\n",
            "11304\n",
            "Counter({3: 10990, 6: 314})\n"
          ]
        }
      ]
    },
    {
      "cell_type": "code",
      "source": [
        "pred[0][:2]"
      ],
      "metadata": {
        "colab": {
          "base_uri": "https://localhost:8080/"
        },
        "id": "wRfiuBg2Mxun",
        "outputId": "6fdc7d9b-d5a7-46a8-dde9-d9f076b45904"
      },
      "execution_count": null,
      "outputs": [
        {
          "output_type": "execute_result",
          "data": {
            "text/plain": [
              "array([[0.10353652, 0.0946546 , 0.11520488, 0.36482936, 0.10853989,\n",
              "        0.09548506, 0.11774973],\n",
              "       [0.08562436, 0.08350094, 0.10500846, 0.45586288, 0.09183466,\n",
              "        0.07833226, 0.09983648]], dtype=float32)"
            ]
          },
          "metadata": {},
          "execution_count": 72
        }
      ]
    },
    {
      "cell_type": "code",
      "metadata": {
        "colab": {
          "base_uri": "https://localhost:8080/"
        },
        "id": "Xho-9_w8gXql",
        "outputId": "7dd5f24c-75e8-4843-dcd2-5676a2a7c64d"
      },
      "source": [
        "y_act,y_pred = y_test_pad.flatten().tolist(), pred_index.flatten().tolist()\n",
        "print(y_act[:10])\n",
        "print(y_pred[:10])"
      ],
      "execution_count": null,
      "outputs": [
        {
          "output_type": "stream",
          "name": "stdout",
          "text": [
            "[3, 3, 3, 3, 3, 3, 3, 3, 3, 3]\n",
            "[6, 3, 3, 3, 3, 3, 3, 3, 3, 3]\n"
          ]
        }
      ]
    },
    {
      "cell_type": "code",
      "source": [
        "print(Counter(pred_index.flatten().tolist()))"
      ],
      "metadata": {
        "colab": {
          "base_uri": "https://localhost:8080/"
        },
        "id": "KQ3atgkQHOxU",
        "outputId": "d4105f79-6c99-46ba-df34-3ff0f6edf16e"
      },
      "execution_count": null,
      "outputs": [
        {
          "output_type": "stream",
          "name": "stdout",
          "text": [
            "Counter({3: 10990, 6: 314})\n"
          ]
        }
      ]
    },
    {
      "cell_type": "code",
      "metadata": {
        "colab": {
          "base_uri": "https://localhost:8080/"
        },
        "id": "1YhvqzTAiNdn",
        "outputId": "4559945c-4fe7-408b-9de2-aea75abaf1de"
      },
      "source": [
        "accuracy=0\n",
        "for y_a,y_p in zip(y_act,y_pred):\n",
        "  if(y_a==y_p):\n",
        "    accuracy+=1\n",
        "accuracy/=len(y_act)\n",
        "print(accuracy)"
      ],
      "execution_count": null,
      "outputs": [
        {
          "output_type": "stream",
          "name": "stdout",
          "text": [
            "0.9260438782731777\n"
          ]
        }
      ]
    },
    {
      "cell_type": "code",
      "metadata": {
        "colab": {
          "base_uri": "https://localhost:8080/"
        },
        "id": "rvJzjEHaiNhF",
        "outputId": "dbfaf474-afa7-449f-d762-d2ce4e58a42d"
      },
      "source": [
        "print(f1_score(y_act, y_pred, average='macro'))\n",
        "print(f1_score(y_act, y_pred, average='micro'))\n",
        "print(f1_score(y_act, y_pred, average='weighted'))\n",
        "print(f1_score(y_act, y_pred, average=None))\n",
        "cm=confusion_matrix(y_act, y_pred)\n",
        "print(cm)"
      ],
      "execution_count": null,
      "outputs": [
        {
          "output_type": "stream",
          "name": "stdout",
          "text": [
            "0.14799406967149364\n",
            "0.9260438782731777\n",
            "0.9147415742554192\n",
            "[0.         0.         0.         0.96201483 0.         0.\n",
            " 0.07394366]\n",
            "[[    0     0     0    57     0     0     4]\n",
            " [    0     0     0    98     0     0     7]\n",
            " [    0     0     0    19     0     0     0]\n",
            " [    0     0     0 10447     0     0   282]\n",
            " [    0     0     0    24     0     0     0]\n",
            " [    0     0     0   112     0     0     0]\n",
            " [    0     0     0   233     0     0    21]]\n"
          ]
        }
      ]
    },
    {
      "cell_type": "code",
      "source": [
        "# print(list(tag2idx.keys()))\n",
        "tags=list(tag2idx.keys())\n",
        "print(tags)\n",
        "tags_hard=tags\n",
        "for i in range(0,len(tags_hard)):\n",
        "  tags_hard[i]=tags_hard[i][0:5]\n",
        "print(tags_hard)"
      ],
      "metadata": {
        "colab": {
          "base_uri": "https://localhost:8080/"
        },
        "id": "4YZDHyN5c2Of",
        "outputId": "f2991ff2-ce75-4575-a0cc-5995de4820c6"
      },
      "execution_count": null,
      "outputs": [
        {
          "output_type": "stream",
          "name": "stdout",
          "text": [
            "['B-ORGANISATION', 'B-PLACE', 'I-ORGANISATION', 'O', 'I-PLACE', 'I-PERSON', 'B-PERSON']\n",
            "['B-Org', 'B-Pl', 'I-Org', 'O', 'I-Pl', 'I-Per', 'B-Per']\n"
          ]
        }
      ]
    },
    {
      "cell_type": "code",
      "metadata": {
        "id": "u9u_Ut5Pipl5",
        "colab": {
          "base_uri": "https://localhost:8080/",
          "height": 295
        },
        "outputId": "d3e39df8-d4e5-4bff-9b10-dc21b40d0373"
      },
      "source": [
        "import seaborn as sns\n",
        "import matplotlib.pyplot as plt     \n",
        "\n",
        "ax= plt.subplot(1,1,1)\n",
        "sns.heatmap(cm, annot=True, fmt='g', ax=ax);  #annot=True to annotate cells, ftm='g' to disable scientific notation\n",
        "\n",
        "# labels, title and ticks\n",
        "ax.set_xlabel('Predicted labels');ax.set_ylabel('True labels'); \n",
        "ax.set_title('Confusion Matrix'); \n",
        "# tags=list(tag2idx.keys())\n",
        "# tags.reverse()\n",
        "ax.xaxis.set_ticklabels(tags_hard); ax.yaxis.set_ticklabels(tags_hard);"
      ],
      "execution_count": null,
      "outputs": [
        {
          "output_type": "display_data",
          "data": {
            "image/png": "[encoded data removed]",
            "text/plain": [
              "<Figure size 432x288 with 2 Axes>"
            ]
          },
          "metadata": {
            "needs_background": "light"
          }
        }
      ]
    },
    {
      "cell_type": "code",
      "metadata": {
        "id": "Yv6mnCvPipjE"
      },
      "source": [
        ""
      ],
      "execution_count": null,
      "outputs": []
    },
    {
      "cell_type": "markdown",
      "metadata": {
        "id": "xN0qYtQtAG_h"
      },
      "source": [
        "# Following Github\n",
        "[Lince](https://github.com/huggingface/datasets/blob/master/datasets/lince/lince.py)"
      ]
    },
    {
      "cell_type": "code",
      "metadata": {
        "id": "juxRN7hIAQMf"
      },
      "source": [
        "import csv\n",
        "import os\n",
        "import re\n",
        "import textwrap\n",
        "from itertools import groupby"
      ],
      "execution_count": null,
      "outputs": []
    },
    {
      "cell_type": "code",
      "metadata": {
        "colab": {
          "base_uri": "https://localhost:8080/"
        },
        "id": "Nf93dLDCBRL4",
        "outputId": "fcfb7749-f620-458c-8799-b85d08b239c7"
      },
      "source": [
        "!pip install datasets"
      ],
      "execution_count": null,
      "outputs": [
        {
          "output_type": "stream",
          "name": "stdout",
          "text": [
            "Collecting datasets\n",
            "  Downloading datasets-1.18.0-py3-none-any.whl (311 kB)\n",
            "\u001b[?25l\r\u001b[K     |█                               | 10 kB 20.6 MB/s eta 0:00:01\r\u001b[K     |██                              | 20 kB 7.6 MB/s eta 0:00:01\r\u001b[K     |███▏                            | 30 kB 4.9 MB/s eta 0:00:01\r\u001b[K     |████▏                           | 40 kB 4.5 MB/s eta 0:00:01\r\u001b[K     |█████▎                          | 51 kB 4.5 MB/s eta 0:00:01\r\u001b[K     |██████▎                         | 61 kB 4.7 MB/s eta 0:00:01\r\u001b[K     |███████▍                        | 71 kB 4.5 MB/s eta 0:00:01\r\u001b[K     |████████▍                       | 81 kB 5.0 MB/s eta 0:00:01\r\u001b[K     |█████████▌                      | 92 kB 5.1 MB/s eta 0:00:01\r\u001b[K     |██████████▌                     | 102 kB 4.9 MB/s eta 0:00:01\r\u001b[K     |███████████▋                    | 112 kB 4.9 MB/s eta 0:00:01\r\u001b[K     |████████████▋                   | 122 kB 4.9 MB/s eta 0:00:01\r\u001b[K     |█████████████▊                  | 133 kB 4.9 MB/s eta 0:00:01\r\u001b[K     |██████████████▊                 | 143 kB 4.9 MB/s eta 0:00:01\r\u001b[K     |███████████████▉                | 153 kB 4.9 MB/s eta 0:00:01\r\u001b[K     |████████████████▉               | 163 kB 4.9 MB/s eta 0:00:01\r\u001b[K     |██████████████████              | 174 kB 4.9 MB/s eta 0:00:01\r\u001b[K     |███████████████████             | 184 kB 4.9 MB/s eta 0:00:01\r\u001b[K     |████████████████████            | 194 kB 4.9 MB/s eta 0:00:01\r\u001b[K     |█████████████████████           | 204 kB 4.9 MB/s eta 0:00:01\r\u001b[K     |██████████████████████          | 215 kB 4.9 MB/s eta 0:00:01\r\u001b[K     |███████████████████████▏        | 225 kB 4.9 MB/s eta 0:00:01\r\u001b[K     |████████████████████████▏       | 235 kB 4.9 MB/s eta 0:00:01\r\u001b[K     |█████████████████████████▎      | 245 kB 4.9 MB/s eta 0:00:01\r\u001b[K     |██████████████████████████▎     | 256 kB 4.9 MB/s eta 0:00:01\r\u001b[K     |███████████████████████████▍    | 266 kB 4.9 MB/s eta 0:00:01\r\u001b[K     |████████████████████████████▍   | 276 kB 4.9 MB/s eta 0:00:01\r\u001b[K     |█████████████████████████████▌  | 286 kB 4.9 MB/s eta 0:00:01\r\u001b[K     |██████████████████████████████▌ | 296 kB 4.9 MB/s eta 0:00:01\r\u001b[K     |███████████████████████████████▋| 307 kB 4.9 MB/s eta 0:00:01\r\u001b[K     |████████████████████████████████| 311 kB 4.9 MB/s \n",
            "\u001b[?25hRequirement already satisfied: requests>=2.19.0 in /usr/local/lib/python3.7/dist-packages (from datasets) (2.23.0)\n",
            "Collecting xxhash\n",
            "  Downloading xxhash-2.0.2-cp37-cp37m-manylinux2010_x86_64.whl (243 kB)\n",
            "\u001b[K     |████████████████████████████████| 243 kB 9.1 MB/s \n",
            "\u001b[?25hCollecting huggingface-hub<1.0.0,>=0.1.0\n",
            "  Downloading huggingface_hub-0.4.0-py3-none-any.whl (67 kB)\n",
            "\u001b[K     |████████████████████████████████| 67 kB 4.0 MB/s \n",
            "\u001b[?25hRequirement already satisfied: packaging in /usr/local/lib/python3.7/dist-packages (from datasets) (21.3)\n",
            "Collecting aiohttp\n",
            "  Downloading aiohttp-3.8.1-cp37-cp37m-manylinux_2_5_x86_64.manylinux1_x86_64.manylinux_2_12_x86_64.manylinux2010_x86_64.whl (1.1 MB)\n",
            "\u001b[K     |████████████████████████████████| 1.1 MB 10.0 MB/s \n",
            "\u001b[?25hRequirement already satisfied: pandas in /usr/local/lib/python3.7/dist-packages (from datasets) (1.1.5)\n",
            "Requirement already satisfied: pyarrow!=4.0.0,>=3.0.0 in /usr/local/lib/python3.7/dist-packages (from datasets) (3.0.0)\n",
            "Collecting fsspec[http]>=2021.05.0\n",
            "  Downloading fsspec-2022.1.0-py3-none-any.whl (133 kB)\n",
            "\u001b[K     |████████████████████████████████| 133 kB 26.0 MB/s \n",
            "\u001b[?25hRequirement already satisfied: importlib-metadata in /usr/local/lib/python3.7/dist-packages (from datasets) (4.10.0)\n",
            "Requirement already satisfied: tqdm>=4.62.1 in /usr/local/lib/python3.7/dist-packages (from datasets) (4.62.3)\n",
            "Requirement already satisfied: numpy>=1.17 in /usr/local/lib/python3.7/dist-packages (from datasets) (1.19.5)\n",
            "Requirement already satisfied: multiprocess in /usr/local/lib/python3.7/dist-packages (from datasets) (0.70.12.2)\n",
            "Requirement already satisfied: dill in /usr/local/lib/python3.7/dist-packages (from datasets) (0.3.4)\n",
            "Requirement already satisfied: typing-extensions>=3.7.4.3 in /usr/local/lib/python3.7/dist-packages (from huggingface-hub<1.0.0,>=0.1.0->datasets) (3.10.0.2)\n",
            "Requirement already satisfied: filelock in /usr/local/lib/python3.7/dist-packages (from huggingface-hub<1.0.0,>=0.1.0->datasets) (3.4.2)\n",
            "Requirement already satisfied: pyyaml in /usr/local/lib/python3.7/dist-packages (from huggingface-hub<1.0.0,>=0.1.0->datasets) (3.13)\n",
            "Requirement already satisfied: pyparsing!=3.0.5,>=2.0.2 in /usr/local/lib/python3.7/dist-packages (from packaging->datasets) (3.0.6)\n",
            "Requirement already satisfied: idna<3,>=2.5 in /usr/local/lib/python3.7/dist-packages (from requests>=2.19.0->datasets) (2.10)\n",
            "Requirement already satisfied: certifi>=2017.4.17 in /usr/local/lib/python3.7/dist-packages (from requests>=2.19.0->datasets) (2021.10.8)\n",
            "Requirement already satisfied: chardet<4,>=3.0.2 in /usr/local/lib/python3.7/dist-packages (from requests>=2.19.0->datasets) (3.0.4)\n",
            "Requirement already satisfied: urllib3!=1.25.0,!=1.25.1,<1.26,>=1.21.1 in /usr/local/lib/python3.7/dist-packages (from requests>=2.19.0->datasets) (1.24.3)\n",
            "Collecting async-timeout<5.0,>=4.0.0a3\n",
            "  Downloading async_timeout-4.0.2-py3-none-any.whl (5.8 kB)\n",
            "Requirement already satisfied: attrs>=17.3.0 in /usr/local/lib/python3.7/dist-packages (from aiohttp->datasets) (21.4.0)\n",
            "Collecting aiosignal>=1.1.2\n",
            "  Downloading aiosignal-1.2.0-py3-none-any.whl (8.2 kB)\n",
            "Collecting frozenlist>=1.1.1\n",
            "  Downloading frozenlist-1.3.0-cp37-cp37m-manylinux_2_5_x86_64.manylinux1_x86_64.manylinux_2_17_x86_64.manylinux2014_x86_64.whl (144 kB)\n",
            "\u001b[K     |████████████████████████████████| 144 kB 26.3 MB/s \n",
            "\u001b[?25hRequirement already satisfied: charset-normalizer<3.0,>=2.0 in /usr/local/lib/python3.7/dist-packages (from aiohttp->datasets) (2.0.10)\n",
            "Collecting multidict<7.0,>=4.5\n",
            "  Downloading multidict-6.0.2-cp37-cp37m-manylinux_2_17_x86_64.manylinux2014_x86_64.whl (94 kB)\n",
            "\u001b[K     |████████████████████████████████| 94 kB 3.5 MB/s \n",
            "\u001b[?25hCollecting asynctest==0.13.0\n",
            "  Downloading asynctest-0.13.0-py3-none-any.whl (26 kB)\n",
            "Collecting yarl<2.0,>=1.0\n",
            "  Downloading yarl-1.7.2-cp37-cp37m-manylinux_2_5_x86_64.manylinux1_x86_64.manylinux_2_12_x86_64.manylinux2010_x86_64.whl (271 kB)\n",
            "\u001b[K     |████████████████████████████████| 271 kB 27.0 MB/s \n",
            "\u001b[?25hRequirement already satisfied: zipp>=0.5 in /usr/local/lib/python3.7/dist-packages (from importlib-metadata->datasets) (3.7.0)\n",
            "Requirement already satisfied: pytz>=2017.2 in /usr/local/lib/python3.7/dist-packages (from pandas->datasets) (2018.9)\n",
            "Requirement already satisfied: python-dateutil>=2.7.3 in /usr/local/lib/python3.7/dist-packages (from pandas->datasets) (2.8.2)\n",
            "Requirement already satisfied: six>=1.5 in /usr/local/lib/python3.7/dist-packages (from python-dateutil>=2.7.3->pandas->datasets) (1.15.0)\n",
            "Installing collected packages: multidict, frozenlist, yarl, asynctest, async-timeout, aiosignal, fsspec, aiohttp, xxhash, huggingface-hub, datasets\n",
            "Successfully installed aiohttp-3.8.1 aiosignal-1.2.0 async-timeout-4.0.2 asynctest-0.13.0 datasets-1.18.0 frozenlist-1.3.0 fsspec-2022.1.0 huggingface-hub-0.4.0 multidict-6.0.2 xxhash-2.0.2 yarl-1.7.2\n"
          ]
        }
      ]
    },
    {
      "cell_type": "code",
      "metadata": {
        "id": "g1dbHVTbAVl_"
      },
      "source": [
        "import datasets"
      ],
      "execution_count": null,
      "outputs": []
    },
    {
      "cell_type": "markdown",
      "metadata": {
        "id": "3mQo6bEbBmtv"
      },
      "source": [
        "### Citations and Dataset Configuration\n",
        "\n",
        "\n",
        "1.   _CITATION\n",
        "2.   _DESCRIPTION\n",
        "3.  _LINCE_URL\n",
        "4.  _DATASET_CITATIONS"
      ]
    },
    {
      "cell_type": "code",
      "metadata": {
        "id": "Jj2x-X77Bly_"
      },
      "source": [
        "_CITATION = \"\"\"\\\n",
        "@inproceedings{aguilar-etal-2020-lince,\n",
        "    title = \"{L}in{CE}: A Centralized Benchmark for Linguistic Code-switching Evaluation\",\n",
        "    author = \"Aguilar, Gustavo  and\n",
        "      Kar, Sudipta  and\n",
        "      Solorio, Thamar\",\n",
        "    booktitle = \"Proceedings of The 12th Language Resources and Evaluation Conference\",\n",
        "    month = may,\n",
        "    year = \"2020\",\n",
        "    address = \"Marseille, France\",\n",
        "    publisher = \"European Language Resources Association\",\n",
        "    url = \"https://www.aclweb.org/anthology/2020.lrec-1.223\",\n",
        "    pages = \"1803--1813\",\n",
        "    language = \"English\",\n",
        "    ISBN = \"979-10-95546-34-4\",\n",
        "}\n",
        "Note that each LinCE dataset has its own citation. Please see the source to see\n",
        "the correct citation for each contained dataset.\"\"\"\n",
        "\n",
        "_DESCRIPTION = \"\"\"\\\n",
        "LinCE is a centralized Linguistic Code-switching Evaluation benchmark\n",
        "(https://ritual.uh.edu/lince/) that contains data for training and evaluating\n",
        "NLP systems on code-switching tasks.\n",
        "\"\"\"\n",
        "\n",
        "_LINCE_URL = \"https://ritual.uh.edu/lince/libaccess/eyJ1c2VybmFtZSI6ICJodWdnaW5nZmFjZSBubHAiLCAidXNlcl9pZCI6IDExMSwgImVtYWlsIjogImR1bW15QGVtYWlsLmNvbSJ9\"\n",
        "\n",
        "_DATASET_CITATIONS = {\n",
        "    \"lid_spaeng\": textwrap.dedent(\n",
        "        \"\"\"\n",
        "        @inproceedings{molina-etal-2016-overview,\n",
        "           title = \"Overview for the Second Shared Task on Language Identification in Code-Switched Data\",\n",
        "           author = \"Molina, Giovanni and\n",
        "                     AlGhamdi, Fahad and\n",
        "                     Ghoneim, Mahmoud and\n",
        "                     Hawwari, Abdelati and\n",
        "                     Rey-Villamizar, Nicolas and\n",
        "                     Diab, Mona and\n",
        "                     Solorio, Thamar\",\n",
        "           booktitle = \"Proceedings of the Second Workshop on Computational Approaches to Code Switching\",\n",
        "           month = nov,\n",
        "           year = \"2016\",\n",
        "           address = \"Austin, Texas\",\n",
        "           publisher = \"Association for Computational Linguistics\",\n",
        "           url = \"https://www.aclweb.org/anthology/W16-5805\",\n",
        "           doi = \"10.18653/v1/W16-5805\",\n",
        "           pages = \"40--49\",\n",
        "        }\n",
        "        \"\"\"\n",
        "    ),\n",
        "    \"lid_hineng\": textwrap.dedent(\n",
        "        \"\"\"\n",
        "        @inproceedings{mave-etal-2018-language,\n",
        "           title = \"Language Identification and Analysis of Code-Switched Social Media Text\",\n",
        "           author = \"Mave, Deepthi and\n",
        "                     Maharjan, Suraj and\n",
        "                     Solorio, Thamar\",\n",
        "           booktitle = \"Proceedings of the Third Workshop on Computational Approaches to Linguistic Code-Switching\",\n",
        "           month = jul,\n",
        "           year = \"2018\",\n",
        "           address = \"Melbourne, Australia\",\n",
        "           publisher = \"Association for Computational Linguistics\",\n",
        "           url = \"https://www.aclweb.org/anthology/W18-3206\",\n",
        "           pages = \"51--61\"\n",
        "        }\n",
        "        \"\"\"\n",
        "    ),\n",
        "    \"lid_msaea\": textwrap.dedent(\n",
        "        \"\"\"\n",
        "        @inproceedings{molina-etal-2016-overview,\n",
        "           title = \"Overview for the Second Shared Task on Language Identification in Code-Switched Data\",\n",
        "           author = \"Molina, Giovanni and\n",
        "                     AlGhamdi, Fahad and\n",
        "                     Ghoneim, Mahmoud and\n",
        "                     Hawwari, Abdelati and\n",
        "                     Rey-Villamizar, Nicolas and\n",
        "                     Diab, Mona and\n",
        "                     Solorio, Thamar\",\n",
        "           booktitle = \"Proceedings of the Second Workshop on Computational Approaches to Code Switching\",\n",
        "           month = nov,\n",
        "           year = \"2016\",\n",
        "           address = \"Austin, Texas\",\n",
        "           publisher = \"Association for Computational Linguistics\",\n",
        "           url = \"https://www.aclweb.org/anthology/W16-5805\",\n",
        "           doi = \"10.18653/v1/W16-5805\",\n",
        "           pages = \"40--49\",\n",
        "        }\n",
        "        \"\"\"\n",
        "    ),\n",
        "    \"lid_nepeng\": textwrap.dedent(\n",
        "        \"\"\"\n",
        "        @inproceedings{solorio-etal-2014-overview,\n",
        "           title = \"Overview for the First Shared Task on Language Identification in Code-Switched Data\",\n",
        "           author = \"Solorio, Thamar and\n",
        "                     Blair, Elizabeth and\n",
        "                     Maharjan, Suraj and\n",
        "                     Bethard, Steven and\n",
        "                     Diab, Mona and\n",
        "                     Ghoneim, Mahmoud and\n",
        "                     Hawwari, Abdelati and\n",
        "                     AlGhamdi, Fahad and\n",
        "                     Hirschberg, Julia and\n",
        "                     Chang, Alison and\n",
        "                     Fung, Pascale\",\n",
        "           booktitle = \"Proceedings of the First Workshop on Computational Approaches to Code Switching\",\n",
        "           month = oct,\n",
        "           year = \"2014\",\n",
        "           address = \"Doha, Qatar\",\n",
        "           publisher = \"Association for Computational Linguistics\",\n",
        "           url = \"https://www.aclweb.org/anthology/W14-3907\",\n",
        "           doi = \"10.3115/v1/W14-3907\",\n",
        "           pages = \"62--72\",\n",
        "        }\n",
        "        \"\"\"\n",
        "    ),\n",
        "    \"pos_spaeng\": textwrap.dedent(\n",
        "        \"\"\"\n",
        "        @inproceedings{alghamdi-etal-2016-part,\n",
        "           title = \"Part of Speech Tagging for Code Switched Data\",\n",
        "           author = \"AlGhamdi, Fahad and\n",
        "                     Molina, Giovanni and\n",
        "                     Diab, Mona and\n",
        "                     Solorio, Thamar and\n",
        "                     Hawwari, Abdelati and\n",
        "                     Soto, Victor and\n",
        "                     Hirschberg, Julia\",\n",
        "           booktitle = \"Proceedings of the Second Workshop on Computational Approaches to Code Switching\",\n",
        "           month = nov,\n",
        "           year = \"2016\",\n",
        "           address = \"Austin, Texas\",\n",
        "           publisher = \"Association for Computational Linguistics\",\n",
        "           url = \"https://www.aclweb.org/anthology/W16-5812\",\n",
        "           doi = \"10.18653/v1/W16-5812\",\n",
        "           pages = \"98--107\",\n",
        "        }\n",
        "        \"\"\"\n",
        "    ),\n",
        "    \"pos_hineng\": textwrap.dedent(\n",
        "        \"\"\"\n",
        "        @inproceedings{singh-etal-2018-twitter,\n",
        "           title = \"A Twitter Corpus for {H}indi-{E}nglish Code Mixed {POS} Tagging\",\n",
        "           author = \"Singh, Kushagra and\n",
        "                     Sen, Indira and\n",
        "                     Kumaraguru, Ponnurangam\",\n",
        "           booktitle = \"Proceedings of the Sixth International Workshop on Natural Language Processing for Social Media\",\n",
        "           month = jul,\n",
        "           year = \"2018\",\n",
        "           address = \"Melbourne, Australia\",\n",
        "           publisher = \"Association for Computational Linguistics\",\n",
        "           url = \"https://www.aclweb.org/anthology/W18-3503\",\n",
        "           doi = \"10.18653/v1/W18-3503\",\n",
        "           pages = \"12--17\"\n",
        "        }\n",
        "        \"\"\"\n",
        "    ),\n",
        "    \"ner_spaeng\": textwrap.dedent(\n",
        "        \"\"\"\n",
        "        @inproceedings{aguilar-etal-2018-named,\n",
        "           title = {{Named Entity Recognition on Code-Switched Data: Overview of the CALCS 2018 Shared Task}},\n",
        "           author = \"Aguilar, Gustavo and\n",
        "                     AlGhamdi, Fahad and\n",
        "                     Soto, Victor and\n",
        "                     Diab, Mona and\n",
        "                     Hirschberg, Julia and\n",
        "                     Solorio, Thamar\",\n",
        "           booktitle = {{Proceedings of the Third Workshop on Computational Approaches to Linguistic Code-Switching}},\n",
        "           month = jul,\n",
        "           year = \"2018\",\n",
        "           address = \"Melbourne, Australia\",\n",
        "           publisher = \"Association for Computational Linguistics\",\n",
        "           url = \"https://www.aclweb.org/anthology/W18-3219\",\n",
        "           pages = \"138--147\"\n",
        "        }\n",
        "        \"\"\"\n",
        "    ),\n",
        "    \"ner_msaea\": textwrap.dedent(\n",
        "        \"\"\"\n",
        "        @inproceedings{aguilar-etal-2018-named,\n",
        "           title = {{Named Entity Recognition on Code-Switched Data: Overview of the CALCS 2018 Shared Task}},\n",
        "           author = \"Aguilar, Gustavo and\n",
        "                     AlGhamdi, Fahad and\n",
        "                     Soto, Victor and\n",
        "                     Diab, Mona and\n",
        "                     Hirschberg, Julia and\n",
        "                     Solorio, Thamar\",\n",
        "           booktitle = {{Proceedings of the Third Workshop on Computational Approaches to Linguistic Code-Switching}},\n",
        "           month = jul,\n",
        "           year = \"2018\",\n",
        "           address = \"Melbourne, Australia\",\n",
        "           publisher = \"Association for Computational Linguistics\",\n",
        "           url = \"https://www.aclweb.org/anthology/W18-3219\",\n",
        "           pages = \"138--147\"\n",
        "        }\n",
        "        \"\"\"\n",
        "    ),\n",
        "    \"ner_hineng\": textwrap.dedent(\n",
        "        \"\"\"\n",
        "        @inproceedings{singh-etal-2018-language,\n",
        "           title = \"Language Identification and Named Entity Recognition in {H}inglish Code Mixed Tweets\",\n",
        "           author = \"Singh, Kushagra and\n",
        "                     Sen, Indira and\n",
        "                     Kumaraguru, Ponnurangam\",\n",
        "           booktitle = \"Proceedings of {ACL} 2018, Student Research Workshop\",\n",
        "           month = jul,\n",
        "           year = \"2018\",\n",
        "           address = \"Melbourne, Australia\",\n",
        "           publisher = \"Association for Computational Linguistics\",\n",
        "           url = \"https://www.aclweb.org/anthology/P18-3008\",\n",
        "           doi = \"10.18653/v1/P18-3008\",\n",
        "           pages = \"52--58\",\n",
        "        }\n",
        "        \"\"\"\n",
        "    ),\n",
        "    \"sa_spaeng\": textwrap.dedent(\n",
        "        \"\"\"\n",
        "        @inproceedings{patwa2020sentimix,\n",
        "          title={SemEval-2020 Task 9: Overview of Sentiment Analysis of Code-Mixed Tweets},\n",
        "          author=\"Patwa, Parth and\n",
        "                  Aguilar, Gustavo and\n",
        "                  Kar, Sudipta and\n",
        "                  Pandey, Suraj and\n",
        "                  PYKL, Srinivas and\n",
        "                  Garrette, Dan and\n",
        "                  Gamb{\\\"a}ck, Bj{\\\"o}rn and\n",
        "                  Chakraborty, Tanmoy and\n",
        "                  Solorio, Thamar and\n",
        "                  Das, Amitava\",\n",
        "          booktitle = \"Proceedings of the 14th International Workshop on Semantic Evaluation ({S}em{E}val-2020)\",\n",
        "          year = 2020,\n",
        "          month = sep,\n",
        "          address = \"Barcelona, Spain\",\n",
        "          publisher = \"Association for Computational Linguistics\"\n",
        "        }\n",
        "        \"\"\"\n",
        "    ),\n",
        "}\n"
      ],
      "execution_count": null,
      "outputs": []
    },
    {
      "cell_type": "markdown",
      "metadata": {
        "id": "saGNyLn_CJWO"
      },
      "source": [
        "### Classes"
      ]
    },
    {
      "cell_type": "code",
      "metadata": {
        "id": "jHprwfnmAh_K"
      },
      "source": [
        "class LinceConfig(datasets.BuilderConfig):\n",
        "    \"\"\"BuilderConfig for LinCE\"\"\"\n",
        "\n",
        "    def __init__(self, colnames, classes, label_column, **kwargs):\n",
        "        super(LinceConfig, self).__init__(\n",
        "            version=datasets.Version(\n",
        "                \"1.0.0\", description=\"The Linguistic Code-switching Evaluation (LinCE) benchmark\"\n",
        "            ),\n",
        "            **kwargs,\n",
        "        )\n",
        "        self.colnames = colnames\n",
        "        self.classes = classes\n",
        "        self.label_column = label_column"
      ],
      "execution_count": null,
      "outputs": []
    },
    {
      "cell_type": "code",
      "metadata": {
        "id": "n9ksOF2WCsrr"
      },
      "source": [
        "class Lince(datasets.GeneratorBasedBuilder):\n",
        "    \"\"\"TODO(lince): Short description of the LinCE dataset.\"\"\"\n",
        "\n",
        "    BUILDER_CONFIG_CLASS = LinceConfig\n",
        "    BUILDER_CONFIGS = [\n",
        "        # ==========================================================================================\n",
        "        # Language Identification (LID) datasets\n",
        "        LinceConfig(\n",
        "            name=\"lid_spaeng\",\n",
        "            data_dir=\"lid_spaeng\",\n",
        "            colnames={\"words\": 0, \"lid\": 1},\n",
        "            classes={\"lid\": [\"lang1\", \"lang2\", \"ne\", \"fw\", \"ambiguous\", \"mixed\", \"other\", \"unk\"]},\n",
        "            label_column=\"lid\",\n",
        "            description=\"Spanish-English language identification dataset (Latin script)\",\n",
        "        ),\n",
        "        LinceConfig(\n",
        "            name=\"lid_hineng\",\n",
        "            data_dir=\"lid_hineng\",\n",
        "            colnames={\"words\": 0, \"lid\": 1},\n",
        "            classes={\"lid\": [\"lang1\", \"lang2\", \"ne\", \"fw\", \"ambiguous\", \"mixed\", \"other\", \"unk\"]},\n",
        "            label_column=\"lid\",\n",
        "            description=\"Hindi-English language identification dataset (Latin script)\",\n",
        "        ),\n",
        "        LinceConfig(\n",
        "            name=\"lid_msaea\",\n",
        "            data_dir=\"lid_msaea\",\n",
        "            colnames={\"words\": 0, \"lid\": 1},\n",
        "            classes={\n",
        "                \"lid\": [\"ambiguous\", \"lang1\", \"lang2\", \"mixed\", \"ne\", \"other\"],\n",
        "            },\n",
        "            label_column=\"lid\",\n",
        "            description=\"Modern Standard Arabic-Egyptian Arabic language identification dataset (Persian script)\",\n",
        "        ),\n",
        "        LinceConfig(\n",
        "            name=\"lid_nepeng\",\n",
        "            data_dir=\"lid_nepeng\",\n",
        "            colnames={\"words\": 0, \"lid\": 1},\n",
        "            classes={\n",
        "                \"lid\": [\"ambiguous\", \"lang1\", \"lang2\", \"mixed\", \"ne\", \"other\"],\n",
        "            },\n",
        "            label_column=\"lid\",\n",
        "            description=\"Nepali-English language identification dataset (Latin script)\",\n",
        "        ),\n",
        "        # ==========================================================================================\n",
        "        # Part-of-Speech (POS) Tagging datasets\n",
        "        LinceConfig(\n",
        "            name=\"pos_spaeng\",\n",
        "            data_dir=\"pos_spaeng\",\n",
        "            colnames={\"words\": 0, \"lid\": 1, \"pos\": 2},\n",
        "            classes={\n",
        "                \"lid\": [\"UNK\", \"eng\", \"eng&spa\", \"spa\"],\n",
        "                \"pos\": [\n",
        "                    \"ADJ\",\n",
        "                    \"ADP\",\n",
        "                    \"ADV\",\n",
        "                    \"AUX\",\n",
        "                    \"CONJ\",\n",
        "                    \"DET\",\n",
        "                    \"INTJ\",\n",
        "                    \"NOUN\",\n",
        "                    \"NUM\",\n",
        "                    \"PART\",\n",
        "                    \"PRON\",\n",
        "                    \"PROPN\",\n",
        "                    \"PUNCT\",\n",
        "                    \"SCONJ\",\n",
        "                    \"UNK\",\n",
        "                    \"VERB\",\n",
        "                    \"X\",\n",
        "                ],\n",
        "            },\n",
        "            label_column=\"pos\",\n",
        "            description=\"Spanish-English part-of-Speech tagging dataset (Latin script)\",\n",
        "        ),\n",
        "        LinceConfig(\n",
        "            name=\"pos_hineng\",\n",
        "            data_dir=\"pos_hineng\",\n",
        "            colnames={\"words\": 0, \"lid\": 1, \"pos\": 2},\n",
        "            classes={\n",
        "                \"lid\": [\"en\", \"hi\", \"rest\"],\n",
        "                \"pos\": [\n",
        "                    \"ADJ\",\n",
        "                    \"ADP\",\n",
        "                    \"ADV\",\n",
        "                    \"CONJ\",\n",
        "                    \"DET\",\n",
        "                    \"NOUN\",\n",
        "                    \"NUM\",\n",
        "                    \"PART\",\n",
        "                    \"PART_NEG\",\n",
        "                    \"PRON\",\n",
        "                    \"PRON_WH\",\n",
        "                    \"PROPN\",\n",
        "                    \"VERB\",\n",
        "                    \"X\",\n",
        "                ],\n",
        "            },\n",
        "            label_column=\"pos\",\n",
        "            description=\"Hindi-English part-of-Speech tagging dataset (Latin script)\",\n",
        "        ),\n",
        "        # ==========================================================================================\n",
        "        # Named Entity Recongition (NER) datasets\n",
        "        LinceConfig(\n",
        "            name=\"ner_spaeng\",\n",
        "            data_dir=\"ner_spaeng\",\n",
        "            colnames={\"words\": 0, \"lid\": 1, \"ner\": 2},\n",
        "            classes={\n",
        "                \"lid\": [\"lang1\", \"lang2\", \"ne\", \"fw\", \"ambiguous\", \"mixed\", \"other\", \"unk\"],\n",
        "                \"ner\": [\n",
        "                    \"O\",\n",
        "                    \"B-PER\",\n",
        "                    \"I-PER\",\n",
        "                    \"B-LOC\",\n",
        "                    \"I-LOC\",\n",
        "                    \"B-ORG\",\n",
        "                    \"I-ORG\",\n",
        "                    \"B-PROD\",\n",
        "                    \"I-PROD\",\n",
        "                    \"B-EVENT\",\n",
        "                    \"I-EVENT\",\n",
        "                    \"B-GROUP\",\n",
        "                    \"I-GROUP\",\n",
        "                    \"B-TITLE\",\n",
        "                    \"I-TITLE\",\n",
        "                    \"B-TIME\",\n",
        "                    \"I-TIME\",\n",
        "                    \"B-OTHER\",\n",
        "                    \"I-OTHER\",\n",
        "                ],\n",
        "            },\n",
        "            label_column=\"ner\",\n",
        "            description=\"Spanish-English named entity recognition dataset (Latin script)\",\n",
        "        ),\n",
        "        LinceConfig(\n",
        "            name=\"ner_msaea\",\n",
        "            data_dir=\"ner_msaea\",\n",
        "            colnames={\"words\": 0, \"ner\": 1},\n",
        "            classes={\n",
        "                \"ner\": [\n",
        "                    \"O\",\n",
        "                    \"B-PER\",\n",
        "                    \"I-PER\",\n",
        "                    \"B-LOC\",\n",
        "                    \"I-LOC\",\n",
        "                    \"B-ORG\",\n",
        "                    \"I-ORG\",\n",
        "                    \"B-PROD\",\n",
        "                    \"I-PROD\",\n",
        "                    \"B-EVENT\",\n",
        "                    \"I-EVENT\",\n",
        "                    \"B-GROUP\",\n",
        "                    \"I-GROUP\",\n",
        "                    \"B-TITLE\",\n",
        "                    \"I-TITLE\",\n",
        "                    \"B-TIME\",\n",
        "                    \"I-TIME\",\n",
        "                    \"B-OTHER\",\n",
        "                    \"I-OTHER\",\n",
        "                ],\n",
        "            },\n",
        "            label_column=\"ner\",\n",
        "            description=\"Modern Standard Arabic-Egyptian Arabic named entity recognition dataset (Persian script)\",\n",
        "        ),\n",
        "        LinceConfig(\n",
        "            name=\"ner_hineng\",\n",
        "            data_dir=\"ner_hineng\",\n",
        "            colnames={\"words\": 0, \"lid\": 1, \"ner\": 2},\n",
        "            classes={\n",
        "                \"lid\": [\"en\", \"hi\", \"rest\"],\n",
        "                \"ner\": [\"O\", \"B-PERSON\", \"I-PERSON\", \"B-ORGANISATION\", \"I-ORGANISATION\", \"B-PLACE\", \"I-PLACE\"],\n",
        "            },\n",
        "            label_column=\"ner\",\n",
        "            description=\"Hindi-English named entity recognition dataset (Latin script)\",\n",
        "        ),\n",
        "        # ==========================================================================================\n",
        "        # Sentiment Analysis (SA) datasets\n",
        "        LinceConfig(\n",
        "            name=\"sa_spaeng\",\n",
        "            data_dir=\"sa_spaeng\",\n",
        "            colnames={\"words\": 0, \"lid\": 1, \"sa\": 2},\n",
        "            classes={\n",
        "                \"lid\": [\"lang1\", \"lang2\", \"ne\", \"fw\", \"ambiguous\", \"mixed\", \"other\", \"unk\"],\n",
        "                \"sa\": [\"positive\", \"neutral\", \"negative\"],\n",
        "            },\n",
        "            label_column=\"sa\",\n",
        "            description=\"Spanish-English sentiment analysis dataset (Latin script)\",\n",
        "        ),\n",
        "    ]\n",
        "\n",
        "    def _info(self):\n",
        "        features = {\"idx\": datasets.Value(\"int32\"), \"words\": datasets.Sequence(datasets.Value(\"string\"))}\n",
        "\n",
        "        if self.config.name != \"ner_msaea\":\n",
        "            features[\"lid\"] = datasets.Sequence(\n",
        "                datasets.Value(\"string\")\n",
        "            )  # excluding 'ner_msaea', all datasets have 'lid'\n",
        "\n",
        "        if self.config.name.startswith(\"pos_\"):\n",
        "            features[\"pos\"] = datasets.Sequence(datasets.Value(\"string\"))\n",
        "\n",
        "        elif self.config.name.startswith(\"ner_\"):\n",
        "            features[\"ner\"] = datasets.Sequence(datasets.Value(\"string\"))\n",
        "\n",
        "        elif self.config.name.startswith(\"sa_\"):\n",
        "            features[\"sa\"] = datasets.Value(\"string\")\n",
        "\n",
        "        return datasets.DatasetInfo(\n",
        "            description=_DESCRIPTION,\n",
        "            features=datasets.Features(features),\n",
        "            supervised_keys=None,\n",
        "            homepage=\"http://ritual.uh.edu/lince\",\n",
        "            citation=_DATASET_CITATIONS.get(self.config.name, \"\") + \"\\n\" + _CITATION,\n",
        "        )\n",
        "\n",
        "    def _split_generators(self, dl_manager):\n",
        "        \"\"\"Returns SplitGenerators.\"\"\"\n",
        "        lince_dir = dl_manager.download_and_extract(f\"{_LINCE_URL}/{self.config.name}.zip\")\n",
        "        data_dir = os.path.join(lince_dir, self.config.data_dir)\n",
        "        return [\n",
        "            datasets.SplitGenerator(\n",
        "                name=datasets.Split.TRAIN,\n",
        "                gen_kwargs={\n",
        "                    \"filepath\": os.path.join(data_dir, \"train.conll\"),\n",
        "                    \"colnames\": self.config.colnames,\n",
        "                },\n",
        "            ),\n",
        "            datasets.SplitGenerator(\n",
        "                name=datasets.Split.VALIDATION,\n",
        "                gen_kwargs={\n",
        "                    \"filepath\": os.path.join(data_dir, \"dev.conll\"),\n",
        "                    \"colnames\": self.config.colnames,\n",
        "                },\n",
        "            ),\n",
        "            datasets.SplitGenerator(\n",
        "                name=datasets.Split.TEST,\n",
        "                gen_kwargs={\n",
        "                    \"filepath\": os.path.join(data_dir, \"test.conll\"),\n",
        "                    \"colnames\": {\n",
        "                        key: self.config.colnames[key]\n",
        "                        for key in self.config.colnames.keys()\n",
        "                        if key != self.config.label_column\n",
        "                    },\n",
        "                },\n",
        "            ),\n",
        "        ]\n",
        "\n",
        "    def _generate_examples(self, filepath, colnames, delimiter=\"\\t\", metaregex=r\"^# sent_enum = [0-9]+$\"):\n",
        "        def is_empty_line(token_pack):\n",
        "            return all(field.strip() == \"\" for field in token_pack)\n",
        "\n",
        "        index = 0\n",
        "        for is_empty, pack in groupby(\n",
        "            csv.reader(open(filepath), delimiter=delimiter, quoting=csv.QUOTE_NONE), is_empty_line\n",
        "        ):\n",
        "            if is_empty is False:\n",
        "                # packed sentence -> [['tok_1', 'lid_1', 'ner_1'], ..., ['tok_n', 'lid_n', 'ner_n']]\n",
        "                pack = list(pack)\n",
        "                meta = []\n",
        "\n",
        "                if re.match(metaregex, pack[0][0]):  # for sentence-level annotations (or meta)\n",
        "                    meta = pack[0][1:]  # keep the sentence-level labels\n",
        "                    pack = pack[1:]  # ignore meta fields to unzip\n",
        "\n",
        "                unpacked = list(zip(*pack))\n",
        "                if meta:\n",
        "                    unpacked = unpacked + meta\n",
        "\n",
        "                row = {feature: unpacked[colnames[feature]] for feature in colnames}\n",
        "                row[\"idx\"] = index\n",
        "                index += 1\n",
        "\n",
        "                # dummy labels for the test set\n",
        "                if self.config.label_column not in row:\n",
        "                    if self.config.label_column == \"sa\":\n",
        "                        row[self.config.label_column] = \"\"\n",
        "                    else:\n",
        "                        row[self.config.label_column] = [\"\"] * len(row[\"words\"])\n",
        "\n",
        "                yield index, row"
      ],
      "execution_count": null,
      "outputs": []
    },
    {
      "cell_type": "code",
      "metadata": {
        "id": "PInXh1deC6LE"
      },
      "source": [
        ""
      ],
      "execution_count": null,
      "outputs": []
    },
    {
      "cell_type": "markdown",
      "source": [
        "# Rough"
      ],
      "metadata": {
        "id": "KANYDc0h74u5"
      }
    },
    {
      "cell_type": "code",
      "source": [
        "from google.colab import drive\n",
        "drive.mount('/content/drive')"
      ],
      "metadata": {
        "colab": {
          "base_uri": "https://localhost:8080/"
        },
        "id": "vjoU06dm76Vu",
        "outputId": "450ba931-14de-403c-ec33-fe64fb4f62a9"
      },
      "execution_count": null,
      "outputs": [
        {
          "output_type": "stream",
          "name": "stdout",
          "text": [
            "Mounted at /content/drive\n"
          ]
        }
      ]
    },
    {
      "cell_type": "code",
      "source": [
        "import pandas as pd\n",
        "path_to_dataset='/content/drive/MyDrive/Acads/4-1/BTP/NER-Dataset/ner_dataset.csv'\n",
        "data = pd.read_csv(path_to_dataset, encoding= 'unicode_escape')\n",
        "data.head()"
      ],
      "metadata": {
        "colab": {
          "base_uri": "https://localhost:8080/",
          "height": 206
        },
        "id": "R1ugr2L-9W9y",
        "outputId": "e91c9b9e-c77f-4448-b3e4-dafdf4150bcc"
      },
      "execution_count": null,
      "outputs": [
        {
          "output_type": "execute_result",
          "data": {
            "text/html": [
              "\n",
              "  <div id=\"df-dbf5174d-ba83-42fa-949f-df70d2c36e2a\">\n",
              "    <div class=\"colab-df-container\">\n",
              "      <div>\n",
              "<style scoped>\n",
              "    .dataframe tbody tr th:only-of-type {\n",
              "        vertical-align: middle;\n",
              "    }\n",
              "\n",
              "    .dataframe tbody tr th {\n",
              "        vertical-align: top;\n",
              "    }\n",
              "\n",
              "    .dataframe thead th {\n",
              "        text-align: right;\n",
              "    }\n",
              "</style>\n",
              "<table border=\"1\" class=\"dataframe\">\n",
              "  <thead>\n",
              "    <tr style=\"text-align: right;\">\n",
              "      <th></th>\n",
              "      <th>Sentence #</th>\n",
              "      <th>Word</th>\n",
              "      <th>POS</th>\n",
              "      <th>Tag</th>\n",
              "    </tr>\n",
              "  </thead>\n",
              "  <tbody>\n",
              "    <tr>\n",
              "      <th>0</th>\n",
              "      <td>Sentence: 1</td>\n",
              "      <td>Thousands</td>\n",
              "      <td>NNS</td>\n",
              "      <td>O</td>\n",
              "    </tr>\n",
              "    <tr>\n",
              "      <th>1</th>\n",
              "      <td>NaN</td>\n",
              "      <td>of</td>\n",
              "      <td>IN</td>\n",
              "      <td>O</td>\n",
              "    </tr>\n",
              "    <tr>\n",
              "      <th>2</th>\n",
              "      <td>NaN</td>\n",
              "      <td>demonstrators</td>\n",
              "      <td>NNS</td>\n",
              "      <td>O</td>\n",
              "    </tr>\n",
              "    <tr>\n",
              "      <th>3</th>\n",
              "      <td>NaN</td>\n",
              "      <td>have</td>\n",
              "      <td>VBP</td>\n",
              "      <td>O</td>\n",
              "    </tr>\n",
              "    <tr>\n",
              "      <th>4</th>\n",
              "      <td>NaN</td>\n",
              "      <td>marched</td>\n",
              "      <td>VBN</td>\n",
              "      <td>O</td>\n",
              "    </tr>\n",
              "  </tbody>\n",
              "</table>\n",
              "</div>\n",
              "      <button class=\"colab-df-convert\" onclick=\"convertToInteractive('df-dbf5174d-ba83-42fa-949f-df70d2c36e2a')\"\n",
              "              title=\"Convert this dataframe to an interactive table.\"\n",
              "              style=\"display:none;\">\n",
              "        \n",
              "  <svg xmlns=\"http://www.w3.org/2000/svg\" height=\"24px\"viewBox=\"0 0 24 24\"\n",
              "       width=\"24px\">\n",
              "    <path d=\"M0 0h24v24H0V0z\" fill=\"none\"/>\n",
              "    <path d=\"M18.56 5.44l.94 2.06.94-2.06 2.06-.94-2.06-.94-.94-2.06-.94 2.06-2.06.94zm-11 1L8.5 8.5l.94-2.06 2.06-.94-2.06-.94L8.5 2.5l-.94 2.06-2.06.94zm10 10l.94 2.06.94-2.06 2.06-.94-2.06-.94-.94-2.06-.94 2.06-2.06.94z\"/><path d=\"M17.41 7.96l-1.37-1.37c-.4-.4-.92-.59-1.43-.59-.52 0-1.04.2-1.43.59L10.3 9.45l-7.72 7.72c-.78.78-.78 2.05 0 2.83L4 21.41c.39.39.9.59 1.41.59.51 0 1.02-.2 1.41-.59l7.78-7.78 2.81-2.81c.8-.78.8-2.07 0-2.86zM5.41 20L4 18.59l7.72-7.72 1.47 1.35L5.41 20z\"/>\n",
              "  </svg>\n",
              "      </button>\n",
              "      \n",
              "  <style>\n",
              "    .colab-df-container {\n",
              "      display:flex;\n",
              "      flex-wrap:wrap;\n",
              "      gap: 12px;\n",
              "    }\n",
              "\n",
              "    .colab-df-convert {\n",
              "      background-color: #E8F0FE;\n",
              "      border: none;\n",
              "      border-radius: 50%;\n",
              "      cursor: pointer;\n",
              "      display: none;\n",
              "      fill: #1967D2;\n",
              "      height: 32px;\n",
              "      padding: 0 0 0 0;\n",
              "      width: 32px;\n",
              "    }\n",
              "\n",
              "    .colab-df-convert:hover {\n",
              "      background-color: #E2EBFA;\n",
              "      box-shadow: 0px 1px 2px rgba(60, 64, 67, 0.3), 0px 1px 3px 1px rgba(60, 64, 67, 0.15);\n",
              "      fill: #174EA6;\n",
              "    }\n",
              "\n",
              "    [theme=dark] .colab-df-convert {\n",
              "      background-color: #3B4455;\n",
              "      fill: #D2E3FC;\n",
              "    }\n",
              "\n",
              "    [theme=dark] .colab-df-convert:hover {\n",
              "      background-color: #434B5C;\n",
              "      box-shadow: 0px 1px 3px 1px rgba(0, 0, 0, 0.15);\n",
              "      filter: drop-shadow(0px 1px 2px rgba(0, 0, 0, 0.3));\n",
              "      fill: #FFFFFF;\n",
              "    }\n",
              "  </style>\n",
              "\n",
              "      <script>\n",
              "        const buttonEl =\n",
              "          document.querySelector('#df-dbf5174d-ba83-42fa-949f-df70d2c36e2a button.colab-df-convert');\n",
              "        buttonEl.style.display =\n",
              "          google.colab.kernel.accessAllowed ? 'block' : 'none';\n",
              "\n",
              "        async function convertToInteractive(key) {\n",
              "          const element = document.querySelector('#df-dbf5174d-ba83-42fa-949f-df70d2c36e2a');\n",
              "          const dataTable =\n",
              "            await google.colab.kernel.invokeFunction('convertToInteractive',\n",
              "                                                     [key], {});\n",
              "          if (!dataTable) return;\n",
              "\n",
              "          const docLinkHtml = 'Like what you see? Visit the ' +\n",
              "            '<a target=\"_blank\" href=https://colab.research.google.com/notebooks/data_table.ipynb>data table notebook</a>'\n",
              "            + ' to learn more about interactive tables.';\n",
              "          element.innerHTML = '';\n",
              "          dataTable['output_type'] = 'display_data';\n",
              "          await google.colab.output.renderOutput(dataTable, element);\n",
              "          const docLink = document.createElement('div');\n",
              "          docLink.innerHTML = docLinkHtml;\n",
              "          element.appendChild(docLink);\n",
              "        }\n",
              "      </script>\n",
              "    </div>\n",
              "  </div>\n",
              "  "
            ],
            "text/plain": [
              "    Sentence #           Word  POS Tag\n",
              "0  Sentence: 1      Thousands  NNS   O\n",
              "1          NaN             of   IN   O\n",
              "2          NaN  demonstrators  NNS   O\n",
              "3          NaN           have  VBP   O\n",
              "4          NaN        marched  VBN   O"
            ]
          },
          "metadata": {},
          "execution_count": 2
        }
      ]
    },
    {
      "cell_type": "code",
      "source": [
        "from itertools import chain\n",
        "def get_dict_map(data, token_or_tag):\n",
        "    tok2idx = {}\n",
        "    idx2tok = {}\n",
        "    \n",
        "    if token_or_tag == 'token':\n",
        "        vocab = list(set(data['Word'].to_list()))\n",
        "    else:\n",
        "        vocab = list(set(data['Tag'].to_list()))\n",
        "    \n",
        "    idx2tok = {idx:tok for  idx, tok in enumerate(vocab)}\n",
        "    tok2idx = {tok:idx for  idx, tok in enumerate(vocab)}\n",
        "    return tok2idx, idx2tok\n",
        "\n",
        "\n",
        "token2idx, idx2token = get_dict_map(data, 'token')\n",
        "tag2idx, idx2tag = get_dict_map(data, 'tag')"
      ],
      "metadata": {
        "id": "hA4rgmuc99XP"
      },
      "execution_count": null,
      "outputs": []
    },
    {
      "cell_type": "code",
      "source": [
        "data['Word_idx'] = data['Word'].map(token2idx)\n",
        "data['Tag_idx'] = data['Tag'].map(tag2idx)\n",
        "data.head()"
      ],
      "metadata": {
        "colab": {
          "base_uri": "https://localhost:8080/",
          "height": 206
        },
        "id": "ftD5mZlC-Gji",
        "outputId": "2e9c2c37-3d4b-4b24-931f-9be246bc5235"
      },
      "execution_count": null,
      "outputs": [
        {
          "output_type": "execute_result",
          "data": {
            "text/html": [
              "\n",
              "  <div id=\"df-ce98e468-b70f-4e59-b631-8dfd3549e6bb\">\n",
              "    <div class=\"colab-df-container\">\n",
              "      <div>\n",
              "<style scoped>\n",
              "    .dataframe tbody tr th:only-of-type {\n",
              "        vertical-align: middle;\n",
              "    }\n",
              "\n",
              "    .dataframe tbody tr th {\n",
              "        vertical-align: top;\n",
              "    }\n",
              "\n",
              "    .dataframe thead th {\n",
              "        text-align: right;\n",
              "    }\n",
              "</style>\n",
              "<table border=\"1\" class=\"dataframe\">\n",
              "  <thead>\n",
              "    <tr style=\"text-align: right;\">\n",
              "      <th></th>\n",
              "      <th>Sentence #</th>\n",
              "      <th>Word</th>\n",
              "      <th>POS</th>\n",
              "      <th>Tag</th>\n",
              "      <th>Word_idx</th>\n",
              "      <th>Tag_idx</th>\n",
              "    </tr>\n",
              "  </thead>\n",
              "  <tbody>\n",
              "    <tr>\n",
              "      <th>0</th>\n",
              "      <td>Sentence: 1</td>\n",
              "      <td>Thousands</td>\n",
              "      <td>NNS</td>\n",
              "      <td>O</td>\n",
              "      <td>20183</td>\n",
              "      <td>6</td>\n",
              "    </tr>\n",
              "    <tr>\n",
              "      <th>1</th>\n",
              "      <td>NaN</td>\n",
              "      <td>of</td>\n",
              "      <td>IN</td>\n",
              "      <td>O</td>\n",
              "      <td>10708</td>\n",
              "      <td>6</td>\n",
              "    </tr>\n",
              "    <tr>\n",
              "      <th>2</th>\n",
              "      <td>NaN</td>\n",
              "      <td>demonstrators</td>\n",
              "      <td>NNS</td>\n",
              "      <td>O</td>\n",
              "      <td>34828</td>\n",
              "      <td>6</td>\n",
              "    </tr>\n",
              "    <tr>\n",
              "      <th>3</th>\n",
              "      <td>NaN</td>\n",
              "      <td>have</td>\n",
              "      <td>VBP</td>\n",
              "      <td>O</td>\n",
              "      <td>35164</td>\n",
              "      <td>6</td>\n",
              "    </tr>\n",
              "    <tr>\n",
              "      <th>4</th>\n",
              "      <td>NaN</td>\n",
              "      <td>marched</td>\n",
              "      <td>VBN</td>\n",
              "      <td>O</td>\n",
              "      <td>31065</td>\n",
              "      <td>6</td>\n",
              "    </tr>\n",
              "  </tbody>\n",
              "</table>\n",
              "</div>\n",
              "      <button class=\"colab-df-convert\" onclick=\"convertToInteractive('df-ce98e468-b70f-4e59-b631-8dfd3549e6bb')\"\n",
              "              title=\"Convert this dataframe to an interactive table.\"\n",
              "              style=\"display:none;\">\n",
              "        \n",
              "  <svg xmlns=\"http://www.w3.org/2000/svg\" height=\"24px\"viewBox=\"0 0 24 24\"\n",
              "       width=\"24px\">\n",
              "    <path d=\"M0 0h24v24H0V0z\" fill=\"none\"/>\n",
              "    <path d=\"M18.56 5.44l.94 2.06.94-2.06 2.06-.94-2.06-.94-.94-2.06-.94 2.06-2.06.94zm-11 1L8.5 8.5l.94-2.06 2.06-.94-2.06-.94L8.5 2.5l-.94 2.06-2.06.94zm10 10l.94 2.06.94-2.06 2.06-.94-2.06-.94-.94-2.06-.94 2.06-2.06.94z\"/><path d=\"M17.41 7.96l-1.37-1.37c-.4-.4-.92-.59-1.43-.59-.52 0-1.04.2-1.43.59L10.3 9.45l-7.72 7.72c-.78.78-.78 2.05 0 2.83L4 21.41c.39.39.9.59 1.41.59.51 0 1.02-.2 1.41-.59l7.78-7.78 2.81-2.81c.8-.78.8-2.07 0-2.86zM5.41 20L4 18.59l7.72-7.72 1.47 1.35L5.41 20z\"/>\n",
              "  </svg>\n",
              "      </button>\n",
              "      \n",
              "  <style>\n",
              "    .colab-df-container {\n",
              "      display:flex;\n",
              "      flex-wrap:wrap;\n",
              "      gap: 12px;\n",
              "    }\n",
              "\n",
              "    .colab-df-convert {\n",
              "      background-color: #E8F0FE;\n",
              "      border: none;\n",
              "      border-radius: 50%;\n",
              "      cursor: pointer;\n",
              "      display: none;\n",
              "      fill: #1967D2;\n",
              "      height: 32px;\n",
              "      padding: 0 0 0 0;\n",
              "      width: 32px;\n",
              "    }\n",
              "\n",
              "    .colab-df-convert:hover {\n",
              "      background-color: #E2EBFA;\n",
              "      box-shadow: 0px 1px 2px rgba(60, 64, 67, 0.3), 0px 1px 3px 1px rgba(60, 64, 67, 0.15);\n",
              "      fill: #174EA6;\n",
              "    }\n",
              "\n",
              "    [theme=dark] .colab-df-convert {\n",
              "      background-color: #3B4455;\n",
              "      fill: #D2E3FC;\n",
              "    }\n",
              "\n",
              "    [theme=dark] .colab-df-convert:hover {\n",
              "      background-color: #434B5C;\n",
              "      box-shadow: 0px 1px 3px 1px rgba(0, 0, 0, 0.15);\n",
              "      filter: drop-shadow(0px 1px 2px rgba(0, 0, 0, 0.3));\n",
              "      fill: #FFFFFF;\n",
              "    }\n",
              "  </style>\n",
              "\n",
              "      <script>\n",
              "        const buttonEl =\n",
              "          document.querySelector('#df-ce98e468-b70f-4e59-b631-8dfd3549e6bb button.colab-df-convert');\n",
              "        buttonEl.style.display =\n",
              "          google.colab.kernel.accessAllowed ? 'block' : 'none';\n",
              "\n",
              "        async function convertToInteractive(key) {\n",
              "          const element = document.querySelector('#df-ce98e468-b70f-4e59-b631-8dfd3549e6bb');\n",
              "          const dataTable =\n",
              "            await google.colab.kernel.invokeFunction('convertToInteractive',\n",
              "                                                     [key], {});\n",
              "          if (!dataTable) return;\n",
              "\n",
              "          const docLinkHtml = 'Like what you see? Visit the ' +\n",
              "            '<a target=\"_blank\" href=https://colab.research.google.com/notebooks/data_table.ipynb>data table notebook</a>'\n",
              "            + ' to learn more about interactive tables.';\n",
              "          element.innerHTML = '';\n",
              "          dataTable['output_type'] = 'display_data';\n",
              "          await google.colab.output.renderOutput(dataTable, element);\n",
              "          const docLink = document.createElement('div');\n",
              "          docLink.innerHTML = docLinkHtml;\n",
              "          element.appendChild(docLink);\n",
              "        }\n",
              "      </script>\n",
              "    </div>\n",
              "  </div>\n",
              "  "
            ],
            "text/plain": [
              "    Sentence #           Word  POS Tag  Word_idx  Tag_idx\n",
              "0  Sentence: 1      Thousands  NNS   O     20183        6\n",
              "1          NaN             of   IN   O     10708        6\n",
              "2          NaN  demonstrators  NNS   O     34828        6\n",
              "3          NaN           have  VBP   O     35164        6\n",
              "4          NaN        marched  VBN   O     31065        6"
            ]
          },
          "metadata": {},
          "execution_count": 4
        }
      ]
    },
    {
      "cell_type": "code",
      "source": [
        "# Fill na\n",
        "data_fillna = data.fillna(method='ffill', axis=0)\n",
        "# Groupby and collect columns\n",
        "data_group = data_fillna.groupby(\n",
        "['Sentence #'],as_index=False\n",
        ")['Word', 'POS', 'Tag', 'Word_idx', 'Tag_idx'].agg(lambda x: list(x))\n",
        "# Visualise data\n",
        "data_group.head()"
      ],
      "metadata": {
        "colab": {
          "base_uri": "https://localhost:8080/",
          "height": 392
        },
        "id": "1tvHLJek-KPx",
        "outputId": "7e89171c-9bda-49f7-beeb-e5c52bb0dc6e"
      },
      "execution_count": null,
      "outputs": [
        {
          "output_type": "stream",
          "name": "stderr",
          "text": [
            "/usr/local/lib/python3.7/dist-packages/ipykernel_launcher.py:6: FutureWarning: Indexing with multiple keys (implicitly converted to a tuple of keys) will be deprecated, use a list instead.\n",
            "  \n"
          ]
        },
        {
          "output_type": "execute_result",
          "data": {
            "text/html": [
              "\n",
              "  <div id=\"df-7dde096c-dd40-4b59-97b1-ac111295354f\">\n",
              "    <div class=\"colab-df-container\">\n",
              "      <div>\n",
              "<style scoped>\n",
              "    .dataframe tbody tr th:only-of-type {\n",
              "        vertical-align: middle;\n",
              "    }\n",
              "\n",
              "    .dataframe tbody tr th {\n",
              "        vertical-align: top;\n",
              "    }\n",
              "\n",
              "    .dataframe thead th {\n",
              "        text-align: right;\n",
              "    }\n",
              "</style>\n",
              "<table border=\"1\" class=\"dataframe\">\n",
              "  <thead>\n",
              "    <tr style=\"text-align: right;\">\n",
              "      <th></th>\n",
              "      <th>Sentence #</th>\n",
              "      <th>Word</th>\n",
              "      <th>POS</th>\n",
              "      <th>Tag</th>\n",
              "      <th>Word_idx</th>\n",
              "      <th>Tag_idx</th>\n",
              "    </tr>\n",
              "  </thead>\n",
              "  <tbody>\n",
              "    <tr>\n",
              "      <th>0</th>\n",
              "      <td>Sentence: 1</td>\n",
              "      <td>[Thousands, of, demonstrators, have, marched, ...</td>\n",
              "      <td>[NNS, IN, NNS, VBP, VBN, IN, NNP, TO, VB, DT, ...</td>\n",
              "      <td>[O, O, O, O, O, O, B-geo, O, O, O, O, O, B-geo...</td>\n",
              "      <td>[20183, 10708, 34828, 35164, 31065, 25484, 250...</td>\n",
              "      <td>[6, 6, 6, 6, 6, 6, 11, 6, 6, 6, 6, 6, 11, 6, 6...</td>\n",
              "    </tr>\n",
              "    <tr>\n",
              "      <th>1</th>\n",
              "      <td>Sentence: 10</td>\n",
              "      <td>[Iranian, officials, say, they, expect, to, ge...</td>\n",
              "      <td>[JJ, NNS, VBP, PRP, VBP, TO, VB, NN, TO, JJ, J...</td>\n",
              "      <td>[B-gpe, O, O, O, O, O, O, O, O, O, O, O, O, O,...</td>\n",
              "      <td>[883, 28131, 34391, 19410, 29687, 7692, 33962,...</td>\n",
              "      <td>[7, 6, 6, 6, 6, 6, 6, 6, 6, 6, 6, 6, 6, 6, 6, ...</td>\n",
              "    </tr>\n",
              "    <tr>\n",
              "      <th>2</th>\n",
              "      <td>Sentence: 100</td>\n",
              "      <td>[Helicopter, gunships, Saturday, pounded, mili...</td>\n",
              "      <td>[NN, NNS, NNP, VBD, JJ, NNS, IN, DT, NNP, JJ, ...</td>\n",
              "      <td>[O, O, B-tim, O, O, O, O, O, B-geo, O, O, O, O...</td>\n",
              "      <td>[33952, 24666, 8271, 10074, 27799, 21953, 3157...</td>\n",
              "      <td>[6, 6, 14, 6, 6, 6, 6, 6, 11, 6, 6, 6, 6, 6, 1...</td>\n",
              "    </tr>\n",
              "    <tr>\n",
              "      <th>3</th>\n",
              "      <td>Sentence: 1000</td>\n",
              "      <td>[They, left, after, a, tense, hour-long, stand...</td>\n",
              "      <td>[PRP, VBD, IN, DT, NN, JJ, NN, IN, NN, NNS, .]</td>\n",
              "      <td>[O, O, O, O, O, O, O, O, O, O, O]</td>\n",
              "      <td>[24874, 15305, 7533, 5783, 2500, 31517, 21044,...</td>\n",
              "      <td>[6, 6, 6, 6, 6, 6, 6, 6, 6, 6, 6]</td>\n",
              "    </tr>\n",
              "    <tr>\n",
              "      <th>4</th>\n",
              "      <td>Sentence: 10000</td>\n",
              "      <td>[U.N., relief, coordinator, Jan, Egeland, said...</td>\n",
              "      <td>[NNP, NN, NN, NNP, NNP, VBD, NNP, ,, NNP, ,, J...</td>\n",
              "      <td>[B-geo, O, O, B-per, I-per, O, B-tim, O, B-geo...</td>\n",
              "      <td>[7849, 32413, 16126, 5210, 29103, 17606, 10830...</td>\n",
              "      <td>[11, 6, 6, 10, 9, 6, 14, 6, 11, 6, 7, 6, 7, 6,...</td>\n",
              "    </tr>\n",
              "  </tbody>\n",
              "</table>\n",
              "</div>\n",
              "      <button class=\"colab-df-convert\" onclick=\"convertToInteractive('df-7dde096c-dd40-4b59-97b1-ac111295354f')\"\n",
              "              title=\"Convert this dataframe to an interactive table.\"\n",
              "              style=\"display:none;\">\n",
              "        \n",
              "  <svg xmlns=\"http://www.w3.org/2000/svg\" height=\"24px\"viewBox=\"0 0 24 24\"\n",
              "       width=\"24px\">\n",
              "    <path d=\"M0 0h24v24H0V0z\" fill=\"none\"/>\n",
              "    <path d=\"M18.56 5.44l.94 2.06.94-2.06 2.06-.94-2.06-.94-.94-2.06-.94 2.06-2.06.94zm-11 1L8.5 8.5l.94-2.06 2.06-.94-2.06-.94L8.5 2.5l-.94 2.06-2.06.94zm10 10l.94 2.06.94-2.06 2.06-.94-2.06-.94-.94-2.06-.94 2.06-2.06.94z\"/><path d=\"M17.41 7.96l-1.37-1.37c-.4-.4-.92-.59-1.43-.59-.52 0-1.04.2-1.43.59L10.3 9.45l-7.72 7.72c-.78.78-.78 2.05 0 2.83L4 21.41c.39.39.9.59 1.41.59.51 0 1.02-.2 1.41-.59l7.78-7.78 2.81-2.81c.8-.78.8-2.07 0-2.86zM5.41 20L4 18.59l7.72-7.72 1.47 1.35L5.41 20z\"/>\n",
              "  </svg>\n",
              "      </button>\n",
              "      \n",
              "  <style>\n",
              "    .colab-df-container {\n",
              "      display:flex;\n",
              "      flex-wrap:wrap;\n",
              "      gap: 12px;\n",
              "    }\n",
              "\n",
              "    .colab-df-convert {\n",
              "      background-color: #E8F0FE;\n",
              "      border: none;\n",
              "      border-radius: 50%;\n",
              "      cursor: pointer;\n",
              "      display: none;\n",
              "      fill: #1967D2;\n",
              "      height: 32px;\n",
              "      padding: 0 0 0 0;\n",
              "      width: 32px;\n",
              "    }\n",
              "\n",
              "    .colab-df-convert:hover {\n",
              "      background-color: #E2EBFA;\n",
              "      box-shadow: 0px 1px 2px rgba(60, 64, 67, 0.3), 0px 1px 3px 1px rgba(60, 64, 67, 0.15);\n",
              "      fill: #174EA6;\n",
              "    }\n",
              "\n",
              "    [theme=dark] .colab-df-convert {\n",
              "      background-color: #3B4455;\n",
              "      fill: #D2E3FC;\n",
              "    }\n",
              "\n",
              "    [theme=dark] .colab-df-convert:hover {\n",
              "      background-color: #434B5C;\n",
              "      box-shadow: 0px 1px 3px 1px rgba(0, 0, 0, 0.15);\n",
              "      filter: drop-shadow(0px 1px 2px rgba(0, 0, 0, 0.3));\n",
              "      fill: #FFFFFF;\n",
              "    }\n",
              "  </style>\n",
              "\n",
              "      <script>\n",
              "        const buttonEl =\n",
              "          document.querySelector('#df-7dde096c-dd40-4b59-97b1-ac111295354f button.colab-df-convert');\n",
              "        buttonEl.style.display =\n",
              "          google.colab.kernel.accessAllowed ? 'block' : 'none';\n",
              "\n",
              "        async function convertToInteractive(key) {\n",
              "          const element = document.querySelector('#df-7dde096c-dd40-4b59-97b1-ac111295354f');\n",
              "          const dataTable =\n",
              "            await google.colab.kernel.invokeFunction('convertToInteractive',\n",
              "                                                     [key], {});\n",
              "          if (!dataTable) return;\n",
              "\n",
              "          const docLinkHtml = 'Like what you see? Visit the ' +\n",
              "            '<a target=\"_blank\" href=https://colab.research.google.com/notebooks/data_table.ipynb>data table notebook</a>'\n",
              "            + ' to learn more about interactive tables.';\n",
              "          element.innerHTML = '';\n",
              "          dataTable['output_type'] = 'display_data';\n",
              "          await google.colab.output.renderOutput(dataTable, element);\n",
              "          const docLink = document.createElement('div');\n",
              "          docLink.innerHTML = docLinkHtml;\n",
              "          element.appendChild(docLink);\n",
              "        }\n",
              "      </script>\n",
              "    </div>\n",
              "  </div>\n",
              "  "
            ],
            "text/plain": [
              "        Sentence #  ...                                            Tag_idx\n",
              "0      Sentence: 1  ...  [6, 6, 6, 6, 6, 6, 11, 6, 6, 6, 6, 6, 11, 6, 6...\n",
              "1     Sentence: 10  ...  [7, 6, 6, 6, 6, 6, 6, 6, 6, 6, 6, 6, 6, 6, 6, ...\n",
              "2    Sentence: 100  ...  [6, 6, 14, 6, 6, 6, 6, 6, 11, 6, 6, 6, 6, 6, 1...\n",
              "3   Sentence: 1000  ...                  [6, 6, 6, 6, 6, 6, 6, 6, 6, 6, 6]\n",
              "4  Sentence: 10000  ...  [11, 6, 6, 10, 9, 6, 14, 6, 11, 6, 7, 6, 7, 6,...\n",
              "\n",
              "[5 rows x 6 columns]"
            ]
          },
          "metadata": {},
          "execution_count": 5
        }
      ]
    },
    {
      "cell_type": "code",
      "source": [
        "from sklearn.model_selection import train_test_split\n",
        "from keras.preprocessing.sequence import pad_sequences\n",
        "# from keras.utils import to_categorical\n",
        "from tensorflow.keras.utils import to_categorical"
      ],
      "metadata": {
        "id": "OJRERtmp-S5A"
      },
      "execution_count": null,
      "outputs": []
    },
    {
      "cell_type": "code",
      "source": [
        "def get_pad_train_test_val(data_group, data):\n",
        "\n",
        "    #get max token and tag length\n",
        "    n_token = len(list(set(data['Word'].to_list())))\n",
        "    n_tag = len(list(set(data['Tag'].to_list())))\n",
        "\n",
        "    #Pad tokens (X var)    \n",
        "    tokens = data_group['Word_idx'].tolist()\n",
        "    maxlen = max([len(s) for s in tokens])\n",
        "    pad_tokens = pad_sequences(tokens, maxlen=maxlen, dtype='int32', padding='post', value= n_token - 1)\n",
        "\n",
        "    #Pad Tags (y var) and convert it into one hot encoding\n",
        "    tags = data_group['Tag_idx'].tolist()\n",
        "    pad_tags = pad_sequences(tags, maxlen=maxlen, dtype='int32', padding='post', value= tag2idx[\"O\"])\n",
        "    n_tags = len(tag2idx)\n",
        "    pad_tags = [to_categorical(i, num_classes=n_tags) for i in pad_tags]\n",
        "    \n",
        "    #Split train, test and validation set\n",
        "    tokens_, test_tokens, tags_, test_tags = train_test_split(pad_tokens, pad_tags, test_size=0.1, train_size=0.9, random_state=2020)\n",
        "    train_tokens, val_tokens, train_tags, val_tags = train_test_split(tokens_,tags_,test_size = 0.25,train_size =0.75, random_state=2020)\n",
        "\n",
        "    print(\n",
        "        'train_tokens length:', len(train_tokens),\n",
        "        '\\ntrain_tokens length:', len(train_tokens),\n",
        "        '\\ntest_tokens length:', len(test_tokens),\n",
        "        '\\ntest_tags:', len(test_tags),\n",
        "        '\\nval_tokens:', len(val_tokens),\n",
        "        '\\nval_tags:', len(val_tags),\n",
        "    )\n",
        "    \n",
        "    return train_tokens, val_tokens, test_tokens, train_tags, val_tags, test_tags\n",
        "\n",
        "train_tokens, val_tokens, test_tokens, train_tags, val_tags, test_tags = get_pad_train_test_val(data_group, data)"
      ],
      "metadata": {
        "colab": {
          "base_uri": "https://localhost:8080/"
        },
        "id": "Y_zNu89p-5v6",
        "outputId": "442ae017-0e82-4925-903a-aa7317563835"
      },
      "execution_count": null,
      "outputs": [
        {
          "output_type": "stream",
          "name": "stdout",
          "text": [
            "train_tokens length: 32372 \n",
            "train_tokens length: 32372 \n",
            "test_tokens length: 4796 \n",
            "test_tags: 4796 \n",
            "val_tokens: 10791 \n",
            "val_tags: 10791\n"
          ]
        }
      ]
    },
    {
      "cell_type": "code",
      "source": [
        "Counter(data['Tag'].to_list())"
      ],
      "metadata": {
        "colab": {
          "base_uri": "https://localhost:8080/",
          "height": 166
        },
        "id": "IB_LaK0hDkKJ",
        "outputId": "803abac9-f394-408b-99c2-33f1e473d97b"
      },
      "execution_count": null,
      "outputs": [
        {
          "output_type": "error",
          "ename": "NameError",
          "evalue": "ignored",
          "traceback": [
            "\u001b[0;31m---------------------------------------------------------------------------\u001b[0m",
            "\u001b[0;31mNameError\u001b[0m                                 Traceback (most recent call last)",
            "\u001b[0;32m<ipython-input-25-8772841d8a82>\u001b[0m in \u001b[0;36m<module>\u001b[0;34m()\u001b[0m\n\u001b[0;32m----> 1\u001b[0;31m \u001b[0mCounter\u001b[0m\u001b[0;34m(\u001b[0m\u001b[0mdata\u001b[0m\u001b[0;34m[\u001b[0m\u001b[0;34m'Tag'\u001b[0m\u001b[0;34m]\u001b[0m\u001b[0;34m.\u001b[0m\u001b[0mto_list\u001b[0m\u001b[0;34m(\u001b[0m\u001b[0;34m)\u001b[0m\u001b[0;34m)\u001b[0m\u001b[0;34m\u001b[0m\u001b[0;34m\u001b[0m\u001b[0m\n\u001b[0m",
            "\u001b[0;31mNameError\u001b[0m: name 'Counter' is not defined"
          ]
        }
      ]
    },
    {
      "cell_type": "code",
      "source": [
        "import numpy as np\n",
        "import tensorflow\n",
        "from tensorflow.keras import Sequential, Model, Input\n",
        "from tensorflow.keras.layers import LSTM, Embedding, Dense, TimeDistributed, Dropout, Bidirectional\n",
        "from tensorflow.keras.utils import plot_model"
      ],
      "metadata": {
        "id": "HG9uGfey_UtC"
      },
      "execution_count": null,
      "outputs": []
    },
    {
      "cell_type": "code",
      "source": [
        "from numpy.random import seed\n",
        "seed(1)\n",
        "tensorflow.random.set_seed(2)"
      ],
      "metadata": {
        "id": "U8GZgIOg_6KN"
      },
      "execution_count": null,
      "outputs": []
    },
    {
      "cell_type": "code",
      "source": [
        "input_dim = len(list(set(data['Word'].to_list())))+1\n",
        "output_dim = 64\n",
        "input_length = max([len(s) for s in data_group['Word_idx'].tolist()])\n",
        "n_tags = len(tag2idx)\n",
        "print('input_dim: ', input_dim, '\\noutput_dim: ', output_dim, '\\ninput_length: ', input_length, '\\nn_tags: ', n_tags)"
      ],
      "metadata": {
        "colab": {
          "base_uri": "https://localhost:8080/"
        },
        "id": "a697FUXs_-fx",
        "outputId": "14a0c78a-d7ca-4e14-a340-60206c148221"
      },
      "execution_count": null,
      "outputs": [
        {
          "output_type": "stream",
          "name": "stdout",
          "text": [
            "input_dim:  35179 \n",
            "output_dim:  64 \n",
            "input_length:  104 \n",
            "n_tags:  17\n"
          ]
        }
      ]
    },
    {
      "cell_type": "code",
      "source": [
        "def get_bilstm_lstm_model():\n",
        "    model = Sequential()\n",
        "\n",
        "    # Add Embedding layer\n",
        "    model.add(Embedding(input_dim=input_dim, output_dim=output_dim, input_length=input_length))\n",
        "\n",
        "    # Add bidirectional LSTM\n",
        "    model.add(Bidirectional(LSTM(units=output_dim, return_sequences=True, dropout=0.2, recurrent_dropout=0.2), merge_mode = 'concat'))\n",
        "\n",
        "    # Add LSTM\n",
        "    model.add(LSTM(units=output_dim, return_sequences=True, dropout=0.5, recurrent_dropout=0.5))\n",
        "\n",
        "    # Add timeDistributed Layer\n",
        "    model.add(TimeDistributed(Dense(n_tags, activation=\"relu\")))\n",
        "\n",
        "    #Optimiser \n",
        "    # adam = k.optimizers.Adam(lr=0.0005, beta_1=0.9, beta_2=0.999)\n",
        "\n",
        "    # Compile model\n",
        "    model.compile(loss='categorical_crossentropy', optimizer='adam', metrics=['accuracy'])\n",
        "    model.summary()\n",
        "    \n",
        "    return model"
      ],
      "metadata": {
        "id": "jvPFKiQ6ADyG"
      },
      "execution_count": null,
      "outputs": []
    },
    {
      "cell_type": "code",
      "source": [
        "def train_model(X, y, model):\n",
        "    loss = list()\n",
        "    for i in range(25):\n",
        "        # fit model for one epoch on this sequence\n",
        "        hist = model.fit(X, y, batch_size=1000, verbose=1, epochs=1, validation_split=0.2)\n",
        "        loss.append(hist.history['loss'][0])\n",
        "    return loss"
      ],
      "metadata": {
        "id": "d8jFaQDkAJYm"
      },
      "execution_count": null,
      "outputs": []
    },
    {
      "cell_type": "code",
      "source": [
        "results = pd.DataFrame()\n",
        "model_bilstm_lstm = get_bilstm_lstm_model()\n",
        "plot_model(model_bilstm_lstm)\n",
        "results['with_add_lstm'] = train_model(train_tokens, np.array(train_tags), model_bilstm_lstm)"
      ],
      "metadata": {
        "colab": {
          "base_uri": "https://localhost:8080/"
        },
        "id": "6l4s1oGTANEp",
        "outputId": "1dda8bd7-d78c-4dce-e6ab-46492c1ef992"
      },
      "execution_count": null,
      "outputs": [
        {
          "output_type": "stream",
          "name": "stdout",
          "text": [
            "Model: \"sequential\"\n",
            "_________________________________________________________________\n",
            " Layer (type)                Output Shape              Param #   \n",
            "=================================================================\n",
            " embedding (Embedding)       (None, 104, 64)           2251456   \n",
            "                                                                 \n",
            " bidirectional (Bidirectiona  (None, 104, 128)         66048     \n",
            " l)                                                              \n",
            "                                                                 \n",
            " lstm_1 (LSTM)               (None, 104, 64)           49408     \n",
            "                                                                 \n",
            " time_distributed (TimeDistr  (None, 104, 17)          1105      \n",
            " ibuted)                                                         \n",
            "                                                                 \n",
            "=================================================================\n",
            "Total params: 2,368,017\n",
            "Trainable params: 2,368,017\n",
            "Non-trainable params: 0\n",
            "_________________________________________________________________\n",
            "26/26 [==============================] - 165s 6s/step - loss: 1.0188 - accuracy: 0.9134 - val_loss: 0.3247 - val_accuracy: 0.9681\n",
            "26/26 [==============================] - 149s 6s/step - loss: 0.3021 - accuracy: 0.9677 - val_loss: 0.2692 - val_accuracy: 0.9681\n",
            "26/26 [==============================] - 148s 6s/step - loss: 0.2666 - accuracy: 0.9677 - val_loss: 0.2307 - val_accuracy: 0.9681\n",
            "26/26 [==============================] - 145s 6s/step - loss: 0.2489 - accuracy: 0.9677 - val_loss: 0.2238 - val_accuracy: 0.9681\n",
            "26/26 [==============================] - 158s 6s/step - loss: 0.2229 - accuracy: 0.9677 - val_loss: 0.2039 - val_accuracy: 0.9681\n",
            "26/26 [==============================] - 145s 6s/step - loss: 0.1873 - accuracy: 0.9677 - val_loss: 0.1523 - val_accuracy: 0.9681\n",
            "26/26 [==============================] - 145s 6s/step - loss: 0.1638 - accuracy: 0.9677 - val_loss: 0.1574 - val_accuracy: 0.9681\n",
            "26/26 [==============================] - 144s 6s/step - loss: 0.1549 - accuracy: 0.9678 - val_loss: 0.1593 - val_accuracy: 0.9681\n",
            "26/26 [==============================] - 145s 6s/step - loss: 0.1502 - accuracy: 0.9678 - val_loss: 0.1436 - val_accuracy: 0.9681\n",
            "26/26 [==============================] - 145s 6s/step - loss: 0.1378 - accuracy: 0.9678 - val_loss: 0.1352 - val_accuracy: 0.9681\n",
            "26/26 [==============================] - 146s 6s/step - loss: 0.1314 - accuracy: 0.9678 - val_loss: 0.1338 - val_accuracy: 0.9681\n",
            "26/26 [==============================] - 145s 6s/step - loss: 0.1304 - accuracy: 0.9678 - val_loss: 0.1282 - val_accuracy: 0.9681\n",
            "26/26 [==============================] - 146s 6s/step - loss: 0.1238 - accuracy: 0.9678 - val_loss: 0.1293 - val_accuracy: 0.9681\n",
            "26/26 [==============================] - 145s 6s/step - loss: 0.1223 - accuracy: 0.9678 - val_loss: 0.1292 - val_accuracy: 0.9682\n",
            "26/26 [==============================] - 145s 6s/step - loss: 0.1232 - accuracy: 0.9679 - val_loss: 0.1273 - val_accuracy: 0.9683\n",
            "26/26 [==============================] - 146s 6s/step - loss: 0.1150 - accuracy: 0.9681 - val_loss: 0.1244 - val_accuracy: 0.9683\n",
            "26/26 [==============================] - 145s 6s/step - loss: 0.1116 - accuracy: 0.9681 - val_loss: 0.1207 - val_accuracy: 0.9684\n",
            "26/26 [==============================] - 145s 6s/step - loss: 0.1075 - accuracy: 0.9682 - val_loss: 0.1098 - val_accuracy: 0.9688\n",
            "26/26 [==============================] - 144s 6s/step - loss: 0.0951 - accuracy: 0.9685 - val_loss: 0.1079 - val_accuracy: 0.9688\n",
            "26/26 [==============================] - 146s 6s/step - loss: 0.0899 - accuracy: 0.9686 - val_loss: 0.1040 - val_accuracy: 0.9690\n",
            "26/26 [==============================] - 145s 6s/step - loss: 0.0937 - accuracy: 0.9691 - val_loss: 0.1089 - val_accuracy: 0.9695\n",
            "26/26 [==============================] - 146s 6s/step - loss: 0.0888 - accuracy: 0.9689 - val_loss: 0.0987 - val_accuracy: 0.9693\n",
            "26/26 [==============================] - 145s 6s/step - loss: 0.0840 - accuracy: 0.9691 - val_loss: 0.1024 - val_accuracy: 0.9693\n",
            "26/26 [==============================] - 145s 6s/step - loss: 0.0944 - accuracy: 0.9694 - val_loss: 0.1135 - val_accuracy: 0.9694\n",
            "26/26 [==============================] - 146s 6s/step - loss: 0.1072 - accuracy: 0.9695 - val_loss: 0.1094 - val_accuracy: 0.9695\n"
          ]
        }
      ]
    },
    {
      "cell_type": "code",
      "source": [
        ""
      ],
      "metadata": {
        "id": "A98jkNspAQyN"
      },
      "execution_count": null,
      "outputs": []
    }
  ]
}